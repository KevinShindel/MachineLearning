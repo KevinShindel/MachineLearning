{
 "cells": [
  {
   "metadata": {
    "ExecuteTime": {
     "end_time": "2024-10-13T12:12:54.008429Z",
     "start_time": "2024-10-13T12:12:44.308156Z"
    }
   },
   "cell_type": "code",
   "source": [
    "# Importing the required libraries\n",
    "from src.utils import base_model_config, create_and_run_model, plot_graph\n",
    "from sklearn import preprocessing\n",
    "import pandas as pd\n",
    "import tensorflow as tf\n",
    "from tensorflow.keras.regularizers import l1, l2, l1_l2\n",
    "from sklearn.model_selection import RandomizedSearchCV\n",
    "from src.utils import create_model\n",
    "from scikeras.wrappers import KerasClassifier"
   ],
   "id": "d56aae2396b535ad",
   "outputs": [],
   "execution_count": 1
  },
  {
   "metadata": {
    "ExecuteTime": {
     "end_time": "2024-10-13T12:14:40.048180Z",
     "start_time": "2024-10-13T12:14:39.896401Z"
    }
   },
   "cell_type": "code",
   "source": [
    "## Acquire and process data\n",
    "\n",
    "def get_rca_data():\n",
    "    #Load the data file into a Pandas Dataframe\n",
    "    symptom_data = pd.read_csv(\"../dataset/root_cause_analysis.csv\")\n",
    "\n",
    "    label_encoder = preprocessing.LabelEncoder()\n",
    "    symptom_data['ROOT_CAUSE'] = label_encoder.fit_transform(\n",
    "                                    symptom_data['ROOT_CAUSE'])\n",
    "\n",
    "    #Convert Pandas DataFrame to a numpy vector\n",
    "    np_symptom = symptom_data.to_numpy().astype(float)\n",
    "\n",
    "    #Extract the feature variables (X)\n",
    "    X_data = np_symptom[:,1:8]\n",
    "\n",
    "    #Extract the target variable (Y), conver to one-hot-encoding\n",
    "    Y_data=np_symptom[:,8]\n",
    "    Y_data = tf.keras.utils.to_categorical(Y_data,3)\n",
    "\n",
    "    return X_data,Y_data"
   ],
   "id": "885e0feedb1c94cb",
   "outputs": [],
   "execution_count": 4
  },
  {
   "metadata": {},
   "cell_type": "code",
   "source": [
    "## Tuning layers in the network\n",
    "\n",
    "accuracy_measures = {}\n",
    "layer_list =[]\n",
    "for layer_count in range(1,6):\n",
    "    \n",
    "    #32 nodes in each layer\n",
    "    layer_list.append(32)\n",
    "    \n",
    "    model_config = base_model_config()\n",
    "    X,Y = get_rca_data()\n",
    "    \n",
    "    model_config[\"HIDDEN_NODES\"] = layer_list\n",
    "    model_name = \"Layers-\" + str(layer_count)\n",
    "    history=create_and_run_model(model_config,X,Y,model_name)\n",
    "    \n",
    "    accuracy_measures[model_name] = history.history[\"accuracy\"]\n",
    "    \n",
    "plot_graph(accuracy_measures,\"Accuracy vs Layers\")"
   ],
   "id": "fe7802b6449cdc68",
   "outputs": [],
   "execution_count": null
  },
  {
   "metadata": {},
   "cell_type": "code",
   "source": [
    "# tuning the number of nodes in the network\n",
    "accuracy_measures = {}\n",
    "\n",
    "node_increment=8\n",
    "\n",
    "for node_count in range(1,5):\n",
    "    \n",
    "    #have 2 hidden layers in the networks as selected above\n",
    "    layer_list =[]\n",
    "    for layer_count in range(2):\n",
    "        layer_list.append(node_count * node_increment)\n",
    "    \n",
    "    model_config = base_model_config()\n",
    "    X,Y = get_rca_data()\n",
    "    \n",
    "    model_config[\"HIDDEN_NODES\"] = layer_list\n",
    "    model_name = \"Nodes-\" + str(node_count * node_increment)\n",
    "    history=create_and_run_model(model_config,X,Y, model_name)\n",
    "    \n",
    "    accuracy_measures[model_name] = history.history[\"accuracy\"]\n",
    "\n",
    "plot_graph(accuracy_measures,\"Accuracy vs Nodes\")"
   ],
   "id": "5ca6127250c75aa3",
   "outputs": [],
   "execution_count": null
  },
  {
   "metadata": {},
   "cell_type": "markdown",
   "source": "## Tuning backpropagation",
   "id": "5eaaf547bf29ad01"
  },
  {
   "metadata": {},
   "cell_type": "code",
   "source": [
    "# use optimizers\n",
    "\n",
    "accuracy_measures = {}\n",
    "\n",
    "optimizer_list = ['sgd','rmsprop','adam','adagrad']\n",
    "for optimizer in optimizer_list:\n",
    "    \n",
    "    model_config = base_model_config()\n",
    "    X,Y = get_rca_data()\n",
    "    \n",
    "    model_config[\"OPTIMIZER\"] = optimizer\n",
    "    model_name = \"Optimizer-\" + optimizer\n",
    "    history=create_and_run_model(model_config,X,Y, model_name)\n",
    "    \n",
    "    accuracy_measures[model_name] = history.history[\"accuracy\"]\n",
    "    \n",
    "plot_graph(accuracy_measures,\"Accuracy vs Optimizers\")"
   ],
   "id": "e4a77ada47884ef1",
   "outputs": [],
   "execution_count": null
  },
  {
   "metadata": {},
   "cell_type": "code",
   "source": [
    "# tuning learning rate\n",
    "\n",
    "accuracy_measures = {}\n",
    "\n",
    "learning_rate_list = [0.001, 0.005,0.01,0.1,0.5]\n",
    "for learning_rate in learning_rate_list:\n",
    "    \n",
    "    model_config = base_model_config()\n",
    "    X,Y = get_rca_data()\n",
    "    \n",
    "    #Fix Optimizer to the one chosen above\n",
    "    model_config[\"OPTIMIZER\"]=\"rmsprop\"\n",
    "    model_config[\"LEARNING_RATE\"] = learning_rate\n",
    "    model_name=\"Learning-Rate-\" + str(learning_rate)\n",
    "    history=create_and_run_model(model_config,X,Y, model_name)\n",
    "    \n",
    "    #Using validation accuracy\n",
    "    accuracy_measures[model_name] = history.history[\"accuracy\"]\n",
    "    \n",
    "plot_graph(accuracy_measures,\"Accuracy vs Learning Rate\")"
   ],
   "id": "5be38ce3adf6ad9e",
   "outputs": [],
   "execution_count": null
  },
  {
   "metadata": {},
   "cell_type": "markdown",
   "source": "## Avoiding overfitting",
   "id": "5d5193ef791f1e1f"
  },
  {
   "metadata": {},
   "cell_type": "code",
   "source": [
    "# tuning regularizers\n",
    "accuracy_measures = {}\n",
    "\n",
    "regularizer_list = [l1(0.01), l2(0.01), l1_l2(l1=0.01, l2=0.01)]\n",
    "regularizer_names = ['l1', 'l2', 'l1_l2']\n",
    "for regularizer, reg_name in zip(regularizer_list, regularizer_names):\n",
    "    \n",
    "    model_config = base_model_config()\n",
    "    X,Y = get_rca_data()\n",
    "    \n",
    "    model_config[\"REGULARIZER\"] = regularizer\n",
    "    model_name = \"Regularizer-\" + str(reg_name)\n",
    "    history=create_and_run_model(model_config,X,Y, model_name)\n",
    "    \n",
    "    #Switch to validation accuracy\n",
    "    accuracy_measures[model_name] = history.history[\"val_accuracy\"]\n",
    "\n",
    "plot_graph(accuracy_measures,\"Validation Accuracy vs Regularizers\")"
   ],
   "id": "4a22b8cd050e6356",
   "outputs": [],
   "execution_count": null
  },
  {
   "metadata": {},
   "cell_type": "code",
   "source": [
    "# tuning dropout\n",
    "accuracy_measures = {}\n",
    "\n",
    "dropout_list = [0.0, 0.1, 0.2, 0.5]\n",
    "for dropout in dropout_list:\n",
    "    \n",
    "    model_config = base_model_config()\n",
    "    X,Y = get_rca_data()\n",
    "    \n",
    "    #Use the regularizer chosen above\n",
    "    model_config[\"REGULARIZER\"] = \"l2\"\n",
    "    model_config[\"DROPOUT_RATE\"] = dropout\n",
    "    model_name=\"Dropout-\" + str(dropout)\n",
    "    history=create_and_run_model(model_config,X,Y, model_name)\n",
    "    \n",
    "    #Using validation accuracy\n",
    "    accuracy_measures[model_name] = history.history[\"val_accuracy\"]\n",
    "    \n",
    "plot_graph(accuracy_measures,\"Validation Accuracy vs Dropout\")"
   ],
   "id": "a4758cd2c506586c",
   "outputs": [],
   "execution_count": null
  },
  {
   "metadata": {},
   "cell_type": "code",
   "source": [
    "## Building the final model\n",
    "# TODO: Double check optimal values for the model\n",
    "\n",
    "accuracy_measures = {}\n",
    "\n",
    "#Base Minimal Model\n",
    "model_config = base_model_config()\n",
    "model_config[\"HIDDEN_NODES\"] = [16]\n",
    "model_config[\"NORMALIZATION\"] = None\n",
    "model_config[\"OPTIMIZER\"] = \"rmsprop\"\n",
    "model_config[\"LEARNING_RATE\"] = 0.001\n",
    "model_config[\"REGULARIZER\"]=None\n",
    "model_config[\"DROPOUT_RATE\"] = 0.0\n",
    "\n",
    "X,Y = get_rca_data()\n",
    "\n",
    "model_name = \"Base-Model-\" + str(layer_count)\n",
    "\n",
    "history=create_and_run_model(model_config,X,Y,model_name)\n",
    "    \n",
    "accuracy_measures[model_name] = history.history[\"accuracy\"]\n",
    "\n",
    "\n",
    "#Adding all optimizations\n",
    "model_config = base_model_config()\n",
    "model_config[\"HIDDEN_NODES\"] = [32,32]\n",
    "model_config[\"NORMALIZATION\"] = \"batch\"\n",
    "model_config[\"OPTIMIZER\"] = \"rmsprop\"\n",
    "model_config[\"LEARNING_RATE\"] = 0.001\n",
    "model_config[\"REGULARIZER\"]=\"l2\"\n",
    "model_config[\"DROPOUT_RATE\"] = 0.2\n",
    "\n",
    "X,Y = get_rca_data()\n",
    "\n",
    "model_name = \"Optimized-Model-\" + str(layer_count)\n",
    "\n",
    "history=create_and_run_model(model_config,X,Y,model_name)\n",
    "    \n",
    "accuracy_measures[model_name] = history.history[\"accuracy\"]\n",
    "\n",
    "plot_graph(accuracy_measures,f\"Accuracy {model_name}\")"
   ],
   "id": "fe28c01f1b2c86ce",
   "outputs": [],
   "execution_count": null
  },
  {
   "metadata": {
    "ExecuteTime": {
     "end_time": "2024-10-13T12:15:17.966819Z",
     "start_time": "2024-10-13T12:14:44.343451Z"
    }
   },
   "cell_type": "code",
   "source": [
    "# Load data\n",
    "X, Y = get_rca_data()\n",
    "\n",
    "# Wrap the model using KerasClassifier\n",
    "pre_model = create_model(feature_numbers=X.shape[1], number_of_predicted_columns=Y.shape[1])\n",
    "model = KerasClassifier(model=pre_model, epochs=50, batch_size=32, verbose=0) # TODO: read documentation to understand the parameters\n",
    "\n",
    "# Define the parameter grid\n",
    "param_grid = {\n",
    "    'model__hidden_nodes': [[16], [32, 32], [64, 64]],\n",
    "    'model__optimizer': ['rmsprop', 'adam', 'sgd', 'adagrad'],\n",
    "    'model__learning_rate': [0.001, 0.005, 0.01],\n",
    "    'model__regularizer': [None, l1(0.01), l2(0.01), l1_l2(l1=0.01, l2=0.01)],\n",
    "    'model__dropout_rate': [0.0, 0.2, 0.5],\n",
    "    'model__normalization': [None, 'batch']\n",
    "}\n",
    "\n",
    "\n",
    "\n",
    "# Use RandomizedSearchCV to find the best parameters\n",
    "random_search = RandomizedSearchCV(estimator=model, param_distributions=param_grid, n_iter=10, cv=3, verbose=1, n_jobs=-1)\n",
    "random_search_result = random_search.fit(X, Y)\n",
    "\n",
    "# Print the best parameters and best score\n",
    "print(\"Best: %f using %s\" % (random_search_result.best_score_, random_search_result.best_params_))"
   ],
   "id": "2a1bdc169b581f8e",
   "outputs": [
    {
     "name": "stderr",
     "output_type": "stream",
     "text": [
      "C:\\Users\\Tymur_Hilfatullin\\Projects\\ML\\.venv\\Lib\\site-packages\\keras\\src\\saving\\saving_lib.py:713: UserWarning: Skipping variable loading for optimizer 'rmsprop', because it has 8 variables whereas the saved optimizer has 2 variables. \n",
      "  saveable.load_own_variables(weights_store.get(inner_path))\n"
     ]
    },
    {
     "name": "stdout",
     "output_type": "stream",
     "text": [
      "Fitting 3 folds for each of 10 candidates, totalling 30 fits\n"
     ]
    },
    {
     "ename": "ValueError",
     "evalue": "\nAll the 30 fits failed.\nIt is very likely that your model is misconfigured.\nYou can try to debug the error by setting error_score='raise'.\n\nBelow are more details about the failures:\n--------------------------------------------------------------------------------\n30 fits failed with the following error:\nTraceback (most recent call last):\n  File \"C:\\Users\\Tymur_Hilfatullin\\Projects\\ML\\.venv\\Lib\\site-packages\\sklearn\\model_selection\\_validation.py\", line 888, in _fit_and_score\n    estimator.fit(X_train, y_train, **fit_params)\n  File \"C:\\Users\\Tymur_Hilfatullin\\Projects\\ML\\.venv\\Lib\\site-packages\\scikeras\\wrappers.py\", line 1501, in fit\n    super().fit(X=X, y=y, sample_weight=sample_weight, **kwargs)\n  File \"C:\\Users\\Tymur_Hilfatullin\\Projects\\ML\\.venv\\Lib\\site-packages\\scikeras\\wrappers.py\", line 770, in fit\n    self._fit(\n  File \"C:\\Users\\Tymur_Hilfatullin\\Projects\\ML\\.venv\\Lib\\site-packages\\scikeras\\wrappers.py\", line 925, in _fit\n    X, y = self._initialize(X, y)\n           ^^^^^^^^^^^^^^^^^^^^^^\n  File \"C:\\Users\\Tymur_Hilfatullin\\Projects\\ML\\.venv\\Lib\\site-packages\\scikeras\\wrappers.py\", line 862, in _initialize\n    self.model_ = self._build_keras_model()\n                  ^^^^^^^^^^^^^^^^^^^^^^^^^\n  File \"C:\\Users\\Tymur_Hilfatullin\\Projects\\ML\\.venv\\Lib\\site-packages\\scikeras\\wrappers.py\", line 433, in _build_keras_model\n    model = final_build_fn(**build_params)\n            ^^^^^^^^^^^^^^^^^^^^^^^^^^^^^^\nTypeError: BaseWrapper._check_model_param.<locals>.final_build_fn() got an unexpected keyword argument 'regularizer'\n",
     "output_type": "error",
     "traceback": [
      "\u001B[1;31m---------------------------------------------------------------------------\u001B[0m",
      "\u001B[1;31mValueError\u001B[0m                                Traceback (most recent call last)",
      "Cell \u001B[1;32mIn[5], line 22\u001B[0m\n\u001B[0;32m     20\u001B[0m \u001B[38;5;66;03m# Use RandomizedSearchCV to find the best parameters\u001B[39;00m\n\u001B[0;32m     21\u001B[0m random_search \u001B[38;5;241m=\u001B[39m RandomizedSearchCV(estimator\u001B[38;5;241m=\u001B[39mmodel, param_distributions\u001B[38;5;241m=\u001B[39mparam_grid, n_iter\u001B[38;5;241m=\u001B[39m\u001B[38;5;241m10\u001B[39m, cv\u001B[38;5;241m=\u001B[39m\u001B[38;5;241m3\u001B[39m, verbose\u001B[38;5;241m=\u001B[39m\u001B[38;5;241m1\u001B[39m, n_jobs\u001B[38;5;241m=\u001B[39m\u001B[38;5;241m-\u001B[39m\u001B[38;5;241m1\u001B[39m)\n\u001B[1;32m---> 22\u001B[0m random_search_result \u001B[38;5;241m=\u001B[39m \u001B[43mrandom_search\u001B[49m\u001B[38;5;241;43m.\u001B[39;49m\u001B[43mfit\u001B[49m\u001B[43m(\u001B[49m\u001B[43mX\u001B[49m\u001B[43m,\u001B[49m\u001B[43m \u001B[49m\u001B[43mY\u001B[49m\u001B[43m)\u001B[49m\n\u001B[0;32m     24\u001B[0m \u001B[38;5;66;03m# Print the best parameters and best score\u001B[39;00m\n\u001B[0;32m     25\u001B[0m \u001B[38;5;28mprint\u001B[39m(\u001B[38;5;124m\"\u001B[39m\u001B[38;5;124mBest: \u001B[39m\u001B[38;5;132;01m%f\u001B[39;00m\u001B[38;5;124m using \u001B[39m\u001B[38;5;132;01m%s\u001B[39;00m\u001B[38;5;124m\"\u001B[39m \u001B[38;5;241m%\u001B[39m (random_search_result\u001B[38;5;241m.\u001B[39mbest_score_, random_search_result\u001B[38;5;241m.\u001B[39mbest_params_))\n",
      "File \u001B[1;32m~\\Projects\\ML\\.venv\\Lib\\site-packages\\sklearn\\base.py:1473\u001B[0m, in \u001B[0;36m_fit_context.<locals>.decorator.<locals>.wrapper\u001B[1;34m(estimator, *args, **kwargs)\u001B[0m\n\u001B[0;32m   1466\u001B[0m     estimator\u001B[38;5;241m.\u001B[39m_validate_params()\n\u001B[0;32m   1468\u001B[0m \u001B[38;5;28;01mwith\u001B[39;00m config_context(\n\u001B[0;32m   1469\u001B[0m     skip_parameter_validation\u001B[38;5;241m=\u001B[39m(\n\u001B[0;32m   1470\u001B[0m         prefer_skip_nested_validation \u001B[38;5;129;01mor\u001B[39;00m global_skip_validation\n\u001B[0;32m   1471\u001B[0m     )\n\u001B[0;32m   1472\u001B[0m ):\n\u001B[1;32m-> 1473\u001B[0m     \u001B[38;5;28;01mreturn\u001B[39;00m \u001B[43mfit_method\u001B[49m\u001B[43m(\u001B[49m\u001B[43mestimator\u001B[49m\u001B[43m,\u001B[49m\u001B[43m \u001B[49m\u001B[38;5;241;43m*\u001B[39;49m\u001B[43margs\u001B[49m\u001B[43m,\u001B[49m\u001B[43m \u001B[49m\u001B[38;5;241;43m*\u001B[39;49m\u001B[38;5;241;43m*\u001B[39;49m\u001B[43mkwargs\u001B[49m\u001B[43m)\u001B[49m\n",
      "File \u001B[1;32m~\\Projects\\ML\\.venv\\Lib\\site-packages\\sklearn\\model_selection\\_search.py:1019\u001B[0m, in \u001B[0;36mBaseSearchCV.fit\u001B[1;34m(self, X, y, **params)\u001B[0m\n\u001B[0;32m   1013\u001B[0m     results \u001B[38;5;241m=\u001B[39m \u001B[38;5;28mself\u001B[39m\u001B[38;5;241m.\u001B[39m_format_results(\n\u001B[0;32m   1014\u001B[0m         all_candidate_params, n_splits, all_out, all_more_results\n\u001B[0;32m   1015\u001B[0m     )\n\u001B[0;32m   1017\u001B[0m     \u001B[38;5;28;01mreturn\u001B[39;00m results\n\u001B[1;32m-> 1019\u001B[0m \u001B[38;5;28;43mself\u001B[39;49m\u001B[38;5;241;43m.\u001B[39;49m\u001B[43m_run_search\u001B[49m\u001B[43m(\u001B[49m\u001B[43mevaluate_candidates\u001B[49m\u001B[43m)\u001B[49m\n\u001B[0;32m   1021\u001B[0m \u001B[38;5;66;03m# multimetric is determined here because in the case of a callable\u001B[39;00m\n\u001B[0;32m   1022\u001B[0m \u001B[38;5;66;03m# self.scoring the return type is only known after calling\u001B[39;00m\n\u001B[0;32m   1023\u001B[0m first_test_score \u001B[38;5;241m=\u001B[39m all_out[\u001B[38;5;241m0\u001B[39m][\u001B[38;5;124m\"\u001B[39m\u001B[38;5;124mtest_scores\u001B[39m\u001B[38;5;124m\"\u001B[39m]\n",
      "File \u001B[1;32m~\\Projects\\ML\\.venv\\Lib\\site-packages\\sklearn\\model_selection\\_search.py:1960\u001B[0m, in \u001B[0;36mRandomizedSearchCV._run_search\u001B[1;34m(self, evaluate_candidates)\u001B[0m\n\u001B[0;32m   1958\u001B[0m \u001B[38;5;28;01mdef\u001B[39;00m \u001B[38;5;21m_run_search\u001B[39m(\u001B[38;5;28mself\u001B[39m, evaluate_candidates):\n\u001B[0;32m   1959\u001B[0m \u001B[38;5;250m    \u001B[39m\u001B[38;5;124;03m\"\"\"Search n_iter candidates from param_distributions\"\"\"\u001B[39;00m\n\u001B[1;32m-> 1960\u001B[0m     \u001B[43mevaluate_candidates\u001B[49m\u001B[43m(\u001B[49m\n\u001B[0;32m   1961\u001B[0m \u001B[43m        \u001B[49m\u001B[43mParameterSampler\u001B[49m\u001B[43m(\u001B[49m\n\u001B[0;32m   1962\u001B[0m \u001B[43m            \u001B[49m\u001B[38;5;28;43mself\u001B[39;49m\u001B[38;5;241;43m.\u001B[39;49m\u001B[43mparam_distributions\u001B[49m\u001B[43m,\u001B[49m\u001B[43m \u001B[49m\u001B[38;5;28;43mself\u001B[39;49m\u001B[38;5;241;43m.\u001B[39;49m\u001B[43mn_iter\u001B[49m\u001B[43m,\u001B[49m\u001B[43m \u001B[49m\u001B[43mrandom_state\u001B[49m\u001B[38;5;241;43m=\u001B[39;49m\u001B[38;5;28;43mself\u001B[39;49m\u001B[38;5;241;43m.\u001B[39;49m\u001B[43mrandom_state\u001B[49m\n\u001B[0;32m   1963\u001B[0m \u001B[43m        \u001B[49m\u001B[43m)\u001B[49m\n\u001B[0;32m   1964\u001B[0m \u001B[43m    \u001B[49m\u001B[43m)\u001B[49m\n",
      "File \u001B[1;32m~\\Projects\\ML\\.venv\\Lib\\site-packages\\sklearn\\model_selection\\_search.py:996\u001B[0m, in \u001B[0;36mBaseSearchCV.fit.<locals>.evaluate_candidates\u001B[1;34m(candidate_params, cv, more_results)\u001B[0m\n\u001B[0;32m    989\u001B[0m \u001B[38;5;28;01melif\u001B[39;00m \u001B[38;5;28mlen\u001B[39m(out) \u001B[38;5;241m!=\u001B[39m n_candidates \u001B[38;5;241m*\u001B[39m n_splits:\n\u001B[0;32m    990\u001B[0m     \u001B[38;5;28;01mraise\u001B[39;00m \u001B[38;5;167;01mValueError\u001B[39;00m(\n\u001B[0;32m    991\u001B[0m         \u001B[38;5;124m\"\u001B[39m\u001B[38;5;124mcv.split and cv.get_n_splits returned \u001B[39m\u001B[38;5;124m\"\u001B[39m\n\u001B[0;32m    992\u001B[0m         \u001B[38;5;124m\"\u001B[39m\u001B[38;5;124minconsistent results. Expected \u001B[39m\u001B[38;5;132;01m{}\u001B[39;00m\u001B[38;5;124m \u001B[39m\u001B[38;5;124m\"\u001B[39m\n\u001B[0;32m    993\u001B[0m         \u001B[38;5;124m\"\u001B[39m\u001B[38;5;124msplits, got \u001B[39m\u001B[38;5;132;01m{}\u001B[39;00m\u001B[38;5;124m\"\u001B[39m\u001B[38;5;241m.\u001B[39mformat(n_splits, \u001B[38;5;28mlen\u001B[39m(out) \u001B[38;5;241m/\u001B[39m\u001B[38;5;241m/\u001B[39m n_candidates)\n\u001B[0;32m    994\u001B[0m     )\n\u001B[1;32m--> 996\u001B[0m \u001B[43m_warn_or_raise_about_fit_failures\u001B[49m\u001B[43m(\u001B[49m\u001B[43mout\u001B[49m\u001B[43m,\u001B[49m\u001B[43m \u001B[49m\u001B[38;5;28;43mself\u001B[39;49m\u001B[38;5;241;43m.\u001B[39;49m\u001B[43merror_score\u001B[49m\u001B[43m)\u001B[49m\n\u001B[0;32m    998\u001B[0m \u001B[38;5;66;03m# For callable self.scoring, the return type is only know after\u001B[39;00m\n\u001B[0;32m    999\u001B[0m \u001B[38;5;66;03m# calling. If the return type is a dictionary, the error scores\u001B[39;00m\n\u001B[0;32m   1000\u001B[0m \u001B[38;5;66;03m# can now be inserted with the correct key. The type checking\u001B[39;00m\n\u001B[0;32m   1001\u001B[0m \u001B[38;5;66;03m# of out will be done in `_insert_error_scores`.\u001B[39;00m\n\u001B[0;32m   1002\u001B[0m \u001B[38;5;28;01mif\u001B[39;00m \u001B[38;5;28mcallable\u001B[39m(\u001B[38;5;28mself\u001B[39m\u001B[38;5;241m.\u001B[39mscoring):\n",
      "File \u001B[1;32m~\\Projects\\ML\\.venv\\Lib\\site-packages\\sklearn\\model_selection\\_validation.py:529\u001B[0m, in \u001B[0;36m_warn_or_raise_about_fit_failures\u001B[1;34m(results, error_score)\u001B[0m\n\u001B[0;32m    522\u001B[0m \u001B[38;5;28;01mif\u001B[39;00m num_failed_fits \u001B[38;5;241m==\u001B[39m num_fits:\n\u001B[0;32m    523\u001B[0m     all_fits_failed_message \u001B[38;5;241m=\u001B[39m (\n\u001B[0;32m    524\u001B[0m         \u001B[38;5;124mf\u001B[39m\u001B[38;5;124m\"\u001B[39m\u001B[38;5;130;01m\\n\u001B[39;00m\u001B[38;5;124mAll the \u001B[39m\u001B[38;5;132;01m{\u001B[39;00mnum_fits\u001B[38;5;132;01m}\u001B[39;00m\u001B[38;5;124m fits failed.\u001B[39m\u001B[38;5;130;01m\\n\u001B[39;00m\u001B[38;5;124m\"\u001B[39m\n\u001B[0;32m    525\u001B[0m         \u001B[38;5;124m\"\u001B[39m\u001B[38;5;124mIt is very likely that your model is misconfigured.\u001B[39m\u001B[38;5;130;01m\\n\u001B[39;00m\u001B[38;5;124m\"\u001B[39m\n\u001B[0;32m    526\u001B[0m         \u001B[38;5;124m\"\u001B[39m\u001B[38;5;124mYou can try to debug the error by setting error_score=\u001B[39m\u001B[38;5;124m'\u001B[39m\u001B[38;5;124mraise\u001B[39m\u001B[38;5;124m'\u001B[39m\u001B[38;5;124m.\u001B[39m\u001B[38;5;130;01m\\n\u001B[39;00m\u001B[38;5;130;01m\\n\u001B[39;00m\u001B[38;5;124m\"\u001B[39m\n\u001B[0;32m    527\u001B[0m         \u001B[38;5;124mf\u001B[39m\u001B[38;5;124m\"\u001B[39m\u001B[38;5;124mBelow are more details about the failures:\u001B[39m\u001B[38;5;130;01m\\n\u001B[39;00m\u001B[38;5;132;01m{\u001B[39;00mfit_errors_summary\u001B[38;5;132;01m}\u001B[39;00m\u001B[38;5;124m\"\u001B[39m\n\u001B[0;32m    528\u001B[0m     )\n\u001B[1;32m--> 529\u001B[0m     \u001B[38;5;28;01mraise\u001B[39;00m \u001B[38;5;167;01mValueError\u001B[39;00m(all_fits_failed_message)\n\u001B[0;32m    531\u001B[0m \u001B[38;5;28;01melse\u001B[39;00m:\n\u001B[0;32m    532\u001B[0m     some_fits_failed_message \u001B[38;5;241m=\u001B[39m (\n\u001B[0;32m    533\u001B[0m         \u001B[38;5;124mf\u001B[39m\u001B[38;5;124m\"\u001B[39m\u001B[38;5;130;01m\\n\u001B[39;00m\u001B[38;5;132;01m{\u001B[39;00mnum_failed_fits\u001B[38;5;132;01m}\u001B[39;00m\u001B[38;5;124m fits failed out of a total of \u001B[39m\u001B[38;5;132;01m{\u001B[39;00mnum_fits\u001B[38;5;132;01m}\u001B[39;00m\u001B[38;5;124m.\u001B[39m\u001B[38;5;130;01m\\n\u001B[39;00m\u001B[38;5;124m\"\u001B[39m\n\u001B[0;32m    534\u001B[0m         \u001B[38;5;124m\"\u001B[39m\u001B[38;5;124mThe score on these train-test partitions for these parameters\u001B[39m\u001B[38;5;124m\"\u001B[39m\n\u001B[1;32m   (...)\u001B[0m\n\u001B[0;32m    538\u001B[0m         \u001B[38;5;124mf\u001B[39m\u001B[38;5;124m\"\u001B[39m\u001B[38;5;124mBelow are more details about the failures:\u001B[39m\u001B[38;5;130;01m\\n\u001B[39;00m\u001B[38;5;132;01m{\u001B[39;00mfit_errors_summary\u001B[38;5;132;01m}\u001B[39;00m\u001B[38;5;124m\"\u001B[39m\n\u001B[0;32m    539\u001B[0m     )\n",
      "\u001B[1;31mValueError\u001B[0m: \nAll the 30 fits failed.\nIt is very likely that your model is misconfigured.\nYou can try to debug the error by setting error_score='raise'.\n\nBelow are more details about the failures:\n--------------------------------------------------------------------------------\n30 fits failed with the following error:\nTraceback (most recent call last):\n  File \"C:\\Users\\Tymur_Hilfatullin\\Projects\\ML\\.venv\\Lib\\site-packages\\sklearn\\model_selection\\_validation.py\", line 888, in _fit_and_score\n    estimator.fit(X_train, y_train, **fit_params)\n  File \"C:\\Users\\Tymur_Hilfatullin\\Projects\\ML\\.venv\\Lib\\site-packages\\scikeras\\wrappers.py\", line 1501, in fit\n    super().fit(X=X, y=y, sample_weight=sample_weight, **kwargs)\n  File \"C:\\Users\\Tymur_Hilfatullin\\Projects\\ML\\.venv\\Lib\\site-packages\\scikeras\\wrappers.py\", line 770, in fit\n    self._fit(\n  File \"C:\\Users\\Tymur_Hilfatullin\\Projects\\ML\\.venv\\Lib\\site-packages\\scikeras\\wrappers.py\", line 925, in _fit\n    X, y = self._initialize(X, y)\n           ^^^^^^^^^^^^^^^^^^^^^^\n  File \"C:\\Users\\Tymur_Hilfatullin\\Projects\\ML\\.venv\\Lib\\site-packages\\scikeras\\wrappers.py\", line 862, in _initialize\n    self.model_ = self._build_keras_model()\n                  ^^^^^^^^^^^^^^^^^^^^^^^^^\n  File \"C:\\Users\\Tymur_Hilfatullin\\Projects\\ML\\.venv\\Lib\\site-packages\\scikeras\\wrappers.py\", line 433, in _build_keras_model\n    model = final_build_fn(**build_params)\n            ^^^^^^^^^^^^^^^^^^^^^^^^^^^^^^\nTypeError: BaseWrapper._check_model_param.<locals>.final_build_fn() got an unexpected keyword argument 'regularizer'\n"
     ]
    }
   ],
   "execution_count": 5
  },
  {
   "metadata": {},
   "cell_type": "code",
   "source": [
    "# Train the default model\n",
    "default_model_config = base_model_config()\n",
    "X, Y = get_rca_data()\n",
    "default_model_name = \"Default-Model\"\n",
    "default_history = create_and_run_model(default_model_config, X, Y, default_model_name)\n",
    "\n",
    "# Train the optimized model\n",
    "optimized_model_config = base_model_config()\n",
    "optimized_model_config[\"HIDDEN_NODES\"] = [32, 32]\n",
    "optimized_model_config[\"NORMALIZATION\"] = \"batch\"\n",
    "optimized_model_config[\"OPTIMIZER\"] = \"rmsprop\"\n",
    "optimized_model_config[\"LEARNING_RATE\"] = 0.001\n",
    "optimized_model_config[\"REGULARIZER\"] = \"l2\"\n",
    "optimized_model_config[\"DROPOUT_RATE\"] = 0.2\n",
    "optimized_model_name = \"Optimized-Model\"\n",
    "optimized_history = random_search_result\n",
    "\n",
    "# Collect accuracy measures\n",
    "accuracy_measures = {\n",
    "    default_model_name: default_history.history[\"accuracy\"],\n",
    "    optimized_model_name: optimized_history.history[\"accuracy\"]\n",
    "}\n",
    "\n",
    "# Plot the accuracy measures\n",
    "plot_graph(accuracy_measures, \"Accuracy Comparison: Default vs Optimized Model\")"
   ],
   "id": "c2f8685249413d43",
   "outputs": [],
   "execution_count": null
  }
 ],
 "metadata": {
  "kernelspec": {
   "display_name": "Python 3",
   "language": "python",
   "name": "python3"
  },
  "language_info": {
   "codemirror_mode": {
    "name": "ipython",
    "version": 2
   },
   "file_extension": ".py",
   "mimetype": "text/x-python",
   "name": "python",
   "nbconvert_exporter": "python",
   "pygments_lexer": "ipython2",
   "version": "2.7.6"
  }
 },
 "nbformat": 4,
 "nbformat_minor": 5
}

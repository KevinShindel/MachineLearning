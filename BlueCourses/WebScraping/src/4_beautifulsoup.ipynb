{
 "cells": [
  {
   "cell_type": "markdown",
   "metadata": {},
   "source": [
    "In this notebook, we'll take Beautiful Soup for a spin to parse HTML. See https://www.crummy.com/software/BeautifulSoup/bs4/doc/ for the full docs.\n",
    "\n",
    "We assume you already have Beautiful Soup installed. If not, run this first (the `q` flag surpresses output to keep our output clean, the `U` flag updates an existing Beautiful Soup installation):"
   ]
  },
  {
   "cell_type": "code",
   "execution_count": 1,
   "metadata": {},
   "outputs": [],
   "source": [
    "!pip install -qU beautifulsoup4"
   ]
  },
  {
   "cell_type": "markdown",
   "metadata": {},
   "source": [
    "Next, we import Requests and Beautiful Soup."
   ]
  },
  {
   "cell_type": "code",
   "execution_count": 2,
   "metadata": {},
   "outputs": [],
   "source": [
    "import requests\n",
    "from bs4 import BeautifulSoup"
   ]
  },
  {
   "cell_type": "markdown",
   "metadata": {},
   "source": [
    "# Scraping the BlueCourses web site"
   ]
  },
  {
   "cell_type": "markdown",
   "metadata": {},
   "source": [
    "Let's start by scraping our course page. We'll try to fetch a list of courses and their respective links and description. Remember to open up https://www.bluecourses.com/ in your web browser to follow along with the developer tools."
   ]
  },
  {
   "cell_type": "code",
   "execution_count": 3,
   "metadata": {},
   "outputs": [],
   "source": [
    "url = 'https://www.bluecourses.com/'\n",
    "\n",
    "r = requests.get(url)\n",
    "html_contents = r.text\n",
    "\n",
    "# If you don't pass the second argument here, Beautiful Soup will attempt to pick a parser for you\n",
    "html_soup = BeautifulSoup(html_contents, 'html.parser')"
   ]
  },
  {
   "cell_type": "markdown",
   "metadata": {},
   "source": [
    "Now look around in your web browser for a bit. Note that we can start from `li` tags with the class `courses-listing-item`, so let's select on this."
   ]
  },
  {
   "cell_type": "code",
   "execution_count": 4,
   "metadata": {},
   "outputs": [
    {
     "data": {
      "text/plain": [
       "17"
      ]
     },
     "execution_count": 4,
     "metadata": {},
     "output_type": "execute_result"
    }
   ],
   "source": [
    "course_info_elements = html_soup.find_all(class_='courses-listing-item')\n",
    "len(course_info_elements)"
   ]
  },
  {
   "cell_type": "markdown",
   "metadata": {},
   "source": [
    "Looks like we're on the right way. Let's look at the first element in a bit more detail."
   ]
  },
  {
   "cell_type": "code",
   "execution_count": 5,
   "metadata": {},
   "outputs": [
    {
     "data": {
      "text/plain": [
       "bs4.element.Tag"
      ]
     },
     "execution_count": 5,
     "metadata": {},
     "output_type": "execute_result"
    }
   ],
   "source": [
    "# Type of the elements: Tag\n",
    "type(course_info_elements[0])"
   ]
  },
  {
   "cell_type": "code",
   "execution_count": 6,
   "metadata": {},
   "outputs": [
    {
     "data": {
      "text/plain": [
       "'li'"
      ]
     },
     "execution_count": 6,
     "metadata": {},
     "output_type": "execute_result"
    }
   ],
   "source": [
    "# Tag name of the element\n",
    "course_info_elements[0].name"
   ]
  },
  {
   "cell_type": "code",
   "execution_count": 7,
   "metadata": {},
   "outputs": [
    {
     "data": {
      "text/plain": [
       "['\\n',\n",
       " <article aria-label=\"Basic Credit Risk Modeling for Basel/IFRS 9 using R/Python/SAS\" class=\"course\" id=\"course-v1:bluecourses+BC1+September2019\" role=\"region\">\n",
       " <a href=\"/courses/course-v1:bluecourses+BC1+September2019/about\">\n",
       " <header class=\"course-image\">\n",
       " <div class=\"cover-image\">\n",
       " <img alt=\"Basic Credit Risk Modeling for Basel/IFRS 9 using R/Python/SAS BC1\" src=\"/asset-v1:bluecourses+BC1+September2019+type@asset+block@Ocean.jpg\"/>\n",
       " <div aria-hidden=\"true\" class=\"learn-more\">LEARN MORE</div>\n",
       " </div>\n",
       " </header>\n",
       " <div aria-hidden=\"true\" class=\"course-info row align-items-stretch mx-0\">\n",
       " <h2 class=\"course-name col col-12 px-0\">\n",
       " <span class=\"course-title my-1\">Basic Credit Risk Modeling for Basel/IFRS 9 using R/Python/SAS</span>\n",
       " </h2>\n",
       " <div class=\"course-description col col-12 mb-1\">In this course, students learn how to develop credit risk models in the context of the Basel and IFRS 9 guidelines</div>\n",
       " <div aria-hidden=\"true\" class=\"course-date localized_datetime col col-12 pb-2 align-self-end\" data-datetime=\"Aug 18, 2019\" data-format=\"shortDate\" data-string=\"Starts: {date}\">Starts: Aug 18, 2019</div>\n",
       " </div>\n",
       " <div class=\"sr\">\n",
       " <ul>\n",
       " <li>BC1</li>\n",
       " <li>Starts: <time class=\"localized_datetime\" data-datetime=\"Aug 18, 2019\" data-format=\"shortDate\" itemprop=\"startDate\"></time></li>\n",
       " </ul>\n",
       " </div>\n",
       " </a>\n",
       " </article>,\n",
       " '\\n']"
      ]
     },
     "execution_count": 7,
     "metadata": {},
     "output_type": "execute_result"
    }
   ],
   "source": [
    "# A list containing the tag's children (its direct descendants) as a list\n",
    "# Note that this can return text elements, as shown below\n",
    "course_info_elements[0].contents"
   ]
  },
  {
   "cell_type": "code",
   "execution_count": 8,
   "metadata": {},
   "outputs": [
    {
     "data": {
      "text/plain": [
       "'<li class=\"courses-listing-item\">\\n<article aria-label=\"Basic Credit Risk Modeling for Basel/IFRS 9 using R/Python/SAS\" class=\"course\" id=\"course-v1:bluecourses+BC1+September2019\" role=\"region\">\\n<a href=\"/courses/course-v1:bluecourses+BC1+September2019/about\">\\n<header class=\"course-image\">\\n<div class=\"cover-image\">\\n<img alt=\"Basic Credit Risk Modeling for Basel/IFRS 9 using R/Python/SAS BC1\" src=\"/asset-v1:bluecourses+BC1+September2019+type@asset+block@Ocean.jpg\"/>\\n<div aria-hidden=\"true\" class=\"learn-more\">LEARN MORE</div>\\n</div>\\n</header>\\n<div aria-hidden=\"true\" class=\"course-info row align-items-stretch mx-0\">\\n<h2 class=\"course-name col col-12 px-0\">\\n<span class=\"course-title my-1\">Basic Credit Risk Modeling for Basel/IFRS 9 using R/Python/SAS</span>\\n</h2>\\n<div class=\"course-description col col-12 mb-1\">In this course, students learn how to develop credit risk models in the context of the Basel and IFRS 9 guidelines</div>\\n<div aria-hidden=\"true\" class=\"course-date localized_datetime col col-12 pb-2 align-self-end\" data-datetime=\"Aug 18, 2019\" data-format=\"shortDate\" data-string=\"Starts: {date}\">Starts: Aug 18, 2019</div>\\n</div>\\n<div class=\"sr\">\\n<ul>\\n<li>BC1</li>\\n<li>Starts: <time class=\"localized_datetime\" data-datetime=\"Aug 18, 2019\" data-format=\"shortDate\" itemprop=\"startDate\"></time></li>\\n</ul>\\n</div>\\n</a>\\n</article>\\n</li>'"
      ]
     },
     "execution_count": 8,
     "metadata": {},
     "output_type": "execute_result"
    }
   ],
   "source": [
    "# Converting the Tag object shows the HTML markup\n",
    "str(course_info_elements[0])"
   ]
  },
  {
   "cell_type": "code",
   "execution_count": 9,
   "metadata": {},
   "outputs": [
    {
     "name": "stdout",
     "output_type": "stream",
     "text": [
      "\n",
      "\n",
      "\n",
      "\n",
      "\n",
      "\n",
      "LEARN MORE\n",
      "\n",
      "\n",
      "\n",
      "\n",
      "Basic Credit Risk Modeling for Basel/IFRS 9 using R/Python/SAS\n",
      "\n",
      "In this course, students learn how to develop credit risk models in the context of the Basel and IFRS 9 guidelines\n",
      "Starts: Aug 18, 2019\n",
      "\n",
      "\n",
      "\n",
      "BC1\n",
      "Starts: \n",
      "\n",
      "\n",
      "\n",
      "\n",
      "\n",
      "None\n"
     ]
    }
   ],
   "source": [
    "# Get the textual contents as clear text. Note the differences between text and string:\n",
    "print(course_info_elements[0].text)\n",
    "print(course_info_elements[0].string)"
   ]
  },
  {
   "cell_type": "code",
   "execution_count": 10,
   "metadata": {},
   "outputs": [
    {
     "data": {
      "text/plain": [
       "'LEARN MORE\\nBasic Credit Risk Modeling for Basel/IFRS 9 using R/Python/SAS\\nIn this course, students learn how to develop credit risk models in the context of the Basel and IFRS 9 guidelines\\nStarts: Aug 18, 2019\\nBC1\\nStarts:'"
      ]
     },
     "execution_count": 10,
     "metadata": {},
     "output_type": "execute_result"
    }
   ],
   "source": [
    "# Even better is to use get_text:\n",
    "course_info_elements[0].get_text('\\n', strip=True)"
   ]
  },
  {
   "cell_type": "code",
   "execution_count": 11,
   "metadata": {},
   "outputs": [
    {
     "data": {
      "text/plain": [
       "'LEARN MORE\\n\\n\\n\\n\\nBasic Credit Risk Modeling for Basel/IFRS 9 using R/Python/SAS\\n\\nIn this course, students learn how to develop credit risk models in the context of the Basel and IFRS 9 guidelines\\nStarts: Aug 18, 2019\\n\\n\\n\\nBC1\\nStarts:'"
      ]
     },
     "execution_count": 11,
     "metadata": {},
     "output_type": "execute_result"
    }
   ],
   "source": [
    "# But note that this is different from:\n",
    "course_info_elements[0].text.strip()"
   ]
  },
  {
   "cell_type": "markdown",
   "metadata": {},
   "source": [
    "Based on this, we can easily use `find` again on the tags to get out the details we want:"
   ]
  },
  {
   "cell_type": "code",
   "execution_count": 12,
   "metadata": {},
   "outputs": [
    {
     "name": "stdout",
     "output_type": "stream",
     "text": [
      "Basic Credit Risk Modeling for Basel/IFRS 9 using R/Python/SAS /courses/course-v1:bluecourses+BC1+September2019/about\n",
      "In this course, students learn how to develop credit risk models in the context of the Basel and IFRS 9 guidelines\n",
      "\n",
      "Advanced Credit Risk Modeling for Basel/IFRS 9 using R/Python/SAS /courses/course-v1:bluecourses+BC2+September2019/about\n",
      "In this course, students learn how to do advanced credit risk modeling.\n",
      "\n",
      "Machine Learning Essentials /courses/course-v1:bluecourses+BC3+October2019/about\n",
      "In this course, participants learn the essentials of machine learning.\n",
      "\n",
      "Fraud Analytics /courses/course-v1:bluecourses+BC4+December2019/about\n",
      "In this course, participants learn the essentials of fraud analytics.\n",
      "\n",
      "Social Network Analytics /courses/course-v1:bluecourses+BC5+2020/about\n",
      "In this course, participants learn the essentials of social network analytics.\n",
      "\n",
      "Recommender Systems /courses/course-v1:bluecourses+BC7+2020_Q1/about\n",
      "In this course, you will learn the essentials of recommender systems.\n",
      "\n",
      "Customer Lifetime Value Modeling /courses/course-v1:bluecourses+BC8+2020_Q2/about\n",
      "In this course, you learn the essentials of Customer Lifetime Value Modeling.\n",
      "\n",
      "Text Analytics /courses/course-v1:bluecourses+BC6+2019_Q4/about\n",
      "In this course, you learn the essentials of text analytics.\n",
      "\n",
      "Web Analytics /courses/course-v1:bluecourses+BC14+2020_Q2/about\n",
      "In this course, you learn the essentials of Web Analytics.\n",
      "\n",
      "Quantum Machine Learning /courses/course-v1:bluecourses+BC11+2020_Q4/about\n",
      "In this course, you learn the essentials of Quantum Machine Learning.\n",
      "\n",
      "Ethics and AI /courses/course-v1:bluecourses+BC9+2020_Q4/about\n",
      "In this course, you learn about  Ethics and AI.\n",
      "\n",
      "Sentiment Analysis /courses/course-v1:bluecourses+BC12+2020_Q2/about\n",
      "In this course, you learn the essentials of Sentiment Analysis.  It will go live by September 2020.\n",
      "\n",
      "Deep Learning Essentials /courses/course-v1:bluecourses+BC10+2020_Q4/about\n",
      "In this course, you learn about Deep Learning.\n",
      "\n",
      "Geospatial Analytics /courses/course-v1:bluecourses+BC13+2020_Q2/about\n",
      "In this course, you learn the essentials of Geospatial Analytics.  The course is expected to go live in September 2020.\n",
      "\n",
      "Business Process Analytics /courses/course-v1:bluecourses+BC15+2020_Q2/about\n",
      "In this course,  you learn the essentials of business process analytics.  It is expected to go live in September 2020.\n",
      "\n",
      "Introduction to Python for Data Science /courses/course-v1:bluecourses+BC16+2020_Q4/about\n",
      "This course introduces the basics of Python for Data Science.  It will go live in September 2020.\n",
      "\n",
      "Creating Machine Learning Apps in Python using Dash and Plotly /courses/course-v1:bluecourses+BC17+2020_Q3/about\n",
      "In this course, you learn how to create Machine Learning Apps in Python using Dash and Plotly.  It will go live in September 2020.\n",
      "\n"
     ]
    }
   ],
   "source": [
    "for course_info_element in course_info_elements:\n",
    "    course_name = course_info_element.find(class_='course-title').get_text(strip=True)\n",
    "    course_desc = course_info_element.find(class_='course-description').get_text(strip=True)\n",
    "    course_link = course_info_element.find('a').get('href')\n",
    "    print(course_name, course_link)\n",
    "    print(course_desc)\n",
    "    print()"
   ]
  },
  {
   "cell_type": "markdown",
   "metadata": {},
   "source": [
    "# Scraping Hacker News"
   ]
  },
  {
   "cell_type": "markdown",
   "metadata": {},
   "source": [
    "For this second example, let us scrape Hacker News (https://news.ycombinator.com/) -- we'll get the titles, links and points."
   ]
  },
  {
   "cell_type": "code",
   "execution_count": 13,
   "metadata": {},
   "outputs": [],
   "source": [
    "url = 'https://news.ycombinator.com/'\n",
    "\n",
    "r = requests.get(url)\n",
    "html_contents = r.text\n",
    "\n",
    "html_soup = BeautifulSoup(html_contents, 'html.parser')"
   ]
  },
  {
   "cell_type": "markdown",
   "metadata": {},
   "source": [
    "Again, make sure to confirm in your browser how we construct our selections here."
   ]
  },
  {
   "cell_type": "code",
   "execution_count": 14,
   "metadata": {},
   "outputs": [
    {
     "name": "stdout",
     "output_type": "stream",
     "text": [
      "Monitoring demystified: A guide for logging, tracing, metrics https://techbeacon.com/enterprise-it/monitoring-demystified-guide-logging-tracing-metrics 110 points\n",
      "\n",
      "Australia to make Facebook, Google pay for news in world first https://www.reuters.com/article/us-australia-media-regulator/australia-to-make-facebook-google-pay-for-news-in-world-first-idUSKCN24V3UP 163 points\n",
      "\n",
      "Google Earth Timelapse https://earthengine.google.com/timelapse/ 234 points\n",
      "\n",
      "YouTube: Community contributions will be discontinued across all channels https://support.google.com/youtube/answer/6052538 192 points\n",
      "\n",
      "Show HN: A bookmarking tool designed to help synthesize your web research https://klobie.com 147 points\n",
      "\n",
      "Reverse Engineering the PLA Chip in the Commodore 128 https://c128.se/posts/silicon-adventures/ 113 points\n",
      "\n",
      "Philosophers on GPT-3 http://dailynous.com/2020/07/30/philosophers-gpt-3/ 211 points\n",
      "\n",
      "Chronic mania and persistent euphoric states https://srconstantin.github.io/2020/07/29/chronic-mania.html 72 points\n",
      "\n",
      "Why Are Plants Green? To Reduce the Noise in Photosynthesis https://www.quantamagazine.org/why-are-plants-green-to-reduce-the-noise-in-photosynthesis-20200730/ 116 points\n",
      "\n",
      "Five Buck Fatigue https://underjord.io/five-buck-fatigue.html 157 points\n",
      "\n",
      "How I wrote, crowdfunded, and independently published a book https://www.blakeboles.com/2020/07/book-story/ 178 points\n",
      "\n",
      "ZSA Moonlander: A next-generation ergonomic keyboard https://zsa.io/moonlander 13 points\n",
      "\n",
      "An update on our security incident https://blog.twitter.com/en_us/topics/company/2020/an-update-on-our-security-incident.html 161 points\n",
      "\n",
      "A College Degree Is No Guarantee of a Good Life https://www.theatlantic.com/family/archive/2020/07/will-going-college-make-you-happier/613729/ 10 points\n",
      "\n",
      "Comments on optimizations around string concatenation https://gist.github.com/llllllllll/7ad5905275233f1fb3868f4a67793616 11 points\n",
      "\n",
      "Show HN: Deck for Reddit – A Reddit client optimized for desktop https://rdddeck.com 87 points\n",
      "\n",
      "What4: A library to help build verification and program analysis tools https://galois.com/blog/2020/07/what4-new-library-to-help-devs-build-verification-program-tools/ 34 points\n",
      "\n",
      "CurveBoards: Integrating Breadboards into Physical Objects https://hcie.csail.mit.edu/research/curveboard/curveboard.html 54 points\n",
      "\n",
      "M2OS: A Small and Lightweight Ada RTOS for Microcontrollers https://m2os.unican.es/ 89 points\n",
      "\n",
      "The Pandemic-Era Appeal of Labyrinths https://www.bloomberg.com/news/articles/2020-07-29/the-pandemic-era-appeal-of-labyrinths 24 points\n",
      "\n",
      "Launch HN: BaseDash (YC S20) – Edit your database with the ease of a spreadsheet item?id=23999124 148 points\n",
      "\n",
      "Ten modern layouts in one line of CSS https://web.dev/one-line-layouts/ 89 points\n",
      "\n",
      "Seven Sets Venn Diagram http://moebio.com/research/sevensets/ 89 points\n",
      "\n",
      "A Closer Look at the Super NES Doom Source Code Release [video] https://www.youtube.com/watch?v=JqP3ZzWiul0 72 points\n",
      "\n",
      "What Is the PCI of Bank Payments? https://www.moderntreasury.com/journal/what-is-the-pci-of-bank-payments 91 points\n",
      "\n",
      "Sandboxing and workload isolation https://fly.io/blog/sandboxing-and-workload-isolation/ 148 points\n",
      "\n",
      "How Best Buy saved itself (2019) https://www.inc.com/justin-bariso/amazon-almost-killed-best-buy-then-best-buy-did-something-completely-brilliant.html 212 points\n",
      "\n",
      "Opera GX Gaming Browser https://www.opera.com/lp/gx-light 48 points\n",
      "\n",
      "Migrating Dropbox from Nginx to Envoy https://dropbox.tech/infrastructure/how-we-migrated-dropbox-from-nginx-to-envoy 320 points\n",
      "\n",
      "Argos to stop printing catalogue after almost 50 years https://www.theguardian.com/business/2020/jul/30/argos-to-stop-printing-catalogue-after-almost-50-years 87 points\n",
      "\n"
     ]
    }
   ],
   "source": [
    "for post in html_soup.find_all('tr', class_='athing'):\n",
    "    post_title_element = post.find('a', class_='storylink')\n",
    "    post_title = post_title_element.get_text(strip=True)\n",
    "    post_link = post_title_element.get('href')\n",
    "    post_points = post.find_next(class_='score').get_text(strip=True)\n",
    "    print(post_title, post_link, post_points)\n",
    "    print()"
   ]
  },
  {
   "cell_type": "markdown",
   "metadata": {},
   "source": [
    "# The JavaScript problem"
   ]
  },
  {
   "cell_type": "markdown",
   "metadata": {},
   "source": [
    "Now take a look at http://www.webscrapingfordatascience.com/simplejavascript/. Based on inspecting this site in your browser, you might try the following:"
   ]
  },
  {
   "cell_type": "code",
   "execution_count": 15,
   "metadata": {},
   "outputs": [],
   "source": [
    "url = 'http://www.webscrapingfordatascience.com/simplejavascript/'\n",
    "\n",
    "r = requests.get(url)\n",
    "html_contents = r.text\n",
    "\n",
    "html_soup = BeautifulSoup(html_contents, 'html.parser')\n",
    "\n",
    "for item in html_soup.find_all('li'):\n",
    "    print(item)"
   ]
  },
  {
   "cell_type": "markdown",
   "metadata": {},
   "source": [
    "Nothing happens... We will see why this is the case."
   ]
  },
  {
   "cell_type": "code",
   "execution_count": 16,
   "metadata": {},
   "outputs": [
    {
     "name": "stdout",
     "output_type": "stream",
     "text": [
      "<html>\n",
      "\n",
      "<head>\n",
      "\t<script src=\"https://code.jquery.com/jquery-3.2.1.min.js\"></script>\n",
      "\t<script>\n",
      "\t$(function() {\n",
      "\tdocument.cookie = \"jsenabled=1\";\n",
      "\t$.getJSON(\"quotes.php\", function(data) {\n",
      "\t\tvar items = [];\n",
      "\t\t$.each(data, function(key, val) {\n",
      "\t\t\titems.push(\"<li id='\" + key + \"'>\" + val + \"</li>\");\n",
      "\t\t});\n",
      "\t\t$(\"<ul/>\", {\n",
      "\t\t\thtml: items.join(\"\")\n",
      "\t\t\t}).appendTo(\"body\");\n",
      "\t\t});\n",
      "\t});\n",
      "\t</script>\n",
      "</head>\n",
      "\n",
      "<body>\n",
      "\n",
      "<h1>Here are some quotes</h1>\n",
      "\n",
      "</body>\n",
      "\n",
      "</html>\n",
      "\n"
     ]
    }
   ],
   "source": [
    "print(html_contents)"
   ]
  },
  {
   "cell_type": "code",
   "execution_count": null,
   "metadata": {},
   "outputs": [],
   "source": []
  }
 ],
 "metadata": {
  "kernelspec": {
   "display_name": "Python 3",
   "language": "python",
   "name": "python3"
  },
  "language_info": {
   "codemirror_mode": {
    "name": "ipython",
    "version": 3
   },
   "file_extension": ".py",
   "mimetype": "text/x-python",
   "name": "python",
   "nbconvert_exporter": "python",
   "pygments_lexer": "ipython3",
   "version": "3.8.3"
  }
 },
 "nbformat": 4,
 "nbformat_minor": 4
}

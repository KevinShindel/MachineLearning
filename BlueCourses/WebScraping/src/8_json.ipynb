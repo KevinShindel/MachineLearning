{
 "cells": [
  {
   "cell_type": "markdown",
   "metadata": {},
   "source": [
    "In this notebook, we illustrate how you can work with JSON APIs using Requests. Here, we will get the list of post on the world news subreddit, https://www.reddit.com/r/worldnews/. Reddit provides a handy JSON API simply by appending `.json` to the URL."
   ]
  },
  {
   "cell_type": "code",
   "execution_count": 1,
   "metadata": {},
   "outputs": [],
   "source": [
    "import requests"
   ]
  },
  {
   "cell_type": "code",
   "execution_count": 2,
   "metadata": {},
   "outputs": [],
   "source": [
    "r = requests.get('https://www.reddit.com/r/worldnews/.json')"
   ]
  },
  {
   "cell_type": "code",
   "execution_count": 3,
   "metadata": {},
   "outputs": [
    {
     "data": {
      "text/plain": [
       "'{\"message\": \"Too Many Requests\", \"error\": 429}'"
      ]
     },
     "execution_count": 3,
     "metadata": {},
     "output_type": "execute_result"
    }
   ],
   "source": [
    "r.text"
   ]
  },
  {
   "cell_type": "markdown",
   "metadata": {},
   "source": [
    "Reddit doesn't like the Requests user-agent, however..."
   ]
  },
  {
   "cell_type": "code",
   "execution_count": 4,
   "metadata": {},
   "outputs": [],
   "source": [
    "r = requests.get('https://www.reddit.com/r/worldnews/.json', headers={\n",
    "    'User-Agent': \n",
    "    'Mozilla/5.0 (Windows NT 10.0; Win64; x64) AppleWebKit/537.36 (KHTML, like Gecko) Chrome/84.0.4147.89 Safari/537.36'\n",
    "})"
   ]
  },
  {
   "cell_type": "code",
   "execution_count": 5,
   "metadata": {},
   "outputs": [
    {
     "data": {
      "text/plain": [
       "'{\"kind\": \"Listing\", \"data\": {\"modhash\": \"\", \"dist\": 25, \"children\": [{\"kind\": \"t3\", \"data\": {\"approved_at_utc\": null, \"subreddit\": \"worldnews\", \"selftext\": \"\", \"author_fullname\": \"t2_612zd\", \"saved\": '"
      ]
     },
     "execution_count": 5,
     "metadata": {},
     "output_type": "execute_result"
    }
   ],
   "source": [
    "r.text[:200]"
   ]
  },
  {
   "cell_type": "markdown",
   "metadata": {},
   "source": [
    "We could parse this manually, but Requests allows to simply do the following:"
   ]
  },
  {
   "cell_type": "code",
   "execution_count": 6,
   "metadata": {},
   "outputs": [],
   "source": [
    "j = r.json()"
   ]
  },
  {
   "cell_type": "code",
   "execution_count": 7,
   "metadata": {},
   "outputs": [
    {
     "name": "stdout",
     "output_type": "stream",
     "text": [
      "Uighur group calls for China to lose 2022 Games over 'genocide'\n",
      "COVID-19: Canada toughens border rules for Americans driving to Alaska\n",
      "Children under five carry 10-100 higher levels of coronavirus in their noses: Study\n",
      "Michelle Bolsonaro, Brazil's First Lady, Tests Positive For Coronavirus\n",
      "Ghislane Maxwell had sex with girls as young as 15, court documents claim\n",
      "Border officials crack down on Americans travelling through B.C. to Alaska\n",
      "Chinese-backed hackers targeted COVID-19 vaccine firm Moderna\n",
      "Polish Towns That Declared Themselves ‘L.G.B.T. Free’ Are Denied E.U. Funds\n",
      "'Deadly Consequences' of Zuckerberg's Decision to 'Profit From Hate' Have Not Been Addressed, Critics Say\n",
      "One in four positive Victorian COVID-19 cases not at home when authorities came knocking\n",
      "Taiwan ruling party urges China to stop 'oppression' of Hong Kong\n",
      "Egypt imprisons female TikTok influencers: A court in Cairo has sentenced six young female bloggers to prison for up to two years — not for political offenses, but for violating \"public morals.\" Activists have called the ruling an \"outrageous attack on civil liberties.\"\n",
      "Belarus says it's arrested Russian mercenaries, as rift grows between strongmen Putin and Lukashenko - Authorities in Belarus have announced the arrest of 33 Russian mercenaries on suspicion of terrorism, accused of trying \"to destabilize\" the country ahead of August's presidential election\n",
      "Chile picks Japan's trans-Pacific cable route in snub to China\n",
      "Hackers post fake stories on real news sites 'to discredit Nato'\n",
      "Hong Kong bans 11 pro-democracy figures from legislative election | Hong Kong Free Press HKFP\n",
      "'Our Obligation Is to Defend Democracy': Bolivians Join Mass Marches Against Election Delay by Right-Wing Coup Government\n",
      "The 3 women who have brought COVID into Queensland have been charged with falsifying documents and fraud\n",
      "UK KFC admits a third of its chickens suffer painful inflammation - Fast food giant KFC has laid bare the realities of chicken production after admitting to poor welfare conditions among its suppliers.\n",
      "New Study Suggests Younger Kids Might Be Greater COVID-19 Carriers\n",
      "Use of plastic bags in England drops by 59% in a year\n",
      "Australia to make Facebook, Google pay for news in world first\n",
      "Belarus Says Russian Mercenaries Planned to Disrupt August Election: State media says 33 Russian fighters have been arrested in Belarus, dramatically escalating a feud between longtime allies.\n",
      "Belarus Suspected Men of Being Russian Mercenaries Because 'They Did Not Drink Alcohol'\n",
      "US national shot dead in Pakistan courtroom during blasphemy trial\n"
     ]
    }
   ],
   "source": [
    "for post in j['data']['children']:\n",
    "    print(post['data'].get('title'))"
   ]
  },
  {
   "cell_type": "code",
   "execution_count": null,
   "metadata": {},
   "outputs": [],
   "source": []
  }
 ],
 "metadata": {
  "kernelspec": {
   "display_name": "Python 3",
   "language": "python",
   "name": "python3"
  },
  "language_info": {
   "codemirror_mode": {
    "name": "ipython",
    "version": 3
   },
   "file_extension": ".py",
   "mimetype": "text/x-python",
   "name": "python",
   "nbconvert_exporter": "python",
   "pygments_lexer": "ipython3",
   "version": "3.8.3"
  }
 },
 "nbformat": 4,
 "nbformat_minor": 4
}

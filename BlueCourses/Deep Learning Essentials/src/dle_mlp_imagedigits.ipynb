{
 "nbformat": 4,
 "nbformat_minor": 0,
 "metadata": {
  "colab": {
   "name": "dle_mlp_imagedigits.ipynb",
   "provenance": [],
   "collapsed_sections": [],
   "authorship_tag": "ABX9TyOySmCsgo98fIKHS/s69cEu"
  },
  "kernelspec": {
   "name": "python3",
   "display_name": "Python 3"
  }
 },
 "cells": [
  {
   "cell_type": "markdown",
   "metadata": {
    "id": "6XqmaGK6pcHf",
    "colab_type": "text"
   },
   "source": [
    "In this notebook, we're going to train a simple MLP to predict handwritten digits using the well known [MNIST dataset](http://yann.lecun.com/exdb/mnist/) (which is handily provided by Keras itself)."
   ]
  },
  {
   "cell_type": "code",
   "metadata": {
    "id": "o_ueOaREO4B3",
    "colab_type": "code",
    "colab": {}
   },
   "source": [
    "from keras import Sequential\n",
    "from keras.src.datasets import mnist\n",
    "from keras.src.utils import to_categorical\n",
    "%tensorflow_version 2.x\n",
    "\n",
    "from tensorflow.keras.layers import Dense, Flatten\n",
    "import numpy as np\n",
    "from matplotlib import pyplot as plt\n",
    "import matplotlib.gridspec as gridspec"
   ],
   "execution_count": null,
   "outputs": []
  },
  {
   "cell_type": "code",
   "metadata": {
    "id": "xriNyLksPPUO",
    "colab_type": "code",
    "colab": {
     "base_uri": "https://localhost:8080/",
     "height": 69
    },
    "executionInfo": {
     "status": "ok",
     "timestamp": 1595329111870,
     "user_tz": -120,
     "elapsed": 3559,
     "user": {
      "displayName": "Seppe vanden Broucke",
      "photoUrl": "https://lh3.googleusercontent.com/a-/AOh14GiMpesh_oeuo7Fc2WsgK89OJRIeyn_p5F2LV-ineDc=s64",
      "userId": "09380512084218149317"
     }
    },
    "outputId": "5c0350cd-7558-44f6-dc40-9777db930277"
   },
   "source": [
    "(X_train, y_train), (X_test, y_test) = mnist.load_data()\n",
    "print(X_train.shape)"
   ],
   "execution_count": null,
   "outputs": [
    {
     "output_type": "stream",
     "text": [
      "Downloading data from https://storage.googleapis.com/tensorflow/tf-keras-datasets/mnist.npz\n",
      "11493376/11490434 [==============================] - 0s 0us/step\n",
      "(60000, 28, 28)\n"
     ],
     "name": "stdout"
    }
   ]
  },
  {
   "cell_type": "markdown",
   "metadata": {
    "id": "MJpkVFwfpt4_",
    "colab_type": "text"
   },
   "source": [
    "As you can see, we have 60000 train instances with a size of 28x28 pixels. Let's show one of them:"
   ]
  },
  {
   "cell_type": "code",
   "metadata": {
    "id": "ykFRiXasPzAd",
    "colab_type": "code",
    "colab": {
     "base_uri": "https://localhost:8080/",
     "height": 282
    },
    "executionInfo": {
     "status": "ok",
     "timestamp": 1595329121444,
     "user_tz": -120,
     "elapsed": 1419,
     "user": {
      "displayName": "Seppe vanden Broucke",
      "photoUrl": "https://lh3.googleusercontent.com/a-/AOh14GiMpesh_oeuo7Fc2WsgK89OJRIeyn_p5F2LV-ineDc=s64",
      "userId": "09380512084218149317"
     }
    },
    "outputId": "4bc2fb9f-c2dd-4f49-ccda-614cd5ab5528"
   },
   "source": [
    "plt.imshow(X_train[0], cmap='gray')\n",
    "plt.show()\n",
    "print('Label =', y_train[0])"
   ],
   "execution_count": null,
   "outputs": [
    {
     "output_type": "display_data",
     "data": {
      "image/png": "[encoded data removed]",
      "text/plain": [
       "<Figure size 432x288 with 1 Axes>"
      ]
     },
     "metadata": {
      "tags": [],
      "needs_background": "light"
     }
    },
    {
     "output_type": "stream",
     "text": [
      "Label = 5\n"
     ],
     "name": "stdout"
    }
   ]
  },
  {
   "cell_type": "markdown",
   "metadata": {
    "id": "aXXdHSS0p6oU",
    "colab_type": "text"
   },
   "source": [
    "Before we get to modeling, we perform a basic preprocessing step: we divide each value by 255 to make sure all values fall between 0 and 1."
   ]
  },
  {
   "cell_type": "code",
   "metadata": {
    "id": "1tODm4l1P0ed",
    "colab_type": "code",
    "colab": {
     "base_uri": "https://localhost:8080/",
     "height": 51
    },
    "executionInfo": {
     "status": "ok",
     "timestamp": 1595329153484,
     "user_tz": -120,
     "elapsed": 954,
     "user": {
      "displayName": "Seppe vanden Broucke",
      "photoUrl": "https://lh3.googleusercontent.com/a-/AOh14GiMpesh_oeuo7Fc2WsgK89OJRIeyn_p5F2LV-ineDc=s64",
      "userId": "09380512084218149317"
     }
    },
    "outputId": "6c0f6201-ae16-4529-c6b7-e7af970d29b5"
   },
   "source": [
    "X_train = X_train.astype('float32')\n",
    "X_test  = X_test.astype('float32')\n",
    "\n",
    "X_train /= 255\n",
    "X_test  /= 255\n",
    "\n",
    "print(X_train.shape[0], 'train samples')\n",
    "print(X_test.shape[0],  'test samples')"
   ],
   "execution_count": null,
   "outputs": [
    {
     "output_type": "stream",
     "text": [
      "60000 train samples\n",
      "10000 test samples\n"
     ],
     "name": "stdout"
    }
   ]
  },
  {
   "cell_type": "code",
   "metadata": {
    "id": "YP3kAMTeQFZt",
    "colab_type": "code",
    "colab": {}
   },
   "source": [
    "num_classes = 10"
   ],
   "execution_count": null,
   "outputs": []
  },
  {
   "cell_type": "markdown",
   "metadata": {
    "id": "C2OeKFAPqGnr",
    "colab_type": "text"
   },
   "source": [
    "We're also going to one-hot encode the outputs, as we're going to create 10 output neurons which each will give an output between 0 and 1."
   ]
  },
  {
   "cell_type": "code",
   "metadata": {
    "id": "KS1L6wrEP4Cl",
    "colab_type": "code",
    "colab": {
     "base_uri": "https://localhost:8080/",
     "height": 34
    },
    "executionInfo": {
     "status": "ok",
     "timestamp": 1595329168124,
     "user_tz": -120,
     "elapsed": 1233,
     "user": {
      "displayName": "Seppe vanden Broucke",
      "photoUrl": "https://lh3.googleusercontent.com/a-/AOh14GiMpesh_oeuo7Fc2WsgK89OJRIeyn_p5F2LV-ineDc=s64",
      "userId": "09380512084218149317"
     }
    },
    "outputId": "756f2ce8-b445-4878-da28-3c136bd8895d"
   },
   "source": [
    "num_classes = 10\n",
    "\n",
    "y_train = to_categorical(y_train, num_classes)\n",
    "y_test  = to_categorical(y_test, num_classes)\n",
    "\n",
    "print('First label is now = ', y_train[0])"
   ],
   "execution_count": null,
   "outputs": [
    {
     "output_type": "stream",
     "text": [
      "First label is now =  [0. 0. 0. 0. 0. 1. 0. 0. 0. 0.]\n"
     ],
     "name": "stdout"
    }
   ]
  },
  {
   "cell_type": "markdown",
   "metadata": {
    "id": "-j0E3HakqWAD",
    "colab_type": "text"
   },
   "source": [
    "We're now ready to define our model. We use a simple fully connected network here using 8 hidden neurons, followed by another layer of 8 hidden neurons, and finally our output layer. We use the ReLU activation function, except for the output, where we apply a softmax activation as we're doing a multiclass classification here."
   ]
  },
  {
   "cell_type": "code",
   "metadata": {
    "id": "LzP2xJIlP9DN",
    "colab_type": "code",
    "colab": {
     "base_uri": "https://localhost:8080/",
     "height": 294
    },
    "executionInfo": {
     "status": "ok",
     "timestamp": 1595329219799,
     "user_tz": -120,
     "elapsed": 759,
     "user": {
      "displayName": "Seppe vanden Broucke",
      "photoUrl": "https://lh3.googleusercontent.com/a-/AOh14GiMpesh_oeuo7Fc2WsgK89OJRIeyn_p5F2LV-ineDc=s64",
      "userId": "09380512084218149317"
     }
    },
    "outputId": "8b1c8791-e895-4d91-cf66-6ad19997b1cb"
   },
   "source": [
    "model = Sequential()\n",
    "model.add(Flatten(input_shape=(28, 28)))\n",
    "model.add(Dense(8, activation='relu'))\n",
    "model.add(Dense(8, activation='relu'))\n",
    "model.add(Dense(num_classes, activation='softmax'))\n",
    "\n",
    "model.summary()"
   ],
   "execution_count": null,
   "outputs": [
    {
     "output_type": "stream",
     "text": [
      "Model: \"sequential\"\n",
      "_________________________________________________________________\n",
      "Layer (type)                 Output Shape              Param #   \n",
      "=================================================================\n",
      "flatten (Flatten)            (None, 784)               0         \n",
      "_________________________________________________________________\n",
      "dense (Dense)                (None, 8)                 6280      \n",
      "_________________________________________________________________\n",
      "dense_1 (Dense)              (None, 8)                 72        \n",
      "_________________________________________________________________\n",
      "dense_2 (Dense)              (None, 10)                90        \n",
      "=================================================================\n",
      "Total params: 6,442\n",
      "Trainable params: 6,442\n",
      "Non-trainable params: 0\n",
      "_________________________________________________________________\n"
     ],
     "name": "stdout"
    }
   ]
  },
  {
   "cell_type": "markdown",
   "metadata": {
    "id": "v9XbGqg7qoOX",
    "colab_type": "text"
   },
   "source": [
    "The next step is then to compile our model."
   ]
  },
  {
   "cell_type": "code",
   "metadata": {
    "id": "v60SLkvWQJ1V",
    "colab_type": "code",
    "colab": {}
   },
   "source": [
    "model.compile(loss='categorical_crossentropy', metrics=['accuracy'])"
   ],
   "execution_count": null,
   "outputs": []
  },
  {
   "cell_type": "markdown",
   "metadata": {
    "id": "zGbZCELQqsaa",
    "colab_type": "text"
   },
   "source": [
    "Finally, we can fit our model. `batch_size` determines the size of each minibatch to perform gradient descent on."
   ]
  },
  {
   "cell_type": "code",
   "metadata": {
    "id": "2xkK7omJQMuF",
    "colab_type": "code",
    "colab": {
     "base_uri": "https://localhost:8080/",
     "height": 727
    },
    "executionInfo": {
     "status": "ok",
     "timestamp": 1595329267900,
     "user_tz": -120,
     "elapsed": 18887,
     "user": {
      "displayName": "Seppe vanden Broucke",
      "photoUrl": "https://lh3.googleusercontent.com/a-/AOh14GiMpesh_oeuo7Fc2WsgK89OJRIeyn_p5F2LV-ineDc=s64",
      "userId": "09380512084218149317"
     }
    },
    "outputId": "f7ccb7f2-ac00-4406-db46-516b732f6dfa"
   },
   "source": [
    "batch_size  = 128\n",
    "epochs      = 20\n",
    "\n",
    "model.fit(\n",
    "  X_train, y_train,\n",
    "  batch_size=batch_size,\n",
    "  epochs=epochs,\n",
    "  verbose=1,\n",
    "  validation_data=(X_test, y_test)\n",
    ")"
   ],
   "execution_count": null,
   "outputs": [
    {
     "output_type": "stream",
     "text": [
      "Epoch 1/20\n",
      "469/469 [==============================] - 1s 2ms/step - loss: 1.1310 - accuracy: 0.6427 - val_loss: 0.5996 - val_accuracy: 0.8387\n",
      "Epoch 2/20\n",
      "469/469 [==============================] - 1s 2ms/step - loss: 0.5048 - accuracy: 0.8610 - val_loss: 0.4231 - val_accuracy: 0.8808\n",
      "Epoch 3/20\n",
      "469/469 [==============================] - 1s 2ms/step - loss: 0.4022 - accuracy: 0.8878 - val_loss: 0.3625 - val_accuracy: 0.8962\n",
      "Epoch 4/20\n",
      "469/469 [==============================] - 1s 2ms/step - loss: 0.3595 - accuracy: 0.8993 - val_loss: 0.3308 - val_accuracy: 0.9060\n",
      "Epoch 5/20\n",
      "469/469 [==============================] - 1s 2ms/step - loss: 0.3334 - accuracy: 0.9055 - val_loss: 0.3200 - val_accuracy: 0.9071\n",
      "Epoch 6/20\n",
      "469/469 [==============================] - 1s 2ms/step - loss: 0.3163 - accuracy: 0.9107 - val_loss: 0.3014 - val_accuracy: 0.9146\n",
      "Epoch 7/20\n",
      "469/469 [==============================] - 1s 2ms/step - loss: 0.3034 - accuracy: 0.9138 - val_loss: 0.2950 - val_accuracy: 0.9162\n",
      "Epoch 8/20\n",
      "469/469 [==============================] - 1s 2ms/step - loss: 0.2941 - accuracy: 0.9170 - val_loss: 0.2879 - val_accuracy: 0.9203\n",
      "Epoch 9/20\n",
      "469/469 [==============================] - 1s 2ms/step - loss: 0.2862 - accuracy: 0.9190 - val_loss: 0.2831 - val_accuracy: 0.9217\n",
      "Epoch 10/20\n",
      "469/469 [==============================] - 1s 2ms/step - loss: 0.2791 - accuracy: 0.9213 - val_loss: 0.2788 - val_accuracy: 0.9213\n",
      "Epoch 11/20\n",
      "469/469 [==============================] - 1s 2ms/step - loss: 0.2734 - accuracy: 0.9233 - val_loss: 0.2745 - val_accuracy: 0.9237\n",
      "Epoch 12/20\n",
      "469/469 [==============================] - 1s 2ms/step - loss: 0.2684 - accuracy: 0.9233 - val_loss: 0.2885 - val_accuracy: 0.9197\n",
      "Epoch 13/20\n",
      "469/469 [==============================] - 1s 2ms/step - loss: 0.2627 - accuracy: 0.9260 - val_loss: 0.2727 - val_accuracy: 0.9251\n",
      "Epoch 14/20\n",
      "469/469 [==============================] - 1s 2ms/step - loss: 0.2590 - accuracy: 0.9271 - val_loss: 0.2729 - val_accuracy: 0.9237\n",
      "Epoch 15/20\n",
      "469/469 [==============================] - 1s 2ms/step - loss: 0.2557 - accuracy: 0.9283 - val_loss: 0.2692 - val_accuracy: 0.9247\n",
      "Epoch 16/20\n",
      "469/469 [==============================] - 1s 2ms/step - loss: 0.2521 - accuracy: 0.9289 - val_loss: 0.2622 - val_accuracy: 0.9288\n",
      "Epoch 17/20\n",
      "469/469 [==============================] - 1s 2ms/step - loss: 0.2488 - accuracy: 0.9304 - val_loss: 0.2650 - val_accuracy: 0.9284\n",
      "Epoch 18/20\n",
      "469/469 [==============================] - 1s 2ms/step - loss: 0.2465 - accuracy: 0.9305 - val_loss: 0.2654 - val_accuracy: 0.9271\n",
      "Epoch 19/20\n",
      "469/469 [==============================] - 1s 2ms/step - loss: 0.2439 - accuracy: 0.9308 - val_loss: 0.2649 - val_accuracy: 0.9280\n",
      "Epoch 20/20\n",
      "469/469 [==============================] - 1s 2ms/step - loss: 0.2417 - accuracy: 0.9324 - val_loss: 0.2600 - val_accuracy: 0.9301\n"
     ],
     "name": "stdout"
    },
    {
     "output_type": "execute_result",
     "data": {
      "text/plain": [
       "<tensorflow.python.keras.callbacks.History at 0x7fac21910240>"
      ]
     },
     "metadata": {
      "tags": []
     },
     "execution_count": 9
    }
   ]
  },
  {
   "cell_type": "markdown",
   "metadata": {
    "id": "4y99oiGmq6yk",
    "colab_type": "text"
   },
   "source": [
    "We can then use `evaluate` to report loss and accuracy on a new set of instances:"
   ]
  },
  {
   "cell_type": "code",
   "metadata": {
    "id": "KKsmc1VQQQS1",
    "colab_type": "code",
    "colab": {
     "base_uri": "https://localhost:8080/",
     "height": 51
    },
    "executionInfo": {
     "status": "ok",
     "timestamp": 1595329276872,
     "user_tz": -120,
     "elapsed": 775,
     "user": {
      "displayName": "Seppe vanden Broucke",
      "photoUrl": "https://lh3.googleusercontent.com/a-/AOh14GiMpesh_oeuo7Fc2WsgK89OJRIeyn_p5F2LV-ineDc=s64",
      "userId": "09380512084218149317"
     }
    },
    "outputId": "82f6b472-5ddb-4a5c-cbb0-37257731e868"
   },
   "source": [
    "score = model.evaluate(X_test, y_test, verbose=0)\n",
    "\n",
    "print('Test loss:',     score[0])\n",
    "print('Test accuracy:', score[1])"
   ],
   "execution_count": null,
   "outputs": [
    {
     "output_type": "stream",
     "text": [
      "Test loss: 0.2600213289260864\n",
      "Test accuracy: 0.9301000237464905\n"
     ],
     "name": "stdout"
    }
   ]
  },
  {
   "cell_type": "markdown",
   "metadata": {
    "id": "OUwJ_j2UrA6q",
    "colab_type": "text"
   },
   "source": [
    "The `predict` function can be used to make predictions.\n",
    "\n",
    "Note: since this function works on a batch of instances, even in case you give a single instance, we need to make sure we give a list containing a single instance. Here, we do so by wrapping the instance in a Numpy array. You could also use `np.expand_dimensions(X_train[0], axis=0)` instead."
   ]
  },
  {
   "cell_type": "code",
   "metadata": {
    "id": "qOc1x6RFQepM",
    "colab_type": "code",
    "colab": {
     "base_uri": "https://localhost:8080/",
     "height": 69
    },
    "executionInfo": {
     "status": "ok",
     "timestamp": 1595329299334,
     "user_tz": -120,
     "elapsed": 756,
     "user": {
      "displayName": "Seppe vanden Broucke",
      "photoUrl": "https://lh3.googleusercontent.com/a-/AOh14GiMpesh_oeuo7Fc2WsgK89OJRIeyn_p5F2LV-ineDc=s64",
      "userId": "09380512084218149317"
     }
    },
    "outputId": "ec2a2505-f21e-4104-e281-c4f92884c29e"
   },
   "source": [
    "scores = model.predict(np.array([X_train[0]]))\n",
    "\n",
    "print(scores)\n",
    "print('Predicted label = ', np.argmax(scores))"
   ],
   "execution_count": null,
   "outputs": [
    {
     "output_type": "stream",
     "text": [
      "[[7.2606690e-02 4.6177804e-09 2.5814823e-03 4.6774217e-01 1.2661126e-10\n",
      "  4.5650512e-01 1.9573576e-10 4.7127518e-04 8.7923407e-05 5.3120202e-06]]\n",
      "Predicted label =  3\n"
     ],
     "name": "stdout"
    }
   ]
  },
  {
   "cell_type": "markdown",
   "metadata": {
    "id": "IwudyarzrYOM",
    "colab_type": "text"
   },
   "source": [
    "Normally, you'd make sure to save you model at this point. Models can be loaded back in using [`load_model`](https://www.tensorflow.org/api_docs/python/tf/keras/models/load_model)."
   ]
  },
  {
   "cell_type": "code",
   "metadata": {
    "id": "8PcLJuPTQgNF",
    "colab_type": "code",
    "colab": {}
   },
   "source": [
    "model.save('my_model.h5')"
   ],
   "execution_count": null,
   "outputs": []
  },
  {
   "cell_type": "markdown",
   "metadata": {
    "id": "2JGsFrggrkqx",
    "colab_type": "text"
   },
   "source": [
    "We can inspect the layers of the model as follows:"
   ]
  },
  {
   "cell_type": "code",
   "metadata": {
    "id": "YYIb-n0sQle9",
    "colab_type": "code",
    "colab": {
     "base_uri": "https://localhost:8080/",
     "height": 106
    },
    "executionInfo": {
     "status": "ok",
     "timestamp": 1595329331380,
     "user_tz": -120,
     "elapsed": 768,
     "user": {
      "displayName": "Seppe vanden Broucke",
      "photoUrl": "https://lh3.googleusercontent.com/a-/AOh14GiMpesh_oeuo7Fc2WsgK89OJRIeyn_p5F2LV-ineDc=s64",
      "userId": "09380512084218149317"
     }
    },
    "outputId": "13cb39a2-fb1c-4393-c023-f7dc37ab8f00"
   },
   "source": [
    "for layer in model.layers:\n",
    "  print(layer.name, layer.get_config())"
   ],
   "execution_count": null,
   "outputs": [
    {
     "output_type": "stream",
     "text": [
      "flatten {'name': 'flatten', 'trainable': True, 'batch_input_shape': (None, 28, 28), 'dtype': 'float32', 'data_format': 'channels_last'}\n",
      "dense {'name': 'dense', 'trainable': True, 'dtype': 'float32', 'units': 8, 'activation': 'relu', 'use_bias': True, 'kernel_initializer': {'class_name': 'GlorotUniform', 'config': {'seed': None}}, 'bias_initializer': {'class_name': 'Zeros', 'config': {}}, 'kernel_regularizer': None, 'bias_regularizer': None, 'activity_regularizer': None, 'kernel_constraint': None, 'bias_constraint': None}\n",
      "dense_1 {'name': 'dense_1', 'trainable': True, 'dtype': 'float32', 'units': 8, 'activation': 'relu', 'use_bias': True, 'kernel_initializer': {'class_name': 'GlorotUniform', 'config': {'seed': None}}, 'bias_initializer': {'class_name': 'Zeros', 'config': {}}, 'kernel_regularizer': None, 'bias_regularizer': None, 'activity_regularizer': None, 'kernel_constraint': None, 'bias_constraint': None}\n",
      "dense_2 {'name': 'dense_2', 'trainable': True, 'dtype': 'float32', 'units': 10, 'activation': 'softmax', 'use_bias': True, 'kernel_initializer': {'class_name': 'GlorotUniform', 'config': {'seed': None}}, 'bias_initializer': {'class_name': 'Zeros', 'config': {}}, 'kernel_regularizer': None, 'bias_regularizer': None, 'activity_regularizer': None, 'kernel_constraint': None, 'bias_constraint': None}\n"
     ],
     "name": "stdout"
    }
   ]
  },
  {
   "cell_type": "markdown",
   "metadata": {
    "id": "7P6CNORRrrXC",
    "colab_type": "text"
   },
   "source": [
    "Weights can be obtained as follows:"
   ]
  },
  {
   "cell_type": "code",
   "metadata": {
    "id": "RjYBc9DrQqpN",
    "colab_type": "code",
    "colab": {
     "base_uri": "https://localhost:8080/",
     "height": 51
    },
    "executionInfo": {
     "status": "ok",
     "timestamp": 1595329339144,
     "user_tz": -120,
     "elapsed": 751,
     "user": {
      "displayName": "Seppe vanden Broucke",
      "photoUrl": "https://lh3.googleusercontent.com/a-/AOh14GiMpesh_oeuo7Fc2WsgK89OJRIeyn_p5F2LV-ineDc=s64",
      "userId": "09380512084218149317"
     }
    },
    "outputId": "591559a1-6e23-4855-98f9-e6e76cb41d12"
   },
   "source": [
    "print(model.layers[1].get_weights()[0].shape) # weights\n",
    "print(model.layers[1].get_weights()[1].shape) # bias\n",
    "\n",
    "# Alternatively, you can also use: model.get_layer('dense').get_weights()\n",
    "# Or even: model.get_weights()[0]"
   ],
   "execution_count": null,
   "outputs": [
    {
     "output_type": "stream",
     "text": [
      "(784, 8)\n",
      "(8,)\n"
     ],
     "name": "stdout"
    }
   ]
  },
  {
   "cell_type": "markdown",
   "metadata": {
    "id": "4sG82u6jsHfn",
    "colab_type": "text"
   },
   "source": [
    "The weights of the first dense layer can be easily visualized by reshaping them back to a 28x28 grid:"
   ]
  },
  {
   "cell_type": "code",
   "metadata": {
    "id": "ieKiUUBGQs6l",
    "colab_type": "code",
    "colab": {
     "base_uri": "https://localhost:8080/",
     "height": 265
    },
    "executionInfo": {
     "status": "ok",
     "timestamp": 1595329368099,
     "user_tz": -120,
     "elapsed": 874,
     "user": {
      "displayName": "Seppe vanden Broucke",
      "photoUrl": "https://lh3.googleusercontent.com/a-/AOh14GiMpesh_oeuo7Fc2WsgK89OJRIeyn_p5F2LV-ineDc=s64",
      "userId": "09380512084218149317"
     }
    },
    "outputId": "58f767e0-66d6-4bd2-b0ee-b1366eaafcd1"
   },
   "source": [
    "rs = model.layers[1].get_weights()[0][:,0].reshape(28, 28)\n",
    "plt.imshow(rs, cmap='gray')\n",
    "plt.show()"
   ],
   "execution_count": null,
   "outputs": [
    {
     "output_type": "display_data",
     "data": {
      "image/png": "[encoded data removed]",
      "text/plain": [
       "<Figure size 432x288 with 1 Axes>"
      ]
     },
     "metadata": {
      "tags": [],
      "needs_background": "light"
     }
    }
   ]
  },
  {
   "cell_type": "markdown",
   "metadata": {
    "id": "DcOuQ2utsSt0",
    "colab_type": "text"
   },
   "source": [
    "Contrary to what you might expect, there isn't any human-interpretable structure in the first dense layer... We can show all eight neurons' weights as follows:"
   ]
  },
  {
   "cell_type": "code",
   "metadata": {
    "id": "YRkAPNSkQvwt",
    "colab_type": "code",
    "colab": {
     "base_uri": "https://localhost:8080/",
     "height": 259
    },
    "executionInfo": {
     "status": "ok",
     "timestamp": 1595329396632,
     "user_tz": -120,
     "elapsed": 1625,
     "user": {
      "displayName": "Seppe vanden Broucke",
      "photoUrl": "https://lh3.googleusercontent.com/a-/AOh14GiMpesh_oeuo7Fc2WsgK89OJRIeyn_p5F2LV-ineDc=s64",
      "userId": "09380512084218149317"
     }
    },
    "outputId": "d6273a28-8546-4231-f3a3-59fc9a2a642a"
   },
   "source": [
    "gs = gridspec.GridSpec(2, 4)\n",
    "for n in range(8):\n",
    "  rs = model.layers[1].get_weights()[0][:,n].reshape(28, 28)\n",
    "  ax = plt.subplot(gs[n])\n",
    "  ax.imshow(rs, cmap='gray')\n",
    "plt.tight_layout()\n",
    "plt.show()"
   ],
   "execution_count": null,
   "outputs": [
    {
     "output_type": "display_data",
     "data": {
      "image/png": "[encoded data removed]",
      "text/plain": [
       "<Figure size 432x288 with 8 Axes>"
      ]
     },
     "metadata": {
      "tags": [],
      "needs_background": "light"
     }
    }
   ]
  },
  {
   "cell_type": "markdown",
   "metadata": {
    "id": "Re4gd3rSsjta",
    "colab_type": "text"
   },
   "source": [
    "Another interesting idea to test is to see what the model thinks of random noise:"
   ]
  },
  {
   "cell_type": "code",
   "metadata": {
    "id": "We1W7AGxQ0Bt",
    "colab_type": "code",
    "colab": {
     "base_uri": "https://localhost:8080/",
     "height": 265
    },
    "executionInfo": {
     "status": "ok",
     "timestamp": 1586549130252,
     "user_tz": -120,
     "elapsed": 787,
     "user": {
      "displayName": "Seppe vanden Broucke",
      "photoUrl": "https://lh3.googleusercontent.com/a-/AOh14GiMpesh_oeuo7Fc2WsgK89OJRIeyn_p5F2LV-ineDc=s64",
      "userId": "09380512084218149317"
     }
    },
    "outputId": "ad6dc16f-fce5-4375-bf1b-7a91c552bca2"
   },
   "source": [
    "random = np.random.rand(28, 28)\n",
    "plt.imshow(random, cmap='gray')\n",
    "plt.show()"
   ],
   "execution_count": null,
   "outputs": [
    {
     "output_type": "display_data",
     "data": {
      "image/png": "[encoded data removed]",
      "text/plain": [
       "<Figure size 432x288 with 1 Axes>"
      ]
     },
     "metadata": {
      "tags": [],
      "needs_background": "light"
     }
    }
   ]
  },
  {
   "cell_type": "code",
   "metadata": {
    "id": "FMX1uwSpQ1ed",
    "colab_type": "code",
    "colab": {
     "base_uri": "https://localhost:8080/",
     "height": 87
    },
    "executionInfo": {
     "status": "ok",
     "timestamp": 1586549143706,
     "user_tz": -120,
     "elapsed": 778,
     "user": {
      "displayName": "Seppe vanden Broucke",
      "photoUrl": "https://lh3.googleusercontent.com/a-/AOh14GiMpesh_oeuo7Fc2WsgK89OJRIeyn_p5F2LV-ineDc=s64",
      "userId": "09380512084218149317"
     }
    },
    "outputId": "c13a962e-d980-4db3-ba06-9a5ab89b9476"
   },
   "source": [
    "scores = model.predict(np.array([random]))\n",
    "\n",
    "print(scores)\n",
    "print('Predicted label = ', np.argmax(scores))"
   ],
   "execution_count": null,
   "outputs": [
    {
     "output_type": "stream",
     "text": [
      "[[6.46768067e-14 9.21883329e-05 9.71407413e-01 2.84888018e-02\n",
      "  2.17079539e-17 2.46408040e-23 2.73413036e-07 1.13695323e-05\n",
      "  1.06832265e-10 3.62780722e-24]]\n",
      "Predicted label =  2\n"
     ],
     "name": "stdout"
    }
   ]
  },
  {
   "cell_type": "markdown",
   "metadata": {
    "id": "UDNYufSRstc5",
    "colab_type": "text"
   },
   "source": [
    "Things to try:\n",
    "\n",
    "- Can you increase the accuracy using only dense layers by e.g. adding more layers or hidden neurons?\n",
    "- Try defining an additional label (\"noise\") and training the network on random images as done above. Is the network more robust to noise now?\n",
    "- Is the network being convinced about its prediction on random noise the result of how softmax works, or something else?\n",
    "- Since we're using ReLU, you might be wondering whether the last layer's activations couldn't be kept to simple linear activations (or sigmoid, even) instead of softmax. Try this out.\n",
    "- As a harder challenge, try replacing the softmax activation with a normal normalization step (this works as none of our intermediate outputs can be negative), e.g. using something like `final_layer = Lambda(lambda t: t / tensorflow.linalg.norm(t, ord=1))(x)`. You'll need some extra imports (e.g. `tensorflow.keras.layers.Lambda`) and use the functional rather than sequential model API (`from tensorflow.keras.models import Model`). You can revisit this later on after we have utilized this API."
   ]
  }
 ]
}

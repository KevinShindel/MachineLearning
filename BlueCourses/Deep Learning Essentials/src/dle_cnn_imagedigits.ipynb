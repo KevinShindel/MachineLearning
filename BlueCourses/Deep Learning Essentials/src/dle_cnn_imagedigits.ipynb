{
 "nbformat": 4,
 "nbformat_minor": 0,
 "metadata": {
  "colab": {
   "name": "dle_cnn_imagedigits.ipynb",
   "provenance": [],
   "collapsed_sections": [],
   "authorship_tag": "ABX9TyO9Zdyol02LoUCAMW0HnsR+"
  },
  "kernelspec": {
   "name": "python3",
   "display_name": "Python 3"
  },
  "accelerator": "TPU"
 },
 "cells": [
  {
   "cell_type": "markdown",
   "metadata": {
    "id": "vZWaW6l8diiQ",
    "colab_type": "text"
   },
   "source": [
    "In this notebook, we construct a traditional convolutional neural network to classify the MNIST data set."
   ]
  },
  {
   "cell_type": "code",
   "metadata": {
    "id": "ttJzkGNgTbyE",
    "colab_type": "code",
    "colab": {}
   },
   "source": [
    "%tensorflow_version 2.x\n",
    "\n",
    "from tensorflow.keras.models import Sequential\n",
    "from tensorflow.keras.layers import Dense, Flatten, Conv2D, MaxPooling2D, Input\n",
    "from tensorflow.keras.datasets import mnist\n",
    "from tensorflow.keras.utils import to_categorical\n",
    "import numpy as np"
   ],
   "execution_count": null,
   "outputs": []
  },
  {
   "cell_type": "markdown",
   "metadata": {
    "id": "yt-ziP3Rd3VO",
    "colab_type": "text"
   },
   "source": [
    "The steps below are exactly the same as the ones we applied for the MLP network. There is one additional step, however, which is the `np.expand_dims` step at the end. The reason for this is due to the fact that `Conv2D` layers expect to work with tensors which are shaped as `(width, height, depth)`. Recall that depth can refer to a number of previously constructed filters, or to the number of color channels of the input input. Even when working with a black and white image as we do here, we need to add in an additional dimension with a size of one."
   ]
  },
  {
   "cell_type": "code",
   "metadata": {
    "id": "vdhtJLoNUxHK",
    "colab_type": "code",
    "colab": {
     "base_uri": "https://localhost:8080/",
     "height": 69
    },
    "executionInfo": {
     "status": "ok",
     "timestamp": 1595336981868,
     "user_tz": -120,
     "elapsed": 3060,
     "user": {
      "displayName": "Seppe vanden Broucke",
      "photoUrl": "https://lh3.googleusercontent.com/a-/AOh14GiMpesh_oeuo7Fc2WsgK89OJRIeyn_p5F2LV-ineDc=s64",
      "userId": "09380512084218149317"
     }
    },
    "outputId": "9a3d2bd5-fabe-446f-a4d9-04a838778522"
   },
   "source": [
    "num_classes = 10\n",
    "\n",
    "(X_train, y_train), (X_test, y_test) = mnist.load_data()\n",
    "X_train = X_train.astype('float32')\n",
    "X_test  = X_test.astype('float32')\n",
    "X_train /= 255\n",
    "X_test  /= 255\n",
    "y_train = to_categorical(y_train, num_classes)\n",
    "y_test  = to_categorical(y_test, num_classes)\n",
    "\n",
    "# These steps are new:\n",
    "X_train = np.expand_dims(X_train, axis=3)\n",
    "X_test  = np.expand_dims(X_test, axis=3)\n",
    "\n",
    "print(X_train.shape)"
   ],
   "execution_count": null,
   "outputs": [
    {
     "output_type": "stream",
     "text": [
      "Downloading data from https://storage.googleapis.com/tensorflow/tf-keras-datasets/mnist.npz\n",
      "11493376/11490434 [==============================] - 0s 0us/step\n",
      "(60000, 28, 28, 1)\n"
     ],
     "name": "stdout"
    }
   ]
  },
  {
   "cell_type": "code",
   "metadata": {
    "id": "IO-orL6dUxcZ",
    "colab_type": "code",
    "colab": {
     "base_uri": "https://localhost:8080/",
     "height": 364
    },
    "executionInfo": {
     "status": "ok",
     "timestamp": 1595336982388,
     "user_tz": -120,
     "elapsed": 3571,
     "user": {
      "displayName": "Seppe vanden Broucke",
      "photoUrl": "https://lh3.googleusercontent.com/a-/AOh14GiMpesh_oeuo7Fc2WsgK89OJRIeyn_p5F2LV-ineDc=s64",
      "userId": "09380512084218149317"
     }
    },
    "outputId": "489c7233-aeeb-4aaa-9d6c-657e16ec824d"
   },
   "source": [
    "model = Sequential([\n",
    "    Input(shape=(28, 28, 1)),\n",
    "    Conv2D(16, (3, 3), padding='same', activation='relu'),\n",
    "    Conv2D(16, (3, 3), activation='relu'),\n",
    "    MaxPooling2D(pool_size=(2, 2)),\n",
    "    Flatten(),\n",
    "    Dense(128, activation='relu'),\n",
    "    Dense(num_classes, activation='softmax')\n",
    "])\n",
    "\n",
    "model.summary()"
   ],
   "execution_count": null,
   "outputs": [
    {
     "output_type": "stream",
     "text": [
      "Model: \"sequential\"\n",
      "_________________________________________________________________\n",
      "Layer (type)                 Output Shape              Param #   \n",
      "=================================================================\n",
      "conv2d (Conv2D)              (None, 28, 28, 16)        160       \n",
      "_________________________________________________________________\n",
      "conv2d_1 (Conv2D)            (None, 26, 26, 16)        2320      \n",
      "_________________________________________________________________\n",
      "max_pooling2d (MaxPooling2D) (None, 13, 13, 16)        0         \n",
      "_________________________________________________________________\n",
      "flatten (Flatten)            (None, 2704)              0         \n",
      "_________________________________________________________________\n",
      "dense (Dense)                (None, 128)               346240    \n",
      "_________________________________________________________________\n",
      "dense_1 (Dense)              (None, 10)                1290      \n",
      "=================================================================\n",
      "Total params: 350,010\n",
      "Trainable params: 350,010\n",
      "Non-trainable params: 0\n",
      "_________________________________________________________________\n"
     ],
     "name": "stdout"
    }
   ]
  },
  {
   "cell_type": "code",
   "metadata": {
    "id": "x4iBt9p4Uxux",
    "colab_type": "code",
    "colab": {}
   },
   "source": [
    "model.compile(loss='categorical_crossentropy', \n",
    "              optimizer='adam',\n",
    "              metrics=['accuracy'])"
   ],
   "execution_count": null,
   "outputs": []
  },
  {
   "cell_type": "markdown",
   "metadata": {
    "id": "Zaq4NwOCekom",
    "colab_type": "text"
   },
   "source": [
    "We only need to train for two epochs with this CNN to get a good result."
   ]
  },
  {
   "cell_type": "code",
   "metadata": {
    "id": "4jxzhOQlVFrT",
    "colab_type": "code",
    "colab": {
     "base_uri": "https://localhost:8080/",
     "height": 104
    },
    "executionInfo": {
     "status": "ok",
     "timestamp": 1595337095770,
     "user_tz": -120,
     "elapsed": 116939,
     "user": {
      "displayName": "Seppe vanden Broucke",
      "photoUrl": "https://lh3.googleusercontent.com/a-/AOh14GiMpesh_oeuo7Fc2WsgK89OJRIeyn_p5F2LV-ineDc=s64",
      "userId": "09380512084218149317"
     }
    },
    "outputId": "a897c30b-2a68-4dd4-d0fe-4f6013fb6623"
   },
   "source": [
    "batch_size = 128\n",
    "epochs = 2\n",
    "\n",
    "model.fit(X_train, y_train,\n",
    "          batch_size=batch_size,\n",
    "          epochs=epochs,\n",
    "          validation_data=(X_test, y_test))"
   ],
   "execution_count": null,
   "outputs": [
    {
     "output_type": "stream",
     "text": [
      "Epoch 1/2\n",
      "469/469 [==============================] - 57s 121ms/step - loss: 0.2185 - accuracy: 0.9370 - val_loss: 0.0699 - val_accuracy: 0.9799\n",
      "Epoch 2/2\n",
      "469/469 [==============================] - 56s 119ms/step - loss: 0.0593 - accuracy: 0.9816 - val_loss: 0.0432 - val_accuracy: 0.9855\n"
     ],
     "name": "stdout"
    },
    {
     "output_type": "execute_result",
     "data": {
      "text/plain": [
       "<tensorflow.python.keras.callbacks.History at 0x7f0d40c70208>"
      ]
     },
     "metadata": {
      "tags": []
     },
     "execution_count": 5
    }
   ]
  },
  {
   "cell_type": "code",
   "metadata": {
    "id": "8ya71BAYVLBw",
    "colab_type": "code",
    "colab": {
     "base_uri": "https://localhost:8080/",
     "height": 52
    },
    "executionInfo": {
     "status": "ok",
     "timestamp": 1595337099465,
     "user_tz": -120,
     "elapsed": 120595,
     "user": {
      "displayName": "Seppe vanden Broucke",
      "photoUrl": "https://lh3.googleusercontent.com/a-/AOh14GiMpesh_oeuo7Fc2WsgK89OJRIeyn_p5F2LV-ineDc=s64",
      "userId": "09380512084218149317"
     }
    },
    "outputId": "2d74c0ad-0e8b-406a-c317-7c983e6a6d03"
   },
   "source": [
    "score = model.evaluate(X_test, y_test, verbose=0)\n",
    "print('Test loss:',     score[0])\n",
    "print('Test accuracy:', score[1])"
   ],
   "execution_count": null,
   "outputs": [
    {
     "output_type": "stream",
     "text": [
      "Test loss: 0.043157193809747696\n",
      "Test accuracy: 0.9854999780654907\n"
     ],
     "name": "stdout"
    }
   ]
  },
  {
   "cell_type": "markdown",
   "metadata": {
    "id": "c6C_KQVAe7gA",
    "colab_type": "text"
   },
   "source": [
    "Compare this with the result of our MLP:\n",
    "\n",
    "```\n",
    "Test loss: 0.27593347430229187\n",
    "Test accuracy: 0.9203000068664551\n",
    "```\n",
    "\n",
    "Using only 2 epochs of training in this case, we obtain a better result."
   ]
  }
 ]
}

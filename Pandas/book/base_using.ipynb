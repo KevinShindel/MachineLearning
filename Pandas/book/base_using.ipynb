{
 "cells": [
  {
   "metadata": {},
   "cell_type": "code",
   "outputs": [],
   "execution_count": null,
   "source": [
    "# Importing the required libraries\n",
    "from collections import defaultdict"
   ],
   "id": "8c78cb1e647b13e0"
  },
  {
   "metadata": {},
   "cell_type": "code",
   "outputs": [],
   "execution_count": null,
   "source": "fruit_list = ['apple', 'banana', 'cherry', 'date', 'fig', 'grape']",
   "id": "f762f0a1b575e88e"
  },
  {
   "metadata": {},
   "cell_type": "code",
   "outputs": [],
   "execution_count": null,
   "source": [
    "def dict_inclusion(fruits: list[str]) -> dict[str, list[str]]:\n",
    "\n",
    "    by_letter = {}\n",
    "\n",
    "    for fruit in fruits:\n",
    "        letter = fruit[0]\n",
    "        if letter not in by_letter:\n",
    "            by_letter[letter] = [fruit]\n",
    "        else:\n",
    "            by_letter[letter].append(fruit)\n",
    "\n",
    "    return by_letter"
   ],
   "id": "1ac4a26f881034e9"
  },
  {
   "metadata": {},
   "cell_type": "code",
   "outputs": [],
   "execution_count": null,
   "source": [
    "def dict_inclusion_defaultdict(fruits: list[str]) -> dict[str, list[str]]:\n",
    "        by_letter = defaultdict(list)\n",
    "\n",
    "        for fruit in fruits:\n",
    "            by_letter[fruit[0]].append(fruit)\n",
    "\n",
    "        return by_letter"
   ],
   "id": "11c5b332b462771b"
  },
  {
   "metadata": {},
   "cell_type": "code",
   "outputs": [],
   "execution_count": null,
   "source": [
    "def dict_inclusion_setdefault(fruits: list[str]) -> dict[str, list[str]]:\n",
    "    by_letter = {}\n",
    "\n",
    "    for fruit in fruits:\n",
    "        by_letter.setdefault(fruit[0], []).append(fruit)\n",
    "\n",
    "    return by_letter"
   ],
   "id": "90cbb27f52451144"
  },
  {
   "metadata": {},
   "cell_type": "code",
   "outputs": [],
   "execution_count": null,
   "source": [
    "# Using the function dict_inclusion, dict_inclusion_defaultdict, dict_inclusion_setdefault\n",
    "print(dict_inclusion(fruit_list))\n",
    "print(dict_inclusion_defaultdict(fruit_list))\n",
    "print(dict_inclusion_setdefault(fruit_list))"
   ],
   "id": "e5fd1703411dd47b"
  },
  {
   "metadata": {},
   "cell_type": "code",
   "outputs": [],
   "execution_count": null,
   "source": "# Working with sets",
   "id": "93ff90d4511cebf9"
  },
  {
   "metadata": {},
   "cell_type": "code",
   "outputs": [],
   "execution_count": null,
   "source": [
    "a = {1, 2, 3, 4, 5}\n",
    "b = {3, 4, 5, 6, 7, 8}"
   ],
   "id": "d3dbe16d3f324f79"
  },
  {
   "metadata": {},
   "cell_type": "markdown",
   "source": [
    "| Operation                 | Equivalent | Result                   | Description                                      |\n",
    "|---------------------------|------------|--------------------------|--------------------------------------------------|\n",
    "| a.union(b)                | a \\| b     | {1, 2, 3, 4, 5, 6, 7, 8} | Union of a and b                                 |\n",
    "| a.intersection(b)         | a & b      | {3, 4, 5}                | Intersection of a and b                          |\n",
    "| a.difference(b)           | a - b      | {1, 2}                   | Elements in a but not in b                       |\n",
    "| a.symmetric_difference(b) | a ^ b      | {1, 2, 6, 7, 8}          | Elements in either a or b but not both           |\n",
    "| a.issubset(b)             | a <= b     | False                    | True if the elements of a are all contained in b |\n",
    "| a.issuperset(b)           | a >= b     | False                    | True if the elements of b are all contained in a |\n",
    "| a.isdisjoint(b)           | N/A        | False                    | True if a and b have no elements in common       |"
   ],
   "id": "efc1b2843aec75f0"
  },
  {
   "metadata": {},
   "cell_type": "code",
   "outputs": [],
   "execution_count": null,
   "source": [
    " # List comprehension\n",
    "\n",
    "strings = ['a', 'as', 'bat', 'car', 'dove', 'python']\n",
    "print([x.upper() for x in strings if len(x) > 2])"
   ],
   "id": "df174bcb6bf27110"
  },
  {
   "metadata": {},
   "cell_type": "code",
   "outputs": [],
   "execution_count": null,
   "source": [
    "# Set comprehension\n",
    "\n",
    "print({len(x) for x in strings})"
   ],
   "id": "d6e8154ed4757957"
  },
  {
   "metadata": {},
   "cell_type": "code",
   "outputs": [],
   "execution_count": null,
   "source": [
    "# Dictionary comprehension\n",
    "\n",
    "unique_lengths = {len(x) for x in strings}\n",
    "loc_mapping = {val: index for index, val in enumerate(strings)}"
   ],
   "id": "2724c1d022fe8466"
  },
  {
   "metadata": {},
   "cell_type": "code",
   "outputs": [],
   "execution_count": null,
   "source": [
    "# Nested list comprehension\n",
    "\n",
    "all_data = [['John', 'Emily', 'Michael', 'Mary', 'Steven'],\n",
    "                ['Maria', 'Juan', 'Javier', 'Natalia', 'Pilar']]\n",
    "names_of_interest = []\n",
    "\n",
    "for names in all_data:\n",
    "    enough_es = [name for name in names if name.count('e') >= 2]\n",
    "    names_of_interest.extend(enough_es)\n",
    "    \n",
    "print(names_of_interest)\n",
    "\n",
    "result = [name for names in all_data for name in names if name.count('e') >= 2] # Count the number of 'e' in each name\n",
    "print(result)"
   ],
   "id": "7e20eee041842aaa"
  },
  {
   "metadata": {},
   "cell_type": "code",
   "outputs": [],
   "execution_count": null,
   "source": [
    "# Partial function application\n",
    "\n",
    "from functools import partial\n",
    "\n",
    "def add_numbers(x, y):\n",
    "    return x + y\n",
    "\n",
    "add_five = partial(add_numbers, 5)\n",
    "\n",
    "print(add_five(10))\n",
    "\n",
    "add_five = lambda y: add_numbers(5, y)\n",
    "print(add_five(10))"
   ],
   "id": "4cdcf2d9c529d8af"
  },
  {
   "metadata": {},
   "cell_type": "code",
   "outputs": [],
   "execution_count": null,
   "source": [
    "# Generators\n",
    "\n",
    "def squares(n=10):\n",
    "    print('Generating squares from 1 to {0}'.format(n ** 2))\n",
    "    for i in range(1, n + 1):\n",
    "        yield i ** 2\n",
    "        \n",
    "gen = squares()\n",
    "\n",
    "for x in gen:\n",
    "    print(x, end=' ')"
   ],
   "id": "480e3a7ee41f4b45"
  },
  {
   "metadata": {},
   "cell_type": "code",
   "outputs": [],
   "execution_count": null,
   "source": [
    "# Group by\n",
    "\n",
    "from itertools import groupby\n",
    "\n",
    "strings = ['a', 'as', 'bat', 'car', 'dove', 'python']\n",
    "\n",
    "strings.sort(key=len)\n",
    "\n",
    "for length, group in groupby(strings, len):\n",
    "    print(length, list(group))    "
   ],
   "id": "70fc7f1cdeca90a"
  },
  {
   "metadata": {},
   "cell_type": "code",
   "outputs": [],
   "execution_count": null,
   "source": "",
   "id": "6ec74049ef4eba5e"
  }
 ],
 "metadata": {
  "kernelspec": {
   "display_name": "Python 3",
   "language": "python",
   "name": "python3"
  },
  "language_info": {
   "codemirror_mode": {
    "name": "ipython",
    "version": 2
   },
   "file_extension": ".py",
   "mimetype": "text/x-python",
   "name": "python",
   "nbconvert_exporter": "python",
   "pygments_lexer": "ipython2",
   "version": "2.7.6"
  }
 },
 "nbformat": 4,
 "nbformat_minor": 5
}

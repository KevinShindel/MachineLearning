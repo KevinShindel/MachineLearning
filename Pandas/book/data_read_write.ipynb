{
 "cells": [
  {
   "metadata": {},
   "cell_type": "markdown",
   "source": [
    "# Read and Write data using Pandas#\n",
    "| Function          | Description           | Formats |\n",
    "|-------------------|-----------------------|---------|\n",
    "| pd.read_csv       | Read CSV file         | CSV     |\n",
    "| pd.read_excel     | Read Excel file       | XLSX    |\n",
    "| pd.read_sql       | Read SQL table        | SQL     |\n",
    "| pd.read_json      | Read JSON file        | JSON    |\n",
    "| pd.read_html      | Read HTML page        | HTML    |\n",
    "| pd.read_clipboard | Read clipboard        | CLIP    |\n",
    "| pd.read_fwf       | Read fixed-width file | FWF     |\n",
    "| pd.read_parquet   | Read parquet file     | PARQUET |\n",
    "| pd.to_csv         | Write CSV file        | CSV     |\n",
    "| pd.to_excel       | Write Excel file      | XLSX    |\n"
   ],
   "id": "5d0490ca6381c774"
  },
  {
   "metadata": {},
   "cell_type": "markdown",
   "source": "# Data Read and Write using Pandas",
   "id": "6431a03029d37a85"
  },
  {
   "metadata": {},
   "cell_type": "markdown",
   "source": [
    "# Read CSV file options\n",
    "\n",
    "| Option | Description | Example |\n",
    "|--------|-------------| ------- |\n",
    "| sep    | Delimiter to use | sep=';' |\n",
    "| header | Row number to use as column names | header=0 |\n",
    "| names  | List of column names | names=['a', 'b', 'c'] |\n",
    "| index_col | Column to use as index | index_col='date' |\n",
    "| usecols | Columns to read | usecols=['a', 'b'] |\n",
    "| dtype  | Data type for columns | dtype={'a': int, 'b': str} |\n",
    "| parse_dates | Parse dates | parse_dates=['date'] |\n",
    "| date_parser | Function to use for parsing dates | date_parser=parse_date |\n",
    "| na_values | Additional strings to recognize as NA | na_values=['missing'] |\n",
    "| thousands | Character to use as thousands separator | thousands='.' |\n",
    "| decimal | Character to use as decimal separator | decimal=',' |\n",
    "| skiprows | Number of rows to skip | skiprows=10 |\n",
    "| nrows | Number of rows to read | nrows=100 |\n",
    "| skipfooter | Number of rows to skip at end | skipfooter=10 |\n",
    "| encoding | Encoding to use | encoding='latin1' |\n",
    "| squeeze | Return series if possible | squeeze=True |\n",
    "| chunksize | Read file in chunks | chunksize=1000 |\n",
    "| iterator | Return TextFileReader object | iterator=True |\n",
    "| compression | Compression to use | compression='gzip' |\n",
    "| decimal | Character to use as decimal separator | decimal=',' |\n",
    "| quotechar | Quote character | quotechar='\"' |\n",
    "| quoting | Quoting style | quoting=csv.QUOTE_ALL |\n",
    "| escapechar | Character to use to escape | escapechar='\\\\' |\n",
    "| comment | Character to use as comment | comment='#' |\n",
    "| encoding | Encoding to use | encoding='latin1' |\n",
    "| dialect | Dialect to use | dialect='excel' |\n",
    "| error_bad_lines | Skip bad lines | error_bad_lines=False |\n",
    "| warn_bad_lines | Warn bad lines | warn_bad_lines=True |\n",
    "| low_memory | Use low memory mode | low_memory=True |\n",
    "| memory_map | Use memory map mode | memory_map=True |\n",
    "| float_precision | Floating point precision | float_precision='high' |\n"
   ],
   "id": "b13cf7e83439459b"
  },
  {
   "metadata": {},
   "cell_type": "markdown",
   "source": [
    "# Read specific Excel file options\n",
    "\n",
    "| Option | Description | Example |\n",
    "|--------|-------------| ------- |\n",
    "| sheet_name | Sheet to read | sheet_name='Sheet1' |\n",
    "\n"
   ],
   "id": "66ff4752416dbbeb"
  }
 ],
 "metadata": {
  "kernelspec": {
   "display_name": "Python 3",
   "language": "python",
   "name": "python3"
  },
  "language_info": {
   "codemirror_mode": {
    "name": "ipython",
    "version": 2
   },
   "file_extension": ".py",
   "mimetype": "text/x-python",
   "name": "python",
   "nbconvert_exporter": "python",
   "pygments_lexer": "ipython2",
   "version": "2.7.6"
  }
 },
 "nbformat": 4,
 "nbformat_minor": 5
}

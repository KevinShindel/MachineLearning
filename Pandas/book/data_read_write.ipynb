{
 "cells": [
  {
   "metadata": {},
   "cell_type": "raw",
   "source": [
    "# Read and Write data using Pandas#\n",
    "| Function | Description | Formats |\n",
    "| --- | --- | --- |\n",
    "| pd.read_csv | Read CSV file | CSV |\n",
    "| pd.read_excel | Read Excel file | XLSX |\n",
    "| pd.read_sql | Read SQL table | SQL |\n",
    "| pd.read_json | Read JSON file | JSON |\n",
    "| pd.read_html | Read HTML page | HTML |\n",
    "| pd.read_clipboard | Read clipboard | CLIP |\n",
    "| pd.read_fwf | Read fixed-width file | FWF |\n",
    "| pd.read_parquet | Read parquet file | PARQUET |\n",
    "| pd.to_csv | Write CSV file | CSV |\n",
    "| pd.to_excel | Write Excel file | XLSX |"
   ],
   "id": "2c6be51f340a1fc1"
  },
  {
   "metadata": {},
   "cell_type": "markdown",
   "source": "",
   "id": "bbbfbcd31c37d543"
  }
 ],
 "metadata": {
  "kernelspec": {
   "display_name": "Python 3",
   "language": "python",
   "name": "python3"
  },
  "language_info": {
   "codemirror_mode": {
    "name": "ipython",
    "version": 2
   },
   "file_extension": ".py",
   "mimetype": "text/x-python",
   "name": "python",
   "nbconvert_exporter": "python",
   "pygments_lexer": "ipython2",
   "version": "2.7.6"
  }
 },
 "nbformat": 4,
 "nbformat_minor": 5
}

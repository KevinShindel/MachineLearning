{
 "cells": [
  {
   "cell_type": "code",
   "id": "initial_id",
   "metadata": {
    "collapsed": true,
    "ExecuteTime": {
     "end_time": "2024-05-22T17:17:54.474061Z",
     "start_time": "2024-05-22T17:17:53.163043Z"
    }
   },
   "source": [
    "# import pandas\n",
    "import pandas as pd\n",
    "import numpy as np"
   ],
   "outputs": [],
   "execution_count": 2
  },
  {
   "metadata": {},
   "cell_type": "code",
   "outputs": [],
   "execution_count": null,
   "source": [
    "# Fill missing values\n",
    "\n",
    "string_data = pd.Series(['aardvark', 'artichoke', np.nan, 'avocado']) # Series with missing values\n",
    "string_data\n",
    "print(string_data.isnull()) # Check for missing values\n",
    "string_data[0] = None # Set first value to None\n",
    "print(string_data.isnull()) # Check for missing values"
   ],
   "id": "264c008e7eca0590"
  },
  {
   "metadata": {},
   "cell_type": "markdown",
   "source": [
    "# Methods for filling missing values\n",
    "\n",
    "| Method        | Description                | Example                     |\n",
    "|---------------|----------------------------|-----------------------------|\n",
    "| `fillna`      | Fill missing values        | `df.fillna(0)`              |\n",
    "| `ffill`       | Fill forward               | `df.fillna(method='ffill')` |\n",
    "| `bfill`       | Fill backward              | `df.fillna(method='bfill')` |\n",
    "| `dropna`      | Drop missing values        | `df.dropna()`               |\n",
    "| `interpolate` | Interpolate missing values | `df.interpolate()`          |\n",
    "| `replace`     | Replace missing values     | `df.replace(-999, np.nan)`  |\n",
    "| `mask`        | Replace values with NaN    | `df.mask(df < 0)`           |\n",
    "| `notnull`     | Negation of isnull         | `df.notnull()`              |"
   ],
   "id": "fc9be7f6e84e01eb"
  },
  {
   "metadata": {
    "ExecuteTime": {
     "end_time": "2024-05-18T08:45:16.684864Z",
     "start_time": "2024-05-18T08:45:16.657320Z"
    }
   },
   "cell_type": "code",
   "source": [
    "# N/A filtering \n",
    "from numpy import nan as NA\n",
    "\n",
    "data = pd.Series([1, NA, 3.5, NA, 7])\n",
    "print(data.dropna()) # Drop missing values\n",
    "print(data[data.notnull()]) # Negation of isnull\n",
    "\n",
    "data = pd.DataFrame([[1., 6.5, 3.], [1., NA, NA], [NA, NA, NA], [NA, 6.5, 3.]])\n",
    "cleaned = data.dropna() # Drop missing values\n",
    "data.dropna(how='all') # Drop rows with all missing values\n",
    "data.dropna(axis=1, how='all') # Drop columns with all missing values\n",
    "data.dropna(thresh=2) # Drop rows with at least 2 missing values\n",
    "df = pd.DataFrame(np.random.randn(7, 3))"
   ],
   "id": "bcb9c93d87740031",
   "outputs": [
    {
     "name": "stdout",
     "output_type": "stream",
     "text": [
      "0    1.0\n",
      "2    3.5\n",
      "4    7.0\n",
      "dtype: float64\n",
      "0    1.0\n",
      "2    3.5\n",
      "4    7.0\n",
      "dtype: float64\n",
      "     0    1    2\n",
      "0  1.0  6.5  3.0\n",
      "1  1.0  NaN  NaN\n",
      "2  NaN  NaN  NaN\n",
      "3  NaN  6.5  3.0\n",
      "     0    1    2\n",
      "0  1.0  6.5  3.0\n"
     ]
    }
   ],
   "execution_count": 5
  },
  {
   "metadata": {},
   "cell_type": "markdown",
   "source": [
    "# Dropna method arguments\n",
    "\n",
    "| Argument | Description                  | Example                 |\n",
    "|----------|------------------------------|-------------------------|\n",
    "| `axis`   | Axis to drop values          | `df.dropna(axis=1)`     |\n",
    "| `how`    | How to drop values           | `df.dropna(how='all')`  |\n",
    "| `thresh` | Minimum non-NA values        | `df.dropna(thresh=2)`   |\n",
    "| `subset` | Drop values in specific rows | `df.dropna(subset=[1])` |"
   ],
   "id": "4e64f287acfb895a"
  },
  {
   "metadata": {},
   "cell_type": "code",
   "outputs": [],
   "execution_count": null,
   "source": [
    "# NA Filling missing data\n",
    "\n",
    "df = pd.DataFrame(np.random.randn(7, 3))\n",
    "df.iloc[:4, 1] = NA\n",
    "df.iloc[:2, 2] = NA\n",
    "\n",
    "print(df.fillna(0)) # Fill missing values with 0\n",
    "print(df.fillna({1: 0.5, 2: 0})) # Fill missing values with different values\n",
    "print(df.fillna(method='ffill')) # Fill missing values with forward fill\n",
    "print(df.fillna(method='ffill', limit=2)) # Fill missing values with forward fill with limit"
   ],
   "id": "66c2e9c26c328357"
  },
  {
   "metadata": {},
   "cell_type": "code",
   "outputs": [],
   "execution_count": null,
   "source": [
    "data = pd.Series([1., NA, 3.5, NA, 7])\n",
    "print(data.fillna(data.mean())) # Fill missing values with mean"
   ],
   "id": "3d7e0ba23334a364"
  },
  {
   "metadata": {},
   "cell_type": "markdown",
   "source": [
    "# Fillna method arguments\n",
    "\n",
    "| Argument  | Description               | Example                     |\n",
    "|-----------|---------------------------|-----------------------------|\n",
    "| `value`   | Scalar value or dict-like | `df.fillna(0)`              |\n",
    "| `method`  | Interpolation method      | `df.fillna(method='ffill')` |\n",
    "| `axis`    | Axis to fill values       | `df.fillna(axis=1)`         |\n",
    "| `limit`   | Maximum number of fills   | `df.fillna(limit=2)`        |\n",
    "| `inplace` | Modify the calling object | `df.fillna(inplace=True)`   |"
   ],
   "id": "a05466fad9d39bf0"
  },
  {
   "metadata": {},
   "cell_type": "code",
   "outputs": [],
   "execution_count": null,
   "source": [
    "# Data transformation\n",
    "\n",
    "data = pd.DataFrame({'k1': ['one', 'two'] * 3 + ['two'], 'k2': [1, 1, 2, 3, 3, 4, 4]})\n",
    "print(data)\n",
    "data.duplicated() # Check for duplicates\n",
    "data.drop_duplicates() # Drop duplicates\n",
    "data['v1'] = range(7)\n",
    "print(data.drop_duplicates(['k1'])) # Drop duplicates in specific columns\n",
    "data.drop_duplicates(['k1', 'k2'], keep='last') # Drop duplicates and keep last"
   ],
   "id": "14d53d75f90fb27"
  },
  {
   "metadata": {},
   "cell_type": "code",
   "outputs": [],
   "execution_count": null,
   "source": [
    "# Data transformation with function mapping\n",
    "\n",
    "data = pd.DataFrame({'food': ['bacon', 'pulled pork', 'bacon', 'Pastrami', 'corned beef', 'Bacon', 'pastrami', 'honey ham', 'nova lox'], 'ounces': [4, 3, 12, 6, 7.5, 8, 3, 5, 6]})\n",
    "\n",
    "meat_to_animal = {\n",
    "    'bacon': 'pig',\n",
    "    'pulled pork': 'pig',\n",
    "    'pastrami': 'cow',\n",
    "    'corned beef': 'cow',\n",
    "    'honey ham': 'pig',\n",
    "    'nova lox': 'salmon'\n",
    "}\n",
    "\n",
    "data['animal'] = data['food'].str.lower().map(meat_to_animal)\n",
    "\n",
    "lowercased = data['food'].str.lower()\n",
    "data['animal'] = lowercased.map(meat_to_animal)\n",
    "\n",
    "data['food'].map(lambda x: meat_to_animal[x.lower()])"
   ],
   "id": "d32e7ce2a7854782"
  },
  {
   "metadata": {},
   "cell_type": "code",
   "outputs": [],
   "execution_count": null,
   "source": [
    "# Data transformation with replacing values\n",
    "\n",
    "data = pd.Series([1., -999., 2., -999., -1000., 3.])\n",
    "data.replace(-999, np.nan) # Replace single value\n",
    "data.replace([-999, -1000], np.nan) # Replace multiple values\n",
    "data.replace([-999, -1000], [np.nan, 0]) # Replace multiple values with different values\n",
    "data.replace({-999: np.nan, -1000: 0}) # Replace multiple values with different values"
   ],
   "id": "ee338d6fef83753b"
  },
  {
   "metadata": {},
   "cell_type": "code",
   "outputs": [],
   "execution_count": null,
   "source": [
    "# Data transformation with renaming axis indexes\n",
    "\n",
    "data = pd.DataFrame(np.arange(12).reshape((3, 4)), index=['Ohio', 'Colorado', 'New York'], columns=['one', 'two', 'three', 'four'])\n",
    "transform = lambda x: x[:4].upper() # Transform function for index\n",
    "\n",
    "data.index.map(transform) # Transform index\n",
    "data.index = data.index.map(transform) # Assign transformed index\n",
    "data.rename(index=str.title, columns=str.upper) # Rename index and columns\n",
    "data.rename(index={'OHIO': 'INDIANA'}, columns={'three': 'peekaboo'}) # Rename index and columns\n",
    "data.rename(index={'OHIO': 'INDIANA'}, columns={'three': 'peekaboo'}, inplace=True) # Rename index and columns in place"
   ],
   "id": "598bdf42af540387"
  },
  {
   "metadata": {
    "ExecuteTime": {
     "end_time": "2024-05-19T12:01:10.483636Z",
     "start_time": "2024-05-19T12:01:10.459474Z"
    }
   },
   "cell_type": "code",
   "source": [
    "# Data discretization and binning\n",
    "\n",
    "ages = [20, 22, 25, 27, 21, 23, 37, 31, 61, 45, 41, 32] # Ages\n",
    "bins = [18, 25, 35, 60, 100] # Bins\n",
    "cats = pd.cut(ages, bins) # Discretize ages into bins\n",
    "print(cats)\n",
    "print(cats.codes)\n",
    "print(cats.categories)\n",
    "pd.Series(cats).value_counts() # Count values in bins\n",
    "pd.cut(ages, [18, 26, 36, 61, 100], right=False) # Change side of interval\n",
    "\n",
    "group_names = ['Youth', 'YoungAdult', 'MiddleAged', 'Senior'] # Group names\n",
    "pd.cut(ages, bins, labels=group_names) # Assign group names\n",
    "\n",
    "data = np.random.rand(20) # Random data\n",
    "pd.cut(data, 4, precision=2) # Discretize data into 4 bins\n",
    "\n",
    "data = np.random.randn(1000) # Random data\n",
    "cats = pd.qcut(data, 4) # Quantile-based discretization\n",
    "result = pd.Series(cats).value_counts() # Count values in bins\n",
    "print(result)   \n",
    "\n",
    "pd.qcut(data, [0, 0.1, 0.5, 0.9, 1.]) # Quantile-based discretization with custom quantiles\n"
   ],
   "id": "20eb8b22609d1307",
   "outputs": [
    {
     "name": "stdout",
     "output_type": "stream",
     "text": [
      "[(18, 25], (18, 25], (18, 25], (25, 35], (18, 25], ..., (25, 35], (60, 100], (35, 60], (35, 60], (25, 35]]\n",
      "Length: 12\n",
      "Categories (4, interval[int64, right]): [(18, 25] < (25, 35] < (35, 60] < (60, 100]]\n",
      "[0 0 0 1 0 0 2 1 3 2 2 1]\n",
      "IntervalIndex([(18, 25], (25, 35], (35, 60], (60, 100]], dtype='interval[int64, right]')\n",
      "(-3.153, -0.603]     250\n",
      "(-0.603, -0.0106]    250\n",
      "(-0.0106, 0.681]     250\n",
      "(0.681, 2.861]       250\n",
      "Name: count, dtype: int64\n"
     ]
    }
   ],
   "execution_count": 6
  },
  {
   "metadata": {
    "ExecuteTime": {
     "end_time": "2024-05-22T17:09:47.743245Z",
     "start_time": "2024-05-22T17:09:47.700299Z"
    }
   },
   "cell_type": "code",
   "source": [
    "# Detecting and filtering outliers\n",
    "\n",
    "data = pd.DataFrame(np.random.randn(1000, 4)) # Random data\n",
    "data.describe() # Describe data\n",
    "print(data)\n",
    "\n",
    "col = data[2] # Select column\n",
    "col[np.abs(col) > 3] # Detect outliers\n",
    "\n",
    "# outliers = data[(np.abs(data) > 3).any(1)] # Filter rows with outliers\n",
    "# print(outliers)\n",
    "\n",
    "data[np.abs(data) > 3] = np.sign(data) * 3 # Cap outliers\n",
    "print(data)\n",
    "np.sign(data).head() # Compute sign of each element"
   ],
   "id": "b7332e5e61fda29b",
   "outputs": [
    {
     "name": "stdout",
     "output_type": "stream",
     "text": [
      "            0         1         2         3\n",
      "0    0.610274  0.107496  0.031415 -2.269725\n",
      "1   -2.227426 -0.115869 -1.052221  0.378565\n",
      "2    0.894538 -0.057689  0.260617  0.844179\n",
      "3   -0.439677 -2.904112  0.207828  0.381777\n",
      "4   -0.294742  0.459073 -0.540913  0.473642\n",
      "..        ...       ...       ...       ...\n",
      "995 -1.398838  0.981642 -1.338814 -0.742624\n",
      "996 -0.816035  0.697349 -0.371942 -0.808885\n",
      "997  1.771979  0.723293  1.856136 -0.875286\n",
      "998 -1.427003  0.370912 -0.434273 -1.093725\n",
      "999 -0.403393  1.440555  1.702848 -0.562931\n",
      "\n",
      "[1000 rows x 4 columns]\n",
      "            0         1         2         3\n",
      "0    0.610274  0.107496  0.031415 -2.269725\n",
      "1   -2.227426 -0.115869 -1.052221  0.378565\n",
      "2    0.894538 -0.057689  0.260617  0.844179\n",
      "3   -0.439677 -2.904112  0.207828  0.381777\n",
      "4   -0.294742  0.459073 -0.540913  0.473642\n",
      "..        ...       ...       ...       ...\n",
      "995 -1.398838  0.981642 -1.338814 -0.742624\n",
      "996 -0.816035  0.697349 -0.371942 -0.808885\n",
      "997  1.771979  0.723293  1.856136 -0.875286\n",
      "998 -1.427003  0.370912 -0.434273 -1.093725\n",
      "999 -0.403393  1.440555  1.702848 -0.562931\n",
      "\n",
      "[1000 rows x 4 columns]\n"
     ]
    },
    {
     "data": {
      "text/plain": [
       "     0    1    2    3\n",
       "0  1.0  1.0  1.0 -1.0\n",
       "1 -1.0 -1.0 -1.0  1.0\n",
       "2  1.0 -1.0  1.0  1.0\n",
       "3 -1.0 -1.0  1.0  1.0\n",
       "4 -1.0  1.0 -1.0  1.0"
      ],
      "text/html": [
       "<div>\n",
       "<style scoped>\n",
       "    .dataframe tbody tr th:only-of-type {\n",
       "        vertical-align: middle;\n",
       "    }\n",
       "\n",
       "    .dataframe tbody tr th {\n",
       "        vertical-align: top;\n",
       "    }\n",
       "\n",
       "    .dataframe thead th {\n",
       "        text-align: right;\n",
       "    }\n",
       "</style>\n",
       "<table border=\"1\" class=\"dataframe\">\n",
       "  <thead>\n",
       "    <tr style=\"text-align: right;\">\n",
       "      <th></th>\n",
       "      <th>0</th>\n",
       "      <th>1</th>\n",
       "      <th>2</th>\n",
       "      <th>3</th>\n",
       "    </tr>\n",
       "  </thead>\n",
       "  <tbody>\n",
       "    <tr>\n",
       "      <th>0</th>\n",
       "      <td>1.0</td>\n",
       "      <td>1.0</td>\n",
       "      <td>1.0</td>\n",
       "      <td>-1.0</td>\n",
       "    </tr>\n",
       "    <tr>\n",
       "      <th>1</th>\n",
       "      <td>-1.0</td>\n",
       "      <td>-1.0</td>\n",
       "      <td>-1.0</td>\n",
       "      <td>1.0</td>\n",
       "    </tr>\n",
       "    <tr>\n",
       "      <th>2</th>\n",
       "      <td>1.0</td>\n",
       "      <td>-1.0</td>\n",
       "      <td>1.0</td>\n",
       "      <td>1.0</td>\n",
       "    </tr>\n",
       "    <tr>\n",
       "      <th>3</th>\n",
       "      <td>-1.0</td>\n",
       "      <td>-1.0</td>\n",
       "      <td>1.0</td>\n",
       "      <td>1.0</td>\n",
       "    </tr>\n",
       "    <tr>\n",
       "      <th>4</th>\n",
       "      <td>-1.0</td>\n",
       "      <td>1.0</td>\n",
       "      <td>-1.0</td>\n",
       "      <td>1.0</td>\n",
       "    </tr>\n",
       "  </tbody>\n",
       "</table>\n",
       "</div>"
      ]
     },
     "execution_count": 4,
     "metadata": {},
     "output_type": "execute_result"
    }
   ],
   "execution_count": 4
  },
  {
   "metadata": {
    "ExecuteTime": {
     "end_time": "2024-05-22T17:18:00.509605Z",
     "start_time": "2024-05-22T17:18:00.494711Z"
    }
   },
   "cell_type": "code",
   "source": [
    "# Permutation and random sampling\n",
    "\n",
    "df = pd.DataFrame(np.arange(5 * 4).reshape((5, 4))) # Random data\n",
    "sampler = np.random.permutation(5) # Permutation\n",
    "df.take(sampler) # Permute rows\n",
    "df.sample(n=3) # Random sampling without replacement\n",
    "choices = pd.Series([5, 7, -1, 6, 4]) # Random data\n",
    "draws = choices.sample(n=10, replace=True) # Random sampling with replacement\n",
    "print(draws)"
   ],
   "id": "7dd8b6cacc5c629c",
   "outputs": [
    {
     "name": "stdout",
     "output_type": "stream",
     "text": [
      "4    4\n",
      "3    6\n",
      "2   -1\n",
      "1    7\n",
      "2   -1\n",
      "0    5\n",
      "4    4\n",
      "4    4\n",
      "1    7\n",
      "2   -1\n",
      "dtype: int64\n"
     ]
    }
   ],
   "execution_count": 3
  },
  {
   "metadata": {},
   "cell_type": "code",
   "outputs": [],
   "execution_count": null,
   "source": [
    "# Computing indicator/dummy variables\n",
    "\n",
    "df = pd.DataFrame({'key': ['b', 'b', 'a', 'c', 'a', 'b'], 'data1': range(6)}) # Random data\n",
    "print(df)\n",
    "pd.get_dummies(df['key']) # Create dummy variables\n",
    "dummies = pd.get_dummies(df['key'], prefix='key') # Create dummy variables with prefix\n",
    "print(dummies)\n",
    "df_with_dummy = df[['data1']].join(dummies) # Join dummy variables\n",
    "print(df_with_dummy)"
   ],
   "id": "9ef04c1aca62b442"
  },
  {
   "metadata": {
    "ExecuteTime": {
     "end_time": "2024-05-22T17:27:08.912764Z",
     "start_time": "2024-05-22T17:27:08.776025Z"
    }
   },
   "cell_type": "code",
   "source": [
    "# MovieLens 1M dataset\n",
    "\n",
    "mnames = ['movie_id', 'title', 'genres'] # Movie data\n",
    "movies = pd.read_table('../../dataset/grouplens_1m_movies.zip', sep='::', header=None, names=mnames, engine='python', encoding='latin1')\n",
    "print(movies.head())\n",
    "\n",
    "all_genres = [] # All genres\n",
    "for x in movies.genres:\n",
    "    all_genres.extend(x.split('|'))\n",
    "    \n",
    "genres = pd.Series(all_genres).unique() # Unique genres\n",
    "print(genres)\n",
    "\n",
    "zero_matrix = np.zeros((len(movies), len(genres))) # Zero matrix\n",
    "print(zero_matrix)\n",
    "\n",
    "dummy = pd.DataFrame(zero_matrix, columns=genres) # Dummy variables\n",
    "\n",
    "gen = movies.genres[0] # First genre\n",
    "print(gen.split('|'))\n",
    "print(dummy.columns.get_indexer(gen.split('|')))"
   ],
   "id": "5cb81d4966107b2",
   "outputs": [
    {
     "name": "stdout",
     "output_type": "stream",
     "text": [
      "   movie_id                               title                        genres\n",
      "0         1                    Toy Story (1995)   Animation|Children's|Comedy\n",
      "1         2                      Jumanji (1995)  Adventure|Children's|Fantasy\n",
      "2         3             Grumpier Old Men (1995)                Comedy|Romance\n",
      "3         4            Waiting to Exhale (1995)                  Comedy|Drama\n",
      "4         5  Father of the Bride Part II (1995)                        Comedy\n",
      "['Animation' \"Children's\" 'Comedy' 'Adventure' 'Fantasy' 'Romance' 'Drama'\n",
      " 'Action' 'Crime' 'Thriller' 'Horror' 'Sci-Fi' 'Documentary' 'War'\n",
      " 'Musical' 'Mystery' 'Film-Noir' 'Western']\n",
      "[[0. 0. 0. ... 0. 0. 0.]\n",
      " [0. 0. 0. ... 0. 0. 0.]\n",
      " [0. 0. 0. ... 0. 0. 0.]\n",
      " ...\n",
      " [0. 0. 0. ... 0. 0. 0.]\n",
      " [0. 0. 0. ... 0. 0. 0.]\n",
      " [0. 0. 0. ... 0. 0. 0.]]\n",
      "['Animation', \"Children's\", 'Comedy']\n",
      "[0 1 2]\n"
     ]
    }
   ],
   "execution_count": 17
  }
 ],
 "metadata": {
  "kernelspec": {
   "display_name": "Python 3",
   "language": "python",
   "name": "python3"
  },
  "language_info": {
   "codemirror_mode": {
    "name": "ipython",
    "version": 2
   },
   "file_extension": ".py",
   "mimetype": "text/x-python",
   "name": "python",
   "nbconvert_exporter": "python",
   "pygments_lexer": "ipython2",
   "version": "2.7.6"
  }
 },
 "nbformat": 4,
 "nbformat_minor": 5
}

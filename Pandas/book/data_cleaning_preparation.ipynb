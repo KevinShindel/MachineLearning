{
 "cells": [
  {
   "cell_type": "code",
   "id": "initial_id",
   "metadata": {
    "collapsed": true,
    "ExecuteTime": {
     "end_time": "2024-08-03T08:46:20.868251Z",
     "start_time": "2024-08-03T08:46:19.799971Z"
    }
   },
   "source": [
    "# import pandas\n",
    "import pandas as pd\n",
    "import numpy as np"
   ],
   "outputs": [],
   "execution_count": 1
  },
  {
   "metadata": {
    "ExecuteTime": {
     "end_time": "2024-08-03T08:46:20.879815Z",
     "start_time": "2024-08-03T08:46:20.870357Z"
    }
   },
   "cell_type": "code",
   "source": [
    "# Fill missing values\n",
    "\n",
    "string_data = pd.Series(['aardvark', 'artichoke', np.nan, 'avocado']) # Series with missing values\n",
    "string_data\n",
    "print(string_data.isnull()) # Check for missing values\n",
    "string_data[0] = None # Set first value to None\n",
    "print(string_data.isnull()) # Check for missing values"
   ],
   "id": "264c008e7eca0590",
   "outputs": [
    {
     "name": "stdout",
     "output_type": "stream",
     "text": [
      "0    False\n",
      "1    False\n",
      "2     True\n",
      "3    False\n",
      "dtype: bool\n",
      "0     True\n",
      "1    False\n",
      "2     True\n",
      "3    False\n",
      "dtype: bool\n"
     ]
    }
   ],
   "execution_count": 2
  },
  {
   "metadata": {},
   "cell_type": "markdown",
   "source": [
    "# Methods for filling missing values\n",
    "\n",
    "| Method        | Description                | Example                     |\n",
    "|---------------|----------------------------|-----------------------------|\n",
    "| `fillna`      | Fill missing values        | `df.fillna(0)`              |\n",
    "| `ffill`       | Fill forward               | `df.fillna(method='ffill')` |\n",
    "| `bfill`       | Fill backward              | `df.fillna(method='bfill')` |\n",
    "| `dropna`      | Drop missing values        | `df.dropna()`               |\n",
    "| `interpolate` | Interpolate missing values | `df.interpolate()`          |\n",
    "| `replace`     | Replace missing values     | `df.replace(-999, np.nan)`  |\n",
    "| `mask`        | Replace values with NaN    | `df.mask(df < 0)`           |\n",
    "| `notnull`     | Negation of isnull         | `df.notnull()`              |"
   ],
   "id": "fc9be7f6e84e01eb"
  },
  {
   "metadata": {
    "ExecuteTime": {
     "end_time": "2024-08-03T08:46:20.896461Z",
     "start_time": "2024-08-03T08:46:20.881421Z"
    }
   },
   "cell_type": "code",
   "source": [
    "# N/A filtering \n",
    "from numpy import nan as NA\n",
    "\n",
    "data = pd.Series([1, NA, 3.5, NA, 7])\n",
    "print(data.dropna()) # Drop missing values\n",
    "print(data[data.notnull()]) # Negation of isnull\n",
    "\n",
    "data = pd.DataFrame([[1., 6.5, 3.], [1., NA, NA], [NA, NA, NA], [NA, 6.5, 3.]])\n",
    "cleaned = data.dropna() # Drop missing values\n",
    "data.dropna(how='all') # Drop rows with all missing values\n",
    "data.dropna(axis=1, how='all') # Drop columns with all missing values\n",
    "data.dropna(thresh=2) # Drop rows with at least 2 missing values\n",
    "df = pd.DataFrame(np.random.randn(7, 3))"
   ],
   "id": "bcb9c93d87740031",
   "outputs": [
    {
     "name": "stdout",
     "output_type": "stream",
     "text": [
      "0    1.0\n",
      "2    3.5\n",
      "4    7.0\n",
      "dtype: float64\n",
      "0    1.0\n",
      "2    3.5\n",
      "4    7.0\n",
      "dtype: float64\n"
     ]
    }
   ],
   "execution_count": 3
  },
  {
   "metadata": {},
   "cell_type": "markdown",
   "source": [
    "# Dropna method arguments\n",
    "\n",
    "| Argument | Description                  | Example                 |\n",
    "|----------|------------------------------|-------------------------|\n",
    "| `axis`   | Axis to drop values          | `df.dropna(axis=1)`     |\n",
    "| `how`    | How to drop values           | `df.dropna(how='all')`  |\n",
    "| `thresh` | Minimum non-NA values        | `df.dropna(thresh=2)`   |\n",
    "| `subset` | Drop values in specific rows | `df.dropna(subset=[1])` |"
   ],
   "id": "4e64f287acfb895a"
  },
  {
   "metadata": {
    "ExecuteTime": {
     "end_time": "2024-08-03T08:46:20.918529Z",
     "start_time": "2024-08-03T08:46:20.898942Z"
    }
   },
   "cell_type": "code",
   "source": [
    "# NA Filling missing data\n",
    "\n",
    "df = pd.DataFrame(np.random.randn(7, 3))\n",
    "df.iloc[:4, 1] = NA\n",
    "df.iloc[:2, 2] = NA\n",
    "\n",
    "print(df.fillna(0)) # Fill missing values with 0\n",
    "print(df.fillna({1: 0.5, 2: 0})) # Fill missing values with different values\n",
    "print(df.fillna(method='ffill')) # Fill missing values with forward fill\n",
    "print(df.fillna(method='ffill', limit=2)) # Fill missing values with forward fill with limit"
   ],
   "id": "66c2e9c26c328357",
   "outputs": [
    {
     "name": "stdout",
     "output_type": "stream",
     "text": [
      "          0         1         2\n",
      "0 -0.585422  0.000000  0.000000\n",
      "1 -0.452200  0.000000  0.000000\n",
      "2 -0.094434  0.000000  2.017499\n",
      "3 -0.061829  0.000000  1.788029\n",
      "4 -0.601111  0.383341 -0.143167\n",
      "5  0.867600 -1.543485  0.811456\n",
      "6  1.174503  1.321020  0.094375\n",
      "          0         1         2\n",
      "0 -0.585422  0.500000  0.000000\n",
      "1 -0.452200  0.500000  0.000000\n",
      "2 -0.094434  0.500000  2.017499\n",
      "3 -0.061829  0.500000  1.788029\n",
      "4 -0.601111  0.383341 -0.143167\n",
      "5  0.867600 -1.543485  0.811456\n",
      "6  1.174503  1.321020  0.094375\n",
      "          0         1         2\n",
      "0 -0.585422       NaN       NaN\n",
      "1 -0.452200       NaN       NaN\n",
      "2 -0.094434       NaN  2.017499\n",
      "3 -0.061829       NaN  1.788029\n",
      "4 -0.601111  0.383341 -0.143167\n",
      "5  0.867600 -1.543485  0.811456\n",
      "6  1.174503  1.321020  0.094375\n",
      "          0         1         2\n",
      "0 -0.585422       NaN       NaN\n",
      "1 -0.452200       NaN       NaN\n",
      "2 -0.094434       NaN  2.017499\n",
      "3 -0.061829       NaN  1.788029\n",
      "4 -0.601111  0.383341 -0.143167\n",
      "5  0.867600 -1.543485  0.811456\n",
      "6  1.174503  1.321020  0.094375\n"
     ]
    },
    {
     "name": "stderr",
     "output_type": "stream",
     "text": [
      "/tmp/ipykernel_7034/3269902542.py:9: FutureWarning: DataFrame.fillna with 'method' is deprecated and will raise in a future version. Use obj.ffill() or obj.bfill() instead.\n",
      "  print(df.fillna(method='ffill')) # Fill missing values with forward fill\n",
      "/tmp/ipykernel_7034/3269902542.py:10: FutureWarning: DataFrame.fillna with 'method' is deprecated and will raise in a future version. Use obj.ffill() or obj.bfill() instead.\n",
      "  print(df.fillna(method='ffill', limit=2)) # Fill missing values with forward fill with limit\n"
     ]
    }
   ],
   "execution_count": 4
  },
  {
   "metadata": {
    "ExecuteTime": {
     "end_time": "2024-08-03T08:46:20.925581Z",
     "start_time": "2024-08-03T08:46:20.920298Z"
    }
   },
   "cell_type": "code",
   "source": [
    "data = pd.Series([1., NA, 3.5, NA, 7])\n",
    "print(data.fillna(data.mean())) # Fill missing values with mean"
   ],
   "id": "3d7e0ba23334a364",
   "outputs": [
    {
     "name": "stdout",
     "output_type": "stream",
     "text": [
      "0    1.000000\n",
      "1    3.833333\n",
      "2    3.500000\n",
      "3    3.833333\n",
      "4    7.000000\n",
      "dtype: float64\n"
     ]
    }
   ],
   "execution_count": 5
  },
  {
   "metadata": {},
   "cell_type": "markdown",
   "source": [
    "# Fillna method arguments\n",
    "\n",
    "| Argument  | Description               | Example                     |\n",
    "|-----------|---------------------------|-----------------------------|\n",
    "| `value`   | Scalar value or dict-like | `df.fillna(0)`              |\n",
    "| `method`  | Interpolation method      | `df.fillna(method='ffill')` |\n",
    "| `axis`    | Axis to fill values       | `df.fillna(axis=1)`         |\n",
    "| `limit`   | Maximum number of fills   | `df.fillna(limit=2)`        |\n",
    "| `inplace` | Modify the calling object | `df.fillna(inplace=True)`   |"
   ],
   "id": "a05466fad9d39bf0"
  },
  {
   "metadata": {
    "ExecuteTime": {
     "end_time": "2024-08-03T08:46:20.964590Z",
     "start_time": "2024-08-03T08:46:20.927628Z"
    }
   },
   "cell_type": "code",
   "source": [
    "# Data transformation\n",
    "\n",
    "data = pd.DataFrame({'k1': ['one', 'two'] * 3 + ['two'], 'k2': [1, 1, 2, 3, 3, 4, 4]})\n",
    "print(data)\n",
    "data.duplicated() # Check for duplicates\n",
    "data.drop_duplicates() # Drop duplicates\n",
    "data['v1'] = range(7)\n",
    "print(data.drop_duplicates(['k1'])) # Drop duplicates in specific columns\n",
    "data.drop_duplicates(['k1', 'k2'], keep='last') # Drop duplicates and keep last"
   ],
   "id": "14d53d75f90fb27",
   "outputs": [
    {
     "name": "stdout",
     "output_type": "stream",
     "text": [
      "    k1  k2\n",
      "0  one   1\n",
      "1  two   1\n",
      "2  one   2\n",
      "3  two   3\n",
      "4  one   3\n",
      "5  two   4\n",
      "6  two   4\n",
      "    k1  k2  v1\n",
      "0  one   1   0\n",
      "1  two   1   1\n"
     ]
    },
    {
     "data": {
      "text/plain": [
       "    k1  k2  v1\n",
       "0  one   1   0\n",
       "1  two   1   1\n",
       "2  one   2   2\n",
       "3  two   3   3\n",
       "4  one   3   4\n",
       "6  two   4   6"
      ],
      "text/html": [
       "<div>\n",
       "<style scoped>\n",
       "    .dataframe tbody tr th:only-of-type {\n",
       "        vertical-align: middle;\n",
       "    }\n",
       "\n",
       "    .dataframe tbody tr th {\n",
       "        vertical-align: top;\n",
       "    }\n",
       "\n",
       "    .dataframe thead th {\n",
       "        text-align: right;\n",
       "    }\n",
       "</style>\n",
       "<table border=\"1\" class=\"dataframe\">\n",
       "  <thead>\n",
       "    <tr style=\"text-align: right;\">\n",
       "      <th></th>\n",
       "      <th>k1</th>\n",
       "      <th>k2</th>\n",
       "      <th>v1</th>\n",
       "    </tr>\n",
       "  </thead>\n",
       "  <tbody>\n",
       "    <tr>\n",
       "      <th>0</th>\n",
       "      <td>one</td>\n",
       "      <td>1</td>\n",
       "      <td>0</td>\n",
       "    </tr>\n",
       "    <tr>\n",
       "      <th>1</th>\n",
       "      <td>two</td>\n",
       "      <td>1</td>\n",
       "      <td>1</td>\n",
       "    </tr>\n",
       "    <tr>\n",
       "      <th>2</th>\n",
       "      <td>one</td>\n",
       "      <td>2</td>\n",
       "      <td>2</td>\n",
       "    </tr>\n",
       "    <tr>\n",
       "      <th>3</th>\n",
       "      <td>two</td>\n",
       "      <td>3</td>\n",
       "      <td>3</td>\n",
       "    </tr>\n",
       "    <tr>\n",
       "      <th>4</th>\n",
       "      <td>one</td>\n",
       "      <td>3</td>\n",
       "      <td>4</td>\n",
       "    </tr>\n",
       "    <tr>\n",
       "      <th>6</th>\n",
       "      <td>two</td>\n",
       "      <td>4</td>\n",
       "      <td>6</td>\n",
       "    </tr>\n",
       "  </tbody>\n",
       "</table>\n",
       "</div>"
      ]
     },
     "execution_count": 6,
     "metadata": {},
     "output_type": "execute_result"
    }
   ],
   "execution_count": 6
  },
  {
   "metadata": {
    "ExecuteTime": {
     "end_time": "2024-08-03T08:46:20.980914Z",
     "start_time": "2024-08-03T08:46:20.966481Z"
    }
   },
   "cell_type": "code",
   "source": [
    "# Data transformation with function mapping\n",
    "\n",
    "data = pd.DataFrame({'food': ['bacon', 'pulled pork', 'bacon', 'Pastrami', 'corned beef', 'Bacon', 'pastrami', 'honey ham', 'nova lox'], 'ounces': [4, 3, 12, 6, 7.5, 8, 3, 5, 6]})\n",
    "\n",
    "meat_to_animal = {\n",
    "    'bacon': 'pig',\n",
    "    'pulled pork': 'pig',\n",
    "    'pastrami': 'cow',\n",
    "    'corned beef': 'cow',\n",
    "    'honey ham': 'pig',\n",
    "    'nova lox': 'salmon'\n",
    "}\n",
    "\n",
    "data['animal'] = data['food'].str.lower().map(meat_to_animal)\n",
    "\n",
    "lowercased = data['food'].str.lower()\n",
    "data['animal'] = lowercased.map(meat_to_animal)\n",
    "\n",
    "data['food'].map(lambda x: meat_to_animal[x.lower()])"
   ],
   "id": "d32e7ce2a7854782",
   "outputs": [
    {
     "data": {
      "text/plain": [
       "0       pig\n",
       "1       pig\n",
       "2       pig\n",
       "3       cow\n",
       "4       cow\n",
       "5       pig\n",
       "6       cow\n",
       "7       pig\n",
       "8    salmon\n",
       "Name: food, dtype: object"
      ]
     },
     "execution_count": 7,
     "metadata": {},
     "output_type": "execute_result"
    }
   ],
   "execution_count": 7
  },
  {
   "metadata": {
    "ExecuteTime": {
     "end_time": "2024-08-03T08:46:20.993382Z",
     "start_time": "2024-08-03T08:46:20.982693Z"
    }
   },
   "cell_type": "code",
   "source": [
    "# Data transformation with replacing values\n",
    "\n",
    "data = pd.Series([1., -999., 2., -999., -1000., 3.])\n",
    "data.replace(-999, np.nan) # Replace single value\n",
    "data.replace([-999, -1000], np.nan) # Replace multiple values\n",
    "data.replace([-999, -1000], [np.nan, 0]) # Replace multiple values with different values\n",
    "data.replace({-999: np.nan, -1000: 0}) # Replace multiple values with different values"
   ],
   "id": "ee338d6fef83753b",
   "outputs": [
    {
     "data": {
      "text/plain": [
       "0    1.0\n",
       "1    NaN\n",
       "2    2.0\n",
       "3    NaN\n",
       "4    0.0\n",
       "5    3.0\n",
       "dtype: float64"
      ]
     },
     "execution_count": 8,
     "metadata": {},
     "output_type": "execute_result"
    }
   ],
   "execution_count": 8
  },
  {
   "metadata": {
    "ExecuteTime": {
     "end_time": "2024-08-03T08:46:21.003191Z",
     "start_time": "2024-08-03T08:46:20.995409Z"
    }
   },
   "cell_type": "code",
   "source": [
    "# Data transformation with renaming axis indexes\n",
    "\n",
    "data = pd.DataFrame(np.arange(12).reshape((3, 4)), index=['Ohio', 'Colorado', 'New York'], columns=['one', 'two', 'three', 'four'])\n",
    "transform = lambda x: x[:4].upper() # Transform function for index\n",
    "\n",
    "data.index.map(transform) # Transform index\n",
    "data.index = data.index.map(transform) # Assign transformed index\n",
    "data.rename(index=str.title, columns=str.upper) # Rename index and columns\n",
    "data.rename(index={'OHIO': 'INDIANA'}, columns={'three': 'peekaboo'}) # Rename index and columns\n",
    "data.rename(index={'OHIO': 'INDIANA'}, columns={'three': 'peekaboo'}, inplace=True) # Rename index and columns in place"
   ],
   "id": "598bdf42af540387",
   "outputs": [],
   "execution_count": 9
  },
  {
   "metadata": {
    "ExecuteTime": {
     "end_time": "2024-08-03T08:46:21.054484Z",
     "start_time": "2024-08-03T08:46:21.007246Z"
    }
   },
   "cell_type": "code",
   "source": [
    "# Data discretization and binning\n",
    "\n",
    "ages = [20, 22, 25, 27, 21, 23, 37, 31, 61, 45, 41, 32] # Ages\n",
    "bins = [18, 25, 35, 60, 100] # Bins\n",
    "cats = pd.cut(ages, bins) # Discretize ages into bins\n",
    "print(cats)\n",
    "print(cats.codes)\n",
    "print(cats.categories)\n",
    "pd.Series(cats).value_counts() # Count values in bins\n",
    "pd.cut(ages, [18, 26, 36, 61, 100], right=False) # Change side of interval\n",
    "\n",
    "group_names = ['Youth', 'YoungAdult', 'MiddleAged', 'Senior'] # Group names\n",
    "pd.cut(ages, bins, labels=group_names) # Assign group names\n",
    "\n",
    "data = np.random.rand(20) # Random data\n",
    "pd.cut(data, 4, precision=2) # Discretize data into 4 bins\n",
    "\n",
    "data = np.random.randn(1000) # Random data\n",
    "cats = pd.qcut(data, 4) # Quantile-based discretization\n",
    "result = pd.Series(cats).value_counts() # Count values in bins\n",
    "print(result)   \n",
    "\n",
    "pd.qcut(data, [0, 0.1, 0.5, 0.9, 1.]) # Quantile-based discretization with custom quantiles\n"
   ],
   "id": "20eb8b22609d1307",
   "outputs": [
    {
     "name": "stdout",
     "output_type": "stream",
     "text": [
      "[(18, 25], (18, 25], (18, 25], (25, 35], (18, 25], ..., (25, 35], (60, 100], (35, 60], (35, 60], (25, 35]]\n",
      "Length: 12\n",
      "Categories (4, interval[int64, right]): [(18, 25] < (25, 35] < (35, 60] < (60, 100]]\n",
      "[0 0 0 1 0 0 2 1 3 2 2 1]\n",
      "IntervalIndex([(18, 25], (25, 35], (35, 60], (60, 100]], dtype='interval[int64, right]')\n",
      "(-3.407, -0.701]     250\n",
      "(-0.701, 0.00716]    250\n",
      "(0.00716, 0.674]     250\n",
      "(0.674, 3.406]       250\n",
      "Name: count, dtype: int64\n"
     ]
    },
    {
     "data": {
      "text/plain": [
       "[(0.00716, 1.32], (0.00716, 1.32], (0.00716, 1.32], (-1.25, 0.00716], (0.00716, 1.32], ..., (0.00716, 1.32], (-1.25, 0.00716], (0.00716, 1.32], (-3.407, -1.25], (0.00716, 1.32]]\n",
       "Length: 1000\n",
       "Categories (4, interval[float64, right]): [(-3.407, -1.25] < (-1.25, 0.00716] < (0.00716, 1.32] < (1.32, 3.406]]"
      ]
     },
     "execution_count": 10,
     "metadata": {},
     "output_type": "execute_result"
    }
   ],
   "execution_count": 10
  },
  {
   "metadata": {
    "ExecuteTime": {
     "end_time": "2024-08-03T08:46:21.093295Z",
     "start_time": "2024-08-03T08:46:21.056139Z"
    }
   },
   "cell_type": "code",
   "source": [
    "# Detecting and filtering outliers\n",
    "\n",
    "data = pd.DataFrame(np.random.randn(1000, 4)) # Random data\n",
    "data.describe() # Describe data\n",
    "print(data)\n",
    "\n",
    "col = data[2] # Select column\n",
    "col[np.abs(col) > 3] # Detect outliers\n",
    "\n",
    "# outliers = data[(np.abs(data) > 3).any(1)] # Filter rows with outliers\n",
    "# print(outliers)\n",
    "\n",
    "data[np.abs(data) > 3] = np.sign(data) * 3 # Cap outliers\n",
    "print(data)\n",
    "np.sign(data).head() # Compute sign of each element"
   ],
   "id": "b7332e5e61fda29b",
   "outputs": [
    {
     "name": "stdout",
     "output_type": "stream",
     "text": [
      "            0         1         2         3\n",
      "0    0.400821  0.768142 -0.883975 -0.904884\n",
      "1   -0.535884  0.267236  1.015331 -0.635472\n",
      "2   -1.829197 -0.701704 -0.675029 -0.059943\n",
      "3   -0.063197  0.104394  0.413716 -1.091740\n",
      "4   -0.961904  0.315508 -1.558283  0.653537\n",
      "..        ...       ...       ...       ...\n",
      "995  0.484984 -0.554324 -0.874425 -1.396611\n",
      "996 -0.305883 -0.726839 -0.568515  0.645232\n",
      "997  0.670504  0.303797  1.344536  1.567705\n",
      "998 -0.194456  1.032228  0.473385  0.413028\n",
      "999  0.776214  0.155965  0.678151 -0.511930\n",
      "\n",
      "[1000 rows x 4 columns]\n",
      "            0         1         2         3\n",
      "0    0.400821  0.768142 -0.883975 -0.904884\n",
      "1   -0.535884  0.267236  1.015331 -0.635472\n",
      "2   -1.829197 -0.701704 -0.675029 -0.059943\n",
      "3   -0.063197  0.104394  0.413716 -1.091740\n",
      "4   -0.961904  0.315508 -1.558283  0.653537\n",
      "..        ...       ...       ...       ...\n",
      "995  0.484984 -0.554324 -0.874425 -1.396611\n",
      "996 -0.305883 -0.726839 -0.568515  0.645232\n",
      "997  0.670504  0.303797  1.344536  1.567705\n",
      "998 -0.194456  1.032228  0.473385  0.413028\n",
      "999  0.776214  0.155965  0.678151 -0.511930\n",
      "\n",
      "[1000 rows x 4 columns]\n"
     ]
    },
    {
     "data": {
      "text/plain": [
       "     0    1    2    3\n",
       "0  1.0  1.0 -1.0 -1.0\n",
       "1 -1.0  1.0  1.0 -1.0\n",
       "2 -1.0 -1.0 -1.0 -1.0\n",
       "3 -1.0  1.0  1.0 -1.0\n",
       "4 -1.0  1.0 -1.0  1.0"
      ],
      "text/html": [
       "<div>\n",
       "<style scoped>\n",
       "    .dataframe tbody tr th:only-of-type {\n",
       "        vertical-align: middle;\n",
       "    }\n",
       "\n",
       "    .dataframe tbody tr th {\n",
       "        vertical-align: top;\n",
       "    }\n",
       "\n",
       "    .dataframe thead th {\n",
       "        text-align: right;\n",
       "    }\n",
       "</style>\n",
       "<table border=\"1\" class=\"dataframe\">\n",
       "  <thead>\n",
       "    <tr style=\"text-align: right;\">\n",
       "      <th></th>\n",
       "      <th>0</th>\n",
       "      <th>1</th>\n",
       "      <th>2</th>\n",
       "      <th>3</th>\n",
       "    </tr>\n",
       "  </thead>\n",
       "  <tbody>\n",
       "    <tr>\n",
       "      <th>0</th>\n",
       "      <td>1.0</td>\n",
       "      <td>1.0</td>\n",
       "      <td>-1.0</td>\n",
       "      <td>-1.0</td>\n",
       "    </tr>\n",
       "    <tr>\n",
       "      <th>1</th>\n",
       "      <td>-1.0</td>\n",
       "      <td>1.0</td>\n",
       "      <td>1.0</td>\n",
       "      <td>-1.0</td>\n",
       "    </tr>\n",
       "    <tr>\n",
       "      <th>2</th>\n",
       "      <td>-1.0</td>\n",
       "      <td>-1.0</td>\n",
       "      <td>-1.0</td>\n",
       "      <td>-1.0</td>\n",
       "    </tr>\n",
       "    <tr>\n",
       "      <th>3</th>\n",
       "      <td>-1.0</td>\n",
       "      <td>1.0</td>\n",
       "      <td>1.0</td>\n",
       "      <td>-1.0</td>\n",
       "    </tr>\n",
       "    <tr>\n",
       "      <th>4</th>\n",
       "      <td>-1.0</td>\n",
       "      <td>1.0</td>\n",
       "      <td>-1.0</td>\n",
       "      <td>1.0</td>\n",
       "    </tr>\n",
       "  </tbody>\n",
       "</table>\n",
       "</div>"
      ]
     },
     "execution_count": 11,
     "metadata": {},
     "output_type": "execute_result"
    }
   ],
   "execution_count": 11
  },
  {
   "metadata": {
    "ExecuteTime": {
     "end_time": "2024-08-03T08:46:21.103110Z",
     "start_time": "2024-08-03T08:46:21.095321Z"
    }
   },
   "cell_type": "code",
   "source": [
    "# Permutation and random sampling\n",
    "\n",
    "df = pd.DataFrame(np.arange(5 * 4).reshape((5, 4))) # Random data\n",
    "sampler = np.random.permutation(5) # Permutation\n",
    "df.take(sampler) # Permute rows\n",
    "df.sample(n=3) # Random sampling without replacement\n",
    "choices = pd.Series([5, 7, -1, 6, 4]) # Random data\n",
    "draws = choices.sample(n=10, replace=True) # Random sampling with replacement\n",
    "print(draws)"
   ],
   "id": "7dd8b6cacc5c629c",
   "outputs": [
    {
     "name": "stdout",
     "output_type": "stream",
     "text": [
      "1    7\n",
      "3    6\n",
      "3    6\n",
      "2   -1\n",
      "0    5\n",
      "0    5\n",
      "4    4\n",
      "2   -1\n",
      "3    6\n",
      "0    5\n",
      "dtype: int64\n"
     ]
    }
   ],
   "execution_count": 12
  },
  {
   "metadata": {
    "ExecuteTime": {
     "end_time": "2024-08-03T08:46:21.129965Z",
     "start_time": "2024-08-03T08:46:21.104862Z"
    }
   },
   "cell_type": "code",
   "source": [
    "# Computing indicator/dummy variables\n",
    "\n",
    "df = pd.DataFrame({'key': ['b', 'b', 'a', 'c', 'a', 'b'], 'data1': range(6)}) # Random data\n",
    "print(df)\n",
    "pd.get_dummies(df['key']) # Create dummy variables\n",
    "dummies = pd.get_dummies(df['key'], prefix='key') # Create dummy variables with prefix\n",
    "print(dummies)\n",
    "df_with_dummy = df[['data1']].join(dummies) # Join dummy variables\n",
    "print(df_with_dummy)"
   ],
   "id": "9ef04c1aca62b442",
   "outputs": [
    {
     "name": "stdout",
     "output_type": "stream",
     "text": [
      "  key  data1\n",
      "0   b      0\n",
      "1   b      1\n",
      "2   a      2\n",
      "3   c      3\n",
      "4   a      4\n",
      "5   b      5\n",
      "   key_a  key_b  key_c\n",
      "0  False   True  False\n",
      "1  False   True  False\n",
      "2   True  False  False\n",
      "3  False  False   True\n",
      "4   True  False  False\n",
      "5  False   True  False\n",
      "   data1  key_a  key_b  key_c\n",
      "0      0  False   True  False\n",
      "1      1  False   True  False\n",
      "2      2   True  False  False\n",
      "3      3  False  False   True\n",
      "4      4   True  False  False\n",
      "5      5  False   True  False\n"
     ]
    }
   ],
   "execution_count": 13
  },
  {
   "metadata": {
    "ExecuteTime": {
     "end_time": "2024-08-03T08:46:21.171542Z",
     "start_time": "2024-08-03T08:46:21.131924Z"
    }
   },
   "cell_type": "code",
   "source": [
    "# MovieLens 1M dataset\n",
    "\n",
    "mnames = ['movie_id', 'title', 'genres'] # Movie data\n",
    "movies = pd.read_table('../../dataset/grouplens_1m_movies.zip', sep='::', header=None, names=mnames, engine='python', encoding='latin1')\n",
    "print(movies.head())\n",
    "\n",
    "all_genres = [] # All genres\n",
    "for x in movies.genres:\n",
    "    all_genres.extend(x.split('|'))\n",
    "    \n",
    "genres = pd.Series(all_genres).unique() # Unique genres\n",
    "print(genres)\n",
    "\n",
    "zero_matrix = np.zeros((len(movies), len(genres))) # Zero matrix\n",
    "print(zero_matrix)\n",
    "\n",
    "dummy = pd.DataFrame(zero_matrix, columns=genres) # Dummy variables\n",
    "\n",
    "gen = movies.genres[0] # First genre\n",
    "print(gen.split('|'))\n",
    "print(dummy.columns.get_indexer(gen.split('|')))"
   ],
   "id": "5cb81d4966107b2",
   "outputs": [
    {
     "name": "stdout",
     "output_type": "stream",
     "text": [
      "   movie_id                               title                        genres\n",
      "0         1                    Toy Story (1995)   Animation|Children's|Comedy\n",
      "1         2                      Jumanji (1995)  Adventure|Children's|Fantasy\n",
      "2         3             Grumpier Old Men (1995)                Comedy|Romance\n",
      "3         4            Waiting to Exhale (1995)                  Comedy|Drama\n",
      "4         5  Father of the Bride Part II (1995)                        Comedy\n",
      "['Animation' \"Children's\" 'Comedy' 'Adventure' 'Fantasy' 'Romance' 'Drama'\n",
      " 'Action' 'Crime' 'Thriller' 'Horror' 'Sci-Fi' 'Documentary' 'War'\n",
      " 'Musical' 'Mystery' 'Film-Noir' 'Western']\n",
      "[[0. 0. 0. ... 0. 0. 0.]\n",
      " [0. 0. 0. ... 0. 0. 0.]\n",
      " [0. 0. 0. ... 0. 0. 0.]\n",
      " ...\n",
      " [0. 0. 0. ... 0. 0. 0.]\n",
      " [0. 0. 0. ... 0. 0. 0.]\n",
      " [0. 0. 0. ... 0. 0. 0.]]\n",
      "['Animation', \"Children's\", 'Comedy']\n",
      "[0 1 2]\n"
     ]
    }
   ],
   "execution_count": 14
  },
  {
   "metadata": {
    "ExecuteTime": {
     "end_time": "2024-08-03T08:46:21.909565Z",
     "start_time": "2024-08-03T08:46:21.172929Z"
    }
   },
   "cell_type": "code",
   "source": [
    "for idx, gen in enumerate(movies.genres): # Iterate over genres\n",
    "    indices = dummy.columns.get_indexer(gen.split('|')) # Get indices\n",
    "    dummy.iloc[idx, indices] = 1 # Set values\n",
    "    \n",
    "movies_windic = movies.join(dummy.add_prefix('Genre_')) # Join dummy variables\n",
    "print(movies_windic.iloc[0]) # Print first row"
   ],
   "id": "5fdea752dcdb8627",
   "outputs": [
    {
     "name": "stdout",
     "output_type": "stream",
     "text": [
      "movie_id                                       1\n",
      "title                           Toy Story (1995)\n",
      "genres               Animation|Children's|Comedy\n",
      "Genre_Animation                              1.0\n",
      "Genre_Children's                             1.0\n",
      "Genre_Comedy                                 1.0\n",
      "Genre_Adventure                              0.0\n",
      "Genre_Fantasy                                0.0\n",
      "Genre_Romance                                0.0\n",
      "Genre_Drama                                  0.0\n",
      "Genre_Action                                 0.0\n",
      "Genre_Crime                                  0.0\n",
      "Genre_Thriller                               0.0\n",
      "Genre_Horror                                 0.0\n",
      "Genre_Sci-Fi                                 0.0\n",
      "Genre_Documentary                            0.0\n",
      "Genre_War                                    0.0\n",
      "Genre_Musical                                0.0\n",
      "Genre_Mystery                                0.0\n",
      "Genre_Film-Noir                              0.0\n",
      "Genre_Western                                0.0\n",
      "Name: 0, dtype: object\n"
     ]
    }
   ],
   "execution_count": 15
  },
  {
   "metadata": {
    "ExecuteTime": {
     "end_time": "2024-08-03T08:47:21.100470Z",
     "start_time": "2024-08-03T08:47:21.073324Z"
    }
   },
   "cell_type": "code",
   "source": [
    "np.random.seed(12345) # Random seed\n",
    "values = np.random.rand(10) # Random values\n",
    "bins = [0, 0.2, 0.4, 0.6, 0.8, 1] # Bins\n",
    "pd.get_dummies(pd.cut(values, bins)) # Create dummy variables\n",
    "print(pd.get_dummies(pd.cut(values, bins)))"
   ],
   "id": "e64125ca019a6214",
   "outputs": [
    {
     "name": "stdout",
     "output_type": "stream",
     "text": [
      "   (0.0, 0.2]  (0.2, 0.4]  (0.4, 0.6]  (0.6, 0.8]  (0.8, 1.0]\n",
      "0       False       False       False       False        True\n",
      "1       False        True       False       False       False\n",
      "2        True       False       False       False       False\n",
      "3       False        True       False       False       False\n",
      "4       False       False        True       False       False\n",
      "5       False       False        True       False       False\n",
      "6       False       False       False       False        True\n",
      "7       False       False       False        True       False\n",
      "8       False       False       False        True       False\n",
      "9       False       False       False        True       False\n"
     ]
    }
   ],
   "execution_count": 16
  },
  {
   "metadata": {},
   "cell_type": "code",
   "outputs": [],
   "execution_count": null,
   "source": [
    "# String manipulation\n",
    "\n",
    "val = 'a,b,  guido' # String\n",
    "print(val.split(',')) # Split string\n",
    "pieces = [x.strip() for x in val.split(',')] # Strip spaces \n",
    "print(pieces)\n",
    "first, second, third = pieces # Unpack values\n",
    "print(first + '::' + second + '::' + third) # Concatenate values\n",
    "print('::'.join(pieces)) # Join values\n",
    "\n",
    "print('guido' in val) # Check for substring\n",
    "val.index(',') # Find substring\n",
    "val.find(':') # Find substring\n",
    "val.count(',') # Count occurrences\n",
    "val.replace(',', '::') # Replace substring\n",
    "val.replace(',', '') # Replace substring"
   ],
   "id": "a3a741f8f8771630"
  },
  {
   "metadata": {},
   "cell_type": "markdown",
   "source": [
    "# Built-in string methods\n",
    "\n",
    "| Method        | Description                | Example                     |\n",
    "|---------------|----------------------------|-----------------------------|\n",
    "| `split`       | Split strings              | `val.split(',')`            |\n",
    "| `strip`       | Strip whitespace           | `x.strip()`                 |\n",
    "| `join`        | Join strings               | `'::'.join(pieces)`         |\n",
    "| `in`          | Check for substring        | `'guido' in val`            |\n",
    "| `index`       | Find substring             | `val.index(',')`            |\n",
    "| `find`        | Find substring             | `val.find(':')`             |\n",
    "| `count`       | Count occurrences          | `val.count(',')`            |\n",
    "| `replace`     | Replace substring          | `val.replace(',', '::')`    |"
   ],
   "id": "5217440058938a85"
  },
  {
   "metadata": {
    "ExecuteTime": {
     "end_time": "2024-08-03T08:54:55.009248Z",
     "start_time": "2024-08-03T08:54:54.992919Z"
    }
   },
   "cell_type": "code",
   "source": [
    "# Regular expressions\n",
    "\n",
    "import re\n",
    "\n",
    "text = \"foo    bar\\t baz  \\tqux\" # Text\n",
    "print(text)\n",
    "re.split('\\s+', text) # Split text\n",
    "regex = re.compile('\\s+') # Compile regex\n",
    "regex.split(text) # Split text\n",
    "regex.findall(text) # Find all occurrences"
   ],
   "id": "959e656d579edf7e",
   "outputs": [
    {
     "name": "stdout",
     "output_type": "stream",
     "text": [
      "foo    bar\t baz  \tqux\n"
     ]
    },
    {
     "data": {
      "text/plain": [
       "['    ', '\\t ', '  \\t']"
      ]
     },
     "execution_count": 19,
     "metadata": {},
     "output_type": "execute_result"
    }
   ],
   "execution_count": 19
  },
  {
   "metadata": {
    "ExecuteTime": {
     "end_time": "2024-08-03T08:54:56.890530Z",
     "start_time": "2024-08-03T08:54:56.880968Z"
    }
   },
   "cell_type": "code",
   "source": [
    "text = \"\"\"Dave dave@google.com\n",
    "Steve steve@gmail.com\n",
    "Rob rob@gmail.com\n",
    "Ryan ryan@yahoo.com\n",
    "\"\"\"\n",
    "\n",
    "pattern = r'[A-Z0-9._%+-]+@[A-Z0-9.-]+\\.[A-Z]{2,4}' # Pattern\n",
    "regex = re.compile(pattern, flags=re.IGNORECASE) # Compile regex\n",
    "all_mails = regex.findall(text) # Find all occurrences\n",
    "print(all_mails)"
   ],
   "id": "7fb8fab5235453f1",
   "outputs": [
    {
     "name": "stdout",
     "output_type": "stream",
     "text": [
      "['dave@google.com', 'steve@gmail.com', 'rob@gmail.com', 'ryan@yahoo.com']\n"
     ]
    }
   ],
   "execution_count": 20
  },
  {
   "metadata": {},
   "cell_type": "code",
   "outputs": [],
   "execution_count": null,
   "source": [
    "m = regex.search(text) # Search first occurrence\n",
    "print(m)\n",
    "\n",
    "print(regex.match(text)) # Match first occurrence\n",
    "print(regex.sub('REDACTED', text)) # Substitute occurrences"
   ],
   "id": "200f4fadeca82706"
  },
  {
   "metadata": {},
   "cell_type": "code",
   "outputs": [],
   "execution_count": null,
   "source": [
    "pattern = r'([A-Z0-9._%+-]+)@([A-Z0-9.-]+)\\.([A-Z]{2,4})' # Pattern\n",
    "regex = re.compile(pattern, flags=re.IGNORECASE) # Compile regex\n",
    "m = regex.match('web@bright.com') # Match\n",
    "print(m.groups())\n",
    "print(regex.findall(text)) # Find all occurrences\n",
    "print(regex.sub(r'Username: \\1, Domain: \\2, Suffix: \\3', text)) # Substitute occurrences"
   ],
   "id": "1b0730caaf4e985f"
  },
  {
   "metadata": {},
   "cell_type": "markdown",
   "source": [
    "# Regex methods\n",
    "\n",
    "| Method     | Description             | Example                       |\n",
    "|------------|-------------------------|-------------------------------|\n",
    "| `findall`  | Find all occurrences    | `regex.findall(text)`         |\n",
    "| `search`   | Search first occurrence | `regex.search(text)`          |\n",
    "| `match`    | Match first occurrence  | `regex.match(text)`           |\n",
    "| `sub`      | Substitute occurrences  | `regex.sub('REDACTED', text)` |\n",
    "| `groups`   | Return groups           | `m.groups()`                  |\n",
    "| `compile`  | Compile regex           | `re.compile(pattern)`         |\n",
    "| `finditer` | Find all occurrences    | `regex.finditer(text)`        |"
   ],
   "id": "6bf5b407a08cf701"
  },
  {
   "metadata": {},
   "cell_type": "code",
   "outputs": [],
   "execution_count": null,
   "source": [
    "# Vectorized string functions in pandas\n",
    "\n",
    "data = {'Dave': 'dave@google.com', 'Steve': 'steve@gmail.com', 'Rob': 'rob@gmail.com', 'Wes': np.nan} # Data\n",
    "data = pd.Series(data) # Series\n",
    "print(data)\n",
    "\n",
    "print(data.isnull()) # Check for missing values\n",
    "print(data.str.contains('gmail')) # Check for substring\n",
    "print(data.str.findall(pattern, flags=re.IGNORECASE)) # Find all occurrences\n",
    "print(data.str.match(pattern, flags=re.IGNORECASE)) # Match first occurrence"
   ],
   "id": "bbeb290001e98b26"
  },
  {
   "metadata": {},
   "cell_type": "markdown",
   "source": [
    "# Vectorized string methods in pandas DataFrame\n",
    "\n",
    "| Method          | Description                 | Example                             |\n",
    "|-----------------|-----------------------------|-------------------------------------|\n",
    "| `split`         | Split strings               | `df.str.split(',')`                 |\n",
    "| `strip`         | Strip whitespace            | `df.str.strip()`                    |\n",
    "| `join`          | Join strings                | `df.str.join(pieces)`               |\n",
    "| `contains`      | Check for substring         | `df.str.contains('gmail')`          |\n",
    "| `findall`       | Find all occurrences        | `df.str.findall(pattern)`           |\n",
    "| `match`         | Match first occurrence      | `df.str.match(pattern)`             |\n",
    "| `replace`       | Replace substring           | `df.str.replace(',', '::')`         |\n",
    "| `extract`       | Extract substrings          | `df.str.extract(pattern)`           |\n",
    "| `len`           | Compute string length       | `df.str.len()`                      |\n",
    "| `lower`         | Convert to lowercase        | `df.str.lower()`                    |\n",
    "| `upper`         | Convert to uppercase        | `df.str.upper()`                    |\n",
    "| `capitalize`    | Capitalize strings          | `df.str.capitalize()`               |\n",
    "| `title`         | Titlecase strings           | `df.str.title()`                    |\n",
    "| `startswith`    | Check for start of string   | `df.str.startswith('foo')`          |\n",
    "| `endswith`      | Check for end of string     | `df.str.endswith('bar')`            |\n",
    "| `find`          | Find position of substring  | `df.str.find('foo')`                |\n",
    "| `rfind`         | Find last position          | `df.str.rfind('foo')`               |\n",
    "| `count`         | Count occurrences           | `df.str.count('foo')`               |\n",
    "| `isalnum`       | Check for alphanumeric      | `df.str.isalnum()`                  |\n",
    "| `isalpha`       | Check for alphabetic        | `df.str.isalpha()`                  |\n",
    "| `isdecimal`     | Check for decimal           | `df.str.isdecimal()`                |\n",
    "| `isdigit`       | Check for digits            | `df.str.isdigit()`                  |\n",
    "| `isspace`       | Check for whitespace        | `df.str.isspace()`                  |\n",
    "| `islower`       | Check for lowercase         | `df.str.islower()`                  |\n",
    "| `isupper`       | Check for uppercase         | `df.str.isupper()`                  |\n",
    "| `istitle`       | Check for titlecase         | `df.str.istitle()`                  |\n",
    "| `isnumeric`     | Check for numeric           | `df.str.isnumeric()`                |\n",
    "| `isidentifier`  | Check for identifier        | `df.str.isidentifier()`             |\n",
    "| `isprintable`   | Check for printable         | `df.str.isprintable()`              |\n",
    "| `zfill`         | Pad strings with zeros      | `df.str.zfill(10)`                  |\n",
    "| `strip`         | Strip whitespace            | `df.str.strip()`                    |\n",
    "| `rstrip`        | Strip whitespace from right | `df.str.rstrip()`                   |\n",
    "| `lstrip`        | Strip whitespace from left  | `df.str.lstrip()`                   |\n",
    "| `rjust`         | Right-justify strings       | `df.str.rjust(10)`                  |\n",
    "| `ljust`         | Left-justify strings        | `df.str.ljust(10)`                  |\n",
    "| `center`        | Center strings              | `df.str.center(10)`                 |\n",
    "| `pad`           | Pad strings                 | `df.str.pad(10)`                    |\n",
    "| `wrap`          | Wrap strings                | `df.str.wrap(10)`                   |\n",
    "| `slice`         | Slice strings               | `df.str.slice(0, 5)`                |\n",
    "| `slice_replace` | Replace slice               | `df.str.slice_replace(0, 5, 'foo')` |\n",
    "| `cat`           | Concatenate strings         | `df.str.cat()`                      |\n",
    "| `repeat`        | Repeat strings              | `df.str.repeat(3)`                  |\n",
    "| `normalize`     | Normalize strings           | `df.str.normalize()`                |\n",
    "| `partition`     | Partition strings           | `df.str.partition('foo')`           |\n",
    "| `rpartition`    | Reverse partition strings   | `df.str.rpartition('foo')`          |\n"
   ],
   "id": "3cc59e158a218d07"
  }
 ],
 "metadata": {
  "kernelspec": {
   "display_name": "Python 3",
   "language": "python",
   "name": "python3"
  },
  "language_info": {
   "codemirror_mode": {
    "name": "ipython",
    "version": 2
   },
   "file_extension": ".py",
   "mimetype": "text/x-python",
   "name": "python",
   "nbconvert_exporter": "python",
   "pygments_lexer": "ipython2",
   "version": "2.7.6"
  }
 },
 "nbformat": 4,
 "nbformat_minor": 5
}

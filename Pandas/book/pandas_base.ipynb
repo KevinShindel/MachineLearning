{
 "cells": [
  {
   "metadata": {
    "ExecuteTime": {
     "end_time": "2024-05-07T14:05:29.619708Z",
     "start_time": "2024-05-07T14:05:28.791234Z"
    }
   },
   "cell_type": "code",
   "source": [
    "# Series obj Introducing\n",
    "\n",
    "import pandas as pd"
   ],
   "id": "3a33d76fb585e94c",
   "outputs": [],
   "execution_count": 2
  },
  {
   "metadata": {
    "ExecuteTime": {
     "end_time": "2024-05-07T14:05:59.587429Z",
     "start_time": "2024-05-07T14:05:59.575024Z"
    }
   },
   "cell_type": "code",
   "source": [
    "s_obj = pd.Series(range(10, 20)) # create a series obj\n",
    "s_obj \n"
   ],
   "id": "30e0bdf54f3f0561",
   "outputs": [
    {
     "data": {
      "text/plain": [
       "RangeIndex(start=0, stop=10, step=1)"
      ]
     },
     "execution_count": 6,
     "metadata": {},
     "output_type": "execute_result"
    }
   ],
   "execution_count": 6
  },
  {
   "metadata": {
    "ExecuteTime": {
     "end_time": "2024-05-07T14:06:16.973759Z",
     "start_time": "2024-05-07T14:06:16.960604Z"
    }
   },
   "cell_type": "code",
   "source": "s_obj.values # get the values of the series obj",
   "id": "d0866f79e0c4964d",
   "outputs": [
    {
     "data": {
      "text/plain": [
       "array([10, 11, 12, 13, 14, 15, 16, 17, 18, 19])"
      ]
     },
     "execution_count": 8,
     "metadata": {},
     "output_type": "execute_result"
    }
   ],
   "execution_count": 8
  },
  {
   "metadata": {},
   "cell_type": "code",
   "outputs": [],
   "execution_count": null,
   "source": "s_obj.index",
   "id": "a4b5c6bf3b3600f3"
  },
  {
   "metadata": {},
   "cell_type": "code",
   "outputs": [],
   "execution_count": null,
   "source": [
    "s_obj2 = pd.Series(range(10, 20), index = ['a', 'b', 'c', 'd', 'e', 'f', 'g', 'h', 'i', 'j']) # create a series obj with index\n",
    "s_obj2"
   ],
   "id": "bb09c73782db85ac"
  },
  {
   "metadata": {},
   "cell_type": "code",
   "outputs": [],
   "execution_count": null,
   "source": "s_obj2['a'] # get the value of a",
   "id": "8de73835bb1e7f17"
  },
  {
   "metadata": {},
   "cell_type": "code",
   "outputs": [],
   "execution_count": null,
   "source": [
    "s_obj2['b'] = 5 # change the value of b\n",
    "s_obj2"
   ],
   "id": "3327d0eb1460b7eb"
  },
  {
   "metadata": {},
   "cell_type": "code",
   "outputs": [],
   "execution_count": null,
   "source": "s_obj2[['a', 'b', 'c']] # get the values of a, b, c",
   "id": "417a2f2c81552cc9"
  },
  {
   "metadata": {},
   "cell_type": "code",
   "outputs": [],
   "execution_count": null,
   "source": "s_obj2[s_obj2 > 15] # get the values that are greater than 15",
   "id": "9fa0156d7249d89a"
  },
  {
   "metadata": {},
   "cell_type": "code",
   "outputs": [],
   "execution_count": null,
   "source": "s_obj2 * 2 # multiply all the values by 2",
   "id": "28e4f37c8a40c2f9"
  },
  {
   "metadata": {},
   "cell_type": "code",
   "outputs": [],
   "execution_count": null,
   "source": [
    "import numpy as np\n",
    "np.exp(s_obj2) # get the exponential of all the values"
   ],
   "id": "53dab122500aee0e"
  },
  {
   "metadata": {},
   "cell_type": "code",
   "outputs": [],
   "execution_count": null,
   "source": "'b' in s_obj2 # check if 'b' is in the series obj",
   "id": "a3fd40cd697fef3e"
  },
  {
   "metadata": {},
   "cell_type": "code",
   "outputs": [],
   "execution_count": null,
   "source": [
    "sdata = {'Ohio': 35000, 'Texas': 71000, 'Oregon': 16000, 'Utah': 5000} # create a dictionary\n",
    "s_obj3 = pd.Series(sdata) # create a series obj from the dictionary\n",
    "s_obj3"
   ],
   "id": "690261c575e65f7"
  },
  {
   "metadata": {},
   "cell_type": "code",
   "outputs": [],
   "execution_count": null,
   "source": "pd.isnull(s_obj3) # check if there is any null value in the series obj",
   "id": "fe8503bc4b490f1a"
  },
  {
   "metadata": {},
   "cell_type": "code",
   "outputs": [],
   "execution_count": null,
   "source": "pd.notnull(s_obj3) # check if there is any non-null value in the series obj",
   "id": "4f89f69612fa6753"
  },
  {
   "metadata": {},
   "cell_type": "code",
   "outputs": [],
   "execution_count": null,
   "source": "s_obj3.isnull() # check if there is any null value in the series obj",
   "id": "99ac52caf0bf22ba"
  },
  {
   "metadata": {
    "ExecuteTime": {
     "end_time": "2024-05-07T14:11:39.966290Z",
     "start_time": "2024-05-07T14:11:39.953332Z"
    }
   },
   "cell_type": "code",
   "source": [
    "obj4 = pd.Series({'California': np.nan, 'Ohio': 35000, 'Texas': 71000, 'Oregon': 16000}) # create a series obj with nan value\n",
    "obj4"
   ],
   "id": "881cae8fd7c758d0",
   "outputs": [
    {
     "data": {
      "text/plain": [
       "California        NaN\n",
       "Ohio          35000.0\n",
       "Texas         71000.0\n",
       "Oregon        16000.0\n",
       "dtype: float64"
      ]
     },
     "execution_count": 20,
     "metadata": {},
     "output_type": "execute_result"
    }
   ],
   "execution_count": 20
  },
  {
   "metadata": {},
   "cell_type": "code",
   "outputs": [],
   "execution_count": null,
   "source": [
    "obj4.name = 'population' # set the name of the series obj\n",
    "obj4.index.name = 'state' # set the name of the index\n",
    "obj4"
   ],
   "id": "8eede5c700969950"
  },
  {
   "metadata": {},
   "cell_type": "code",
   "outputs": [],
   "execution_count": null,
   "source": "# DataFrame obj Introducing",
   "id": "80aa72bf75153589"
  },
  {
   "metadata": {},
   "cell_type": "code",
   "outputs": [],
   "execution_count": null,
   "source": [
    "data = {'state': ['Ohio', 'Ohio', 'Ohio', 'Nevada', 'Nevada', 'Nevada'], 'year': [2000, 2001, 2002, 2001, 2002, 2003], 'pop': [1.5, 1.7, 3.6, 2.4, 2.9, 3.2]} # create a dictionary\n",
    "frame = pd.DataFrame(data) # create a DataFrame obj from the dictionary\n",
    "frame"
   ],
   "id": "9f46159bbffe2b07"
  },
  {
   "metadata": {},
   "cell_type": "code",
   "outputs": [],
   "execution_count": null,
   "source": "frame.head() # get the first 5 rows of the DataFrame obj",
   "id": "f2f5122b9fb1f93e"
  },
  {
   "metadata": {},
   "cell_type": "code",
   "outputs": [],
   "execution_count": null,
   "source": "pd.DataFrame(data, columns = ['year', 'state', 'pop']) # create a DataFrame obj with columns",
   "id": "e81907da5abfd665"
  },
  {
   "metadata": {},
   "cell_type": "code",
   "outputs": [],
   "execution_count": null,
   "source": [
    "frame2 = pd.DataFrame(data, columns = ['year', 'state', 'pop', 'debt'], index = ['one', 'two', 'three', 'four', 'five', 'six']) # create a DataFrame obj with columns and index\n",
    "frame2"
   ],
   "id": "2e24dcee68a94c1f"
  },
  {
   "metadata": {},
   "cell_type": "code",
   "outputs": [],
   "execution_count": null,
   "source": "frame2.columns # get the columns of the DataFrame obj   ",
   "id": "35d420ea8370db70"
  },
  {
   "metadata": {},
   "cell_type": "code",
   "outputs": [],
   "execution_count": null,
   "source": "frame2.index # get the index of the DataFrame obj   ",
   "id": "160234b0aec04b51"
  },
  {
   "metadata": {},
   "cell_type": "code",
   "outputs": [],
   "execution_count": null,
   "source": "frame2.year # get the year column of the DataFrame obj",
   "id": "e3c67fd71926eebd"
  },
  {
   "metadata": {},
   "cell_type": "code",
   "outputs": [],
   "execution_count": null,
   "source": [
    "frame2['debt'] = 16.5 # set the debt column of the DataFrame obj\n",
    "frame2"
   ],
   "id": "33f49803d07b364d"
  },
  {
   "metadata": {},
   "cell_type": "code",
   "outputs": [],
   "execution_count": null,
   "source": [
    "frame2['debt'] = np.arange(6.) # set the debt column of the DataFrame obj\n",
    "frame2"
   ],
   "id": "901f8305f383bd44"
  },
  {
   "metadata": {},
   "cell_type": "code",
   "outputs": [],
   "execution_count": null,
   "source": [
    "val = pd.Series([-1.2, -1.5, -1.7], index = ['two', 'four', 'five']) # create a series obj\n",
    "frame2['debt'] = val # set the debt column of the DataFrame obj\n",
    "frame2"
   ],
   "id": "5d95a03f25695bbe"
  },
  {
   "metadata": {},
   "cell_type": "code",
   "outputs": [],
   "execution_count": null,
   "source": [
    "frame2['eastern'] = frame2.state == 'Ohio' # set the eastern column of the DataFrame obj\n",
    "frame2"
   ],
   "id": "27834dcd359e4acb"
  },
  {
   "metadata": {},
   "cell_type": "code",
   "outputs": [],
   "execution_count": null,
   "source": [
    "del frame2['eastern'] # delete the eastern column of the DataFrame obj\n",
    "frame2"
   ],
   "id": "d871aa1f8ea1b7f3"
  },
  {
   "metadata": {},
   "cell_type": "code",
   "outputs": [],
   "execution_count": null,
   "source": [
    "pop = {'Nevada': {2001: 2.4, 2002: 2.9}, 'Ohio': {2000: 1.5, 2001: 1.7, 2002: 3.6}} # create a dictionary\n",
    "frame3 = pd.DataFrame(pop) # create a DataFrame obj from the dictionary\n",
    "frame3"
   ],
   "id": "5c7f2eb3091ebe09"
  },
  {
   "metadata": {
    "ExecuteTime": {
     "end_time": "2024-05-07T14:20:15.549842Z",
     "start_time": "2024-05-07T14:20:15.537072Z"
    }
   },
   "cell_type": "code",
   "source": "frame3.T # transpose the DataFrame obj\n",
   "id": "c6c5e9fc4b85619b",
   "outputs": [
    {
     "data": {
      "text/plain": [
       "        2001  2002  2000\n",
       "Nevada   2.4   2.9   NaN\n",
       "Ohio     1.7   3.6   1.5"
      ],
      "text/html": [
       "<div>\n",
       "<style scoped>\n",
       "    .dataframe tbody tr th:only-of-type {\n",
       "        vertical-align: middle;\n",
       "    }\n",
       "\n",
       "    .dataframe tbody tr th {\n",
       "        vertical-align: top;\n",
       "    }\n",
       "\n",
       "    .dataframe thead th {\n",
       "        text-align: right;\n",
       "    }\n",
       "</style>\n",
       "<table border=\"1\" class=\"dataframe\">\n",
       "  <thead>\n",
       "    <tr style=\"text-align: right;\">\n",
       "      <th></th>\n",
       "      <th>2001</th>\n",
       "      <th>2002</th>\n",
       "      <th>2000</th>\n",
       "    </tr>\n",
       "  </thead>\n",
       "  <tbody>\n",
       "    <tr>\n",
       "      <th>Nevada</th>\n",
       "      <td>2.4</td>\n",
       "      <td>2.9</td>\n",
       "      <td>NaN</td>\n",
       "    </tr>\n",
       "    <tr>\n",
       "      <th>Ohio</th>\n",
       "      <td>1.7</td>\n",
       "      <td>3.6</td>\n",
       "      <td>1.5</td>\n",
       "    </tr>\n",
       "  </tbody>\n",
       "</table>\n",
       "</div>"
      ]
     },
     "execution_count": 36,
     "metadata": {},
     "output_type": "execute_result"
    }
   ],
   "execution_count": 36
  },
  {
   "metadata": {},
   "cell_type": "code",
   "outputs": [],
   "execution_count": null,
   "source": "pd.DataFrame(frame3, index = [2001, 2002, 2003]) # create a DataFrame obj with index",
   "id": "3e366d2b30f8e12a"
  },
  {
   "metadata": {},
   "cell_type": "code",
   "outputs": [],
   "execution_count": null,
   "source": [
    "p_data = {'Ohio': frame3['Ohio'][:-1], 'Nevada': frame3['Nevada'][:2]} # create a dictionary\n",
    "pd.DataFrame(p_data) # create a DataFrame obj from the dictionary"
   ],
   "id": "3d56e783af31d113"
  },
  {
   "metadata": {},
   "cell_type": "code",
   "outputs": [],
   "execution_count": null,
   "source": [
    "frame3.index.name = 'year' # set the name of the index\n",
    "frame3.columns.name = 'state' # set the name of the columns\n",
    "frame3"
   ],
   "id": "151538f328ffa227"
  },
  {
   "metadata": {},
   "cell_type": "code",
   "outputs": [],
   "execution_count": null,
   "source": "# Index obj Introducing",
   "id": "e10943374a7445b0"
  },
  {
   "metadata": {},
   "cell_type": "code",
   "outputs": [],
   "execution_count": null,
   "source": [
    "i_obj = pd.Index([2, 3, 5, 7, 11]) # create an index obj\n",
    "i_obj"
   ],
   "id": "b3c300eabd842d2a"
  },
  {
   "metadata": {},
   "cell_type": "code",
   "outputs": [],
   "execution_count": null,
   "source": "i_obj[1] # get the value of the index",
   "id": "e3a45b3807bde625"
  },
  {
   "metadata": {},
   "cell_type": "code",
   "outputs": [],
   "execution_count": null,
   "source": "i_obj[1] = 'b' # Cause an error",
   "id": "3407b546119e22b4"
  },
  {
   "metadata": {},
   "cell_type": "code",
   "outputs": [],
   "execution_count": null,
   "source": [
    "labels = pd.Index(np.arange(3)) # create an index obj\n",
    "obj2 = pd.Series([1.5, -2.5, 0], index = labels) # create a series obj with index\n",
    "obj2"
   ],
   "id": "44f07c9aa36cfc54"
  },
  {
   "metadata": {
    "ExecuteTime": {
     "end_time": "2024-05-07T18:16:21.582157Z",
     "start_time": "2024-05-07T18:16:21.573256Z"
    }
   },
   "cell_type": "code",
   "source": "pd.Index([1, 2, 3, 4, 5], dtype='object') # create an index obj with dtype",
   "id": "45ca2343c845b79",
   "outputs": [
    {
     "data": {
      "text/plain": [
       "Index([1, 2, 3, 4, 5], dtype='object')"
      ]
     },
     "execution_count": 43,
     "metadata": {},
     "output_type": "execute_result"
    }
   ],
   "execution_count": 43
  },
  {
   "metadata": {
    "ExecuteTime": {
     "end_time": "2024-05-07T18:16:33.642896Z",
     "start_time": "2024-05-07T18:16:33.632470Z"
    }
   },
   "cell_type": "code",
   "source": "'Ohio' in frame3.columns # check if 'Ohio' is in the columns of the DataFrame obj",
   "id": "b3dbbe8a74cfa2ca",
   "outputs": [
    {
     "data": {
      "text/plain": [
       "True"
      ]
     },
     "execution_count": 44,
     "metadata": {},
     "output_type": "execute_result"
    }
   ],
   "execution_count": 44
  },
  {
   "metadata": {
    "ExecuteTime": {
     "end_time": "2024-05-07T18:17:00.618037Z",
     "start_time": "2024-05-07T18:17:00.607299Z"
    }
   },
   "cell_type": "code",
   "source": "2003 in frame3.index # check if 2003 is in the index of the DataFrame obj",
   "id": "6a1a1b35b2c416f9",
   "outputs": [
    {
     "data": {
      "text/plain": [
       "False"
      ]
     },
     "execution_count": 45,
     "metadata": {},
     "output_type": "execute_result"
    }
   ],
   "execution_count": 45
  },
  {
   "metadata": {},
   "cell_type": "code",
   "outputs": [],
   "execution_count": null,
   "source": [
    "dup_labels = ['foo', 'foo', 'bar', 'bar'] # create a list\n",
    "pd.Index(dup_labels) # create an index obj"
   ],
   "id": "18124b6bccfb5961"
  },
  {
   "metadata": {},
   "cell_type": "code",
   "outputs": [],
   "execution_count": null,
   "source": [
    "## Methods and Attributes of Index object\n",
    "\n",
    "pd.Index().append() # Concatenate with additional Index objects, producing a new Index\n",
    "pd.Index().difference() # Compute set difference as an Index\n",
    "pd.Index().intersection() # Compute set intersection\n",
    "pd.Index().union() # Compute set union\n",
    "pd.Index().isin() # Compute boolean array indicating whether each value is contained in the passed collection\n",
    "pd.Index().delete() # Compute new Index with element at index i deleted\n",
    "pd.Index().drop() # Compute new Index by deleting passed values\n",
    "pd.Index().insert() # Compute new Index by inserting element at index i\n",
    "pd.Index().is_monotonic() # Returns True if each element is greater than or equal to the previous element\n",
    "pd.Index().is_unique() # Returns True if the Index has no duplicate values\n",
    "pd.Index().unique() # Compute the array of unique values in the Index"
   ],
   "id": "924100afe19e4848"
  },
  {
   "metadata": {},
   "cell_type": "code",
   "outputs": [],
   "execution_count": null,
   "source": "# Base functionality of pandas",
   "id": "d7d81ff685afbbed"
  },
  {
   "metadata": {
    "ExecuteTime": {
     "end_time": "2024-05-07T18:21:59.213317Z",
     "start_time": "2024-05-07T18:21:59.205489Z"
    }
   },
   "cell_type": "code",
   "source": [
    "# Reindexing\n",
    "obj = pd.Series([4.5, 7.2, -5.3, 3.6], index = ['d', 'b', 'a', 'c']) # create a series obj\n",
    "obj"
   ],
   "id": "940c7ca1df3cd7d5",
   "outputs": [
    {
     "data": {
      "text/plain": [
       "d    4.5\n",
       "b    7.2\n",
       "a   -5.3\n",
       "c    3.6\n",
       "dtype: float64"
      ]
     },
     "execution_count": 48,
     "metadata": {},
     "output_type": "execute_result"
    }
   ],
   "execution_count": 48
  },
  {
   "metadata": {},
   "cell_type": "code",
   "outputs": [],
   "execution_count": null,
   "source": [
    "obj2 = obj.reindex(['a', 'b', 'c', 'd', 'e']) # reindex the series obj\n",
    "obj2    "
   ],
   "id": "d399af7df310d2d3"
  },
  {
   "metadata": {},
   "cell_type": "code",
   "outputs": [],
   "execution_count": null,
   "source": [
    "obj3 = pd.Series(['blue', 'purple', 'yellow'], index = [0, 2, 4]) # create a series obj\n",
    "obj3"
   ],
   "id": "2577f3e161c436ee"
  },
  {
   "metadata": {
    "ExecuteTime": {
     "end_time": "2024-05-07T18:26:27.972695Z",
     "start_time": "2024-05-07T18:26:27.957925Z"
    }
   },
   "cell_type": "code",
   "source": "obj3.reindex(range(6), method = 'ffill') # reindex the series obj with method",
   "id": "76acd21a748ea11f",
   "outputs": [
    {
     "data": {
      "text/plain": [
       "0      blue\n",
       "1      blue\n",
       "2    purple\n",
       "3    purple\n",
       "4    yellow\n",
       "5    yellow\n",
       "dtype: object"
      ]
     },
     "execution_count": 51,
     "metadata": {},
     "output_type": "execute_result"
    }
   ],
   "execution_count": 51
  },
  {
   "metadata": {},
   "cell_type": "code",
   "outputs": [],
   "execution_count": null,
   "source": [
    "frame = pd.DataFrame(np.arange(9).reshape((3, 3)), index = ['a', 'c', 'd'], columns = ['Ohio', 'Texas', 'California']) # create a DataFrame obj\n",
    "frame"
   ],
   "id": "dce269c039975339"
  },
  {
   "metadata": {},
   "cell_type": "code",
   "outputs": [],
   "execution_count": null,
   "source": [
    "frame2 = frame.reindex(['a', 'b', 'c', 'd']) # reindex the DataFrame obj\n",
    "frame2"
   ],
   "id": "9d2aeba6145172e0"
  },
  {
   "metadata": {
    "ExecuteTime": {
     "end_time": "2024-05-07T18:28:12.499868Z",
     "start_time": "2024-05-07T18:28:12.480350Z"
    }
   },
   "cell_type": "code",
   "source": [
    "states = ['Texas', 'Utah', 'California'] # create a list\n",
    "frame.reindex(columns = states) # reindex the DataFrame obj with columns"
   ],
   "id": "beaf6ef04e49c206",
   "outputs": [
    {
     "data": {
      "text/plain": [
       "   Texas  Utah  California\n",
       "a      1   NaN           2\n",
       "c      4   NaN           5\n",
       "d      7   NaN           8"
      ],
      "text/html": [
       "<div>\n",
       "<style scoped>\n",
       "    .dataframe tbody tr th:only-of-type {\n",
       "        vertical-align: middle;\n",
       "    }\n",
       "\n",
       "    .dataframe tbody tr th {\n",
       "        vertical-align: top;\n",
       "    }\n",
       "\n",
       "    .dataframe thead th {\n",
       "        text-align: right;\n",
       "    }\n",
       "</style>\n",
       "<table border=\"1\" class=\"dataframe\">\n",
       "  <thead>\n",
       "    <tr style=\"text-align: right;\">\n",
       "      <th></th>\n",
       "      <th>Texas</th>\n",
       "      <th>Utah</th>\n",
       "      <th>California</th>\n",
       "    </tr>\n",
       "  </thead>\n",
       "  <tbody>\n",
       "    <tr>\n",
       "      <th>a</th>\n",
       "      <td>1</td>\n",
       "      <td>NaN</td>\n",
       "      <td>2</td>\n",
       "    </tr>\n",
       "    <tr>\n",
       "      <th>c</th>\n",
       "      <td>4</td>\n",
       "      <td>NaN</td>\n",
       "      <td>5</td>\n",
       "    </tr>\n",
       "    <tr>\n",
       "      <th>d</th>\n",
       "      <td>7</td>\n",
       "      <td>NaN</td>\n",
       "      <td>8</td>\n",
       "    </tr>\n",
       "  </tbody>\n",
       "</table>\n",
       "</div>"
      ]
     },
     "execution_count": 54,
     "metadata": {},
     "output_type": "execute_result"
    }
   ],
   "execution_count": 54
  },
  {
   "metadata": {},
   "cell_type": "markdown",
   "source": "",
   "id": "ec7828ebb81d8f69"
  },
  {
   "metadata": {},
   "cell_type": "code",
   "outputs": [],
   "execution_count": null,
   "source": "frame.loc[['a', 'b', 'c', 'd'], states] # reindex the DataFrame obj with loc",
   "id": "c8581088ffd6ff25"
  },
  {
   "metadata": {},
   "cell_type": "code",
   "outputs": [],
   "execution_count": null,
   "source": [
    "## Arguments and Parameters of reindex\n",
    "\n",
    "index # New sequence to use as index\n",
    "method # Interpolation (fill) method\n",
    "fill_value # Substitute value to use when introducing missing data by reindexing\n",
    "limit # When forward- or backfilling, maximum size gap to fill\n",
    "tolerance # When forward- or backfilling, maximum size gap to fill for ordered data\n",
    "level # Match simple Index on level of MultiIndex, otherwise select subset of\n",
    "copy # Do not copy underlying data if new index is equivalent to old index. Otherwise, copy "
   ],
   "id": "d3e0acbceb5eec4d"
  },
  {
   "metadata": {},
   "cell_type": "code",
   "outputs": [],
   "execution_count": null,
   "source": [
    "# Dropping entries from an axis\n",
    "obj = pd.Series(np.arange(5.), index = ['a', 'b', 'c', 'd', 'e']) # create a series obj\n",
    "obj"
   ],
   "id": "247b4f799067295a"
  },
  {
   "metadata": {},
   "cell_type": "code",
   "outputs": [],
   "execution_count": null,
   "source": [
    "new_obj = obj.drop('c') # drop the value of c\n",
    "new_obj"
   ],
   "id": "9933584c7ebdec6d"
  },
  {
   "metadata": {},
   "cell_type": "code",
   "outputs": [],
   "execution_count": null,
   "source": "obj.drop(['d', 'c']) # drop the values of d, c",
   "id": "c1109af6f918b296"
  },
  {
   "metadata": {},
   "cell_type": "code",
   "outputs": [],
   "execution_count": null,
   "source": [
    "data = pd.DataFrame(np.arange(16).reshape((4, 4)), index = ['Ohio', 'Colorado', 'Utah', 'New York'], columns = ['one', 'two', 'three', 'four']) # create a DataFrame obj\n",
    "data"
   ],
   "id": "a1a4ff07507b108a"
  },
  {
   "metadata": {},
   "cell_type": "code",
   "outputs": [],
   "execution_count": null,
   "source": "data.drop(['Colorado', 'Ohio']) # drop the values of Colorado, Ohio",
   "id": "5e160ba2ed846824"
  },
  {
   "metadata": {},
   "cell_type": "code",
   "outputs": [],
   "execution_count": null,
   "source": "data.drop('two', axis = 1) # drop the column of two",
   "id": "d960a2504ed16dcc"
  },
  {
   "metadata": {},
   "cell_type": "code",
   "outputs": [],
   "execution_count": null,
   "source": "data.drop(['two', 'four'], axis = 'columns') # drop the columns of two, four",
   "id": "dfe80e843b7cf683"
  },
  {
   "metadata": {},
   "cell_type": "code",
   "outputs": [],
   "execution_count": null,
   "source": [
    "obj.drop('c', inplace = True) # drop the value of c in place    \n",
    "obj"
   ],
   "id": "58dca14a443e35fd"
  },
  {
   "metadata": {},
   "cell_type": "code",
   "outputs": [],
   "execution_count": null,
   "source": [
    "# Indexing, selection, and filtering\n",
    "obj = pd.Series(np.arange(4.), index = ['a', 'b', 'c', 'd']) # create a series obj\n",
    "obj"
   ],
   "id": "7f9a855375257862"
  },
  {
   "metadata": {},
   "cell_type": "code",
   "outputs": [],
   "execution_count": null,
   "source": "obj['b'] # get the value of b",
   "id": "1c6058d08387c7a5"
  },
  {
   "metadata": {},
   "cell_type": "code",
   "outputs": [],
   "execution_count": null,
   "source": "obj[['b', 'a', 'd']] # get the values of b, a, d",
   "id": "ea1594d962b6c42d"
  },
  {
   "metadata": {},
   "cell_type": "code",
   "outputs": [],
   "execution_count": null,
   "source": "obj[[1, 3]] # get the values of 1, 3",
   "id": "71f9b692141a1700"
  },
  {
   "metadata": {},
   "cell_type": "code",
   "outputs": [],
   "execution_count": null,
   "source": "obj[obj < 2] # get the values that are less than 2",
   "id": "b4e1b5c638fa723"
  },
  {
   "metadata": {},
   "cell_type": "code",
   "outputs": [],
   "execution_count": null,
   "source": "",
   "id": "370e468276d01965"
  }
 ],
 "metadata": {
  "kernelspec": {
   "display_name": "Python 3",
   "language": "python",
   "name": "python3"
  },
  "language_info": {
   "codemirror_mode": {
    "name": "ipython",
    "version": 2
   },
   "file_extension": ".py",
   "mimetype": "text/x-python",
   "name": "python",
   "nbconvert_exporter": "python",
   "pygments_lexer": "ipython2",
   "version": "2.7.6"
  }
 },
 "nbformat": 4,
 "nbformat_minor": 5
}

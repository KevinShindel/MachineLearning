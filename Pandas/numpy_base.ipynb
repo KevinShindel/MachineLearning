{
 "cells": [
  {
   "cell_type": "code",
   "id": "initial_id",
   "metadata": {
    "collapsed": true,
    "ExecuteTime": {
     "end_time": "2024-04-25T13:58:12.268173Z",
     "start_time": "2024-04-25T13:58:11.890882Z"
    }
   },
   "source": "import numpy as np",
   "outputs": [],
   "execution_count": 1
  },
  {
   "metadata": {
    "ExecuteTime": {
     "end_time": "2024-04-25T13:58:12.326728Z",
     "start_time": "2024-04-25T13:58:12.270514Z"
    }
   },
   "cell_type": "code",
   "source": [
    "my_arr = np.arange(1000000)\n",
    "\n",
    "my_list = list(range(1000000))"
   ],
   "id": "d209e0776260a23b",
   "outputs": [],
   "execution_count": 2
  },
  {
   "metadata": {
    "ExecuteTime": {
     "end_time": "2024-04-25T13:58:12.332128Z",
     "start_time": "2024-04-25T13:58:12.328683Z"
    }
   },
   "cell_type": "code",
   "source": "# Multiply each sequence by 2",
   "id": "8132785690aeb73a",
   "outputs": [],
   "execution_count": 3
  },
  {
   "metadata": {
    "ExecuteTime": {
     "end_time": "2024-04-25T13:58:12.382156Z",
     "start_time": "2024-04-25T13:58:12.334994Z"
    }
   },
   "cell_type": "code",
   "source": "%time for _ in range(10): my_arr2 = my_arr * 2",
   "id": "db53dc55a330400a",
   "outputs": [
    {
     "name": "stdout",
     "output_type": "stream",
     "text": [
      "CPU times: user 31.4 ms, sys: 7.67 ms, total: 39 ms\n",
      "Wall time: 41.2 ms\n"
     ]
    }
   ],
   "execution_count": 4
  },
  {
   "metadata": {
    "ExecuteTime": {
     "end_time": "2024-04-25T13:58:13.366292Z",
     "start_time": "2024-04-25T13:58:12.384313Z"
    }
   },
   "cell_type": "code",
   "source": [
    "\n",
    "%time for _ in range(10): my_list2 = [x * 2 for x in my_list]"
   ],
   "id": "f53ef21e0ab896f6",
   "outputs": [
    {
     "name": "stdout",
     "output_type": "stream",
     "text": [
      "CPU times: user 772 ms, sys: 198 ms, total: 970 ms\n",
      "Wall time: 976 ms\n"
     ]
    }
   ],
   "execution_count": 5
  },
  {
   "metadata": {
    "ExecuteTime": {
     "end_time": "2024-04-25T14:04:30.112919Z",
     "start_time": "2024-04-25T14:04:30.086048Z"
    }
   },
   "cell_type": "code",
   "source": [
    "# Convert a list to an array\n",
    "\n",
    "data1 = [6, 7.5, 8, 0, 1]\n",
    "arr1 = np.array(data1)\n",
    "\n",
    "arr1"
   ],
   "id": "8d6a9f3ff966b58d",
   "outputs": [
    {
     "data": {
      "text/plain": [
       "array([6. , 7.5, 8. , 0. , 1. ])"
      ]
     },
     "execution_count": 6,
     "metadata": {},
     "output_type": "execute_result"
    }
   ],
   "execution_count": 6
  },
  {
   "metadata": {
    "ExecuteTime": {
     "end_time": "2024-04-25T14:08:02.037468Z",
     "start_time": "2024-04-25T14:08:02.020050Z"
    }
   },
   "cell_type": "code",
   "source": [
    "# create array with zeroes, ones, empty\n",
    "\n",
    "np.zeros(10)\n",
    "np.zeros((3, 6))\n",
    "np.ones(10)\n",
    "np.ones((3, 6))\n",
    "\n",
    "np.empty((2, 3, 2))\n",
    "\n",
    "eye = np.eye(3)\n",
    "\n",
    "iden = np.identity(3)\n"
   ],
   "id": "f08f22aabe178380",
   "outputs": [
    {
     "data": {
      "text/plain": [
       "array([[1., 0., 0.],\n",
       "       [0., 1., 0.],\n",
       "       [0., 0., 1.]])"
      ]
     },
     "execution_count": 10,
     "metadata": {},
     "output_type": "execute_result"
    }
   ],
   "execution_count": 10
  },
  {
   "metadata": {
    "ExecuteTime": {
     "end_time": "2024-04-25T14:12:20.474886Z",
     "start_time": "2024-04-25T14:12:20.452212Z"
    }
   },
   "cell_type": "code",
   "source": [
    "# create array with range\n",
    "arr = np.arange(15)\n",
    "\n",
    "# create array with shape\n",
    "arr = np.arange(15).reshape((3, 5))\n",
    "\n",
    "# create array w dtype\n",
    "arr = np.array([1, 2, 3], dtype=np.float64)\n",
    "\n",
    "# convert dtype to another\n",
    "arr = np.array([1, 2, 3], dtype=np.float64)\n",
    "arr.dtype = np.int64\n",
    "\n",
    "arr1 = arr.astype(np.float64)\n"
   ],
   "id": "e034ee143faa6ecb",
   "outputs": [
    {
     "data": {
      "text/plain": [
       "array([4.60718242e+18, 4.61168602e+18, 4.61393782e+18])"
      ]
     },
     "execution_count": 16,
     "metadata": {},
     "output_type": "execute_result"
    }
   ],
   "execution_count": 16
  },
  {
   "metadata": {},
   "cell_type": "code",
   "outputs": [],
   "execution_count": null,
   "source": [
    "# arithmetical operations w arrays\n",
    "\n",
    "arr = np.array([[1., 2., 3.], [4., 5., 6.]])\n",
    "arr * arr # elementwise multiplication\n",
    "arr - arr # elementwise subtraction\n",
    "1 / arr # elementwise division\n",
    "arr ** 0.5 # elementwise square root"
   ],
   "id": "c0cd8e162ef5ecb7"
  },
  {
   "metadata": {},
   "cell_type": "code",
   "outputs": [],
   "execution_count": null,
   "source": [
    "# Indexing and slicing\n",
    "arr = np.arange(10)\n",
    "arr[5] # show 5 index\n",
    "arr[5:8] # show 5 to 8 index\n",
    "arr[5:8] = 12 # assign 12 to 5 to 8 index\n",
    "\n",
    "# working w 2-dimension array\n",
    "arr2d = np.array([[1, 2, 3], [4, 5, 6], [7, 8, 9]])\n",
    "arr2d[2] # show 2nd row\n",
    "arr2d[0][2] # show 0th row 2nd column\n",
    "\n",
    "# working w 3-dimension array\n",
    "arr3d = np.array([[[1, 2, 3], [4, 5, 6]], [[7, 8, 9], [10, 11, 12]]])\n",
    "arr3d[0] # show 0th row\n",
    "arr3d[0][1] # show 0th row 1st column\n",
    "arr3d[0][1][2] # show 0th row 1st column 2nd element\n",
    "\n",
    "# assign value to 2-dimension array\n",
    "arr2d[0][2] = 5\n"
   ],
   "id": "d6d2013cc4becc72"
  },
  {
   "metadata": {},
   "cell_type": "code",
   "outputs": [],
   "execution_count": null,
   "source": [
    "# Bool indexing\n",
    "names = np.array(['Bob', 'Joe', 'Will', 'Bob', 'Will', 'Joe', 'Joe'])\n",
    "data = np.random.randn(7, 4)\n",
    "\n",
    "data[names == 'Bob']\n",
    "data[names == 'Bob', 2:]\n",
    "data[names == 'Bob', 3]\n",
    "\n",
    "mask = (names == 'Bob') | (names == 'Will')\n",
    "data[mask]\n",
    "\n",
    "# opposite of mask\n",
    "data[~mask]\n"
   ],
   "id": "c03f0d884133588f"
  },
  {
   "metadata": {},
   "cell_type": "code",
   "outputs": [],
   "execution_count": null,
   "source": [
    "# Fancy indexing\n",
    "\n",
    "arr = np.empty((8, 4))\n",
    "\n",
    "for i in range(8):\n",
    "    arr[i] = i\n",
    "\n",
    "arr[[4, 3, 0, 6]]\n"
   ],
   "id": "3bd3b85fcd48b5a"
  },
  {
   "metadata": {},
   "cell_type": "code",
   "outputs": [],
   "execution_count": null,
   "source": [
    "# Transposing arrays and swapping axes\n",
    "\n",
    "arr = np.arange(15).reshape((3, 5))\n",
    "\n",
    "arr.T\n",
    "\n",
    "arr = np.random.randn(6, 3)\n",
    "\n",
    "np.dot(arr.T, arr)\n",
    "\n",
    "arr = np.arange(16).reshape((2, 2, 4))\n",
    "arr.transpose((1, 0, 2))\n",
    "\n",
    "arr.swapaxes(1, 2)\n"
   ],
   "id": "9fe3f299b3c5e838"
  },
  {
   "metadata": {},
   "cell_type": "code",
   "outputs": [],
   "execution_count": null,
   "source": [
    "# Universal functions: fast element-wise array functions\n",
    "\n",
    "arr = np.arange(10)\n",
    "\n",
    "np.sqrt(arr) # square root\n",
    "np.exp(arr) # exponential\n",
    "\n",
    "x = np.random.randn(8)\n",
    "y = np.random.randn(8)\n",
    "result = np.maximum(x, y) # element-wise maximum\n",
    "\n",
    "arr = np.random.randn(7) * 5\n",
    "remainder, whole_part = np.modf(arr) # return fractional and integral parts\n",
    "\n",
    "np.abs(arr) # absolute value\n",
    "np.fabs(arr) # absolute value (faster)\n",
    "np.square(arr) # square\n",
    "np.log(arr) # natural logarithm\n",
    "np.log10(arr) # base 10 logarithm\n",
    "np.sign(arr) # sign\n",
    "np.ceil(arr) # ceiling\n",
    "np.floor(arr) # floor\n",
    "np.rint(arr) # round to nearest integer\n",
    "np.isnan(arr) # check if NaN\n",
    "np.isfinite(arr) # check if finite\n",
    "np.modf(arr) # return fractional and integral parts\n",
    "np.cos, np.cosh, np.sin, np.sinh, np.tan, np.tanh # trigonometric functions\n",
    "np.arccos, np.arccosh, np.arcsin, np.arcsinh, np.arctan, np.arctanh # inverse trigonometric functions\n",
    "\n",
    "# Binary universal functions\n",
    "\n",
    "np.add(x, y) # addition\n",
    "np.subtract(x, y) # subtraction\n",
    "np.multiply(x, y) # multiplication\n",
    "np.divide(x, y) # division\n",
    "np.floor_divide(x, y) # floor division\n",
    "np.power(x, y) # power\n",
    "np.maximum(x, y) # element-wise maximum\n",
    "np.minimum(x, y) # element-wise minimum\n",
    "np.mod(x, y) # modulo\n",
    "np.copysign(x, y) # copy sign of y to x\n",
    "np.greater, np.greater_equal, np.less, np.less_equal, np.equal, np.not_equal # comparison functions\n",
    "np.logical_and, np.logical_or, np.logical_xor # logical functions\n",
    "np.logical_not(x) # logical not\n"
   ],
   "id": "e857bee7271bfb68"
  },
  {
   "metadata": {},
   "cell_type": "code",
   "outputs": [],
   "execution_count": null,
   "source": [
    "# Data processing using arrays\n",
    "import matplotlib.pyplot as plt\n",
    "import numpy as np\n",
    "\n",
    "points = np.arange(-5, 5, 0.01) # 1000 equally spaced points\n",
    "xs, ys = np.meshgrid(points, points) # create a grid\n",
    "z = np.sqrt(xs ** 2 + ys ** 2) # calculate the function\n",
    "\n",
    "plt.imshow(z, cmap=plt.cm.gray); plt.colorbar()\n",
    "plt.title(\"Image plot of $\\sqrt{x^2 + y^2}$ for a grid of values\")\n",
    "plt.show()"
   ],
   "id": "4c4074e1b010794e"
  },
  {
   "metadata": {},
   "cell_type": "code",
   "outputs": [],
   "execution_count": null,
   "source": [
    "# Expressing conditional logic as array operations\n",
    "\n",
    "xarr = np.array([1.1, 1.2, 1.3, 1.4, 1.5]) # values\n",
    "yarr = np.array([2.1, 2.2, 2.3, 2.4, 2.5]) # values\n",
    "cond = np.array([True, False, True, True, False]) # condition   \n",
    "\n",
    "result = [(x if c else y) for x, y, c in zip(xarr, yarr, cond)] # using list comprehension\n",
    "result = np.where(cond, xarr, yarr) # using np.where\n",
    "\n",
    "arr = np.random.randn(4, 4)\n",
    "np.where(arr > 0, 2, -2) # set positive values to 2 and negative values to -2\n"
   ],
   "id": "4e5191e21cdc2725"
  },
  {
   "metadata": {},
   "cell_type": "code",
   "outputs": [],
   "execution_count": null,
   "source": [
    "# Mathematical and statistical methods\n",
    "\n",
    "arr = np.random.randn(5, 4) # normally-distributed data\n",
    "arr.mean() # mean\n",
    "np.mean(arr) # mean\n",
    "arr.sum() # sum\n",
    "arr.mean(axis=1) # mean by row\n",
    "arr.sum(axis=0) # sum by column\n",
    "arr.cumsum(axis=0) # cumulative sum by column\n",
    "arr.cumprod(axis=1) # cumulative product by row\n",
    "np.std(arr) # standard deviation\n",
    "np.var(arr) # variance\n",
    "np.min(arr) # minimum\n",
    "np.max(arr) # maximum\n",
    "np.argmin(arr) # index of minimum\n",
    "np.argmax(arr) # index of maximum\n",
    "np.median(arr) # median\n",
    "np.percentile(arr, 75) # 75th percentile\n",
    "np.any(arr > 0) # check if any value is true\n",
    "np.all(arr > 0) # check if all values are true\n"
   ],
   "id": "929ff0d7b6cb95e5"
  },
  {
   "metadata": {},
   "cell_type": "code",
   "outputs": [],
   "execution_count": null,
   "source": [
    "# Sorting\n",
    "\n",
    "arr = np.random.randn(6) # normally-distributed data \n",
    "arr.sort() # sort in-place\n",
    "\n",
    "arr = np.random.randn(5, 3) # normally-distributed data\n",
    "arr.sort(1) # sort by row\n",
    "\n",
    "large_arr = np.random.randn(1000) # normally-distributed data\n",
    "large_arr.sort()\n",
    "large_arr[int(0.05 * len(large_arr))] # 5% quantile\n"
   ],
   "id": "8860dd770875b9ee"
  },
  {
   "metadata": {},
   "cell_type": "code",
   "outputs": [],
   "execution_count": null,
   "source": [
    "# Unique and other set logic\n",
    "\n",
    "names = np.array(['Bob', 'Joe', 'Will', 'Bob', 'Will', 'Joe', 'Joe']) # values\n",
    "np.unique(names) # unique values\n",
    "\n",
    "ints = np.array([3, 3, 3, 2, 2, 1, 1, 4, 4]) # values\n",
    "np.unique(ints) # unique values\n",
    "\n",
    "values = np.array([6, 0, 0, 3, 2, 5, 6]) # values\n",
    "np.in1d(values, [2, 3, 6]) # check if values are in another array\n",
    "\n",
    "np.unique(values) # unique values\n",
    "np.intersect1d(values, [2, 3, 6]) # intersection\n",
    "np.union1d(values, [2, 3, 6]) # union\n",
    "np.setdiff1d(values, [2, 3, 6]) # set difference\n",
    "np.setxor1d(values, [2, 3, 6]) # set symmetric difference"
   ],
   "id": "8624f97c280f9d8d"
  },
  {
   "metadata": {},
   "cell_type": "code",
   "outputs": [],
   "execution_count": null,
   "source": [
    "# Linear algebra\n",
    "\n",
    "x = np.array([[1., 2., 3.], [4., 5., 6.]]) # 2x3 matrix\n",
    "y = np.array([[6., 23.], [-1, 7], [8, 9]]) # 3x2 matrix\n",
    "x.dot(y) # matrix multiplication\n",
    "np.dot(x, y) # matrix multiplication\n",
    "\n",
    "np.dot(x, np.ones(3)) # matrix-vector multiplication\n",
    "np.ones(3) @ x # matrix-vector multiplication\n",
    "\n",
    "from numpy.linalg import inv, qr\n",
    "\n",
    "X = np.random.randn(5, 5) # 5x5 matrix\n",
    "mat = X.T.dot(X) # matrix multiplication\n",
    "inv(mat) # inverse\n",
    "mat.dot(inv(mat)) # identity matrix\n",
    "\n",
    "q, r = qr(mat) # QR decomposition\n",
    "r\n",
    "\n",
    "np.diag(mat) # diagonal\n",
    "np.trace(mat) # trace\n",
    "np.linalg.det(mat) # determinant\n",
    "np.linalg.eig(mat) # eigenvalues and eigenvectors\n",
    "np.linalg.svd(mat) # singular value decomposition\n",
    "np.linalg.solve(mat, np.eye(5)) # Ax = b for x\n",
    "np.linalg.lstsq(mat, np.eye(5)) # least squares solution to Ax = b\n",
    "\n",
    "np.dot(mat, np.linalg.inv(mat)) # identity matrix\n",
    "np.trace(np.dot(mat, np.linalg.inv(mat))) # trace of identity matrix"
   ],
   "id": "77a374ce4dac0b5"
  },
  {
   "metadata": {},
   "cell_type": "code",
   "outputs": [],
   "execution_count": null,
   "source": [
    "# Pseudorandom number generation\n",
    "\n",
    "samples = np.random.normal(size=(4, 4)) # 4x4 matrix of samples\n",
    "samples\n",
    "\n",
    "from random import normalvariate\n",
    "\n",
    "N = 1000000\n",
    "%timeit samples = [normalvariate(0, 1) for _ in range(N)] # using Python's random module\n",
    "%timeit np.random.normal(size=N) # using NumPy's random module\n",
    "from datetime import datetime\n",
    "\n",
    "np.random.seed(datetime.now().timestamp()) # set seed\n",
    "np.random.rand(10) # 10 random numbers\n",
    "\n",
    "np.seed(1234) # set seed\n",
    "np.random.rand(10) # 10 random numbers\n",
    "np.permutation(10) # random permutation of 10 numbers\n",
    "np.shuffle(np.arange(10)) # shuffle 10 numbers\n",
    "np.rand(10) # 10 random numbers\n",
    "np.randint(0, 10, 10) # 10 random integers between 0 and 10\n",
    "np.randn(10) # 10 random normal numbers\n",
    "np.binomial(10, 0.5, 10) # 10 random binomial numbers\n",
    "np.normal(0, 1, 10) # 10 random normal numbers\n",
    "np.beta(1, 1, 10) # 10 random beta numbers\n",
    "np.chisquare(1, 10) # 10 random chi-square numbers\n",
    "np.gamma(1, 10) # 10 random gamma numbers\n",
    "np.uniform(0, 1, 10) # 10 random uniform numbers"
   ],
   "id": "93dd0338e4fc58fc"
  },
  {
   "metadata": {},
   "cell_type": "code",
   "outputs": [],
   "execution_count": null,
   "source": [
    "# Example: Random Walks\n",
    "\n",
    "import random\n",
    "import matplotlib.pyplot as plt\n",
    "\n",
    "position = 0\n",
    "walk = [position]\n",
    "steps = 1000\n",
    "\n",
    "for i in range(steps):\n",
    "    step = 1 if random.randint(0, 1) else -1\n",
    "    position += step\n",
    "    walk.append(position)\n",
    "    \n",
    "plt.plot(walk[:100])\n",
    "plt.show()\n",
    "\n",
    "nsteps = 1000\n",
    "draws = np.random.randint(0, 2, size=nsteps)\n",
    "steps = np.where(draws > 0, 1, -1)\n",
    "walk = steps.cumsum()\n",
    "\n",
    "plt.plot(walk[:100])\n",
    "plt.show()\n",
    "\n",
    "# find first value that exceeds 10 or -10\n",
    "(np.abs(walk) >= 10).argmax()"
   ],
   "id": "a34edb8d19a85579"
  },
  {
   "metadata": {
    "ExecuteTime": {
     "end_time": "2024-04-26T09:54:49.459712Z",
     "start_time": "2024-04-26T09:54:49.021973Z"
    }
   },
   "cell_type": "code",
   "source": [
    "# Simulating many random walks at once\n",
    "\n",
    "nwalks = 5000\n",
    "nsteps = 1000\n",
    "draws = np.random.randint(0, 2, size=(nwalks, nsteps)) # create 5000x1000 matrix\n",
    "steps = np.where(draws > 0, 1, -1) # convert 0 to -1\n",
    "\n",
    "walks = steps.cumsum(1) # cumulative sum by row\n",
    "walks.max() # maximum\n",
    "walks.min() # minimum\n",
    "\n",
    "hits30 = (np.abs(walks) >= 30).any(1) # check if any walk hits 30\n",
    "hits30.sum() # number of walks that hit 30\n",
    "\n",
    "crossing_times = (np.abs(walks[hits30]) >= 30).argmax(1) # crossing times\n",
    "crossing_times.mean() # average crossing time\n",
    "\n",
    "steps = np.random.normal(loc=0, scale=0.25, size=(nwalks, nsteps)) # create 5000x1000 matrix\n",
    "walks = steps.cumsum(1) # cumulative sum by row\n",
    "walks.max() # maximum\n",
    "walks.min() # minimum\n"
   ],
   "id": "8147a5040ff72c1c",
   "outputs": [
    {
     "data": {
      "text/plain": [
       "-33.11799970046636"
      ]
     },
     "execution_count": 13,
     "metadata": {},
     "output_type": "execute_result"
    }
   ],
   "execution_count": 13
  }
 ],
 "metadata": {
  "kernelspec": {
   "display_name": "Python 3",
   "language": "python",
   "name": "python3"
  },
  "language_info": {
   "codemirror_mode": {
    "name": "ipython",
    "version": 2
   },
   "file_extension": ".py",
   "mimetype": "text/x-python",
   "name": "python",
   "nbconvert_exporter": "python",
   "pygments_lexer": "ipython2",
   "version": "2.7.6"
  }
 },
 "nbformat": 4,
 "nbformat_minor": 5
}

{
 "cells": [
  {
   "cell_type": "code",
   "id": "initial_id",
   "metadata": {
    "collapsed": true,
    "ExecuteTime": {
     "end_time": "2024-04-25T13:58:12.268173Z",
     "start_time": "2024-04-25T13:58:11.890882Z"
    }
   },
   "source": "import numpy as np",
   "outputs": [],
   "execution_count": 1
  },
  {
   "metadata": {
    "ExecuteTime": {
     "end_time": "2024-04-25T13:58:12.326728Z",
     "start_time": "2024-04-25T13:58:12.270514Z"
    }
   },
   "cell_type": "code",
   "source": [
    "my_arr = np.arange(1000000)\n",
    "\n",
    "my_list = list(range(1000000))"
   ],
   "id": "d209e0776260a23b",
   "outputs": [],
   "execution_count": 2
  },
  {
   "metadata": {
    "ExecuteTime": {
     "end_time": "2024-04-25T13:58:12.332128Z",
     "start_time": "2024-04-25T13:58:12.328683Z"
    }
   },
   "cell_type": "code",
   "source": "# Multiply each sequence by 2",
   "id": "8132785690aeb73a",
   "outputs": [],
   "execution_count": 3
  },
  {
   "metadata": {
    "ExecuteTime": {
     "end_time": "2024-04-25T13:58:12.382156Z",
     "start_time": "2024-04-25T13:58:12.334994Z"
    }
   },
   "cell_type": "code",
   "source": "%time for _ in range(10): my_arr2 = my_arr * 2",
   "id": "db53dc55a330400a",
   "outputs": [
    {
     "name": "stdout",
     "output_type": "stream",
     "text": [
      "CPU times: user 31.4 ms, sys: 7.67 ms, total: 39 ms\n",
      "Wall time: 41.2 ms\n"
     ]
    }
   ],
   "execution_count": 4
  },
  {
   "metadata": {
    "ExecuteTime": {
     "end_time": "2024-04-25T13:58:13.366292Z",
     "start_time": "2024-04-25T13:58:12.384313Z"
    }
   },
   "cell_type": "code",
   "source": [
    "\n",
    "%time for _ in range(10): my_list2 = [x * 2 for x in my_list]"
   ],
   "id": "f53ef21e0ab896f6",
   "outputs": [
    {
     "name": "stdout",
     "output_type": "stream",
     "text": [
      "CPU times: user 772 ms, sys: 198 ms, total: 970 ms\n",
      "Wall time: 976 ms\n"
     ]
    }
   ],
   "execution_count": 5
  },
  {
   "metadata": {
    "ExecuteTime": {
     "end_time": "2024-04-25T14:04:30.112919Z",
     "start_time": "2024-04-25T14:04:30.086048Z"
    }
   },
   "cell_type": "code",
   "source": [
    "# Convert a list to an array\n",
    "\n",
    "data1 = [6, 7.5, 8, 0, 1]\n",
    "arr1 = np.array(data1)\n",
    "\n",
    "arr1"
   ],
   "id": "8d6a9f3ff966b58d",
   "outputs": [
    {
     "data": {
      "text/plain": [
       "array([6. , 7.5, 8. , 0. , 1. ])"
      ]
     },
     "execution_count": 6,
     "metadata": {},
     "output_type": "execute_result"
    }
   ],
   "execution_count": 6
  },
  {
   "metadata": {
    "ExecuteTime": {
     "end_time": "2024-04-25T14:08:02.037468Z",
     "start_time": "2024-04-25T14:08:02.020050Z"
    }
   },
   "cell_type": "code",
   "source": [
    "# create array with zeroes, ones, empty\n",
    "\n",
    "np.zeros(10)\n",
    "np.zeros((3, 6))\n",
    "np.ones(10)\n",
    "np.ones((3, 6))\n",
    "\n",
    "np.empty((2, 3, 2))\n",
    "\n",
    "eye = np.eye(3)\n",
    "\n",
    "iden = np.identity(3)\n"
   ],
   "id": "f08f22aabe178380",
   "outputs": [
    {
     "data": {
      "text/plain": [
       "array([[1., 0., 0.],\n",
       "       [0., 1., 0.],\n",
       "       [0., 0., 1.]])"
      ]
     },
     "execution_count": 10,
     "metadata": {},
     "output_type": "execute_result"
    }
   ],
   "execution_count": 10
  },
  {
   "metadata": {
    "ExecuteTime": {
     "end_time": "2024-04-25T14:12:20.474886Z",
     "start_time": "2024-04-25T14:12:20.452212Z"
    }
   },
   "cell_type": "code",
   "source": [
    "# create array with range\n",
    "arr = np.arange(15)\n",
    "\n",
    "# create array with shape\n",
    "arr = np.arange(15).reshape((3, 5))\n",
    "\n",
    "# create array w dtype\n",
    "arr = np.array([1, 2, 3], dtype=np.float64)\n",
    "\n",
    "# convert dtype to another\n",
    "arr = np.array([1, 2, 3], dtype=np.float64)\n",
    "arr.dtype = np.int64\n",
    "\n",
    "arr1 = arr.astype(np.float64)\n"
   ],
   "id": "e034ee143faa6ecb",
   "outputs": [
    {
     "data": {
      "text/plain": [
       "array([4.60718242e+18, 4.61168602e+18, 4.61393782e+18])"
      ]
     },
     "execution_count": 16,
     "metadata": {},
     "output_type": "execute_result"
    }
   ],
   "execution_count": 16
  },
  {
   "metadata": {},
   "cell_type": "code",
   "outputs": [],
   "execution_count": null,
   "source": [
    "# arithmetical operations w arrays\n",
    "\n",
    "arr = np.array([[1., 2., 3.], [4., 5., 6.]])\n",
    "arr * arr # elementwise multiplication\n",
    "arr - arr # elementwise subtraction\n",
    "1 / arr # elementwise division\n",
    "arr ** 0.5 # elementwise square root"
   ],
   "id": "c0cd8e162ef5ecb7"
  },
  {
   "metadata": {},
   "cell_type": "code",
   "outputs": [],
   "execution_count": null,
   "source": [
    "# Indexing and slicing\n",
    "arr = np.arange(10)\n",
    "arr[5] # show 5 index\n",
    "arr[5:8] # show 5 to 8 index\n",
    "arr[5:8] = 12 # assign 12 to 5 to 8 index\n",
    "\n",
    "# working w 2-dimension array\n",
    "arr2d = np.array([[1, 2, 3], [4, 5, 6], [7, 8, 9]])\n",
    "arr2d[2] # show 2nd row\n",
    "arr2d[0][2] # show 0th row 2nd column\n",
    "\n",
    "# working w 3-dimension array\n",
    "arr3d = np.array([[[1, 2, 3], [4, 5, 6]], [[7, 8, 9], [10, 11, 12]]])\n",
    "arr3d[0] # show 0th row\n",
    "arr3d[0][1] # show 0th row 1st column\n",
    "arr3d[0][1][2] # show 0th row 1st column 2nd element\n",
    "\n",
    "# assign value to 2-dimension array\n",
    "arr2d[0][2] = 5\n"
   ],
   "id": "d6d2013cc4becc72"
  },
  {
   "metadata": {},
   "cell_type": "code",
   "outputs": [],
   "execution_count": null,
   "source": [
    "# Bool indexing\n",
    "\n",
    "names = np.array(['Bob', 'Joe', 'Will', 'Bob', 'Will', 'Joe', 'Joe'])\n",
    "\n",
    "data = np.random.randn(7, 4)\n",
    "\n",
    "data[names == 'Bob']\n",
    "data[names == 'Bob', 2:]\n",
    "data[names == 'Bob', 3]\n",
    "\n",
    "mask = (names == 'Bob') | (names == 'Will')\n",
    "data[mask]\n",
    "\n",
    "# opposite of mask\n",
    "data[~mask]\n"
   ],
   "id": "c03f0d884133588f"
  },
  {
   "metadata": {},
   "cell_type": "code",
   "outputs": [],
   "execution_count": null,
   "source": [
    "# Fancy indexing\n",
    "\n",
    "arr = np.empty((8, 4))\n",
    "\n",
    "for i in range(8):\n",
    "    arr[i] = i\n",
    "\n",
    "arr[[4, 3, 0, 6]]\n"
   ],
   "id": "3bd3b85fcd48b5a"
  },
  {
   "metadata": {},
   "cell_type": "code",
   "outputs": [],
   "execution_count": null,
   "source": [
    "# Transposing arrays and swapping axes\n",
    "\n",
    "arr = np.arange(15).reshape((3, 5))\n",
    "\n",
    "arr.T\n",
    "\n",
    "arr = np.random.randn(6, 3)\n",
    "\n",
    "np.dot(arr.T, arr)\n"
   ],
   "id": "fe6b25e47a90ffb7"
  }
 ],
 "metadata": {
  "kernelspec": {
   "display_name": "Python 3",
   "language": "python",
   "name": "python3"
  },
  "language_info": {
   "codemirror_mode": {
    "name": "ipython",
    "version": 2
   },
   "file_extension": ".py",
   "mimetype": "text/x-python",
   "name": "python",
   "nbconvert_exporter": "python",
   "pygments_lexer": "ipython2",
   "version": "2.7.6"
  }
 },
 "nbformat": 4,
 "nbformat_minor": 5
}

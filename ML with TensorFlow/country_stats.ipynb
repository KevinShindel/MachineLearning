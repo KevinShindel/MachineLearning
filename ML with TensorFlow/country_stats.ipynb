{
 "cells": [
  {
   "cell_type": "code",
   "id": "initial_id",
   "metadata": {
    "collapsed": true,
    "ExecuteTime": {
     "end_time": "2024-11-05T08:41:49.021179Z",
     "start_time": "2024-11-05T08:41:48.939469Z"
    }
   },
   "source": [
    "import pandas as pd\n",
    "import matplotlib.pyplot as plt\n",
    "import numpy as np\n",
    "import seaborn as sns\n",
    "from sklearn.linear_model import LinearRegression\n",
    "from sklearn.neighbors import KNeighborsRegressor"
   ],
   "outputs": [],
   "execution_count": 8
  },
  {
   "metadata": {
    "ExecuteTime": {
     "end_time": "2024-11-05T08:39:03.814027Z",
     "start_time": "2024-11-05T08:39:03.794610Z"
    }
   },
   "cell_type": "code",
   "source": [
    "oecd_bli_df = pd.read_csv('dataset/oecd_bli_2015.csv')\n",
    "gdp_per_capita_df = pd.read_csv('dataset/gdp_per_capita.csv', thousands=',', delimiter='\\t', encoding='latin1', na_values='n/a')"
   ],
   "id": "c8638a888e38c8f8",
   "outputs": [],
   "execution_count": 2
  },
  {
   "metadata": {
    "ExecuteTime": {
     "end_time": "2024-11-05T08:39:03.838766Z",
     "start_time": "2024-11-05T08:39:03.814538Z"
    }
   },
   "cell_type": "code",
   "source": [
    "oecd_bli_df = oecd_bli_df[oecd_bli_df[\"INEQUALITY\"]==\"TOT\"]\n",
    "oecd_bli_df = oecd_bli_df.pivot(index=\"Country\", columns=\"Indicator\", values=\"Value\")\n",
    "gdp_per_capita_df.rename(columns={\"2015\": \"GDP per capita\"}, inplace=True)\n",
    "gdp_per_capita_df.set_index(\"Country\", inplace=True)\n",
    "\n",
    "full_country_stats = pd.merge(left=oecd_bli_df, right=gdp_per_capita_df, left_index=True, right_index=True)\n",
    "full_country_stats.sort_values(by=\"GDP per capita\", inplace=True)"
   ],
   "id": "5d25315a3786fca",
   "outputs": [],
   "execution_count": 3
  },
  {
   "metadata": {
    "ExecuteTime": {
     "end_time": "2024-11-05T08:39:03.844314Z",
     "start_time": "2024-11-05T08:39:03.840771Z"
    }
   },
   "cell_type": "code",
   "source": [
    "X = np.c_[full_country_stats[\"GDP per capita\"]]\n",
    "y = np.c_[full_country_stats[\"Life satisfaction\"]]"
   ],
   "id": "9457a2803114a0a2",
   "outputs": [],
   "execution_count": 4
  },
  {
   "metadata": {
    "ExecuteTime": {
     "end_time": "2024-11-05T08:39:04.021457Z",
     "start_time": "2024-11-05T08:39:03.844823Z"
    }
   },
   "cell_type": "code",
   "source": [
    "full_country_stats.plot(kind='scatter', x=\"GDP per capita\", y='Life satisfaction')\n",
    "plt.show()"
   ],
   "id": "14284ed4e7ed9905",
   "outputs": [
    {
     "data": {
      "text/plain": [
       "<Figure size 640x480 with 1 Axes>"
      ],
      "image/png": "[encoded data removed]"
     },
     "metadata": {},
     "output_type": "display_data"
    }
   ],
   "execution_count": 5
  },
  {
   "metadata": {
    "ExecuteTime": {
     "end_time": "2024-11-05T08:39:36.105164Z",
     "start_time": "2024-11-05T08:39:36.090032Z"
    }
   },
   "cell_type": "code",
   "source": [
    "model = LinearRegression()\n",
    "\n",
    "model.fit(X, y)\n",
    "\n",
    "X_new = [[22587]] # Cyprus' GDP per capita\n",
    "print(model.predict(X_new)) # 6.28"
   ],
   "id": "b7d1056b9c0d5dac",
   "outputs": [
    {
     "name": "stdout",
     "output_type": "stream",
     "text": [
      "[[6.28653637]]\n"
     ]
    }
   ],
   "execution_count": 6
  },
  {
   "metadata": {
    "ExecuteTime": {
     "end_time": "2024-11-05T08:41:51.924095Z",
     "start_time": "2024-11-05T08:41:51.916591Z"
    }
   },
   "cell_type": "code",
   "source": [
    "model = KNeighborsRegressor(n_neighbors=3)\n",
    "\n",
    "model.fit(X, y)\n",
    "\n",
    "X_new = [[22587]] # Cyprus' GDP per capita\n",
    "print(model.predict(X_new)) # 5.77"
   ],
   "id": "f680ad6d1928f09f",
   "outputs": [
    {
     "name": "stdout",
     "output_type": "stream",
     "text": [
      "[[5.76666667]]\n"
     ]
    }
   ],
   "execution_count": 9
  },
  {
   "metadata": {},
   "cell_type": "code",
   "outputs": [],
   "execution_count": null,
   "source": "",
   "id": "44612fa42db28574"
  }
 ],
 "metadata": {
  "kernelspec": {
   "display_name": "Python 3",
   "language": "python",
   "name": "python3"
  },
  "language_info": {
   "codemirror_mode": {
    "name": "ipython",
    "version": 2
   },
   "file_extension": ".py",
   "mimetype": "text/x-python",
   "name": "python",
   "nbconvert_exporter": "python",
   "pygments_lexer": "ipython2",
   "version": "2.7.6"
  }
 },
 "nbformat": 4,
 "nbformat_minor": 5
}

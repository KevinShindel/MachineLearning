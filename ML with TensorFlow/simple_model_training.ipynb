{
 "cells": [
  {
   "metadata": {},
   "cell_type": "markdown",
   "source": [
    "# LinearRegression and SoftmaxRegression model training\n",
    "- Straight forward model training (closed-form solution)\n",
    "- Using Gradient Descent algorithm to find the best fit line (Batch, Stochastic, Mini-batch)"
   ],
   "id": "6876848cdf2fec63"
  },
  {
   "metadata": {
    "ExecuteTime": {
     "end_time": "2024-11-17T20:33:51.770190Z",
     "start_time": "2024-11-17T20:33:51.763338Z"
    }
   },
   "cell_type": "code",
   "source": [
    "# import libraries\n",
    "import numpy as np\n",
    "import matplotlib.pyplot as plt\n",
    "from sklearn.metrics import mean_squared_error\n",
    "from sklearn.model_selection import train_test_split\n",
    "from sklearn.preprocessing import StandardScaler\n",
    "from sklearn.pipeline import Pipeline\n",
    "from sklearn.linear_model import LinearRegression\n",
    "from sklearn.linear_model import SGDRegressor\n",
    "from sklearn.preprocessing import PolynomialFeatures\n"
   ],
   "id": "20f1940767ad7672",
   "outputs": [],
   "execution_count": 5
  },
  {
   "metadata": {
    "ExecuteTime": {
     "end_time": "2024-11-17T20:27:40.215160Z",
     "start_time": "2024-11-17T20:27:40.010958Z"
    }
   },
   "cell_type": "code",
   "source": [
    "# Normal solution\n",
    "X = 2 * np.random.rand(100, 1) # 100 samples, 1 feature\n",
    "y = 4 + 3 * X + np.random.randn(100, 1) # y = 4 + 3X + noise\n",
    "\n",
    "# plot the data\n",
    "plt.plot(X, y, \"b.\")\n",
    "plt.xlabel(\"$x_1$\", fontsize=18)\n",
    "plt.ylabel(\"$y$\", rotation=0, fontsize=18)\n",
    "plt.axis((0, 2, 0, 15))\n",
    "plt.show()"
   ],
   "id": "1ba9b2817948430f",
   "outputs": [
    {
     "data": {
      "text/plain": [
       "<Figure size 640x480 with 1 Axes>"
      ],
      "image/png": "[encoded data removed]"
     },
     "metadata": {},
     "output_type": "display_data"
    }
   ],
   "execution_count": 2
  },
  {
   "metadata": {},
   "cell_type": "code",
   "source": [
    "# Normal equation\n",
    "X_b = np.c_[np.ones((100, 1)), X] # add x0 = 1 to each instance\n",
    "theta_best = np.linalg.inv(X_b.T.dot(X_b)).dot(X_b.T).dot(y) # normal equation\n",
    "print(X_b[:5])\n",
    "print(theta_best) # Try to reproduce y = 4 + 3"
   ],
   "id": "484a934e74e928db",
   "outputs": [],
   "execution_count": null
  },
  {
   "metadata": {},
   "cell_type": "code",
   "source": [
    "# Make predictions\n",
    "X_new = np.array([[0], [2]]) # 2 new instances\n",
    "X_new_b = np.c_[np.ones((2, 1)), X_new] # add x0 = 1 to each instance \n",
    "y_predict = X_new_b.dot(theta_best)\n",
    "\n",
    "print(y_predict)"
   ],
   "id": "fdaa3b7034ede994",
   "outputs": [],
   "execution_count": null
  },
  {
   "metadata": {},
   "cell_type": "code",
   "source": [
    "# Plot the model prediction\n",
    "plt.plot(X_new, y_predict, \"r-\")\n",
    "plt.plot(X, y, \"b.\")\n",
    "plt.axis((0, 2, 0, 15))\n",
    "plt.show()"
   ],
   "id": "3583459c0d843ea4",
   "outputs": [],
   "execution_count": null
  },
  {
   "metadata": {},
   "cell_type": "code",
   "source": [
    "# Using Scikit-Learn to do the same thing\n",
    "lin_reg = LinearRegression() # this model based on Normal Equation (scipy.linalg.lstsq())\n",
    "lin_reg.fit(X, y)\n",
    "\n",
    "intercept, slope = lin_reg.intercept_, lin_reg.coef_\n",
    "print(intercept, slope)\n",
    "\n",
    "# plot the model prediction\n",
    "y_predict = lin_reg.predict(X_new)\n",
    "plt.plot(X_new, y_predict, \"r-\")\n",
    "plt.plot(X, y, \"b.\")\n",
    "plt.axis((0, 2, 0, 15))\n",
    "plt.show()"
   ],
   "id": "4b831d300d0707de",
   "outputs": [],
   "execution_count": null
  },
  {
   "metadata": {},
   "cell_type": "code",
   "source": [
    "# Using last square method to find the best fit line\n",
    "theta_best_svd, residuals, rank, s = np.linalg.lstsq(X_b, y, rcond=1e-6)\n",
    "print(theta_best_svd)\n",
    "\n",
    "result = np.linalg.pinv(X_b).dot(y) # Moore-Penrose pseudo-inverse\n",
    "print(result)"
   ],
   "id": "e53c011b5b2f214a",
   "outputs": [],
   "execution_count": null
  },
  {
   "metadata": {},
   "cell_type": "code",
   "source": [
    "# Gradient Descent Explanation\n",
    "\n",
    "# main parameter in Gradient Descent is learning rate, if it's too small, the algorithm will take long time to converge, if too big it may not converge"
   ],
   "id": "e2b5b79e2d157b36",
   "outputs": [],
   "execution_count": null
  },
  {
   "metadata": {},
   "cell_type": "code",
   "source": [
    "# Batch Gradient Descent example\n",
    "\n",
    "eta = 0.1                                           # learning rate\n",
    "n_iterations = 1000                                 # number of iterations\n",
    "m = 100                                             # number of samples\n",
    "\n",
    "theta = np.random.randn(2, 1)                       # random initialization\n",
    "\n",
    "for iteration in range(n_iterations):               # loop through n_iterations\n",
    "    gradients = 2/m * X_b.T.dot(X_b.dot(theta) - y) # gradient of the cost function\n",
    "    theta = theta - eta * gradients                 # update theta\n",
    "\n",
    "print(theta)"
   ],
   "id": "2bc4f8b558164bde",
   "outputs": [],
   "execution_count": null
  },
  {
   "metadata": {},
   "cell_type": "code",
   "source": [
    "# Change the learning rate to see the effect\n",
    "eta = 0.2                                           # learning rate\n",
    "n_iterations = 100                                  # number of iterations\n",
    "m = 100                                             # number of samples\n",
    "\n",
    "theta = np.random.randn(2, 1)                       # random initialization\n",
    "\n",
    "for iteration in range(n_iterations):               # loop through n_iterations\n",
    "    gradients = 2/m * X_b.T.dot(X_b.dot(theta) - y) # gradient of the cost function\n",
    "    theta = theta - eta * gradients                 # update theta\n",
    "\n",
    "print(theta)"
   ],
   "id": "984a7b11f8b7125",
   "outputs": [],
   "execution_count": null
  },
  {
   "metadata": {},
   "cell_type": "code",
   "source": [
    "# Visualize the effect of learning rate (eta = 0.02, 0.1, 0.5)\n",
    "theta_path_bgd = []\n",
    "\n",
    "def plot_gradient_descent(theta, eta, theta_path=None):\n",
    "    m = len(X_b)\n",
    "    plt.plot(X, y, \"b.\")\n",
    "    n_iterations = 1000\n",
    "    for iteration in range(n_iterations):\n",
    "        if iteration < 10:\n",
    "            y_predict = X_new_b.dot(theta)\n",
    "            style = \"b-\" if iteration > 0 else \"r--\"\n",
    "            plt.plot(X_new, y_predict, style)\n",
    "        gradients = 2/m * X_b.T.dot(X_b.dot(theta) - y)\n",
    "        theta = theta - eta * gradients\n",
    "        if theta_path is not None:\n",
    "            theta_path.append(theta)\n",
    "    plt.xlabel(\"$x_1$\", fontsize=18)\n",
    "    plt.axis((0, 2, 0, 15))\n",
    "    plt.title(r\"$\\eta = {}$\".format(eta), fontsize=16)\n",
    "    \n",
    "np.random.seed(42)\n",
    "theta = np.random.randn(2, 1)  # random initialization\n",
    "\n",
    "plt.figure(figsize=(10, 4))\n",
    "plt.subplot(131); plot_gradient_descent(theta, eta=0.02)\n",
    "plt.ylabel(\"$y$\", rotation=0, fontsize=18)\n",
    "plt.subplot(132); plot_gradient_descent(theta, eta=0.1, theta_path=theta_path_bgd)\n",
    "plt.subplot(133); plot_gradient_descent(theta, eta=0.5)\n",
    "plt.show()"
   ],
   "id": "c3d80a3dfa7c12a",
   "outputs": [],
   "execution_count": null
  },
  {
   "metadata": {},
   "cell_type": "markdown",
   "source": [
    "### Stochastic Gradient Descent\n",
    "\n",
    "main weak side of batch gradient descent is that it uses the whole training set to compute the gradients at every step, which makes it very slow when the training set is large.\n",
    "\n",
    "Stochastic Gradient Descent just picks a random instance in the training set at every step and computes the gradients based only on that single instance."
   ],
   "id": "3aa29a75439bc2f5"
  },
  {
   "metadata": {},
   "cell_type": "code",
   "source": [
    "# Stochastic Gradient Descent example\n",
    "n_epochs = 50 # number of epochs\n",
    "t0, t1 = 5, 50 # learning schedule hyperparameters\n",
    "\n",
    "def learning_schedule(t):\n",
    "    return t0 / (t + t1)\n",
    "\n",
    "theta = np.random.randn(2, 1) # random initialization\n",
    "\n",
    "for epoch in range(n_epochs): # loop through n_epochs\n",
    "    for i in range(m): # loop through m samples\n",
    "        random_index = np.random.randint(m) # pick a random index\n",
    "        xi = X_b[random_index:random_index+1] # pick a random sample\n",
    "        yi = y[random_index:random_index+1] # pick a random target\n",
    "        gradients = 2 * xi.T.dot(xi.dot(theta) - yi) # compute the gradient\n",
    "        eta = learning_schedule(epoch * m + i) # learning rate\n",
    "        theta = theta - eta * gradients # update theta\n",
    "        \n",
    "print(theta)"
   ],
   "id": "65bd4f4f0b665c62",
   "outputs": [],
   "execution_count": null
  },
  {
   "metadata": {},
   "cell_type": "code",
   "source": [
    "theta_path_sgd = []\n",
    "m = len(X_b)\n",
    "np.random.seed(42)\n",
    "n_epochs = 50\n",
    "t0, t1 = 5, 50  # learning schedule hyperparameters\n",
    "\n",
    "def learning_schedule(t):\n",
    "    return t0 / (t + t1)\n",
    "\n",
    "theta = np.random.randn(2,1)  # random initialization\n",
    "\n",
    "for epoch in range(n_epochs):\n",
    "    for i in range(m):\n",
    "        if epoch == 0 and i < 20:                    # not shown in the book\n",
    "            y_predict = X_new_b.dot(theta)           # not shown\n",
    "            style = \"b-\" if i > 0 else \"r--\"         # not shown\n",
    "            plt.plot(X_new, y_predict, style)        # not shown\n",
    "        random_index = np.random.randint(m)\n",
    "        xi = X_b[random_index:random_index+1]\n",
    "        yi = y[random_index:random_index+1]\n",
    "        gradients = 2 * xi.T.dot(xi.dot(theta) - yi)\n",
    "        eta = learning_schedule(epoch * m + i)\n",
    "        theta = theta - eta * gradients\n",
    "        theta_path_sgd.append(theta)                 # not shown\n",
    "\n",
    "plt.plot(X, y, \"b.\")                                 # not shown\n",
    "plt.xlabel(\"$x_1$\", fontsize=18)                     # not shown\n",
    "plt.ylabel(\"$y$\", rotation=0, fontsize=18)           # not shown\n",
    "plt.axis((0, 2, 0, 15))                              # not shown\n",
    "plt.show()                                           # not shown"
   ],
   "id": "b31e1dca6d7f0cde",
   "outputs": [],
   "execution_count": null
  },
  {
   "metadata": {},
   "cell_type": "code",
   "source": [
    "# Using Scikit-Learn to do the same thing\n",
    "\n",
    "\n",
    "sgd_reg = SGDRegressor(max_iter=1000, tol=1e-3, penalty=None, eta0=0.1)\n",
    "sgd_reg.fit(X, y.ravel())\n",
    "\n",
    "print(sgd_reg.intercept_, sgd_reg.coef_)"
   ],
   "id": "116f1c4406d7e877",
   "outputs": [],
   "execution_count": null
  },
  {
   "metadata": {},
   "cell_type": "markdown",
   "source": [
    "### Mini-batch Gradient Descent\n",
    "\n",
    "At each step, instead of computing the gradients based on the full training set (as in Batch GD) or based on just one instance (as in Stochastic GD), Mini-batch GD computes the gradients on small random sets of instances called mini-batches."
   ],
   "id": "7d7d52bd83aa9ef1"
  },
  {
   "metadata": {},
   "cell_type": "code",
   "source": [
    "theta_path_mgd = []\n",
    "\n",
    "n_iterations = 50\n",
    "minibatch_size = 20\n",
    "\n",
    "np.random.seed(42)\n",
    "theta = np.random.randn(2,1)  # random initialization\n",
    "\n",
    "t0, t1 = 200, 1000\n",
    "def learning_schedule(t):\n",
    "    return t0 / (t + t1)\n",
    "\n",
    "t = 0\n",
    "for epoch in range(n_iterations):\n",
    "    shuffled_indices = np.random.permutation(m)\n",
    "    X_b_shuffled = X_b[shuffled_indices]\n",
    "    y_shuffled = y[shuffled_indices]\n",
    "    for i in range(0, m, minibatch_size):\n",
    "        t += 1\n",
    "        xi = X_b_shuffled[i:i+minibatch_size]\n",
    "        yi = y_shuffled[i:i+minibatch_size]\n",
    "        gradients = 2/minibatch_size * xi.T.dot(xi.dot(theta) - yi)\n",
    "        eta = learning_schedule(t)\n",
    "        theta = theta - eta * gradients\n",
    "        theta_path_mgd.append(theta)\n",
    "\n",
    "print(theta)"
   ],
   "id": "c817d9da3b9bb283",
   "outputs": [],
   "execution_count": null
  },
  {
   "metadata": {},
   "cell_type": "code",
   "source": [
    "theta_path_bgd = np.array(theta_path_bgd)\n",
    "theta_path_sgd = np.array(theta_path_sgd)\n",
    "theta_path_mgd = np.array(theta_path_mgd)\n",
    "\n",
    "plt.figure(figsize=(7,4))\n",
    "plt.plot(theta_path_sgd[:, 0], theta_path_sgd[:, 1], \"r-s\", linewidth=1, label=\"Stochastic\")\n",
    "plt.plot(theta_path_mgd[:, 0], theta_path_mgd[:, 1], \"g-+\", linewidth=2, label=\"Mini-batch\")\n",
    "plt.plot(theta_path_bgd[:, 0], theta_path_bgd[:, 1], \"b-o\", linewidth=3, label=\"Batch\")\n",
    "plt.legend(loc=\"upper left\", fontsize=16)\n",
    "plt.xlabel(r\"$\\theta_0$\", fontsize=20)\n",
    "plt.ylabel(r\"$\\theta_1$   \", fontsize=20, rotation=0)\n",
    "plt.axis((2.5, 4.5, 2.3, 3.9))\n",
    "plt.show()"
   ],
   "id": "708e5327b33fe38d",
   "outputs": [],
   "execution_count": null
  },
  {
   "metadata": {},
   "cell_type": "code",
   "source": [
    "# Polinomial Regression\n",
    "\n",
    "m = 100 # number of samples\n",
    "X = 6 * np.random.rand(m, 1) - 3 # 100 samples, 1 feature\n",
    "y = 0.5 * X**2 + X + 2 + np.random.randn(m, 1) # y = 0.5X^2 + X + 2 + noise\n",
    "\n",
    "# plot the data\n",
    "plt.plot(X, y, \"b.\")\n",
    "plt.xlabel(\"$x_1$\", fontsize=18)\n",
    "plt.ylabel(\"$y$\", rotation=0, fontsize=18)\n",
    "plt.axis((-3, 3, 0, 10))\n",
    "plt.show()\n",
    "\n",
    "poly_features = PolynomialFeatures(degree=2, include_bias=False) # add X^2 to the feature\n",
    "X_poly = poly_features.fit_transform(X) # add X^2 to the feature\n",
    "\n",
    "print(X[0]) # original feature\n",
    "print(X_poly[0]) # original feature + X^2\n",
    "\n",
    "lin_reg = LinearRegression()\n",
    "\n",
    "lin_reg.fit(X_poly, y)\n",
    "\n",
    "print(lin_reg.intercept_, lin_reg.coef_)\n",
    "\n",
    "# plot the model prediction\n",
    "\n",
    "X_new = np.linspace(-3, 3, 100).reshape(100, 1)\n",
    "X_new_poly = poly_features.transform(X_new)\n",
    "y_new = lin_reg.predict(X_new_poly)\n",
    "\n",
    "plt.plot(X, y, \"b.\")\n",
    "plt.plot(X_new, y_new, \"r-\", linewidth=2, label=\"Predictions\")\n",
    "plt.xlabel(\"$x_1$\", fontsize=18)\n",
    "plt.ylabel(\"$y$\", rotation=0, fontsize=18)\n",
    "plt.legend(loc=\"upper left\", fontsize=14)\n",
    "plt.axis((-3, 3, 0, 10))\n",
    "plt.show()"
   ],
   "id": "d269a3a9077b0aff",
   "outputs": [],
   "execution_count": null
  },
  {
   "metadata": {},
   "cell_type": "code",
   "source": [
    "# Same model with high degree\n",
    "\n",
    "\n",
    "\n",
    "for style, width, degree in ((\"g-\", 1, 300), (\"b--\", 2, 2), (\"r-+\", 2, 1)):\n",
    "    polybig_features = PolynomialFeatures(degree=degree, include_bias=False)\n",
    "    std_scaler = StandardScaler()\n",
    "    lin_reg = LinearRegression()\n",
    "    polynomial_regression = Pipeline([\n",
    "            (\"poly_features\", polybig_features),\n",
    "            (\"std_scaler\", std_scaler),\n",
    "            (\"lin_reg\", lin_reg),\n",
    "        ])\n",
    "    polynomial_regression.fit(X, y)\n",
    "    y_newbig = polynomial_regression.predict(X_new)\n",
    "    plt.plot(X_new, y_newbig, style, label=str(degree), linewidth=width)\n",
    "\n",
    "plt.plot(X, y, \"b.\", linewidth=3)\n",
    "plt.legend(loc=\"upper left\")\n",
    "plt.xlabel(\"$x_1$\", fontsize=18)\n",
    "plt.ylabel(\"$y$\", rotation=0, fontsize=18)\n",
    "plt.axis((-3, 3, 0, 10))\n",
    "plt.show()\n"
   ],
   "id": "5079d3a3f0e3eebe",
   "outputs": [],
   "execution_count": null
  },
  {
   "metadata": {
    "ExecuteTime": {
     "end_time": "2024-11-17T20:27:44.277807Z",
     "start_time": "2024-11-17T20:27:44.100726Z"
    }
   },
   "cell_type": "code",
   "source": [
    "# Discover Learning Curve (test/train error)\n",
    "\n",
    "def plot_learning_curves(model, X, y):\n",
    "    X_train, X_val, y_train, y_val = train_test_split(X, y, test_size=0.2)\n",
    "    train_errors, val_errors = [], []\n",
    "    for m in range(1, len(X_train)):\n",
    "        model.fit(X_train[:m], y_train[:m])\n",
    "        y_train_predict = model.predict(X_train[:m])\n",
    "        y_val_predict = model.predict(X_val)\n",
    "        train_errors.append(mean_squared_error(y_train[:m], y_train_predict))\n",
    "        val_errors.append(mean_squared_error(y_val, y_val_predict))\n",
    "    plt.plot(np.sqrt(train_errors), \"r-+\", linewidth=2, label=\"train\")\n",
    "    plt.plot(np.sqrt(val_errors), \"b-\", linewidth=3, label=\"test\")\n",
    "    plt.legend(loc=\"upper right\", fontsize=14)\n",
    "    plt.xlabel(\"Training set size\", fontsize=14)\n",
    "    plt.ylabel(\"RMSE\", fontsize=14)\n",
    "\n",
    "lin_reg = LinearRegression()\n",
    "plt.figure(figsize=(10, 4))\n",
    "plt.subplot(121)\n",
    "plot_learning_curves(lin_reg, X, y)\n",
    "plt.axis((0, 80, 0, 3))\n",
    "plt.show()"
   ],
   "id": "bd912dd31c5ab394",
   "outputs": [
    {
     "data": {
      "text/plain": [
       "<Figure size 1000x400 with 1 Axes>"
      ],
      "image/png": "[encoded data removed]"
     },
     "metadata": {},
     "output_type": "display_data"
    }
   ],
   "execution_count": 3
  },
  {
   "metadata": {},
   "cell_type": "code",
   "outputs": [],
   "execution_count": null,
   "source": "# This graph mean that current model is underfitting, so we need to add more features or use more complex model",
   "id": "4554ace999de804"
  },
  {
   "metadata": {
    "ExecuteTime": {
     "end_time": "2024-11-17T20:33:57.254171Z",
     "start_time": "2024-11-17T20:33:57.003287Z"
    }
   },
   "cell_type": "code",
   "source": [
    "# let's use Polynomial Regression with degree 10\n",
    "\n",
    "polynomial_regression = Pipeline([\n",
    "        (\"poly_features\", PolynomialFeatures(degree=10, include_bias=False)),\n",
    "        (\"lin_reg\", LinearRegression()),\n",
    "    ])\n",
    "\n",
    "plt.figure(figsize=(10, 4))\n",
    "plt.subplot(121)\n",
    "plot_learning_curves(polynomial_regression, X, y)\n",
    "plt.axis((0, 80, 0, 3))\n",
    "plt.show()"
   ],
   "id": "2064eb3a073e67d3",
   "outputs": [
    {
     "data": {
      "text/plain": [
       "<Figure size 1000x400 with 1 Axes>"
      ],
      "image/png": "[encoded data removed]"
     },
     "metadata": {},
     "output_type": "display_data"
    }
   ],
   "execution_count": 6
  },
  {
   "metadata": {},
   "cell_type": "code",
   "outputs": [],
   "execution_count": null,
   "source": [
    "# This graph mean that current model is overfitting, so we need to add more samples to the training set\n",
    "# Error on training set is much lower than on the validation set\n",
    "# Between the two models, the linear regression model is better because it has lower RMSE\n",
    "\n",
    "# One of possible solution to avoid overfitting is continue adding data until the verification error reaches the training error"
   ],
   "id": "576da55e08ca2489"
  },
  {
   "metadata": {},
   "cell_type": "code",
   "outputs": [],
   "execution_count": null,
   "source": [
    "# Compromise between Shift and Dispersion\n",
    "\n",
    "# Shift - part of error that comes from the model's wrong assumptions (model with higher shift is underfitted)\n",
    "# Dispersion - part of error that comes from the model's sensitivity to small variations in the training data (model with higher dispersion is overfitted)\n",
    "# Fatal error - model with high shift and high dispersion ( need to clean incoming data or use simpler model)\n",
    "\n",
    "# Increasing the complexity of the model will typically increase its variance and reduce its bias.\n",
    "# Conversely, reducing the complexity of the model increases its bias and reduces its variance.\n",
    "# This is why it is called a tradeoff."
   ],
   "id": "d9b089fb55f54f11"
  },
  {
   "metadata": {},
   "cell_type": "code",
   "outputs": [],
   "execution_count": null,
   "source": [
    "# Regularized Linear Models\n",
    "\n",
    "# Best way to decrease overfitting is to regularize the model (constrain it)"
   ],
   "id": "53da8683a6a7555b"
  }
 ],
 "metadata": {
  "kernelspec": {
   "display_name": "Python 3",
   "language": "python",
   "name": "python3"
  },
  "language_info": {
   "codemirror_mode": {
    "name": "ipython",
    "version": 2
   },
   "file_extension": ".py",
   "mimetype": "text/x-python",
   "name": "python",
   "nbconvert_exporter": "python",
   "pygments_lexer": "ipython2",
   "version": "2.7.6"
  }
 },
 "nbformat": 4,
 "nbformat_minor": 5
}

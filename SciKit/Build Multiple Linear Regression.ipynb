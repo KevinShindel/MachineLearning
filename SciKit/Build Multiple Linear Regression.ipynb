{
 "cells": [
  {
   "cell_type": "code",
   "id": "initial_id",
   "metadata": {
    "collapsed": true
   },
   "source": [
    "import numpy as np\n",
    "import pandas as pd\n",
    "import matplotlib.pyplot as plt\n",
    "import seaborn as sns\n",
    "from sklearn.model_selection import train_test_split\n",
    "from sklearn.linear_model import LinearRegression"
   ],
   "outputs": [],
   "execution_count": null
  },
  {
   "metadata": {},
   "cell_type": "code",
   "source": [
    "\n",
    "data = []\n",
    "\n",
    "for _ in range(1000):\n",
    "    team_name = f\"Team {chr(np.random.randint(65, 91))}\"\n",
    "    season = np.random.randint(2010, 2024)\n",
    "    wins = np.random.randint(50, 110)\n",
    "    losses = 162 - wins\n",
    "    hits = np.random.randint(1000, 1600)\n",
    "    doubles = np.random.randint(200, 350)\n",
    "    triples = np.random.randint(10, 40)\n",
    "    home_runs = np.random.randint(100, 250)\n",
    "    strikeouts = np.random.randint(1000, 1500)\n",
    "    \n",
    "    hits_adjusted = hits + (wins-80) * 5\n",
    "    doubles_adjusted = doubles + (wins-80) * 3\n",
    "    triples_adjusted = triples + (wins-80) * 1\n",
    "    home_runs_adjusted = home_runs + (wins-80) * 3\n",
    "    strikeouts_adjusted = strikeouts + (wins-80) * 10\n",
    "    \n",
    "    data.append([team_name, season, wins, losses, hits, doubles, triples, home_runs, strikeouts, hits_adjusted, doubles_adjusted, triples_adjusted, home_runs_adjusted, strikeouts_adjusted])"
   ],
   "id": "7760f742fba49833",
   "outputs": [],
   "execution_count": null
  },
  {
   "metadata": {},
   "cell_type": "code",
   "source": "columns = [\"Team\", \"Season\", \"Wins\", \"Losses\", \"Hits\", \"Doubles\", \"Triples\", \"Home Runs\", \"Strikeouts\", \"Hits Adjusted\", \"Doubles Adjusted\", \"Triples Adjusted\", \"Home Runs Adjusted\", \"Strikeouts Adjusted\"]",
   "id": "354b201805c88675",
   "outputs": [],
   "execution_count": null
  },
  {
   "metadata": {},
   "cell_type": "code",
   "source": [
    "df = pd.DataFrame(data, columns=columns)\n",
    "\n",
    "print(df.head())"
   ],
   "id": "b1b7f0b187895942",
   "outputs": [],
   "execution_count": null
  },
  {
   "metadata": {},
   "cell_type": "code",
   "source": [
    "sns.lmplot(x=\"Hits\", y=\"Wins\", data=df)\n",
    "plt.plot()"
   ],
   "id": "f0ec98fdd97d5263",
   "outputs": [],
   "execution_count": null
  },
  {
   "metadata": {},
   "cell_type": "code",
   "source": [
    "sns.lmplot(x=\"Strikeouts\", y=\"Wins\", data=df)\n",
    "plt.plot()"
   ],
   "id": "4efd4438b24463c5",
   "outputs": [],
   "execution_count": null
  },
  {
   "metadata": {},
   "cell_type": "code",
   "source": [
    "df2 = df.drop(columns=[\"Team\", \"Season\", \"Losses\"], axis=1)\n",
    "print(df2.head())"
   ],
   "id": "4d4cf0b80636725f",
   "outputs": [],
   "execution_count": null
  },
  {
   "metadata": {},
   "cell_type": "code",
   "source": [
    "X = df[[\"Hits\", \"Doubles\", \"Triples\", \"Home Runs\", \"Strikeouts\"]]\n",
    "y = df[\"Wins\"]\n",
    "\n",
    "X_train, X_test, y_train, y_test = train_test_split(X, y, test_size=0.2, random_state=42)"
   ],
   "id": "1d343de33f7ddffa",
   "outputs": [],
   "execution_count": null
  },
  {
   "metadata": {},
   "cell_type": "code",
   "outputs": [],
   "execution_count": null,
   "source": [
    "lr = LinearRegression()\n",
    "\n",
    "lr.fit(X_train, y_train)\n",
    "\n",
    "y_pred = lr.predict(X_test)\n",
    "score = lr.score(X_test, y_test)"
   ],
   "id": "ff2b133d934d3b27"
  }
 ],
 "metadata": {
  "kernelspec": {
   "display_name": "Python 3",
   "language": "python",
   "name": "python3"
  },
  "language_info": {
   "codemirror_mode": {
    "name": "ipython",
    "version": 2
   },
   "file_extension": ".py",
   "mimetype": "text/x-python",
   "name": "python",
   "nbconvert_exporter": "python",
   "pygments_lexer": "ipython2",
   "version": "2.7.6"
  }
 },
 "nbformat": 4,
 "nbformat_minor": 5
}

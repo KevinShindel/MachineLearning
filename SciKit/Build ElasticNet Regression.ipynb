{
 "cells": [
  {
   "cell_type": "code",
   "id": "initial_id",
   "metadata": {
    "collapsed": true,
    "ExecuteTime": {
     "end_time": "2024-10-13T21:03:23.038908Z",
     "start_time": "2024-10-13T21:03:23.033440Z"
    }
   },
   "source": [
    "from sklearn.linear_model import ElasticNet\n",
    "from sklearn.model_selection import GridSearchCV\n",
    "from sklearn.metrics import mean_squared_error, r2_score, mean_absolute_error\n",
    "from sklearn.model_selection import train_test_split\n",
    "from sklearn.datasets import make_regression\n",
    "import seaborn as sns\n",
    "import pandas as pd"
   ],
   "outputs": [],
   "execution_count": 19
  },
  {
   "metadata": {
    "ExecuteTime": {
     "end_time": "2024-10-13T21:03:23.297187Z",
     "start_time": "2024-10-13T21:03:23.057455Z"
    }
   },
   "cell_type": "code",
   "source": "print(sns.get_dataset_names())",
   "id": "5b76aec304a87696",
   "outputs": [
    {
     "name": "stdout",
     "output_type": "stream",
     "text": [
      "['anagrams', 'anscombe', 'attention', 'brain_networks', 'car_crashes', 'diamonds', 'dots', 'dowjones', 'exercise', 'flights', 'fmri', 'geyser', 'glue', 'healthexp', 'iris', 'mpg', 'penguins', 'planets', 'seaice', 'taxis', 'tips', 'titanic']\n"
     ]
    }
   ],
   "execution_count": 20
  },
  {
   "metadata": {
    "ExecuteTime": {
     "end_time": "2024-10-13T21:03:23.343048Z",
     "start_time": "2024-10-13T21:03:23.302684Z"
    }
   },
   "cell_type": "code",
   "source": [
    "tips = sns.load_dataset('tips')\n",
    "\n",
    "tips = pd.get_dummies(tips, drop_first=True)\n",
    "print(tips.head())"
   ],
   "id": "5ad12e6c86bfe4fe",
   "outputs": [
    {
     "name": "stdout",
     "output_type": "stream",
     "text": [
      "   total_bill   tip  size  sex_Female  smoker_No  day_Fri  day_Sat  day_Sun  \\\n",
      "0       16.99  1.01     2        True       True    False    False     True   \n",
      "1       10.34  1.66     3       False       True    False    False     True   \n",
      "2       21.01  3.50     3       False       True    False    False     True   \n",
      "3       23.68  3.31     2       False       True    False    False     True   \n",
      "4       24.59  3.61     4        True       True    False    False     True   \n",
      "\n",
      "   time_Dinner  \n",
      "0         True  \n",
      "1         True  \n",
      "2         True  \n",
      "3         True  \n",
      "4         True  \n"
     ]
    }
   ],
   "execution_count": 21
  },
  {
   "metadata": {
    "ExecuteTime": {
     "end_time": "2024-10-13T21:03:23.356326Z",
     "start_time": "2024-10-13T21:03:23.345880Z"
    }
   },
   "cell_type": "code",
   "source": [
    "X, y = tips.drop('tip', axis=1), tips['tip']\n",
    "X_train, X_test, y_train, y_test = train_test_split(X, y, test_size=0.2, random_state=42)"
   ],
   "id": "bb9963a9cd37809b",
   "outputs": [],
   "execution_count": 22
  },
  {
   "metadata": {
    "ExecuteTime": {
     "end_time": "2024-10-13T21:03:23.379731Z",
     "start_time": "2024-10-13T21:03:23.359087Z"
    }
   },
   "cell_type": "code",
   "source": [
    "def_elastic_net = ElasticNet()\n",
    "\n",
    "def_elastic_net.fit(X_train, y_train)\n",
    "\n",
    "y_pred = def_elastic_net.predict(X_test)\n",
    "\n",
    "def_mae = mean_absolute_error(y_test, y_pred)\n",
    "def_mse = mean_squared_error(y_test, y_pred)\n",
    "def_r2 = r2_score(y_test, y_pred)\n",
    "def_accuracy = def_elastic_net.score(X_test, y_test)\n",
    "\n",
    "print(f'MAE: {def_mae}')\n",
    "print(f'MSE: {def_mse}')\n",
    "print(f'R2: {def_r2}')\n",
    "print(f'Accuracy: {def_accuracy}')"
   ],
   "id": "6ac90354aa2faa0d",
   "outputs": [
    {
     "name": "stdout",
     "output_type": "stream",
     "text": [
      "MAE: 0.623181622297227\n",
      "MSE: 0.5638165622197248\n",
      "R2: 0.5489364101409275\n",
      "Accuracy: 0.5489364101409275\n"
     ]
    }
   ],
   "execution_count": 23
  },
  {
   "metadata": {
    "ExecuteTime": {
     "end_time": "2024-10-13T21:03:23.667398Z",
     "start_time": "2024-10-13T21:03:23.381742Z"
    }
   },
   "cell_type": "code",
   "source": [
    "\n",
    "param_grid = {\n",
    "    'alpha': [0.1, 0.3, 0.5, 0.7, 0.9,  1],\n",
    "    'l1_ratio': [0.1, 0.3,  0.5, 0.7, 0.9, 1]\n",
    "}\n",
    "\n",
    "grid_search = GridSearchCV(ElasticNet(), param_grid, cv=5, n_jobs=-1, scoring='neg_mean_squared_error', verbose=1)\n",
    "\n",
    "grid_search.fit(X_train, y_train)\n",
    "\n",
    "y_pred = grid_search.predict(X_test)\n",
    "\n",
    "mae = mean_absolute_error(y_test, y_pred)\n",
    "mse = mean_squared_error(y_test, y_pred)\n",
    "r2 = r2_score(y_test, y_pred)\n",
    "accuracy = grid_search.score(X_test, y_test)\n",
    "\n",
    "print(f'MAE: {mae}')\n",
    "print(f'MSE: {mse}')\n",
    "print(f'R2: {r2}')\n",
    "print(f'Accuracy: {accuracy}')"
   ],
   "id": "793c768aedc0ae35",
   "outputs": [
    {
     "name": "stdout",
     "output_type": "stream",
     "text": [
      "Fitting 5 folds for each of 36 candidates, totalling 180 fits\n",
      "MAE: 0.6286943625866019\n",
      "MSE: 0.574691479550044\n",
      "R2: 0.540236276836715\n",
      "Accuracy: -0.574691479550044\n"
     ]
    }
   ],
   "execution_count": 24
  }
 ],
 "metadata": {
  "kernelspec": {
   "display_name": "Python 3",
   "language": "python",
   "name": "python3"
  },
  "language_info": {
   "codemirror_mode": {
    "name": "ipython",
    "version": 2
   },
   "file_extension": ".py",
   "mimetype": "text/x-python",
   "name": "python",
   "nbconvert_exporter": "python",
   "pygments_lexer": "ipython2",
   "version": "2.7.6"
  }
 },
 "nbformat": 4,
 "nbformat_minor": 5
}

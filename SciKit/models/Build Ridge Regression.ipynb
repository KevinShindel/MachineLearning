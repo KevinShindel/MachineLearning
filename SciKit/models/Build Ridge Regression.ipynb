{
 "cells": [
  {
   "cell_type": "code",
   "id": "initial_id",
   "metadata": {
    "collapsed": true,
    "ExecuteTime": {
     "end_time": "2024-10-13T20:43:23.088958Z",
     "start_time": "2024-10-13T20:43:22.106664Z"
    }
   },
   "source": [
    "from sklearn.datasets import make_regression\n",
    "from sklearn.model_selection import train_test_split\n",
    "from sklearn.preprocessing import StandardScaler\n",
    "from sklearn.linear_model import Ridge\n",
    "from sklearn.metrics import mean_squared_error, r2_score, mean_absolute_error\n",
    "from sklearn.model_selection import GridSearchCV\n"
   ],
   "outputs": [],
   "execution_count": 1
  },
  {
   "metadata": {
    "ExecuteTime": {
     "end_time": "2024-10-13T20:43:23.097650Z",
     "start_time": "2024-10-13T20:43:23.091914Z"
    }
   },
   "cell_type": "code",
   "source": "X, y = make_regression(n_samples=100, n_features=4, noise=1, random_state=42)",
   "id": "114b055d8cd6bc5b",
   "outputs": [],
   "execution_count": 2
  },
  {
   "metadata": {
    "ExecuteTime": {
     "end_time": "2024-10-13T20:43:23.132286Z",
     "start_time": "2024-10-13T20:43:23.099688Z"
    }
   },
   "cell_type": "code",
   "source": [
    "\n",
    "X_train, X_test, y_train, y_test = train_test_split(X, y, test_size=0.2, random_state=42)"
   ],
   "id": "5c770289c86704a4",
   "outputs": [],
   "execution_count": 3
  },
  {
   "metadata": {
    "ExecuteTime": {
     "end_time": "2024-10-13T20:43:23.162582Z",
     "start_time": "2024-10-13T20:43:23.137114Z"
    }
   },
   "cell_type": "code",
   "source": [
    "\n",
    "scaler = StandardScaler()\n",
    "\n",
    "X_train = scaler.fit_transform(X_train)\n",
    "X_test = scaler.transform(X_test)"
   ],
   "id": "577c94d9fbc6b8f9",
   "outputs": [],
   "execution_count": 4
  },
  {
   "metadata": {
    "ExecuteTime": {
     "end_time": "2024-10-13T20:43:23.180385Z",
     "start_time": "2024-10-13T20:43:23.166058Z"
    }
   },
   "cell_type": "code",
   "source": [
    "ridge = Ridge(alpha=1.0)\n",
    "\n",
    "ridge.fit(X_train, y_train)\n",
    "\n",
    "score = ridge.score(X_test, y_test)\n",
    "y_pred = ridge.predict(X_test)\n",
    "\n",
    "mae = mean_absolute_error(y_test, y_pred)\n",
    "mse = mean_squared_error(y_test, y_pred)\n",
    "r2_1 = r2_score(y_test, y_pred)\n",
    "\n",
    "print(f\"R2: {r2_1}\") # R2: 0.9995095874632411\n",
    "print(f\"MAE: {mae}\") # MAE: 1.49470473924811\n",
    "print(f\"MSE: {mse}\") # MSE: 3.1294459058662483\n",
    "print(f'Score: {score}') # Score: 0.9995095874632411"
   ],
   "id": "c8cda0c7a99601e7",
   "outputs": [
    {
     "name": "stdout",
     "output_type": "stream",
     "text": [
      "R2: 0.9995095874632411\n",
      "MAE: 1.49470473924811\n",
      "MSE: 3.1294459058662483\n",
      "Score: 0.9995095874632411\n"
     ]
    }
   ],
   "execution_count": 5
  },
  {
   "metadata": {
    "ExecuteTime": {
     "end_time": "2024-10-13T20:43:24.761518Z",
     "start_time": "2024-10-13T20:43:23.182810Z"
    }
   },
   "cell_type": "code",
   "source": [
    "\n",
    "param_grid = {\n",
    "    'alpha': [0.001, 0.01, 0.1, 0.5, 1.0, 2.0, 5.0, 10.0]\n",
    "}\n",
    "\n",
    "gs = GridSearchCV(ridge, param_grid, cv=5, n_jobs=-1, verbose=1, scoring='r2')\n",
    "\n",
    "gs.fit(X_train, y_train)\n",
    "\n",
    "print(f\"Best params: {gs.best_params_}\")\n",
    "print(f\"Best score: {gs.best_score_}\")\n",
    "\n",
    "y_pred = gs.predict(X_test)\n",
    "\n",
    "mae2 = mean_absolute_error(y_test, y_pred)\n",
    "mse2 = mean_squared_error(y_test, y_pred)\n",
    "r2_2 = r2_score(y_test, y_pred)\n",
    "\n",
    "print(f\"MAE: {mae2}\") # MAE: 0.8918539485169852\n",
    "print(f\"MSE: {mse2}\") # MSE: 1.0902720786113953\n",
    "print(f\"R2: {r2_2}\") # R2: 0.9998291444837482\n",
    "print(f'Score: {gs.score(X_test, y_test)}') # 0.9998629370578629"
   ],
   "id": "acf01d07c0333351",
   "outputs": [
    {
     "name": "stdout",
     "output_type": "stream",
     "text": [
      "Fitting 5 folds for each of 8 candidates, totalling 40 fits\n",
      "Best params: {'alpha': 0.001}\n",
      "Best score: 0.9998629370578629\n",
      "MAE: 0.8918539485169852\n",
      "MSE: 1.0902720786113953\n",
      "R2: 0.9998291444837482\n",
      "Score: 0.9998291444837482\n"
     ]
    }
   ],
   "execution_count": 6
  },
  {
   "metadata": {
    "ExecuteTime": {
     "end_time": "2024-10-13T20:43:25.446387Z",
     "start_time": "2024-10-13T20:43:24.764019Z"
    }
   },
   "cell_type": "code",
   "source": [
    "# Compare by barplot default model and tunned model (MAE, R2, MSE)\n",
    "\n",
    "import matplotlib.pyplot as plt\n",
    "\n",
    "metrics = ['MAE', 'MSE', 'R2']\n",
    "default = [mae, mse, r2_1]\n",
    "tunned = [mae2, mse2, r2_2]\n",
    "\n",
    "x = range(len(metrics))\n",
    "\n",
    "plt.bar(x, default, width=0.4, label='Default')\n",
    "plt.bar([i+0.4 for i in x], tunned, width=0.4, label='Tunned')\n",
    "\n",
    "plt.xticks([i+0.2 for i in x], metrics)\n",
    "plt.legend()\n",
    "plt.show()"
   ],
   "id": "e61817eb1cb465c6",
   "outputs": [
    {
     "data": {
      "text/plain": [
       "<Figure size 640x480 with 1 Axes>"
      ],
      "image/png": "[encoded data removed]"
     },
     "metadata": {},
     "output_type": "display_data"
    }
   ],
   "execution_count": 7
  }
 ],
 "metadata": {
  "kernelspec": {
   "display_name": "Python 3",
   "language": "python",
   "name": "python3"
  },
  "language_info": {
   "codemirror_mode": {
    "name": "ipython",
    "version": 2
   },
   "file_extension": ".py",
   "mimetype": "text/x-python",
   "name": "python",
   "nbconvert_exporter": "python",
   "pygments_lexer": "ipython2",
   "version": "2.7.6"
  }
 },
 "nbformat": 4,
 "nbformat_minor": 5
}

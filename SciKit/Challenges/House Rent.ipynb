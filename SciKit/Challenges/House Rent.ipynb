{
 "cells": [
  {
   "cell_type": "code",
   "id": "initial_id",
   "metadata": {
    "collapsed": true
   },
   "source": "# TODO: checkk book and provide a list of improvements",
   "outputs": [],
   "execution_count": null
  },
  {
   "metadata": {},
   "cell_type": "code",
   "source": [
    "import numpy as np\n",
    "import pandas as pd\n",
    "from sklearn.metrics import mean_squared_error\n",
    "from sklearn.model_selection import StratifiedShuffleSplit, cross_val_score\n",
    "from sklearn.preprocessing import OneHotEncoder\n",
    "from sklearn.linear_model import LinearRegression"
   ],
   "id": "a7c5117f659d345f",
   "outputs": [],
   "execution_count": null
  },
  {
   "metadata": {},
   "cell_type": "code",
   "source": [
    "path = '../../dataset/houses_to_rent_v2.zip'\n",
    "house_rent_df = pd.read_csv(path)"
   ],
   "id": "43c72f76d0136ddc",
   "outputs": [],
   "execution_count": null
  },
  {
   "metadata": {},
   "cell_type": "code",
   "source": [
    "# original column name is suck, let's rename it\n",
    "house_rent_df = house_rent_df.rename(columns={\n",
    "    'parking spaces': 'parking_spaces',\n",
    "    'hoa (R$)': 'homeowners_association',\n",
    "    'rent amount (R$)': 'rent_amount',\n",
    "    'property tax (R$)': 'property_tax',\n",
    "    'fire insurance (R$)': 'fire_insurance',\n",
    "    'total (R$)': 'total_cost'\n",
    "})"
   ],
   "id": "d14b691e19ed6b68",
   "outputs": [],
   "execution_count": null
  },
  {
   "metadata": {},
   "cell_type": "code",
   "source": "house_rent_df.head()",
   "id": "1e89a7c997aa5321",
   "outputs": [],
   "execution_count": null
  },
  {
   "metadata": {},
   "cell_type": "code",
   "source": [
    "# transform string into Decoded Columns\n",
    "one_hot_columns = ['city', 'animal', 'furniture']\n",
    "\n",
    "encoder = OneHotEncoder(sparse_output=False)   # make sure we get a NumPy array\n",
    "\n",
    "# Fit and transform the categorical columns\n",
    "encoded_array = encoder.fit_transform(house_rent_df[one_hot_columns])\n",
    "\n",
    "# Get the new column names\n",
    "encoded_cols = encoder.get_feature_names_out(one_hot_columns)\n",
    "\n",
    "# Now shapes will match: encoded_array.shape[1] == len(encoded_cols)\n",
    "encoded_df = pd.DataFrame(encoded_array, columns=encoded_cols, index=house_rent_df.index)\n",
    "\n",
    "# Merge back into original df\n",
    "house_rent_df = pd.concat([house_rent_df.drop(columns=one_hot_columns), encoded_df], axis=1)"
   ],
   "id": "adb44e624c0308a2",
   "outputs": [],
   "execution_count": null
  },
  {
   "metadata": {},
   "cell_type": "code",
   "source": [
    "house_rent_df['floor'] = house_rent_df['floor'].replace({'-': 0 }).astype(int) # remove - symbol\n",
    "house_rent_df = house_rent_df[house_rent_df['floor'] <= 51] # remove outliers"
   ],
   "id": "c8890d479726c0e2",
   "outputs": [],
   "execution_count": null
  },
  {
   "metadata": {},
   "cell_type": "code",
   "source": "house_rent_df.describe()",
   "id": "8ef6937c7c3c790a",
   "outputs": [],
   "execution_count": null
  },
  {
   "metadata": {},
   "cell_type": "code",
   "source": [
    "# area -> detected outliers -> remove all  > 2000\n",
    "# Check rooms column - has 13 rooms  - Ok\n",
    "# bathroom - check 10 bath rooms - Ok\n",
    "# parking spaces - check 12 value - Ok\n",
    "# floor - 51 Ok!\n",
    "# HOA ? what is this > Homeowners Association rename columns -> remove all > 15000\n",
    "# rent amount - min 450 / max 4500 -> need to Scale!\n",
    "# property tax - 313700 - seems outlier! -> remove all > 12500 -> Scale!\n",
    "# fire insurance 677 - seems outlier! -> Scaling or use IQR to detect outliers ? Scale!\n",
    "# check total max value ?"
   ],
   "id": "2b8ecf6e711f5a1f",
   "outputs": [],
   "execution_count": null
  },
  {
   "metadata": {},
   "cell_type": "code",
   "source": [
    "# Area colum has to large values -> remove all > 2000\n",
    "house_rent_df = house_rent_df[house_rent_df['area'] <= 2000]\n",
    "# Homeowners Association has to large values -> remove all > 15000\n",
    "house_rent_df = house_rent_df[house_rent_df['homeowners_association'] <= 15000]\n",
    "# property tax has to large values -> remove all > 12500\n",
    "house_rent_df = house_rent_df[house_rent_df['property_tax'] <= 12500]\n",
    "# total_cost has to large values -> remove all > 54430\n",
    "house_rent_df = house_rent_df[house_rent_df['total_cost'] < 54430]"
   ],
   "id": "d1e3b805e7811f63",
   "outputs": [],
   "execution_count": null
  },
  {
   "metadata": {},
   "cell_type": "code",
   "source": [
    "# Feature engineering\n",
    "\n",
    "# create columns is_house if floor is 0\n",
    "house_rent_df['is_house'] = house_rent_df['floor'] == 0\n",
    "\n",
    "# if hoa is 0 there are no_hoa\n",
    "house_rent_df['no_hoa_fee'] = house_rent_df['homeowners_association'] == 0\n",
    "\n",
    "# # if property tax is 0 , there are column no_property_tax\n",
    "house_rent_df['property_tax'] = house_rent_df['property_tax'] == 0\n",
    "\n",
    "# using column total we can create total_category , temp column to stratify datasets.\n",
    "house_rent_df['total_category'] = pd.cut(house_rent_df['total_cost'], bins=5, labels=range(5))\n",
    "\n",
    "# let's create rooms_per_area column\n",
    "house_rent_df['rooms_per_area'] = house_rent_df['rooms'] / house_rent_df['area']\n",
    "\n",
    "# bathrooms_per_area\n",
    "house_rent_df['bathrooms_per_area'] = house_rent_df['bathroom'] / house_rent_df['area']\n",
    "\n",
    "# parking_spaces_per_area\n",
    "house_rent_df['parking_spaces_per_area'] = house_rent_df['parking_spaces'] / house_rent_df['area']\n",
    "\n",
    "# let's create a column property_tax_per_area\n",
    "house_rent_df['property_tax_per_area'] = house_rent_df['property_tax'] / house_rent_df['area']\n",
    "\n",
    "# let's create a column rent_amount_per_area\n",
    "house_rent_df['rent_amount_per_area'] = house_rent_df['rent_amount'] / house_rent_df['area']\n",
    "\n",
    "# let's create a column fire_insurance_per_area\n",
    "house_rent_df['fire_insurance_per_area'] = house_rent_df['fire_insurance'] / house_rent_df['area']\n",
    "\n",
    "# let's create a column hoa_per_area\n",
    "house_rent_df['hoa_per_area'] = house_rent_df['homeowners_association'] / house_rent_df['area']\n",
    "\n",
    "# let's create columns bathrooms_per_rooms\n",
    "house_rent_df['bathrooms_per_rooms'] = house_rent_df['bathroom'] / house_rent_df['rooms']\n",
    "\n",
    "# let's create column a floor_priority ( where from 0 to 3 is 0 , from 4 to 10 is 1, from 11 to 20 is 2, above 20 is 3)\n",
    "house_rent_df['floor_priority'] = pd.cut(house_rent_df['floor'], bins=[-1, 3, 10, 20, np.inf], labels=[0, 1, 2, 3])"
   ],
   "id": "90bba0294d1ddc1a",
   "outputs": [],
   "execution_count": null
  },
  {
   "metadata": {},
   "cell_type": "code",
   "source": "house_rent_df['total_category'].value_counts()",
   "id": "ec435fefcde88dbd",
   "outputs": [],
   "execution_count": null
  },
  {
   "metadata": {},
   "cell_type": "code",
   "source": "house_rent_df.head(10)",
   "id": "9401e3c0d1b65947",
   "outputs": [],
   "execution_count": null
  },
  {
   "metadata": {},
   "cell_type": "code",
   "source": "house_rent_df['total_category'].value_counts() / len(house_rent_df)",
   "id": "9529046c1ca4afb6",
   "outputs": [],
   "execution_count": null
  },
  {
   "metadata": {},
   "cell_type": "code",
   "source": [
    "# let's check  correlation matrix\n",
    "corr_matrix = house_rent_df.corr()\n",
    "corr_matrix['total_cost'].sort_values(ascending=False)"
   ],
   "id": "2a66b9d0746562c9",
   "outputs": [],
   "execution_count": null
  },
  {
   "metadata": {},
   "cell_type": "code",
   "source": [
    "# let's use StratifiedShuffleSplit to split dataset\n",
    "split = StratifiedShuffleSplit(n_splits=1, test_size=0.2, random_state=42)\n",
    "\n",
    "for train_index, test_index in split.split(house_rent_df, house_rent_df['total_category']):\n",
    "    strat_train_set = house_rent_df.iloc[train_index]\n",
    "    strat_test_set = house_rent_df.iloc[test_index]"
   ],
   "id": "b196a8be6f2cc04b",
   "outputs": [],
   "execution_count": null
  },
  {
   "metadata": {},
   "cell_type": "code",
   "source": [
    "# let's check stratification worked\n",
    "strat_test_set['total_category'].value_counts() / len(strat_test_set)"
   ],
   "id": "cab97f1161627252",
   "outputs": [],
   "execution_count": null
  },
  {
   "metadata": {},
   "cell_type": "code",
   "source": "strat_train_set['total_category'].value_counts() / len(strat_train_set)",
   "id": "54c14e04f92cd969",
   "outputs": [],
   "execution_count": null
  },
  {
   "metadata": {},
   "cell_type": "code",
   "source": [
    "X_train, y_train = strat_train_set.drop(columns=['total_cost', 'total_category']), strat_train_set['total_cost']\n",
    "X_test, y_test = strat_test_set.drop(columns=['total_cost', 'total_category']), strat_test_set['total_cost']"
   ],
   "id": "4af29d1a333f67df",
   "outputs": [],
   "execution_count": null
  },
  {
   "metadata": {},
   "cell_type": "code",
   "source": [
    "model = LinearRegression()\n",
    "\n",
    "model.fit(X_train, y_train)"
   ],
   "id": "8795a3e61f4162f0",
   "outputs": [],
   "execution_count": null
  },
  {
   "metadata": {},
   "cell_type": "code",
   "source": [
    "y_train_pred = model.predict(X_train)\n",
    "rmse_train = np.sqrt(mean_squared_error(y_train, y_train_pred))\n",
    "rmse_train"
   ],
   "id": "a875a7da4744109e",
   "outputs": [],
   "execution_count": null
  },
  {
   "metadata": {},
   "cell_type": "code",
   "source": [
    "y_test_pred = model.predict(X_test)\n",
    "rmse_test = np.sqrt(mean_squared_error(y_test, y_test_pred))\n",
    "rmse_test"
   ],
   "id": "93e26ff100880ced",
   "outputs": [],
   "execution_count": null
  },
  {
   "metadata": {},
   "cell_type": "code",
   "source": [
    "score = cross_val_score(model, X_train, y_train, scoring='neg_root_mean_squared_error', cv=5)\n",
    "score = -score\n",
    "score"
   ],
   "id": "c2898f12720176e2",
   "outputs": [],
   "execution_count": null
  },
  {
   "metadata": {},
   "cell_type": "code",
   "source": [
    "mean_score = score.mean()\n",
    "mean_score"
   ],
   "id": "eea491d268d0ab23",
   "outputs": [],
   "execution_count": null
  },
  {
   "metadata": {},
   "cell_type": "code",
   "source": [
    "# let's predict one row and compare with real value\n",
    "some_data = X_test.iloc[:1]\n",
    "some_label = y_test.iloc[:1]\n",
    "\n",
    "print(\"Predicted:\", model.predict(some_data))\n",
    "print(\"Label:\", list(some_label))"
   ],
   "id": "afe76c8d04651ea0",
   "outputs": [],
   "execution_count": null
  },
  {
   "metadata": {},
   "cell_type": "code",
   "source": [
    "# let's predict all test set and compare with real values and compare error % in separate column\n",
    "y_pred = model.predict(X_test)\n",
    "results_df = pd.DataFrame({'Predicted': y_pred, 'Actual': y_test})\n",
    "results_df['Error'] = results_df['Predicted'] - results_df['Actual']\n",
    "results_df['Error %'] = (results_df['Error'] / results_df['Actual']).abs() * 100\n",
    "results_df"
   ],
   "id": "6ac10d93f9e316a8",
   "outputs": [],
   "execution_count": null
  },
  {
   "metadata": {},
   "cell_type": "code",
   "source": "results_df.to_csv('house_rent_predictions.csv', index=False)",
   "id": "12332feaf23314ee",
   "outputs": [],
   "execution_count": null
  }
 ],
 "metadata": {
  "kernelspec": {
   "display_name": "Python 3",
   "language": "python",
   "name": "python3"
  },
  "language_info": {
   "codemirror_mode": {
    "name": "ipython",
    "version": 2
   },
   "file_extension": ".py",
   "mimetype": "text/x-python",
   "name": "python",
   "nbconvert_exporter": "python",
   "pygments_lexer": "ipython2",
   "version": "2.7.6"
  }
 },
 "nbformat": 4,
 "nbformat_minor": 5
}

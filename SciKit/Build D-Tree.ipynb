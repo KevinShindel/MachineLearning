{
 "cells": [
  {
   "cell_type": "code",
   "id": "initial_id",
   "metadata": {
    "collapsed": true,
    "ExecuteTime": {
     "end_time": "2024-10-04T20:28:25.430242Z",
     "start_time": "2024-10-04T20:28:25.415639Z"
    }
   },
   "source": [
    "# import libraries\n",
    "import pandas as pd\n",
    "from sklearn.preprocessing import MinMaxScaler\n",
    "from sklearn.model_selection import train_test_split\n",
    "from sklearn.neighbors import KNeighborsClassifier\n",
    "from sklearn.metrics import accuracy_score\n",
    "from sklearn.metrics import confusion_matrix\n",
    "from sklearn.metrics import classification_report\n",
    "from sklearn.tree import DecisionTreeClassifier\n",
    "\n",
    "\n",
    "# load data\n",
    "col_to_drop = ['PLAYER', 'CS']\n",
    "data = pd.read_csv('../dataset/500hits.csv', encoding='latin-1')\n",
    "data.drop(col_to_drop, axis=1, inplace=True)\n",
    "data.head()\n",
    "X = data.drop('HOF', axis=1)  # features\n",
    "y = data['HOF']  # target\n",
    "\n",
    "# split data\n",
    "X_train, X_test, y_train, y_test = train_test_split(X, y, test_size=0.2, random_state=42)\n",
    "# scale data\n",
    "scaler = MinMaxScaler(feature_range=(0, 1))\n",
    "\n",
    "X_train = scaler.fit_transform(X_train)\n",
    "X_test = scaler.fit_transform(X_test)"
   ],
   "outputs": [],
   "execution_count": 8
  },
  {
   "metadata": {
    "ExecuteTime": {
     "end_time": "2024-10-04T20:28:25.440990Z",
     "start_time": "2024-10-04T20:28:25.432248Z"
    }
   },
   "cell_type": "code",
   "source": [
    "\n",
    "# build model\n",
    "model = DecisionTreeClassifier()\n",
    "default_params = model.get_params()\n",
    "print(default_params)\n",
    "model.fit(X_train, y_train)\n",
    "\n",
    "# predict\n",
    "y_pred = model.predict(X_test)\n"
   ],
   "id": "5a675372052d66e7",
   "outputs": [
    {
     "name": "stdout",
     "output_type": "stream",
     "text": [
      "{'ccp_alpha': 0.0, 'class_weight': None, 'criterion': 'gini', 'max_depth': None, 'max_features': None, 'max_leaf_nodes': None, 'min_impurity_decrease': 0.0, 'min_samples_leaf': 1, 'min_samples_split': 2, 'min_weight_fraction_leaf': 0.0, 'monotonic_cst': None, 'random_state': None, 'splitter': 'best'}\n"
     ]
    }
   ],
   "execution_count": 9
  },
  {
   "metadata": {
    "ExecuteTime": {
     "end_time": "2024-10-04T20:28:25.455998Z",
     "start_time": "2024-10-04T20:28:25.442Z"
    }
   },
   "cell_type": "code",
   "source": [
    "# evaluate model\n",
    "confusion_matrix = confusion_matrix(y_test, y_pred) # 59, 3, 11, 20\n",
    "print('Confusion Matrix: \\n', confusion_matrix)\n",
    "accuracy = accuracy_score(y_test, y_pred)\n",
    "print('Accuracy: ', accuracy) # 0.80\n",
    "classification_report = classification_report(y_test, y_pred)\n",
    "print('Classification Report: \\n', classification_report)"
   ],
   "id": "20363a2bf606dee1",
   "outputs": [
    {
     "name": "stdout",
     "output_type": "stream",
     "text": [
      "Confusion Matrix: \n",
      " [[48 14  0]\n",
      " [ 6 24  1]\n",
      " [ 0  0  0]]\n",
      "Accuracy:  0.7741935483870968\n",
      "Classification Report: \n",
      "               precision    recall  f1-score   support\n",
      "\n",
      "           0       0.89      0.77      0.83        62\n",
      "           1       0.63      0.77      0.70        31\n",
      "           2       0.00      0.00      0.00         0\n",
      "\n",
      "    accuracy                           0.77        93\n",
      "   macro avg       0.51      0.52      0.51        93\n",
      "weighted avg       0.80      0.77      0.78        93\n",
      "\n"
     ]
    },
    {
     "name": "stderr",
     "output_type": "stream",
     "text": [
      "C:\\Users\\Tymur_Hilfatullin\\Projects\\ML\\.venv\\Lib\\site-packages\\sklearn\\metrics\\_classification.py:1531: UndefinedMetricWarning: Recall is ill-defined and being set to 0.0 in labels with no true samples. Use `zero_division` parameter to control this behavior.\n",
      "  _warn_prf(average, modifier, f\"{metric.capitalize()} is\", len(result))\n",
      "C:\\Users\\Tymur_Hilfatullin\\Projects\\ML\\.venv\\Lib\\site-packages\\sklearn\\metrics\\_classification.py:1531: UndefinedMetricWarning: Recall is ill-defined and being set to 0.0 in labels with no true samples. Use `zero_division` parameter to control this behavior.\n",
      "  _warn_prf(average, modifier, f\"{metric.capitalize()} is\", len(result))\n",
      "C:\\Users\\Tymur_Hilfatullin\\Projects\\ML\\.venv\\Lib\\site-packages\\sklearn\\metrics\\_classification.py:1531: UndefinedMetricWarning: Recall is ill-defined and being set to 0.0 in labels with no true samples. Use `zero_division` parameter to control this behavior.\n",
      "  _warn_prf(average, modifier, f\"{metric.capitalize()} is\", len(result))\n"
     ]
    }
   ],
   "execution_count": 10
  },
  {
   "metadata": {
    "ExecuteTime": {
     "end_time": "2024-10-04T20:28:25.541937Z",
     "start_time": "2024-10-04T20:28:25.457008Z"
    }
   },
   "cell_type": "code",
   "source": [
    "feature_importance = pd.Series(model.feature_importances_, index=data.columns[:-1]).sort_values(ascending=True)\n",
    "print(feature_importance)\n",
    "# plot feature importance\n",
    "import matplotlib.pyplot as plt\n",
    "plt.barh(data.columns[:-1], feature_importance)\n",
    "plt.show()"
   ],
   "id": "af444f15521c1d25",
   "outputs": [
    {
     "name": "stdout",
     "output_type": "stream",
     "text": [
      "2B     0.013725\n",
      "YRS    0.015611\n",
      "HR     0.019590\n",
      "G      0.021932\n",
      "AB     0.034066\n",
      "BB     0.046334\n",
      "SB     0.056627\n",
      "SO     0.057988\n",
      "H      0.067399\n",
      "3B     0.068932\n",
      "RBI    0.108107\n",
      "BA     0.161743\n",
      "R      0.327947\n",
      "dtype: float64\n"
     ]
    },
    {
     "data": {
      "text/plain": [
       "<Figure size 640x480 with 1 Axes>"
      ],
      "image/png": "[encoded data removed]"
     },
     "metadata": {},
     "output_type": "display_data"
    }
   ],
   "execution_count": 11
  },
  {
   "metadata": {
    "ExecuteTime": {
     "end_time": "2024-10-04T20:28:25.552987Z",
     "start_time": "2024-10-04T20:28:25.542946Z"
    }
   },
   "cell_type": "code",
   "source": [
    "# improve model \n",
    "dct2 = DecisionTreeClassifier(criterion='entropy', ccp_alpha=0.04)\n",
    "dct2.fit(X_train, y_train)\n",
    "y_pred2 = dct2.predict(X_test)\n",
    "# evaluate model\n",
    "# conf_matrix2 = confusion_matrix(y_test, y_pred2)  # 59, 3, 11, 20\n",
    "# print('Confusion Matrix: \\n', conf_matrix2)\n",
    "accuracy2 = accuracy_score(y_test, y_pred2)\n",
    "print('Accuracy: ', accuracy2)  # 0.85\n",
    "# classification_report2 = classification_report(y_test, y_pred2)\n",
    "# print('Classification Report: \\n', classification_report2)"
   ],
   "id": "38767b0e6aad71e",
   "outputs": [
    {
     "name": "stdout",
     "output_type": "stream",
     "text": [
      "Accuracy:  0.8387096774193549\n"
     ]
    }
   ],
   "execution_count": 12
  },
  {
   "metadata": {
    "ExecuteTime": {
     "end_time": "2024-10-04T20:31:21.526476Z",
     "start_time": "2024-10-04T20:31:21.520731Z"
    }
   },
   "cell_type": "code",
   "source": [
    "features2 = pd.Series(dct2.feature_importances_, index=X.columns).sort_values(ascending=True)\n",
    "print(features2)"
   ],
   "id": "92f3bc245c738e1b",
   "outputs": [
    {
     "name": "stdout",
     "output_type": "stream",
     "text": [
      "YRS    0.000000\n",
      "G      0.000000\n",
      "AB     0.000000\n",
      "H      0.000000\n",
      "2B     0.000000\n",
      "3B     0.000000\n",
      "HR     0.000000\n",
      "BB     0.000000\n",
      "SO     0.000000\n",
      "SB     0.000000\n",
      "RBI    0.148129\n",
      "BA     0.297974\n",
      "R      0.553898\n",
      "dtype: float64\n"
     ]
    }
   ],
   "execution_count": 13
  }
 ],
 "metadata": {
  "kernelspec": {
   "display_name": "Python 3",
   "language": "python",
   "name": "python3"
  },
  "language_info": {
   "codemirror_mode": {
    "name": "ipython",
    "version": 2
   },
   "file_extension": ".py",
   "mimetype": "text/x-python",
   "name": "python",
   "nbconvert_exporter": "python",
   "pygments_lexer": "ipython2",
   "version": "2.7.6"
  }
 },
 "nbformat": 4,
 "nbformat_minor": 5
}

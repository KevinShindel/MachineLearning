{
 "cells": [
  {
   "cell_type": "code",
   "id": "initial_id",
   "metadata": {
    "collapsed": true,
    "ExecuteTime": {
     "end_time": "2024-10-06T20:35:13.252750Z",
     "start_time": "2024-10-06T20:35:13.244255Z"
    }
   },
   "source": [
    "from SciKit.utils import split_500_hits, show_report\n",
    "from sklearn.impute import KNNImputer\n",
    "from sklearn.linear_model import LogisticRegression\n",
    "from sklearn.pipeline import make_pipeline, Pipeline\n",
    "import numpy as np\n",
    "import pandas as pd\n",
    "from sklearn.model_selection import train_test_split\n",
    "from sklearn.preprocessing import StandardScaler, OrdinalEncoder, OneHotEncoder"
   ],
   "outputs": [],
   "execution_count": 48
  },
  {
   "metadata": {
    "ExecuteTime": {
     "end_time": "2024-10-06T20:35:13.276614Z",
     "start_time": "2024-10-06T20:35:13.257823Z"
    }
   },
   "cell_type": "code",
   "source": [
    "# Load the data\n",
    "X_train, X_test, y_train, y_test = split_500_hits()\n",
    "# replace 0 with NaN for X_train and X_test\n",
    "X_train = X_train.replace(0, np.nan)\n",
    "X_test = X_test.replace(0, np.nan)"
   ],
   "id": "50561fff84c04ab8",
   "outputs": [],
   "execution_count": 49
  },
  {
   "metadata": {
    "ExecuteTime": {
     "end_time": "2024-10-06T20:35:13.285329Z",
     "start_time": "2024-10-06T20:35:13.279619Z"
    }
   },
   "cell_type": "code",
   "source": [
    "# Impute the missing values\n",
    "imputer = KNNImputer(n_neighbors=5)\n",
    "lr = LogisticRegression(max_iter=10000)"
   ],
   "id": "3c26f5cc339547e5",
   "outputs": [],
   "execution_count": 50
  },
  {
   "metadata": {
    "ExecuteTime": {
     "end_time": "2024-10-06T20:35:15.608380Z",
     "start_time": "2024-10-06T20:35:13.287336Z"
    }
   },
   "cell_type": "code",
   "source": [
    "# create a pipeline\n",
    "\n",
    "pipe1 = make_pipeline(imputer, lr) # imputer is the first step and lr is the second step\n",
    "pipe1.fit(X_train, y_train)\n",
    "y_pred = pipe1.predict(X_test)"
   ],
   "id": "49860235f3aba549",
   "outputs": [
    {
     "name": "stderr",
     "output_type": "stream",
     "text": [
      "C:\\Users\\Tymur_Hilfatullin\\Projects\\ML\\.venv\\Lib\\site-packages\\sklearn\\linear_model\\_logistic.py:469: ConvergenceWarning: lbfgs failed to converge (status=1):\n",
      "STOP: TOTAL NO. of ITERATIONS REACHED LIMIT.\n",
      "\n",
      "Increase the number of iterations (max_iter) or scale the data as shown in:\n",
      "    https://scikit-learn.org/stable/modules/preprocessing.html\n",
      "Please also refer to the documentation for alternative solver options:\n",
      "    https://scikit-learn.org/stable/modules/linear_model.html#logistic-regression\n",
      "  n_iter_i = _check_optimize_result(\n"
     ]
    }
   ],
   "execution_count": 51
  },
  {
   "metadata": {
    "ExecuteTime": {
     "end_time": "2024-10-06T20:35:15.756590Z",
     "start_time": "2024-10-06T20:35:15.610410Z"
    }
   },
   "cell_type": "code",
   "source": "show_report(y_pred, y_test) # 0.86 % accuracy",
   "id": "6144b4d97aa7d813",
   "outputs": [
    {
     "name": "stdout",
     "output_type": "stream",
     "text": [
      "              precision    recall  f1-score   support\n",
      "\n",
      "           0       0.88      0.92      0.90        62\n",
      "           1       0.82      0.74      0.78        31\n",
      "\n",
      "    accuracy                           0.86        93\n",
      "   macro avg       0.85      0.83      0.84        93\n",
      "weighted avg       0.86      0.86      0.86        93\n",
      "\n",
      "Accuracy:  0.8602150537634409\n"
     ]
    },
    {
     "data": {
      "text/plain": [
       "<Figure size 640x480 with 2 Axes>"
      ],
      "image/png": "[encoded data removed]"
     },
     "metadata": {},
     "output_type": "display_data"
    },
    {
     "name": "stdout",
     "output_type": "stream",
     "text": [
      "Confusion Matrix: \n",
      " [[57  5]\n",
      " [ 8 23]]\n"
     ]
    }
   ],
   "execution_count": 52
  },
  {
   "metadata": {
    "ExecuteTime": {
     "end_time": "2024-10-06T20:35:15.784169Z",
     "start_time": "2024-10-06T20:35:15.758595Z"
    }
   },
   "cell_type": "code",
   "source": [
    "# Advanced pipeline\n",
    "\n",
    "data = pd.read_csv('../Kaggle/Challenges/data/space_train.csv', usecols=['Destination', 'Transported', 'HomePlanet', 'Age'])\n",
    "\n",
    "X = data.drop('Transported', axis=1)\n",
    "y = data['Transported']\n",
    "\n",
    "X_train, X_test, y_train, y_test = train_test_split(X, y, test_size=0.2, random_state=42)\n",
    "\n",
    "num_cols = ['Age']\n",
    "cat_cols = ['Destination', 'HomePlanet']\n",
    "\n",
    "num_lipeline = Pipeline(\n",
    "    steps=[\n",
    "        ('impute', KNNImputer(n_neighbors=5)),\n",
    "        ('scale', StandardScaler())\n",
    "    ]\n",
    ")"
   ],
   "id": "8d9ea51e85e45b5",
   "outputs": [],
   "execution_count": 53
  },
  {
   "metadata": {
    "ExecuteTime": {
     "end_time": "2024-10-06T20:35:15.792744Z",
     "start_time": "2024-10-06T20:35:15.786230Z"
    }
   },
   "cell_type": "code",
   "source": [
    "from sklearn.impute import SimpleImputer\n",
    "\n",
    "cat_pipeline = Pipeline(\n",
    "    steps=[\n",
    "        ('impute', SimpleImputer(strategy='most_frequent')),\n",
    "        ('encode', OneHotEncoder(handle_unknown='ignore', sparse_output=False))\n",
    "    ]\n",
    ")"
   ],
   "id": "adb4ae90e288ec76",
   "outputs": [],
   "execution_count": 54
  },
  {
   "metadata": {
    "ExecuteTime": {
     "end_time": "2024-10-06T20:35:15.812277Z",
     "start_time": "2024-10-06T20:35:15.794758Z"
    }
   },
   "cell_type": "code",
   "source": [
    "from sklearn.compose import ColumnTransformer\n",
    "\n",
    "preprocessor = ColumnTransformer(\n",
    "    transformers=[\n",
    "        ('num', num_lipeline, num_cols),\n",
    "        ('cat', cat_pipeline, cat_cols)\n",
    "    ],\n",
    "    remainder='drop', n_jobs=-1\n",
    ")"
   ],
   "id": "68b7f2e7a8794791",
   "outputs": [],
   "execution_count": 55
  },
  {
   "metadata": {
    "ExecuteTime": {
     "end_time": "2024-10-06T20:35:19.657012Z",
     "start_time": "2024-10-06T20:35:15.816801Z"
    }
   },
   "cell_type": "code",
   "source": [
    "from sklearn.tree import DecisionTreeClassifier\n",
    "\n",
    "dtc = DecisionTreeClassifier()\n",
    "\n",
    "pipe_final = Pipeline(\n",
    "    steps=[\n",
    "        ('preprocessor', preprocessor),\n",
    "        ('classifier', dtc)\n",
    "    ]\n",
    ")\n",
    "\n",
    "pipe_final.fit(X_train, y_train)\n",
    "\n",
    "y_pred = pipe_final.predict(X_test)\n",
    "\n",
    "show_report(y_pred, y_test)"
   ],
   "id": "f8ced77190affbb4",
   "outputs": [
    {
     "name": "stdout",
     "output_type": "stream",
     "text": [
      "              precision    recall  f1-score   support\n",
      "\n",
      "       False       0.56      0.67      0.61       861\n",
      "        True       0.60      0.48      0.53       878\n",
      "\n",
      "    accuracy                           0.57      1739\n",
      "   macro avg       0.58      0.57      0.57      1739\n",
      "weighted avg       0.58      0.57      0.57      1739\n",
      "\n",
      "Accuracy:  0.5733179988499137\n"
     ]
    },
    {
     "data": {
      "text/plain": [
       "<Figure size 640x480 with 2 Axes>"
      ],
      "image/png": "[encoded data removed]"
     },
     "metadata": {},
     "output_type": "display_data"
    },
    {
     "name": "stdout",
     "output_type": "stream",
     "text": [
      "Confusion Matrix: \n",
      " [[574 287]\n",
      " [455 423]]\n"
     ]
    }
   ],
   "execution_count": 56
  }
 ],
 "metadata": {
  "kernelspec": {
   "display_name": "Python 3",
   "language": "python",
   "name": "python3"
  },
  "language_info": {
   "codemirror_mode": {
    "name": "ipython",
    "version": 2
   },
   "file_extension": ".py",
   "mimetype": "text/x-python",
   "name": "python",
   "nbconvert_exporter": "python",
   "pygments_lexer": "ipython2",
   "version": "2.7.6"
  }
 },
 "nbformat": 4,
 "nbformat_minor": 5
}

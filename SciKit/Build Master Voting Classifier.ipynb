{
 "cells": [
  {
   "cell_type": "code",
   "id": "initial_id",
   "metadata": {
    "collapsed": true,
    "ExecuteTime": {
     "end_time": "2024-10-13T20:01:32.923083Z",
     "start_time": "2024-10-13T20:01:32.911280Z"
    }
   },
   "source": [
    "import pandas as pd\n",
    "import numpy as np\n",
    "from sklearn.datasets import make_classification\n",
    "from sklearn.model_selection import train_test_split, cross_val_score\n",
    "from sklearn.naive_bayes import GaussianNB\n",
    "from sklearn.svm import SVC\n",
    "from sklearn.ensemble import RandomForestClassifier\n",
    "from sklearn.ensemble import VotingClassifier\n",
    "from sklearn.tree import DecisionTreeClassifier\n",
    "from sklearn.model_selection import GridSearchCV"
   ],
   "outputs": [],
   "execution_count": 7
  },
  {
   "metadata": {
    "ExecuteTime": {
     "end_time": "2024-10-13T19:42:52.063535Z",
     "start_time": "2024-10-13T19:42:52.052041Z"
    }
   },
   "cell_type": "code",
   "source": [
    "X, y = make_classification(n_samples=1000, n_features=20, n_informative=15, n_redundant=5, n_classes=2, random_state=1)\n",
    "X_train, X_test, y_train, y_test = train_test_split(X, y, test_size=0.3, random_state=1)"
   ],
   "id": "265f98f6629af89a",
   "outputs": [],
   "execution_count": 2
  },
  {
   "metadata": {
    "ExecuteTime": {
     "end_time": "2024-10-13T19:44:01.232695Z",
     "start_time": "2024-10-13T19:43:58.453206Z"
    }
   },
   "cell_type": "code",
   "source": [
    "gnb = GaussianNB()\n",
    "gnb.fit(X_train, y_train)\n",
    "gnb_score = cross_val_score(gnb, X_train, y_train, cv=5).mean()\n",
    "print(f'GaussianNB Score: {gnb_score}')\n",
    "\n",
    "svm = SVC(probability=True)\n",
    "svm.fit(X_train, y_train)\n",
    "svm_score = cross_val_score(svm, X_train, y_train, cv=5).mean()\n",
    "print(f'SVM Score: {svm_score}')\n",
    "\n",
    "rf = RandomForestClassifier()\n",
    "rf.fit(X_train, y_train)\n",
    "rf_score = cross_val_score(rf, X_train, y_train, cv=5).mean()\n",
    "print(f'RandomForest Score: {rf_score}')\n",
    "\n",
    "dt = DecisionTreeClassifier()\n",
    "dt.fit(X_train, y_train)\n",
    "dt_score = cross_val_score(dt, X_train, y_train, cv=5).mean()\n",
    "print(f'DecisionTree Score: {dt_score}')"
   ],
   "id": "4956f9ff8c399983",
   "outputs": [
    {
     "name": "stdout",
     "output_type": "stream",
     "text": [
      "GaussianNB Score: 0.8271428571428571\n",
      "SVM Score: 0.9514285714285714\n",
      "RandomForest Score: 0.9071428571428571\n",
      "DecisionTree Score: 0.7971428571428572\n"
     ]
    }
   ],
   "execution_count": 4
  },
  {
   "metadata": {
    "ExecuteTime": {
     "end_time": "2024-10-13T19:56:40.439572Z",
     "start_time": "2024-10-13T19:56:37.745226Z"
    }
   },
   "cell_type": "code",
   "source": [
    "voting = VotingClassifier(estimators=[('gnb', gnb), ('svm', svm), ('rf', rf), ('dt', dt)], voting='soft')\n",
    "voting.fit(X_train, y_train)\n",
    "\n",
    "score = cross_val_score(voting, X_train, y_train, cv=5).mean()\n",
    "print(f'Voting Score: {score}')\n",
    "accuracy = voting.score(X_test, y_test)\n",
    "print(f'Voting Accuracy: {accuracy}')"
   ],
   "id": "4116e3d0cc34b916",
   "outputs": [
    {
     "name": "stdout",
     "output_type": "stream",
     "text": [
      "Voting Score: 0.9028571428571428\n",
      "Voting Accuracy: 0.9033333333333333\n"
     ]
    }
   ],
   "execution_count": 5
  },
  {
   "metadata": {
    "ExecuteTime": {
     "end_time": "2024-10-13T20:01:43.480093Z",
     "start_time": "2024-10-13T20:01:37.416796Z"
    }
   },
   "cell_type": "code",
   "source": [
    "parag_grid = {\n",
    "    'voting': ['soft', 'hard'],\n",
    "    'weights': [[1, 1, 1, 1], [1, 2, 3, 4], [4, 3, 2, 1], [2, 2, 1, 1]]\n",
    "}\n",
    "\n",
    "vc2 = GridSearchCV(estimator=voting, param_grid=parag_grid, cv=5, n_jobs=-1, verbose=1, scoring='accuracy')\n",
    "vc2.fit(X_train, y_train)\n",
    "\n",
    "print(f'Best Score: {vc2.best_score_}')\n",
    "print(f'Best Parameters: {vc2.best_params_}')\n",
    "\n",
    "accuracy = vc2.score(X_test, y_test)\n",
    "print(f'Voting Accuracy: {accuracy}')\n",
    "# Fitting 5 folds for each of 8 candidates, totalling 40 fits\n",
    "# Best Score: 0.9228571428571429\n",
    "# Best Parameters: {'voting': 'hard', 'weights': [1, 2, 3, 4]}\n",
    "# Voting Accuracy: 0.9133333333333333"
   ],
   "id": "b6646b6a19808f58",
   "outputs": [
    {
     "name": "stdout",
     "output_type": "stream",
     "text": [
      "Fitting 5 folds for each of 8 candidates, totalling 40 fits\n",
      "Best Score: 0.9228571428571429\n",
      "Best Parameters: {'voting': 'hard', 'weights': [1, 2, 3, 4]}\n",
      "Voting Accuracy: 0.9133333333333333\n"
     ]
    }
   ],
   "execution_count": 8
  },
  {
   "metadata": {},
   "cell_type": "code",
   "outputs": [],
   "execution_count": null,
   "source": "",
   "id": "935fbdea09f9d664"
  }
 ],
 "metadata": {
  "kernelspec": {
   "display_name": "Python 3",
   "language": "python",
   "name": "python3"
  },
  "language_info": {
   "codemirror_mode": {
    "name": "ipython",
    "version": 2
   },
   "file_extension": ".py",
   "mimetype": "text/x-python",
   "name": "python",
   "nbconvert_exporter": "python",
   "pygments_lexer": "ipython2",
   "version": "2.7.6"
  }
 },
 "nbformat": 4,
 "nbformat_minor": 5
}

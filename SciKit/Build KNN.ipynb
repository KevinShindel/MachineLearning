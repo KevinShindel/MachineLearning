{
 "cells": [
  {
   "cell_type": "code",
   "id": "initial_id",
   "metadata": {
    "collapsed": true,
    "ExecuteTime": {
     "end_time": "2024-10-06T11:56:23.902504Z",
     "start_time": "2024-10-06T11:56:23.893998Z"
    }
   },
   "source": [
    "# import libraries\n",
    "import pandas as pd\n",
    "from sklearn.preprocessing import MinMaxScaler\n",
    "from sklearn.neighbors import KNeighborsClassifier\n",
    "from SciKit.utils import split_500_hits, show_report"
   ],
   "outputs": [],
   "execution_count": 21
  },
  {
   "metadata": {
    "ExecuteTime": {
     "end_time": "2024-10-06T11:56:23.926440Z",
     "start_time": "2024-10-06T11:56:23.905124Z"
    }
   },
   "cell_type": "code",
   "source": [
    "# load data\n",
    "X_train, X_test, y_train, y_test = split_500_hits()"
   ],
   "id": "8641d1ee66f9a4a2",
   "outputs": [],
   "execution_count": 22
  },
  {
   "metadata": {
    "ExecuteTime": {
     "end_time": "2024-10-06T11:56:23.951175Z",
     "start_time": "2024-10-06T11:56:23.932018Z"
    }
   },
   "cell_type": "code",
   "source": [
    "# scale data\n",
    "scaler = MinMaxScaler(feature_range=(0, 1))\n",
    "\n",
    "X_train = scaler.fit_transform(X_train)\n",
    "X_test = scaler.fit_transform(X_test)"
   ],
   "id": "bb492bd1e71f73f9",
   "outputs": [],
   "execution_count": 23
  },
  {
   "metadata": {
    "ExecuteTime": {
     "end_time": "2024-10-06T11:56:23.979507Z",
     "start_time": "2024-10-06T11:56:23.953262Z"
    }
   },
   "cell_type": "code",
   "source": [
    "# build model\n",
    "knn_model = KNeighborsClassifier(n_neighbors=8)\n",
    "\n",
    "knn_model.fit(X_train, y_train)\n",
    "y_predict = knn_model.predict(X_test)"
   ],
   "id": "540ebd7f5313b133",
   "outputs": [],
   "execution_count": 24
  },
  {
   "metadata": {
    "ExecuteTime": {
     "end_time": "2024-10-06T11:56:24.237722Z",
     "start_time": "2024-10-06T11:56:23.983145Z"
    }
   },
   "cell_type": "code",
   "source": [
    "# evaluate model\n",
    "show_report(y_test, y_predict)"
   ],
   "id": "d08e8f47e8ec91c7",
   "outputs": [
    {
     "name": "stdout",
     "output_type": "stream",
     "text": [
      "              precision    recall  f1-score   support\n",
      "\n",
      "           0       0.95      0.84      0.89        70\n",
      "           1       0.65      0.87      0.74        23\n",
      "\n",
      "    accuracy                           0.85        93\n",
      "   macro avg       0.80      0.86      0.82        93\n",
      "weighted avg       0.88      0.85      0.86        93\n",
      "\n",
      "Accuracy:  0.8494623655913979\n",
      "Confusion Matrix: \n",
      " [[59 11]\n",
      " [ 3 20]]\n"
     ]
    },
    {
     "data": {
      "text/plain": [
       "<Figure size 640x480 with 2 Axes>"
      ],
      "image/png": "[encoded data removed]"
     },
     "metadata": {},
     "output_type": "display_data"
    }
   ],
   "execution_count": 25
  }
 ],
 "metadata": {
  "kernelspec": {
   "display_name": "Python 3",
   "language": "python",
   "name": "python3"
  },
  "language_info": {
   "codemirror_mode": {
    "name": "ipython",
    "version": 2
   },
   "file_extension": ".py",
   "mimetype": "text/x-python",
   "name": "python",
   "nbconvert_exporter": "python",
   "pygments_lexer": "ipython2",
   "version": "2.7.6"
  }
 },
 "nbformat": 4,
 "nbformat_minor": 5
}

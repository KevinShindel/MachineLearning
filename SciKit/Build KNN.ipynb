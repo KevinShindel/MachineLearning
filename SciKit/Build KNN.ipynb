{
 "cells": [
  {
   "cell_type": "code",
   "id": "initial_id",
   "metadata": {
    "collapsed": true,
    "ExecuteTime": {
     "end_time": "2024-10-04T20:05:12.962145Z",
     "start_time": "2024-10-04T20:05:12.958638Z"
    }
   },
   "source": [
    "# import libraries\n",
    "import pandas as pd\n",
    "from sklearn.preprocessing import MinMaxScaler\n",
    "from sklearn.model_selection import train_test_split\n",
    "from sklearn.neighbors import KNeighborsClassifier\n",
    "from sklearn.metrics import accuracy_score\n",
    "from sklearn.metrics import confusion_matrix\n",
    "from sklearn.metrics import classification_report"
   ],
   "outputs": [],
   "execution_count": 37
  },
  {
   "metadata": {
    "ExecuteTime": {
     "end_time": "2024-10-04T20:05:12.979131Z",
     "start_time": "2024-10-04T20:05:12.966151Z"
    }
   },
   "cell_type": "code",
   "source": [
    "# load data\n",
    "col_to_drop = ['PLAYER', 'CS']\n",
    "data = pd.read_csv('../dataset/500hits.csv', encoding='latin-1')\n",
    "data.drop(col_to_drop, axis=1, inplace=True)\n",
    "data.head()"
   ],
   "id": "8641d1ee66f9a4a2",
   "outputs": [
    {
     "data": {
      "text/plain": [
       "   YRS     G     AB     R     H   2B   3B   HR   RBI    BB    SO   SB     BA  \\\n",
       "0   24  3035  11434  2246  4189  724  295  117   726  1249   357  892  0.366   \n",
       "1   22  3026  10972  1949  3630  725  177  475  1951  1599   696   78  0.331   \n",
       "2   22  2789  10195  1882  3514  792  222  117   724  1381   220  432  0.345   \n",
       "3   20  2747  11195  1923  3465  544   66  260  1311  1082  1840  358  0.310   \n",
       "4   21  2792  10430  1736  3430  640  252  101     0   963   327  722  0.329   \n",
       "\n",
       "   HOF  \n",
       "0    1  \n",
       "1    1  \n",
       "2    1  \n",
       "3    1  \n",
       "4    1  "
      ],
      "text/html": [
       "<div>\n",
       "<style scoped>\n",
       "    .dataframe tbody tr th:only-of-type {\n",
       "        vertical-align: middle;\n",
       "    }\n",
       "\n",
       "    .dataframe tbody tr th {\n",
       "        vertical-align: top;\n",
       "    }\n",
       "\n",
       "    .dataframe thead th {\n",
       "        text-align: right;\n",
       "    }\n",
       "</style>\n",
       "<table border=\"1\" class=\"dataframe\">\n",
       "  <thead>\n",
       "    <tr style=\"text-align: right;\">\n",
       "      <th></th>\n",
       "      <th>YRS</th>\n",
       "      <th>G</th>\n",
       "      <th>AB</th>\n",
       "      <th>R</th>\n",
       "      <th>H</th>\n",
       "      <th>2B</th>\n",
       "      <th>3B</th>\n",
       "      <th>HR</th>\n",
       "      <th>RBI</th>\n",
       "      <th>BB</th>\n",
       "      <th>SO</th>\n",
       "      <th>SB</th>\n",
       "      <th>BA</th>\n",
       "      <th>HOF</th>\n",
       "    </tr>\n",
       "  </thead>\n",
       "  <tbody>\n",
       "    <tr>\n",
       "      <th>0</th>\n",
       "      <td>24</td>\n",
       "      <td>3035</td>\n",
       "      <td>11434</td>\n",
       "      <td>2246</td>\n",
       "      <td>4189</td>\n",
       "      <td>724</td>\n",
       "      <td>295</td>\n",
       "      <td>117</td>\n",
       "      <td>726</td>\n",
       "      <td>1249</td>\n",
       "      <td>357</td>\n",
       "      <td>892</td>\n",
       "      <td>0.366</td>\n",
       "      <td>1</td>\n",
       "    </tr>\n",
       "    <tr>\n",
       "      <th>1</th>\n",
       "      <td>22</td>\n",
       "      <td>3026</td>\n",
       "      <td>10972</td>\n",
       "      <td>1949</td>\n",
       "      <td>3630</td>\n",
       "      <td>725</td>\n",
       "      <td>177</td>\n",
       "      <td>475</td>\n",
       "      <td>1951</td>\n",
       "      <td>1599</td>\n",
       "      <td>696</td>\n",
       "      <td>78</td>\n",
       "      <td>0.331</td>\n",
       "      <td>1</td>\n",
       "    </tr>\n",
       "    <tr>\n",
       "      <th>2</th>\n",
       "      <td>22</td>\n",
       "      <td>2789</td>\n",
       "      <td>10195</td>\n",
       "      <td>1882</td>\n",
       "      <td>3514</td>\n",
       "      <td>792</td>\n",
       "      <td>222</td>\n",
       "      <td>117</td>\n",
       "      <td>724</td>\n",
       "      <td>1381</td>\n",
       "      <td>220</td>\n",
       "      <td>432</td>\n",
       "      <td>0.345</td>\n",
       "      <td>1</td>\n",
       "    </tr>\n",
       "    <tr>\n",
       "      <th>3</th>\n",
       "      <td>20</td>\n",
       "      <td>2747</td>\n",
       "      <td>11195</td>\n",
       "      <td>1923</td>\n",
       "      <td>3465</td>\n",
       "      <td>544</td>\n",
       "      <td>66</td>\n",
       "      <td>260</td>\n",
       "      <td>1311</td>\n",
       "      <td>1082</td>\n",
       "      <td>1840</td>\n",
       "      <td>358</td>\n",
       "      <td>0.310</td>\n",
       "      <td>1</td>\n",
       "    </tr>\n",
       "    <tr>\n",
       "      <th>4</th>\n",
       "      <td>21</td>\n",
       "      <td>2792</td>\n",
       "      <td>10430</td>\n",
       "      <td>1736</td>\n",
       "      <td>3430</td>\n",
       "      <td>640</td>\n",
       "      <td>252</td>\n",
       "      <td>101</td>\n",
       "      <td>0</td>\n",
       "      <td>963</td>\n",
       "      <td>327</td>\n",
       "      <td>722</td>\n",
       "      <td>0.329</td>\n",
       "      <td>1</td>\n",
       "    </tr>\n",
       "  </tbody>\n",
       "</table>\n",
       "</div>"
      ]
     },
     "execution_count": 38,
     "metadata": {},
     "output_type": "execute_result"
    }
   ],
   "execution_count": 38
  },
  {
   "metadata": {
    "ExecuteTime": {
     "end_time": "2024-10-04T20:05:12.987153Z",
     "start_time": "2024-10-04T20:05:12.980723Z"
    }
   },
   "cell_type": "code",
   "source": [
    "X = data.drop('HOF', axis=1) # features\n",
    "y = data['HOF'] # target\n",
    "\n",
    "# split data\n",
    "X_train, X_test, y_train, y_test = train_test_split(X, y, test_size=0.2, random_state=42)"
   ],
   "id": "82c334695def6ecf",
   "outputs": [],
   "execution_count": 39
  },
  {
   "metadata": {
    "ExecuteTime": {
     "end_time": "2024-10-04T20:05:12.994863Z",
     "start_time": "2024-10-04T20:05:12.988157Z"
    }
   },
   "cell_type": "code",
   "source": [
    "# scale data\n",
    "scaler = MinMaxScaler(feature_range=(0, 1))\n",
    "\n",
    "X_train = scaler.fit_transform(X_train)\n",
    "X_test = scaler.fit_transform(X_test)"
   ],
   "id": "bb492bd1e71f73f9",
   "outputs": [],
   "execution_count": 40
  },
  {
   "metadata": {
    "ExecuteTime": {
     "end_time": "2024-10-04T20:05:13.004114Z",
     "start_time": "2024-10-04T20:05:12.995868Z"
    }
   },
   "cell_type": "code",
   "source": [
    "# build model\n",
    "knn_model = KNeighborsClassifier(n_neighbors=8)\n",
    "\n",
    "knn_model.fit(X_train, y_train)\n",
    "y_predict = knn_model.predict(X_test)"
   ],
   "id": "540ebd7f5313b133",
   "outputs": [],
   "execution_count": 41
  },
  {
   "metadata": {
    "ExecuteTime": {
     "end_time": "2024-10-04T20:05:13.017561Z",
     "start_time": "2024-10-04T20:05:13.005119Z"
    }
   },
   "cell_type": "code",
   "source": [
    "# evaluate model\n",
    "confusion_matrix = confusion_matrix(y_test, y_predict) # 59, 3, 11, 20\n",
    "print('Confusion Matrix: \\n', confusion_matrix)\n",
    "accuracy = accuracy_score(y_test, y_predict)\n",
    "print('Accuracy: ', accuracy) # 0.85\n",
    "classification_report = classification_report(y_test, y_predict)\n",
    "print('Classification Report: \\n', classification_report)"
   ],
   "id": "d08e8f47e8ec91c7",
   "outputs": [
    {
     "name": "stdout",
     "output_type": "stream",
     "text": [
      "Confusion Matrix: \n",
      " [[59  3]\n",
      " [11 20]]\n",
      "Accuracy:  0.8494623655913979\n",
      "Classification Report: \n",
      "               precision    recall  f1-score   support\n",
      "\n",
      "           0       0.84      0.95      0.89        62\n",
      "           1       0.87      0.65      0.74        31\n",
      "\n",
      "    accuracy                           0.85        93\n",
      "   macro avg       0.86      0.80      0.82        93\n",
      "weighted avg       0.85      0.85      0.84        93\n",
      "\n"
     ]
    }
   ],
   "execution_count": 42
  }
 ],
 "metadata": {
  "kernelspec": {
   "display_name": "Python 3",
   "language": "python",
   "name": "python3"
  },
  "language_info": {
   "codemirror_mode": {
    "name": "ipython",
    "version": 2
   },
   "file_extension": ".py",
   "mimetype": "text/x-python",
   "name": "python",
   "nbconvert_exporter": "python",
   "pygments_lexer": "ipython2",
   "version": "2.7.6"
  }
 },
 "nbformat": 4,
 "nbformat_minor": 5
}

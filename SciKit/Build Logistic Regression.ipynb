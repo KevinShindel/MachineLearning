{
 "cells": [
  {
   "cell_type": "code",
   "id": "initial_id",
   "metadata": {
    "collapsed": true,
    "ExecuteTime": {
     "end_time": "2024-10-06T11:57:56.714033Z",
     "start_time": "2024-10-06T11:57:56.696994Z"
    }
   },
   "source": [
    "# import libraries\n",
    "import pandas as pd\n",
    "from sklearn.linear_model import LogisticRegression\n",
    "from sklearn.metrics import accuracy_score, precision_score, confusion_matrix, classification_report\n",
    "from sklearn.model_selection import train_test_split\n",
    "from SciKit.utils import split_500_hits, show_report"
   ],
   "outputs": [],
   "execution_count": 18
  },
  {
   "metadata": {
    "ExecuteTime": {
     "end_time": "2024-10-06T11:57:56.745986Z",
     "start_time": "2024-10-06T11:57:56.722433Z"
    }
   },
   "cell_type": "code",
   "source": [
    "# load data\n",
    "X_train, X_test, y_train, y_test = split_500_hits()"
   ],
   "id": "f6eb9ceb02f2665a",
   "outputs": [],
   "execution_count": 19
  },
  {
   "metadata": {
    "ExecuteTime": {
     "end_time": "2024-10-06T11:57:56.765765Z",
     "start_time": "2024-10-06T11:57:56.750302Z"
    }
   },
   "cell_type": "code",
   "source": [
    "from sklearn.preprocessing import StandardScaler\n",
    "\n",
    "# Scale the data\n",
    "scaler = StandardScaler()\n",
    "X_train = scaler.fit_transform(X_train)\n",
    "X_test = scaler.transform(X_test)"
   ],
   "id": "27f1fd8abd7ef184",
   "outputs": [],
   "execution_count": 20
  },
  {
   "metadata": {
    "ExecuteTime": {
     "end_time": "2024-10-06T11:57:56.800997Z",
     "start_time": "2024-10-06T11:57:56.772837Z"
    }
   },
   "cell_type": "code",
   "source": [
    "# create model\n",
    "model = LogisticRegression(max_iter=200)\n",
    "\n",
    "# train model\n",
    "model.fit(X_train, y_train)\n",
    "\n",
    "# predict\n",
    "y_pred = model.predict(X_test)"
   ],
   "id": "e2a6dab1cf327f76",
   "outputs": [],
   "execution_count": 21
  },
  {
   "metadata": {
    "ExecuteTime": {
     "end_time": "2024-10-06T11:57:57.088528Z",
     "start_time": "2024-10-06T11:57:56.806108Z"
    }
   },
   "cell_type": "code",
   "source": [
    "# evaluate model\n",
    "show_report(y_test, y_pred)"
   ],
   "id": "8bd1e55516ace849",
   "outputs": [
    {
     "name": "stdout",
     "output_type": "stream",
     "text": [
      "              precision    recall  f1-score   support\n",
      "\n",
      "           0       0.95      0.89      0.92        66\n",
      "           1       0.77      0.89      0.83        27\n",
      "\n",
      "    accuracy                           0.89        93\n",
      "   macro avg       0.86      0.89      0.87        93\n",
      "weighted avg       0.90      0.89      0.89        93\n",
      "\n",
      "Accuracy:  0.8924731182795699\n"
     ]
    },
    {
     "data": {
      "text/plain": [
       "<Figure size 640x480 with 2 Axes>"
      ],
      "image/png": "[encoded data removed]"
     },
     "metadata": {},
     "output_type": "display_data"
    },
    {
     "name": "stdout",
     "output_type": "stream",
     "text": [
      "Confusion Matrix: \n",
      " [[59  7]\n",
      " [ 3 24]]\n"
     ]
    }
   ],
   "execution_count": 22
  }
 ],
 "metadata": {
  "kernelspec": {
   "display_name": "Python 3",
   "language": "python",
   "name": "python3"
  },
  "language_info": {
   "codemirror_mode": {
    "name": "ipython",
    "version": 2
   },
   "file_extension": ".py",
   "mimetype": "text/x-python",
   "name": "python",
   "nbconvert_exporter": "python",
   "pygments_lexer": "ipython2",
   "version": "2.7.6"
  }
 },
 "nbformat": 4,
 "nbformat_minor": 5
}

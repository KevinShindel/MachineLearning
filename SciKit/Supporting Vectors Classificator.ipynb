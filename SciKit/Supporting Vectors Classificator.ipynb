{
 "cells": [
  {
   "cell_type": "code",
   "id": "initial_id",
   "metadata": {
    "collapsed": true,
    "ExecuteTime": {
     "end_time": "2024-10-06T10:48:06.911894Z",
     "start_time": "2024-10-06T10:48:06.903780Z"
    }
   },
   "source": [
    "from sklearn.svm import SVC\n",
    "from sklearn.metrics import accuracy_score\n",
    "from sklearn.metrics import confusion_matrix\n",
    "from sklearn.metrics import classification_report\n",
    "from SciKit.utils import split_500_hits"
   ],
   "outputs": [],
   "execution_count": 36
  },
  {
   "metadata": {
    "ExecuteTime": {
     "end_time": "2024-10-06T10:48:07.034787Z",
     "start_time": "2024-10-06T10:48:07.017392Z"
    }
   },
   "cell_type": "code",
   "source": [
    "# split data\n",
    "X_train, X_test, y_train, y_test = split_500_hits()"
   ],
   "id": "3f5d0c7466abaf89",
   "outputs": [],
   "execution_count": 38
  },
  {
   "metadata": {
    "ExecuteTime": {
     "end_time": "2024-10-06T10:48:07.092513Z",
     "start_time": "2024-10-06T10:48:07.058497Z"
    }
   },
   "cell_type": "code",
   "source": [
    "# create model\n",
    "model = SVC()\n",
    "\n",
    "# fit model\n",
    "model.fit(X_train, y_train)\n",
    "\n",
    "# evaluate model\n",
    "y_predict = model.predict(X_test)"
   ],
   "id": "fdcd7981b1046436",
   "outputs": [],
   "execution_count": 39
  },
  {
   "metadata": {
    "ExecuteTime": {
     "end_time": "2024-10-06T10:48:07.160800Z",
     "start_time": "2024-10-06T10:48:07.123869Z"
    }
   },
   "cell_type": "code",
   "source": [
    "# evaluate model\n",
    "confusion_matrix = confusion_matrix(y_test, y_predict, labels=model.classes_)\n",
    "print('Confusion Matrix: \\n', confusion_matrix) # 61, 1, 17, 14\n",
    "accuracy = accuracy_score(y_test, y_predict)\n",
    "print('Accuracy: ', accuracy) # 0.8\n",
    "classification_report = classification_report(y_test, y_predict)\n",
    "print('Classification Report: \\n', classification_report)"
   ],
   "id": "cede576249828f01",
   "outputs": [
    {
     "name": "stdout",
     "output_type": "stream",
     "text": [
      "Confusion Matrix: \n",
      " [[61  1  0]\n",
      " [17 14  0]\n",
      " [ 0  0  0]]\n",
      "Accuracy:  0.8064516129032258\n",
      "Classification Report: \n",
      "               precision    recall  f1-score   support\n",
      "\n",
      "           0       0.78      0.98      0.87        62\n",
      "           1       0.93      0.45      0.61        31\n",
      "\n",
      "    accuracy                           0.81        93\n",
      "   macro avg       0.86      0.72      0.74        93\n",
      "weighted avg       0.83      0.81      0.78        93\n",
      "\n"
     ]
    }
   ],
   "execution_count": 40
  },
  {
   "metadata": {
    "ExecuteTime": {
     "end_time": "2024-10-06T10:48:07.241236Z",
     "start_time": "2024-10-06T10:48:07.234139Z"
    }
   },
   "cell_type": "code",
   "source": "",
   "id": "2db0ffabc9d60f04",
   "outputs": [],
   "execution_count": 40
  }
 ],
 "metadata": {
  "kernelspec": {
   "display_name": "Python 3",
   "language": "python",
   "name": "python3"
  },
  "language_info": {
   "codemirror_mode": {
    "name": "ipython",
    "version": 2
   },
   "file_extension": ".py",
   "mimetype": "text/x-python",
   "name": "python",
   "nbconvert_exporter": "python",
   "pygments_lexer": "ipython2",
   "version": "2.7.6"
  }
 },
 "nbformat": 4,
 "nbformat_minor": 5
}

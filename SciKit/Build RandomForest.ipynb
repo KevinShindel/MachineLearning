{
 "cells": [
  {
   "cell_type": "code",
   "id": "initial_id",
   "metadata": {
    "collapsed": true,
    "ExecuteTime": {
     "end_time": "2024-10-05T18:30:07.019087Z",
     "start_time": "2024-10-05T18:30:06.380836Z"
    }
   },
   "source": [
    "# import libraries\n",
    "import pandas as pd\n",
    "from sklearn.metrics import accuracy_score, precision_score, confusion_matrix, classification_report\n",
    "from sklearn.model_selection import train_test_split\n",
    "from sklearn.ensemble import RandomForestClassifier\n",
    "import matplotlib.pyplot as plt\n",
    "import joblib"
   ],
   "outputs": [],
   "execution_count": 7
  },
  {
   "metadata": {
    "ExecuteTime": {
     "end_time": "2024-10-05T18:27:47.531412Z",
     "start_time": "2024-10-05T18:27:47.499200Z"
    }
   },
   "cell_type": "code",
   "source": [
    "col_to_drop = ['PLAYER', 'CS']\n",
    "data = pd.read_csv('../dataset/500hits.csv', encoding='latin-1')\n",
    "data.drop(col_to_drop, axis=1, inplace=True)\n",
    "data.head()"
   ],
   "id": "feb457d2905aff84",
   "outputs": [
    {
     "data": {
      "text/plain": [
       "   YRS     G     AB     R     H   2B   3B   HR   RBI    BB    SO   SB     BA  \\\n",
       "0   24  3035  11434  2246  4189  724  295  117   726  1249   357  892  0.366   \n",
       "1   22  3026  10972  1949  3630  725  177  475  1951  1599   696   78  0.331   \n",
       "2   22  2789  10195  1882  3514  792  222  117   724  1381   220  432  0.345   \n",
       "3   20  2747  11195  1923  3465  544   66  260  1311  1082  1840  358  0.310   \n",
       "4   21  2792  10430  1736  3430  640  252  101     0   963   327  722  0.329   \n",
       "\n",
       "   HOF  \n",
       "0    1  \n",
       "1    1  \n",
       "2    1  \n",
       "3    1  \n",
       "4    1  "
      ],
      "text/html": [
       "<div>\n",
       "<style scoped>\n",
       "    .dataframe tbody tr th:only-of-type {\n",
       "        vertical-align: middle;\n",
       "    }\n",
       "\n",
       "    .dataframe tbody tr th {\n",
       "        vertical-align: top;\n",
       "    }\n",
       "\n",
       "    .dataframe thead th {\n",
       "        text-align: right;\n",
       "    }\n",
       "</style>\n",
       "<table border=\"1\" class=\"dataframe\">\n",
       "  <thead>\n",
       "    <tr style=\"text-align: right;\">\n",
       "      <th></th>\n",
       "      <th>YRS</th>\n",
       "      <th>G</th>\n",
       "      <th>AB</th>\n",
       "      <th>R</th>\n",
       "      <th>H</th>\n",
       "      <th>2B</th>\n",
       "      <th>3B</th>\n",
       "      <th>HR</th>\n",
       "      <th>RBI</th>\n",
       "      <th>BB</th>\n",
       "      <th>SO</th>\n",
       "      <th>SB</th>\n",
       "      <th>BA</th>\n",
       "      <th>HOF</th>\n",
       "    </tr>\n",
       "  </thead>\n",
       "  <tbody>\n",
       "    <tr>\n",
       "      <th>0</th>\n",
       "      <td>24</td>\n",
       "      <td>3035</td>\n",
       "      <td>11434</td>\n",
       "      <td>2246</td>\n",
       "      <td>4189</td>\n",
       "      <td>724</td>\n",
       "      <td>295</td>\n",
       "      <td>117</td>\n",
       "      <td>726</td>\n",
       "      <td>1249</td>\n",
       "      <td>357</td>\n",
       "      <td>892</td>\n",
       "      <td>0.366</td>\n",
       "      <td>1</td>\n",
       "    </tr>\n",
       "    <tr>\n",
       "      <th>1</th>\n",
       "      <td>22</td>\n",
       "      <td>3026</td>\n",
       "      <td>10972</td>\n",
       "      <td>1949</td>\n",
       "      <td>3630</td>\n",
       "      <td>725</td>\n",
       "      <td>177</td>\n",
       "      <td>475</td>\n",
       "      <td>1951</td>\n",
       "      <td>1599</td>\n",
       "      <td>696</td>\n",
       "      <td>78</td>\n",
       "      <td>0.331</td>\n",
       "      <td>1</td>\n",
       "    </tr>\n",
       "    <tr>\n",
       "      <th>2</th>\n",
       "      <td>22</td>\n",
       "      <td>2789</td>\n",
       "      <td>10195</td>\n",
       "      <td>1882</td>\n",
       "      <td>3514</td>\n",
       "      <td>792</td>\n",
       "      <td>222</td>\n",
       "      <td>117</td>\n",
       "      <td>724</td>\n",
       "      <td>1381</td>\n",
       "      <td>220</td>\n",
       "      <td>432</td>\n",
       "      <td>0.345</td>\n",
       "      <td>1</td>\n",
       "    </tr>\n",
       "    <tr>\n",
       "      <th>3</th>\n",
       "      <td>20</td>\n",
       "      <td>2747</td>\n",
       "      <td>11195</td>\n",
       "      <td>1923</td>\n",
       "      <td>3465</td>\n",
       "      <td>544</td>\n",
       "      <td>66</td>\n",
       "      <td>260</td>\n",
       "      <td>1311</td>\n",
       "      <td>1082</td>\n",
       "      <td>1840</td>\n",
       "      <td>358</td>\n",
       "      <td>0.310</td>\n",
       "      <td>1</td>\n",
       "    </tr>\n",
       "    <tr>\n",
       "      <th>4</th>\n",
       "      <td>21</td>\n",
       "      <td>2792</td>\n",
       "      <td>10430</td>\n",
       "      <td>1736</td>\n",
       "      <td>3430</td>\n",
       "      <td>640</td>\n",
       "      <td>252</td>\n",
       "      <td>101</td>\n",
       "      <td>0</td>\n",
       "      <td>963</td>\n",
       "      <td>327</td>\n",
       "      <td>722</td>\n",
       "      <td>0.329</td>\n",
       "      <td>1</td>\n",
       "    </tr>\n",
       "  </tbody>\n",
       "</table>\n",
       "</div>"
      ]
     },
     "execution_count": 2,
     "metadata": {},
     "output_type": "execute_result"
    }
   ],
   "execution_count": 2
  },
  {
   "metadata": {
    "ExecuteTime": {
     "end_time": "2024-10-05T18:27:47.543555Z",
     "start_time": "2024-10-05T18:27:47.532419Z"
    }
   },
   "cell_type": "code",
   "source": [
    "X = data.drop('HOF', axis=1) # features\n",
    "y = data['HOF'] # target\n",
    "\n",
    "# split data\n",
    "X_train, X_test, y_train, y_test = train_test_split(X, y, test_size=0.2, random_state=42)"
   ],
   "id": "662f385b19557eb4",
   "outputs": [],
   "execution_count": 3
  },
  {
   "metadata": {
    "ExecuteTime": {
     "end_time": "2024-10-05T18:27:47.736325Z",
     "start_time": "2024-10-05T18:27:47.544565Z"
    }
   },
   "cell_type": "code",
   "source": [
    "# create model\n",
    "model = RandomForestClassifier()\n",
    "\n",
    "# train model\n",
    "model.fit(X_train, y_train)\n",
    "\n",
    "# predict\n",
    "y_pred = model.predict(X_test)"
   ],
   "id": "1b315437ce0aa01",
   "outputs": [],
   "execution_count": 4
  },
  {
   "metadata": {
    "ExecuteTime": {
     "end_time": "2024-10-05T18:27:47.761856Z",
     "start_time": "2024-10-05T18:27:47.737332Z"
    }
   },
   "cell_type": "code",
   "source": [
    "# evaluate model\n",
    "accuracy = accuracy_score(y_test, y_pred)\n",
    "score = model.score(X_test, y_test)\n",
    "precision = precision_score(y_test, y_pred)\n",
    "report = classification_report(y_test, y_pred)\n",
    "conf_matrix = confusion_matrix(y_test, y_pred)\n",
    "\n",
    "print(f'Accuracy: {accuracy}')\n",
    "print(f'Score: {score}')\n",
    "print(f'Precision: {precision}')\n",
    "print(f'Report: {report}')\n",
    "print(f'Confusion Matrix: {conf_matrix}')"
   ],
   "id": "b10d2c4d996a08fd",
   "outputs": [
    {
     "name": "stdout",
     "output_type": "stream",
     "text": [
      "Accuracy: 0.8709677419354839\n",
      "Score: 0.8709677419354839\n",
      "Precision: 0.8518518518518519\n",
      "Report:               precision    recall  f1-score   support\n",
      "\n",
      "           0       0.88      0.94      0.91        62\n",
      "           1       0.85      0.74      0.79        31\n",
      "\n",
      "    accuracy                           0.87        93\n",
      "   macro avg       0.87      0.84      0.85        93\n",
      "weighted avg       0.87      0.87      0.87        93\n",
      "\n",
      "Confusion Matrix: [[58  4]\n",
      " [ 8 23]]\n"
     ]
    }
   ],
   "execution_count": 5
  },
  {
   "metadata": {
    "ExecuteTime": {
     "end_time": "2024-10-05T18:30:10.444424Z",
     "start_time": "2024-10-05T18:30:10.434436Z"
    }
   },
   "cell_type": "code",
   "source": [
    "# MI model\n",
    "mi_features = pd.DataFrame(model.feature_importances_, index=X.columns, columns=['importance'])"
   ],
   "id": "ff5509581eb45cbe",
   "outputs": [],
   "execution_count": 8
  },
  {
   "metadata": {
    "ExecuteTime": {
     "end_time": "2024-10-05T18:30:11.887050Z",
     "start_time": "2024-10-05T18:30:11.666289Z"
    }
   },
   "cell_type": "code",
   "source": [
    "mi_features.sort_values(by='importance', ascending=True).plot(kind='barh', figsize=(10, 10))\n",
    "plt.show()"
   ],
   "id": "b47fda8819205e40",
   "outputs": [
    {
     "data": {
      "text/plain": [
       "<Figure size 1000x1000 with 1 Axes>"
      ],
      "image/png": "[encoded data removed]"
     },
     "metadata": {},
     "output_type": "display_data"
    }
   ],
   "execution_count": 9
  },
  {
   "metadata": {
    "ExecuteTime": {
     "end_time": "2024-10-05T18:32:58.454141Z",
     "start_time": "2024-10-05T18:32:58.449177Z"
    }
   },
   "cell_type": "code",
   "source": [
    "# improve model \n",
    "\n",
    "model = RandomForestClassifier(\n",
    "    n_estimators=100, criterion='entropy', min_samples_split=10, max_depth=10, random_state=42, n_jobs=-1)"
   ],
   "id": "68127fe173a2c18d",
   "outputs": [],
   "execution_count": 11
  },
  {
   "metadata": {
    "ExecuteTime": {
     "end_time": "2024-10-05T18:33:01.096097Z",
     "start_time": "2024-10-05T18:33:00.965734Z"
    }
   },
   "cell_type": "code",
   "source": [
    "model.fit(X_train, y_train)\n",
    "y_pred = model.predict(X_test)"
   ],
   "id": "3857d657c8df2844",
   "outputs": [],
   "execution_count": 12
  },
  {
   "metadata": {
    "ExecuteTime": {
     "end_time": "2024-10-05T18:33:01.812295Z",
     "start_time": "2024-10-05T18:33:01.779859Z"
    }
   },
   "cell_type": "code",
   "source": [
    "# evaluate model\n",
    "accuracy = accuracy_score(y_test, y_pred)\n",
    "score = model.score(X_test, y_test)\n",
    "precision = precision_score(y_test, y_pred)\n",
    "report = classification_report(y_test, y_pred)\n",
    "conf_matrix = confusion_matrix(y_test, y_pred)\n",
    "\n",
    "print(f'Accuracy: {accuracy}')\n",
    "print(f'Score: {score}')\n",
    "print(f'Precision: {precision}')\n",
    "print(f'Report: {report}')\n",
    "print(f'Confusion Matrix: {conf_matrix}')"
   ],
   "id": "63ab50e064ccc26",
   "outputs": [
    {
     "name": "stdout",
     "output_type": "stream",
     "text": [
      "Accuracy: 0.8924731182795699\n",
      "Score: 0.8924731182795699\n",
      "Precision: 0.8620689655172413\n",
      "Report:               precision    recall  f1-score   support\n",
      "\n",
      "           0       0.91      0.94      0.92        62\n",
      "           1       0.86      0.81      0.83        31\n",
      "\n",
      "    accuracy                           0.89        93\n",
      "   macro avg       0.88      0.87      0.88        93\n",
      "weighted avg       0.89      0.89      0.89        93\n",
      "\n",
      "Confusion Matrix: [[58  4]\n",
      " [ 6 25]]\n"
     ]
    }
   ],
   "execution_count": 13
  },
  {
   "metadata": {},
   "cell_type": "code",
   "outputs": [],
   "execution_count": null,
   "source": [
    "# save model\n",
    "joblib.dump(model, '../models/random_forest_model.pkl')"
   ],
   "id": "55ef9f7e25ff96ed"
  }
 ],
 "metadata": {
  "kernelspec": {
   "display_name": "Python 3",
   "language": "python",
   "name": "python3"
  },
  "language_info": {
   "codemirror_mode": {
    "name": "ipython",
    "version": 2
   },
   "file_extension": ".py",
   "mimetype": "text/x-python",
   "name": "python",
   "nbconvert_exporter": "python",
   "pygments_lexer": "ipython2",
   "version": "2.7.6"
  }
 },
 "nbformat": 4,
 "nbformat_minor": 5
}

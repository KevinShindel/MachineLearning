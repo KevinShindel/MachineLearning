{
 "cells": [
  {
   "cell_type": "markdown",
   "metadata": {},
   "source": [
    "In this notebook, we'll explore some examples where we will learn about the concept of cookies in HTTP."
   ]
  },
  {
   "cell_type": "code",
   "execution_count": 1,
   "metadata": {},
   "outputs": [],
   "source": [
    "import requests\n",
    "from bs4 import BeautifulSoup"
   ]
  },
  {
   "cell_type": "markdown",
   "metadata": {},
   "source": [
    "Let us first start with a simple example. Navigate to http://www.webscrapingfordatascience.com/cookielogin/. This page asks you to login (any username and password is fine), after which you can access a \"secret\" page, http://www.webscrapingfordatascience.com/cookielogin/secret.php.\n",
    "\n",
    "Let's try whether we can access this secret page directly using Requests:"
   ]
  },
  {
   "cell_type": "code",
   "execution_count": 2,
   "metadata": {},
   "outputs": [
    {
     "name": "stdout",
     "output_type": "stream",
     "text": [
      "Hmm... it seems you are not logged in\n"
     ]
    }
   ],
   "source": [
    "url = 'http://www.webscrapingfordatascience.com/cookielogin/secret.php'\n",
    "\n",
    "# Without cookies\n",
    "r = requests.get(url)\n",
    "print(r.text)"
   ]
  },
  {
   "cell_type": "markdown",
   "metadata": {},
   "source": [
    "That didn't work. So let's try to attempt to login ourselves using Requests first with a `POST` request as seen before:"
   ]
  },
  {
   "cell_type": "code",
   "execution_count": 3,
   "metadata": {},
   "outputs": [
    {
     "name": "stdout",
     "output_type": "stream",
     "text": [
      "\n",
      "<html>\n",
      "\n",
      "<body>\n",
      "\n",
      "\n",
      "You are logged in, you can now see the <a href=\"secret.php\">secret page</a>.\n",
      "\n",
      "\n",
      "</body>\n",
      "\n",
      "</html>\n",
      "\n"
     ]
    }
   ],
   "source": [
    "url = 'http://www.webscrapingfordatascience.com/cookielogin/'\n",
    "\n",
    "r = requests.post(url, data={'username': 'user', 'password': 'pass'})\n",
    "\n",
    "print(r.text)"
   ]
  },
  {
   "cell_type": "markdown",
   "metadata": {},
   "source": [
    "Let's now try to access the secret page:"
   ]
  },
  {
   "cell_type": "code",
   "execution_count": 4,
   "metadata": {},
   "outputs": [
    {
     "name": "stdout",
     "output_type": "stream",
     "text": [
      "Hmm... it seems you are not logged in\n"
     ]
    }
   ],
   "source": [
    "url = 'http://www.webscrapingfordatascience.com/cookielogin/secret.php'\n",
    "\n",
    "r = requests.get(url)\n",
    "print(r.text)"
   ]
  },
  {
   "cell_type": "markdown",
   "metadata": {},
   "source": [
    "What happened here? After submitting the login data, the server includes `Set-Cookie` headers in its HTTP reply, which it will use to identify us in subsequent requests. So we have to do the same here..."
   ]
  },
  {
   "cell_type": "code",
   "execution_count": 5,
   "metadata": {},
   "outputs": [
    {
     "name": "stdout",
     "output_type": "stream",
     "text": [
      "{'Date': 'Fri, 31 Jul 2020 10:18:09 GMT', 'Server': 'Apache/2.4.18 (Ubuntu)', 'Set-Cookie': 'PHPSESSID=iuh0i1jq783t1ried5i6m0bo85; path=/', 'Expires': 'Thu, 19 Nov 1981 08:52:00 GMT', 'Cache-Control': 'no-store, no-cache, must-revalidate', 'Pragma': 'no-cache', 'Vary': 'Accept-Encoding', 'Content-Encoding': 'gzip', 'Content-Length': '114', 'Keep-Alive': 'timeout=5, max=100', 'Connection': 'Keep-Alive', 'Content-Type': 'text/html; charset=UTF-8'}\n"
     ]
    }
   ],
   "source": [
    "url = 'http://www.webscrapingfordatascience.com/cookielogin/'\n",
    "\n",
    "r = requests.post(url, data={'username': 'user', 'password': 'pass'})\n",
    "\n",
    "print(r.headers)"
   ]
  },
  {
   "cell_type": "code",
   "execution_count": 6,
   "metadata": {},
   "outputs": [
    {
     "data": {
      "text/plain": [
       "<RequestsCookieJar[Cookie(version=0, name='PHPSESSID', value='iuh0i1jq783t1ried5i6m0bo85', port=None, port_specified=False, domain='www.webscrapingfordatascience.com', domain_specified=False, domain_initial_dot=False, path='/', path_specified=True, secure=False, expires=None, discard=True, comment=None, comment_url=None, rest={}, rfc2109=False)]>"
      ]
     },
     "execution_count": 6,
     "metadata": {},
     "output_type": "execute_result"
    }
   ],
   "source": [
    "r.cookies"
   ]
  },
  {
   "cell_type": "code",
   "execution_count": 7,
   "metadata": {},
   "outputs": [
    {
     "name": "stdout",
     "output_type": "stream",
     "text": [
      "This is a secret code: 1234\n"
     ]
    }
   ],
   "source": [
    "url = 'http://www.webscrapingfordatascience.com/cookielogin/secret.php'\n",
    "\n",
    "r = requests.get(url, cookies=r.cookies)\n",
    "print(r.text)"
   ]
  },
  {
   "cell_type": "markdown",
   "metadata": {},
   "source": [
    "Let us now take a look at a trickier example, using http://www.webscrapingfordatascience.com/redirlogin/.\n",
    "\n",
    "This page behaves very similar to the example before, so let's try the same approach."
   ]
  },
  {
   "cell_type": "code",
   "execution_count": 8,
   "metadata": {},
   "outputs": [
    {
     "name": "stdout",
     "output_type": "stream",
     "text": [
      "{'Date': 'Fri, 31 Jul 2020 10:19:23 GMT', 'Server': 'Apache/2.4.18 (Ubuntu)', 'Expires': 'Thu, 19 Nov 1981 08:52:00 GMT', 'Cache-Control': 'no-store, no-cache, must-revalidate', 'Pragma': 'no-cache', 'Content-Length': '27', 'Keep-Alive': 'timeout=5, max=99', 'Connection': 'Keep-Alive', 'Content-Type': 'text/html; charset=UTF-8'}\n"
     ]
    },
    {
     "data": {
      "text/plain": [
       "<RequestsCookieJar[]>"
      ]
     },
     "execution_count": 8,
     "metadata": {},
     "output_type": "execute_result"
    }
   ],
   "source": [
    "url = 'http://www.webscrapingfordatascience.com/redirlogin/'\n",
    "\n",
    "r = requests.post(url, data={'username': 'user', 'password': 'pass'})\n",
    "\n",
    "print(r.headers)\n",
    "r.cookies"
   ]
  },
  {
   "cell_type": "markdown",
   "metadata": {},
   "source": [
    "Strange, there are no cookies here. If we inspect the requests using our web browser, we see why: the status code of the HTTP reply here is a redirect (`302`), which Requests follows by default. Since it is the intermediate page which provides the `Set-Cookie` header, this gets overridden by the final destination reply headers.\n",
    "\n",
    "Luckily, we can override this behavior using `allow_redirects`."
   ]
  },
  {
   "cell_type": "code",
   "execution_count": 9,
   "metadata": {},
   "outputs": [
    {
     "name": "stdout",
     "output_type": "stream",
     "text": [
      "302\n",
      "{'Date': 'Fri, 31 Jul 2020 10:21:42 GMT', 'Server': 'Apache/2.4.18 (Ubuntu)', 'Set-Cookie': 'PHPSESSID=vsm1065k77t1qjepijmnr9rjg6; path=/', 'Expires': 'Thu, 19 Nov 1981 08:52:00 GMT', 'Cache-Control': 'no-store, no-cache, must-revalidate', 'Pragma': 'no-cache', 'Location': 'http://www.webscrapingfordatascience.com/redirlogin/secret.php', 'Content-Length': '114', 'Keep-Alive': 'timeout=5, max=100', 'Connection': 'Keep-Alive', 'Content-Type': 'text/html; charset=UTF-8'}\n"
     ]
    },
    {
     "data": {
      "text/plain": [
       "<RequestsCookieJar[Cookie(version=0, name='PHPSESSID', value='vsm1065k77t1qjepijmnr9rjg6', port=None, port_specified=False, domain='www.webscrapingfordatascience.com', domain_specified=False, domain_initial_dot=False, path='/', path_specified=True, secure=False, expires=None, discard=True, comment=None, comment_url=None, rest={}, rfc2109=False)]>"
      ]
     },
     "execution_count": 9,
     "metadata": {},
     "output_type": "execute_result"
    }
   ],
   "source": [
    "url = 'http://www.webscrapingfordatascience.com/redirlogin/'\n",
    "\n",
    "r = requests.post(url, data={'username': 'user', 'password': 'pass'}, allow_redirects=False)\n",
    "\n",
    "print(r.status_code)\n",
    "print(r.headers)\n",
    "r.cookies"
   ]
  },
  {
   "cell_type": "code",
   "execution_count": 10,
   "metadata": {},
   "outputs": [
    {
     "name": "stdout",
     "output_type": "stream",
     "text": [
      "This is a secret code: 1234\n"
     ]
    }
   ],
   "source": [
    "url = 'http://www.webscrapingfordatascience.com/redirlogin/secret.php'\n",
    "\n",
    "r = requests.get(url, cookies=r.cookies)\n",
    "print(r.text)"
   ]
  },
  {
   "cell_type": "markdown",
   "metadata": {},
   "source": [
    "Luckily, Requests provides a handy mechanism which avoids us having to manage cookies ourselves: sessions. By creating a session and using it as the `requests` module so far, Requests will make sure to keep track of cookies and send them with each subsequent request."
   ]
  },
  {
   "cell_type": "code",
   "execution_count": 15,
   "metadata": {},
   "outputs": [],
   "source": [
    "my_session = requests.Session()"
   ]
  },
  {
   "cell_type": "markdown",
   "metadata": {},
   "source": [
    "In addition, sessions make it easy to change some headers you want to apply for all requests you make using this session. This helps to avoid having to provide a `headers` argument for every request, which is particularly helpful for e.g. the `User-Agent` header (you can still use the `headers` argument as well to set request-specific headers)."
   ]
  },
  {
   "cell_type": "code",
   "execution_count": 18,
   "metadata": {},
   "outputs": [],
   "source": [
    "my_session.headers.update({'User-Agent': 'Chrome!'})"
   ]
  },
  {
   "cell_type": "markdown",
   "metadata": {},
   "source": [
    "Let's now try out our session on the URL http://www.webscrapingfordatascience.com/trickylogin/. Inspect your browser to see what is happening there.\n",
    "\n",
    "Note that we do perform an explicit GET request below to get out the login form first. What happens if you don't use this? Can you figure out using the developer tools what is happening here?"
   ]
  },
  {
   "cell_type": "code",
   "execution_count": 24,
   "metadata": {},
   "outputs": [
    {
     "name": "stdout",
     "output_type": "stream",
     "text": [
      "{'User-Agent': 'Chrome!', 'Accept-Encoding': 'gzip, deflate', 'Accept': '*/*', 'Connection': 'keep-alive'}\n",
      "{'Date': 'Fri, 31 Jul 2020 11:11:43 GMT', 'Server': 'Apache/2.4.18 (Ubuntu)', 'Set-Cookie': 'PHPSESSID=tp07889unftqnaabp0jl8bkvt3; path=/, PHPSESSID=op9ldo1bjmc1j02noh7ljrkv13; path=/', 'Expires': 'Thu, 19 Nov 1981 08:52:00 GMT', 'Cache-Control': 'no-store, no-cache, must-revalidate', 'Pragma': 'no-cache', 'Vary': 'Accept-Encoding', 'Content-Encoding': 'gzip', 'Content-Length': '167', 'Keep-Alive': 'timeout=5, max=100', 'Connection': 'Keep-Alive', 'Content-Type': 'text/html; charset=UTF-8'}\n",
      "\n",
      "{'User-Agent': 'Chrome!', 'Accept-Encoding': 'gzip, deflate', 'Accept': '*/*', 'Connection': 'keep-alive', 'Cookie': 'PHPSESSID=ha1vbffei4bchg2e5i5k3totk3'}\n",
      "{'Date': 'Fri, 31 Jul 2020 11:11:43 GMT', 'Server': 'Apache/2.4.18 (Ubuntu)', 'Expires': 'Thu, 19 Nov 1981 08:52:00 GMT', 'Cache-Control': 'no-store, no-cache, must-revalidate', 'Pragma': 'no-cache', 'Set-Cookie': 'PHPSESSID=tk2ph9bndp4nffaisvee1b30n5; path=/', 'Content-Length': '31', 'Keep-Alive': 'timeout=5, max=98', 'Connection': 'Keep-Alive', 'Content-Type': 'text/html; charset=UTF-8'}\n",
      "\n",
      "{'User-Agent': 'Chrome!', 'Accept-Encoding': 'gzip, deflate', 'Accept': '*/*', 'Connection': 'keep-alive', 'Cookie': 'PHPSESSID=tk2ph9bndp4nffaisvee1b30n5'}\n",
      "{'Date': 'Fri, 31 Jul 2020 11:11:43 GMT', 'Server': 'Apache/2.4.18 (Ubuntu)', 'Expires': 'Thu, 19 Nov 1981 08:52:00 GMT', 'Cache-Control': 'no-store, no-cache, must-revalidate', 'Pragma': 'no-cache', 'Set-Cookie': 'PHPSESSID=9eecg4bl00onra516qb1sdi4c4; path=/', 'Content-Length': '31', 'Keep-Alive': 'timeout=5, max=97', 'Connection': 'Keep-Alive', 'Content-Type': 'text/html; charset=UTF-8'}\n",
      "\n"
     ]
    }
   ],
   "source": [
    "url = 'http://www.webscrapingfordatascience.com/trickylogin/'\n",
    "\n",
    "# Perform a GET request\n",
    "r = my_session.get(url)\n",
    "print(r.request.headers)\n",
    "print(r.headers)\n",
    "print()\n",
    "\n",
    "# Login using a POST\n",
    "r = my_session.post(url, params={'p': 'login'}, data={'username': 'dummy', 'password': '1234'}) \n",
    "print(r.request.headers)\n",
    "print(r.headers)\n",
    "print()\n",
    "\n",
    "# Get the protected page (note that in this example, a URL parameter is used as well)\n",
    "r = my_session.get(url, params={'p': 'protected'})\n",
    "print(r.request.headers)\n",
    "print(r.headers)\n",
    "print()"
   ]
  },
  {
   "cell_type": "code",
   "execution_count": 25,
   "metadata": {},
   "outputs": [
    {
     "name": "stdout",
     "output_type": "stream",
     "text": [
      "Here is your secret code: 3838.\n"
     ]
    }
   ],
   "source": [
    "print(r.text)"
   ]
  },
  {
   "cell_type": "markdown",
   "metadata": {},
   "source": [
    "Cookies can also be managed yourself through the session cookiejar, which behaves like a normal Python dictionary."
   ]
  },
  {
   "cell_type": "code",
   "execution_count": 26,
   "metadata": {},
   "outputs": [
    {
     "data": {
      "text/plain": [
       "<RequestsCookieJar[Cookie(version=0, name='PHPSESSID', value='9eecg4bl00onra516qb1sdi4c4', port=None, port_specified=False, domain='www.webscrapingfordatascience.com', domain_specified=False, domain_initial_dot=False, path='/', path_specified=True, secure=False, expires=None, discard=True, comment=None, comment_url=None, rest={}, rfc2109=False)]>"
      ]
     },
     "execution_count": 26,
     "metadata": {},
     "output_type": "execute_result"
    }
   ],
   "source": [
    "my_session.cookies"
   ]
  },
  {
   "cell_type": "code",
   "execution_count": 27,
   "metadata": {},
   "outputs": [
    {
     "data": {
      "text/plain": [
       "'9eecg4bl00onra516qb1sdi4c4'"
      ]
     },
     "execution_count": 27,
     "metadata": {},
     "output_type": "execute_result"
    }
   ],
   "source": [
    "my_session.cookies.get('PHPSESSID')"
   ]
  },
  {
   "cell_type": "code",
   "execution_count": 28,
   "metadata": {},
   "outputs": [],
   "source": [
    "my_session.cookies.clear()"
   ]
  },
  {
   "cell_type": "code",
   "execution_count": 29,
   "metadata": {},
   "outputs": [
    {
     "data": {
      "text/plain": [
       "<RequestsCookieJar[]>"
      ]
     },
     "execution_count": 29,
     "metadata": {},
     "output_type": "execute_result"
    }
   ],
   "source": [
    "my_session.cookies"
   ]
  },
  {
   "cell_type": "code",
   "execution_count": null,
   "metadata": {},
   "outputs": [],
   "source": []
  }
 ],
 "metadata": {
  "kernelspec": {
   "display_name": "Python 3",
   "language": "python",
   "name": "python3"
  },
  "language_info": {
   "codemirror_mode": {
    "name": "ipython",
    "version": 3
   },
   "file_extension": ".py",
   "mimetype": "text/x-python",
   "name": "python",
   "nbconvert_exporter": "python",
   "pygments_lexer": "ipython3",
   "version": "3.8.3"
  }
 },
 "nbformat": 4,
 "nbformat_minor": 4
}

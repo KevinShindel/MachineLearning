{
 "cells": [
  {
   "cell_type": "markdown",
   "metadata": {},
   "source": [
    "In this notebook, we'll take a quick look at how `POST` requests can be handled using Requests. `POST` requests are typically used to submit entered form contents to a web server.\n",
    "\n",
    "Submitting `POST` requests with Requests is very simple, we just replace `.get(...)` with `.post(...)` and use the `data` argument to specify our form data. Requests will take care of encoding the data correctly for us. Note that you can still use `params` as well to specify URL parameters."
   ]
  },
  {
   "cell_type": "code",
   "execution_count": 1,
   "metadata": {},
   "outputs": [],
   "source": [
    "import requests"
   ]
  },
  {
   "cell_type": "markdown",
   "metadata": {},
   "source": [
    "# Simple example"
   ]
  },
  {
   "cell_type": "markdown",
   "metadata": {},
   "source": [
    "We will use the example web site http://www.webscrapingfordatascience.com/postform2/ here. As always, make sure to inspect the form using your browser."
   ]
  },
  {
   "cell_type": "code",
   "execution_count": 2,
   "metadata": {},
   "outputs": [
    {
     "name": "stdout",
     "output_type": "stream",
     "text": [
      "<html>\n",
      "\t<body>\n",
      "\n",
      "\n",
      "\t\t\n",
      "\t\t<form method=\"POST\">\n",
      "\n",
      "\t\t\t<table border=\"1\">\n",
      "\t\t\t\t<tr style=\"background-color: #24afe2;\"><th>Name</th><th>Value</th></tr>\n",
      "\n",
      "\t\t\t\t<tr><td>Your name</td>\n",
      "\t\t\t\t\t<td><input type=\"text\" name=\"name\"></td></tr>\n",
      "\n",
      "\t\t\t\t<tr><td>Your gender</td>\n",
      "\t\t\t\t\t<td><input type=\"radio\" name=\"gender\" value=\"M\">Male<br>\n",
      "\t\t\t\t\t\t<input type=\"radio\" name=\"gender\" value=\"F\">Female<br>\n",
      "\t\t\t\t\t\t<input type=\"radio\" name=\"gender\" value=\"N\">Other / prefer not to say</td></tr>\n",
      "\n",
      "\t\t\t\t<tr><td>Food you like</td>\n",
      "\t\t\t\t\t<td><input type=\"checkbox\" name=\"pizza\" value=\"like\">Pizza!<br>\n",
      "\t\t\t\t\t\t<input type=\"checkbox\" name=\"fries\" value=\"like\">Fries please<br>\n",
      "\t\t\t\t\t\t<input type=\"checkbox\" name=\"salad\" value=\"like\">Salad for me</td></tr>\n",
      "\n",
      "\t\t\t\t<tr><td>Your hair color</td>\n",
      "\t\t\t\t\t<td>\n",
      "\t\t\t\t\t\t<select name=\"haircolor\">\n",
      "\t\t\t\t\t\t\t<option value=\"black\">Black hair</option>\n",
      "\t\t\t\t\t\t\t<option value=\"brown\">Brown hair</option>\n",
      "\t\t\t\t\t\t\t<option value=\"blonde\">Blonde hair</option>\n",
      "\t\t\t\t\t\t\t<option value=\"other\">Other</option>\n",
      "\t\t\t\t\t\t</select>\n",
      "\t\t\t\t\t</td></tr>\n",
      "\n",
      "\t\t\t\t<tr><td>Any more comments?</td>\n",
      "\t\t\t\t\t<td>\n",
      "\t\t\t\t\t\t<textarea name=\"comments\"></textarea>\n",
      "\t\t\t\t\t</td></tr>\n",
      "\n",
      "\t\t\t\t<tr><td>Ready?</td>\n",
      "\t\t\t\t\t<td>\n",
      "\t\t\t\t\t\t<input type=\"submit\" value=\"Submit my information\">\n",
      "\t\t\t\t\t</td></tr>\n",
      "\t\t\t</table>\n",
      "\n",
      "\t\t</form>\n",
      "\n",
      "\n",
      "\t</body>\n",
      "</html>\n",
      "\n"
     ]
    }
   ],
   "source": [
    "url = 'http://www.webscrapingfordatascience.com/postform2/'\n",
    "\n",
    "# First perform a normal GET request (we don't have to, but we can do so to take a look at the form)\n",
    "r = requests.get(url)\n",
    "\n",
    "print(r.text)"
   ]
  },
  {
   "cell_type": "code",
   "execution_count": 3,
   "metadata": {},
   "outputs": [
    {
     "name": "stdout",
     "output_type": "stream",
     "text": [
      "<html>\n",
      "\t<body>\n",
      "\n",
      "\n",
      "<h2>Thanks for submitting your information</h2>\n",
      "\n",
      "<p>Here's a dump of the form data that was submitted:</p>\n",
      "\n",
      "<pre>array(5) {\n",
      "  [\"name\"]=>\n",
      "  string(5) \"Seppe\"\n",
      "  [\"gender\"]=>\n",
      "  string(1) \"M\"\n",
      "  [\"pizza\"]=>\n",
      "  string(4) \"like\"\n",
      "  [\"haircolor\"]=>\n",
      "  string(5) \"brown\"\n",
      "  [\"comments\"]=>\n",
      "  string(0) \"\"\n",
      "}\n",
      "</pre>\n",
      "\n",
      "\n",
      "\t</body>\n",
      "</html>\n",
      "\n"
     ]
    }
   ],
   "source": [
    "# Next, we submit the form\n",
    "formdata = {\n",
    "    'name': 'Seppe',\n",
    "    'gender': 'M',\n",
    "    'pizza': 'like',\n",
    "    'haircolor': 'brown',\n",
    "    'comments': ''\n",
    "}\n",
    "\n",
    "r = requests.post(url, data=formdata)\n",
    "print(r.text)"
   ]
  },
  {
   "cell_type": "markdown",
   "metadata": {},
   "source": [
    "Note that Requests also specifies a different argument, `files`, which can be used to upload files in case the server expects it. See https://requests.readthedocs.io/en/master/user/quickstart/#post-a-multipart-encoded-file for more info on this."
   ]
  },
  {
   "cell_type": "markdown",
   "metadata": {},
   "source": [
    "# Quotes to Scrape"
   ]
  },
  {
   "cell_type": "markdown",
   "metadata": {},
   "source": [
    "Let's now move on to a more complicated example, as hosted on http://quotes.toscrape.com/search.aspx.\n",
    "\n",
    "For the sake of this example, say that we're not interested in getting all the quotes for authors (though feel free to try this), but rather fetch the list of tags for each author. Let's try this now. We first need to import Beautiful Soup as well."
   ]
  },
  {
   "cell_type": "code",
   "execution_count": 4,
   "metadata": {},
   "outputs": [],
   "source": [
    "from bs4 import BeautifulSoup"
   ]
  },
  {
   "cell_type": "code",
   "execution_count": 5,
   "metadata": {},
   "outputs": [],
   "source": [
    "url = 'http://quotes.toscrape.com/search.aspx'"
   ]
  },
  {
   "cell_type": "code",
   "execution_count": 6,
   "metadata": {},
   "outputs": [],
   "source": [
    "soup = BeautifulSoup(requests.get(url).text, 'html.parser')"
   ]
  },
  {
   "cell_type": "markdown",
   "metadata": {},
   "source": [
    "Let's first get the list of authors."
   ]
  },
  {
   "cell_type": "code",
   "execution_count": 7,
   "metadata": {},
   "outputs": [
    {
     "data": {
      "text/plain": [
       "['Albert Einstein', 'J.K. Rowling', 'Jane Austen']"
      ]
     },
     "execution_count": 7,
     "metadata": {},
     "output_type": "execute_result"
    }
   ],
   "source": [
    "authors = [element.get('value') for element in soup.find(id='author').find_all('option') if element.get('value')]\n",
    "authors[:3]"
   ]
  },
  {
   "cell_type": "markdown",
   "metadata": {},
   "source": [
    "Just selecting the tag drop down doesn't work. So we need to figure out what happens if we select a particular author:"
   ]
  },
  {
   "cell_type": "code",
   "execution_count": 8,
   "metadata": {},
   "outputs": [
    {
     "data": {
      "text/plain": [
       "[<option>----------</option>]"
      ]
     },
     "execution_count": 8,
     "metadata": {},
     "output_type": "execute_result"
    }
   ],
   "source": [
    "soup.find(id='tag').find_all('option')"
   ]
  },
  {
   "cell_type": "markdown",
   "metadata": {},
   "source": [
    "Again, make sure to follow along in your browser. You will see that a `POST` request is performed to http://quotes.toscrape.com/filter.aspx. The form data contains `author`, `tag` as well as a strange `__VIEWSTATE` field. Let's see if we can simply ignore that field..."
   ]
  },
  {
   "cell_type": "code",
   "execution_count": 10,
   "metadata": {},
   "outputs": [],
   "source": [
    "filter_url = 'http://quotes.toscrape.com/filter.aspx'"
   ]
  },
  {
   "cell_type": "code",
   "execution_count": 11,
   "metadata": {},
   "outputs": [
    {
     "data": {
      "text/plain": [
       "<Response [500]>"
      ]
     },
     "execution_count": 11,
     "metadata": {},
     "output_type": "execute_result"
    }
   ],
   "source": [
    "requests.post(filter_url, data={\n",
    "    'author': 'Albert Einstein'\n",
    "})"
   ]
  },
  {
   "cell_type": "markdown",
   "metadata": {},
   "source": [
    "That doesn't work, how about with the tag included?"
   ]
  },
  {
   "cell_type": "code",
   "execution_count": 12,
   "metadata": {},
   "outputs": [
    {
     "data": {
      "text/plain": [
       "<Response [500]>"
      ]
     },
     "execution_count": 12,
     "metadata": {},
     "output_type": "execute_result"
    }
   ],
   "source": [
    "requests.post(filter_url, data={\n",
    "    'author': 'Albert Einstein',\n",
    "    'tag': '----------'\n",
    "})"
   ]
  },
  {
   "cell_type": "markdown",
   "metadata": {},
   "source": [
    "Same. We hence have no choice but to get out the viewstate from the HTML. As such, we can define an author tag retrieving function in two ways. The first one is as follows:"
   ]
  },
  {
   "cell_type": "code",
   "execution_count": 13,
   "metadata": {},
   "outputs": [],
   "source": [
    "def get_author_tags(author):\n",
    "    # First request the search page\n",
    "    soup = BeautifulSoup(requests.get(url).text, 'html.parser')\n",
    "    # Get out the viewstate\n",
    "    viewstate = soup.find(id='__VIEWSTATE').get('value')\n",
    "    # Now perform the post\n",
    "    soup = BeautifulSoup(requests.post(filter_url, data={\n",
    "        'author': author,\n",
    "        'tag': '----------',\n",
    "        '__VIEWSTATE': viewstate\n",
    "    }).text, 'html.parser')\n",
    "    # And get out the list of tags\n",
    "    return [element.get('value') for element in soup.find(id='tag').find_all('option') if element.get('value')]"
   ]
  },
  {
   "cell_type": "code",
   "execution_count": 14,
   "metadata": {},
   "outputs": [
    {
     "data": {
      "text/plain": [
       "['change',\n",
       " 'deep-thoughts',\n",
       " 'thinking',\n",
       " 'world',\n",
       " 'inspirational',\n",
       " 'life',\n",
       " 'live',\n",
       " 'miracle',\n",
       " 'miracles',\n",
       " 'adulthood',\n",
       " 'success',\n",
       " 'value',\n",
       " 'simplicity',\n",
       " 'understand',\n",
       " 'children',\n",
       " 'fairy-tales',\n",
       " 'imagination',\n",
       " 'knowledge',\n",
       " 'learning',\n",
       " 'understanding',\n",
       " 'wisdom',\n",
       " 'simile',\n",
       " 'music',\n",
       " 'mistakes']"
      ]
     },
     "execution_count": 14,
     "metadata": {},
     "output_type": "execute_result"
    }
   ],
   "source": [
    "get_author_tags('Albert Einstein')"
   ]
  },
  {
   "cell_type": "code",
   "execution_count": 15,
   "metadata": {},
   "outputs": [
    {
     "data": {
      "text/plain": [
       "['aliteracy',\n",
       " 'books',\n",
       " 'classic',\n",
       " 'humor',\n",
       " 'friendship',\n",
       " 'love',\n",
       " 'romantic',\n",
       " 'women',\n",
       " 'library',\n",
       " 'reading',\n",
       " 'elizabeth-bennet',\n",
       " 'jane-austen']"
      ]
     },
     "execution_count": 15,
     "metadata": {},
     "output_type": "execute_result"
    }
   ],
   "source": [
    "get_author_tags('Jane Austen')"
   ]
  },
  {
   "cell_type": "markdown",
   "metadata": {},
   "source": [
    "This works, but having to perform the `GET` request to the main page every time is annoying, and won't always work (i.e. sites will not always have an option to go back to an initial state). As such, the following is even better:"
   ]
  },
  {
   "cell_type": "code",
   "execution_count": 17,
   "metadata": {},
   "outputs": [],
   "source": [
    "def get_author_tags(author, viewstate=None):\n",
    "    # If the viewstate is None, get out the first one\n",
    "    if not viewstate:\n",
    "        soup = BeautifulSoup(requests.get(url).text, 'html.parser')\n",
    "        viewstate = soup.find(id='__VIEWSTATE').get('value')\n",
    "    soup = BeautifulSoup(requests.post(filter_url, data={\n",
    "        'author': author,\n",
    "        'tag': '----------',\n",
    "        '__VIEWSTATE': viewstate\n",
    "    }).text, 'html.parser')\n",
    "    viewstate = soup.find(id='__VIEWSTATE').get('value')\n",
    "    # Return the tags and viewstate for the next request\n",
    "    return [element.get('value') for element in soup.find(id='tag').find_all('option') if element.get('value')], \\\n",
    "            viewstate"
   ]
  },
  {
   "cell_type": "code",
   "execution_count": 18,
   "metadata": {},
   "outputs": [
    {
     "data": {
      "text/plain": [
       "['change',\n",
       " 'deep-thoughts',\n",
       " 'thinking',\n",
       " 'world',\n",
       " 'inspirational',\n",
       " 'life',\n",
       " 'live',\n",
       " 'miracle',\n",
       " 'miracles',\n",
       " 'adulthood',\n",
       " 'success',\n",
       " 'value',\n",
       " 'simplicity',\n",
       " 'understand',\n",
       " 'children',\n",
       " 'fairy-tales',\n",
       " 'imagination',\n",
       " 'knowledge',\n",
       " 'learning',\n",
       " 'understanding',\n",
       " 'wisdom',\n",
       " 'simile',\n",
       " 'music',\n",
       " 'mistakes']"
      ]
     },
     "execution_count": 18,
     "metadata": {},
     "output_type": "execute_result"
    }
   ],
   "source": [
    "tags, viewstate = get_author_tags('Albert Einstein')\n",
    "tags"
   ]
  },
  {
   "cell_type": "code",
   "execution_count": 19,
   "metadata": {},
   "outputs": [
    {
     "data": {
      "text/plain": [
       "['aliteracy',\n",
       " 'books',\n",
       " 'classic',\n",
       " 'humor',\n",
       " 'friendship',\n",
       " 'love',\n",
       " 'romantic',\n",
       " 'women',\n",
       " 'library',\n",
       " 'reading',\n",
       " 'elizabeth-bennet',\n",
       " 'jane-austen']"
      ]
     },
     "execution_count": 19,
     "metadata": {},
     "output_type": "execute_result"
    }
   ],
   "source": [
    "tags, viewstate = get_author_tags('Jane Austen', viewstate)\n",
    "tags"
   ]
  },
  {
   "cell_type": "markdown",
   "metadata": {},
   "source": [
    "Note that in a real-life example, you'd probably want to wrap this functionality in a custom class instead."
   ]
  }
 ],
 "metadata": {
  "kernelspec": {
   "display_name": "Python 3",
   "language": "python",
   "name": "python3"
  },
  "language_info": {
   "codemirror_mode": {
    "name": "ipython",
    "version": 3
   },
   "file_extension": ".py",
   "mimetype": "text/x-python",
   "name": "python",
   "nbconvert_exporter": "python",
   "pygments_lexer": "ipython3",
   "version": "3.8.3"
  }
 },
 "nbformat": 4,
 "nbformat_minor": 4
}

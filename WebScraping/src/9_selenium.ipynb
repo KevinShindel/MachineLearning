{
 "cells": [
  {
   "cell_type": "markdown",
   "metadata": {},
   "source": [
    "In this notebook, we'll take a look at a couple of examples using Selenium. We start by importing the modules we need and starting the Selenium-driven web browser.\n",
    "\n",
    "We don't use headless mode here, as we would like to see what's going on as we execute our commands."
   ]
  },
  {
   "cell_type": "code",
   "execution_count": 1,
   "metadata": {},
   "outputs": [],
   "source": [
    "from selenium import webdriver\n",
    "from selenium.webdriver.support.ui import Select\n",
    "from selenium.webdriver.common.keys import Keys"
   ]
  },
  {
   "cell_type": "code",
   "execution_count": 38,
   "metadata": {},
   "outputs": [],
   "source": [
    "driver = webdriver.Chrome()\n",
    "driver.implicitly_wait(10)"
   ]
  },
  {
   "cell_type": "markdown",
   "metadata": {},
   "source": [
    "# Navigating BlueCourses"
   ]
  },
  {
   "cell_type": "markdown",
   "metadata": {},
   "source": [
    "For this first example, let's visit our home page and read out a list of courses, as we did before using Beautiful Soup."
   ]
  },
  {
   "cell_type": "code",
   "execution_count": 3,
   "metadata": {},
   "outputs": [],
   "source": [
    "driver.get('https://www.bluecourses.com')"
   ]
  },
  {
   "cell_type": "markdown",
   "metadata": {},
   "source": [
    "Note that Selenium provides many ways to find elements. E.g. by using CSS selectors (more feature proof than `select()` in Beautiful Soup). Note that attributes here should be retrieved using `get_attribute()`."
   ]
  },
  {
   "cell_type": "code",
   "execution_count": 4,
   "metadata": {},
   "outputs": [],
   "source": [
    "courses = driver.find_elements_by_css_selector('article.course')"
   ]
  },
  {
   "cell_type": "code",
   "execution_count": 5,
   "metadata": {},
   "outputs": [
    {
     "name": "stdout",
     "output_type": "stream",
     "text": [
      "Basic Credit Risk Modeling for Basel/IFRS 9 using R/Python/SAS\n",
      "https://www.bluecourses.com/courses/course-v1:bluecourses+BC1+September2019/about\n",
      "Advanced Credit Risk Modeling for Basel/IFRS 9 using R/Python/SAS\n",
      "https://www.bluecourses.com/courses/course-v1:bluecourses+BC2+September2019/about\n",
      "Machine Learning Essentials\n",
      "https://www.bluecourses.com/courses/course-v1:bluecourses+BC3+October2019/about\n",
      "Fraud Analytics\n",
      "https://www.bluecourses.com/courses/course-v1:bluecourses+BC4+December2019/about\n",
      "Social Network Analytics\n",
      "https://www.bluecourses.com/courses/course-v1:bluecourses+BC5+2020/about\n",
      "Recommender Systems\n",
      "https://www.bluecourses.com/courses/course-v1:bluecourses+BC7+2020_Q1/about\n",
      "Customer Lifetime Value Modeling\n",
      "https://www.bluecourses.com/courses/course-v1:bluecourses+BC8+2020_Q2/about\n",
      "Text Analytics\n",
      "https://www.bluecourses.com/courses/course-v1:bluecourses+BC6+2019_Q4/about\n",
      "Web Analytics\n",
      "https://www.bluecourses.com/courses/course-v1:bluecourses+BC14+2020_Q2/about\n",
      "Quantum Machine Learning\n",
      "https://www.bluecourses.com/courses/course-v1:bluecourses+BC11+2020_Q4/about\n",
      "Ethics and AI\n",
      "https://www.bluecourses.com/courses/course-v1:bluecourses+BC9+2020_Q4/about\n",
      "Sentiment Analysis\n",
      "https://www.bluecourses.com/courses/course-v1:bluecourses+BC12+2020_Q2/about\n",
      "Deep Learning Essentials\n",
      "https://www.bluecourses.com/courses/course-v1:bluecourses+BC10+2020_Q4/about\n",
      "Geospatial Analytics\n",
      "https://www.bluecourses.com/courses/course-v1:bluecourses+BC13+2020_Q2/about\n",
      "Business Process Analytics\n",
      "https://www.bluecourses.com/courses/course-v1:bluecourses+BC15+2020_Q2/about\n",
      "Introduction to Python for Data Science\n",
      "https://www.bluecourses.com/courses/course-v1:bluecourses+BC16+2020_Q4/about\n",
      "Creating Machine Learning Apps in Python using Dash and Plotly\n",
      "https://www.bluecourses.com/courses/course-v1:bluecourses+BC17+2020_Q3/about\n"
     ]
    }
   ],
   "source": [
    "for course in courses:\n",
    "    print(course.find_element_by_css_selector('.course-title').text)\n",
    "    print(course.find_element_by_tag_name('a').get_attribute('href'))"
   ]
  },
  {
   "cell_type": "markdown",
   "metadata": {},
   "source": [
    "# Filling out a simple form"
   ]
  },
  {
   "cell_type": "markdown",
   "metadata": {},
   "source": [
    "For a second example, we can show how to interact with various form elements. This example illustrates how Selenium requires a more UI-driven way of working rather than thinking from an HTTP interaction perspective."
   ]
  },
  {
   "cell_type": "code",
   "execution_count": 39,
   "metadata": {},
   "outputs": [],
   "source": [
    "driver.get('http://www.webscrapingfordatascience.com/postform2/')"
   ]
  },
  {
   "cell_type": "markdown",
   "metadata": {},
   "source": [
    "Textual elements can be filled in using `clear` and `send_keys`."
   ]
  },
  {
   "cell_type": "code",
   "execution_count": 40,
   "metadata": {},
   "outputs": [],
   "source": [
    "driver.find_element_by_name('name').clear()\n",
    "driver.find_element_by_name('name').send_keys('Seppe')"
   ]
  },
  {
   "cell_type": "markdown",
   "metadata": {},
   "source": [
    "We can also retrieve elements through XPath selectors. XPath is a relatively complex but powerful XML query language. See https://www.w3schools.com/xml/xpath_syntax.asp for a good overview of the syntax."
   ]
  },
  {
   "cell_type": "code",
   "execution_count": 41,
   "metadata": {},
   "outputs": [],
   "source": [
    "driver.find_element_by_xpath('//input[@name=\"gender\"][@value=\"N\"]').click()"
   ]
  },
  {
   "cell_type": "code",
   "execution_count": 42,
   "metadata": {},
   "outputs": [],
   "source": [
    "driver.find_element_by_name('fries').click()\n",
    "driver.find_element_by_name('salad').click()"
   ]
  },
  {
   "cell_type": "code",
   "execution_count": 43,
   "metadata": {},
   "outputs": [],
   "source": [
    "Select(driver.find_element_by_name('haircolor')).select_by_value('brown')"
   ]
  },
  {
   "cell_type": "code",
   "execution_count": 44,
   "metadata": {},
   "outputs": [],
   "source": [
    "driver.find_element_by_name('comments').clear()\n",
    "driver.find_element_by_name('comments').send_keys(['First line', Keys.ENTER, 'Second line'])"
   ]
  },
  {
   "cell_type": "code",
   "execution_count": 45,
   "metadata": {},
   "outputs": [],
   "source": [
    "driver.find_element_by_xpath('//input[@type=\"submit\"]').click()"
   ]
  },
  {
   "cell_type": "code",
   "execution_count": 46,
   "metadata": {},
   "outputs": [
    {
     "data": {
      "text/plain": [
       "'Thanks for submitting your information\\nHere\\'s a dump of the form data that was submitted:\\narray(6) {\\n  [\"name\"]=>\\n  string(5) \"Seppe\"\\n  [\"gender\"]=>\\n  string(1) \"N\"\\n  [\"fries\"]=>\\n  string(4) \"like\"\\n  [\"salad\"]=>\\n  string(4) \"like\"\\n  [\"haircolor\"]=>\\n  string(5) \"brown\"\\n  [\"comments\"]=>\\n  string(23) \"First line\\nSecond line\"\\n}'"
      ]
     },
     "execution_count": 46,
     "metadata": {},
     "output_type": "execute_result"
    }
   ],
   "source": [
    "driver.find_element_by_tag_name('body').text"
   ]
  },
  {
   "cell_type": "markdown",
   "metadata": {},
   "source": [
    "Note two special properties, `innerHTML` and `outerHTML` (DOM attributes), which allow to get the full inner and outer HTML contents of tags. Note that you could still use a HTML parsing library like Beautiful Soup if you'd like to parse these further without using Selenium."
   ]
  },
  {
   "cell_type": "code",
   "execution_count": 47,
   "metadata": {},
   "outputs": [
    {
     "data": {
      "text/plain": [
       "'\\n\\n\\n<h2>Thanks for submitting your information</h2>\\n\\n<p>Here\\'s a dump of the form data that was submitted:</p>\\n\\n<pre>array(6) {\\n  [\"name\"]=&gt;\\n  string(5) \"Seppe\"\\n  [\"gender\"]=&gt;\\n  string(1) \"N\"\\n  [\"fries\"]=&gt;\\n  string(4) \"like\"\\n  [\"salad\"]=&gt;\\n  string(4) \"like\"\\n  [\"haircolor\"]=&gt;\\n  string(5) \"brown\"\\n  [\"comments\"]=&gt;\\n  string(23) \"First line\\nSecond line\"\\n}\\n</pre>\\n\\n\\n\\t\\n\\n'"
      ]
     },
     "execution_count": 47,
     "metadata": {},
     "output_type": "execute_result"
    }
   ],
   "source": [
    "driver.find_element_by_tag_name('body').get_attribute('innerHTML')"
   ]
  },
  {
   "cell_type": "code",
   "execution_count": 48,
   "metadata": {},
   "outputs": [
    {
     "data": {
      "text/plain": [
       "'<body>\\n\\n\\n<h2>Thanks for submitting your information</h2>\\n\\n<p>Here\\'s a dump of the form data that was submitted:</p>\\n\\n<pre>array(6) {\\n  [\"name\"]=&gt;\\n  string(5) \"Seppe\"\\n  [\"gender\"]=&gt;\\n  string(1) \"N\"\\n  [\"fries\"]=&gt;\\n  string(4) \"like\"\\n  [\"salad\"]=&gt;\\n  string(4) \"like\"\\n  [\"haircolor\"]=&gt;\\n  string(5) \"brown\"\\n  [\"comments\"]=&gt;\\n  string(23) \"First line\\nSecond line\"\\n}\\n</pre>\\n\\n\\n\\t\\n\\n</body>'"
      ]
     },
     "execution_count": 48,
     "metadata": {},
     "output_type": "execute_result"
    }
   ],
   "source": [
    "driver.find_element_by_tag_name('body').get_attribute('outerHTML')"
   ]
  },
  {
   "cell_type": "markdown",
   "metadata": {},
   "source": [
    "# Getting a list of McDonalds locations in New York"
   ]
  },
  {
   "cell_type": "code",
   "execution_count": 49,
   "metadata": {},
   "outputs": [],
   "source": [
    "driver.get('https://www.mcdonalds.com/us/en-us/restaurant-locator.html')"
   ]
  },
  {
   "cell_type": "code",
   "execution_count": 50,
   "metadata": {},
   "outputs": [],
   "source": [
    "driver.find_element_by_id('search').send_keys('New York')"
   ]
  },
  {
   "cell_type": "code",
   "execution_count": 51,
   "metadata": {},
   "outputs": [],
   "source": [
    "driver.find_element_by_css_selector('button[aria-label=\"search\"]').click()"
   ]
  },
  {
   "cell_type": "code",
   "execution_count": 52,
   "metadata": {},
   "outputs": [
    {
     "ename": "ElementNotInteractableException",
     "evalue": "Message: element not interactable\n  (Session info: chrome=84.0.4147.105)\n",
     "output_type": "error",
     "traceback": [
      "\u001b[1;31m---------------------------------------------------------------------------\u001b[0m",
      "\u001b[1;31mElementNotInteractableException\u001b[0m           Traceback (most recent call last)",
      "\u001b[1;32m<ipython-input-52-c61b1b816c91>\u001b[0m in \u001b[0;36m<module>\u001b[1;34m\u001b[0m\n\u001b[1;32m----> 1\u001b[1;33m \u001b[0mdriver\u001b[0m\u001b[1;33m.\u001b[0m\u001b[0mfind_element_by_css_selector\u001b[0m\u001b[1;33m(\u001b[0m\u001b[1;34m'.button-toggle button[aria-label=\"List View\"]'\u001b[0m\u001b[1;33m)\u001b[0m\u001b[1;33m.\u001b[0m\u001b[0mclick\u001b[0m\u001b[1;33m(\u001b[0m\u001b[1;33m)\u001b[0m\u001b[1;33m\u001b[0m\u001b[1;33m\u001b[0m\u001b[0m\n\u001b[0m",
      "\u001b[1;32m~\\Anaconda3\\envs\\webscrapingcourse\\lib\\site-packages\\selenium\\webdriver\\remote\\webelement.py\u001b[0m in \u001b[0;36mclick\u001b[1;34m(self)\u001b[0m\n\u001b[0;32m     78\u001b[0m     \u001b[1;32mdef\u001b[0m \u001b[0mclick\u001b[0m\u001b[1;33m(\u001b[0m\u001b[0mself\u001b[0m\u001b[1;33m)\u001b[0m\u001b[1;33m:\u001b[0m\u001b[1;33m\u001b[0m\u001b[1;33m\u001b[0m\u001b[0m\n\u001b[0;32m     79\u001b[0m         \u001b[1;34m\"\"\"Clicks the element.\"\"\"\u001b[0m\u001b[1;33m\u001b[0m\u001b[1;33m\u001b[0m\u001b[0m\n\u001b[1;32m---> 80\u001b[1;33m         \u001b[0mself\u001b[0m\u001b[1;33m.\u001b[0m\u001b[0m_execute\u001b[0m\u001b[1;33m(\u001b[0m\u001b[0mCommand\u001b[0m\u001b[1;33m.\u001b[0m\u001b[0mCLICK_ELEMENT\u001b[0m\u001b[1;33m)\u001b[0m\u001b[1;33m\u001b[0m\u001b[1;33m\u001b[0m\u001b[0m\n\u001b[0m\u001b[0;32m     81\u001b[0m \u001b[1;33m\u001b[0m\u001b[0m\n\u001b[0;32m     82\u001b[0m     \u001b[1;32mdef\u001b[0m \u001b[0msubmit\u001b[0m\u001b[1;33m(\u001b[0m\u001b[0mself\u001b[0m\u001b[1;33m)\u001b[0m\u001b[1;33m:\u001b[0m\u001b[1;33m\u001b[0m\u001b[1;33m\u001b[0m\u001b[0m\n",
      "\u001b[1;32m~\\Anaconda3\\envs\\webscrapingcourse\\lib\\site-packages\\selenium\\webdriver\\remote\\webelement.py\u001b[0m in \u001b[0;36m_execute\u001b[1;34m(self, command, params)\u001b[0m\n\u001b[0;32m    631\u001b[0m             \u001b[0mparams\u001b[0m \u001b[1;33m=\u001b[0m \u001b[1;33m{\u001b[0m\u001b[1;33m}\u001b[0m\u001b[1;33m\u001b[0m\u001b[1;33m\u001b[0m\u001b[0m\n\u001b[0;32m    632\u001b[0m         \u001b[0mparams\u001b[0m\u001b[1;33m[\u001b[0m\u001b[1;34m'id'\u001b[0m\u001b[1;33m]\u001b[0m \u001b[1;33m=\u001b[0m \u001b[0mself\u001b[0m\u001b[1;33m.\u001b[0m\u001b[0m_id\u001b[0m\u001b[1;33m\u001b[0m\u001b[1;33m\u001b[0m\u001b[0m\n\u001b[1;32m--> 633\u001b[1;33m         \u001b[1;32mreturn\u001b[0m \u001b[0mself\u001b[0m\u001b[1;33m.\u001b[0m\u001b[0m_parent\u001b[0m\u001b[1;33m.\u001b[0m\u001b[0mexecute\u001b[0m\u001b[1;33m(\u001b[0m\u001b[0mcommand\u001b[0m\u001b[1;33m,\u001b[0m \u001b[0mparams\u001b[0m\u001b[1;33m)\u001b[0m\u001b[1;33m\u001b[0m\u001b[1;33m\u001b[0m\u001b[0m\n\u001b[0m\u001b[0;32m    634\u001b[0m \u001b[1;33m\u001b[0m\u001b[0m\n\u001b[0;32m    635\u001b[0m     \u001b[1;32mdef\u001b[0m \u001b[0mfind_element\u001b[0m\u001b[1;33m(\u001b[0m\u001b[0mself\u001b[0m\u001b[1;33m,\u001b[0m \u001b[0mby\u001b[0m\u001b[1;33m=\u001b[0m\u001b[0mBy\u001b[0m\u001b[1;33m.\u001b[0m\u001b[0mID\u001b[0m\u001b[1;33m,\u001b[0m \u001b[0mvalue\u001b[0m\u001b[1;33m=\u001b[0m\u001b[1;32mNone\u001b[0m\u001b[1;33m)\u001b[0m\u001b[1;33m:\u001b[0m\u001b[1;33m\u001b[0m\u001b[1;33m\u001b[0m\u001b[0m\n",
      "\u001b[1;32m~\\Anaconda3\\envs\\webscrapingcourse\\lib\\site-packages\\selenium\\webdriver\\remote\\webdriver.py\u001b[0m in \u001b[0;36mexecute\u001b[1;34m(self, driver_command, params)\u001b[0m\n\u001b[0;32m    319\u001b[0m         \u001b[0mresponse\u001b[0m \u001b[1;33m=\u001b[0m \u001b[0mself\u001b[0m\u001b[1;33m.\u001b[0m\u001b[0mcommand_executor\u001b[0m\u001b[1;33m.\u001b[0m\u001b[0mexecute\u001b[0m\u001b[1;33m(\u001b[0m\u001b[0mdriver_command\u001b[0m\u001b[1;33m,\u001b[0m \u001b[0mparams\u001b[0m\u001b[1;33m)\u001b[0m\u001b[1;33m\u001b[0m\u001b[1;33m\u001b[0m\u001b[0m\n\u001b[0;32m    320\u001b[0m         \u001b[1;32mif\u001b[0m \u001b[0mresponse\u001b[0m\u001b[1;33m:\u001b[0m\u001b[1;33m\u001b[0m\u001b[1;33m\u001b[0m\u001b[0m\n\u001b[1;32m--> 321\u001b[1;33m             \u001b[0mself\u001b[0m\u001b[1;33m.\u001b[0m\u001b[0merror_handler\u001b[0m\u001b[1;33m.\u001b[0m\u001b[0mcheck_response\u001b[0m\u001b[1;33m(\u001b[0m\u001b[0mresponse\u001b[0m\u001b[1;33m)\u001b[0m\u001b[1;33m\u001b[0m\u001b[1;33m\u001b[0m\u001b[0m\n\u001b[0m\u001b[0;32m    322\u001b[0m             response['value'] = self._unwrap_value(\n\u001b[0;32m    323\u001b[0m                 response.get('value', None))\n",
      "\u001b[1;32m~\\Anaconda3\\envs\\webscrapingcourse\\lib\\site-packages\\selenium\\webdriver\\remote\\errorhandler.py\u001b[0m in \u001b[0;36mcheck_response\u001b[1;34m(self, response)\u001b[0m\n\u001b[0;32m    240\u001b[0m                 \u001b[0malert_text\u001b[0m \u001b[1;33m=\u001b[0m \u001b[0mvalue\u001b[0m\u001b[1;33m[\u001b[0m\u001b[1;34m'alert'\u001b[0m\u001b[1;33m]\u001b[0m\u001b[1;33m.\u001b[0m\u001b[0mget\u001b[0m\u001b[1;33m(\u001b[0m\u001b[1;34m'text'\u001b[0m\u001b[1;33m)\u001b[0m\u001b[1;33m\u001b[0m\u001b[1;33m\u001b[0m\u001b[0m\n\u001b[0;32m    241\u001b[0m             \u001b[1;32mraise\u001b[0m \u001b[0mexception_class\u001b[0m\u001b[1;33m(\u001b[0m\u001b[0mmessage\u001b[0m\u001b[1;33m,\u001b[0m \u001b[0mscreen\u001b[0m\u001b[1;33m,\u001b[0m \u001b[0mstacktrace\u001b[0m\u001b[1;33m,\u001b[0m \u001b[0malert_text\u001b[0m\u001b[1;33m)\u001b[0m\u001b[1;33m\u001b[0m\u001b[1;33m\u001b[0m\u001b[0m\n\u001b[1;32m--> 242\u001b[1;33m         \u001b[1;32mraise\u001b[0m \u001b[0mexception_class\u001b[0m\u001b[1;33m(\u001b[0m\u001b[0mmessage\u001b[0m\u001b[1;33m,\u001b[0m \u001b[0mscreen\u001b[0m\u001b[1;33m,\u001b[0m \u001b[0mstacktrace\u001b[0m\u001b[1;33m)\u001b[0m\u001b[1;33m\u001b[0m\u001b[1;33m\u001b[0m\u001b[0m\n\u001b[0m\u001b[0;32m    243\u001b[0m \u001b[1;33m\u001b[0m\u001b[0m\n\u001b[0;32m    244\u001b[0m     \u001b[1;32mdef\u001b[0m \u001b[0m_value_or_default\u001b[0m\u001b[1;33m(\u001b[0m\u001b[0mself\u001b[0m\u001b[1;33m,\u001b[0m \u001b[0mobj\u001b[0m\u001b[1;33m,\u001b[0m \u001b[0mkey\u001b[0m\u001b[1;33m,\u001b[0m \u001b[0mdefault\u001b[0m\u001b[1;33m)\u001b[0m\u001b[1;33m:\u001b[0m\u001b[1;33m\u001b[0m\u001b[1;33m\u001b[0m\u001b[0m\n",
      "\u001b[1;31mElementNotInteractableException\u001b[0m: Message: element not interactable\n  (Session info: chrome=84.0.4147.105)\n"
     ]
    }
   ],
   "source": [
    "driver.find_element_by_css_selector('.button-toggle button[aria-label=\"List View\"]').click()"
   ]
  },
  {
   "cell_type": "markdown",
   "metadata": {},
   "source": [
    "Alternatively, we could also do the following, by executing JavaScript in the browser:"
   ]
  },
  {
   "cell_type": "code",
   "execution_count": 53,
   "metadata": {},
   "outputs": [],
   "source": [
    "driver.execute_script(\n",
    "    'arguments[0].click();', \n",
    "    driver.find_element_by_css_selector('.button-toggle button[aria-label=\"List View\"]')\n",
    ")"
   ]
  },
  {
   "cell_type": "markdown",
   "metadata": {},
   "source": [
    "Next, we'll continue to load in all results until the 'Load More' button disappears. Normally, you'd opt to use a more robust approach here using explicit waits (https://www.selenium.dev/documentation/en/webdriver/waits/). Since we have defined an implicit wait above, Selenium will try executing our commands until the implicit timeout is reached, after which it throws an exception."
   ]
  },
  {
   "cell_type": "code",
   "execution_count": 54,
   "metadata": {},
   "outputs": [],
   "source": [
    "while True:\n",
    "    try:\n",
    "        driver.find_element_by_css_selector('div.rl-listview__load-more button').click()\n",
    "    except:\n",
    "        break # All results loaded"
   ]
  },
  {
   "cell_type": "code",
   "execution_count": 55,
   "metadata": {},
   "outputs": [
    {
     "name": "stdout",
     "output_type": "stream",
     "text": [
      "OPEN\n",
      "160 Broadway\n",
      "New York, Ny 10038\n",
      "\n",
      "\n",
      "OPEN\n",
      "167 Chambers St (303 Greenwich St)\n",
      "New York, Ny 10013\n",
      "\n",
      "\n",
      "OPEN\n",
      "262 Canal St\n",
      "New York, Ny 10013\n",
      "\n",
      "\n",
      "OPEN\n",
      "213 Madison Street\n",
      "New York, Ny 10002\n",
      "\n",
      "\n",
      "OPEN\n",
      "114 Delancey St\n",
      "New York, Ny 10002\n",
      "\n",
      "\n",
      "OPEN\n",
      "208 Varick St\n",
      "New York, Ny 10014\n",
      "\n",
      "\n",
      "OPEN\n",
      "136 W 3rd St\n",
      "New York, Ny 10012\n",
      "\n",
      "\n",
      "OPEN\n",
      "724 Broadway\n",
      "New York, Ny 10003\n",
      "\n",
      "\n",
      "OPEN\n",
      "102 1st Ave\n",
      "New York, Ny 10009\n",
      "\n",
      "\n",
      "OPEN\n",
      "82 Court St\n",
      "Brooklyn, Ny 11201\n",
      "\n",
      "\n",
      "OPEN\n",
      "404 E 14th St\n",
      "New York, Ny 10009\n",
      "\n",
      "\n",
      "OPEN\n",
      "541 6th Ave\n",
      "New York, Ny 10011\n",
      "\n",
      "\n",
      "OPEN\n",
      "420 Fulton St\n",
      "Brooklyn, Ny 11201\n",
      "\n",
      "\n",
      "OPEN\n",
      "39 Union Square W\n",
      "New York, Ny 10003\n",
      "\n",
      "\n",
      "OPEN\n",
      "30 Mall Dr W\n",
      "Jersey City, Nj 07310\n",
      "\n",
      "\n",
      "OPEN\n",
      "325 Grove St\n",
      "Jersey City, Nj 07303\n",
      "\n",
      "\n",
      "OPEN\n",
      "395 Flatbush Ave Exten\n",
      "Brooklyn, Ny 11201\n",
      "\n",
      "\n",
      "OPEN\n",
      "686 6th Ave\n",
      "New York, Ny 10010\n",
      "\n",
      "\n",
      "OPEN\n",
      "26 E 23rd St\n",
      "New York, Ny 10010\n",
      "\n",
      "\n",
      "OPEN\n",
      "336 E 23rd St\n",
      "New York, Ny 10010\n",
      "\n",
      "\n",
      "OPEN\n",
      "197 12th St\n",
      "Jersey City, Nj 07310\n",
      "\n",
      "\n",
      "OPEN\n",
      "234 Washington St\n",
      "Hoboken, Nj 07030\n",
      "\n",
      "\n",
      "OPEN\n",
      "401 Park Ave S\n",
      "New York, Ny 10016\n",
      "\n",
      "\n",
      "OPEN\n",
      "809/811 6th Ave/28th\n",
      "Manhattan, Ny 10001\n",
      "\n",
      "\n",
      "OPEN\n",
      "335 8th Ave\n",
      "Manhattan, Ny 10001\n",
      "\n",
      "\n",
      "OPEN\n",
      "267 Broadway\n",
      "Brooklyn, Ny 11211\n",
      "\n",
      "\n",
      "OPEN\n",
      "428 Grand St\n",
      "Jersey City, Nj 07303\n",
      "\n",
      "\n",
      "OPEN\n",
      "480 3rd Ave\n",
      "New York, Ny 10016\n",
      "\n",
      "\n",
      "OPEN\n",
      "429 7th Ave\n",
      "New York, Ny 10001\n",
      "\n",
      "\n"
     ]
    }
   ],
   "source": [
    "for details in driver.find_elements_by_css_selector('.rl-details'):\n",
    "    print(details.text)"
   ]
  },
  {
   "cell_type": "markdown",
   "metadata": {},
   "source": [
    "If you follow along with the network requests in the browser. You might also have noticed that the restaurant location retriever actually calls an internal JavaScript API. Hence, we could also try accessing this directly using Requests and see whether that works. The URL parameters obviously expose ways to play around with this:"
   ]
  },
  {
   "cell_type": "code",
   "execution_count": 56,
   "metadata": {},
   "outputs": [],
   "source": [
    "import requests"
   ]
  },
  {
   "cell_type": "code",
   "execution_count": 58,
   "metadata": {
    "scrolled": false
   },
   "outputs": [
    {
     "data": {
      "text/plain": [
       "{'features': [{'geometry': {'coordinates': [-74.010086, 40.709438]},\n",
       "   'properties': {'jobUrl': '',\n",
       "    'longDescription': '',\n",
       "    'todayHours': '04:00 - 04:00',\n",
       "    'driveTodayHours': '04:00 - 04:00',\n",
       "    'id': '195500284446-en-us',\n",
       "    'filterType': ['WIFI',\n",
       "     'GIFTCARDS',\n",
       "     'MOBILEOFFERS',\n",
       "     'MOBILEORDERS',\n",
       "     'INDOORDININGAVAILABLE',\n",
       "     'MCDELIVERY',\n",
       "     'TWENTYFOURHOURS'],\n",
       "    'addressLine1': '160 Broadway',\n",
       "    'addressLine2': 'STAMFORD FIELD OFFICE',\n",
       "    'addressLine3': 'New York',\n",
       "    'addressLine4': 'USA',\n",
       "    'subDivision': 'NY',\n",
       "    'postcode': '10038',\n",
       "    'customAddress': 'New York, NY 10038',\n",
       "    'telephone': '(212) 385-2066',\n",
       "    'restauranthours': {'hoursMonday': '04:00 - 04:00',\n",
       "     'hoursTuesday': '04:00 - 04:00',\n",
       "     'hoursWednesday': '04:00 - 04:00',\n",
       "     'hoursThursday': '04:00 - 04:00',\n",
       "     'hoursFriday': '04:00 - 04:00',\n",
       "     'hoursSaturday': '04:00 - 04:00',\n",
       "     'hoursSunday': '04:00 - 04:00'},\n",
       "    'drivethruhours': {'driveHoursMonday': '04:00 - 04:00',\n",
       "     'driveHoursTuesday': '04:00 - 04:00',\n",
       "     'driveHoursWednesday': '04:00 - 04:00',\n",
       "     'driveHoursThursday': '04:00 - 04:00',\n",
       "     'driveHoursFriday': '04:00 - 04:00',\n",
       "     'driveHoursSaturday': '04:00 - 04:00',\n",
       "     'driveHoursSunday': '04:00 - 04:00'},\n",
       "    'familyevent': [],\n",
       "    'identifiers': {'storeIdentifier': [{'identifierType': 'SiteIdNumber',\n",
       "       'identifierValue': '311090'},\n",
       "      {'identifierType': 'NatlStrNumber', 'identifierValue': '10528'},\n",
       "      {'identifierType': 'Region ID', 'identifierValue': '30'},\n",
       "      {'identifierType': 'Co-Op', 'identifierValue': 'NEW YORK METRO'},\n",
       "      {'identifierType': 'Co-Op ID', 'identifierValue': '246'},\n",
       "      {'identifierType': 'TV-Market', 'identifierValue': 'NEW YORK CITY, NY'},\n",
       "      {'identifierType': 'TV-Market ID', 'identifierValue': '16200'}],\n",
       "     'gblnumber': '195500284446'},\n",
       "    'birthDaysParties': '0',\n",
       "    'driveThru': '0',\n",
       "    'outDoorPlayGround': '0',\n",
       "    'indoorPlayGround': '0',\n",
       "    'wifi': '0',\n",
       "    'breakFast': '0',\n",
       "    'nightMenu': '0',\n",
       "    'giftCards': '0',\n",
       "    'mobileOffers': '0',\n",
       "    'restaurantUrl': 'https://www.ubereats.com/new-york/food-delivery/mcdonalds-fidi-160-broadway/Cn7rm31RTym93cHeWFUSow/?utm_source=Nero&utm_medium=loyalty&utm_campaign=yoyowallet&ue=ue',\n",
       "    'storeNotice': '',\n",
       "    'openstatus': 'OPEN',\n",
       "    'identifierValue': '10528',\n",
       "    'noticeStartDate': '',\n",
       "    'noticeEndDate': '',\n",
       "    'webStatus': 'OPEN',\n",
       "    'mcDeliveries': {'mcDelivery': [{'identifier': 'UberEats',\n",
       "       'marketingName': 'Uber Eats',\n",
       "       'deliveryURL': 'https://www.ubereats.com/new-york/food-delivery/mcdonalds-fidi-160-broadway/Cn7rm31RTym93cHeWFUSow/?utm_source=Nero&utm_medium=loyalty&utm_campaign=yoyowallet&ue=ue'},\n",
       "      {'identifier': 'DoorDash',\n",
       "       'marketingName': 'DoorDash',\n",
       "       'deliveryURL': 'https://www.doordash.com/store/837189'},\n",
       "      {'identifier': 'Grubhub',\n",
       "       'marketingName': 'Grubhub',\n",
       "       'deliveryURL': 'https://www.grubhub.com/restaurant/mcdonalds-160-broadway-new-york/1338459?utm_source=mcdonalds_website&utm_medium=enterprise-rest_partner&utm_campaign=rest-brand_5de59e10-3ba6-11e9-b0a9-3d145c71a10c&utm_content=mcdonalds'}]}}},\n",
       "  {'geometry': {'coordinates': [-74.010736, 40.716366]},\n",
       "   'properties': {'jobUrl': '',\n",
       "    'longDescription': '',\n",
       "    'todayHours': '05:00 - 04:00',\n",
       "    'driveTodayHours': '04:00 - 04:00',\n",
       "    'id': '195500284712-en-us',\n",
       "    'filterType': ['WIFI',\n",
       "     'GIFTCARDS',\n",
       "     'MOBILEOFFERS',\n",
       "     'MOBILEORDERS',\n",
       "     'MCDELIVERY',\n",
       "     'TWENTYFOURHOURS'],\n",
       "    'addressLine1': '167 Chambers St (303 Greenwich St)',\n",
       "    'addressLine2': 'STAMFORD FIELD OFFICE',\n",
       "    'addressLine3': 'New York',\n",
       "    'addressLine4': 'USA',\n",
       "    'subDivision': 'NY',\n",
       "    'postcode': '10013',\n",
       "    'customAddress': 'New York, NY 10013',\n",
       "    'telephone': '(212) 608-2405',\n",
       "    'restauranthours': {'hoursMonday': '05:00 - 04:00',\n",
       "     'hoursTuesday': '05:00 - 04:00',\n",
       "     'hoursWednesday': '05:00 - 04:00',\n",
       "     'hoursThursday': '05:00 - 04:00',\n",
       "     'hoursFriday': '05:00 - 04:00',\n",
       "     'hoursSaturday': '05:00 - 04:00',\n",
       "     'hoursSunday': '05:00 - 04:00'},\n",
       "    'drivethruhours': {'driveHoursMonday': '04:00 - 04:00',\n",
       "     'driveHoursTuesday': '04:00 - 04:00',\n",
       "     'driveHoursWednesday': '04:00 - 04:00',\n",
       "     'driveHoursThursday': '04:00 - 04:00',\n",
       "     'driveHoursFriday': '04:00 - 04:00',\n",
       "     'driveHoursSaturday': '04:00 - 04:00',\n",
       "     'driveHoursSunday': '04:00 - 04:00'},\n",
       "    'familyevent': [],\n",
       "    'identifiers': {'storeIdentifier': [{'identifierType': 'SiteIdNumber',\n",
       "       'identifierValue': '311193'},\n",
       "      {'identifierType': 'NatlStrNumber', 'identifierValue': '11163'},\n",
       "      {'identifierType': 'Region ID', 'identifierValue': '30'},\n",
       "      {'identifierType': 'Co-Op', 'identifierValue': 'NEW YORK METRO'},\n",
       "      {'identifierType': 'Co-Op ID', 'identifierValue': '246'},\n",
       "      {'identifierType': 'TV-Market', 'identifierValue': 'NEW YORK CITY, NY'},\n",
       "      {'identifierType': 'TV-Market ID', 'identifierValue': '16200'}],\n",
       "     'gblnumber': '195500284712'},\n",
       "    'birthDaysParties': '0',\n",
       "    'driveThru': '0',\n",
       "    'outDoorPlayGround': '0',\n",
       "    'indoorPlayGround': '0',\n",
       "    'wifi': '0',\n",
       "    'breakFast': '0',\n",
       "    'nightMenu': '0',\n",
       "    'giftCards': '0',\n",
       "    'mobileOffers': '0',\n",
       "    'restaurantUrl': 'https://www.ubereats.com/new-york/food-delivery/mcdonalds-tribeca-chambers-%26-greenwich/PbjRsUAQR1GHD1D0ZQqRCw/?utm_source=Nero&utm_medium=loyalty&utm_campaign=yoyowallet&ue=ue',\n",
       "    'storeNotice': '',\n",
       "    'openstatus': 'OPEN',\n",
       "    'identifierValue': '11163',\n",
       "    'noticeStartDate': '',\n",
       "    'noticeEndDate': '',\n",
       "    'webStatus': 'OPEN',\n",
       "    'mcDeliveries': {'mcDelivery': [{'identifier': 'UberEats',\n",
       "       'marketingName': 'Uber Eats',\n",
       "       'deliveryURL': 'https://www.ubereats.com/new-york/food-delivery/mcdonalds-tribeca-chambers-%26-greenwich/PbjRsUAQR1GHD1D0ZQqRCw/?utm_source=Nero&utm_medium=loyalty&utm_campaign=yoyowallet&ue=ue'},\n",
       "      {'identifier': 'DoorDash',\n",
       "       'marketingName': 'DoorDash',\n",
       "       'deliveryURL': 'https://www.doordash.com/store/837187'},\n",
       "      {'identifier': 'Grubhub',\n",
       "       'marketingName': 'Grubhub',\n",
       "       'deliveryURL': 'https://www.grubhub.com/restaurant/mcdonalds-167-chambers-st-new-york/1339054?utm_source=mcdonalds_website&utm_medium=enterprise-rest_partner&utm_campaign=rest-brand_5de59e10-3ba6-11e9-b0a9-3d145c71a10c&utm_content=mcdonalds'}]}}},\n",
       "  {'geometry': {'coordinates': [-74.001052, 40.718587]},\n",
       "   'properties': {'jobUrl': '',\n",
       "    'longDescription': '',\n",
       "    'todayHours': '07:00 - 19:00',\n",
       "    'driveTodayHours': '07:00 - 19:00',\n",
       "    'id': '195500283562-en-us',\n",
       "    'filterType': ['WIFI',\n",
       "     'GIFTCARDS',\n",
       "     'MOBILEOFFERS',\n",
       "     'MOBILEORDERS',\n",
       "     'INDOORDININGAVAILABLE',\n",
       "     'MCDELIVERY'],\n",
       "    'addressLine1': '262 Canal St',\n",
       "    'addressLine2': 'STAMFORD FIELD OFFICE',\n",
       "    'addressLine3': 'New York',\n",
       "    'addressLine4': 'USA',\n",
       "    'subDivision': 'NY',\n",
       "    'postcode': '10013',\n",
       "    'customAddress': 'New York, NY 10013',\n",
       "    'telephone': '(212) 941-5823',\n",
       "    'restauranthours': {'hoursMonday': '07:00 - 19:00',\n",
       "     'hoursTuesday': '07:00 - 19:00',\n",
       "     'hoursWednesday': '07:00 - 19:00',\n",
       "     'hoursThursday': '07:00 - 19:00',\n",
       "     'hoursFriday': '07:00 - 19:00',\n",
       "     'hoursSaturday': '07:00 - 19:00',\n",
       "     'hoursSunday': '07:00 - 19:00'},\n",
       "    'drivethruhours': {'driveHoursMonday': '07:00 - 19:00',\n",
       "     'driveHoursTuesday': '07:00 - 19:00',\n",
       "     'driveHoursWednesday': '07:00 - 19:00',\n",
       "     'driveHoursThursday': '07:00 - 19:00',\n",
       "     'driveHoursFriday': '07:00 - 19:00',\n",
       "     'driveHoursSaturday': '07:00 - 19:00',\n",
       "     'driveHoursSunday': '07:00 - 19:00'},\n",
       "    'familyevent': [],\n",
       "    'identifiers': {'storeIdentifier': [{'identifierType': 'SiteIdNumber',\n",
       "       'identifierValue': '310630'},\n",
       "      {'identifierType': 'NatlStrNumber', 'identifierValue': '4682'},\n",
       "      {'identifierType': 'Region ID', 'identifierValue': '30'},\n",
       "      {'identifierType': 'Co-Op', 'identifierValue': 'NEW YORK METRO'},\n",
       "      {'identifierType': 'Co-Op ID', 'identifierValue': '246'},\n",
       "      {'identifierType': 'TV-Market', 'identifierValue': 'NEW YORK CITY, NY'},\n",
       "      {'identifierType': 'TV-Market ID', 'identifierValue': '16200'}],\n",
       "     'gblnumber': '195500283562'},\n",
       "    'birthDaysParties': '0',\n",
       "    'driveThru': '0',\n",
       "    'outDoorPlayGround': '0',\n",
       "    'indoorPlayGround': '0',\n",
       "    'wifi': '0',\n",
       "    'breakFast': '0',\n",
       "    'nightMenu': '0',\n",
       "    'giftCards': '0',\n",
       "    'mobileOffers': '0',\n",
       "    'restaurantUrl': 'https://www.ubereats.com/new-york/food-delivery/mcdonalds-chinatown-canal-st/J1GVi-cQTvuueL7b3qSk9w/?utm_source=Nero&utm_medium=loyalty&utm_campaign=yoyowallet&ue=ue',\n",
       "    'storeNotice': '',\n",
       "    'openstatus': 'OPEN',\n",
       "    'identifierValue': '4682',\n",
       "    'noticeStartDate': '',\n",
       "    'noticeEndDate': '',\n",
       "    'webStatus': 'OPEN',\n",
       "    'mcDeliveries': {'mcDelivery': [{'identifier': 'UberEats',\n",
       "       'marketingName': 'Uber Eats',\n",
       "       'deliveryURL': 'https://www.ubereats.com/new-york/food-delivery/mcdonalds-chinatown-canal-st/J1GVi-cQTvuueL7b3qSk9w/?utm_source=Nero&utm_medium=loyalty&utm_campaign=yoyowallet&ue=ue'},\n",
       "      {'identifier': 'DoorDash',\n",
       "       'marketingName': 'DoorDash',\n",
       "       'deliveryURL': 'https://www.doordash.com/store/837238'},\n",
       "      {'identifier': 'Grubhub',\n",
       "       'marketingName': 'Grubhub',\n",
       "       'deliveryURL': 'https://www.grubhub.com/restaurant/mcdonalds-262-canal-st-new-york/1339415?utm_source=mcdonalds_website&utm_medium=enterprise-rest_partner&utm_campaign=rest-brand_5de59e10-3ba6-11e9-b0a9-3d145c71a10c&utm_content=mcdonalds'}]}}}]}"
      ]
     },
     "execution_count": 58,
     "metadata": {},
     "output_type": "execute_result"
    }
   ],
   "source": [
    "requests.get('https://www.mcdonalds.com/googleapps/GoogleRestaurantLocAction.do', params={\n",
    "    'method': 'searchLocation',\n",
    "    'latitude': 40.7127753,\n",
    "    'longitude': -74.0059728,\n",
    "    'radius': 30.045,\n",
    "    'maxResults': 3,\n",
    "    'country': 'us',\n",
    "    'language': 'en-us'\n",
    "}).json()"
   ]
  },
  {
   "cell_type": "markdown",
   "metadata": {},
   "source": [
    "Even if the website you wish to scrape does not provide an API, it's always recommended to keep an eye on your browser's developer tools networking information to see if you can spot JavaScript-driven requests to URL endpoints which return nicely structured JSON data, as is the case here.\n",
    "\n",
    "Even although an API might not be documented, fetching the information directly from such an \"internal APIs\" is always a clever idea, as this will avoid having to deal with the HTML soup. In fact, we get here nicely structured JSON data directly!"
   ]
  },
  {
   "cell_type": "code",
   "execution_count": null,
   "metadata": {},
   "outputs": [],
   "source": []
  }
 ],
 "metadata": {
  "kernelspec": {
   "display_name": "Python 3",
   "language": "python",
   "name": "python3"
  },
  "language_info": {
   "codemirror_mode": {
    "name": "ipython",
    "version": 3
   },
   "file_extension": ".py",
   "mimetype": "text/x-python",
   "name": "python",
   "nbconvert_exporter": "python",
   "pygments_lexer": "ipython3",
   "version": "3.8.3"
  }
 },
 "nbformat": 4,
 "nbformat_minor": 4
}

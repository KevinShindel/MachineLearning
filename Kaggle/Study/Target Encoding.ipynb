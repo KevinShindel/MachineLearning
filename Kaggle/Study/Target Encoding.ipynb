{
 "cells": [
  {
   "metadata": {},
   "cell_type": "markdown",
   "source": [
    " # Target Encoding\n",
    " \n",
    "Boost any categorical feature with this powerful technique."
   ],
   "id": "b6fdb24c5c147928"
  },
  {
   "metadata": {},
   "cell_type": "markdown",
   "source": [
    "Most of the techniques we've seen in this course have been for numerical features.\n",
    "\n",
    "The technique we'll look at in this lesson, target encoding, is instead meant for categorical features.\n",
    "\n",
    "It's a method of encoding categories as numbers, like one-hot or label encoding, with the difference that it also uses the target to create the encoding.\n",
    " \n",
    "This makes it what we call a supervised feature engineering technique."
   ],
   "id": "77a1db193ce457b0"
  },
  {
   "metadata": {},
   "cell_type": "code",
   "outputs": [],
   "execution_count": null,
   "source": [
    "import matplotlib.pyplot as plt\n",
    "import numpy as np\n",
    "import pandas as pd\n",
    "import seaborn as sns\n",
    "import warnings\n",
    "# pip install category_encoders\n",
    "from category_encoders import MEstimateEncoder"
   ],
   "id": "5cd40ef00c7d6f4a"
  },
  {
   "metadata": {
    "ExecuteTime": {
     "end_time": "2024-09-25T21:19:02.739216Z",
     "start_time": "2024-09-25T21:19:02.729443Z"
    }
   },
   "cell_type": "code",
   "source": "autos = pd.read_csv(\"../../dataset/autos.csv\")",
   "id": "6f5d7e16333a60de",
   "outputs": [],
   "execution_count": 1
  },
  {
   "metadata": {},
   "cell_type": "markdown",
   "source": [
    "## Target Encoding\n",
    "A target encoding is any kind of encoding that replaces a feature's categories with some number derived from the target.\n",
    "\n",
    "A simple and effective version is to apply a group aggregation from Lesson 3, like the mean. Using the Automobiles dataset, this computes the average price of each vehicle's make:"
   ],
   "id": "3c8bb971526b938c"
  },
  {
   "metadata": {
    "ExecuteTime": {
     "end_time": "2024-09-25T21:19:29.458278Z",
     "start_time": "2024-09-25T21:19:29.441470Z"
    }
   },
   "cell_type": "code",
   "source": [
    "autos[\"make_encoded\"] = autos.groupby(\"make\")[\"price\"].transform(\"mean\")\n",
    "\n",
    "autos[[\"make\", \"price\", \"make_encoded\"]].head(10)"
   ],
   "id": "3f7359169b7bb6",
   "outputs": [
    {
     "data": {
      "text/plain": [
       "          make  price  make_encoded\n",
       "0  alfa-romero  13495  15498.333333\n",
       "1  alfa-romero  16500  15498.333333\n",
       "2  alfa-romero  16500  15498.333333\n",
       "3         audi  13950  17859.166667\n",
       "4         audi  17450  17859.166667\n",
       "5         audi  15250  17859.166667\n",
       "6         audi  17710  17859.166667\n",
       "7         audi  18920  17859.166667\n",
       "8         audi  23875  17859.166667\n",
       "9          bmw  16430  26118.750000"
      ],
      "text/html": [
       "<div>\n",
       "<style scoped>\n",
       "    .dataframe tbody tr th:only-of-type {\n",
       "        vertical-align: middle;\n",
       "    }\n",
       "\n",
       "    .dataframe tbody tr th {\n",
       "        vertical-align: top;\n",
       "    }\n",
       "\n",
       "    .dataframe thead th {\n",
       "        text-align: right;\n",
       "    }\n",
       "</style>\n",
       "<table border=\"1\" class=\"dataframe\">\n",
       "  <thead>\n",
       "    <tr style=\"text-align: right;\">\n",
       "      <th></th>\n",
       "      <th>make</th>\n",
       "      <th>price</th>\n",
       "      <th>make_encoded</th>\n",
       "    </tr>\n",
       "  </thead>\n",
       "  <tbody>\n",
       "    <tr>\n",
       "      <th>0</th>\n",
       "      <td>alfa-romero</td>\n",
       "      <td>13495</td>\n",
       "      <td>15498.333333</td>\n",
       "    </tr>\n",
       "    <tr>\n",
       "      <th>1</th>\n",
       "      <td>alfa-romero</td>\n",
       "      <td>16500</td>\n",
       "      <td>15498.333333</td>\n",
       "    </tr>\n",
       "    <tr>\n",
       "      <th>2</th>\n",
       "      <td>alfa-romero</td>\n",
       "      <td>16500</td>\n",
       "      <td>15498.333333</td>\n",
       "    </tr>\n",
       "    <tr>\n",
       "      <th>3</th>\n",
       "      <td>audi</td>\n",
       "      <td>13950</td>\n",
       "      <td>17859.166667</td>\n",
       "    </tr>\n",
       "    <tr>\n",
       "      <th>4</th>\n",
       "      <td>audi</td>\n",
       "      <td>17450</td>\n",
       "      <td>17859.166667</td>\n",
       "    </tr>\n",
       "    <tr>\n",
       "      <th>5</th>\n",
       "      <td>audi</td>\n",
       "      <td>15250</td>\n",
       "      <td>17859.166667</td>\n",
       "    </tr>\n",
       "    <tr>\n",
       "      <th>6</th>\n",
       "      <td>audi</td>\n",
       "      <td>17710</td>\n",
       "      <td>17859.166667</td>\n",
       "    </tr>\n",
       "    <tr>\n",
       "      <th>7</th>\n",
       "      <td>audi</td>\n",
       "      <td>18920</td>\n",
       "      <td>17859.166667</td>\n",
       "    </tr>\n",
       "    <tr>\n",
       "      <th>8</th>\n",
       "      <td>audi</td>\n",
       "      <td>23875</td>\n",
       "      <td>17859.166667</td>\n",
       "    </tr>\n",
       "    <tr>\n",
       "      <th>9</th>\n",
       "      <td>bmw</td>\n",
       "      <td>16430</td>\n",
       "      <td>26118.750000</td>\n",
       "    </tr>\n",
       "  </tbody>\n",
       "</table>\n",
       "</div>"
      ]
     },
     "execution_count": 2,
     "metadata": {},
     "output_type": "execute_result"
    }
   ],
   "execution_count": 2
  },
  {
   "metadata": {},
   "cell_type": "markdown",
   "source": [
    "## Use Cases for Target Encoding\n",
    "\n",
    "Target encoding is great for:\n",
    "+ High-cardinality features: A feature with a large number of categories can be troublesome to encode: a one-hot encoding would generate too many features and alternatives, like \n",
    "a label encoding, might not be appropriate for that feature. A target encoding derives numbers for the categories using the feature's most important property: its relationship with the target.\n",
    "+ Domain-motivated features: From prior experience, you might suspect that a categorical feature should be important even if it scored poorly with a feature metric. A target \n",
    "encoding can help reveal a feature's true informativeness."
   ],
   "id": "5243073521b4a085"
  },
  {
   "metadata": {},
   "cell_type": "markdown",
   "source": [
    "## Example - MovieLens1M\n",
    "\n",
    "The MovieLens1M dataset contains one-million movie ratings by users of the MovieLens website, with features describing each user and movie. This hidden cell sets everything up:"
   ],
   "id": "de195690e058a8a2"
  },
  {
   "metadata": {
    "ExecuteTime": {
     "end_time": "2024-09-25T21:28:05.506215Z",
     "start_time": "2024-09-25T21:28:03.453296Z"
    }
   },
   "cell_type": "code",
   "source": [
    "plt.rc(\"figure\", autolayout=True)\n",
    "plt.rc(\n",
    "    \"axes\",\n",
    "    labelweight=\"bold\",\n",
    "    labelsize=\"large\",\n",
    "    titleweight=\"bold\",\n",
    "    titlesize=14,\n",
    "    titlepad=10,\n",
    ")\n",
    "warnings.filterwarnings('ignore')\n",
    "file_path = \"../../dataset/movielens1m.csv.zip\"\n",
    "# file_path = \"../../dataset/grouplens_1m_movies.zip\"\n",
    "df = pd.read_csv(file_path)\n",
    "df = df.astype(np.uint8, errors='ignore') # reduce memory footprint\n",
    "print(\"Number of Unique Zipcodes: {}\".format(df[\"Zipcode\"].nunique()))"
   ],
   "id": "910bc19faf4fe18f",
   "outputs": [
    {
     "name": "stdout",
     "output_type": "stream",
     "text": [
      "Number of Unique Zipcodes: 3439\n"
     ]
    }
   ],
   "execution_count": 4
  },
  {
   "metadata": {},
   "cell_type": "markdown",
   "source": [
    "With over 3000 categories, the Zipcode feature makes a good candidate for target encoding, and the size of this dataset (over one-million rows) means we can spare some data to create the encoding.\n",
    "\n",
    "We'll start by creating a 25% split to train the target encoder."
   ],
   "id": "fda9c06657ec67a9"
  },
  {
   "metadata": {
    "ExecuteTime": {
     "end_time": "2024-09-25T21:28:47.637640Z",
     "start_time": "2024-09-25T21:28:47.397984Z"
    }
   },
   "cell_type": "code",
   "source": [
    "X = df.copy()\n",
    "y = X.pop('Rating')\n",
    "\n",
    "X_encode = X.sample(frac=0.25)\n",
    "y_encode = y[X_encode.index]\n",
    "X_pretrain = X.drop(X_encode.index)\n",
    "y_train = y[X_pretrain.index]"
   ],
   "id": "f6c9fc1cad7e52ac",
   "outputs": [],
   "execution_count": 5
  },
  {
   "metadata": {},
   "cell_type": "markdown",
   "source": "The category_encoders package in scikit-learn-contrib implements an m-estimate encoder, which we'll use to encode our Zipcode feature.",
   "id": "4f48fc0b1330021e"
  },
  {
   "metadata": {},
   "cell_type": "markdown",
   "source": "",
   "id": "f2abc50a480ebcad"
  },
  {
   "metadata": {
    "ExecuteTime": {
     "end_time": "2024-09-25T21:31:59.741887Z",
     "start_time": "2024-09-25T21:31:58.558719Z"
    }
   },
   "cell_type": "code",
   "source": [
    "# Create the encoder instance. Choose m to control noise.\n",
    "encoder = MEstimateEncoder(cols=[\"Zipcode\"], m=5.0)\n",
    "\n",
    "# Fit the encoder on the encoding split.\n",
    "encoder.fit(X_encode, y_encode)\n",
    "\n",
    "# Encode the Zipcode column to create the final training data\n",
    "X_train = encoder.transform(X_pretrain)"
   ],
   "id": "6d310ec8afa806dc",
   "outputs": [],
   "execution_count": 6
  },
  {
   "metadata": {},
   "cell_type": "markdown",
   "source": "Let's compare the encoded values to the target to see how informative our encoding might be.",
   "id": "24c15cf5c96e8436"
  },
  {
   "metadata": {
    "ExecuteTime": {
     "end_time": "2024-09-25T21:32:27.363547Z",
     "start_time": "2024-09-25T21:32:17.441611Z"
    }
   },
   "cell_type": "code",
   "source": [
    "plt.figure(dpi=90)\n",
    "ax = sns.distplot(y, kde=False, norm_hist=True)\n",
    "ax = sns.kdeplot(X_train.Zipcode, color='r', ax=ax)\n",
    "ax.set_xlabel(\"Rating\")\n",
    "ax.legend(labels=['Zipcode', 'Rating']);"
   ],
   "id": "b5cd3273b299b952",
   "outputs": [
    {
     "data": {
      "text/plain": [
       "<Figure size 576x432 with 1 Axes>"
      ],
      "image/png": "[encoded data removed]"
     },
     "metadata": {},
     "output_type": "display_data"
    }
   ],
   "execution_count": 7
  },
  {
   "metadata": {},
   "cell_type": "markdown",
   "source": "The distribution of the encoded Zipcode feature roughly follows the distribution of the actual ratings, meaning that movie-watchers differed enough in their ratings from zipcode to zipcode that our target encoding was able to capture useful information.",
   "id": "dbc0aa2e864ec783"
  }
 ],
 "metadata": {
  "kernelspec": {
   "display_name": "Python 3",
   "language": "python",
   "name": "python3"
  },
  "language_info": {
   "codemirror_mode": {
    "name": "ipython",
    "version": 2
   },
   "file_extension": ".py",
   "mimetype": "text/x-python",
   "name": "python",
   "nbconvert_exporter": "python",
   "pygments_lexer": "ipython2",
   "version": "2.7.6"
  }
 },
 "nbformat": 4,
 "nbformat_minor": 5
}

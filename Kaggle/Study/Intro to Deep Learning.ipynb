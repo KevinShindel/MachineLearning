{
 "cells": [
  {
   "metadata": {},
   "cell_type": "markdown",
   "source": [
    "# Deep Learning\n",
    "\n",
    "Using Keras and Tensorflow you'll learn how to:\n",
    "\n",
    "+ create a fully-connected neural network architecture\n",
    "+ apply neural nets to two classic ML problems: regression and classification\n",
    "+ train neural nets with stochastic gradient descent, and\n",
    "+ improve performance with dropout, batch normalization, and other techniques\n",
    "\n",
    "The tutorials will introduce you to these topics with fully-worked examples, and then in the exercises, you'll explore these topics in more depth and apply them to real-world datasets."
   ],
   "id": "685ed99f8f278d4b"
  },
  {
   "metadata": {},
   "cell_type": "markdown",
   "source": [
    "So what is deep learning? Deep learning is an approach to machine learning characterized by **deep stacks of computations**. This depth of computation is what has enabled deep \n",
    "learning models to disentangle the kinds of complex and hierarchical patterns found in the most challenging real-world datasets.\n",
    "\n",
    "##### The Linear Unit\n",
    "\n",
    "So let's begin with the fundamental component of a neural network: the individual neuron. \n",
    "\n",
    "## Linear Units in Keras\n",
    "The easiest way to create a model in Keras is through keras.Sequential, which creates a neural network as a stack of layers. We can create models like those above using a dense layer (which we'll learn more about in the next lesson)."
   ],
   "id": "ad12b082ecbd83ab"
  },
  {
   "metadata": {},
   "cell_type": "code",
   "outputs": [],
   "execution_count": null,
   "source": [
    "from tensorflow import keras\n",
    "from tensorflow.keras import layers\n",
    "import tensorflow as tf\n",
    "import matplotlib.pyplot as plt\n",
    "import pandas as pd\n",
    "from IPython.display import display\n",
    "from keras.src.callbacks import EarlyStopping\n",
    "from sklearn.preprocessing import StandardScaler, OneHotEncoder\n",
    "from sklearn.compose import make_column_transformer, make_column_selector\n",
    "import numpy as np"
   ],
   "id": "bbc7fd05f8939b64"
  },
  {
   "metadata": {},
   "cell_type": "code",
   "outputs": [],
   "execution_count": null,
   "source": [
    "# Set Matplotlib defaults\n",
    "plt.rc('figure', autolayout=True)\n",
    "plt.rc('axes', labelweight='bold', labelsize='large',\n",
    "       titleweight='bold', titlesize=18, titlepad=10)"
   ],
   "id": "a2a06c5c44b543cc"
  },
  {
   "metadata": {},
   "cell_type": "code",
   "outputs": [],
   "execution_count": null,
   "source": [
    "# Create a network with 1 linear unit\n",
    "model = keras.Sequential([\n",
    "    layers.Dense(\n",
    "        units=1, # With the first argument, units, we define how many outputs we want. In this case we are just predicting 'calories', so we'll use units=1.\n",
    "        input_shape=[3] # linear model accepting three input features ('sugars', 'fiber', and 'protein')\n",
    "    )\n",
    "])\n",
    "\n",
    "# This model is now ready to be fit to training data!"
   ],
   "id": "ebccc2867749945"
  },
  {
   "metadata": {},
   "cell_type": "markdown",
   "source": [
    "### Why is input_shape a Python list?\n",
    "\n",
    "The data we'll use in this course will be tabular data, like in a Pandas dataframe. We'll have one input for each feature in the dataset. The features are arranged by column, so we'll always have input_shape=[num_columns]. The reason Keras uses a list here is to permit use of more complex datasets. Image data, for instance, might need three dimensions: [height, width, channels]."
   ],
   "id": "1eb990b3927484bd"
  },
  {
   "metadata": {},
   "cell_type": "markdown",
   "source": [
    "In the tutorial we learned about the building blocks of neural networks: linear units. We saw that a model of just one linear unit will fit a linear function to a dataset (equivalent to linear regression). In this exercise, you'll build a linear model and get some practice working with models in Keras.\n",
    "\n",
    "Before you get started, run the code cell below to set everything up."
   ],
   "id": "4e147cfae3c2a2c1"
  },
  {
   "metadata": {
    "ExecuteTime": {
     "end_time": "2024-09-27T14:45:33.379187Z",
     "start_time": "2024-09-27T14:45:33.343357Z"
    }
   },
   "cell_type": "code",
   "source": [
    "# The Red Wine Quality dataset consists of physiochemical measurements from about 1600 Portuguese red wines. Also included is a quality rating for each wine from blind taste-tests.\n",
    "\n",
    "# First, run the next cell to display the first few rows of this dataset.\n",
    "\n",
    "red_wine = pd.read_csv('../../dataset/red-wine.csv')\n",
    "red_wine.head()"
   ],
   "id": "d1ead20ecd6ed1cb",
   "outputs": [
    {
     "data": {
      "text/plain": [
       "   fixed acidity  volatile acidity  citric acid  residual sugar  chlorides  \\\n",
       "0            7.4              0.70         0.00             1.9      0.076   \n",
       "1            7.8              0.88         0.00             2.6      0.098   \n",
       "2            7.8              0.76         0.04             2.3      0.092   \n",
       "3           11.2              0.28         0.56             1.9      0.075   \n",
       "4            7.4              0.70         0.00             1.9      0.076   \n",
       "\n",
       "   free sulfur dioxide  total sulfur dioxide  density    pH  sulphates  \\\n",
       "0                 11.0                  34.0   0.9978  3.51       0.56   \n",
       "1                 25.0                  67.0   0.9968  3.20       0.68   \n",
       "2                 15.0                  54.0   0.9970  3.26       0.65   \n",
       "3                 17.0                  60.0   0.9980  3.16       0.58   \n",
       "4                 11.0                  34.0   0.9978  3.51       0.56   \n",
       "\n",
       "   alcohol  quality  \n",
       "0      9.4        5  \n",
       "1      9.8        5  \n",
       "2      9.8        5  \n",
       "3      9.8        6  \n",
       "4      9.4        5  "
      ],
      "text/html": [
       "<div>\n",
       "<style scoped>\n",
       "    .dataframe tbody tr th:only-of-type {\n",
       "        vertical-align: middle;\n",
       "    }\n",
       "\n",
       "    .dataframe tbody tr th {\n",
       "        vertical-align: top;\n",
       "    }\n",
       "\n",
       "    .dataframe thead th {\n",
       "        text-align: right;\n",
       "    }\n",
       "</style>\n",
       "<table border=\"1\" class=\"dataframe\">\n",
       "  <thead>\n",
       "    <tr style=\"text-align: right;\">\n",
       "      <th></th>\n",
       "      <th>fixed acidity</th>\n",
       "      <th>volatile acidity</th>\n",
       "      <th>citric acid</th>\n",
       "      <th>residual sugar</th>\n",
       "      <th>chlorides</th>\n",
       "      <th>free sulfur dioxide</th>\n",
       "      <th>total sulfur dioxide</th>\n",
       "      <th>density</th>\n",
       "      <th>pH</th>\n",
       "      <th>sulphates</th>\n",
       "      <th>alcohol</th>\n",
       "      <th>quality</th>\n",
       "    </tr>\n",
       "  </thead>\n",
       "  <tbody>\n",
       "    <tr>\n",
       "      <th>0</th>\n",
       "      <td>7.4</td>\n",
       "      <td>0.70</td>\n",
       "      <td>0.00</td>\n",
       "      <td>1.9</td>\n",
       "      <td>0.076</td>\n",
       "      <td>11.0</td>\n",
       "      <td>34.0</td>\n",
       "      <td>0.9978</td>\n",
       "      <td>3.51</td>\n",
       "      <td>0.56</td>\n",
       "      <td>9.4</td>\n",
       "      <td>5</td>\n",
       "    </tr>\n",
       "    <tr>\n",
       "      <th>1</th>\n",
       "      <td>7.8</td>\n",
       "      <td>0.88</td>\n",
       "      <td>0.00</td>\n",
       "      <td>2.6</td>\n",
       "      <td>0.098</td>\n",
       "      <td>25.0</td>\n",
       "      <td>67.0</td>\n",
       "      <td>0.9968</td>\n",
       "      <td>3.20</td>\n",
       "      <td>0.68</td>\n",
       "      <td>9.8</td>\n",
       "      <td>5</td>\n",
       "    </tr>\n",
       "    <tr>\n",
       "      <th>2</th>\n",
       "      <td>7.8</td>\n",
       "      <td>0.76</td>\n",
       "      <td>0.04</td>\n",
       "      <td>2.3</td>\n",
       "      <td>0.092</td>\n",
       "      <td>15.0</td>\n",
       "      <td>54.0</td>\n",
       "      <td>0.9970</td>\n",
       "      <td>3.26</td>\n",
       "      <td>0.65</td>\n",
       "      <td>9.8</td>\n",
       "      <td>5</td>\n",
       "    </tr>\n",
       "    <tr>\n",
       "      <th>3</th>\n",
       "      <td>11.2</td>\n",
       "      <td>0.28</td>\n",
       "      <td>0.56</td>\n",
       "      <td>1.9</td>\n",
       "      <td>0.075</td>\n",
       "      <td>17.0</td>\n",
       "      <td>60.0</td>\n",
       "      <td>0.9980</td>\n",
       "      <td>3.16</td>\n",
       "      <td>0.58</td>\n",
       "      <td>9.8</td>\n",
       "      <td>6</td>\n",
       "    </tr>\n",
       "    <tr>\n",
       "      <th>4</th>\n",
       "      <td>7.4</td>\n",
       "      <td>0.70</td>\n",
       "      <td>0.00</td>\n",
       "      <td>1.9</td>\n",
       "      <td>0.076</td>\n",
       "      <td>11.0</td>\n",
       "      <td>34.0</td>\n",
       "      <td>0.9978</td>\n",
       "      <td>3.51</td>\n",
       "      <td>0.56</td>\n",
       "      <td>9.4</td>\n",
       "      <td>5</td>\n",
       "    </tr>\n",
       "  </tbody>\n",
       "</table>\n",
       "</div>"
      ]
     },
     "execution_count": 2,
     "metadata": {},
     "output_type": "execute_result"
    }
   ],
   "execution_count": 2
  },
  {
   "metadata": {},
   "cell_type": "markdown",
   "source": [
    "## 1) Input shape\n",
    "How well can we predict a wine's perceived quality from the physiochemical measurements?\n",
    "\n",
    "The target is 'quality', and the remaining columns are the features. How would you set the input_shape parameter for a Keras model on this task?"
   ],
   "id": "53129cc7e85a854a"
  },
  {
   "metadata": {
    "ExecuteTime": {
     "end_time": "2024-09-27T14:48:16.021132Z",
     "start_time": "2024-09-27T14:48:16.018077Z"
    }
   },
   "cell_type": "code",
   "source": "input_shape = [red_wine.shape[1] - 1] # number of columns minus the target",
   "id": "2f5c6046feff2f68",
   "outputs": [],
   "execution_count": 7
  },
  {
   "metadata": {},
   "cell_type": "markdown",
   "source": [
    "## 2) Define a linear model\n",
    "Now define a linear model appropriate for this task. Pay attention to how many inputs and outputs the model should have.\n",
    "\n"
   ],
   "id": "d41bb47053c51244"
  },
  {
   "metadata": {
    "ExecuteTime": {
     "end_time": "2024-09-27T14:51:21.370269Z",
     "start_time": "2024-09-27T14:51:21.357153Z"
    }
   },
   "cell_type": "code",
   "source": [
    "model = keras.Sequential([\n",
    "    layers.Input(shape=input_shape), # input_shape is a feature list from red_wine dataset minus the target column\n",
    "    layers.Dense(units=1) # output layer defines a target column 'quality'\n",
    "])\n"
   ],
   "id": "b711641f95840c43",
   "outputs": [],
   "execution_count": 9
  },
  {
   "metadata": {},
   "cell_type": "markdown",
   "source": [
    "## 3) Look at the weights\n",
    "Internally, Keras represents the weights of a neural network with tensors. Tensors are basically TensorFlow's version of a Numpy array with a few differences that make them better suited to deep learning. One of the most important is that tensors are compatible with GPU and TPU) accelerators. TPUs, in fact, are designed specifically for tensor computations.\n",
    "\n",
    "A model's weights are kept in its weights attribute as a list of tensors. Get the weights of the model you defined above. (If you want, you could display the weights with something like: print(\"Weights\\n{}\\n\\nBias\\n{}\".format(w, b)))."
   ],
   "id": "58e48e21e499c57c"
  },
  {
   "metadata": {
    "ExecuteTime": {
     "end_time": "2024-09-27T14:55:29.919829Z",
     "start_time": "2024-09-27T14:55:29.906942Z"
    }
   },
   "cell_type": "code",
   "source": [
    "# Get the weights of the model\n",
    "weights, biases = model.get_weights()\n",
    "\n",
    "# Display the weights and biases\n",
    "print(\"Weights\\n{}\\n\\nBias\\n{}\".format(weights, biases))"
   ],
   "id": "146b1585f1b1b882",
   "outputs": [
    {
     "name": "stdout",
     "output_type": "stream",
     "text": [
      "Weights\n",
      "[[-0.65181077]\n",
      " [ 0.11688161]\n",
      " [-0.02093232]\n",
      " [ 0.17192155]\n",
      " [-0.42739096]\n",
      " [ 0.31833297]\n",
      " [ 0.2367006 ]\n",
      " [-0.14797574]\n",
      " [-0.37061173]\n",
      " [ 0.08445114]\n",
      " [ 0.48033124]]\n",
      "\n",
      "Bias\n",
      "[0.]\n"
     ]
    }
   ],
   "execution_count": 10
  },
  {
   "metadata": {},
   "cell_type": "markdown",
   "source": [
    "## Optional: Plot the output of an untrained linear model\n",
    "\n",
    "The kinds of problems we'll work on through Lesson 5 will be regression problems, where the goal is to predict some numeric target. Regression problems are like \"curve-fitting\" problems: we're trying to find a curve that best fits the data. Let's take a look at the \"curve\" produced by a linear model. (You've probably guessed that it's a line!)\n",
    "\n",
    "We mentioned that before training a model's weights are set randomly. Run the cell below a few times to see the different lines produced with a random initialization. (There's no coding for this exercise -- it's just a demonstration.)"
   ],
   "id": "75a9ef4ffd68f40c"
  },
  {
   "metadata": {
    "ExecuteTime": {
     "end_time": "2024-09-27T14:57:19.504102Z",
     "start_time": "2024-09-27T14:57:19.023865Z"
    }
   },
   "cell_type": "code",
   "source": [
    "\n",
    "\n",
    "model = keras.Sequential([\n",
    "    layers.Dense(1, input_shape=[1]),\n",
    "])\n",
    "\n",
    "x = tf.linspace(-1.0, 1.0, 100)\n",
    "y = model.predict(x)\n",
    "\n",
    "plt.figure(dpi=100)\n",
    "plt.plot(x, y, 'k')\n",
    "plt.xlim(-1, 1)\n",
    "plt.ylim(-1, 1)\n",
    "plt.xlabel(\"Input: x\")\n",
    "plt.ylabel(\"Target y\")\n",
    "w, b = model.weights # you could also use model.get_weights() here\n",
    "plt.title(\"Weight: {:0.2f}\\nBias: {:0.2f}\".format(w[0][0], b[0]))\n",
    "plt.show()"
   ],
   "id": "a7a54e9e91815fbf",
   "outputs": [
    {
     "name": "stdout",
     "output_type": "stream",
     "text": [
      "\u001B[1m1/4\u001B[0m \u001B[32m━━━━━\u001B[0m\u001B[37m━━━━━━━━━━━━━━━\u001B[0m \u001B[1m0s\u001B[0m 60ms/step"
     ]
    },
    {
     "name": "stderr",
     "output_type": "stream",
     "text": [
      "C:\\Users\\Tymur_Hilfatullin\\Projects\\ML\\.venv\\Lib\\site-packages\\keras\\src\\layers\\core\\dense.py:87: UserWarning: Do not pass an `input_shape`/`input_dim` argument to a layer. When using Sequential models, prefer using an `Input(shape)` object as the first layer in the model instead.\n",
      "  super().__init__(activity_regularizer=activity_regularizer, **kwargs)\n"
     ]
    },
    {
     "name": "stdout",
     "output_type": "stream",
     "text": [
      "\u001B[1m4/4\u001B[0m \u001B[32m━━━━━━━━━━━━━━━━━━━━\u001B[0m\u001B[37m\u001B[0m \u001B[1m0s\u001B[0m 7ms/step \n"
     ]
    },
    {
     "data": {
      "text/plain": [
       "<Figure size 640x480 with 1 Axes>"
      ],
      "image/png": "[encoded data removed]"
     },
     "metadata": {},
     "output_type": "display_data"
    }
   ],
   "execution_count": 11
  },
  {
   "metadata": {},
   "cell_type": "markdown",
   "source": [
    "# Layers\n",
    "\n",
    "Neural networks typically organize their neurons into layers. \n",
    "When we collect together linear units having a common set of inputs we get a dense layer.\n",
    "\n",
    "You could think of each layer in a neural network as performing some kind of relatively simple transformation. \n",
    "Through a deep stack of layers, a neural network can transform its inputs in more and more complex ways. \n",
    "In a well-trained neural network, each layer is a transformation getting us a little bit closer to a solution."
   ],
   "id": "905ab5a0af240bd6"
  },
  {
   "metadata": {},
   "cell_type": "markdown",
   "source": [
    "## Many Kinds of Layers\n",
    "\n",
    "A \"layer\" in Keras is a very general kind of thing. A layer can be, essentially, any kind of data transformation. Many layers, like the convolutional and recurrent layers, transform data through use of neurons and differ primarily in the pattern of connections they form. Others though are used for feature engineering or just simple arithmetic. There's a whole world of layers to discover -- check them out!"
   ],
   "id": "bb15c8a3d5040812"
  },
  {
   "metadata": {},
   "cell_type": "markdown",
   "source": [
    "## The Activation Function\n",
    "\n",
    "It turns out, however, that two dense layers with nothing in between are no better than a single dense layer by itself. Dense layers by themselves can never move us out of the world of lines and planes. What we need is something nonlinear. What we need are activation functions.\n",
    "\n",
    "An activation function is simply some function we apply to each of a layer's outputs (its activations). The most common is the rectifier function \n",
    " "
   ],
   "id": "d434c19b88f3238a"
  },
  {
   "metadata": {},
   "cell_type": "markdown",
   "source": [
    "## Stacking Dense Layers\n",
    "\n",
    "Now that we have some nonlinearity, let's see how we can stack layers to get complex data transformations.\n",
    "\n",
    "The layers before the output layer are sometimes called hidden since we never see their outputs directly.\n",
    "\n",
    "Now, notice that the final (output) layer is a linear unit (meaning, no activation function).\n",
    " That makes this network appropriate to a regression task, where we are trying to predict some arbitrary numeric value. Other tasks (like classification) might require an activation function on the output.\n"
   ],
   "id": "1eed6401d8196697"
  },
  {
   "metadata": {},
   "cell_type": "markdown",
   "source": [
    "# Building Sequential Models\n",
    "\n",
    "The Sequential model we've been using will connect together a list of layers in order from first to last: \n",
    "the first layer gets the input, the last layer produces the output. \n",
    "\n",
    "This creates the model in the figure above:"
   ],
   "id": "ceb213d74422d169"
  },
  {
   "metadata": {
    "ExecuteTime": {
     "end_time": "2024-09-27T15:17:10.903424Z",
     "start_time": "2024-09-27T15:17:10.877570Z"
    }
   },
   "cell_type": "code",
   "source": [
    "model = keras.Sequential([\n",
    "    # the hidden ReLU layers\n",
    "    layers.Input(shape=[2]),\n",
    "    layers.Dense(units=4, activation='relu'),\n",
    "    layers.Dense(units=3, activation='relu'),\n",
    "    # the linear output layer \n",
    "    layers.Dense(units=1),\n",
    "])\n",
    "\n",
    "# Sometimes though you'll want to put some other layer between the Dense layer and its activation function. \n",
    "# (We'll see an example of this in Lesson 5 with batch normalization.) \n",
    "# In this case, we can define the activation in its own Activation layer, like so:\n",
    "\n",
    "# layers.Dense(units=8),\n",
    "# layers.Activation('relu')\n",
    "\n",
    "model = keras.Sequential([\n",
    "    # the hidden ReLU layers\n",
    "    layers.Input(shape=[2]),\n",
    "    layers.Dense(units=4),\n",
    "    layers.Activation('relu'),\n",
    "    layers.Dense(units=3),\n",
    "    layers.Activation('relu'),\n",
    "    # the linear output layer \n",
    "    layers.Dense(units=1),\n",
    "])"
   ],
   "id": "90ffd7a2ab77cef3",
   "outputs": [],
   "execution_count": 13
  },
  {
   "metadata": {},
   "cell_type": "markdown",
   "source": [
    "# Stochastic Gradient Descent\n",
    "\n",
    "As with all machine learning tasks, we begin with a set of training data. Each example in the training data consists of some features (the inputs) together with an expected target (the output). Training the network means adjusting its weights in such a way that it can transform the features into the target. In the 80 Cereals dataset, for instance, we want a network that can take each cereal's 'sugar', 'fiber', and 'protein' content and produce a prediction for that cereal's 'calories'. If we can successfully train a network to do that, its weights must represent in some way the relationship between those features and that target as expressed in the training data.\n",
    "\n",
    "In addition to the training data, we need two more things:\n",
    "\n",
    "- A \"loss function\" that measures how good the network's predictions are.\n",
    "- An \"optimizer\" that can tell the network how to change its weights."
   ],
   "id": "765aa57b2782ad41"
  },
  {
   "metadata": {},
   "cell_type": "markdown",
   "source": [
    "## The Loss Function\n",
    "\n",
    "We've seen how to design an architecture for a network, but we haven't seen how to tell a network what problem to solve. This is the job of the loss function.\n",
    "\n",
    "The loss function measures the disparity between the the target's true value and the value the model predicts.\n",
    "\n",
    "Different problems call for different loss functions. We have been looking at regression problems, where the task is to predict some numerical value -- calories in 80 Cereals, rating in Red Wine Quality. Other regression tasks might be predicting the price of a house or the fuel efficiency of a car.\n",
    "\n",
    "A common loss function for regression problems is the mean absolute error or MAE. For each prediction y_pred, MAE measures the disparity from the true target y_true by an absolute difference abs(y_true - y_pred).\n",
    "\n",
    "![Mean Absolute Error](https://storage.googleapis.com/kaggle-media/learn/images/VDcvkZN.png)"
   ],
   "id": "dda1a90a95547d02"
  },
  {
   "metadata": {},
   "cell_type": "markdown",
   "source": [
    "## The Optimizer - Stochastic Gradient Descent\n",
    "\n",
    "We've described the problem we want the network to solve, but now we need to say how to solve it. This is the job of the optimizer. The optimizer is an algorithm that adjusts the weights to minimize the loss.\n",
    "\n",
    "Virtually all of the optimization algorithms used in deep learning belong to a family called stochastic gradient descent. They are iterative algorithms that train a network in steps. One step of training goes like this:\n",
    "\n",
    "Sample some training data and run it through the network to make predictions.\n",
    "Measure the loss between the predictions and the true values.\n",
    "Finally, adjust the weights in a direction that makes the loss smaller.\n",
    "Then just do this over and over until the loss is as small as you like (or until it won't decrease any further.)\n",
    "\n",
    "![Stochastic Gradient Descent](https://storage.googleapis.com/kaggle-media/learn/images/rFI1tIk.gif)\n",
    "\n",
    "Each iteration's sample of training data is called a minibatch (or often just \"batch\"), while a complete round of the training data is called an epoch. The number of epochs you train for is how many times the network will see each training example.\n",
    "\n",
    "The animation shows the linear model from Lesson 1 being trained with SGD. The pale red dots depict the entire training set, while the solid red dots are the minibatches. Every time SGD sees a new minibatch, it will shift the weights (w the slope and b the y-intercept) toward their correct values on that batch. Batch after batch, the line eventually converges to its best fit. You can see that the loss gets smaller as the weights get closer to their true values."
   ],
   "id": "e8290fc69289a53e"
  },
  {
   "metadata": {},
   "cell_type": "markdown",
   "source": [
    "## Learning Rate and Batch Size\n",
    "\n",
    "Notice that the line only makes a small shift in the direction of each batch (instead of moving all the way). The size of these shifts is determined by the learning rate. A smaller learning rate means the network needs to see more minibatches before its weights converge to their best values.\n",
    "\n",
    "The learning rate and the size of the minibatches are the two parameters that have the largest effect on how the SGD training proceeds. Their interaction is often subtle and the right choice for these parameters isn't always obvious. (We'll explore these effects in the exercise.)\n",
    "\n",
    "Fortunately, for most work it won't be necessary to do an extensive hyperparameter search to get satisfactory results. Adam is an SGD algorithm that has an adaptive learning rate that makes it suitable for most problems without any parameter tuning (it is \"self tuning\", in a sense). Adam is a great general-purpose optimizer."
   ],
   "id": "6aef20b9a87a8018"
  },
  {
   "metadata": {},
   "cell_type": "code",
   "outputs": [],
   "execution_count": null,
   "source": [
    "# Adding the Loss and Optimizer\n",
    "# After defining a model, you can add a loss function and optimizer with the model's compile method:\n",
    "\n",
    "model.compile(\n",
    "    optimizer=\"adam\", # adam is a good optimizer\n",
    "    loss=\"mae\", # mae is a good loss function for regression problems\n",
    ")"
   ],
   "id": "e3c17a140c98c9ae"
  },
  {
   "metadata": {},
   "cell_type": "markdown",
   "source": [
    "## What's In a Name?\n",
    "\n",
    "The gradient is a vector that tells us in what direction the weights need to go.\n",
    "More precisely, it tells us how to change the weights to make the loss change fastest.\n",
    "We call our process gradient descent because it uses the gradient to descend the loss curve towards a minimum.\n",
    "Stochastic means \"determined by chance.\"\n",
    "Our training is stochastic because the minibatches are random samples from the dataset. And that's why it's called SGD!"
   ],
   "id": "34448a6089200006"
  },
  {
   "metadata": {},
   "cell_type": "markdown",
   "source": [
    "# Example - Red Wine Quality\n",
    "\n",
    "This dataset consists of physiochemical measurements from about 1600 Portuguese red wines. Also included is a quality rating for each wine from blind taste-tests. How well can we predict a wine's perceived quality from these measurements?\n",
    "\n",
    "We've put all of the data preparation into this next hidden cell.\n",
    " It's not essential to what follows so feel free to skip it. One thing you might note for now though is that we've rescaled each feature to lie in the interval  [0,1] .\n",
    " As we'll discuss more in Lesson 5, neural networks tend to perform best when their inputs are on a common scale."
   ],
   "id": "1f453f7f1b4609a4"
  },
  {
   "metadata": {
    "ExecuteTime": {
     "end_time": "2024-09-27T15:55:40.582862Z",
     "start_time": "2024-09-27T15:55:40.503243Z"
    }
   },
   "cell_type": "code",
   "source": [
    "red_wine = pd.read_csv('../../dataset/red-wine.csv')\n",
    "\n",
    "# Create training and validation splits\n",
    "df_train = red_wine.sample(frac=0.7, random_state=0)\n",
    "df_valid = red_wine.drop(df_train.index)\n",
    "display(df_train.head(4))\n",
    "\n",
    "# Scale to [0, 1]\n",
    "max_ = df_train.max(axis=0)\n",
    "min_ = df_train.min(axis=0)\n",
    "df_train = (df_train - min_) / (max_ - min_)\n",
    "df_valid = (df_valid - min_) / (max_ - min_)\n",
    "\n",
    "# Split features and target\n",
    "X_train = df_train.drop('quality', axis=1)\n",
    "X_valid = df_valid.drop('quality', axis=1)\n",
    "y_train = df_train['quality']\n",
    "y_valid = df_valid['quality']"
   ],
   "id": "108f2603d58fd29a",
   "outputs": [
    {
     "data": {
      "text/plain": [
       "      fixed acidity  volatile acidity  citric acid  residual sugar  chlorides  \\\n",
       "1109           10.8             0.470         0.43            2.10      0.171   \n",
       "1032            8.1             0.820         0.00            4.10      0.095   \n",
       "1002            9.1             0.290         0.33            2.05      0.063   \n",
       "487            10.2             0.645         0.36            1.80      0.053   \n",
       "\n",
       "      free sulfur dioxide  total sulfur dioxide  density    pH  sulphates  \\\n",
       "1109                 27.0                  66.0  0.99820  3.17       0.76   \n",
       "1032                  5.0                  14.0  0.99854  3.36       0.53   \n",
       "1002                 13.0                  27.0  0.99516  3.26       0.84   \n",
       "487                   5.0                  14.0  0.99820  3.17       0.42   \n",
       "\n",
       "      alcohol  quality  \n",
       "1109     10.8        6  \n",
       "1032      9.6        5  \n",
       "1002     11.7        7  \n",
       "487      10.0        6  "
      ],
      "text/html": [
       "<div>\n",
       "<style scoped>\n",
       "    .dataframe tbody tr th:only-of-type {\n",
       "        vertical-align: middle;\n",
       "    }\n",
       "\n",
       "    .dataframe tbody tr th {\n",
       "        vertical-align: top;\n",
       "    }\n",
       "\n",
       "    .dataframe thead th {\n",
       "        text-align: right;\n",
       "    }\n",
       "</style>\n",
       "<table border=\"1\" class=\"dataframe\">\n",
       "  <thead>\n",
       "    <tr style=\"text-align: right;\">\n",
       "      <th></th>\n",
       "      <th>fixed acidity</th>\n",
       "      <th>volatile acidity</th>\n",
       "      <th>citric acid</th>\n",
       "      <th>residual sugar</th>\n",
       "      <th>chlorides</th>\n",
       "      <th>free sulfur dioxide</th>\n",
       "      <th>total sulfur dioxide</th>\n",
       "      <th>density</th>\n",
       "      <th>pH</th>\n",
       "      <th>sulphates</th>\n",
       "      <th>alcohol</th>\n",
       "      <th>quality</th>\n",
       "    </tr>\n",
       "  </thead>\n",
       "  <tbody>\n",
       "    <tr>\n",
       "      <th>1109</th>\n",
       "      <td>10.8</td>\n",
       "      <td>0.470</td>\n",
       "      <td>0.43</td>\n",
       "      <td>2.10</td>\n",
       "      <td>0.171</td>\n",
       "      <td>27.0</td>\n",
       "      <td>66.0</td>\n",
       "      <td>0.99820</td>\n",
       "      <td>3.17</td>\n",
       "      <td>0.76</td>\n",
       "      <td>10.8</td>\n",
       "      <td>6</td>\n",
       "    </tr>\n",
       "    <tr>\n",
       "      <th>1032</th>\n",
       "      <td>8.1</td>\n",
       "      <td>0.820</td>\n",
       "      <td>0.00</td>\n",
       "      <td>4.10</td>\n",
       "      <td>0.095</td>\n",
       "      <td>5.0</td>\n",
       "      <td>14.0</td>\n",
       "      <td>0.99854</td>\n",
       "      <td>3.36</td>\n",
       "      <td>0.53</td>\n",
       "      <td>9.6</td>\n",
       "      <td>5</td>\n",
       "    </tr>\n",
       "    <tr>\n",
       "      <th>1002</th>\n",
       "      <td>9.1</td>\n",
       "      <td>0.290</td>\n",
       "      <td>0.33</td>\n",
       "      <td>2.05</td>\n",
       "      <td>0.063</td>\n",
       "      <td>13.0</td>\n",
       "      <td>27.0</td>\n",
       "      <td>0.99516</td>\n",
       "      <td>3.26</td>\n",
       "      <td>0.84</td>\n",
       "      <td>11.7</td>\n",
       "      <td>7</td>\n",
       "    </tr>\n",
       "    <tr>\n",
       "      <th>487</th>\n",
       "      <td>10.2</td>\n",
       "      <td>0.645</td>\n",
       "      <td>0.36</td>\n",
       "      <td>1.80</td>\n",
       "      <td>0.053</td>\n",
       "      <td>5.0</td>\n",
       "      <td>14.0</td>\n",
       "      <td>0.99820</td>\n",
       "      <td>3.17</td>\n",
       "      <td>0.42</td>\n",
       "      <td>10.0</td>\n",
       "      <td>6</td>\n",
       "    </tr>\n",
       "  </tbody>\n",
       "</table>\n",
       "</div>"
      ]
     },
     "metadata": {},
     "output_type": "display_data"
    }
   ],
   "execution_count": 14
  },
  {
   "metadata": {
    "ExecuteTime": {
     "end_time": "2024-09-27T16:03:04.775897Z",
     "start_time": "2024-09-27T16:03:04.642682Z"
    }
   },
   "cell_type": "code",
   "source": [
    "# Eleven columns means eleven inputs.\n",
    "\n",
    "# We've chosen a three-layer network with over 1500 neurons. This network should be capable of learning fairly complex relationships in the data.\n",
    "\n",
    "input_shape = [X_train.shape[1]] # number of columns in the training data\n",
    "\n",
    "model = keras.Sequential([\n",
    "    layers.Input(shape=[11]),\n",
    "    layers.Dense(512),\n",
    "    layers.Activation('relu'),\n",
    "    layers.Dense(512),\n",
    "    layers.Activation('relu'),\n",
    "    layers.Dense(512),\n",
    "    layers.Activation('relu'),\n",
    "    layers.Dense(1),\n",
    "])\n",
    "\n",
    "# Deciding the architecture of your model should be part of a process.\n",
    "# Start simple and use the validation loss as your guide.\n",
    "# You'll learn more about model development in the exercises.\n",
    "\n",
    "# After defining the model, we compile in the optimizer and loss function.\n",
    "\n",
    "model.compile(\n",
    "    optimizer='adam',\n",
    "    loss='mae',\n",
    ")"
   ],
   "id": "1cf0f1650fd17d5f",
   "outputs": [],
   "execution_count": 15
  },
  {
   "metadata": {},
   "cell_type": "markdown",
   "source": [
    "Now we're ready to start the training! \n",
    "\n",
    "We've told Keras to feed the optimizer 256 rows of the training data at a time (the batch_size) and to do that 10 times all the way through the dataset (the epochs)."
   ],
   "id": "c750ea084a80ff49"
  },
  {
   "metadata": {
    "ExecuteTime": {
     "end_time": "2024-09-27T16:03:16.144822Z",
     "start_time": "2024-09-27T16:03:09.380829Z"
    }
   },
   "cell_type": "code",
   "source": [
    "history = model.fit(\n",
    "    X_train, y_train,\n",
    "    validation_data=(X_valid, y_valid),\n",
    "    batch_size=256,\n",
    "    epochs=10,\n",
    ")"
   ],
   "id": "c96ae16f1fd94ecb",
   "outputs": [
    {
     "name": "stdout",
     "output_type": "stream",
     "text": [
      "Epoch 1/10\n",
      "\u001B[1m5/5\u001B[0m \u001B[32m━━━━━━━━━━━━━━━━━━━━\u001B[0m\u001B[37m\u001B[0m \u001B[1m4s\u001B[0m 125ms/step - loss: 0.3502 - val_loss: 0.1353\n",
      "Epoch 2/10\n",
      "\u001B[1m5/5\u001B[0m \u001B[32m━━━━━━━━━━━━━━━━━━━━\u001B[0m\u001B[37m\u001B[0m \u001B[1m0s\u001B[0m 37ms/step - loss: 0.1444 - val_loss: 0.1266\n",
      "Epoch 3/10\n",
      "\u001B[1m5/5\u001B[0m \u001B[32m━━━━━━━━━━━━━━━━━━━━\u001B[0m\u001B[37m\u001B[0m \u001B[1m0s\u001B[0m 38ms/step - loss: 0.1291 - val_loss: 0.1181\n",
      "Epoch 4/10\n",
      "\u001B[1m5/5\u001B[0m \u001B[32m━━━━━━━━━━━━━━━━━━━━\u001B[0m\u001B[37m\u001B[0m \u001B[1m0s\u001B[0m 49ms/step - loss: 0.1143 - val_loss: 0.1136\n",
      "Epoch 5/10\n",
      "\u001B[1m5/5\u001B[0m \u001B[32m━━━━━━━━━━━━━━━━━━━━\u001B[0m\u001B[37m\u001B[0m \u001B[1m0s\u001B[0m 42ms/step - loss: 0.1116 - val_loss: 0.1063\n",
      "Epoch 6/10\n",
      "\u001B[1m5/5\u001B[0m \u001B[32m━━━━━━━━━━━━━━━━━━━━\u001B[0m\u001B[37m\u001B[0m \u001B[1m0s\u001B[0m 51ms/step - loss: 0.1096 - val_loss: 0.1031\n",
      "Epoch 7/10\n",
      "\u001B[1m5/5\u001B[0m \u001B[32m━━━━━━━━━━━━━━━━━━━━\u001B[0m\u001B[37m\u001B[0m \u001B[1m0s\u001B[0m 44ms/step - loss: 0.1094 - val_loss: 0.1105\n",
      "Epoch 8/10\n",
      "\u001B[1m5/5\u001B[0m \u001B[32m━━━━━━━━━━━━━━━━━━━━\u001B[0m\u001B[37m\u001B[0m \u001B[1m0s\u001B[0m 45ms/step - loss: 0.1074 - val_loss: 0.1050\n",
      "Epoch 9/10\n",
      "\u001B[1m5/5\u001B[0m \u001B[32m━━━━━━━━━━━━━━━━━━━━\u001B[0m\u001B[37m\u001B[0m \u001B[1m0s\u001B[0m 36ms/step - loss: 0.1051 - val_loss: 0.1128\n",
      "Epoch 10/10\n",
      "\u001B[1m5/5\u001B[0m \u001B[32m━━━━━━━━━━━━━━━━━━━━\u001B[0m\u001B[37m\u001B[0m \u001B[1m0s\u001B[0m 41ms/step - loss: 0.1038 - val_loss: 0.1005\n"
     ]
    }
   ],
   "execution_count": 16
  },
  {
   "metadata": {
    "ExecuteTime": {
     "end_time": "2024-09-27T16:03:56.088644Z",
     "start_time": "2024-09-27T16:03:55.742671Z"
    }
   },
   "cell_type": "code",
   "source": [
    "# Let's plot the loss over time.\n",
    "plt.plot(history.history['loss'])\n",
    "plt.plot(history.history['val_loss'])\n",
    "plt.title('Loss vs. epochs')\n",
    "plt.ylabel('Loss')\n",
    "plt.xlabel('Epoch')\n",
    "plt.legend(['Training', 'Validation'], loc='upper right')\n",
    "plt.show()"
   ],
   "id": "be20a16e9ffacdbc",
   "outputs": [
    {
     "data": {
      "text/plain": [
       "<Figure size 640x480 with 1 Axes>"
      ],
      "image/png": "[encoded data removed]"
     },
     "metadata": {},
     "output_type": "display_data"
    }
   ],
   "execution_count": 17
  },
  {
   "metadata": {},
   "cell_type": "markdown",
   "source": [
    "Notice how the loss levels off as the epochs go by.\n",
    " When the loss curve becomes horizontal like that, it means the model has learned all it can and there would be no reason continue for additional epochs."
   ],
   "id": "718c32ecd7535606"
  },
  {
   "metadata": {},
   "cell_type": "markdown",
   "source": "# Optional : Using preprocessor ",
   "id": "e049a15dc6ccd28e"
  },
  {
   "metadata": {},
   "cell_type": "code",
   "outputs": [],
   "execution_count": null,
   "source": [
    "data_df = pd.DataFrame([]) # Dummy data\n",
    "\n",
    "X = data_df.copy() # Make a copy of the data with features \n",
    "# Remove target\n",
    "y = X.pop('FE') # Remove target column for test\n",
    "\n",
    "preprocessor = make_column_transformer(\n",
    "    (StandardScaler(),\n",
    "     make_column_selector(dtype_include=np.number)), # Standardize numeric columns\n",
    "    (OneHotEncoder(sparse_output=False),\n",
    "     make_column_selector(dtype_include=object)), # One-hot encode categorical columns\n",
    ")\n",
    "\n",
    "X = preprocessor.fit_transform(X) # Fit and transform the data\n",
    "y = np.log(y) # log transform target instead of standardizing\n"
   ],
   "id": "2317d4194912a7e5"
  },
  {
   "metadata": {},
   "cell_type": "markdown",
   "source": [
    "# Overfitting and Underfitting\n",
    "\n",
    "Improve performance with extra capacity or early stopping.\n",
    "\n",
    "Recall from the example in the previous lesson that Keras will keep a history of the training and validation loss over the epochs that it is training the model. In this lesson, we're going to learn how to interpret these learning curves and how we can use them to guide model development. In particular, we'll examine at the learning curves for evidence of underfitting and overfitting and look at a couple of strategies for correcting it.\n",
    "\n",
    "We train a model by choosing weights or parameters that minimize the loss on a training set. \n",
    "You might know, however, that to accurately assess a model's performance, we need to evaluate it on a new set of data, the validation data.\n",
    " (You could see our lesson on model validation in Introduction to Machine Learning for a review.)\n",
    " \n",
    "<img src=\"https://storage.googleapis.com/kaggle-media/learn/images/tHiVFnM.png\" alt=\"Loss vs Epochs\" height=\"auto\" width=\"450\" style=\"background-color: lightblue; padding: 10px\" />\n",
    "\n",
    "When we train a model we've been plotting the loss on the training set epoch by epoch.\n",
    " To this we'll add a plot the validation data too.\n",
    "  These plots we call the learning curves.\n",
    "  To train deep learning models effectively, we need to be able to interpret them."
   ],
   "id": "2274a0d70a461e79"
  },
  {
   "metadata": {},
   "cell_type": "markdown",
   "source": [
    "Ideally, we would create models that learn all of the signal and none of the noise. This will practically never happen. Instead we make a trade. We can get the model to learn more signal at the cost of learning more noise. So long as the trade is in our favor, the validation loss will continue to decrease. After a certain point, however, the trade can turn against us, the cost exceeds the benefit, and the validation loss begins to rise.\n",
    "\n",
    "![Overfitting](https://storage.googleapis.com/kaggle-media/learn/images/eUF6mfo.png)\n",
    "\n",
    "This trade-off indicates that there can be two problems that occur when training a model: not enough signal or too much noise.\n",
    " Underfitting the training set is when the loss is not as low as it could be because the model hasn't learned enough signal.\n",
    " Overfitting the training set is when the loss is not as low as it could be because the model learned too much noise.\n",
    "  The trick to training deep learning models is finding the best balance between the two.\n",
    "\n",
    "We'll look at a couple ways of getting more signal out of the training data while reducing the amount of noise."
   ],
   "id": "3852e06827f013c4"
  },
  {
   "metadata": {},
   "cell_type": "markdown",
   "source": [
    "# Capacity\n",
    "\n",
    "A model's capacity refers to the size and complexity of the patterns it is able to learn. For neural networks, this will largely be determined by how many neurons it has and how they are connected together. If it appears that your network is underfitting the data, you should try increasing its capacity.\n",
    "\n",
    "You can increase the capacity of a network either by making it wider (more units to existing layers) or by making it deeper (adding more layers). Wider networks have an easier time learning more linear relationships, while deeper networks prefer more nonlinear ones. Which is better just depends on the dataset."
   ],
   "id": "700986367f27e9dd"
  },
  {
   "metadata": {},
   "cell_type": "code",
   "outputs": [],
   "execution_count": null,
   "source": [
    "model = keras.Sequential([ # default model\n",
    "    layers.Dense(16, activation='relu'),\n",
    "    layers.Dense(1),\n",
    "])\n",
    "\n",
    "wider = keras.Sequential([ # wider model\n",
    "    layers.Dense(32, activation='relu'),\n",
    "    layers.Dense(1),\n",
    "])\n",
    "\n",
    "deeper = keras.Sequential([ # deeper model\n",
    "    layers.Dense(16, activation='relu'),\n",
    "    layers.Dense(16, activation='relu'),\n",
    "    layers.Dense(1),\n",
    "])\n",
    "\n",
    "# You'll explore how the capacity of a network can affect its performance in the exercise."
   ],
   "id": "f0fc749d2c415e71"
  },
  {
   "metadata": {},
   "cell_type": "markdown",
   "source": [
    "# Early Stopping\n",
    "\n",
    "We mentioned that when a model is too eagerly learning noise, the validation loss may start to increase during training.\n",
    " To prevent this, we can simply stop the training whenever it seems the validation loss isn't decreasing anymore.\n",
    " Interrupting the training this way is called early stopping.\n",
    " \n",
    "<img src=\"https://storage.googleapis.com/kaggle-media/learn/images/eP0gppr.png\" alt=\"Early stopping\" style=\"background-color: white\" width=\"450\" height=\"auto\" />\n",
    "\n",
    "Once we detect that the validation loss is starting to rise again, we can reset the weights back to where the minimum occured.\n",
    " This ensures that the model won't continue to learn noise and overfit the data.\n",
    "\n",
    "Training with early stopping also means we're in less danger of stopping the training too early, before the network has finished learning signal. \n",
    "So besides preventing overfitting from training too long, early stopping can also prevent underfitting from not training long enough.\n",
    " Just set your training epochs to some large number (more than you'll need), and early stopping will take care of the rest."
   ],
   "id": "4845cd5cb288496"
  },
  {
   "metadata": {},
   "cell_type": "code",
   "outputs": [],
   "execution_count": null,
   "source": [
    "early_stopping = EarlyStopping(\n",
    "    min_delta=0.001, # minimium amount of change to count as an improvement\n",
    "    patience=20, # how many epochs to wait before stopping\n",
    "    restore_best_weights=True,\n",
    ")\n",
    "# These parameters say: \"If there hasn't been at least an improvement of 0.001 in the validation loss over the previous 20 epochs,\n",
    "# then stop the training and keep the best model you found.\" \n",
    "# It can sometimes be hard to tell if the validation loss is rising due to overfitting or just due to random batch variation.\n",
    "# The parameters allow us to set some allowances around when to stop.\n",
    "\n",
    "# As we'll see in our example, we'll pass this callback to the fit method along with the loss and optimizer."
   ],
   "id": "e449d1fdbe31097c"
  },
  {
   "metadata": {
    "ExecuteTime": {
     "end_time": "2024-09-27T16:39:38.126035Z",
     "start_time": "2024-09-27T16:39:23.879977Z"
    }
   },
   "cell_type": "code",
   "source": [
    "red_wine = pd.read_csv('../../dataset/red-wine.csv')\n",
    "\n",
    "# Create training and validation splits\n",
    "df_train = red_wine.sample(frac=0.7, random_state=0)\n",
    "df_valid = red_wine.drop(df_train.index)\n",
    "display(df_train.head(4))\n",
    "\n",
    "# Scale to [0, 1]\n",
    "max_ = df_train.max(axis=0)\n",
    "min_ = df_train.min(axis=0)\n",
    "df_train = (df_train - min_) / (max_ - min_)\n",
    "df_valid = (df_valid - min_) / (max_ - min_)\n",
    "\n",
    "# Split features and target\n",
    "X_train = df_train.drop('quality', axis=1)\n",
    "X_valid = df_valid.drop('quality', axis=1)\n",
    "y_train = df_train['quality']\n",
    "y_valid = df_valid['quality']\n",
    "\n",
    "# Now let's increase the capacity of the network. We'll go for a fairly large network, \n",
    "# but rely on the callback to halt the training once the validation loss shows signs of increasing.\n",
    "\n",
    "early_stopping = EarlyStopping(\n",
    "    min_delta=0.001, # minimium amount of change to count as an improvement\n",
    "    patience=20, # how many epochs to wait before stopping\n",
    "    restore_best_weights=True,\n",
    ")\n",
    "\n",
    "model = keras.Sequential([\n",
    "    layers.Input(shape=[11]),\n",
    "    layers.Dense(512, activation='relu'),\n",
    "    layers.Dense(512, activation='relu'),\n",
    "    layers.Dense(512, activation='relu'),\n",
    "    layers.Dense(1),\n",
    "])\n",
    "model.compile(\n",
    "    optimizer='adam',\n",
    "    loss='mae',\n",
    ")\n",
    "# After defining the callback, add it as an argument in fit (you can have several, so put it in a list). Choose a large number of epochs when using early stopping, more than you'll need.\n",
    "\n",
    "history = model.fit(\n",
    "    X_train, y_train,\n",
    "    validation_data=(X_valid, y_valid),\n",
    "    batch_size=256,\n",
    "    epochs=500,\n",
    "    callbacks=[early_stopping], # put your callbacks in a list\n",
    "    verbose=0,  # turn off training log\n",
    ")\n",
    "\n",
    "history_df = pd.DataFrame(history.history)\n",
    "history_df.loc[:, ['loss', 'val_loss']].plot()\n",
    "print(\"Minimum validation loss: {}\".format(history_df['val_loss'].min()))"
   ],
   "id": "ff641d5c3f1a4701",
   "outputs": [
    {
     "data": {
      "text/plain": [
       "      fixed acidity  volatile acidity  citric acid  residual sugar  chlorides  \\\n",
       "1109           10.8             0.470         0.43            2.10      0.171   \n",
       "1032            8.1             0.820         0.00            4.10      0.095   \n",
       "1002            9.1             0.290         0.33            2.05      0.063   \n",
       "487            10.2             0.645         0.36            1.80      0.053   \n",
       "\n",
       "      free sulfur dioxide  total sulfur dioxide  density    pH  sulphates  \\\n",
       "1109                 27.0                  66.0  0.99820  3.17       0.76   \n",
       "1032                  5.0                  14.0  0.99854  3.36       0.53   \n",
       "1002                 13.0                  27.0  0.99516  3.26       0.84   \n",
       "487                   5.0                  14.0  0.99820  3.17       0.42   \n",
       "\n",
       "      alcohol  quality  \n",
       "1109     10.8        6  \n",
       "1032      9.6        5  \n",
       "1002     11.7        7  \n",
       "487      10.0        6  "
      ],
      "text/html": [
       "<div>\n",
       "<style scoped>\n",
       "    .dataframe tbody tr th:only-of-type {\n",
       "        vertical-align: middle;\n",
       "    }\n",
       "\n",
       "    .dataframe tbody tr th {\n",
       "        vertical-align: top;\n",
       "    }\n",
       "\n",
       "    .dataframe thead th {\n",
       "        text-align: right;\n",
       "    }\n",
       "</style>\n",
       "<table border=\"1\" class=\"dataframe\">\n",
       "  <thead>\n",
       "    <tr style=\"text-align: right;\">\n",
       "      <th></th>\n",
       "      <th>fixed acidity</th>\n",
       "      <th>volatile acidity</th>\n",
       "      <th>citric acid</th>\n",
       "      <th>residual sugar</th>\n",
       "      <th>chlorides</th>\n",
       "      <th>free sulfur dioxide</th>\n",
       "      <th>total sulfur dioxide</th>\n",
       "      <th>density</th>\n",
       "      <th>pH</th>\n",
       "      <th>sulphates</th>\n",
       "      <th>alcohol</th>\n",
       "      <th>quality</th>\n",
       "    </tr>\n",
       "  </thead>\n",
       "  <tbody>\n",
       "    <tr>\n",
       "      <th>1109</th>\n",
       "      <td>10.8</td>\n",
       "      <td>0.470</td>\n",
       "      <td>0.43</td>\n",
       "      <td>2.10</td>\n",
       "      <td>0.171</td>\n",
       "      <td>27.0</td>\n",
       "      <td>66.0</td>\n",
       "      <td>0.99820</td>\n",
       "      <td>3.17</td>\n",
       "      <td>0.76</td>\n",
       "      <td>10.8</td>\n",
       "      <td>6</td>\n",
       "    </tr>\n",
       "    <tr>\n",
       "      <th>1032</th>\n",
       "      <td>8.1</td>\n",
       "      <td>0.820</td>\n",
       "      <td>0.00</td>\n",
       "      <td>4.10</td>\n",
       "      <td>0.095</td>\n",
       "      <td>5.0</td>\n",
       "      <td>14.0</td>\n",
       "      <td>0.99854</td>\n",
       "      <td>3.36</td>\n",
       "      <td>0.53</td>\n",
       "      <td>9.6</td>\n",
       "      <td>5</td>\n",
       "    </tr>\n",
       "    <tr>\n",
       "      <th>1002</th>\n",
       "      <td>9.1</td>\n",
       "      <td>0.290</td>\n",
       "      <td>0.33</td>\n",
       "      <td>2.05</td>\n",
       "      <td>0.063</td>\n",
       "      <td>13.0</td>\n",
       "      <td>27.0</td>\n",
       "      <td>0.99516</td>\n",
       "      <td>3.26</td>\n",
       "      <td>0.84</td>\n",
       "      <td>11.7</td>\n",
       "      <td>7</td>\n",
       "    </tr>\n",
       "    <tr>\n",
       "      <th>487</th>\n",
       "      <td>10.2</td>\n",
       "      <td>0.645</td>\n",
       "      <td>0.36</td>\n",
       "      <td>1.80</td>\n",
       "      <td>0.053</td>\n",
       "      <td>5.0</td>\n",
       "      <td>14.0</td>\n",
       "      <td>0.99820</td>\n",
       "      <td>3.17</td>\n",
       "      <td>0.42</td>\n",
       "      <td>10.0</td>\n",
       "      <td>6</td>\n",
       "    </tr>\n",
       "  </tbody>\n",
       "</table>\n",
       "</div>"
      ]
     },
     "metadata": {},
     "output_type": "display_data"
    },
    {
     "name": "stdout",
     "output_type": "stream",
     "text": [
      "Minimum validation loss: 0.09195615351200104\n"
     ]
    },
    {
     "data": {
      "text/plain": [
       "<Figure size 640x480 with 1 Axes>"
      ],
      "image/png": "[encoded data removed]"
     },
     "metadata": {},
     "output_type": "display_data"
    }
   ],
   "execution_count": 20
  },
  {
   "metadata": {},
   "cell_type": "markdown",
   "source": "And sure enough, Keras stopped the training well before the full 500 epochs!",
   "id": "3496f716c4d2c71c"
  },
  {
   "metadata": {},
   "cell_type": "markdown",
   "source": [
    "# Dropout and Batch Normalization\n",
    "\n",
    "\n",
    "Add these special layers to prevent overfitting and stabilize training.\n",
    "\n",
    "In this lesson, we'll learn about a two kinds of special layers, not containing any neurons themselves, but that add some functionality that can sometimes benefit a model in various ways.\n",
    "Both are commonly used in modern architectures."
   ],
   "id": "5a1a213647d69c47"
  },
  {
   "metadata": {},
   "cell_type": "markdown",
   "source": [
    "# Dropout\n",
    "\n",
    "The first of these is the \"dropout layer\", which can help correct overfitting.\n",
    "\n",
    "In the last lesson we talked about how overfitting is caused by the network learning spurious patterns in the training data. To recognize these spurious patterns a network will often rely on very a specific combinations of weight, a kind of \"conspiracy\" of weights. Being so specific, they tend to be fragile: remove one and the conspiracy falls apart.\n",
    "\n",
    "This is the idea behind dropout. To break up these conspiracies, we randomly drop out some fraction of a layer's input units every step of training, making it much harder for the network to learn those spurious patterns in the training data. Instead, it has to search for broad, general patterns, whose weight patterns tend to be more robust.\n",
    "\n",
    "<img src=\"https://storage.googleapis.com/kaggle-media/learn/images/a86utxY.gif\" alt=\"Here, 50% dropout has been added between the two hidden layers.\" width=\"450\" height=\"auto\" />\n",
    "\n",
    "You could also think about dropout as creating a kind of ensemble of networks. The predictions will no longer be made by one big network, but instead by a committee of smaller networks. Individuals in the committee tend to make different kinds of mistakes, but be right at the same time, making the committee as a whole better than any individual. (If you're familiar with random forests as an ensemble of decision trees, it's the same idea.)\n"
   ],
   "id": "363122083728576e"
  },
  {
   "metadata": {},
   "cell_type": "markdown",
   "source": [
    "# Adding Dropout\n",
    "\n",
    "In Keras, the dropout rate argument rate defines what percentage of the input units to shut off. \n",
    "Put the Dropout layer just before the layer you want the dropout applied to:\n",
    "\n",
    "keras.Sequential([\n",
    "    # ...\n",
    "    layers.Dropout(rate=0.3), # apply 30% dropout to the next layer\n",
    "    layers.Dense(16),\n",
    "    # ...\n",
    "])"
   ],
   "id": "a0babcb13d067b0f"
  },
  {
   "metadata": {},
   "cell_type": "markdown",
   "source": [
    "# Batch Normalization\n",
    "\n",
    "The next special layer we'll look at performs \"batch normalization\" (or \"batchnorm\"), which can help correct training that is slow or unstable.\n",
    "\n",
    "With neural networks, it's generally a good idea to put all of your data on a common scale, perhaps with something like scikit-learn's StandardScaler or MinMaxScaler. The reason is that SGD will shift the network weights in proportion to how large an activation the data produces. Features that tend to produce activations of very different sizes can make for unstable training behavior."
   ],
   "id": "bbc527ec07c4002e"
  },
  {
   "metadata": {},
   "cell_type": "markdown",
   "source": [
    "# Adding Batch Normalization\n",
    "\n",
    "It seems that batch normalization can be used at almost any point in a network. You can put it after a layer...\n",
    "...\n",
    "layers.Dense(16, activation='relu'),\n",
    "layers.BatchNormalization(),\n",
    "...\n",
    "    or between a layer and its activation function:\n",
    "...\n",
    "layers.Dense(16),\n",
    "layers.BatchNormalization(),\n",
    "layers.Activation('relu'),\n",
    "...\n",
    "\n",
    "And if you add it as the first layer of your network it can act as a kind of adaptive preprocessor, standing in for something like Sci-Kit Learn's StandardScaler."
   ],
   "id": "520916e35151c638"
  },
  {
   "metadata": {},
   "cell_type": "markdown",
   "source": [
    "# Example - Using Dropout and Batch Normalization\n",
    "\n",
    "Let's continue developing the Red Wine model.\n",
    " Now we'll increase the capacity even more, but add dropout to control overfitting and batch normalization to speed up optimization.\n",
    " This time, we'll also leave off standardizing the data, to demonstrate how batch normalization can stabalize the training."
   ],
   "id": "100d0f892b239bf0"
  },
  {
   "metadata": {},
   "cell_type": "code",
   "outputs": [],
   "execution_count": null,
   "source": [
    "plt.style.use('seaborn-whitegrid')\n",
    "# Set Matplotlib defaults\n",
    "plt.rc('figure', autolayout=True)\n",
    "plt.rc('axes', labelweight='bold', labelsize='large',\n",
    "       titleweight='bold', titlesize=18, titlepad=10)\n",
    "\n",
    "\n",
    "red_wine = pd.read_csv('../input/dl-course-data/red-wine.csv')\n",
    "\n",
    "# Create training and validation splits\n",
    "df_train = red_wine.sample(frac=0.7, random_state=0)\n",
    "df_valid = red_wine.drop(df_train.index)\n",
    "\n",
    "# Split features and target\n",
    "X_train = df_train.drop('quality', axis=1)\n",
    "X_valid = df_valid.drop('quality', axis=1)\n",
    "y_train = df_train['quality']\n",
    "y_valid = df_valid['quality']\n",
    "\n",
    "# When adding dropout, you may need to increase the number of units in your Dense layers.\n",
    "\n",
    "model = keras.Sequential([\n",
    "    layers.Input(shape=[11]),\n",
    "    layers.Dense(1024, activation='relu'),\n",
    "    layers.Dropout(0.3),\n",
    "    layers.BatchNormalization(),\n",
    "    layers.Dense(1024, activation='relu'),\n",
    "    layers.Dropout(0.3),\n",
    "    layers.BatchNormalization(),\n",
    "    layers.Dense(1024, activation='relu'),\n",
    "    layers.Dropout(0.3),\n",
    "    layers.BatchNormalization(),\n",
    "    layers.Dense(1),\n",
    "])\n",
    "\n",
    "# There's nothing to change this time in how we set up the training.\n",
    "\n",
    "model.compile(\n",
    "    optimizer='adam',\n",
    "    loss='mae',\n",
    ")\n",
    "\n",
    "history = model.fit(\n",
    "    X_train, y_train,\n",
    "    validation_data=(X_valid, y_valid),\n",
    "    batch_size=256,\n",
    "    epochs=100,\n",
    "    verbose=0,\n",
    ")\n",
    "\n",
    "\n",
    "# Show the learning curves\n",
    "history_df = pd.DataFrame(history.history)\n",
    "history_df.loc[:, ['loss', 'val_loss']].plot()"
   ],
   "id": "26e04ff1164c769"
  },
  {
   "metadata": {},
   "cell_type": "markdown",
   "source": [
    "You'll typically get better performance if you standardize your data before using it for training.\n",
    " That we were able to use the raw data at all, however, shows how effective batch normalization can be on more difficult datasets."
   ],
   "id": "a3f8ae756d8d5441"
  },
  {
   "metadata": {},
   "cell_type": "markdown",
   "source": [
    "# Binary Classification\n",
    "\n",
    "Classification into one of two classes is a common machine learning problem. You might want to predict whether or not a customer is likely to make a purchase, whether or not a credit card transaction was fraudulent, whether deep space signals show evidence of a new planet, or a medical test evidence of a disease. These are all binary classification problems.\n",
    "\n",
    "In your raw data, the classes might be represented by strings like \"Yes\" and \"No\", or \"Dog\" and \"Cat\". Before using this data we'll assign a class label: one class will be 0 and the other will be 1. Assigning numeric labels puts the data in a form a neural network can use."
   ],
   "id": "90ad8386909c9b90"
  },
  {
   "metadata": {},
   "cell_type": "markdown",
   "source": [
    "# Accuracy and Cross-Entropy\n",
    "\n",
    "Accuracy is one of the many metrics in use for measuring success on a classification problem. Accuracy is the ratio of correct predictions to total predictions: accuracy = number_correct / total. A model that always predicted correctly would have an accuracy score of 1.0. All else being equal, accuracy is a reasonable metric to use whenever the classes in the dataset occur with about the same frequency.\n",
    "\n",
    "The problem with accuracy (and most other classification metrics) is that it can't be used as a loss function. SGD needs a loss function that changes smoothly, but accuracy, being a ratio of counts, changes in \"jumps\". So, we have to choose a substitute to act as the loss function. This substitute is the cross-entropy function.\n",
    "\n",
    "Now, recall that the loss function defines the objective of the network during training. With regression, our goal was to minimize the distance between the expected outcome and the predicted outcome. We chose MAE to measure this distance.\n",
    "\n",
    "For classification, what we want instead is a distance between probabilities, and this is what cross-entropy provides. Cross-entropy is a sort of measure for the distance from one probability distribution to another.\n",
    "\n",
    "<img src=\"https://storage.googleapis.com/kaggle-media/learn/images/DwVV9bR.png\" alt=\"https://storage.googleapis.com/kaggle-media/learn/images/DwVV9bR.png\" widht=\"450\" height=\"auto\" />\n",
    "\n",
    "The idea is that we want our network to predict the correct class with probability 1.0. The further away the predicted probability is from 1.0, the greater will be the cross-entropy loss.\n",
    "\n",
    "The technical reasons we use cross-entropy are a bit subtle, but the main thing to take away from this section is just this: use cross-entropy for a classification loss; other metrics you might care about (like accuracy) will tend to improve along with it.\n"
   ],
   "id": "bd2ba9522325dac6"
  },
  {
   "metadata": {},
   "cell_type": "markdown",
   "source": [
    "# Making Probabilities with the Sigmoid Function\n",
    "\n",
    "The cross-entropy and accuracy functions both require probabilities as inputs, meaning, numbers from 0 to 1. To covert the real-valued outputs produced by a dense layer into probabilities, we attach a new kind of activation function, the sigmoid activation.\n",
    "\n",
    "<img src=\"https://storage.googleapis.com/kaggle-media/learn/images/FYbRvJo.png\" alt=\"The sigmoid function maps real numbers into the interval\" width=\"450\" height=\"auto\" />\n",
    "\n",
    "To get the final class prediction, we define a threshold probability. \n",
    "Typically this will be 0.5, so that rounding will give us the correct class: below 0.5 means the class with label 0 and 0.5 or above means the class with label 1. A 0.5 threshold is what Keras uses by default with its accuracy metric."
   ],
   "id": "65f21b310ff02fd"
  },
  {
   "metadata": {},
   "cell_type": "markdown",
   "source": [
    "# Example - Binary Classification\n",
    "\n",
    "Now let's try it out!\n",
    "\n",
    "The Ionosphere dataset contains features obtained from radar signals focused on the ionosphere layer of the Earth's atmosphere.\n",
    " The task is to determine whether the signal shows the presence of some object, or just empty air."
   ],
   "id": "9d8a7967a9726f7"
  },
  {
   "metadata": {},
   "cell_type": "code",
   "outputs": [],
   "execution_count": null,
   "source": [
    "ion = pd.read_csv('../input/dl-course-data/ion.csv', index_col=0)\n",
    "display(ion.head())\n",
    "\n",
    "df = ion.copy()\n",
    "df['Class'] = df['Class'].map({'good': 0, 'bad': 1})\n",
    "\n",
    "df_train = df.sample(frac=0.7, random_state=0)\n",
    "df_valid = df.drop(df_train.index)\n",
    "\n",
    "max_ = df_train.max(axis=0)\n",
    "min_ = df_train.min(axis=0)\n",
    "\n",
    "df_train = (df_train - min_) / (max_ - min_)\n",
    "df_valid = (df_valid - min_) / (max_ - min_)\n",
    "df_train.dropna(axis=1, inplace=True) # drop the empty feature in column 2\n",
    "df_valid.dropna(axis=1, inplace=True)\n",
    "\n",
    "X_train = df_train.drop('Class', axis=1)\n",
    "X_valid = df_valid.drop('Class', axis=1)\n",
    "y_train = df_train['Class']\n",
    "y_valid = df_valid['Class']\n",
    "\n",
    "# We'll define our model just like we did for the regression tasks, with one exception.\n",
    "# In the final layer include a 'sigmoid' activation so that the model will produce class probabilities.\n",
    "\n",
    "model = keras.Sequential([\n",
    "    layers.Dense(4, activation='relu', input_shape=[33]),\n",
    "    layers.Dense(4, activation='relu'),    \n",
    "    layers.Dense(1, activation='sigmoid'),\n",
    "])\n",
    "\n",
    "# Add the cross-entropy loss and accuracy metric to the model with its compile method. \n",
    "# For two-class problems, be sure to use 'binary' versions. (Problems with more classes will be slightly different.)\n",
    "# The Adam optimizer works great for classification too, so we'll stick with it.\n",
    "\n",
    "model.compile(\n",
    "    optimizer='adam',\n",
    "    loss='binary_crossentropy',\n",
    "    metrics=['binary_accuracy'],\n",
    ")\n",
    "\n",
    "# The model in this particular problem can take quite a few epochs to complete training, so we'll include an early stopping callback for convenience.\n",
    "\n",
    "early_stopping = keras.callbacks.EarlyStopping(\n",
    "    patience=10,\n",
    "    min_delta=0.001,\n",
    "    restore_best_weights=True,\n",
    ")\n",
    "\n",
    "history = model.fit(\n",
    "    X_train, y_train,\n",
    "    validation_data=(X_valid, y_valid),\n",
    "    batch_size=512,\n",
    "    epochs=1000,\n",
    "    callbacks=[early_stopping],\n",
    "    verbose=0, # hide the output because we have so many epochs\n",
    ")\n",
    "\n",
    "# We'll take a look at the learning curves as always, and also inspect the best values for the loss and accuracy we got on the validation set.\n",
    "# (Remember that early stopping will restore the weights to those that got these values.)\n",
    "\n",
    "history_df = pd.DataFrame(history.history)\n",
    "# Start the plot at epoch 5\n",
    "history_df.loc[5:, ['loss', 'val_loss']].plot()\n",
    "history_df.loc[5:, ['binary_accuracy', 'val_binary_accuracy']].plot()\n",
    "\n",
    "validation_lost = history_df['val_loss'].min()\n",
    "validation_accuracy = history_df['val_binary_accuracy'].max()\n",
    "\n",
    "print((\"Best Validation Loss: {:0.4f} \\nBest Validation Accuracy: {:0.4f}\").format(validation_lost, validation_accuracy))"
   ],
   "id": "e928f71603d6dae9"
  }
 ],
 "metadata": {
  "kernelspec": {
   "display_name": "Python 3",
   "language": "python",
   "name": "python3"
  },
  "language_info": {
   "codemirror_mode": {
    "name": "ipython",
    "version": 2
   },
   "file_extension": ".py",
   "mimetype": "text/x-python",
   "name": "python",
   "nbconvert_exporter": "python",
   "pygments_lexer": "ipython2",
   "version": "2.7.6"
  }
 },
 "nbformat": 4,
 "nbformat_minor": 5
}

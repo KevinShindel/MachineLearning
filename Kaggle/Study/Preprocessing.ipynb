{
 "cells": [
  {
   "metadata": {
    "ExecuteTime": {
     "end_time": "2024-10-04T19:19:16.726975Z",
     "start_time": "2024-10-04T19:19:16.585912Z"
    }
   },
   "cell_type": "code",
   "source": [
    "import pandas as pd\n",
    "from sklearn.preprocessing import StandardScaler, MinMaxScaler, OneHotEncoder, OrdinalEncoder, LabelEncoder\n",
    "from sklearn.datasets import load_iris"
   ],
   "id": "6e8bd8529aab0e15",
   "outputs": [],
   "execution_count": 2
  },
  {
   "metadata": {},
   "cell_type": "code",
   "source": [
    "data = load_iris()\n",
    "df = pd.DataFrame(data.data, columns=data.feature_names)\n",
    "print(df.head())\n",
    "X = df.iloc[:, :-1]\n",
    "y = df.iloc[:, -1]"
   ],
   "id": "a8355f2809c96258",
   "outputs": [],
   "execution_count": null
  },
  {
   "metadata": {},
   "cell_type": "markdown",
   "source": [
    "# Data Scaling\n",
    "\n",
    "Using to scale numerical data to have a mean of 0 and a standard deviation of 1.\n",
    "\n",
    " This is important for algorithms that use distance-based metrics, such as k-Nearest Neighbors (KNN) and Support Vector Machines (SVM)."
   ],
   "id": "b297998fe36b5fcb"
  },
  {
   "metadata": {},
   "cell_type": "code",
   "source": [
    "scaler = StandardScaler()\n",
    "\n",
    "df_transformed = scaler.fit_transform(X)\n",
    "df_transformed = pd.DataFrame(df_transformed, columns=X.columns)\n",
    "print(df_transformed.head())"
   ],
   "id": "a76726375c6c9453",
   "outputs": [],
   "execution_count": null
  },
  {
   "metadata": {},
   "cell_type": "code",
   "source": [
    "# MibMaxScaler - Scales the data to a fixed range, usually 0 to 1.\n",
    "min_max_scaler = MinMaxScaler(feature_range=(0, 1))\n",
    "\n",
    "df_transformed = min_max_scaler.fit_transform(X)\n",
    "df_transformed = pd.DataFrame(df_transformed, columns=X.columns)\n",
    "print(df_transformed.head())"
   ],
   "id": "ac0768d6a9247567",
   "outputs": [],
   "execution_count": null
  },
  {
   "metadata": {},
   "cell_type": "markdown",
   "source": "# Data Encoding",
   "id": "229e6c37858a9f77"
  },
  {
   "metadata": {},
   "cell_type": "code",
   "source": [
    "df = pd.DataFrame(\n",
    "    {'sales': [1000, 2000, 22000, 50000,40000] * 5,\n",
    "     'city': ['New York', 'Los Angeles', 'Chicago', 'Houston', 'Phoenix'] * 5,\n",
    "     'size': ['small', 'medium', 'large', 'large', 'medium'] * 5,\n",
    "    }\n",
    ")\n",
    "print(df.head())\n",
    "# Using by pandas get_dummies function\n",
    "pd_one_hot_encoded = pd.get_dummies(df, columns=[\"city\"])\n",
    "# Or we can use the following code\n",
    "ohe = OneHotEncoder(handle_unknown=\"ignore\", sparse_output=False).set_output(transform='pandas')\n",
    "\n",
    "one_hot_encoded = ohe.fit_transform(df[['city']])\n",
    "print(one_hot_encoded.head())\n",
    "\n",
    "df = pd.concat([df, one_hot_encoded], axis=1).drop(columns=['city'], axis=1)\n",
    "print(df.head())"
   ],
   "id": "58b344027405e566",
   "outputs": [],
   "execution_count": null
  },
  {
   "metadata": {},
   "cell_type": "markdown",
   "source": "# Column Encoders",
   "id": "f5f296652a30f4f5"
  },
  {
   "metadata": {},
   "cell_type": "code",
   "source": [
    "\n",
    "# The main difference between `OrdinalEncoder` and `LabelEncoder` from `sklearn.preprocessing` lies in their intended use and functionality:\n",
    "\n",
    "# 1. **`OrdinalEncoder`**:\n",
    "#    - **Purpose**: Encodes categorical features as ordinal integers. It is used for encoding multiple categorical features at once.\n",
    "#    - **Input**: Takes a 2D array (e.g., a DataFrame with multiple columns).\n",
    "#    - **Output**: Transforms each categorical feature to an array of integers.\n",
    "#    - **Use Case**: Suitable for encoding multiple categorical columns in a DataFrame.\n",
    "\n",
    "df = pd.DataFrame({\n",
    "   'city': ['New York', 'Los Angeles', 'Chicago', 'Houston', 'Phoenix'],\n",
    "   'size': ['small', 'medium', 'large', 'large', 'medium'],\n",
    "    'sales': [1000, 2000, 22000, 50000,40000]\n",
    "})\n",
    "\n",
    "encoder = OrdinalEncoder()\n",
    "original_df = df.copy()\n",
    "cat_columns = df.select_dtypes(include=['object']).columns\n",
    "original_df[cat_columns] = encoder.fit_transform(original_df[cat_columns])\n",
    "\n",
    "print(original_df)\n",
    "\n",
    "# 2. **`LabelEncoder`**:\n",
    "#    - **Purpose**: Encodes target labels with value between 0 and n_classes-1. It is used for encoding a single column of labels.\n",
    "#    - **Input**: Takes a 1D array (e.g., a single column of a DataFrame).\n",
    "#    - **Output**: Transforms the labels to an array of integers.\n",
    "#    - **Use Case**: Suitable for encoding the target variable or a single categorical column.\n",
    "\n",
    "df = pd.DataFrame({\n",
    "   'city': ['New York', 'Los Angeles', 'Chicago', 'Houston', 'Phoenix'],\n",
    "    'sales': [1000, 2000, 22000, 50000,40000]\n",
    "})\n",
    "\n",
    "encoder = LabelEncoder()\n",
    "lab_df = df.copy()\n",
    "lab_df['city'] = encoder.fit_transform(lab_df['city'])\n",
    "print(lab_df)\n",
    "\n",
    "### Summary:\n",
    "# - **`OrdinalEncoder`**: Encodes multiple categorical features in a 2D array.\n",
    "# - **`LabelEncoder`**: Encodes a single categorical feature or target labels in a 1D array."
   ],
   "id": "e96c85955f20bb6d",
   "outputs": [],
   "execution_count": null
  },
  {
   "metadata": {},
   "cell_type": "markdown",
   "source": "# Handling Missing Data (Imputation)",
   "id": "e367409b4f133a9"
  },
  {
   "metadata": {
    "ExecuteTime": {
     "end_time": "2024-10-04T19:19:20.267958Z",
     "start_time": "2024-10-04T19:19:20.243216Z"
    }
   },
   "cell_type": "code",
   "source": [
    "from sklearn.impute import SimpleImputer\n",
    "import numpy as np\n",
    "\n",
    "miles = pd.DataFrame({\"farthest_run_mi\": [50, 62, np.nan, 100, 26, 13, 31, 50]})\n",
    "\n",
    "imp_mean = SimpleImputer(strategy='mean')\n",
    "print(imp_mean.fit_transform(miles))\n",
    "\n",
    "imp_median = SimpleImputer(strategy='median')\n",
    "print(imp_median.fit_transform(miles))\n",
    "\n",
    "imp_mode = SimpleImputer(strategy='most_frequent')\n",
    "print(imp_mode.fit_transform(miles))\n",
    "\n",
    "imp_constant = SimpleImputer(strategy='constant', fill_value=0)\n",
    "print(imp_constant.fit_transform(miles))"
   ],
   "id": "ba2ac0ba2b00a8b3",
   "outputs": [
    {
     "name": "stdout",
     "output_type": "stream",
     "text": [
      "[[ 50.        ]\n",
      " [ 62.        ]\n",
      " [ 47.42857143]\n",
      " [100.        ]\n",
      " [ 26.        ]\n",
      " [ 13.        ]\n",
      " [ 31.        ]\n",
      " [ 50.        ]]\n",
      "[[ 50.]\n",
      " [ 62.]\n",
      " [ 50.]\n",
      " [100.]\n",
      " [ 26.]\n",
      " [ 13.]\n",
      " [ 31.]\n",
      " [ 50.]]\n",
      "[[ 50.]\n",
      " [ 62.]\n",
      " [ 50.]\n",
      " [100.]\n",
      " [ 26.]\n",
      " [ 13.]\n",
      " [ 31.]\n",
      " [ 50.]]\n",
      "[[ 50.]\n",
      " [ 62.]\n",
      " [  0.]\n",
      " [100.]\n",
      " [ 26.]\n",
      " [ 13.]\n",
      " [ 31.]\n",
      " [ 50.]]\n"
     ]
    }
   ],
   "execution_count": 3
  },
  {
   "metadata": {
    "ExecuteTime": {
     "end_time": "2024-10-04T19:20:48.708901Z",
     "start_time": "2024-10-04T19:20:48.698119Z"
    }
   },
   "cell_type": "code",
   "source": [
    "names = pd.DataFrame({\"name\": [\"John\", \"Paul\", np.nan, \"George\", \"Ringo\", \"Pete\", \"Stuart\", np.nan]})\n",
    "\n",
    "imp_constant = SimpleImputer(strategy='constant', fill_value=\"Unknown\")\n",
    "print(imp_constant.fit_transform(names))"
   ],
   "id": "5e0b26bd742e771f",
   "outputs": [
    {
     "name": "stdout",
     "output_type": "stream",
     "text": [
      "[['John']\n",
      " ['Paul']\n",
      " ['Unknown']\n",
      " ['George']\n",
      " ['Ringo']]\n"
     ]
    }
   ],
   "execution_count": 4
  },
  {
   "metadata": {
    "ExecuteTime": {
     "end_time": "2024-10-04T19:22:18.988023Z",
     "start_time": "2024-10-04T19:22:18.973698Z"
    }
   },
   "cell_type": "code",
   "source": [
    "imp_mean_marked = SimpleImputer(strategy='mean', add_indicator=True)\n",
    "marked_df = pd.DataFrame(imp_mean_marked.fit_transform(miles), columns=[\"farthest_run_mi\", \"farthest_run_mi_missing\"])\n",
    "print(marked_df)"
   ],
   "id": "c0a0df76d4f838e9",
   "outputs": [
    {
     "name": "stdout",
     "output_type": "stream",
     "text": [
      "   farthest_run_mi  farthest_run_mi_missing\n",
      "0        50.000000                      0.0\n",
      "1        62.000000                      0.0\n",
      "2        47.428571                      1.0\n",
      "3       100.000000                      0.0\n",
      "4        26.000000                      0.0\n",
      "5        13.000000                      0.0\n",
      "6        31.000000                      0.0\n",
      "7        50.000000                      0.0\n"
     ]
    }
   ],
   "execution_count": 5
  },
  {
   "metadata": {
    "ExecuteTime": {
     "end_time": "2024-10-04T19:30:11.191605Z",
     "start_time": "2024-10-04T19:30:11.174520Z"
    }
   },
   "cell_type": "code",
   "source": [
    "from sklearn.compose import make_column_transformer\n",
    "\n",
    "names_and_miles = pd.concat([names, miles], axis=1)\n",
    "print(names_and_miles)\n",
    "ct = make_column_transformer(\n",
    "    (imp_constant, [\"name\"]), # impute missing values in the 'name' column\n",
    "    (imp_mean, [\"farthest_run_mi\"]), # impute missing values in the 'farthest_run_mi' column\n",
    "    remainder='passthrough', # passthrough the remaining columns\n",
    "    verbose_feature_names_out=False # leave original names\n",
    ")\n",
    "ct.set_output(transform='pandas')\n",
    "\n",
    "df_pandas = ct.fit_transform(names_and_miles)\n",
    "print(df_pandas)"
   ],
   "id": "315b647f4c515990",
   "outputs": [
    {
     "name": "stdout",
     "output_type": "stream",
     "text": [
      "     name  farthest_run_mi\n",
      "0    John             50.0\n",
      "1    Paul             62.0\n",
      "2     NaN              NaN\n",
      "3  George            100.0\n",
      "4   Ringo             26.0\n",
      "5     NaN             13.0\n",
      "6     NaN             31.0\n",
      "7     NaN             50.0\n",
      "      name  farthest_run_mi\n",
      "0     John        50.000000\n",
      "1     Paul        62.000000\n",
      "2  Unknown        47.428571\n",
      "3   George       100.000000\n",
      "4    Ringo        26.000000\n",
      "5  Unknown        13.000000\n",
      "6  Unknown        31.000000\n",
      "7  Unknown        50.000000\n"
     ]
    }
   ],
   "execution_count": 13
  },
  {
   "metadata": {
    "ExecuteTime": {
     "end_time": "2024-10-04T19:34:14.208459Z",
     "start_time": "2024-10-04T19:34:14.187686Z"
    }
   },
   "cell_type": "code",
   "source": [
    "df = pd.DataFrame(\n",
    "    {'sales': [1000, 2000, 22000, 50000,40000] * 5,\n",
    "     'city': ['New York', 'Los Angeles', 'Chicago', 'Houston', 'Phoenix'] * 5,\n",
    "     'size': ['small', 'medium', 'large', 'large', 'medium'] * 5,\n",
    "    }\n",
    ")\n",
    "\n",
    "ohe = OneHotEncoder(handle_unknown=\"ignore\", sparse_output=False)\n",
    "ode = OrdinalEncoder()\n",
    "\n",
    "ct1 = make_column_transformer(\n",
    "    (ohe, ['city']),\n",
    "    (ode, ['size']),\n",
    "    remainder='passthrough', # leave the remaining columns as they are\n",
    "    verbose_feature_names_out=False\n",
    ")\n",
    "ct1.set_output(transform='pandas')\n",
    "\n",
    "df_pandas = ct1.fit_transform(df)\n",
    "print(df_pandas)"
   ],
   "id": "c00682864f76d3c",
   "outputs": [
    {
     "name": "stdout",
     "output_type": "stream",
     "text": [
      "    city_Chicago  city_Houston  city_Los Angeles  city_New York  city_Phoenix  \\\n",
      "0            0.0           0.0               0.0            1.0           0.0   \n",
      "1            0.0           0.0               1.0            0.0           0.0   \n",
      "2            1.0           0.0               0.0            0.0           0.0   \n",
      "3            0.0           1.0               0.0            0.0           0.0   \n",
      "4            0.0           0.0               0.0            0.0           1.0   \n",
      "5            0.0           0.0               0.0            1.0           0.0   \n",
      "6            0.0           0.0               1.0            0.0           0.0   \n",
      "7            1.0           0.0               0.0            0.0           0.0   \n",
      "8            0.0           1.0               0.0            0.0           0.0   \n",
      "9            0.0           0.0               0.0            0.0           1.0   \n",
      "10           0.0           0.0               0.0            1.0           0.0   \n",
      "11           0.0           0.0               1.0            0.0           0.0   \n",
      "12           1.0           0.0               0.0            0.0           0.0   \n",
      "13           0.0           1.0               0.0            0.0           0.0   \n",
      "14           0.0           0.0               0.0            0.0           1.0   \n",
      "15           0.0           0.0               0.0            1.0           0.0   \n",
      "16           0.0           0.0               1.0            0.0           0.0   \n",
      "17           1.0           0.0               0.0            0.0           0.0   \n",
      "18           0.0           1.0               0.0            0.0           0.0   \n",
      "19           0.0           0.0               0.0            0.0           1.0   \n",
      "20           0.0           0.0               0.0            1.0           0.0   \n",
      "21           0.0           0.0               1.0            0.0           0.0   \n",
      "22           1.0           0.0               0.0            0.0           0.0   \n",
      "23           0.0           1.0               0.0            0.0           0.0   \n",
      "24           0.0           0.0               0.0            0.0           1.0   \n",
      "\n",
      "    size  sales  \n",
      "0    2.0   1000  \n",
      "1    1.0   2000  \n",
      "2    0.0  22000  \n",
      "3    0.0  50000  \n",
      "4    1.0  40000  \n",
      "5    2.0   1000  \n",
      "6    1.0   2000  \n",
      "7    0.0  22000  \n",
      "8    0.0  50000  \n",
      "9    1.0  40000  \n",
      "10   2.0   1000  \n",
      "11   1.0   2000  \n",
      "12   0.0  22000  \n",
      "13   0.0  50000  \n",
      "14   1.0  40000  \n",
      "15   2.0   1000  \n",
      "16   1.0   2000  \n",
      "17   0.0  22000  \n",
      "18   0.0  50000  \n",
      "19   1.0  40000  \n",
      "20   2.0   1000  \n",
      "21   1.0   2000  \n",
      "22   0.0  22000  \n",
      "23   0.0  50000  \n",
      "24   1.0  40000  \n"
     ]
    }
   ],
   "execution_count": 14
  },
  {
   "metadata": {
    "ExecuteTime": {
     "end_time": "2024-10-04T19:36:19.389470Z",
     "start_time": "2024-10-04T19:36:19.375442Z"
    }
   },
   "cell_type": "code",
   "source": [
    "ct2 = make_column_transformer(\n",
    "    (ohe, ['city']),\n",
    "    (ode, ['size']),\n",
    "    remainder='drop', # drop the remaining columns\n",
    "    verbose_feature_names_out=False\n",
    ")\n",
    "ct2.set_output(transform='pandas')\n",
    "\n",
    "df_pandas = ct2.fit_transform(df)\n",
    "print(df_pandas)"
   ],
   "id": "9531ac4082d024f1",
   "outputs": [
    {
     "name": "stdout",
     "output_type": "stream",
     "text": [
      "    city_Chicago  city_Houston  city_Los Angeles  city_New York  city_Phoenix  \\\n",
      "0            0.0           0.0               0.0            1.0           0.0   \n",
      "1            0.0           0.0               1.0            0.0           0.0   \n",
      "2            1.0           0.0               0.0            0.0           0.0   \n",
      "3            0.0           1.0               0.0            0.0           0.0   \n",
      "4            0.0           0.0               0.0            0.0           1.0   \n",
      "5            0.0           0.0               0.0            1.0           0.0   \n",
      "6            0.0           0.0               1.0            0.0           0.0   \n",
      "7            1.0           0.0               0.0            0.0           0.0   \n",
      "8            0.0           1.0               0.0            0.0           0.0   \n",
      "9            0.0           0.0               0.0            0.0           1.0   \n",
      "10           0.0           0.0               0.0            1.0           0.0   \n",
      "11           0.0           0.0               1.0            0.0           0.0   \n",
      "12           1.0           0.0               0.0            0.0           0.0   \n",
      "13           0.0           1.0               0.0            0.0           0.0   \n",
      "14           0.0           0.0               0.0            0.0           1.0   \n",
      "15           0.0           0.0               0.0            1.0           0.0   \n",
      "16           0.0           0.0               1.0            0.0           0.0   \n",
      "17           1.0           0.0               0.0            0.0           0.0   \n",
      "18           0.0           1.0               0.0            0.0           0.0   \n",
      "19           0.0           0.0               0.0            0.0           1.0   \n",
      "20           0.0           0.0               0.0            1.0           0.0   \n",
      "21           0.0           0.0               1.0            0.0           0.0   \n",
      "22           1.0           0.0               0.0            0.0           0.0   \n",
      "23           0.0           1.0               0.0            0.0           0.0   \n",
      "24           0.0           0.0               0.0            0.0           1.0   \n",
      "\n",
      "    size  \n",
      "0    2.0  \n",
      "1    1.0  \n",
      "2    0.0  \n",
      "3    0.0  \n",
      "4    1.0  \n",
      "5    2.0  \n",
      "6    1.0  \n",
      "7    0.0  \n",
      "8    0.0  \n",
      "9    1.0  \n",
      "10   2.0  \n",
      "11   1.0  \n",
      "12   0.0  \n",
      "13   0.0  \n",
      "14   1.0  \n",
      "15   2.0  \n",
      "16   1.0  \n",
      "17   0.0  \n",
      "18   0.0  \n",
      "19   1.0  \n",
      "20   2.0  \n",
      "21   1.0  \n",
      "22   0.0  \n",
      "23   0.0  \n",
      "24   1.0  \n"
     ]
    }
   ],
   "execution_count": 15
  },
  {
   "metadata": {},
   "cell_type": "code",
   "outputs": [],
   "execution_count": null,
   "source": [
    "# Data imputation using a KNN imputer\n",
    "\n",
    "from sklearn.impute import KNNImputer # import the KNNImputer class\n",
    "\n",
    "miles = pd.DataFrame({\"farthest_run_mi\": [50, 62, np.nan, 100, 26, 13, 31, 50]})\n",
    "\n",
    "knn_imputer = KNNImputer(n_neighbors=2) # use 2 nearest neighbors to impute missing values\n",
    "\n",
    "result = knn_imputer.fit_transform(miles) # impute missing values in the 'farthest_run_mi' column\n",
    "\n",
    "miles['farthest_run_mi'] = result # update the original DataFrame"
   ],
   "id": "6c4af46924855b1e"
  }
 ],
 "metadata": {
  "kernelspec": {
   "display_name": "Python 3",
   "language": "python",
   "name": "python3"
  },
  "language_info": {
   "codemirror_mode": {
    "name": "ipython",
    "version": 2
   },
   "file_extension": ".py",
   "mimetype": "text/x-python",
   "name": "python",
   "nbconvert_exporter": "python",
   "pygments_lexer": "ipython2",
   "version": "2.7.6"
  }
 },
 "nbformat": 4,
 "nbformat_minor": 5
}

{
 "cells": [
  {
   "metadata": {},
   "cell_type": "markdown",
   "source": "# Feature Engineering",
   "id": "27ed5246b9dfd74b"
  },
  {
   "metadata": {},
   "cell_type": "markdown",
   "source": [
    "## Welcome to Feature Engineering!\n",
    "In this course you'll learn about one of the most important steps on the way to building a great machine learning model: feature engineering. You'll learn how to:\n",
    "\n",
    "+ determine which features are the most important with mutual information\n",
    "+ invent new features in several real-world problem domains\n",
    "+ encode high-cardinality categoricals with a target encoding\n",
    "+ create segmentation features with k-means clustering\n",
    "+ decompose a dataset's variation into features with principal component analysis"
   ],
   "id": "8d93857b809d8d8f"
  },
  {
   "metadata": {},
   "cell_type": "markdown",
   "source": [
    "## The Goal of Feature Engineering\n",
    "\n",
    "You might perform feature engineering to:\n",
    "\n",
    "+ improve a model's predictive performance\n",
    "+ reduce computational or data needs\n",
    "+ improve interpretability of the results"
   ],
   "id": "a252a22b429a6b9b"
  },
  {
   "metadata": {},
   "cell_type": "markdown",
   "source": "The Concrete dataset contains a variety of concrete formulations and the resulting product's compressive strength, which is a measure of how much load that kind of concrete can bear. The task for this dataset is to predict a concrete's compressive strength given its formulation.",
   "id": "8311b41ac8aea926"
  },
  {
   "metadata": {
    "ExecuteTime": {
     "end_time": "2024-09-25T16:37:48.726216Z",
     "start_time": "2024-09-25T16:37:46.239822Z"
    }
   },
   "cell_type": "code",
   "source": [
    "import pandas as pd\n",
    "from sklearn.ensemble import RandomForestRegressor\n",
    "from sklearn.model_selection import cross_val_score\n",
    "\n",
    "df = pd.read_csv(\"../../dataset/concrete.csv\")\n",
    "df.head()"
   ],
   "id": "1e13048e47f937fb",
   "outputs": [
    {
     "data": {
      "text/plain": [
       "   Cement  BlastFurnaceSlag  FlyAsh  Water  Superplasticizer  CoarseAggregate  \\\n",
       "0   540.0               0.0     0.0  162.0               2.5           1040.0   \n",
       "1   540.0               0.0     0.0  162.0               2.5           1055.0   \n",
       "2   332.5             142.5     0.0  228.0               0.0            932.0   \n",
       "3   332.5             142.5     0.0  228.0               0.0            932.0   \n",
       "4   198.6             132.4     0.0  192.0               0.0            978.4   \n",
       "\n",
       "   FineAggregate  Age  CompressiveStrength  \n",
       "0          676.0   28                79.99  \n",
       "1          676.0   28                61.89  \n",
       "2          594.0  270                40.27  \n",
       "3          594.0  365                41.05  \n",
       "4          825.5  360                44.30  "
      ],
      "text/html": [
       "<div>\n",
       "<style scoped>\n",
       "    .dataframe tbody tr th:only-of-type {\n",
       "        vertical-align: middle;\n",
       "    }\n",
       "\n",
       "    .dataframe tbody tr th {\n",
       "        vertical-align: top;\n",
       "    }\n",
       "\n",
       "    .dataframe thead th {\n",
       "        text-align: right;\n",
       "    }\n",
       "</style>\n",
       "<table border=\"1\" class=\"dataframe\">\n",
       "  <thead>\n",
       "    <tr style=\"text-align: right;\">\n",
       "      <th></th>\n",
       "      <th>Cement</th>\n",
       "      <th>BlastFurnaceSlag</th>\n",
       "      <th>FlyAsh</th>\n",
       "      <th>Water</th>\n",
       "      <th>Superplasticizer</th>\n",
       "      <th>CoarseAggregate</th>\n",
       "      <th>FineAggregate</th>\n",
       "      <th>Age</th>\n",
       "      <th>CompressiveStrength</th>\n",
       "    </tr>\n",
       "  </thead>\n",
       "  <tbody>\n",
       "    <tr>\n",
       "      <th>0</th>\n",
       "      <td>540.0</td>\n",
       "      <td>0.0</td>\n",
       "      <td>0.0</td>\n",
       "      <td>162.0</td>\n",
       "      <td>2.5</td>\n",
       "      <td>1040.0</td>\n",
       "      <td>676.0</td>\n",
       "      <td>28</td>\n",
       "      <td>79.99</td>\n",
       "    </tr>\n",
       "    <tr>\n",
       "      <th>1</th>\n",
       "      <td>540.0</td>\n",
       "      <td>0.0</td>\n",
       "      <td>0.0</td>\n",
       "      <td>162.0</td>\n",
       "      <td>2.5</td>\n",
       "      <td>1055.0</td>\n",
       "      <td>676.0</td>\n",
       "      <td>28</td>\n",
       "      <td>61.89</td>\n",
       "    </tr>\n",
       "    <tr>\n",
       "      <th>2</th>\n",
       "      <td>332.5</td>\n",
       "      <td>142.5</td>\n",
       "      <td>0.0</td>\n",
       "      <td>228.0</td>\n",
       "      <td>0.0</td>\n",
       "      <td>932.0</td>\n",
       "      <td>594.0</td>\n",
       "      <td>270</td>\n",
       "      <td>40.27</td>\n",
       "    </tr>\n",
       "    <tr>\n",
       "      <th>3</th>\n",
       "      <td>332.5</td>\n",
       "      <td>142.5</td>\n",
       "      <td>0.0</td>\n",
       "      <td>228.0</td>\n",
       "      <td>0.0</td>\n",
       "      <td>932.0</td>\n",
       "      <td>594.0</td>\n",
       "      <td>365</td>\n",
       "      <td>41.05</td>\n",
       "    </tr>\n",
       "    <tr>\n",
       "      <th>4</th>\n",
       "      <td>198.6</td>\n",
       "      <td>132.4</td>\n",
       "      <td>0.0</td>\n",
       "      <td>192.0</td>\n",
       "      <td>0.0</td>\n",
       "      <td>978.4</td>\n",
       "      <td>825.5</td>\n",
       "      <td>360</td>\n",
       "      <td>44.30</td>\n",
       "    </tr>\n",
       "  </tbody>\n",
       "</table>\n",
       "</div>"
      ]
     },
     "execution_count": 1,
     "metadata": {},
     "output_type": "execute_result"
    }
   ],
   "execution_count": 1
  },
  {
   "metadata": {},
   "cell_type": "markdown",
   "source": [
    "You can see here the various ingredients going into each variety of concrete. We'll see in a moment how adding some additional synthetic features derived from these can help a model to learn important relationships among them.\n",
    "\n",
    "We'll first establish a baseline by training the model on the un-augmented dataset. This will help us determine whether our new features are actually useful.\n",
    "\n",
    "Establishing baselines like this is good practice at the start of the feature engineering process. A baseline score can help you decide whether your new features are worth keeping, or whether you should discard them and possibly try something else."
   ],
   "id": "7f3f3cf72ac7ed75"
  },
  {
   "metadata": {
    "ExecuteTime": {
     "end_time": "2024-09-25T16:38:57.182358Z",
     "start_time": "2024-09-25T16:38:41.539161Z"
    }
   },
   "cell_type": "code",
   "source": [
    "X = df.copy() # Create a copy of the data\n",
    "y = X.pop(\"CompressiveStrength\") # Remove the target variable from the data\n",
    "\n",
    "# Train and score baseline model\n",
    "baseline = RandomForestRegressor(criterion=\"absolute_error\", random_state=0) # Create the baseline model\n",
    "baseline_score = cross_val_score(\n",
    "    baseline, X, y, cv=5, scoring=\"neg_mean_absolute_error\" # Score the baseline model\n",
    ")\n",
    "baseline_score = -1 * baseline_score.mean() # Calculate the mean of the cross-validated scores\n",
    "\n",
    "print(f\"MAE Baseline Score: {baseline_score:.4}\")"
   ],
   "id": "6ce4c81804d2661f",
   "outputs": [
    {
     "name": "stdout",
     "output_type": "stream",
     "text": [
      "MAE Baseline Score: 8.232\n"
     ]
    }
   ],
   "execution_count": 2
  },
  {
   "metadata": {},
   "cell_type": "markdown",
   "source": [
    "If you ever cook at home, you might know that the ratio of ingredients in a recipe is usually a better predictor of how the recipe turns out than their absolute amounts. We might reason then that ratios of the features above would be a good predictor of CompressiveStrength.\n",
    "\n",
    "The cell below adds three new ratio features to the dataset."
   ],
   "id": "1bbf18e0bc890c36"
  },
  {
   "metadata": {
    "ExecuteTime": {
     "end_time": "2024-09-25T16:40:10.492827Z",
     "start_time": "2024-09-25T16:39:33.068774Z"
    }
   },
   "cell_type": "code",
   "source": [
    "X = df.copy()\n",
    "y = X.pop(\"CompressiveStrength\")\n",
    "\n",
    "# Create synthetic features\n",
    "X[\"FCRatio\"] = X[\"FineAggregate\"] / X[\"CoarseAggregate\"] # Fine to Coarse aggregate ratio\n",
    "X[\"AggCmtRatio\"] = (X[\"CoarseAggregate\"] + X[\"FineAggregate\"]) / X[\"Cement\"] # Aggregate to Cement ratio\n",
    "X[\"WtrCmtRatio\"] = X[\"Water\"] / X[\"Cement\"] # Water to Cement ratio\n",
    "\n",
    "# Train and score model on dataset with additional ratio features\n",
    "model = RandomForestRegressor(criterion=\"absolute_error\", random_state=0)\n",
    "score = cross_val_score(\n",
    "    model, X, y, cv=5, scoring=\"neg_mean_absolute_error\"\n",
    ")\n",
    "score = -1 * score.mean()\n",
    "\n",
    "print(f\"MAE Score with Ratio Features: {score:.4}\")"
   ],
   "id": "fc6140dfadc22d45",
   "outputs": [
    {
     "name": "stdout",
     "output_type": "stream",
     "text": [
      "MAE Score with Ratio Features: 7.948\n"
     ]
    }
   ],
   "execution_count": 3
  },
  {
   "metadata": {},
   "cell_type": "markdown",
   "source": [
    "# Mutual Information\n",
    "\n",
    "Mutual information is a great general-purpose metric and especially useful at the start of feature development when you might not know what model you'd like to use yet.\n",
    " \n",
    "It is:\n",
    "\n",
    "+ easy to use and interpret\n",
    "+ computationally efficient\n",
    "+ theoretically well-founded\n",
    "+ resistant to overfitting\n",
    "+ able to detect any kind of relationship"
   ],
   "id": "9952ee7361e4633"
  },
  {
   "metadata": {},
   "cell_type": "markdown",
   "source": [
    "## Interpreting Mutual Information Scores\n",
    "\n",
    "The least possible mutual information between quantities is 0.0. When MI is zero, the quantities are independent: neither can tell you anything about the other. Conversely, in theory there's no upper bound to what MI can be. In practice though values above 2.0 or so are uncommon. (Mutual information is a logarithmic quantity, so it increases very slowly.)\n",
    "\n",
    "The next figure will give you an idea of how MI values correspond to the kind and degree of association a feature has with the target."
   ],
   "id": "4ac2ae729aec1c2a"
  },
  {
   "metadata": {},
   "cell_type": "markdown",
   "source": [
    "### Here are some things to remember when applying mutual information:\n",
    "\n",
    "MI can help you to understand the relative potential of a feature as a predictor of the target, considered by itself.\n",
    "It's possible for a feature to be very informative when interacting with other features, but not so informative all alone. MI can't detect interactions between features. It is a univariate metric.\n",
    "The actual usefulness of a feature depends on the model you use it with. A feature is only useful to the extent that its relationship with the target is one your model can learn. Just because a feature has a high MI score doesn't mean your model will be able to do anything with that information. You may need to transform the feature first to expose the association."
   ],
   "id": "ad95405c181ff0d4"
  },
  {
   "metadata": {},
   "cell_type": "markdown",
   "source": [
    "## Example - 1985 Automobiles\n",
    "\n",
    "The Automobile dataset consists of 193 cars from the 1985 model year. The goal for this dataset is to predict a car's price (the target) from 23 of the car's features, such as make, body_style, and horsepower. In this example, we'll rank the features with mutual information and investigate the results by data visualization.\n",
    "\n",
    "This hidden cell imports some libraries and loads the dataset."
   ],
   "id": "a6776a16124e8c49"
  },
  {
   "metadata": {
    "ExecuteTime": {
     "end_time": "2024-09-25T16:48:03.428660Z",
     "start_time": "2024-09-25T16:48:03.391877Z"
    }
   },
   "cell_type": "code",
   "source": [
    "import matplotlib.pyplot as plt\n",
    "import pandas as pd\n",
    "import seaborn as sns\n",
    "\n",
    "\n",
    "df = pd.read_csv(\"../../dataset/autos.csv\")\n",
    "df.head()"
   ],
   "id": "c8445e74622b5d38",
   "outputs": [
    {
     "data": {
      "text/plain": [
       "   symboling         make fuel_type aspiration  num_of_doors   body_style  \\\n",
       "0          3  alfa-romero       gas        std             2  convertible   \n",
       "1          3  alfa-romero       gas        std             2  convertible   \n",
       "2          1  alfa-romero       gas        std             2    hatchback   \n",
       "3          2         audi       gas        std             4        sedan   \n",
       "4          2         audi       gas        std             4        sedan   \n",
       "\n",
       "  drive_wheels engine_location  wheel_base  length  ...  engine_size  \\\n",
       "0          rwd           front        88.6   168.8  ...          130   \n",
       "1          rwd           front        88.6   168.8  ...          130   \n",
       "2          rwd           front        94.5   171.2  ...          152   \n",
       "3          fwd           front        99.8   176.6  ...          109   \n",
       "4          4wd           front        99.4   176.6  ...          136   \n",
       "\n",
       "   fuel_system  bore stroke  compression_ratio  horsepower peak_rpm  city_mpg  \\\n",
       "0         mpfi  3.47   2.68                  9         111     5000        21   \n",
       "1         mpfi  3.47   2.68                  9         111     5000        21   \n",
       "2         mpfi  2.68   3.47                  9         154     5000        19   \n",
       "3         mpfi  3.19   3.40                 10         102     5500        24   \n",
       "4         mpfi  3.19   3.40                  8         115     5500        18   \n",
       "\n",
       "   highway_mpg  price  \n",
       "0           27  13495  \n",
       "1           27  16500  \n",
       "2           26  16500  \n",
       "3           30  13950  \n",
       "4           22  17450  \n",
       "\n",
       "[5 rows x 25 columns]"
      ],
      "text/html": [
       "<div>\n",
       "<style scoped>\n",
       "    .dataframe tbody tr th:only-of-type {\n",
       "        vertical-align: middle;\n",
       "    }\n",
       "\n",
       "    .dataframe tbody tr th {\n",
       "        vertical-align: top;\n",
       "    }\n",
       "\n",
       "    .dataframe thead th {\n",
       "        text-align: right;\n",
       "    }\n",
       "</style>\n",
       "<table border=\"1\" class=\"dataframe\">\n",
       "  <thead>\n",
       "    <tr style=\"text-align: right;\">\n",
       "      <th></th>\n",
       "      <th>symboling</th>\n",
       "      <th>make</th>\n",
       "      <th>fuel_type</th>\n",
       "      <th>aspiration</th>\n",
       "      <th>num_of_doors</th>\n",
       "      <th>body_style</th>\n",
       "      <th>drive_wheels</th>\n",
       "      <th>engine_location</th>\n",
       "      <th>wheel_base</th>\n",
       "      <th>length</th>\n",
       "      <th>...</th>\n",
       "      <th>engine_size</th>\n",
       "      <th>fuel_system</th>\n",
       "      <th>bore</th>\n",
       "      <th>stroke</th>\n",
       "      <th>compression_ratio</th>\n",
       "      <th>horsepower</th>\n",
       "      <th>peak_rpm</th>\n",
       "      <th>city_mpg</th>\n",
       "      <th>highway_mpg</th>\n",
       "      <th>price</th>\n",
       "    </tr>\n",
       "  </thead>\n",
       "  <tbody>\n",
       "    <tr>\n",
       "      <th>0</th>\n",
       "      <td>3</td>\n",
       "      <td>alfa-romero</td>\n",
       "      <td>gas</td>\n",
       "      <td>std</td>\n",
       "      <td>2</td>\n",
       "      <td>convertible</td>\n",
       "      <td>rwd</td>\n",
       "      <td>front</td>\n",
       "      <td>88.6</td>\n",
       "      <td>168.8</td>\n",
       "      <td>...</td>\n",
       "      <td>130</td>\n",
       "      <td>mpfi</td>\n",
       "      <td>3.47</td>\n",
       "      <td>2.68</td>\n",
       "      <td>9</td>\n",
       "      <td>111</td>\n",
       "      <td>5000</td>\n",
       "      <td>21</td>\n",
       "      <td>27</td>\n",
       "      <td>13495</td>\n",
       "    </tr>\n",
       "    <tr>\n",
       "      <th>1</th>\n",
       "      <td>3</td>\n",
       "      <td>alfa-romero</td>\n",
       "      <td>gas</td>\n",
       "      <td>std</td>\n",
       "      <td>2</td>\n",
       "      <td>convertible</td>\n",
       "      <td>rwd</td>\n",
       "      <td>front</td>\n",
       "      <td>88.6</td>\n",
       "      <td>168.8</td>\n",
       "      <td>...</td>\n",
       "      <td>130</td>\n",
       "      <td>mpfi</td>\n",
       "      <td>3.47</td>\n",
       "      <td>2.68</td>\n",
       "      <td>9</td>\n",
       "      <td>111</td>\n",
       "      <td>5000</td>\n",
       "      <td>21</td>\n",
       "      <td>27</td>\n",
       "      <td>16500</td>\n",
       "    </tr>\n",
       "    <tr>\n",
       "      <th>2</th>\n",
       "      <td>1</td>\n",
       "      <td>alfa-romero</td>\n",
       "      <td>gas</td>\n",
       "      <td>std</td>\n",
       "      <td>2</td>\n",
       "      <td>hatchback</td>\n",
       "      <td>rwd</td>\n",
       "      <td>front</td>\n",
       "      <td>94.5</td>\n",
       "      <td>171.2</td>\n",
       "      <td>...</td>\n",
       "      <td>152</td>\n",
       "      <td>mpfi</td>\n",
       "      <td>2.68</td>\n",
       "      <td>3.47</td>\n",
       "      <td>9</td>\n",
       "      <td>154</td>\n",
       "      <td>5000</td>\n",
       "      <td>19</td>\n",
       "      <td>26</td>\n",
       "      <td>16500</td>\n",
       "    </tr>\n",
       "    <tr>\n",
       "      <th>3</th>\n",
       "      <td>2</td>\n",
       "      <td>audi</td>\n",
       "      <td>gas</td>\n",
       "      <td>std</td>\n",
       "      <td>4</td>\n",
       "      <td>sedan</td>\n",
       "      <td>fwd</td>\n",
       "      <td>front</td>\n",
       "      <td>99.8</td>\n",
       "      <td>176.6</td>\n",
       "      <td>...</td>\n",
       "      <td>109</td>\n",
       "      <td>mpfi</td>\n",
       "      <td>3.19</td>\n",
       "      <td>3.40</td>\n",
       "      <td>10</td>\n",
       "      <td>102</td>\n",
       "      <td>5500</td>\n",
       "      <td>24</td>\n",
       "      <td>30</td>\n",
       "      <td>13950</td>\n",
       "    </tr>\n",
       "    <tr>\n",
       "      <th>4</th>\n",
       "      <td>2</td>\n",
       "      <td>audi</td>\n",
       "      <td>gas</td>\n",
       "      <td>std</td>\n",
       "      <td>4</td>\n",
       "      <td>sedan</td>\n",
       "      <td>4wd</td>\n",
       "      <td>front</td>\n",
       "      <td>99.4</td>\n",
       "      <td>176.6</td>\n",
       "      <td>...</td>\n",
       "      <td>136</td>\n",
       "      <td>mpfi</td>\n",
       "      <td>3.19</td>\n",
       "      <td>3.40</td>\n",
       "      <td>8</td>\n",
       "      <td>115</td>\n",
       "      <td>5500</td>\n",
       "      <td>18</td>\n",
       "      <td>22</td>\n",
       "      <td>17450</td>\n",
       "    </tr>\n",
       "  </tbody>\n",
       "</table>\n",
       "<p>5 rows × 25 columns</p>\n",
       "</div>"
      ]
     },
     "execution_count": 6,
     "metadata": {},
     "output_type": "execute_result"
    }
   ],
   "execution_count": 6
  },
  {
   "metadata": {},
   "cell_type": "markdown",
   "source": "The scikit-learn algorithm for MI treats discrete features differently from continuous features. Consequently, you need to tell it which are which. As a rule of thumb, anything that must have a float dtype is not discrete. Categoricals (object or categorial dtype) can be treated as discrete by giving them a label encoding.",
   "id": "4aed0f65a95568c9"
  },
  {
   "metadata": {
    "ExecuteTime": {
     "end_time": "2024-09-25T16:48:11.221493Z",
     "start_time": "2024-09-25T16:48:11.202703Z"
    }
   },
   "cell_type": "code",
   "source": [
    "X = df.copy()\n",
    "y = X.pop(\"price\")\n",
    "\n",
    "# Label encoding for categoricals\n",
    "for colname in X.select_dtypes(\"object\"):\n",
    "    X[colname], _ = X[colname].factorize()\n",
    "\n",
    "# All discrete features should now have integer dtypes (double-check this before using MI!)\n",
    "discrete_features = X.dtypes == int"
   ],
   "id": "a372874d40459d22",
   "outputs": [],
   "execution_count": 7
  },
  {
   "metadata": {},
   "cell_type": "markdown",
   "source": "Scikit-learn has two mutual information metrics in its feature_selection module: one for real-valued targets (mutual_info_regression) and one for categorical targets (mutual_info_classif). Our target, price, is real-valued. The next cell computes the MI scores for our features and wraps them up in a nice dataframe.",
   "id": "e413799851668819"
  },
  {
   "metadata": {
    "ExecuteTime": {
     "end_time": "2024-09-25T16:49:40.325069Z",
     "start_time": "2024-09-25T16:49:37.863045Z"
    }
   },
   "cell_type": "code",
   "source": [
    "from sklearn.feature_selection import mutual_info_regression\n",
    "\n",
    "def make_mi_scores(X, y, discrete_features):\n",
    "    mi_scores = mutual_info_regression(X, y, discrete_features=discrete_features)\n",
    "    mi_scores = pd.Series(mi_scores, name=\"MI Scores\", index=X.columns)\n",
    "    mi_scores = mi_scores.sort_values(ascending=False)\n",
    "    return mi_scores\n",
    "\n",
    "mi_scores = make_mi_scores(X, y, discrete_features)\n",
    "print(mi_scores[::3])  # show a few features with their MI scores"
   ],
   "id": "8a66923a1f27143f",
   "outputs": [
    {
     "name": "stdout",
     "output_type": "stream",
     "text": [
      "curb_weight          1.526360\n",
      "highway_mpg          0.958830\n",
      "length               0.603724\n",
      "bore                 0.499503\n",
      "stroke               0.384121\n",
      "num_of_cylinders     0.331337\n",
      "compression_ratio    0.133132\n",
      "fuel_type            0.047298\n",
      "Name: MI Scores, dtype: float64\n"
     ]
    }
   ],
   "execution_count": 8
  },
  {
   "metadata": {},
   "cell_type": "markdown",
   "source": "And now a bar plot to make comparisions easier:",
   "id": "fb8b020865dc7a28"
  },
  {
   "metadata": {
    "ExecuteTime": {
     "end_time": "2024-09-25T16:50:24.905556Z",
     "start_time": "2024-09-25T16:50:23.163477Z"
    }
   },
   "cell_type": "code",
   "source": [
    "def plot_mi_scores(scores):\n",
    "    scores = scores.sort_values(ascending=True)\n",
    "    width = np.arange(len(scores))\n",
    "    ticks = list(scores.index)\n",
    "    plt.barh(width, scores)\n",
    "    plt.yticks(width, ticks)\n",
    "    plt.title(\"Mutual Information Scores\")\n",
    "\n",
    "\n",
    "plt.figure(dpi=100, figsize=(8, 5))\n",
    "plot_mi_scores(mi_scores)"
   ],
   "id": "65e4bb1689d342d8",
   "outputs": [
    {
     "data": {
      "text/plain": [
       "<Figure size 800x500 with 1 Axes>"
      ],
      "image/png": "[encoded data removed]"
     },
     "metadata": {},
     "output_type": "display_data"
    }
   ],
   "execution_count": 9
  },
  {
   "metadata": {},
   "cell_type": "markdown",
   "source": [
    "Data visualization is a great follow-up to a utility ranking. Let's take a closer look at a couple of these.\n",
    "\n",
    "As we might expect, the high-scoring curb_weight feature exhibits a strong relationship with price, the target."
   ],
   "id": "c682866096a58ff6"
  },
  {
   "metadata": {
    "ExecuteTime": {
     "end_time": "2024-09-25T16:51:20.729743Z",
     "start_time": "2024-09-25T16:51:20.306003Z"
    }
   },
   "cell_type": "code",
   "source": "sns.relplot(x=\"curb_weight\", y=\"price\", data=df);",
   "id": "8ba98f525da0fb52",
   "outputs": [
    {
     "data": {
      "text/plain": [
       "<Figure size 500x500 with 1 Axes>"
      ],
      "image/png": "[encoded data removed]"
     },
     "metadata": {},
     "output_type": "display_data"
    }
   ],
   "execution_count": 10
  },
  {
   "metadata": {},
   "cell_type": "markdown",
   "source": "The fuel_type feature has a fairly low MI score, but as we can see from the figure, it clearly separates two price populations with different trends within the horsepower feature. This indicates that fuel_type contributes an interaction effect and might not be unimportant after all. Before deciding a feature is unimportant from its MI score, it's good to investigate any possible interaction effects -- domain knowledge can offer a lot of guidance here.",
   "id": "4af9ac60cbb28474"
  },
  {
   "metadata": {
    "ExecuteTime": {
     "end_time": "2024-09-25T16:51:58.642733Z",
     "start_time": "2024-09-25T16:51:56.920089Z"
    }
   },
   "cell_type": "code",
   "source": "sns.lmplot(x=\"horsepower\", y=\"price\", hue=\"fuel_type\", data=df);",
   "id": "48b40bc00312c0b",
   "outputs": [
    {
     "data": {
      "text/plain": [
       "<Figure size 590.75x500 with 1 Axes>"
      ],
      "image/png": "[encoded data removed]"
     },
     "metadata": {},
     "output_type": "display_data"
    }
   ],
   "execution_count": 11
  },
  {
   "metadata": {},
   "cell_type": "markdown",
   "source": "## Creating Features",
   "id": "431248862701497c"
  },
  {
   "metadata": {
    "ExecuteTime": {
     "end_time": "2024-09-25T19:53:52.578399Z",
     "start_time": "2024-09-25T19:53:52.082345Z"
    }
   },
   "cell_type": "code",
   "source": [
    "import matplotlib.pyplot as plt\n",
    "import numpy as np\n",
    "import pandas as pd\n",
    "import seaborn as sns\n",
    "\n",
    "plt.rc(\"figure\", autolayout=True)\n",
    "plt.rc(\n",
    "    \"axes\",\n",
    "    labelweight=\"bold\",\n",
    "    labelsize=\"large\",\n",
    "    titleweight=\"bold\",\n",
    "    titlesize=14,\n",
    "    titlepad=10,\n",
    ")\n",
    "\n",
    "accidents = pd.read_csv(\"../../dataset/accidents.csv.zip\")\n",
    "autos = pd.read_csv(\"../../dataset/autos.csv\")\n",
    "concrete = pd.read_csv(\"../../dataset/concrete.csv\")\n",
    "customer = pd.read_csv(\"../../dataset/customer.csv.zip\")"
   ],
   "id": "58523910c409ecb6",
   "outputs": [],
   "execution_count": 1
  },
  {
   "metadata": {},
   "cell_type": "markdown",
   "source": [
    "## Tips on Discovering New Features\n",
    "\n",
    "1. Understand the features. Refer to your dataset's data documentation, if available.\n",
    "2. Research the problem domain to acquire domain knowledge. If your problem is predicting house prices, do some research on real-estate for instance. Wikipedia can be a good starting point, but books and journal articles will often have the best information.\n",
    "3. Study previous work. Solution write-ups from past Kaggle competitions are a great resource.\n",
    "4. Use data visualization. Visualization can reveal pathologies in the distribution of a feature or complicated relationships that could be simplified. Be sure to visualize your dataset as you work through the feature engineering process."
   ],
   "id": "c65192646f958d5c"
  },
  {
   "metadata": {},
   "cell_type": "markdown",
   "source": [
    "## Mathematical Transforms\n",
    "Relationships among numerical features are often expressed through mathematical formulas, which you'll frequently come across as part of your domain research. In Pandas, you can apply arithmetic operations to columns just as if they were ordinary numbers.\n",
    "\n",
    "In the Automobile dataset are features describing a car's engine. Research yields a variety of formulas for creating potentially useful new features. The \"stroke ratio\", for instance, is a measure of how efficient an engine is versus how performant:"
   ],
   "id": "b7d2198ee7e56cc1"
  },
  {
   "metadata": {
    "ExecuteTime": {
     "end_time": "2024-09-25T19:54:00.381146Z",
     "start_time": "2024-09-25T19:54:00.359362Z"
    }
   },
   "cell_type": "code",
   "source": [
    "autos[\"stroke_ratio\"] = autos.stroke / autos.bore\n",
    "\n",
    "autos[[\"stroke\", \"bore\", \"stroke_ratio\"]].head()"
   ],
   "id": "475f1f9b17d03714",
   "outputs": [
    {
     "data": {
      "text/plain": [
       "   stroke  bore  stroke_ratio\n",
       "0    2.68  3.47      0.772334\n",
       "1    2.68  3.47      0.772334\n",
       "2    3.47  2.68      1.294776\n",
       "3    3.40  3.19      1.065831\n",
       "4    3.40  3.19      1.065831"
      ],
      "text/html": [
       "<div>\n",
       "<style scoped>\n",
       "    .dataframe tbody tr th:only-of-type {\n",
       "        vertical-align: middle;\n",
       "    }\n",
       "\n",
       "    .dataframe tbody tr th {\n",
       "        vertical-align: top;\n",
       "    }\n",
       "\n",
       "    .dataframe thead th {\n",
       "        text-align: right;\n",
       "    }\n",
       "</style>\n",
       "<table border=\"1\" class=\"dataframe\">\n",
       "  <thead>\n",
       "    <tr style=\"text-align: right;\">\n",
       "      <th></th>\n",
       "      <th>stroke</th>\n",
       "      <th>bore</th>\n",
       "      <th>stroke_ratio</th>\n",
       "    </tr>\n",
       "  </thead>\n",
       "  <tbody>\n",
       "    <tr>\n",
       "      <th>0</th>\n",
       "      <td>2.68</td>\n",
       "      <td>3.47</td>\n",
       "      <td>0.772334</td>\n",
       "    </tr>\n",
       "    <tr>\n",
       "      <th>1</th>\n",
       "      <td>2.68</td>\n",
       "      <td>3.47</td>\n",
       "      <td>0.772334</td>\n",
       "    </tr>\n",
       "    <tr>\n",
       "      <th>2</th>\n",
       "      <td>3.47</td>\n",
       "      <td>2.68</td>\n",
       "      <td>1.294776</td>\n",
       "    </tr>\n",
       "    <tr>\n",
       "      <th>3</th>\n",
       "      <td>3.40</td>\n",
       "      <td>3.19</td>\n",
       "      <td>1.065831</td>\n",
       "    </tr>\n",
       "    <tr>\n",
       "      <th>4</th>\n",
       "      <td>3.40</td>\n",
       "      <td>3.19</td>\n",
       "      <td>1.065831</td>\n",
       "    </tr>\n",
       "  </tbody>\n",
       "</table>\n",
       "</div>"
      ]
     },
     "execution_count": 2,
     "metadata": {},
     "output_type": "execute_result"
    }
   ],
   "execution_count": 2
  },
  {
   "metadata": {},
   "cell_type": "markdown",
   "source": "The more complicated a combination is, the more difficult it will be for a model to learn, like this formula for an engine's \"displacement\", a measure of its power:",
   "id": "16d3f32caefdf1aa"
  },
  {
   "metadata": {
    "ExecuteTime": {
     "end_time": "2024-09-25T19:54:05.752950Z",
     "start_time": "2024-09-25T19:54:05.743719Z"
    }
   },
   "cell_type": "code",
   "source": [
    "autos[\"displacement\"] = (\n",
    "    np.pi * ((0.5 * autos.bore) ** 2) * autos.stroke * autos.num_of_cylinders\n",
    ")\n",
    "autos[[\"displacement\", \"bore\", \"num_of_cylinders\"]].head()"
   ],
   "id": "d0d508e4d414b025",
   "outputs": [
    {
     "data": {
      "text/plain": [
       "   displacement  bore  num_of_cylinders\n",
       "0    101.377976  3.47                 4\n",
       "1    101.377976  3.47                 4\n",
       "2    117.446531  2.68                 6\n",
       "3    108.695147  3.19                 4\n",
       "4    135.868934  3.19                 5"
      ],
      "text/html": [
       "<div>\n",
       "<style scoped>\n",
       "    .dataframe tbody tr th:only-of-type {\n",
       "        vertical-align: middle;\n",
       "    }\n",
       "\n",
       "    .dataframe tbody tr th {\n",
       "        vertical-align: top;\n",
       "    }\n",
       "\n",
       "    .dataframe thead th {\n",
       "        text-align: right;\n",
       "    }\n",
       "</style>\n",
       "<table border=\"1\" class=\"dataframe\">\n",
       "  <thead>\n",
       "    <tr style=\"text-align: right;\">\n",
       "      <th></th>\n",
       "      <th>displacement</th>\n",
       "      <th>bore</th>\n",
       "      <th>num_of_cylinders</th>\n",
       "    </tr>\n",
       "  </thead>\n",
       "  <tbody>\n",
       "    <tr>\n",
       "      <th>0</th>\n",
       "      <td>101.377976</td>\n",
       "      <td>3.47</td>\n",
       "      <td>4</td>\n",
       "    </tr>\n",
       "    <tr>\n",
       "      <th>1</th>\n",
       "      <td>101.377976</td>\n",
       "      <td>3.47</td>\n",
       "      <td>4</td>\n",
       "    </tr>\n",
       "    <tr>\n",
       "      <th>2</th>\n",
       "      <td>117.446531</td>\n",
       "      <td>2.68</td>\n",
       "      <td>6</td>\n",
       "    </tr>\n",
       "    <tr>\n",
       "      <th>3</th>\n",
       "      <td>108.695147</td>\n",
       "      <td>3.19</td>\n",
       "      <td>4</td>\n",
       "    </tr>\n",
       "    <tr>\n",
       "      <th>4</th>\n",
       "      <td>135.868934</td>\n",
       "      <td>3.19</td>\n",
       "      <td>5</td>\n",
       "    </tr>\n",
       "  </tbody>\n",
       "</table>\n",
       "</div>"
      ]
     },
     "execution_count": 3,
     "metadata": {},
     "output_type": "execute_result"
    }
   ],
   "execution_count": 3
  },
  {
   "metadata": {},
   "cell_type": "markdown",
   "source": "Data visualization can suggest transformations, often a \"reshaping\" of a feature through powers or logarithms. The distribution of WindSpeed in US Accidents is highly skewed, for instance. In this case the logarithm is effective at normalizing it:",
   "id": "34c87e0e244d080e"
  },
  {
   "metadata": {
    "ExecuteTime": {
     "end_time": "2024-09-25T19:54:57.939400Z",
     "start_time": "2024-09-25T19:54:56.432797Z"
    }
   },
   "cell_type": "code",
   "source": [
    "# If the feature has 0.0 values, use np.log1p (log(1+x)) instead of np.log\n",
    "accidents[\"LogWindSpeed\"] = accidents.WindSpeed.apply(np.log1p)\n",
    "\n",
    "# Plot a comparison\n",
    "fig, axs = plt.subplots(1, 2, figsize=(8, 4))\n",
    "sns.kdeplot(accidents.WindSpeed, fill=True, ax=axs[0])\n",
    "sns.kdeplot(accidents.LogWindSpeed, fill=True, ax=axs[1])"
   ],
   "id": "b10d9fcd35d5858e",
   "outputs": [
    {
     "data": {
      "text/plain": [
       "<Axes: xlabel='LogWindSpeed', ylabel='Density'>"
      ]
     },
     "execution_count": 5,
     "metadata": {},
     "output_type": "execute_result"
    },
    {
     "data": {
      "text/plain": [
       "<Figure size 800x400 with 2 Axes>"
      ],
      "image/png": "[encoded data removed]"
     },
     "metadata": {},
     "output_type": "display_data"
    }
   ],
   "execution_count": 5
  },
  {
   "metadata": {},
   "cell_type": "markdown",
   "source": [
    "## Counts\n",
    "\n",
    "Features describing the presence or absence of something often come in sets, the set of risk factors for a disease, say. You can aggregate such features by creating a count.\n",
    "\n",
    "These features will be binary (1 for Present, 0 for Absent) or boolean (True or False). In Python, booleans can be added up just as if they were integers.\n",
    "\n",
    "In Traffic Accidents are several features indicating whether some roadway object was near the accident. This will create a count of the total number of roadway features nearby using the sum method:"
   ],
   "id": "58dd84ccc2e30c79"
  },
  {
   "metadata": {
    "ExecuteTime": {
     "end_time": "2024-09-25T19:59:36.413549Z",
     "start_time": "2024-09-25T19:59:36.389971Z"
    }
   },
   "cell_type": "code",
   "source": [
    "roadway_features = [\"Amenity\", \"Bump\", \"Crossing\", \"GiveWay\",\n",
    "    \"Junction\", \"NoExit\", \"Railway\", \"Roundabout\", \"Station\", \"Stop\",\n",
    "    \"TrafficCalming\", \"TrafficSignal\"]\n",
    "accidents[\"RoadwayFeatures\"] = accidents[roadway_features].sum(axis=1)\n",
    "\n",
    "accidents[roadway_features + [\"RoadwayFeatures\"]].head(10)"
   ],
   "id": "8ba619dbdac7fda2",
   "outputs": [
    {
     "data": {
      "text/plain": [
       "   Amenity   Bump  Crossing  GiveWay  Junction  NoExit  Railway  Roundabout  \\\n",
       "0    False  False     False    False     False   False    False       False   \n",
       "1    False  False     False    False     False   False    False       False   \n",
       "2    False  False     False    False     False   False    False       False   \n",
       "3    False  False     False    False     False   False    False       False   \n",
       "4    False  False     False    False     False   False    False       False   \n",
       "5    False  False     False    False      True   False    False       False   \n",
       "6    False  False     False    False     False   False    False       False   \n",
       "7    False  False      True    False     False   False    False       False   \n",
       "8    False  False      True    False     False   False    False       False   \n",
       "9    False  False     False    False     False   False    False       False   \n",
       "\n",
       "   Station   Stop  TrafficCalming  TrafficSignal  RoadwayFeatures  \n",
       "0    False  False           False          False                0  \n",
       "1    False  False           False          False                0  \n",
       "2    False  False           False          False                0  \n",
       "3    False  False           False          False                0  \n",
       "4    False  False           False          False                0  \n",
       "5    False  False           False          False                1  \n",
       "6    False  False           False          False                0  \n",
       "7    False  False           False           True                2  \n",
       "8    False  False           False           True                2  \n",
       "9    False  False           False          False                0  "
      ],
      "text/html": [
       "<div>\n",
       "<style scoped>\n",
       "    .dataframe tbody tr th:only-of-type {\n",
       "        vertical-align: middle;\n",
       "    }\n",
       "\n",
       "    .dataframe tbody tr th {\n",
       "        vertical-align: top;\n",
       "    }\n",
       "\n",
       "    .dataframe thead th {\n",
       "        text-align: right;\n",
       "    }\n",
       "</style>\n",
       "<table border=\"1\" class=\"dataframe\">\n",
       "  <thead>\n",
       "    <tr style=\"text-align: right;\">\n",
       "      <th></th>\n",
       "      <th>Amenity</th>\n",
       "      <th>Bump</th>\n",
       "      <th>Crossing</th>\n",
       "      <th>GiveWay</th>\n",
       "      <th>Junction</th>\n",
       "      <th>NoExit</th>\n",
       "      <th>Railway</th>\n",
       "      <th>Roundabout</th>\n",
       "      <th>Station</th>\n",
       "      <th>Stop</th>\n",
       "      <th>TrafficCalming</th>\n",
       "      <th>TrafficSignal</th>\n",
       "      <th>RoadwayFeatures</th>\n",
       "    </tr>\n",
       "  </thead>\n",
       "  <tbody>\n",
       "    <tr>\n",
       "      <th>0</th>\n",
       "      <td>False</td>\n",
       "      <td>False</td>\n",
       "      <td>False</td>\n",
       "      <td>False</td>\n",
       "      <td>False</td>\n",
       "      <td>False</td>\n",
       "      <td>False</td>\n",
       "      <td>False</td>\n",
       "      <td>False</td>\n",
       "      <td>False</td>\n",
       "      <td>False</td>\n",
       "      <td>False</td>\n",
       "      <td>0</td>\n",
       "    </tr>\n",
       "    <tr>\n",
       "      <th>1</th>\n",
       "      <td>False</td>\n",
       "      <td>False</td>\n",
       "      <td>False</td>\n",
       "      <td>False</td>\n",
       "      <td>False</td>\n",
       "      <td>False</td>\n",
       "      <td>False</td>\n",
       "      <td>False</td>\n",
       "      <td>False</td>\n",
       "      <td>False</td>\n",
       "      <td>False</td>\n",
       "      <td>False</td>\n",
       "      <td>0</td>\n",
       "    </tr>\n",
       "    <tr>\n",
       "      <th>2</th>\n",
       "      <td>False</td>\n",
       "      <td>False</td>\n",
       "      <td>False</td>\n",
       "      <td>False</td>\n",
       "      <td>False</td>\n",
       "      <td>False</td>\n",
       "      <td>False</td>\n",
       "      <td>False</td>\n",
       "      <td>False</td>\n",
       "      <td>False</td>\n",
       "      <td>False</td>\n",
       "      <td>False</td>\n",
       "      <td>0</td>\n",
       "    </tr>\n",
       "    <tr>\n",
       "      <th>3</th>\n",
       "      <td>False</td>\n",
       "      <td>False</td>\n",
       "      <td>False</td>\n",
       "      <td>False</td>\n",
       "      <td>False</td>\n",
       "      <td>False</td>\n",
       "      <td>False</td>\n",
       "      <td>False</td>\n",
       "      <td>False</td>\n",
       "      <td>False</td>\n",
       "      <td>False</td>\n",
       "      <td>False</td>\n",
       "      <td>0</td>\n",
       "    </tr>\n",
       "    <tr>\n",
       "      <th>4</th>\n",
       "      <td>False</td>\n",
       "      <td>False</td>\n",
       "      <td>False</td>\n",
       "      <td>False</td>\n",
       "      <td>False</td>\n",
       "      <td>False</td>\n",
       "      <td>False</td>\n",
       "      <td>False</td>\n",
       "      <td>False</td>\n",
       "      <td>False</td>\n",
       "      <td>False</td>\n",
       "      <td>False</td>\n",
       "      <td>0</td>\n",
       "    </tr>\n",
       "    <tr>\n",
       "      <th>5</th>\n",
       "      <td>False</td>\n",
       "      <td>False</td>\n",
       "      <td>False</td>\n",
       "      <td>False</td>\n",
       "      <td>True</td>\n",
       "      <td>False</td>\n",
       "      <td>False</td>\n",
       "      <td>False</td>\n",
       "      <td>False</td>\n",
       "      <td>False</td>\n",
       "      <td>False</td>\n",
       "      <td>False</td>\n",
       "      <td>1</td>\n",
       "    </tr>\n",
       "    <tr>\n",
       "      <th>6</th>\n",
       "      <td>False</td>\n",
       "      <td>False</td>\n",
       "      <td>False</td>\n",
       "      <td>False</td>\n",
       "      <td>False</td>\n",
       "      <td>False</td>\n",
       "      <td>False</td>\n",
       "      <td>False</td>\n",
       "      <td>False</td>\n",
       "      <td>False</td>\n",
       "      <td>False</td>\n",
       "      <td>False</td>\n",
       "      <td>0</td>\n",
       "    </tr>\n",
       "    <tr>\n",
       "      <th>7</th>\n",
       "      <td>False</td>\n",
       "      <td>False</td>\n",
       "      <td>True</td>\n",
       "      <td>False</td>\n",
       "      <td>False</td>\n",
       "      <td>False</td>\n",
       "      <td>False</td>\n",
       "      <td>False</td>\n",
       "      <td>False</td>\n",
       "      <td>False</td>\n",
       "      <td>False</td>\n",
       "      <td>True</td>\n",
       "      <td>2</td>\n",
       "    </tr>\n",
       "    <tr>\n",
       "      <th>8</th>\n",
       "      <td>False</td>\n",
       "      <td>False</td>\n",
       "      <td>True</td>\n",
       "      <td>False</td>\n",
       "      <td>False</td>\n",
       "      <td>False</td>\n",
       "      <td>False</td>\n",
       "      <td>False</td>\n",
       "      <td>False</td>\n",
       "      <td>False</td>\n",
       "      <td>False</td>\n",
       "      <td>True</td>\n",
       "      <td>2</td>\n",
       "    </tr>\n",
       "    <tr>\n",
       "      <th>9</th>\n",
       "      <td>False</td>\n",
       "      <td>False</td>\n",
       "      <td>False</td>\n",
       "      <td>False</td>\n",
       "      <td>False</td>\n",
       "      <td>False</td>\n",
       "      <td>False</td>\n",
       "      <td>False</td>\n",
       "      <td>False</td>\n",
       "      <td>False</td>\n",
       "      <td>False</td>\n",
       "      <td>False</td>\n",
       "      <td>0</td>\n",
       "    </tr>\n",
       "  </tbody>\n",
       "</table>\n",
       "</div>"
      ]
     },
     "execution_count": 6,
     "metadata": {},
     "output_type": "execute_result"
    }
   ],
   "execution_count": 6
  },
  {
   "metadata": {},
   "cell_type": "markdown",
   "source": "You could also use a dataframe's built-in methods to create boolean values. In the Concrete dataset are the amounts of components in a concrete formulation. Many formulations lack one or more components (that is, the component has a value of 0). This will count how many components are in a formulation with the dataframe's built-in greater-than gt method:",
   "id": "cc27edca5ef7335c"
  },
  {
   "metadata": {
    "ExecuteTime": {
     "end_time": "2024-09-25T20:04:32.098844Z",
     "start_time": "2024-09-25T20:04:32.085095Z"
    }
   },
   "cell_type": "code",
   "source": [
    "components = [ \"Cement\", \"BlastFurnaceSlag\", \"FlyAsh\", \"Water\",\n",
    "               \"Superplasticizer\", \"CoarseAggregate\", \"FineAggregate\"]\n",
    "concrete[\"Components\"] = concrete[components].gt(0).sum(axis=1) # Count the number of components in each formulation ( where gt(0) - greater than 0)\n",
    "# in row where some of features are 0, it will be summered at total count of components\n",
    "# for example, if Cement, BlastFurnaceSlag, FlyAsh, Water are 0, then it will be 4\n",
    "\n",
    "concrete[components + [\"Components\"]].head(10)"
   ],
   "id": "bb87dbf59bdb055e",
   "outputs": [
    {
     "data": {
      "text/plain": [
       "   Cement  BlastFurnaceSlag  FlyAsh  Water  Superplasticizer  CoarseAggregate  \\\n",
       "0   540.0               0.0     0.0  162.0               2.5           1040.0   \n",
       "1   540.0               0.0     0.0  162.0               2.5           1055.0   \n",
       "2   332.5             142.5     0.0  228.0               0.0            932.0   \n",
       "3   332.5             142.5     0.0  228.0               0.0            932.0   \n",
       "4   198.6             132.4     0.0  192.0               0.0            978.4   \n",
       "5   266.0             114.0     0.0  228.0               0.0            932.0   \n",
       "6   380.0              95.0     0.0  228.0               0.0            932.0   \n",
       "7   380.0              95.0     0.0  228.0               0.0            932.0   \n",
       "8   266.0             114.0     0.0  228.0               0.0            932.0   \n",
       "9   475.0               0.0     0.0  228.0               0.0            932.0   \n",
       "\n",
       "   FineAggregate  Components  \n",
       "0          676.0           5  \n",
       "1          676.0           5  \n",
       "2          594.0           5  \n",
       "3          594.0           5  \n",
       "4          825.5           5  \n",
       "5          670.0           5  \n",
       "6          594.0           5  \n",
       "7          594.0           5  \n",
       "8          670.0           5  \n",
       "9          594.0           4  "
      ],
      "text/html": [
       "<div>\n",
       "<style scoped>\n",
       "    .dataframe tbody tr th:only-of-type {\n",
       "        vertical-align: middle;\n",
       "    }\n",
       "\n",
       "    .dataframe tbody tr th {\n",
       "        vertical-align: top;\n",
       "    }\n",
       "\n",
       "    .dataframe thead th {\n",
       "        text-align: right;\n",
       "    }\n",
       "</style>\n",
       "<table border=\"1\" class=\"dataframe\">\n",
       "  <thead>\n",
       "    <tr style=\"text-align: right;\">\n",
       "      <th></th>\n",
       "      <th>Cement</th>\n",
       "      <th>BlastFurnaceSlag</th>\n",
       "      <th>FlyAsh</th>\n",
       "      <th>Water</th>\n",
       "      <th>Superplasticizer</th>\n",
       "      <th>CoarseAggregate</th>\n",
       "      <th>FineAggregate</th>\n",
       "      <th>Components</th>\n",
       "    </tr>\n",
       "  </thead>\n",
       "  <tbody>\n",
       "    <tr>\n",
       "      <th>0</th>\n",
       "      <td>540.0</td>\n",
       "      <td>0.0</td>\n",
       "      <td>0.0</td>\n",
       "      <td>162.0</td>\n",
       "      <td>2.5</td>\n",
       "      <td>1040.0</td>\n",
       "      <td>676.0</td>\n",
       "      <td>5</td>\n",
       "    </tr>\n",
       "    <tr>\n",
       "      <th>1</th>\n",
       "      <td>540.0</td>\n",
       "      <td>0.0</td>\n",
       "      <td>0.0</td>\n",
       "      <td>162.0</td>\n",
       "      <td>2.5</td>\n",
       "      <td>1055.0</td>\n",
       "      <td>676.0</td>\n",
       "      <td>5</td>\n",
       "    </tr>\n",
       "    <tr>\n",
       "      <th>2</th>\n",
       "      <td>332.5</td>\n",
       "      <td>142.5</td>\n",
       "      <td>0.0</td>\n",
       "      <td>228.0</td>\n",
       "      <td>0.0</td>\n",
       "      <td>932.0</td>\n",
       "      <td>594.0</td>\n",
       "      <td>5</td>\n",
       "    </tr>\n",
       "    <tr>\n",
       "      <th>3</th>\n",
       "      <td>332.5</td>\n",
       "      <td>142.5</td>\n",
       "      <td>0.0</td>\n",
       "      <td>228.0</td>\n",
       "      <td>0.0</td>\n",
       "      <td>932.0</td>\n",
       "      <td>594.0</td>\n",
       "      <td>5</td>\n",
       "    </tr>\n",
       "    <tr>\n",
       "      <th>4</th>\n",
       "      <td>198.6</td>\n",
       "      <td>132.4</td>\n",
       "      <td>0.0</td>\n",
       "      <td>192.0</td>\n",
       "      <td>0.0</td>\n",
       "      <td>978.4</td>\n",
       "      <td>825.5</td>\n",
       "      <td>5</td>\n",
       "    </tr>\n",
       "    <tr>\n",
       "      <th>5</th>\n",
       "      <td>266.0</td>\n",
       "      <td>114.0</td>\n",
       "      <td>0.0</td>\n",
       "      <td>228.0</td>\n",
       "      <td>0.0</td>\n",
       "      <td>932.0</td>\n",
       "      <td>670.0</td>\n",
       "      <td>5</td>\n",
       "    </tr>\n",
       "    <tr>\n",
       "      <th>6</th>\n",
       "      <td>380.0</td>\n",
       "      <td>95.0</td>\n",
       "      <td>0.0</td>\n",
       "      <td>228.0</td>\n",
       "      <td>0.0</td>\n",
       "      <td>932.0</td>\n",
       "      <td>594.0</td>\n",
       "      <td>5</td>\n",
       "    </tr>\n",
       "    <tr>\n",
       "      <th>7</th>\n",
       "      <td>380.0</td>\n",
       "      <td>95.0</td>\n",
       "      <td>0.0</td>\n",
       "      <td>228.0</td>\n",
       "      <td>0.0</td>\n",
       "      <td>932.0</td>\n",
       "      <td>594.0</td>\n",
       "      <td>5</td>\n",
       "    </tr>\n",
       "    <tr>\n",
       "      <th>8</th>\n",
       "      <td>266.0</td>\n",
       "      <td>114.0</td>\n",
       "      <td>0.0</td>\n",
       "      <td>228.0</td>\n",
       "      <td>0.0</td>\n",
       "      <td>932.0</td>\n",
       "      <td>670.0</td>\n",
       "      <td>5</td>\n",
       "    </tr>\n",
       "    <tr>\n",
       "      <th>9</th>\n",
       "      <td>475.0</td>\n",
       "      <td>0.0</td>\n",
       "      <td>0.0</td>\n",
       "      <td>228.0</td>\n",
       "      <td>0.0</td>\n",
       "      <td>932.0</td>\n",
       "      <td>594.0</td>\n",
       "      <td>4</td>\n",
       "    </tr>\n",
       "  </tbody>\n",
       "</table>\n",
       "</div>"
      ]
     },
     "execution_count": 7,
     "metadata": {},
     "output_type": "execute_result"
    }
   ],
   "execution_count": 7
  },
  {
   "metadata": {},
   "cell_type": "markdown",
   "source": [
    "## Building-Up and Breaking-Down Features\n",
    "\n",
    "Often you'll have complex strings that can usefully be broken into simpler pieces. Some common examples:\n",
    "\n",
    "+ ID numbers: '123-45-6789'\n",
    "+ Phone numbers: '(999) 555-0123'\n",
    "+ Street addresses: '8241 Kaggle Ln., Goose City, NV'\n",
    "+ Internet addresses: 'http://www.kaggle.com\n",
    "+ Product codes: '0 36000 29145 2'\n",
    "+ Dates and times: 'Mon Sep 30 07:06:05 2013'\n",
    "\n",
    "Features like these will often have some kind of structure that you can make use of. US phone numbers, for instance, have an area code (the '(999)' part) that tells you the location of the caller. As always, some research can pay off here.\n",
    "\n",
    "The str accessor lets you apply string methods like split directly to columns. The Customer Lifetime Value dataset contains features describing customers of an insurance company. From the Policy feature, we could separate the Type from the Level of coverage:"
   ],
   "id": "7de7d0e783932199"
  },
  {
   "metadata": {
    "ExecuteTime": {
     "end_time": "2024-09-25T20:08:23.644849Z",
     "start_time": "2024-09-25T20:08:23.616518Z"
    }
   },
   "cell_type": "code",
   "source": [
    "customer[[\"Type\", \"Level\"]] = (  # Create two new features\n",
    "    customer[\"Policy\"]           # from the Policy feature\n",
    "    .str                         # through the string accessor\n",
    "    .split(\" \", expand=True)     # by splitting on \" \"\n",
    "                                 # and expanding the result into separate columns\n",
    ")\n",
    "\n",
    "customer[[\"Policy\", \"Type\", \"Level\"]].head(10)"
   ],
   "id": "d73b9d3c84a3342d",
   "outputs": [
    {
     "data": {
      "text/plain": [
       "         Policy       Type Level\n",
       "0  Corporate L3  Corporate    L3\n",
       "1   Personal L3   Personal    L3\n",
       "2   Personal L3   Personal    L3\n",
       "3  Corporate L2  Corporate    L2\n",
       "4   Personal L1   Personal    L1\n",
       "5   Personal L3   Personal    L3\n",
       "6  Corporate L3  Corporate    L3\n",
       "7  Corporate L3  Corporate    L3\n",
       "8  Corporate L3  Corporate    L3\n",
       "9    Special L2    Special    L2"
      ],
      "text/html": [
       "<div>\n",
       "<style scoped>\n",
       "    .dataframe tbody tr th:only-of-type {\n",
       "        vertical-align: middle;\n",
       "    }\n",
       "\n",
       "    .dataframe tbody tr th {\n",
       "        vertical-align: top;\n",
       "    }\n",
       "\n",
       "    .dataframe thead th {\n",
       "        text-align: right;\n",
       "    }\n",
       "</style>\n",
       "<table border=\"1\" class=\"dataframe\">\n",
       "  <thead>\n",
       "    <tr style=\"text-align: right;\">\n",
       "      <th></th>\n",
       "      <th>Policy</th>\n",
       "      <th>Type</th>\n",
       "      <th>Level</th>\n",
       "    </tr>\n",
       "  </thead>\n",
       "  <tbody>\n",
       "    <tr>\n",
       "      <th>0</th>\n",
       "      <td>Corporate L3</td>\n",
       "      <td>Corporate</td>\n",
       "      <td>L3</td>\n",
       "    </tr>\n",
       "    <tr>\n",
       "      <th>1</th>\n",
       "      <td>Personal L3</td>\n",
       "      <td>Personal</td>\n",
       "      <td>L3</td>\n",
       "    </tr>\n",
       "    <tr>\n",
       "      <th>2</th>\n",
       "      <td>Personal L3</td>\n",
       "      <td>Personal</td>\n",
       "      <td>L3</td>\n",
       "    </tr>\n",
       "    <tr>\n",
       "      <th>3</th>\n",
       "      <td>Corporate L2</td>\n",
       "      <td>Corporate</td>\n",
       "      <td>L2</td>\n",
       "    </tr>\n",
       "    <tr>\n",
       "      <th>4</th>\n",
       "      <td>Personal L1</td>\n",
       "      <td>Personal</td>\n",
       "      <td>L1</td>\n",
       "    </tr>\n",
       "    <tr>\n",
       "      <th>5</th>\n",
       "      <td>Personal L3</td>\n",
       "      <td>Personal</td>\n",
       "      <td>L3</td>\n",
       "    </tr>\n",
       "    <tr>\n",
       "      <th>6</th>\n",
       "      <td>Corporate L3</td>\n",
       "      <td>Corporate</td>\n",
       "      <td>L3</td>\n",
       "    </tr>\n",
       "    <tr>\n",
       "      <th>7</th>\n",
       "      <td>Corporate L3</td>\n",
       "      <td>Corporate</td>\n",
       "      <td>L3</td>\n",
       "    </tr>\n",
       "    <tr>\n",
       "      <th>8</th>\n",
       "      <td>Corporate L3</td>\n",
       "      <td>Corporate</td>\n",
       "      <td>L3</td>\n",
       "    </tr>\n",
       "    <tr>\n",
       "      <th>9</th>\n",
       "      <td>Special L2</td>\n",
       "      <td>Special</td>\n",
       "      <td>L2</td>\n",
       "    </tr>\n",
       "  </tbody>\n",
       "</table>\n",
       "</div>"
      ]
     },
     "execution_count": 8,
     "metadata": {},
     "output_type": "execute_result"
    }
   ],
   "execution_count": 8
  },
  {
   "metadata": {},
   "cell_type": "markdown",
   "source": "You could also join simple features into a composed feature if you had reason to believe there was some interaction in the combination:",
   "id": "ed84ccecbf6335b3"
  },
  {
   "metadata": {
    "ExecuteTime": {
     "end_time": "2024-09-25T20:09:32.892698Z",
     "start_time": "2024-09-25T20:09:32.882796Z"
    }
   },
   "cell_type": "code",
   "source": [
    "autos[\"make_and_style\"] = autos[\"make\"] + \"_\" + autos[\"body_style\"]\n",
    "autos[[\"make\", \"body_style\", \"make_and_style\"]].head()"
   ],
   "id": "179b95b25c52f85f",
   "outputs": [
    {
     "data": {
      "text/plain": [
       "          make   body_style           make_and_style\n",
       "0  alfa-romero  convertible  alfa-romero_convertible\n",
       "1  alfa-romero  convertible  alfa-romero_convertible\n",
       "2  alfa-romero    hatchback    alfa-romero_hatchback\n",
       "3         audi        sedan               audi_sedan\n",
       "4         audi        sedan               audi_sedan"
      ],
      "text/html": [
       "<div>\n",
       "<style scoped>\n",
       "    .dataframe tbody tr th:only-of-type {\n",
       "        vertical-align: middle;\n",
       "    }\n",
       "\n",
       "    .dataframe tbody tr th {\n",
       "        vertical-align: top;\n",
       "    }\n",
       "\n",
       "    .dataframe thead th {\n",
       "        text-align: right;\n",
       "    }\n",
       "</style>\n",
       "<table border=\"1\" class=\"dataframe\">\n",
       "  <thead>\n",
       "    <tr style=\"text-align: right;\">\n",
       "      <th></th>\n",
       "      <th>make</th>\n",
       "      <th>body_style</th>\n",
       "      <th>make_and_style</th>\n",
       "    </tr>\n",
       "  </thead>\n",
       "  <tbody>\n",
       "    <tr>\n",
       "      <th>0</th>\n",
       "      <td>alfa-romero</td>\n",
       "      <td>convertible</td>\n",
       "      <td>alfa-romero_convertible</td>\n",
       "    </tr>\n",
       "    <tr>\n",
       "      <th>1</th>\n",
       "      <td>alfa-romero</td>\n",
       "      <td>convertible</td>\n",
       "      <td>alfa-romero_convertible</td>\n",
       "    </tr>\n",
       "    <tr>\n",
       "      <th>2</th>\n",
       "      <td>alfa-romero</td>\n",
       "      <td>hatchback</td>\n",
       "      <td>alfa-romero_hatchback</td>\n",
       "    </tr>\n",
       "    <tr>\n",
       "      <th>3</th>\n",
       "      <td>audi</td>\n",
       "      <td>sedan</td>\n",
       "      <td>audi_sedan</td>\n",
       "    </tr>\n",
       "    <tr>\n",
       "      <th>4</th>\n",
       "      <td>audi</td>\n",
       "      <td>sedan</td>\n",
       "      <td>audi_sedan</td>\n",
       "    </tr>\n",
       "  </tbody>\n",
       "</table>\n",
       "</div>"
      ]
     },
     "execution_count": 9,
     "metadata": {},
     "output_type": "execute_result"
    }
   ],
   "execution_count": 9
  },
  {
   "metadata": {},
   "cell_type": "markdown",
   "source": [
    "## Group Transforms\n",
    "\n",
    "Finally, we have Group transforms, which aggregate information across multiple rows grouped by some category. With a group transform you can create features like: \"the average \n",
    "income of a person's state of residence,\" or \"the proportion of movies released on a weekday, by genre.\" If you had discovered a category interaction, a group transform over that category could be something good to investigate.\n",
    "\n",
    "Using an aggregation function, a group transform combines two features: a categorical feature that provides the grouping and another feature whose values you wish to aggregate. \n",
    "For an \"average income by state\", you would choose State for the grouping feature, mean for the aggregation function, and Income for the aggregated feature. To compute this in Pandas, we use the group_by and transform methods:"
   ],
   "id": "4e63c2bf7a15c482"
  },
  {
   "metadata": {
    "ExecuteTime": {
     "end_time": "2024-09-25T20:10:54.612707Z",
     "start_time": "2024-09-25T20:10:54.597170Z"
    }
   },
   "cell_type": "code",
   "source": [
    "customer[\"AverageIncome\"] = (\n",
    "    customer.groupby(\"State\")  # for each state\n",
    "    [\"Income\"]                 # select the income\n",
    "    .transform(\"mean\")         # and compute its mean\n",
    ")\n",
    "\n",
    "customer[[\"State\", \"Income\", \"AverageIncome\"]].head(10)"
   ],
   "id": "641eaa2f2c1bc646",
   "outputs": [
    {
     "data": {
      "text/plain": [
       "        State  Income  AverageIncome\n",
       "0  Washington   56274   38122.733083\n",
       "1     Arizona       0   37405.402231\n",
       "2      Nevada   48767   38369.605442\n",
       "3  California       0   37558.946667\n",
       "4  Washington   43836   38122.733083\n",
       "5      Oregon   62902   37557.283353\n",
       "6      Oregon   55350   37557.283353\n",
       "7     Arizona       0   37405.402231\n",
       "8      Oregon   14072   37557.283353\n",
       "9      Oregon   28812   37557.283353"
      ],
      "text/html": [
       "<div>\n",
       "<style scoped>\n",
       "    .dataframe tbody tr th:only-of-type {\n",
       "        vertical-align: middle;\n",
       "    }\n",
       "\n",
       "    .dataframe tbody tr th {\n",
       "        vertical-align: top;\n",
       "    }\n",
       "\n",
       "    .dataframe thead th {\n",
       "        text-align: right;\n",
       "    }\n",
       "</style>\n",
       "<table border=\"1\" class=\"dataframe\">\n",
       "  <thead>\n",
       "    <tr style=\"text-align: right;\">\n",
       "      <th></th>\n",
       "      <th>State</th>\n",
       "      <th>Income</th>\n",
       "      <th>AverageIncome</th>\n",
       "    </tr>\n",
       "  </thead>\n",
       "  <tbody>\n",
       "    <tr>\n",
       "      <th>0</th>\n",
       "      <td>Washington</td>\n",
       "      <td>56274</td>\n",
       "      <td>38122.733083</td>\n",
       "    </tr>\n",
       "    <tr>\n",
       "      <th>1</th>\n",
       "      <td>Arizona</td>\n",
       "      <td>0</td>\n",
       "      <td>37405.402231</td>\n",
       "    </tr>\n",
       "    <tr>\n",
       "      <th>2</th>\n",
       "      <td>Nevada</td>\n",
       "      <td>48767</td>\n",
       "      <td>38369.605442</td>\n",
       "    </tr>\n",
       "    <tr>\n",
       "      <th>3</th>\n",
       "      <td>California</td>\n",
       "      <td>0</td>\n",
       "      <td>37558.946667</td>\n",
       "    </tr>\n",
       "    <tr>\n",
       "      <th>4</th>\n",
       "      <td>Washington</td>\n",
       "      <td>43836</td>\n",
       "      <td>38122.733083</td>\n",
       "    </tr>\n",
       "    <tr>\n",
       "      <th>5</th>\n",
       "      <td>Oregon</td>\n",
       "      <td>62902</td>\n",
       "      <td>37557.283353</td>\n",
       "    </tr>\n",
       "    <tr>\n",
       "      <th>6</th>\n",
       "      <td>Oregon</td>\n",
       "      <td>55350</td>\n",
       "      <td>37557.283353</td>\n",
       "    </tr>\n",
       "    <tr>\n",
       "      <th>7</th>\n",
       "      <td>Arizona</td>\n",
       "      <td>0</td>\n",
       "      <td>37405.402231</td>\n",
       "    </tr>\n",
       "    <tr>\n",
       "      <th>8</th>\n",
       "      <td>Oregon</td>\n",
       "      <td>14072</td>\n",
       "      <td>37557.283353</td>\n",
       "    </tr>\n",
       "    <tr>\n",
       "      <th>9</th>\n",
       "      <td>Oregon</td>\n",
       "      <td>28812</td>\n",
       "      <td>37557.283353</td>\n",
       "    </tr>\n",
       "  </tbody>\n",
       "</table>\n",
       "</div>"
      ]
     },
     "execution_count": 10,
     "metadata": {},
     "output_type": "execute_result"
    }
   ],
   "execution_count": 10
  },
  {
   "metadata": {},
   "cell_type": "markdown",
   "source": "The mean function is a built-in dataframe method, which means we can pass it as a string to transform. Other handy methods include max, min, median, var, std, and count. Here's how you could calculate the frequency with which each state occurs in the dataset:",
   "id": "f75c09182b2e6160"
  },
  {
   "metadata": {
    "ExecuteTime": {
     "end_time": "2024-09-25T20:12:06.271682Z",
     "start_time": "2024-09-25T20:12:06.259888Z"
    }
   },
   "cell_type": "code",
   "source": [
    "customer[\"StateFreq\"] = (\n",
    "    customer.groupby(\"State\")\n",
    "    [\"State\"]\n",
    "    .transform(\"count\")\n",
    "    / customer.State.count()\n",
    ")\n",
    "\n",
    "customer[[\"State\", \"StateFreq\"]].head(10)"
   ],
   "id": "cbeaea74dce11a65",
   "outputs": [
    {
     "data": {
      "text/plain": [
       "        State  StateFreq\n",
       "0  Washington   0.087366\n",
       "1     Arizona   0.186446\n",
       "2      Nevada   0.096562\n",
       "3  California   0.344865\n",
       "4  Washington   0.087366\n",
       "5      Oregon   0.284760\n",
       "6      Oregon   0.284760\n",
       "7     Arizona   0.186446\n",
       "8      Oregon   0.284760\n",
       "9      Oregon   0.284760"
      ],
      "text/html": [
       "<div>\n",
       "<style scoped>\n",
       "    .dataframe tbody tr th:only-of-type {\n",
       "        vertical-align: middle;\n",
       "    }\n",
       "\n",
       "    .dataframe tbody tr th {\n",
       "        vertical-align: top;\n",
       "    }\n",
       "\n",
       "    .dataframe thead th {\n",
       "        text-align: right;\n",
       "    }\n",
       "</style>\n",
       "<table border=\"1\" class=\"dataframe\">\n",
       "  <thead>\n",
       "    <tr style=\"text-align: right;\">\n",
       "      <th></th>\n",
       "      <th>State</th>\n",
       "      <th>StateFreq</th>\n",
       "    </tr>\n",
       "  </thead>\n",
       "  <tbody>\n",
       "    <tr>\n",
       "      <th>0</th>\n",
       "      <td>Washington</td>\n",
       "      <td>0.087366</td>\n",
       "    </tr>\n",
       "    <tr>\n",
       "      <th>1</th>\n",
       "      <td>Arizona</td>\n",
       "      <td>0.186446</td>\n",
       "    </tr>\n",
       "    <tr>\n",
       "      <th>2</th>\n",
       "      <td>Nevada</td>\n",
       "      <td>0.096562</td>\n",
       "    </tr>\n",
       "    <tr>\n",
       "      <th>3</th>\n",
       "      <td>California</td>\n",
       "      <td>0.344865</td>\n",
       "    </tr>\n",
       "    <tr>\n",
       "      <th>4</th>\n",
       "      <td>Washington</td>\n",
       "      <td>0.087366</td>\n",
       "    </tr>\n",
       "    <tr>\n",
       "      <th>5</th>\n",
       "      <td>Oregon</td>\n",
       "      <td>0.284760</td>\n",
       "    </tr>\n",
       "    <tr>\n",
       "      <th>6</th>\n",
       "      <td>Oregon</td>\n",
       "      <td>0.284760</td>\n",
       "    </tr>\n",
       "    <tr>\n",
       "      <th>7</th>\n",
       "      <td>Arizona</td>\n",
       "      <td>0.186446</td>\n",
       "    </tr>\n",
       "    <tr>\n",
       "      <th>8</th>\n",
       "      <td>Oregon</td>\n",
       "      <td>0.284760</td>\n",
       "    </tr>\n",
       "    <tr>\n",
       "      <th>9</th>\n",
       "      <td>Oregon</td>\n",
       "      <td>0.284760</td>\n",
       "    </tr>\n",
       "  </tbody>\n",
       "</table>\n",
       "</div>"
      ]
     },
     "execution_count": 11,
     "metadata": {},
     "output_type": "execute_result"
    }
   ],
   "execution_count": 11
  },
  {
   "metadata": {},
   "cell_type": "markdown",
   "source": [
    "You could use a transform like this to create a \"frequency encoding\" for a categorical feature.\n",
    "\n",
    "If you're using training and validation splits, to preserve their independence, it's best to create a grouped feature using only the training set and then join it to the validation set. We can use the validation set's merge method after creating a unique set of values with drop_duplicates on the training set:"
   ],
   "id": "db023378bf379b00"
  },
  {
   "metadata": {
    "ExecuteTime": {
     "end_time": "2024-09-25T20:12:41.198502Z",
     "start_time": "2024-09-25T20:12:41.165153Z"
    }
   },
   "cell_type": "code",
   "source": [
    "# Create splits\n",
    "df_train = customer.sample(frac=0.5)\n",
    "df_valid = customer.drop(df_train.index)\n",
    "\n",
    "# Create the average claim amount by coverage type, on the training set\n",
    "df_train[\"AverageClaim\"] = df_train.groupby(\"Coverage\")[\"ClaimAmount\"].transform(\"mean\")\n",
    "\n",
    "# Merge the values into the validation set\n",
    "df_valid = df_valid.merge(\n",
    "    df_train[[\"Coverage\", \"AverageClaim\"]].drop_duplicates(),\n",
    "    on=\"Coverage\",\n",
    "    how=\"left\",\n",
    ")\n",
    "\n",
    "df_valid[[\"Coverage\", \"AverageClaim\"]].head(10)"
   ],
   "id": "e32b2844dbb50d8b",
   "outputs": [
    {
     "data": {
      "text/plain": [
       "   Coverage  AverageClaim\n",
       "0  Extended    485.326930\n",
       "1     Basic    385.606423\n",
       "2     Basic    385.606423\n",
       "3     Basic    385.606423\n",
       "4     Basic    385.606423\n",
       "5   Premium    643.405305\n",
       "6     Basic    385.606423\n",
       "7     Basic    385.606423\n",
       "8     Basic    385.606423\n",
       "9     Basic    385.606423"
      ],
      "text/html": [
       "<div>\n",
       "<style scoped>\n",
       "    .dataframe tbody tr th:only-of-type {\n",
       "        vertical-align: middle;\n",
       "    }\n",
       "\n",
       "    .dataframe tbody tr th {\n",
       "        vertical-align: top;\n",
       "    }\n",
       "\n",
       "    .dataframe thead th {\n",
       "        text-align: right;\n",
       "    }\n",
       "</style>\n",
       "<table border=\"1\" class=\"dataframe\">\n",
       "  <thead>\n",
       "    <tr style=\"text-align: right;\">\n",
       "      <th></th>\n",
       "      <th>Coverage</th>\n",
       "      <th>AverageClaim</th>\n",
       "    </tr>\n",
       "  </thead>\n",
       "  <tbody>\n",
       "    <tr>\n",
       "      <th>0</th>\n",
       "      <td>Extended</td>\n",
       "      <td>485.326930</td>\n",
       "    </tr>\n",
       "    <tr>\n",
       "      <th>1</th>\n",
       "      <td>Basic</td>\n",
       "      <td>385.606423</td>\n",
       "    </tr>\n",
       "    <tr>\n",
       "      <th>2</th>\n",
       "      <td>Basic</td>\n",
       "      <td>385.606423</td>\n",
       "    </tr>\n",
       "    <tr>\n",
       "      <th>3</th>\n",
       "      <td>Basic</td>\n",
       "      <td>385.606423</td>\n",
       "    </tr>\n",
       "    <tr>\n",
       "      <th>4</th>\n",
       "      <td>Basic</td>\n",
       "      <td>385.606423</td>\n",
       "    </tr>\n",
       "    <tr>\n",
       "      <th>5</th>\n",
       "      <td>Premium</td>\n",
       "      <td>643.405305</td>\n",
       "    </tr>\n",
       "    <tr>\n",
       "      <th>6</th>\n",
       "      <td>Basic</td>\n",
       "      <td>385.606423</td>\n",
       "    </tr>\n",
       "    <tr>\n",
       "      <th>7</th>\n",
       "      <td>Basic</td>\n",
       "      <td>385.606423</td>\n",
       "    </tr>\n",
       "    <tr>\n",
       "      <th>8</th>\n",
       "      <td>Basic</td>\n",
       "      <td>385.606423</td>\n",
       "    </tr>\n",
       "    <tr>\n",
       "      <th>9</th>\n",
       "      <td>Basic</td>\n",
       "      <td>385.606423</td>\n",
       "    </tr>\n",
       "  </tbody>\n",
       "</table>\n",
       "</div>"
      ]
     },
     "execution_count": 12,
     "metadata": {},
     "output_type": "execute_result"
    }
   ],
   "execution_count": 12
  },
  {
   "metadata": {},
   "cell_type": "markdown",
   "source": [
    "## Tips on Creating Features\n",
    "\n",
    "It's good to keep in mind your model's own strengths and weaknesses when creating features. Here are some guidelines:\n",
    "\n",
    "+ Linear models learn sums and differences naturally, but can't learn anything more complex.\n",
    "+ Ratios seem to be difficult for most models to learn. Ratio combinations often lead to some easy performance gains.\n",
    "+ Linear models and neural nets generally do better with normalized features. Neural nets especially need features scaled to values not too far from 0. Tree-based models (like random forests and XGBoost) can sometimes benefit from normalization, but usually much less so.\n",
    "+ Tree models can learn to approximate almost any combination of features, but when a combination is especially important they can still benefit from having it explicitly created, especially when data is limited.\n",
    "+ Counts are especially helpful for tree models, since these models don't have a natural way of aggregating information across many features at once."
   ],
   "id": "308fa640d0adae6"
  },
  {
   "metadata": {},
   "cell_type": "code",
   "outputs": [],
   "execution_count": null,
   "source": [
    "import numpy as np\n",
    "import pandas as pd\n",
    "from sklearn.model_selection import cross_val_score\n",
    "from xgboost import XGBRegressor\n",
    "\n",
    "\n",
    "def score_dataset(X, y, model=XGBRegressor()):\n",
    "    # Label encoding for categoricals\n",
    "    for colname in X.select_dtypes([\"category\", \"object\"]):\n",
    "        X[colname], _ = X[colname].factorize()\n",
    "    # Metric for Housing competition is RMSLE (Root Mean Squared Log Error)\n",
    "    score = cross_val_score(\n",
    "        model, X, y, cv=5, scoring=\"neg_mean_squared_log_error\",\n",
    "    )\n",
    "    score = -1 * score.mean()\n",
    "    score = np.sqrt(score)\n",
    "    return score\n",
    "\n",
    "\n",
    "# Prepare data\n",
    "df = pd.read_csv(\"../input/fe-course-data/ames.csv\")\n",
    "X = df.copy()\n",
    "y = X.pop(\"SalePrice\")"
   ],
   "id": "95bf968922e93589"
  },
  {
   "metadata": {},
   "cell_type": "markdown",
   "source": [
    "Create Mathematical Transforms\n",
    "Create the following features:\n",
    "\n",
    "LivLotRatio: the ratio of GrLivArea to LotArea\n",
    "Spaciousness: the sum of FirstFlrSF and SecondFlrSF divided by TotRmsAbvGrd\n",
    "TotalOutsideSF: the sum of WoodDeckSF, OpenPorchSF, EnclosedPorch, Threeseasonporch, and ScreenPorch"
   ],
   "id": "95bfdf958f95f9b7"
  },
  {
   "metadata": {},
   "cell_type": "code",
   "outputs": [],
   "execution_count": null,
   "source": [
    "X_1 = pd.DataFrame()  # dataframe to hold new features\n",
    "\n",
    "X_1[\"LivLotRatio\"] = X[\"GrLivArea\"]/X[\"LotArea\"]\n",
    "X_1[\"Spaciousness\"] = (X[\"FirstFlrSF\"]+X[\"SecondFlrSF\"])/X[\"TotRmsAbvGrd\"] \n",
    "X_1[\"TotalOutsideSF\"] = X[\"WoodDeckSF\"] + X[\"OpenPorchSF\"] + X[\"EnclosedPorch\"] + X[\"Threeseasonporch\"] + X[\"ScreenPorch\"]"
   ],
   "id": "85e238ecc59e1610"
  },
  {
   "metadata": {},
   "cell_type": "markdown",
   "source": [
    "## Interaction with a Categorical\n",
    "We discovered an interaction between BldgType and GrLivArea in Exercise 2. Now create their interaction features."
   ],
   "id": "49ed65fe5e144023"
  },
  {
   "metadata": {
    "ExecuteTime": {
     "end_time": "2024-09-25T20:26:38.818024Z",
     "start_time": "2024-09-25T20:26:37.948811Z"
    }
   },
   "cell_type": "code",
   "source": [
    "# One-hot encode BldgType. Use `prefix=\"Bldg\"` in `get_dummies`\n",
    "X_2 = pd.get_dummies(df.BldgType, prefix=\"Bldg\") \n",
    "# Multiply\n",
    "X_2 = X_2.mul(df.GrLivArea, axis=0)\n",
    "X_2.head(10)"
   ],
   "id": "c8492a30c6b94ed8",
   "outputs": [
    {
     "ename": "NameError",
     "evalue": "name 'df' is not defined",
     "output_type": "error",
     "traceback": [
      "\u001B[1;31m---------------------------------------------------------------------------\u001B[0m",
      "\u001B[1;31mNameError\u001B[0m                                 Traceback (most recent call last)",
      "Cell \u001B[1;32mIn[13], line 2\u001B[0m\n\u001B[0;32m      1\u001B[0m \u001B[38;5;66;03m# One-hot encode BldgType. Use `prefix=\"Bldg\"` in `get_dummies`\u001B[39;00m\n\u001B[1;32m----> 2\u001B[0m X_2 \u001B[38;5;241m=\u001B[39m pd\u001B[38;5;241m.\u001B[39mget_dummies(\u001B[43mdf\u001B[49m\u001B[38;5;241m.\u001B[39mBldgType, prefix\u001B[38;5;241m=\u001B[39m\u001B[38;5;124m\"\u001B[39m\u001B[38;5;124mBldg\u001B[39m\u001B[38;5;124m\"\u001B[39m) \n\u001B[0;32m      3\u001B[0m \u001B[38;5;66;03m# Multiply\u001B[39;00m\n\u001B[0;32m      4\u001B[0m X_2 \u001B[38;5;241m=\u001B[39m X_2\u001B[38;5;241m.\u001B[39mmul(df\u001B[38;5;241m.\u001B[39mGrLivArea, axis\u001B[38;5;241m=\u001B[39m\u001B[38;5;241m0\u001B[39m)\n",
      "\u001B[1;31mNameError\u001B[0m: name 'df' is not defined"
     ]
    }
   ],
   "execution_count": 13
  },
  {
   "metadata": {},
   "cell_type": "markdown",
   "source": [
    "## Count Feature\n",
    "\n",
    "Let's try creating a feature that describes how many kinds of outdoor areas a dwelling has. Create a feature PorchTypes that counts how many of the following are greater than 0.0:\n",
    "\n",
    "WoodDeckSF\n",
    "OpenPorchSF\n",
    "EnclosedPorch\n",
    "Threeseasonporch\n",
    "ScreenPorch"
   ],
   "id": "debc3762ace01b6c"
  },
  {
   "metadata": {},
   "cell_type": "code",
   "outputs": [],
   "execution_count": null,
   "source": [
    "X_3 = pd.DataFrame()\n",
    "\n",
    "# YOUR CODE HERE\n",
    "columns = ['WoodDeckSF', 'OpenPorchSF', 'EnclosedPorch', 'Threeseasonporch', 'ScreenPorch']\n",
    "X_3[\"PorchTypes\"] = df[columns].gt(0).sum(axis=1)"
   ],
   "id": "be7e4bb3b156ab8a"
  },
  {
   "metadata": {},
   "cell_type": "markdown",
   "source": "You can see that there is a more general categorization described (roughly) by the first word of each category. Create a feature containing only these first words by splitting MSSubClass at the first underscore _. (Hint: In the split method use an argument n=1.)",
   "id": "6f4804d28fef1d20"
  },
  {
   "metadata": {},
   "cell_type": "code",
   "outputs": [],
   "execution_count": null,
   "source": [
    "X_4 = pd.DataFrame()\n",
    "\n",
    "# YOUR CODE HERE\n",
    "X_4[\"MSClass\"] = df[\"MSSubClass\"].str.split('_', n=1, expand=True)[0]"
   ],
   "id": "51ab9b9f129e7eff"
  },
  {
   "metadata": {},
   "cell_type": "markdown",
   "source": [
    " ### Use a Grouped Transform\n",
    " \n",
    "The value of a home often depends on how it compares to typical homes in its neighborhood. Create a feature MedNhbdArea that describes the median of GrLivArea grouped on Neighborhood."
   ],
   "id": "6828327525044649"
  },
  {
   "metadata": {},
   "cell_type": "code",
   "outputs": [],
   "execution_count": null,
   "source": [
    "X_5 = pd.DataFrame()\n",
    "\n",
    "# YOUR CODE HERE\n",
    "X_5[\"MedNhbdArea\"] = df.groupby('Neighborhood')['GrLivArea'].transform('median')"
   ],
   "id": "182e280a6e647d6"
  }
 ],
 "metadata": {
  "kernelspec": {
   "display_name": "Python 3",
   "language": "python",
   "name": "python3"
  },
  "language_info": {
   "codemirror_mode": {
    "name": "ipython",
    "version": 2
   },
   "file_extension": ".py",
   "mimetype": "text/x-python",
   "name": "python",
   "nbconvert_exporter": "python",
   "pygments_lexer": "ipython2",
   "version": "2.7.6"
  }
 },
 "nbformat": 4,
 "nbformat_minor": 5
}

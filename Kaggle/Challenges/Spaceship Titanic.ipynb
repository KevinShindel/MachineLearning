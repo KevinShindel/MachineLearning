{
 "cells": [
  {
   "metadata": {},
   "cell_type": "markdown",
   "source": [
    "# Spaceship Titanic\n",
    "\n",
    "Predict which passengers are transported to an alternate dimension"
   ],
   "id": "e9d2a3da3faf1443"
  },
  {
   "metadata": {},
   "cell_type": "markdown",
   "source": [
    "### File and Data Field Descriptions\n",
    "\n",
    "<details>\n",
    "<summary>Click to expand</summary>\n",
    "\n",
    "train.csv - Personal records for about two-thirds (~8700) of the passengers, to be used as training data.\n",
    "+ PassengerId - A unique Id for each passenger. Each Id takes the form gggg_pp where gggg indicates a group the passenger is travelling with and pp is their number within the \n",
    "group. People in a group are often family members, but not always.\n",
    "+ HomePlanet - The planet the passenger departed from, typically their planet of permanent residence.\n",
    "+ CryoSleep - Indicates whether the passenger elected to be put into suspended animation for the duration of the voyage. Passengers in cryosleep are confined to their cabins.\n",
    "+ Cabin - The cabin number where the passenger is staying. Takes the form deck/num/side, where side can be either P for Port or S for Starboard.\n",
    "+ Destination - The planet the passenger will be debarking to.\n",
    "+ Age - The age of the passenger.\n",
    "+ VIP - Whether the passenger has paid for special VIP service during the voyage.\n",
    "+ RoomService, FoodCourt, ShoppingMall, Spa, VRDeck - Amount the passenger has billed at each of the Spaceship Titanic's many luxury amenities.\n",
    "+ Name - The first and last names of the passenger.\n",
    "+ Transported - Whether the passenger was transported to another dimension. This is the target, the column you are trying to predict.\n",
    "\n",
    "+ test.csv - Personal records for the remaining one-third (~4300) of the passengers, to be used as test data. Your task is to predict the value of Transported for the passengers in this set.\n",
    "sample_submission.csv - A submission file in the correct format.\n",
    "+ PassengerId - Id for each passenger in the test set.\n",
    "+ Transported - The target. For each passenger, predict either True or False.\n",
    "\n",
    "</details>"
   ],
   "id": "2a85a2800e52b319"
  },
  {
   "metadata": {
    "ExecuteTime": {
     "end_time": "2024-10-01T17:54:34.718683Z",
     "start_time": "2024-10-01T17:54:34.707202Z"
    }
   },
   "cell_type": "code",
   "source": [
    "from datetime import datetime as time\n",
    "\n",
    "import matplotlib.pyplot as plt\n",
    "# Importing the libraries\n",
    "import numpy as np\n",
    "import pandas as pd\n",
    "from sklearn.ensemble import RandomForestClassifier\n",
    "from sklearn.feature_selection import mutual_info_regression\n",
    "from sklearn.impute import SimpleImputer\n",
    "from sklearn.metrics import accuracy_score\n",
    "from sklearn.model_selection import GridSearchCV\n",
    "from sklearn.model_selection import train_test_split\n",
    "from sklearn.model_selection import cross_val_score\n",
    "\n",
    "\n",
    "plt.figure(dpi=100, figsize=(8, 5))"
   ],
   "id": "db8f3d439b3b0a3b",
   "outputs": [
    {
     "data": {
      "text/plain": [
       "<Figure size 800x500 with 0 Axes>"
      ]
     },
     "execution_count": 35,
     "metadata": {},
     "output_type": "execute_result"
    },
    {
     "data": {
      "text/plain": [
       "<Figure size 800x500 with 0 Axes>"
      ]
     },
     "metadata": {},
     "output_type": "display_data"
    }
   ],
   "execution_count": 35
  },
  {
   "metadata": {
    "ExecuteTime": {
     "end_time": "2024-10-01T17:54:34.761593Z",
     "start_time": "2024-10-01T17:54:34.729743Z"
    }
   },
   "cell_type": "code",
   "source": [
    "# Importing the dataset\n",
    "train = pd.read_csv('data/space_train.csv')\n",
    "test = pd.read_csv('data/space_test.csv')"
   ],
   "id": "7c89a7c154f058a4",
   "outputs": [],
   "execution_count": 36
  },
  {
   "metadata": {
    "ExecuteTime": {
     "end_time": "2024-10-01T17:54:34.768224Z",
     "start_time": "2024-10-01T17:54:34.762600Z"
    }
   },
   "cell_type": "code",
   "source": [
    "# MI Scores functions\n",
    "\n",
    "def make_mi_scores(_X, _y, _discrete_features):\n",
    "    _mi_scores = mutual_info_regression(_X, _y, discrete_features=_discrete_features)\n",
    "    _mi_scores = pd.Series(_mi_scores, name=\"MI Scores\", index=X.columns)\n",
    "    _mi_scores = _mi_scores.sort_values(ascending=False)\n",
    "    return _mi_scores\n",
    "\n",
    "def plot_mi_scores(scores):\n",
    "    scores = scores.sort_values(ascending=True)\n",
    "    width = np.arange(len(scores))\n",
    "    ticks = list(scores.index)\n",
    "    plt.barh(width, scores)\n",
    "    plt.yticks(width, ticks)\n",
    "    plt.title(\"Mutual Information Scores\")"
   ],
   "id": "eb7471598ce35b62",
   "outputs": [],
   "execution_count": 37
  },
  {
   "metadata": {},
   "cell_type": "markdown",
   "source": [
    "## Possible improvements\n",
    "\n",
    "**Feature engineering**:\n",
    "- Cabin can be transformed to deck and side\n",
    "- HomePlanet can be imputed with the most frequent value\n",
    "- CryoSleep can be imputed with the most frequent value\n",
    "- Age can be imputed with the mean value\n",
    "- VIP can be imputed with the most frequent value\n",
    "- RoomService, FoodCourt, ShoppingMall, Spa, VRDeck can be imputed with the mean value\n",
    "- Optional: Can be added new feature 'FamilySize' which will be sum of SibSp and Parch\n",
    "- Optional: Can be added new feature 'IsAlone' which will be 1 if FamilySize is 1, otherwise 0\n",
    "- Optional: Can be added new feature 'Name provided' by checking if Name is provided or not (1 or 0)\n",
    "\n",
    "**Model tuning**:\n",
    "- Hyperparameter tuning\n",
    "- Feature selection\n",
    "- Model selection\n",
    "- Cross-validation"
   ],
   "id": "f7f62a71b6b00115"
  },
  {
   "metadata": {
    "ExecuteTime": {
     "end_time": "2024-10-01T17:54:34.785556Z",
     "start_time": "2024-10-01T17:54:34.777230Z"
    }
   },
   "cell_type": "code",
   "source": [
    "# Advanced feature engineering\n",
    "\n",
    "def advanced_feature_engineering(df: pd.DataFrame):\n",
    "    \"\"\"\n",
    "    Advanced feature engineering\n",
    "    1. Impute missing values\n",
    "    2. Add new features\n",
    "    3. Drop columns\n",
    "    4. Transform object columns to category\n",
    "    \"\"\"\n",
    "    \n",
    "    mean_columns = ['Age']\n",
    "    imputer = SimpleImputer(strategy='mean') # impute missing numeric values by mean\n",
    "    df[mean_columns] = imputer.fit_transform(df[mean_columns])\n",
    "    \n",
    "    frequent_columns = ['RoomService', 'FoodCourt', 'ShoppingMall', 'Spa', 'VRDeck'] # most frequent\n",
    "    imputer = SimpleImputer(strategy='most_frequent')\n",
    "    df[frequent_columns] = imputer.fit_transform(df[frequent_columns])\n",
    "    \n",
    "    frequent_columns = ['HomePlanet', 'CryoSleep', 'VIP', 'Destination', 'Cabin']\n",
    "    imputer = SimpleImputer(strategy='most_frequent') # Impute missing values by frequent value\n",
    "    df[frequent_columns] = imputer.fit_transform(df[frequent_columns])\n",
    "    \n",
    "    # Split Cabin into deck/num/side, where side can be either P for Port or S for Starboard.\n",
    "    df[['Deck', 'Num','Side']] = df['Cabin'].str.split('/', expand=True)\n",
    "    df.drop('Cabin', axis=1, inplace=True)\n",
    "    \n",
    "    # Add column Name provided by empty value in column Name\n",
    "    df['Name provided'] = df['Name'].notna()\n",
    "    \n",
    "    # add column Surname by split Name and take second part\n",
    "    df['Surname'] = df['Name'].str.split(' ').str[1]\n",
    "    \n",
    "    # Add column FamilySize by grouping Surname and counting\n",
    "    df['FamilySize'] = df.groupby('Surname')['Surname'].transform('count')\n",
    "    \n",
    "    # If there are no Surname, then set FamilySize to 1\n",
    "    df['FamilySize'] = np.where(\n",
    "        (df['FamilySize'] == 0) | (df['FamilySize'].isna()), 1, df['FamilySize']\n",
    "    )\n",
    "    \n",
    "    # Add column IsAlone by checking FamilySize\n",
    "    df['IsAlone'] = np.where(\n",
    "        df['FamilySize'] == 1, 1, 0\n",
    "    )\n",
    "    \n",
    "    # transform object columns to category\n",
    "    object_columns = df.select_dtypes(include=['object']).columns\n",
    "    # select only columns with less than 10 unique values\n",
    "    uniq_10 = [col for col in object_columns if df[col].nunique() < 10]\n",
    "    \n",
    "    # transform object columns to category\n",
    "    for col in uniq_10:\n",
    "        df[col], _ = df[col].factorize()\n",
    "    \n",
    "    # drop columns which are not needed\n",
    "    list_to_drop = ['PassengerId', 'Name', 'Surname']\n",
    "    df = df.drop(list_to_drop, axis=1)\n",
    "    \n",
    "    # Seems we can drop Destination, Name provided, FamilySize and Vip columns\n",
    "    columns_with_low_mi = ['Destination', 'FamilySize', 'VIP', 'Side', 'IsAlone']\n",
    "    df.drop(columns_with_low_mi, axis=1, inplace=True)   \n",
    "    \n",
    "    return df\n",
    "    "
   ],
   "id": "8efc0478773e916a",
   "outputs": [],
   "execution_count": 38
  },
  {
   "metadata": {
    "ExecuteTime": {
     "end_time": "2024-10-01T17:54:34.838906Z",
     "start_time": "2024-10-01T17:54:34.787563Z"
    }
   },
   "cell_type": "code",
   "source": [
    "train_improved = advanced_feature_engineering(train)\n",
    "\n",
    "X = train_improved.drop('Transported', axis=1)\n",
    "y = train_improved['Transported']"
   ],
   "id": "13ea86dc797a6e62",
   "outputs": [],
   "execution_count": 39
  },
  {
   "metadata": {
    "ExecuteTime": {
     "end_time": "2024-10-01T17:54:35.559274Z",
     "start_time": "2024-10-01T17:54:34.839978Z"
    }
   },
   "cell_type": "code",
   "source": [
    "# Investigate MI of data\n",
    "\n",
    "# All discrete features should now have integer dtypes (double-check this before using MI!)\n",
    "discrete_features = X.dtypes == int\n",
    "\n",
    "mi_scores = make_mi_scores(X, y, discrete_features)\n",
    "\n",
    "plot_mi_scores(mi_scores)"
   ],
   "id": "70457da5be5c44",
   "outputs": [
    {
     "data": {
      "text/plain": [
       "<Figure size 640x480 with 1 Axes>"
      ],
      "image/png": "[encoded data removed]"
     },
     "metadata": {},
     "output_type": "display_data"
    }
   ],
   "execution_count": 40
  },
  {
   "metadata": {
    "ExecuteTime": {
     "end_time": "2024-10-01T17:54:35.569033Z",
     "start_time": "2024-10-01T17:54:35.561281Z"
    }
   },
   "cell_type": "code",
   "source": [
    "# prepare data for model\n",
    "random_state = int(time.now().timestamp()) % 4294967295\n",
    "\n",
    "X_train, X_test, y_train, y_test = train_test_split(X, y, test_size=0.25, random_state=random_state)"
   ],
   "id": "a88cd26679997555",
   "outputs": [],
   "execution_count": 41
  },
  {
   "metadata": {
    "ExecuteTime": {
     "end_time": "2024-10-01T17:58:07.268018Z",
     "start_time": "2024-10-01T17:54:35.570039Z"
    }
   },
   "cell_type": "code",
   "source": [
    "# Tune model\n",
    "# To tune the RandomForestClassifier with parameters, you can use GridSearchCV from sklearn.model_selection.\n",
    "# This allows you to perform an exhaustive search over a specified parameter grid.\n",
    "random_state = int(time.now().timestamp()) % 4294967295\n",
    "\n",
    "# Define the parameter grid\n",
    "param_grid = {\n",
    "    'n_estimators': [25, 50, 100, 200],\n",
    "    'max_depth': [None, 5, 10, 20],\n",
    "    'min_samples_split': [2, 5, 10],\n",
    "    'min_samples_leaf': [1, 2, 4],\n",
    "    'bootstrap': [True, False], \n",
    "    'max_features': ['sqrt', 'log2']\n",
    "}\n",
    "\n",
    "rf_classifier = RandomForestClassifier(random_state=random_state)\n",
    "\n",
    "grid_search = GridSearchCV(estimator=rf_classifier, param_grid=param_grid, cv=3, scoring='neg_log_loss', n_jobs=-1, verbose=2)\n",
    "grid_search.fit(X_train, y_train)\n",
    "print(\"Best Hyperparameters:\", grid_search.best_params_)\n",
    "model = grid_search.best_estimator_\n",
    "# model = RandomForestClassifier(**{'bootstrap': False,\n",
    "#                                   'max_depth': 10,\n",
    "#                                   'max_features': 'sqrt',\n",
    "#                                   'min_samples_leaf': 2,\n",
    "#                                   'min_samples_split': 2,\n",
    "#                                   'n_estimators': 100,\n",
    "#                                   'random_state': random_state})\n",
    "# model.fit(X_train, y_train)"
   ],
   "id": "992539294a5073f6",
   "outputs": [
    {
     "name": "stdout",
     "output_type": "stream",
     "text": [
      "Fitting 3 folds for each of 576 candidates, totalling 1728 fits\n",
      "Best Hyperparameters: {'bootstrap': False, 'max_depth': 10, 'max_features': 'sqrt', 'min_samples_leaf': 2, 'min_samples_split': 10, 'n_estimators': 200}\n"
     ]
    }
   ],
   "execution_count": 42
  },
  {
   "metadata": {
    "ExecuteTime": {
     "end_time": "2024-10-01T17:58:11.949361Z",
     "start_time": "2024-10-01T17:58:07.269025Z"
    }
   },
   "cell_type": "code",
   "source": [
    "\n",
    "train_prediction = model.predict(X_test)\n",
    "print('Accuracy Score:', accuracy_score(y_test,train_prediction))\n",
    "# Use cross-validation to estimate performance\n",
    "cv_scores = cross_val_score(model, X_train, y_train, cv=5)\n",
    "\n",
    "print(f\"Cross-validation scores: {cv_scores}\")\n",
    "print(f\"Mean cross-validation score: {cv_scores.mean()}\")"
   ],
   "id": "584bc9019d4fff83",
   "outputs": [
    {
     "name": "stdout",
     "output_type": "stream",
     "text": [
      "Accuracy Score: 0.7851885924563018\n",
      "Cross-validation scores: [0.81365031 0.81134969 0.7952454  0.78834356 0.80736761]\n",
      "Mean cross-validation score: 0.8031913140511044\n"
     ]
    }
   ],
   "execution_count": 43
  },
  {
   "metadata": {
    "ExecuteTime": {
     "end_time": "2024-10-01T17:58:12.039953Z",
     "start_time": "2024-10-01T17:58:11.950371Z"
    }
   },
   "cell_type": "code",
   "source": [
    "test_for_prediction = advanced_feature_engineering(test)\n",
    "test_prediction = model.predict(test_for_prediction) "
   ],
   "id": "a78ae4c5468e6e01",
   "outputs": [],
   "execution_count": 44
  },
  {
   "metadata": {
    "ExecuteTime": {
     "end_time": "2024-10-01T17:58:12.050890Z",
     "start_time": "2024-10-01T17:58:12.041002Z"
    }
   },
   "cell_type": "code",
   "source": [
    "# Save results\n",
    "output = pd.DataFrame({'PassengerId': test['PassengerId'], 'Transported': test_prediction})\n",
    "output.to_csv('data/space_submission.csv', index=False)\n",
    "print(\"Your submission was successfully saved!\")"
   ],
   "id": "fb2c3cd5b3aa2efb",
   "outputs": [
    {
     "name": "stdout",
     "output_type": "stream",
     "text": [
      "Your submission was successfully saved!\n"
     ]
    }
   ],
   "execution_count": 45
  }
 ],
 "metadata": {
  "kernelspec": {
   "display_name": "Python 3",
   "language": "python",
   "name": "python3"
  },
  "language_info": {
   "codemirror_mode": {
    "name": "ipython",
    "version": 2
   },
   "file_extension": ".py",
   "mimetype": "text/x-python",
   "name": "python",
   "nbconvert_exporter": "python",
   "pygments_lexer": "ipython2",
   "version": "2.7.6"
  }
 },
 "nbformat": 4,
 "nbformat_minor": 5
}

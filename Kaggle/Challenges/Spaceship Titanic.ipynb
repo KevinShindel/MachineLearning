{
 "cells": [
  {
   "metadata": {},
   "cell_type": "markdown",
   "source": [
    "# Spaceship Titanic\n",
    "\n",
    "Predict which passengers are transported to an alternate dimension\n",
    "\n",
    "Current Rank: 690/1572 (Top 44%)\n",
    "Current Score: 0.79237"
   ],
   "id": "e9d2a3da3faf1443"
  },
  {
   "metadata": {},
   "cell_type": "markdown",
   "source": [
    "### File and Data Field Descriptions\n",
    "\n",
    "<details>\n",
    "<summary>Click to expand</summary>\n",
    "\n",
    "train.csv - Personal records for about two-thirds (~8700) of the passengers, to be used as training data.\n",
    "+ PassengerId - A unique Id for each passenger. Each Id takes the form gggg_pp where gggg indicates a group the passenger is travelling with and pp is their number within the \n",
    "group. People in a group are often family members, but not always.\n",
    "+ HomePlanet - The planet the passenger departed from, typically their planet of permanent residence.\n",
    "+ CryoSleep - Indicates whether the passenger elected to be put into suspended animation for the duration of the voyage. Passengers in cryosleep are confined to their cabins.\n",
    "+ Cabin - The cabin number where the passenger is staying. Takes the form deck/num/side, where side can be either P for Port or S for Starboard.\n",
    "+ Destination - The planet the passenger will be debarking to.\n",
    "+ Age - The age of the passenger.\n",
    "+ VIP - Whether the passenger has paid for special VIP service during the voyage.\n",
    "+ RoomService, FoodCourt, ShoppingMall, Spa, VRDeck - Amount the passenger has billed at each of the Spaceship Titanic's many luxury amenities.\n",
    "+ Name - The first and last names of the passenger.\n",
    "+ Transported - Whether the passenger was transported to another dimension. This is the target, the column you are trying to predict.\n",
    "\n",
    "+ test.csv - Personal records for the remaining one-third (~4300) of the passengers, to be used as test data. Your task is to predict the value of Transported for the passengers in this set.\n",
    "sample_submission.csv - A submission file in the correct format.\n",
    "+ PassengerId - Id for each passenger in the test set.\n",
    "+ Transported - The target. For each passenger, predict either True or False.\n",
    "\n",
    "</details>"
   ],
   "id": "2a85a2800e52b319"
  },
  {
   "metadata": {},
   "cell_type": "code",
   "source": [
    "\n",
    "from datetime import datetime as time\n",
    "\n",
    "import matplotlib.pyplot as plt\n",
    "import pandas as pd\n",
    "from sklearn.ensemble import RandomForestClassifier\n",
    "from sklearn.metrics import accuracy_score\n",
    "from sklearn.model_selection import cross_val_score\n",
    "from sklearn.model_selection import train_test_split\n",
    "from sklearn.preprocessing import OrdinalEncoder\n",
    "from Kaggle.Challenges.utils import make_mi_scores, plot_mi_scores\n",
    "\n",
    "plt.figure(dpi=100, figsize=(8, 5))"
   ],
   "id": "db8f3d439b3b0a3b",
   "outputs": [],
   "execution_count": null
  },
  {
   "metadata": {},
   "cell_type": "code",
   "source": [
    "# Importing the dataset\n",
    "train = pd.read_csv('data/space_train.csv')\n",
    "test = pd.read_csv('data/space_test.csv')"
   ],
   "id": "7c89a7c154f058a4",
   "outputs": [],
   "execution_count": null
  },
  {
   "metadata": {},
   "cell_type": "code",
   "source": [
    "def feature_engineering(df: pd.DataFrame):\n",
    "    \n",
    "    df['Age'] = df['Age'].fillna(df['Age'].mean())\n",
    "    df['CryoSleep'] = df['CryoSleep'].fillna(False)\n",
    "    df['Cabin'] = df['Cabin'].fillna('U/0/U')\n",
    "    df['RoomNumber'] = df['PassengerId'].str.split('_').str[1].astype(int)\n",
    "    df['RoomService'] = df['RoomService'].fillna(0)\n",
    "    df['FoodCourt'] = df['FoodCourt'].fillna(0)\n",
    "    df['ShoppingMall'] = df['ShoppingMall'].fillna(0)\n",
    "    df['Spa'] = df['Spa'].fillna(0)\n",
    "    df['VRDeck'] = df['VRDeck'].fillna(0)\n",
    "    df['TotalServicesFee'] = df['RoomService'] + df['FoodCourt'] + df['ShoppingMall'] + df['Spa'] + df['VRDeck']\n",
    "    df[['Deck', 'Num','Side']] = df['Cabin'].str.split('/', expand=True)\n",
    "    df['Num'] = df['Num'].astype(int)\n",
    "    \n",
    "    df = df.drop('Cabin', axis=1)\n",
    "    \n",
    "    cols = [\n",
    "        'PassengerId',\n",
    "        'Name',\n",
    "        'VIP',\n",
    "        'Destination',\n",
    "        'HomePlanet',\n",
    "        'Side'\n",
    "    ]\n",
    "    \n",
    "    df = df.drop(cols, axis=1)\n",
    "    \n",
    "    # Transform boolean columns to integer\n",
    "    bool_col = df.select_dtypes(include=['bool']).columns\n",
    "    df[bool_col] = df[bool_col].astype(int)\n",
    "    \n",
    "    ordinal_encoder = OrdinalEncoder()\n",
    "    cat_columns = df.select_dtypes(include=['object']).columns\n",
    "    df[cat_columns] = ordinal_encoder.fit_transform(df[cat_columns])\n",
    "    \n",
    "    # Use Scaler for data\n",
    "    # scaler = MinMaxScaler(feature_range=(0, 1))\n",
    "    # df = pd.DataFrame(scaler.fit_transform(df), columns=df.columns)\n",
    "    return df"
   ],
   "id": "99eb427b1d2b0aaa",
   "outputs": [],
   "execution_count": null
  },
  {
   "metadata": {},
   "cell_type": "code",
   "source": "transformed_train = feature_engineering(train)",
   "id": "8efc0478773e916a",
   "outputs": [],
   "execution_count": null
  },
  {
   "metadata": {},
   "cell_type": "code",
   "source": [
    "X = transformed_train.drop('Transported', axis=1)\n",
    "y = transformed_train['Transported']"
   ],
   "id": "13ea86dc797a6e62",
   "outputs": [],
   "execution_count": null
  },
  {
   "metadata": {},
   "cell_type": "code",
   "source": [
    "# Investigate MI of data\n",
    "discrete_features = X.dtypes == int # All discrete features should now have integer dtypes (double-check this before using MI!)\n",
    "mi_scores = make_mi_scores(X, y, discrete_features)\n",
    "plot_mi_scores(mi_scores)"
   ],
   "id": "70457da5be5c44",
   "outputs": [],
   "execution_count": null
  },
  {
   "metadata": {},
   "cell_type": "code",
   "source": [
    "# prepare data for model\n",
    "random_state = int(time.now().timestamp()) % 4294967295\n",
    "X_train, X_test, y_train, y_test = train_test_split(X, y, test_size=0.2, random_state=random_state)"
   ],
   "id": "a88cd26679997555",
   "outputs": [],
   "execution_count": null
  },
  {
   "metadata": {},
   "cell_type": "code",
   "source": [
    "# TODO: Try launch on Desktop with more power\n",
    "# from sklearn.ensemble import AdaBoostClassifier\n",
    "# from sklearn.svm import SVC\n",
    "# \n",
    "# svc_estimator = SVC(probability=True, random_state=random_state, kernel='linear')\n",
    "# model = AdaBoostClassifier(estimator=svc_estimator)\n",
    "# model.fit(X_train, y_train)"
   ],
   "id": "8a81c3d717533ee5",
   "outputs": [],
   "execution_count": null
  },
  {
   "metadata": {},
   "cell_type": "code",
   "source": [
    "# Tune model\n",
    "params = {'bootstrap': False, 'criterion': 'entropy', 'max_depth': 10, 'max_features': 'sqrt', 'min_samples_leaf': 2, 'min_samples_split': 10, 'n_estimators': 100}\n",
    "model = RandomForestClassifier(**params)\n",
    "model.fit(X_train, y_train)\n",
    "important_features = pd.Series(data=model.feature_importances_, index=X.columns).sort_values(ascending=False)\n",
    "print(important_features)\n",
    "important_features.plot(kind='bar')"
   ],
   "id": "992539294a5073f6",
   "outputs": [],
   "execution_count": null
  },
  {
   "metadata": {},
   "cell_type": "code",
   "source": [
    "train_prediction = model.predict(X_test)\n",
    "print('Accuracy Score:', accuracy_score(y_test,train_prediction)) # 0.799 % Accuracy\n",
    "cv_scores = cross_val_score(model, X_train, y_train, cv=5) # Use cross-validation to estimate performance\n",
    "print(f\"Cross-validation scores: {cv_scores}\")\n",
    "print(f\"Mean cross-validation score: {cv_scores.mean()}\") # Mean Cross-validation score 0.79 % Accuracy"
   ],
   "id": "584bc9019d4fff83",
   "outputs": [],
   "execution_count": null
  },
  {
   "metadata": {},
   "cell_type": "code",
   "source": [
    "passenger_id = test['PassengerId']\n",
    "transformed_test = feature_engineering(test)\n",
    "test_prediction = model.predict(transformed_test) "
   ],
   "id": "a78ae4c5468e6e01",
   "outputs": [],
   "execution_count": null
  },
  {
   "metadata": {},
   "cell_type": "code",
   "source": [
    "# Save results\n",
    "output = pd.DataFrame({'PassengerId': passenger_id, 'Transported': test_prediction})\n",
    "output['Transported'] = output['Transported'].astype(bool)\n",
    "output.to_csv('data/space_submission.csv', index=False)\n",
    "print(\"Your submission was successfully saved!\")"
   ],
   "id": "fb2c3cd5b3aa2efb",
   "outputs": [],
   "execution_count": null
  }
 ],
 "metadata": {
  "kernelspec": {
   "display_name": "Python 3",
   "language": "python",
   "name": "python3"
  },
  "language_info": {
   "codemirror_mode": {
    "name": "ipython",
    "version": 2
   },
   "file_extension": ".py",
   "mimetype": "text/x-python",
   "name": "python",
   "nbconvert_exporter": "python",
   "pygments_lexer": "ipython2",
   "version": "2.7.6"
  }
 },
 "nbformat": 4,
 "nbformat_minor": 5
}

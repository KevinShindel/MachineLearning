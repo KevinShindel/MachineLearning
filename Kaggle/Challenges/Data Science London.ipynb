{
 "cells": [
  {
   "metadata": {},
   "cell_type": "markdown",
   "source": [
    "# Data Science London + Scikit-learn\n",
    "\n",
    "Dataset Description\n",
    "This is a synthetic data set of 40 features, representing objects from two classes (labeled as 0 or 1). The training set has 1000 samples and the testing set has 9000.\n",
    "\n",
    "Current score - 0.9127 %\n",
    "\n",
    "Rank - 136/190 (Top 72%)"
   ],
   "id": "4e037f35b07952c2"
  },
  {
   "metadata": {
    "ExecuteTime": {
     "end_time": "2024-10-14T22:28:49.241652Z",
     "start_time": "2024-10-14T22:28:49.236733Z"
    }
   },
   "cell_type": "code",
   "source": [
    "import pandas as pd\n",
    "import numpy as np\n",
    "from sklearn.model_selection import train_test_split\n",
    "from sklearn.svm import SVC\n",
    "from sklearn.preprocessing import Normalizer\n",
    "from sklearn.decomposition import PCA"
   ],
   "id": "8fdf285db776deb6",
   "outputs": [],
   "execution_count": 83
  },
  {
   "metadata": {
    "ExecuteTime": {
     "end_time": "2024-10-14T22:28:49.384098Z",
     "start_time": "2024-10-14T22:28:49.254528Z"
    }
   },
   "cell_type": "code",
   "source": [
    "# load data\n",
    "train = pd.read_csv('data/london/train.csv', header=None)\n",
    "train_label = pd.read_csv('data/london/trainLabels.csv', header=None)\n",
    "test = pd.read_csv('data/london/test.zip', header=None, compression='zip')"
   ],
   "id": "2615b9bd1e23e551",
   "outputs": [],
   "execution_count": 84
  },
  {
   "metadata": {
    "ExecuteTime": {
     "end_time": "2024-10-14T22:28:49.393738Z",
     "start_time": "2024-10-14T22:28:49.384098Z"
    }
   },
   "cell_type": "code",
   "source": [
    "# Detect Outliers\n",
    "q1 = train.quantile(0.25)\n",
    "q3 = train.quantile(0.75)\n",
    "iqr = q3 - q1\n",
    "\n",
    "# calculate maximum and minimum\n",
    "maximum = q3 + 1.5 * iqr\n",
    "minimum = q1 - 1.5 * iqr\n",
    "\n",
    "# find outliers\n",
    "df = train[(train < minimum) | (train > maximum)]\n",
    "\n",
    "outlier_exist = np.all(df.isnull())\n",
    "print('Outliers exists: ', not outlier_exist)"
   ],
   "id": "f8f94f4373bceb88",
   "outputs": [
    {
     "name": "stdout",
     "output_type": "stream",
     "text": [
      "Outliers exists:  True\n"
     ]
    }
   ],
   "execution_count": 85
  },
  {
   "metadata": {
    "ExecuteTime": {
     "end_time": "2024-10-14T22:28:49.442312Z",
     "start_time": "2024-10-14T22:28:49.393738Z"
    }
   },
   "cell_type": "code",
   "source": [
    "# Solution 2: Replace Outliers with Median\n",
    "\n",
    "def mean_outliers(data: pd.DataFrame) -> pd.DataFrame:\n",
    "    q1 = data.quantile(0.25)\n",
    "    q3 = data.quantile(0.75)\n",
    "    iqr = q3 - q1\n",
    "    maximum = q3 + 1.5 * iqr\n",
    "    minimum = q1 - 1.5 * iqr\n",
    "    \n",
    "    for col in data.columns:\n",
    "        strategy = data[col].mean()\n",
    "        data[col] = np.where(data[col] > maximum[col], strategy, data[col])\n",
    "        data[col] = np.where(data[col] < minimum[col], strategy, data[col])\n",
    "    \n",
    "    return data\n",
    "\n",
    "train = mean_outliers(train)\n",
    "test = mean_outliers(test)"
   ],
   "id": "42a6ddd2773995cf",
   "outputs": [],
   "execution_count": 86
  },
  {
   "metadata": {
    "ExecuteTime": {
     "end_time": "2024-10-14T22:28:49.467244Z",
     "start_time": "2024-10-14T22:28:49.444049Z"
    }
   },
   "cell_type": "code",
   "source": [
    "# Use Normalizer to scale data\n",
    "scaler = Normalizer().fit(train)\n",
    "train = scaler.transform(train)\n",
    "\n",
    "scaler = Normalizer().fit(test)\n",
    "test = scaler.transform(test)"
   ],
   "id": "c875d49037d23a8b",
   "outputs": [],
   "execution_count": 87
  },
  {
   "metadata": {
    "ExecuteTime": {
     "end_time": "2024-10-14T22:28:49.476318Z",
     "start_time": "2024-10-14T22:28:49.467244Z"
    }
   },
   "cell_type": "code",
   "source": [
    "# PCA\n",
    "pca = PCA(n_components=12)\n",
    "\n",
    "train = pca.fit_transform(train)\n",
    "test = pca.transform(test)"
   ],
   "id": "aaf35e3dc1bc8ef7",
   "outputs": [],
   "execution_count": 88
  },
  {
   "metadata": {
    "ExecuteTime": {
     "end_time": "2024-10-14T22:28:49.483343Z",
     "start_time": "2024-10-14T22:28:49.478246Z"
    }
   },
   "cell_type": "code",
   "source": [
    "X, y = train, np.ravel(train_label)\n",
    "\n",
    "X_train, X_test, y_train, y_test = train_test_split(X, y, test_size=0.22, random_state=42)"
   ],
   "id": "98b88e9c074e9628",
   "outputs": [],
   "execution_count": 89
  },
  {
   "metadata": {
    "ExecuteTime": {
     "end_time": "2024-10-14T22:28:50.027534Z",
     "start_time": "2024-10-14T22:28:49.484097Z"
    }
   },
   "cell_type": "code",
   "source": [
    "# Tuned SVC\n",
    "\n",
    "best_params = {'C': 1,\n",
    "               'coef0': 0, \n",
    "               'degree': 1,\n",
    "               'gamma': 2,\n",
    "               'probability': True,\n",
    "               'kernel': 'rbf', \n",
    "               'random_state': 666}\n",
    "\n",
    "tuned_svc = SVC(**best_params)\n",
    "\n",
    "tuned_svc.fit(X_train, y_train)\n",
    "\n",
    "y_pred = tuned_svc.predict(test)\n",
    "\n",
    "score = tuned_svc.score(X_test, y_test)\n",
    "\n",
    "accuracy = score * 100\n",
    "\n",
    "print(f'Accuracy: {accuracy:.2f}%') # PCA 12 - 92.73"
   ],
   "id": "9fbe85bdcfed5c13",
   "outputs": [
    {
     "name": "stdout",
     "output_type": "stream",
     "text": [
      "Accuracy: 92.73%\n"
     ]
    }
   ],
   "execution_count": 90
  },
  {
   "metadata": {
    "ExecuteTime": {
     "end_time": "2024-10-14T22:28:50.048570Z",
     "start_time": "2024-10-14T22:28:50.031868Z"
    }
   },
   "cell_type": "code",
   "source": [
    "submission = pd.DataFrame({\n",
    "    'Id': np.arange(1, y_pred.shape[0] + 1),\n",
    "    'Solution': np.round(y_pred).astype(int).flatten()\n",
    "})\n",
    "\n",
    "# save CSV\n",
    "submission.to_csv('submission.csv', index=False)\n",
    "print('Submission saved!')"
   ],
   "id": "bc2e1fbc08056360",
   "outputs": [
    {
     "name": "stdout",
     "output_type": "stream",
     "text": [
      "Submission saved!\n"
     ]
    }
   ],
   "execution_count": 91
  }
 ],
 "metadata": {
  "kernelspec": {
   "display_name": "Python 3",
   "language": "python",
   "name": "python3"
  },
  "language_info": {
   "codemirror_mode": {
    "name": "ipython",
    "version": 2
   },
   "file_extension": ".py",
   "mimetype": "text/x-python",
   "name": "python",
   "nbconvert_exporter": "python",
   "pygments_lexer": "ipython2",
   "version": "2.7.6"
  }
 },
 "nbformat": 4,
 "nbformat_minor": 5
}

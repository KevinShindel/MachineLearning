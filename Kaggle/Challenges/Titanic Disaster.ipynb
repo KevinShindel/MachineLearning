{
 "cells": [
  {
   "metadata": {},
   "cell_type": "markdown",
   "source": [
    "# The Titanic Challenge\n",
    "\n",
    "You should submit a csv file with exactly 418 entries plus a header row.\n",
    "\n",
    "Current Score: 0.77751\n",
    "Rank: 3909/14441 (Top 27%)"
   ],
   "id": "607d825e6fa15046"
  },
  {
   "metadata": {},
   "cell_type": "code",
   "outputs": [],
   "execution_count": null,
   "source": [
    "# TODO: List of improvements\n",
    "# 1. Mutual Importance of Features\n",
    "# 2. Data Scaling\n",
    "# 3. Using another model\n",
    "# 4. Using PCA ?\n",
    "# 5. Use DNN \n",
    "# 6. Use Double-Stage Model"
   ],
   "id": "baa902dca0568603"
  },
  {
   "metadata": {
    "ExecuteTime": {
     "end_time": "2024-10-08T18:42:34.676558Z",
     "start_time": "2024-10-08T18:42:33.458659Z"
    }
   },
   "cell_type": "code",
   "source": [
    "# import libraries\n",
    "import pandas as pd\n",
    "from sklearn.compose import ColumnTransformer\n",
    "from sklearn.ensemble import RandomForestClassifier\n",
    "from sklearn.impute import SimpleImputer\n",
    "from sklearn.metrics import accuracy_score\n",
    "from sklearn.model_selection import RandomizedSearchCV\n",
    "from sklearn.model_selection import train_test_split\n",
    "from sklearn.pipeline import Pipeline\n",
    "from sklearn.preprocessing import OneHotEncoder\n",
    "from sklearn.preprocessing import OrdinalEncoder\n",
    "from sklearn.pipeline import make_pipeline\n",
    "from sklearn.model_selection import StratifiedKFold"
   ],
   "id": "a92ee0de8bfddec4",
   "outputs": [],
   "execution_count": 1
  },
  {
   "metadata": {
    "ExecuteTime": {
     "end_time": "2024-10-08T18:42:34.692470Z",
     "start_time": "2024-10-08T18:42:34.679072Z"
    }
   },
   "cell_type": "code",
   "source": [
    "# load data \n",
    "train = pd.read_csv('data/titanic_train.csv') # training data\n",
    "test = pd.read_csv('data/titanic_test.csv') # test data"
   ],
   "id": "d893a5415e010776",
   "outputs": [],
   "execution_count": 2
  },
  {
   "metadata": {
    "ExecuteTime": {
     "end_time": "2024-10-08T18:42:34.768521Z",
     "start_time": "2024-10-08T18:42:34.693478Z"
    }
   },
   "cell_type": "code",
   "source": [
    "# Feature Engineering\n",
    "\n",
    "def split_ticket(ticket: str) -> pd.Series:\n",
    "    \"\"\" Split Ticket with Destination and Ticket number \"\"\"\n",
    "    result = ['U', ticket]\n",
    "    if ' ' in ticket:\n",
    "        # sometimes we have 2 spaces, we need split only by second space\n",
    "        if ticket.count(' ') > 1:\n",
    "            result = ticket.rsplit(' ', 1)\n",
    "        else:\n",
    "            result = ticket.split(' ')\n",
    "    result[0] = result[0][0] # get first letter of Destination\n",
    "\n",
    "    return pd.Series(result)\n",
    "\n",
    "def feature_engineering(df):\n",
    "    # Convert Cabin to boolean\n",
    "    df['Cabin']  = df['Cabin'].notna()\n",
    "    \n",
    "    # Split Ticket with Destination and Ticket number\n",
    "    df[['Destination', 'TicketNumber']] = df['Ticket'].apply(split_ticket)\n",
    "\n",
    "    # Transform Cabin into Boolean\n",
    "    df['Cabin'] = df['Cabin'].notna()\n",
    "\n",
    "    # Cut Family Size into groups\n",
    "    family_group = ['Alone', 'Small', 'Middle', 'Big']\n",
    "    df['FamilySize'] = pd.cut(df['SibSp'] + df['Parch'] + 1, # Calculate Family Size\n",
    "                                     [0, 1, 4, 7, 11], # Define Family Size Groups\n",
    "                                     labels=family_group) # Assign Family Size Groups\n",
    "\n",
    "feature_engineering(train)\n",
    "feature_engineering(test)"
   ],
   "id": "5ff32b3c17ee19e3",
   "outputs": [],
   "execution_count": 3
  },
  {
   "metadata": {
    "ExecuteTime": {
     "end_time": "2024-10-08T18:42:34.776873Z",
     "start_time": "2024-10-08T18:42:34.769527Z"
    }
   },
   "cell_type": "code",
   "source": [
    "# split data\n",
    "X_train, X_test, y_train, y_test = train_test_split(train.drop(['Survived', 'Name'], axis=1),\n",
    "                                                    train['Survived'],\n",
    "                                                    test_size=0.2,\n",
    "                                                    random_state=42)"
   ],
   "id": "7f026d56377e5a18",
   "outputs": [],
   "execution_count": 4
  },
  {
   "metadata": {
    "ExecuteTime": {
     "end_time": "2024-10-08T18:42:34.786210Z",
     "start_time": "2024-10-08T18:42:34.778885Z"
    }
   },
   "cell_type": "code",
   "source": [
    "\n",
    "# preprocessing data\n",
    "imp_cols = ['Age']                                               # imputer columns\n",
    "ode_cols = ['FamilySize', 'Destination']                                        # ordinal columns\n",
    "ohe_cols = ['Sex', 'Embarked', 'Pclass'] # one hot encoded columns\n",
    "useless_col = ['Ticket', 'SibSp', 'Parch', 'Cabin']              # useless columns\n",
    "pass_through = ['Pclass', 'Cabin', 'Age', 'Fare']              # pass through columns\n",
    "\n",
    "imp_pipeline = Pipeline([                                        # This pipeline will fill missing numerical values with most frequent value\n",
    "    ('imputer', SimpleImputer(strategy='mean'))\n",
    "])\n",
    "\n",
    "ordinal_pipeline = Pipeline([                                    # This pipeline will fill missing values with most frequent value and encode ordinal columns\n",
    "    ('imputer', SimpleImputer(strategy='most_frequent')),\n",
    "    ('ordinal', OrdinalEncoder(handle_unknown='use_encoded_value', unknown_value=-1))\n",
    "])\n",
    "\n",
    "ohe_pipeline = Pipeline([                                        # This pipeline will fill missing values with most frequent value and encode one hot encoded columns\n",
    "    ('imputer', SimpleImputer(strategy='most_frequent')),\n",
    "    ('ordinal', OneHotEncoder(handle_unknown='ignore', sparse_output=False))\n",
    "])\n",
    "\n",
    "col_transformer = ColumnTransformer(transformers=\n",
    "    [\n",
    "        ('imp_pipeline',imp_pipeline, imp_cols),\n",
    "        ('ord_pipeline', ordinal_pipeline, ode_cols),\n",
    "        ('ohe_pipeline', ohe_pipeline, ohe_cols),\n",
    "        ('passthrough', 'passthrough', pass_through)\n",
    "    ],\n",
    "    remainder='drop', n_jobs=-1\n",
    ")"
   ],
   "id": "6404a2c4fb5cc10d",
   "outputs": [],
   "execution_count": 5
  },
  {
   "metadata": {
    "ExecuteTime": {
     "end_time": "2024-10-08T18:42:44.470339Z",
     "start_time": "2024-10-08T18:42:34.788216Z"
    }
   },
   "cell_type": "code",
   "source": [
    "import traceback\n",
    "\n",
    "\n",
    "# Tuning the model with best params and features by RandomizedSearchCV\n",
    "params_grid = {\n",
    "    'n_estimators': [100, 200, 300, 400, 500],\n",
    "    'max_depth': [None, 10, 20, 30, 40, 50],\n",
    "    'min_samples_split': [2, 5, 10],\n",
    "    'min_samples_leaf': [1, 2, 4]\n",
    "}\n",
    "cv_rfc = RandomizedSearchCV(\n",
    "    estimator=RandomForestClassifier(),\n",
    "    param_distributions=params_grid,\n",
    "    cv=StratifiedKFold(n_splits=5),\n",
    "    n_iter=10,\n",
    "    n_jobs=-1,\n",
    "    verbose=1\n",
    "    \n",
    ")\n",
    "\n",
    "pipeline = make_pipeline(col_transformer, cv_rfc)\n",
    "\n",
    "pipeline.fit(X_train, y_train)\n",
    "y_pred = pipeline.predict(X_test)\n",
    "\n",
    "# # Get the best params and features\n",
    "best_params = cv_rfc.best_params_\n",
    "best_model = cv_rfc.best_estimator_\n",
    "model_score = cv_rfc.best_score_"
   ],
   "id": "d779e3f20e19e86c",
   "outputs": [
    {
     "name": "stdout",
     "output_type": "stream",
     "text": [
      "Fitting 5 folds for each of 10 candidates, totalling 50 fits\n"
     ]
    }
   ],
   "execution_count": 6
  },
  {
   "metadata": {
    "ExecuteTime": {
     "end_time": "2024-10-08T18:42:44.480830Z",
     "start_time": "2024-10-08T18:42:44.472347Z"
    }
   },
   "cell_type": "code",
   "source": [
    "# Show Report\n",
    "print('Model Score: ', model_score)\n",
    "print('Accuracy Score:', accuracy_score(y_test, y_pred)) # best score 0.81 % "
   ],
   "id": "7518f46ebd5684aa",
   "outputs": [
    {
     "name": "stdout",
     "output_type": "stream",
     "text": [
      "Model Score:  0.8272333300502315\n",
      "Accuracy Score: 0.8324022346368715\n"
     ]
    }
   ],
   "execution_count": 7
  },
  {
   "metadata": {
    "ExecuteTime": {
     "end_time": "2024-10-08T18:42:44.594385Z",
     "start_time": "2024-10-08T18:42:44.482840Z"
    }
   },
   "cell_type": "code",
   "source": [
    "# Save Submission\n",
    "y = test.drop(['Name'], axis=1)\n",
    "predictions = pipeline.predict(y)\n",
    "output = pd.DataFrame({'PassengerId': test.PassengerId, 'Survived': predictions})\n",
    "output.to_csv('data/titanic_submission.csv', index=False)\n",
    "print(\"Your submission was successfully saved!\")"
   ],
   "id": "9bbc0864cbd173f7",
   "outputs": [
    {
     "name": "stdout",
     "output_type": "stream",
     "text": [
      "Your submission was successfully saved!\n"
     ]
    }
   ],
   "execution_count": 8
  }
 ],
 "metadata": {
  "kernelspec": {
   "display_name": "Python 3",
   "language": "python",
   "name": "python3"
  },
  "language_info": {
   "codemirror_mode": {
    "name": "ipython",
    "version": 2
   },
   "file_extension": ".py",
   "mimetype": "text/x-python",
   "name": "python",
   "nbconvert_exporter": "python",
   "pygments_lexer": "ipython2",
   "version": "2.7.6"
  }
 },
 "nbformat": 4,
 "nbformat_minor": 5
}

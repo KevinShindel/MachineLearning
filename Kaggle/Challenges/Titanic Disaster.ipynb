{
 "cells": [
  {
   "metadata": {},
   "cell_type": "markdown",
   "source": [
    "# The Titanic Challenge\n",
    "\n",
    "You should submit a csv file with exactly 418 entries plus a header row. Your submission will show an error if you have extra columns (beyond PassengerId and Survived) or rows.\n",
    "\n",
    "The file should have exactly 2 columns:\n",
    "\n",
    "PassengerId (sorted in any order)\n",
    "Survived (contains your binary predictions: 1 for survived, 0 for deceased)\n",
    "\n",
    "The file should have exactly 2 columns:\n",
    "\n",
    "PassengerId,Survived\n",
    "892,0\n",
    "893,1\n",
    "894,0\n",
    "Etc."
   ],
   "id": "607d825e6fa15046"
  },
  {
   "metadata": {
    "ExecuteTime": {
     "end_time": "2024-09-29T20:23:59.128011Z",
     "start_time": "2024-09-29T20:23:59.117888Z"
    }
   },
   "cell_type": "code",
   "source": [
    "# load data \n",
    "import pandas as pd\n",
    "\n",
    "train = pd.read_csv('data/train.csv') # training data\n",
    "test = pd.read_csv('data/test.csv') # test data"
   ],
   "id": "a92ee0de8bfddec4",
   "outputs": [],
   "execution_count": 102
  },
  {
   "metadata": {
    "ExecuteTime": {
     "end_time": "2024-09-29T20:23:59.153940Z",
     "start_time": "2024-09-29T20:23:59.149309Z"
    }
   },
   "cell_type": "code",
   "source": [
    "# let's collect numerical and categorical columns\n",
    "X = train.drop(['Survived', 'Name'], axis=1) # only features\n",
    "y = train['Survived'] # only target"
   ],
   "id": "d5a85ad320eb87b2",
   "outputs": [],
   "execution_count": 103
  },
  {
   "metadata": {
    "ExecuteTime": {
     "end_time": "2024-09-29T20:23:59.182439Z",
     "start_time": "2024-09-29T20:23:59.175334Z"
    }
   },
   "cell_type": "code",
   "source": [
    "missing_values = X.isnull().sum() # check for missing values\n",
    "missing_values = missing_values[missing_values > 0] # filter columns with missing values\n",
    "print(missing_values) # Age, Cabin, Embarked columns have missing values"
   ],
   "id": "3d852fdf5303213f",
   "outputs": [
    {
     "name": "stdout",
     "output_type": "stream",
     "text": [
      "Age         177\n",
      "Cabin       687\n",
      "Embarked      2\n",
      "dtype: int64\n"
     ]
    }
   ],
   "execution_count": 104
  },
  {
   "metadata": {
    "ExecuteTime": {
     "end_time": "2024-09-29T20:23:59.900158Z",
     "start_time": "2024-09-29T20:23:59.184449Z"
    }
   },
   "cell_type": "code",
   "source": [
    "# Mutual Information\n",
    "import numpy as np\n",
    "import matplotlib.pyplot as plt\n",
    "from sklearn.feature_selection import mutual_info_regression\n",
    "from sklearn.impute import SimpleImputer\n",
    "def feature_engineering(df):\n",
    "    df['Age'] = df['Age'].fillna('mean') # fill missing values with mean\n",
    "    # Convert Cabin to boolean\n",
    "    df['Cabin']  = df['Cabin'].notna()\n",
    "    \n",
    "    # Extract number from Ticket by taking at lest 3 number characters by regex\n",
    "    df['Ticket'] = df['Ticket'].str.extract('(\\d{3,})', expand=False).fillna(0).astype(int)\n",
    "    \n",
    "    categorical_cols = df.select_dtypes(include=['object']).columns # select categorical columns\n",
    "    \n",
    "    # select only categorical columns with less than 10 unique values\n",
    "    categorical_cols = [col for col in categorical_cols if df[col].nunique() < 10]\n",
    "    \n",
    "    # # fill missing values with most frequent value\n",
    "    imputer = SimpleImputer(strategy='most_frequent')\n",
    "    df[categorical_cols] = imputer.fit_transform(df[categorical_cols])\n",
    "    \n",
    "    # convert categorical columns to cathegorical data type\n",
    "    for colname in categorical_cols:\n",
    "        df[colname], _ = df[colname].factorize()\n",
    "    \n",
    "    # Label encoding for categoricals\n",
    "    for colname in df.select_dtypes(\"object\"):\n",
    "        df[colname], _ = df[colname].factorize()\n",
    "    \n",
    "    low_mi_cols = ['Embarked', 'SibSp']\n",
    "    df.drop(low_mi_cols, axis=1, inplace=True)\n",
    "\n",
    "\n",
    "feature_engineering(X)\n",
    "\n",
    "# All discrete features should now have integer dtypes (double-check this before using MI!)\n",
    "discrete_features = X.dtypes == int\n",
    "\n",
    "def make_mi_scores(X, y, discrete_features):\n",
    "    mi_scores = mutual_info_regression(X, y, discrete_features=discrete_features)\n",
    "    mi_scores = pd.Series(mi_scores, name=\"MI Scores\", index=X.columns)\n",
    "    mi_scores = mi_scores.sort_values(ascending=False)\n",
    "    return mi_scores\n",
    "\n",
    "mi_scores = make_mi_scores(X, y, discrete_features)\n",
    "\n",
    "def plot_mi_scores(scores):\n",
    "    scores = scores.sort_values(ascending=True)\n",
    "    width = np.arange(len(scores))\n",
    "    ticks = list(scores.index)\n",
    "    plt.barh(width, scores)\n",
    "    plt.yticks(width, ticks)\n",
    "    plt.title(\"Mutual Information Scores\")\n",
    "\n",
    "\n",
    "plt.figure(dpi=100, figsize=(8, 5))\n",
    "plot_mi_scores(mi_scores)"
   ],
   "id": "680b31b779ee4523",
   "outputs": [
    {
     "data": {
      "text/plain": [
       "<Figure size 800x500 with 1 Axes>"
      ],
      "image/png": "[encoded data removed]"
     },
     "metadata": {},
     "output_type": "display_data"
    }
   ],
   "execution_count": 105
  },
  {
   "metadata": {
    "ExecuteTime": {
     "end_time": "2024-09-29T20:37:34.757863Z",
     "start_time": "2024-09-29T20:37:34.675004Z"
    }
   },
   "cell_type": "code",
   "source": [
    "from sklearn.ensemble import RandomForestClassifier\n",
    "from datetime import datetime as time\n",
    "\n",
    "random_state = int(time.now().timestamp()) % 4294967295\n",
    "\n",
    "model = RandomForestClassifier(n_estimators=50, random_state=random_state)\n",
    "X_train = X.drop('PassengerId', axis=1)\n",
    "X_test = test.drop(['PassengerId', 'Name'], axis=1)\n",
    "\n",
    "feature_engineering(X_test)\n",
    "\n",
    "model.fit(X_train, y)\n",
    "predictions = model.predict(X_test)\n",
    "\n",
    "# calculate accuracy of model\n",
    "from sklearn.metrics import accuracy_score\n",
    "\n",
    "accuracy = accuracy_score(y, model.predict(X_train))\n",
    "print(f\"Accuracy: {accuracy}\") # 0.99 % accuracy"
   ],
   "id": "ea5edc238d77870d",
   "outputs": [
    {
     "name": "stdout",
     "output_type": "stream",
     "text": [
      "Accuracy: 0.9966329966329966\n"
     ]
    }
   ],
   "execution_count": 117
  },
  {
   "metadata": {
    "ExecuteTime": {
     "end_time": "2024-09-29T20:35:34.257016Z",
     "start_time": "2024-09-29T20:35:33.556058Z"
    }
   },
   "cell_type": "code",
   "source": [
    "from datetime import datetime as time\n",
    "random_state = int(time.now().timestamp()) % 4294967295\n",
    "\n",
    "# Define the models\n",
    "model_1 = RandomForestClassifier(n_estimators=50, random_state=random_state)\n",
    "model_2 = RandomForestClassifier(n_estimators=100, random_state=random_state)\n",
    "model_3 = RandomForestClassifier(n_estimators=100, criterion='entropy', random_state=random_state)\n",
    "model_4 = RandomForestClassifier(n_estimators=200, min_samples_split=20, random_state=random_state)\n",
    "model_5 = RandomForestClassifier(n_estimators=100, max_depth=7, random_state=random_state)\n",
    "\n",
    "models = [model_1, model_2, model_3, model_4, model_5]\n",
    "\n",
    "# Function for comparing different models\n",
    "def score_model(_model, _train, _y):\n",
    "    _model.fit(_train, _y)\n",
    "    return accuracy_score(_y, _model.predict(_train))\n",
    "\n",
    "for i in range(0, len(models)):\n",
    "    mae = score_model(models[i], X_train, y)\n",
    "    print(f\"Model {i+1} MAE: {mae}\")\n",
    "    "
   ],
   "id": "35f8b597bf132ba7",
   "outputs": [
    {
     "name": "stdout",
     "output_type": "stream",
     "text": [
      "Model 1 MAE: 0.9988776655443322\n",
      "Model 2 MAE: 0.9977553310886644\n",
      "Model 3 MAE: 0.9977553310886644\n",
      "Model 4 MAE: 0.8911335578002245\n",
      "Model 5 MAE: 0.9102132435465768\n"
     ]
    }
   ],
   "execution_count": 114
  },
  {
   "metadata": {
    "ExecuteTime": {
     "end_time": "2024-09-29T20:38:29.145672Z",
     "start_time": "2024-09-29T20:38:29.138482Z"
    }
   },
   "cell_type": "code",
   "source": [
    "output = pd.DataFrame({'PassengerId': test.PassengerId, 'Survived': predictions})\n",
    "output.to_csv('data/my_submission.csv', index=False)"
   ],
   "id": "9bbc0864cbd173f7",
   "outputs": [],
   "execution_count": 118
  }
 ],
 "metadata": {
  "kernelspec": {
   "display_name": "Python 3",
   "language": "python",
   "name": "python3"
  },
  "language_info": {
   "codemirror_mode": {
    "name": "ipython",
    "version": 2
   },
   "file_extension": ".py",
   "mimetype": "text/x-python",
   "name": "python",
   "nbconvert_exporter": "python",
   "pygments_lexer": "ipython2",
   "version": "2.7.6"
  }
 },
 "nbformat": 4,
 "nbformat_minor": 5
}

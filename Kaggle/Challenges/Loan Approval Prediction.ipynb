{
 "cells": [
  {
   "metadata": {
    "ExecuteTime": {
     "end_time": "2024-10-25T11:54:05.597448Z",
     "start_time": "2024-10-25T11:54:05.592136Z"
    }
   },
   "cell_type": "code",
   "source": "",
   "id": "b6682ddc75f1e091",
   "outputs": [],
   "execution_count": null
  },
  {
   "cell_type": "code",
   "id": "initial_id",
   "metadata": {
    "collapsed": true,
    "ExecuteTime": {
     "end_time": "2024-10-25T11:54:09.228701Z",
     "start_time": "2024-10-25T11:54:05.600459Z"
    }
   },
   "source": [
    "import numpy as np\n",
    "# Import the necessary libraries\n",
    "import pandas as pd\n",
    "from sklearn.compose import ColumnTransformer\n",
    "from sklearn.metrics import accuracy_score\n",
    "from sklearn.model_selection import train_test_split\n",
    "from sklearn.pipeline import make_pipeline\n",
    "from sklearn.preprocessing import Normalizer\n",
    "from sklearn.preprocessing import OrdinalEncoder\n",
    "from sklearn.svm import SVC"
   ],
   "outputs": [],
   "execution_count": 1
  },
  {
   "metadata": {
    "ExecuteTime": {
     "end_time": "2024-10-25T11:54:09.383005Z",
     "start_time": "2024-10-25T11:54:09.229710Z"
    }
   },
   "cell_type": "code",
   "source": [
    "# load the dataset\n",
    "test = pd.read_csv('data/loan/test.csv', index_col='id')\n",
    "train = pd.read_csv('data/loan/train.csv', index_col='id')"
   ],
   "id": "cc07bf6b7d2a699f",
   "outputs": [],
   "execution_count": 2
  },
  {
   "metadata": {
    "ExecuteTime": {
     "end_time": "2024-10-25T11:54:09.516492Z",
     "start_time": "2024-10-25T11:54:09.385018Z"
    }
   },
   "cell_type": "code",
   "source": [
    "# split data \n",
    "X = train.drop('loan_status', axis=1)\n",
    "y = train['loan_status']\n",
    "\n",
    "X_train, X_test, y_train, y_test = train_test_split(X, y, test_size=0.2, random_state=42)"
   ],
   "id": "714743705dc258fe",
   "outputs": [],
   "execution_count": 3
  },
  {
   "metadata": {
    "ExecuteTime": {
     "end_time": "2024-10-25T11:54:09.643822Z",
     "start_time": "2024-10-25T11:54:09.527823Z"
    }
   },
   "cell_type": "code",
   "source": [
    "# Create a pipeline to clean the data\n",
    "\n",
    "num_columns = X.select_dtypes(include=[np.number]).columns\n",
    "cat_columns = X.select_dtypes(include=[object]).columns\n",
    "\n",
    "col_transformer = ColumnTransformer(transformers=\n",
    "    [\n",
    "        ('num_normalizer',Normalizer(), num_columns),\n",
    "        ('cat_encoder', OrdinalEncoder(), cat_columns),\n",
    "    ],\n",
    "    remainder='drop', n_jobs=-1\n",
    ")"
   ],
   "id": "52b5ede7f1b50e55",
   "outputs": [],
   "execution_count": 4
  },
  {
   "metadata": {
    "ExecuteTime": {
     "end_time": "2024-10-25T12:12:20.634273Z",
     "start_time": "2024-10-25T11:54:09.647065Z"
    }
   },
   "cell_type": "code",
   "source": [
    "from sklearn.model_selection import cross_val_score\n",
    "\n",
    "# Using SVC estimator\n",
    "best_params = {'C': 1,\n",
    "               'coef0': 0, \n",
    "               'degree': 1,\n",
    "               'gamma': 2,\n",
    "               'probability': True,\n",
    "               'kernel': 'rbf', \n",
    "               'random_state': 666}\n",
    "\n",
    "estimator = SVC(**best_params)\n",
    "pipeline = make_pipeline(col_transformer, estimator)\n",
    "\n",
    "pipeline.fit(X_train, y_train)\n",
    "y_pred = pipeline.predict(X_test)\n",
    "model_score = pipeline.score(X_test, y_test)\n",
    "\n",
    "cross_validation = cross_val_score(pipeline, X, y, cv=5)\n",
    "mean_cross_val = cross_validation.mean()\n",
    "\n",
    "# Show Report\n",
    "print('Model Score: ', model_score)\n",
    "print('Accuracy Score:', accuracy_score(y_test, y_pred)) # best score 0.93 by using SVC\n",
    "print('Cross Validation Score:', mean_cross_val)\n",
    "print('Cross Validation Scores:', cross_validation)"
   ],
   "id": "53b100caa02fd6d9",
   "outputs": [
    {
     "name": "stdout",
     "output_type": "stream",
     "text": [
      "Model Score:  0.9265069485889675\n",
      "Accuracy Score: 0.9265069485889675\n",
      "Cross Validation Score: 0.9234717367209481\n",
      "Cross Validation Scores: [0.92002728 0.9226703  0.92386393 0.92642169 0.92437548]\n"
     ]
    }
   ],
   "execution_count": 5
  },
  {
   "metadata": {
    "ExecuteTime": {
     "end_time": "2024-10-25T12:12:20.639970Z",
     "start_time": "2024-10-25T12:12:20.636289Z"
    }
   },
   "cell_type": "code",
   "source": "# test_pred = pipeline.predict(test)",
   "id": "84cad98328714462",
   "outputs": [],
   "execution_count": 6
  },
  {
   "metadata": {
    "ExecuteTime": {
     "end_time": "2024-10-25T12:12:20.647904Z",
     "start_time": "2024-10-25T12:12:20.641997Z"
    }
   },
   "cell_type": "code",
   "source": [
    "# Save results (prediction + id )\n",
    "# submission = pd.DataFrame(test_pred, index=test.index, columns=['loan_status'])\n",
    "# submission.to_csv('data/loan/submission.csv', index=True)\n",
    "# print('Prediction saved to submission.csv')"
   ],
   "id": "22ed1c8b98a32ab5",
   "outputs": [],
   "execution_count": 7
  }
 ],
 "metadata": {
  "kernelspec": {
   "display_name": "Python 3",
   "language": "python",
   "name": "python3"
  },
  "language_info": {
   "codemirror_mode": {
    "name": "ipython",
    "version": 2
   },
   "file_extension": ".py",
   "mimetype": "text/x-python",
   "name": "python",
   "nbconvert_exporter": "python",
   "pygments_lexer": "ipython2",
   "version": "2.7.6"
  }
 },
 "nbformat": 4,
 "nbformat_minor": 5
}

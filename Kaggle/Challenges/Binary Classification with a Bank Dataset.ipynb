{
 "cells": [
  {
   "metadata": {
    "collapsed": true
   },
   "cell_type": "markdown",
   "source": [
    "Welcome to the 2025 Kaggle Playground Series! We plan to continue in the spirit of previous playgrounds, providing interesting and approachable datasets for our community to practice their machine learning skills, and anticipate a competition each month.\n",
    "\n",
    "**Goal**: Your goal is to predict whether a client will subscribe to a bank term deposit.\n",
    "\n",
    "+ Public Score ->  **0.94156**\n",
    "+ Leaderboard -> **2445**/3266 (top 75%)"
   ],
   "id": "763a04ac9d006363"
  },
  {
   "metadata": {},
   "cell_type": "markdown",
   "source": "**Evaluation**: Submissions are evaluated using **ROC AUC** between the predicted value and the observed target",
   "id": "5204e54277311bde"
  },
  {
   "metadata": {},
   "cell_type": "markdown",
   "source": [
    "**Files**:\n",
    "- train.csv - the training dataset; y is the binary target\n",
    "- test.csv - the test dataset; your objective is to predict the probability y for each row\n",
    "- sample_submission.csv - a sample submission file in the correct format"
   ],
   "id": "33cfd11645cd62aa"
  },
  {
   "metadata": {},
   "cell_type": "markdown",
   "source": [
    "# Sample Submission\n",
    "\n",
    "| Id    | y   |\n",
    "|-------|-----|\n",
    "| 75000 | 0.5 |\n",
    "| 75001 | 0.5 |\n",
    "| 75002 | 0.5 |\n",
    "| ...   | ... |"
   ],
   "id": "e28ef1f0bcfc3356"
  },
  {
   "metadata": {},
   "cell_type": "markdown",
   "source": [
    "# Future improvements:\n",
    "- Hyperparameter tuning using GridSearchCV or RandomizedSearchCV\n",
    "- Try different models like XGBoost, LightGBM, CatBoost\n",
    "- Feature selection using techniques like Recursive Feature Elimination (RFE)\n",
    "- Cross-validation to ensure model robustness\n",
    "- AUC score seems low, try to improve it\n",
    "- Create a pipeline for data preprocessing, feature engineering, feature selection, and model training"
   ],
   "id": "d47ab510bbbf6f3a"
  },
  {
   "metadata": {
    "ExecuteTime": {
     "end_time": "2025-08-26T20:19:46.310768Z",
     "start_time": "2025-08-26T20:19:46.301924Z"
    }
   },
   "cell_type": "code",
   "source": [
    "import numpy as np\n",
    "import pandas as pd\n",
    "from sklearn.linear_model import LogisticRegression, LinearRegression\n",
    "from sklearn.neighbors import KNeighborsClassifier\n",
    "from sklearn.preprocessing import MinMaxScaler, OrdinalEncoder\n",
    "import matplotlib.pyplot as plt\n",
    "import seaborn as sns\n",
    "from sklearn.model_selection import train_test_split, StratifiedKFold\n",
    "from sklearn.ensemble import RandomForestClassifier\n",
    "from sklearn.metrics import roc_auc_score\n",
    "from sklearn.model_selection import cross_val_score, RandomizedSearchCV, GridSearchCV\n",
    "from sklearn.feature_selection import RFE\n",
    "from sklearn.metrics import RocCurveDisplay\n",
    "from sklearn.pipeline import Pipeline\n",
    "from sklearn.compose import ColumnTransformer\n",
    "from sklearn.preprocessing import OneHotEncoder\n",
    "from sklearn.base import BaseEstimator, TransformerMixin\n",
    "from sklearn.pipeline import make_pipeline\n",
    "import numpy as np\n",
    "from sklearn.ensemble import AdaBoostClassifier, GradientBoostingClassifier, HistGradientBoostingClassifier, VotingClassifier, BaggingClassifier\n",
    "from sklearn.svm import LinearSVC\n",
    "from sklearn.tree import DecisionTreeClassifier"
   ],
   "id": "56199d99f4fdf7b2",
   "outputs": [],
   "execution_count": 26
  },
  {
   "metadata": {
    "ExecuteTime": {
     "end_time": "2025-08-26T20:06:52.339928Z",
     "start_time": "2025-08-26T20:06:52.336839Z"
    }
   },
   "cell_type": "code",
   "source": [
    "train_data_path = './data/bank/train.zip' #'/kaggle/input/playground-series-s5e8/train.csv'\n",
    "test_data_path = './data/bank/test.zip' #'/kaggle/input/playground-series-s5e8/test.csv'\n",
    "submission_path = 'submission.csv' #'/kaggle/working/submission.csv'"
   ],
   "id": "30ddddd748c15036",
   "outputs": [],
   "execution_count": 2
  },
  {
   "metadata": {
    "ExecuteTime": {
     "end_time": "2025-08-26T20:06:54.561565Z",
     "start_time": "2025-08-26T20:06:52.385743Z"
    }
   },
   "cell_type": "code",
   "source": [
    "# load the data\n",
    "train_df = pd.read_csv(train_data_path)\n",
    "test_df = pd.read_csv(test_data_path)"
   ],
   "id": "e3f0670135efc7f7",
   "outputs": [],
   "execution_count": 3
  },
  {
   "metadata": {
    "ExecuteTime": {
     "end_time": "2025-08-26T20:06:54.752325Z",
     "start_time": "2025-08-26T20:06:54.729399Z"
    }
   },
   "cell_type": "code",
   "source": "train_df.head()",
   "id": "9a79072473391c0e",
   "outputs": [
    {
     "data": {
      "text/plain": [
       "   id  age          job  marital  education default  balance housing loan  \\\n",
       "0   0   42   technician  married  secondary      no        7      no   no   \n",
       "1   1   38  blue-collar  married  secondary      no      514      no   no   \n",
       "2   2   36  blue-collar  married  secondary      no      602     yes   no   \n",
       "3   3   27      student   single  secondary      no       34     yes   no   \n",
       "4   4   26   technician  married  secondary      no      889     yes   no   \n",
       "\n",
       "    contact  day month  duration  campaign  pdays  previous poutcome  y  \n",
       "0  cellular   25   aug       117         3     -1         0  unknown  0  \n",
       "1   unknown   18   jun       185         1     -1         0  unknown  0  \n",
       "2   unknown   14   may       111         2     -1         0  unknown  0  \n",
       "3   unknown   28   may        10         2     -1         0  unknown  0  \n",
       "4  cellular    3   feb       902         1     -1         0  unknown  1  "
      ],
      "text/html": [
       "<div>\n",
       "<style scoped>\n",
       "    .dataframe tbody tr th:only-of-type {\n",
       "        vertical-align: middle;\n",
       "    }\n",
       "\n",
       "    .dataframe tbody tr th {\n",
       "        vertical-align: top;\n",
       "    }\n",
       "\n",
       "    .dataframe thead th {\n",
       "        text-align: right;\n",
       "    }\n",
       "</style>\n",
       "<table border=\"1\" class=\"dataframe\">\n",
       "  <thead>\n",
       "    <tr style=\"text-align: right;\">\n",
       "      <th></th>\n",
       "      <th>id</th>\n",
       "      <th>age</th>\n",
       "      <th>job</th>\n",
       "      <th>marital</th>\n",
       "      <th>education</th>\n",
       "      <th>default</th>\n",
       "      <th>balance</th>\n",
       "      <th>housing</th>\n",
       "      <th>loan</th>\n",
       "      <th>contact</th>\n",
       "      <th>day</th>\n",
       "      <th>month</th>\n",
       "      <th>duration</th>\n",
       "      <th>campaign</th>\n",
       "      <th>pdays</th>\n",
       "      <th>previous</th>\n",
       "      <th>poutcome</th>\n",
       "      <th>y</th>\n",
       "    </tr>\n",
       "  </thead>\n",
       "  <tbody>\n",
       "    <tr>\n",
       "      <th>0</th>\n",
       "      <td>0</td>\n",
       "      <td>42</td>\n",
       "      <td>technician</td>\n",
       "      <td>married</td>\n",
       "      <td>secondary</td>\n",
       "      <td>no</td>\n",
       "      <td>7</td>\n",
       "      <td>no</td>\n",
       "      <td>no</td>\n",
       "      <td>cellular</td>\n",
       "      <td>25</td>\n",
       "      <td>aug</td>\n",
       "      <td>117</td>\n",
       "      <td>3</td>\n",
       "      <td>-1</td>\n",
       "      <td>0</td>\n",
       "      <td>unknown</td>\n",
       "      <td>0</td>\n",
       "    </tr>\n",
       "    <tr>\n",
       "      <th>1</th>\n",
       "      <td>1</td>\n",
       "      <td>38</td>\n",
       "      <td>blue-collar</td>\n",
       "      <td>married</td>\n",
       "      <td>secondary</td>\n",
       "      <td>no</td>\n",
       "      <td>514</td>\n",
       "      <td>no</td>\n",
       "      <td>no</td>\n",
       "      <td>unknown</td>\n",
       "      <td>18</td>\n",
       "      <td>jun</td>\n",
       "      <td>185</td>\n",
       "      <td>1</td>\n",
       "      <td>-1</td>\n",
       "      <td>0</td>\n",
       "      <td>unknown</td>\n",
       "      <td>0</td>\n",
       "    </tr>\n",
       "    <tr>\n",
       "      <th>2</th>\n",
       "      <td>2</td>\n",
       "      <td>36</td>\n",
       "      <td>blue-collar</td>\n",
       "      <td>married</td>\n",
       "      <td>secondary</td>\n",
       "      <td>no</td>\n",
       "      <td>602</td>\n",
       "      <td>yes</td>\n",
       "      <td>no</td>\n",
       "      <td>unknown</td>\n",
       "      <td>14</td>\n",
       "      <td>may</td>\n",
       "      <td>111</td>\n",
       "      <td>2</td>\n",
       "      <td>-1</td>\n",
       "      <td>0</td>\n",
       "      <td>unknown</td>\n",
       "      <td>0</td>\n",
       "    </tr>\n",
       "    <tr>\n",
       "      <th>3</th>\n",
       "      <td>3</td>\n",
       "      <td>27</td>\n",
       "      <td>student</td>\n",
       "      <td>single</td>\n",
       "      <td>secondary</td>\n",
       "      <td>no</td>\n",
       "      <td>34</td>\n",
       "      <td>yes</td>\n",
       "      <td>no</td>\n",
       "      <td>unknown</td>\n",
       "      <td>28</td>\n",
       "      <td>may</td>\n",
       "      <td>10</td>\n",
       "      <td>2</td>\n",
       "      <td>-1</td>\n",
       "      <td>0</td>\n",
       "      <td>unknown</td>\n",
       "      <td>0</td>\n",
       "    </tr>\n",
       "    <tr>\n",
       "      <th>4</th>\n",
       "      <td>4</td>\n",
       "      <td>26</td>\n",
       "      <td>technician</td>\n",
       "      <td>married</td>\n",
       "      <td>secondary</td>\n",
       "      <td>no</td>\n",
       "      <td>889</td>\n",
       "      <td>yes</td>\n",
       "      <td>no</td>\n",
       "      <td>cellular</td>\n",
       "      <td>3</td>\n",
       "      <td>feb</td>\n",
       "      <td>902</td>\n",
       "      <td>1</td>\n",
       "      <td>-1</td>\n",
       "      <td>0</td>\n",
       "      <td>unknown</td>\n",
       "      <td>1</td>\n",
       "    </tr>\n",
       "  </tbody>\n",
       "</table>\n",
       "</div>"
      ]
     },
     "execution_count": 5,
     "metadata": {},
     "output_type": "execute_result"
    }
   ],
   "execution_count": 5
  },
  {
   "metadata": {
    "ExecuteTime": {
     "end_time": "2025-08-26T20:06:55.107356Z",
     "start_time": "2025-08-26T20:06:54.865171Z"
    }
   },
   "cell_type": "code",
   "source": "train_df.describe()",
   "id": "dcea461aad03061e",
   "outputs": [
    {
     "data": {
      "text/plain": [
       "                  id            age        balance            day  \\\n",
       "count  750000.000000  750000.000000  750000.000000  750000.000000   \n",
       "mean   374999.500000      40.926395    1204.067397      16.117209   \n",
       "std    216506.495284      10.098829    2836.096759       8.250832   \n",
       "min         0.000000      18.000000   -8019.000000       1.000000   \n",
       "25%    187499.750000      33.000000       0.000000       9.000000   \n",
       "50%    374999.500000      39.000000     634.000000      17.000000   \n",
       "75%    562499.250000      48.000000    1390.000000      21.000000   \n",
       "max    749999.000000      95.000000   99717.000000      31.000000   \n",
       "\n",
       "            duration       campaign          pdays       previous  \\\n",
       "count  750000.000000  750000.000000  750000.000000  750000.000000   \n",
       "mean      256.229144       2.577008      22.412733       0.298545   \n",
       "std       272.555662       2.718514      77.319998       1.335926   \n",
       "min         1.000000       1.000000      -1.000000       0.000000   \n",
       "25%        91.000000       1.000000      -1.000000       0.000000   \n",
       "50%       133.000000       2.000000      -1.000000       0.000000   \n",
       "75%       361.000000       3.000000      -1.000000       0.000000   \n",
       "max      4918.000000      63.000000     871.000000     200.000000   \n",
       "\n",
       "                   y  \n",
       "count  750000.000000  \n",
       "mean        0.120651  \n",
       "std         0.325721  \n",
       "min         0.000000  \n",
       "25%         0.000000  \n",
       "50%         0.000000  \n",
       "75%         0.000000  \n",
       "max         1.000000  "
      ],
      "text/html": [
       "<div>\n",
       "<style scoped>\n",
       "    .dataframe tbody tr th:only-of-type {\n",
       "        vertical-align: middle;\n",
       "    }\n",
       "\n",
       "    .dataframe tbody tr th {\n",
       "        vertical-align: top;\n",
       "    }\n",
       "\n",
       "    .dataframe thead th {\n",
       "        text-align: right;\n",
       "    }\n",
       "</style>\n",
       "<table border=\"1\" class=\"dataframe\">\n",
       "  <thead>\n",
       "    <tr style=\"text-align: right;\">\n",
       "      <th></th>\n",
       "      <th>id</th>\n",
       "      <th>age</th>\n",
       "      <th>balance</th>\n",
       "      <th>day</th>\n",
       "      <th>duration</th>\n",
       "      <th>campaign</th>\n",
       "      <th>pdays</th>\n",
       "      <th>previous</th>\n",
       "      <th>y</th>\n",
       "    </tr>\n",
       "  </thead>\n",
       "  <tbody>\n",
       "    <tr>\n",
       "      <th>count</th>\n",
       "      <td>750000.000000</td>\n",
       "      <td>750000.000000</td>\n",
       "      <td>750000.000000</td>\n",
       "      <td>750000.000000</td>\n",
       "      <td>750000.000000</td>\n",
       "      <td>750000.000000</td>\n",
       "      <td>750000.000000</td>\n",
       "      <td>750000.000000</td>\n",
       "      <td>750000.000000</td>\n",
       "    </tr>\n",
       "    <tr>\n",
       "      <th>mean</th>\n",
       "      <td>374999.500000</td>\n",
       "      <td>40.926395</td>\n",
       "      <td>1204.067397</td>\n",
       "      <td>16.117209</td>\n",
       "      <td>256.229144</td>\n",
       "      <td>2.577008</td>\n",
       "      <td>22.412733</td>\n",
       "      <td>0.298545</td>\n",
       "      <td>0.120651</td>\n",
       "    </tr>\n",
       "    <tr>\n",
       "      <th>std</th>\n",
       "      <td>216506.495284</td>\n",
       "      <td>10.098829</td>\n",
       "      <td>2836.096759</td>\n",
       "      <td>8.250832</td>\n",
       "      <td>272.555662</td>\n",
       "      <td>2.718514</td>\n",
       "      <td>77.319998</td>\n",
       "      <td>1.335926</td>\n",
       "      <td>0.325721</td>\n",
       "    </tr>\n",
       "    <tr>\n",
       "      <th>min</th>\n",
       "      <td>0.000000</td>\n",
       "      <td>18.000000</td>\n",
       "      <td>-8019.000000</td>\n",
       "      <td>1.000000</td>\n",
       "      <td>1.000000</td>\n",
       "      <td>1.000000</td>\n",
       "      <td>-1.000000</td>\n",
       "      <td>0.000000</td>\n",
       "      <td>0.000000</td>\n",
       "    </tr>\n",
       "    <tr>\n",
       "      <th>25%</th>\n",
       "      <td>187499.750000</td>\n",
       "      <td>33.000000</td>\n",
       "      <td>0.000000</td>\n",
       "      <td>9.000000</td>\n",
       "      <td>91.000000</td>\n",
       "      <td>1.000000</td>\n",
       "      <td>-1.000000</td>\n",
       "      <td>0.000000</td>\n",
       "      <td>0.000000</td>\n",
       "    </tr>\n",
       "    <tr>\n",
       "      <th>50%</th>\n",
       "      <td>374999.500000</td>\n",
       "      <td>39.000000</td>\n",
       "      <td>634.000000</td>\n",
       "      <td>17.000000</td>\n",
       "      <td>133.000000</td>\n",
       "      <td>2.000000</td>\n",
       "      <td>-1.000000</td>\n",
       "      <td>0.000000</td>\n",
       "      <td>0.000000</td>\n",
       "    </tr>\n",
       "    <tr>\n",
       "      <th>75%</th>\n",
       "      <td>562499.250000</td>\n",
       "      <td>48.000000</td>\n",
       "      <td>1390.000000</td>\n",
       "      <td>21.000000</td>\n",
       "      <td>361.000000</td>\n",
       "      <td>3.000000</td>\n",
       "      <td>-1.000000</td>\n",
       "      <td>0.000000</td>\n",
       "      <td>0.000000</td>\n",
       "    </tr>\n",
       "    <tr>\n",
       "      <th>max</th>\n",
       "      <td>749999.000000</td>\n",
       "      <td>95.000000</td>\n",
       "      <td>99717.000000</td>\n",
       "      <td>31.000000</td>\n",
       "      <td>4918.000000</td>\n",
       "      <td>63.000000</td>\n",
       "      <td>871.000000</td>\n",
       "      <td>200.000000</td>\n",
       "      <td>1.000000</td>\n",
       "    </tr>\n",
       "  </tbody>\n",
       "</table>\n",
       "</div>"
      ]
     },
     "execution_count": 6,
     "metadata": {},
     "output_type": "execute_result"
    }
   ],
   "execution_count": 6
  },
  {
   "metadata": {
    "ExecuteTime": {
     "end_time": "2025-08-26T20:06:55.812430Z",
     "start_time": "2025-08-26T20:06:55.463895Z"
    }
   },
   "cell_type": "code",
   "source": "train_df.info()",
   "id": "bbe67ab8a661f66c",
   "outputs": [
    {
     "name": "stdout",
     "output_type": "stream",
     "text": [
      "<class 'pandas.core.frame.DataFrame'>\n",
      "RangeIndex: 750000 entries, 0 to 749999\n",
      "Data columns (total 18 columns):\n",
      " #   Column     Non-Null Count   Dtype \n",
      "---  ------     --------------   ----- \n",
      " 0   id         750000 non-null  int64 \n",
      " 1   age        750000 non-null  int64 \n",
      " 2   job        750000 non-null  object\n",
      " 3   marital    750000 non-null  object\n",
      " 4   education  750000 non-null  object\n",
      " 5   default    750000 non-null  object\n",
      " 6   balance    750000 non-null  int64 \n",
      " 7   housing    750000 non-null  object\n",
      " 8   loan       750000 non-null  object\n",
      " 9   contact    750000 non-null  object\n",
      " 10  day        750000 non-null  int64 \n",
      " 11  month      750000 non-null  object\n",
      " 12  duration   750000 non-null  int64 \n",
      " 13  campaign   750000 non-null  int64 \n",
      " 14  pdays      750000 non-null  int64 \n",
      " 15  previous   750000 non-null  int64 \n",
      " 16  poutcome   750000 non-null  object\n",
      " 17  y          750000 non-null  int64 \n",
      "dtypes: int64(9), object(9)\n",
      "memory usage: 103.0+ MB\n"
     ]
    }
   ],
   "execution_count": 7
  },
  {
   "metadata": {
    "ExecuteTime": {
     "end_time": "2025-08-26T20:06:55.840493Z",
     "start_time": "2025-08-26T20:06:55.834356Z"
    }
   },
   "cell_type": "code",
   "source": [
    "class FeatureTransformer(BaseEstimator, TransformerMixin):\n",
    "    \"\"\"Custom transformer to create new features based on existing ones.\"\"\"\n",
    "\n",
    "    def __init__(self, columns):\n",
    "        self.columns = columns\n",
    "\n",
    "    def fit(self, X, y=None):\n",
    "        return self\n",
    "\n",
    "    def transform(self, X):\n",
    "        # Ensure X is a DataFrame with column names\n",
    "        if not isinstance(X, pd.DataFrame):\n",
    "            X = pd.DataFrame(X, columns=self.columns)\n",
    "        X = X.copy()\n",
    "        _age_bins = [18, 25, 35, 45, 55, 65, 100]\n",
    "        _age_labels = ['18-24', '25-34', '35-44', '45-54', '55-64', '65+']\n",
    "        X['age_group'] = pd.cut(X['age'], bins=_age_bins, labels=_age_labels, right=False)\n",
    "        X['age_group'] = X['age_group'].astype('category').cat.codes\n",
    "        X['is_balance_negative'] = (X['balance'] < 0).astype(int)\n",
    "        X['is_pdays_negative'] = (X['pdays'] < 0).astype(int)\n",
    "        return X"
   ],
   "id": "7a1716f329271e4e",
   "outputs": [],
   "execution_count": 8
  },
  {
   "metadata": {
    "ExecuteTime": {
     "end_time": "2025-08-26T20:06:55.906261Z",
     "start_time": "2025-08-26T20:06:55.896261Z"
    }
   },
   "cell_type": "code",
   "source": [
    "# let's make a IQR_Transformer for Pipeline\n",
    "class IQRTransformer(BaseEstimator, TransformerMixin):\n",
    "    \"\"\" Custom transformer to drop outliers using IQR method.\"\"\"\n",
    "    def __init__(self, columns, is_delete=True):\n",
    "        self.columns = columns\n",
    "        self.is_delete = is_delete\n",
    "\n",
    "    def fit(self, X, y=None):\n",
    "        return self\n",
    "\n",
    "    def transform(self, X):\n",
    "        df_out = X.copy()\n",
    "        for col in self.columns:\n",
    "            Q1 = df_out[col].quantile(0.25)\n",
    "            Q3 = df_out[col].quantile(0.75)\n",
    "            IQR = Q3 - Q1\n",
    "            lower_bound = Q1 - 1.5 * IQR\n",
    "            upper_bound = Q3 + 1.5 * IQR\n",
    "            if self.is_delete:\n",
    "                df_out = df_out[(df_out[col] >= lower_bound) & (df_out[col] <= upper_bound)]\n",
    "            else: # let's cap the outliers\n",
    "                df_out[col] = df_out[col].apply(lambda x: lower_bound if x < lower_bound else (upper_bound if x > upper_bound else x))\n",
    "        return df_out"
   ],
   "id": "d2523c3e3721c2fa",
   "outputs": [],
   "execution_count": 9
  },
  {
   "metadata": {
    "ExecuteTime": {
     "end_time": "2025-08-26T20:06:56.081677Z",
     "start_time": "2025-08-26T20:06:55.959726Z"
    }
   },
   "cell_type": "code",
   "source": [
    "# let's split data to X and y\n",
    "X = train_df.drop(columns=['y'])\n",
    "y = train_df['y']"
   ],
   "id": "c5dceb5e9144e273",
   "outputs": [],
   "execution_count": 10
  },
  {
   "metadata": {
    "ExecuteTime": {
     "end_time": "2025-08-26T20:06:56.673855Z",
     "start_time": "2025-08-26T20:06:56.092718Z"
    }
   },
   "cell_type": "code",
   "source": [
    "# let's split data to train and validation\n",
    "X_train, X_val, y_train, y_val = train_test_split(X, y, test_size=0.05, random_state=42, stratify=y)"
   ],
   "id": "a96df24c61a7d6a1",
   "outputs": [],
   "execution_count": 11
  },
  {
   "metadata": {
    "ExecuteTime": {
     "end_time": "2025-08-26T20:06:56.687957Z",
     "start_time": "2025-08-26T20:06:56.683622Z"
    }
   },
   "cell_type": "code",
   "source": [
    "min_max_columns = ['balance', 'duration', 'pdays', 'previous', 'campaign']\n",
    "cat_columns = ['job', 'marital', 'education', 'default', 'housing', 'loan', 'contact', 'month', 'poutcome']\n",
    "iqr_columns = ['balance', 'duration', 'pdays', 'previous', 'campaign']\n",
    "\n",
    "# let's build a pipeline for preprocessing and model training\n",
    "preprocessor = ColumnTransformer(\n",
    "    transformers=[\n",
    "        ('num', MinMaxScaler(), min_max_columns),\n",
    "        ('cat', OneHotEncoder(handle_unknown='ignore'), cat_columns),\n",
    "        ('drop', 'drop', ['id']),\n",
    "        ('passthrough', 'passthrough', ['age'])\n",
    "    ]\n",
    ")"
   ],
   "id": "5e709a0cfc48a4b0",
   "outputs": [],
   "execution_count": 12
  },
  {
   "metadata": {
    "ExecuteTime": {
     "end_time": "2025-08-26T20:06:56.749298Z",
     "start_time": "2025-08-26T20:06:56.743696Z"
    }
   },
   "cell_type": "code",
   "source": [
    "transformer = Pipeline(steps=[\n",
    "        ('feature_engineering', FeatureTransformer(X.columns)),\n",
    "        ('cap_outliers', IQRTransformer(iqr_columns, is_delete=False)),\n",
    "        ('preprocessor', preprocessor),\n",
    "])"
   ],
   "id": "33f8024ffd68583e",
   "outputs": [],
   "execution_count": 13
  },
  {
   "metadata": {
    "ExecuteTime": {
     "end_time": "2025-08-26T20:06:56.807363Z",
     "start_time": "2025-08-26T20:06:56.802734Z"
    }
   },
   "cell_type": "code",
   "source": "cv = StratifiedKFold(n_splits=5, shuffle=True, random_state=42)",
   "id": "3cbf7bfa9940d13e",
   "outputs": [],
   "execution_count": 14
  },
  {
   "metadata": {},
   "cell_type": "code",
   "source": [
    "estimator = LogisticRegression(n_jobs=-1, max_iter=100)\n",
    "\n",
    "param_grid = {\n",
    "    'logisticregression__C': [0.01, 0.1, 1, 10, 100],\n",
    "    'logisticregression__solver': ['liblinear', 'saga'],\n",
    "    'logisticregression__penalty': ['l1', 'l2'],\n",
    "    'logisticregression__max_iter': [100, 200, 500]\n",
    "}\n",
    "\n",
    "pipeline = make_pipeline(transformer, estimator )\n",
    "\n",
    "search = GridSearchCV(pipeline, param_grid, cv=cv, scoring='roc_auc', n_jobs=-1, verbose=0, return_train_score=False)\n",
    "\n",
    "search.fit(X_train, y_train)\n",
    "\n",
    "best_model = search.best_estimator_\n",
    "best_score = search.best_score_"
   ],
   "id": "58a0e3c009cc4c0b",
   "outputs": [],
   "execution_count": null
  },
  {
   "metadata": {
    "ExecuteTime": {
     "end_time": "2025-08-26T20:20:11.014483Z",
     "start_time": "2025-08-26T20:20:03.753278Z"
    }
   },
   "cell_type": "code",
   "source": [
    "y_val_pred = best_model.predict(X_val)\n",
    "roc_auc = roc_auc_score(y_val, y_val_pred)\n",
    "print(f'Validation ROC AUC: {roc_auc:.4f}') # Validation ROC AUC: 0.9541"
   ],
   "id": "3d2ce0b07517e70e",
   "outputs": [
    {
     "name": "stdout",
     "output_type": "stream",
     "text": [
      "Validation ROC AUC: 0.9388\n"
     ]
    }
   ],
   "execution_count": 27
  },
  {
   "metadata": {
    "ExecuteTime": {
     "end_time": "2025-08-26T20:20:23.930989Z",
     "start_time": "2025-08-26T20:20:23.797558Z"
    }
   },
   "cell_type": "code",
   "source": [
    "# # let's plot ROC curve\n",
    "RocCurveDisplay.from_predictions(y_val, y_val_pred)\n",
    "plt.show()"
   ],
   "id": "d470a99b5f498ebf",
   "outputs": [
    {
     "data": {
      "text/plain": [
       "<Figure size 640x480 with 1 Axes>"
      ],
      "image/png": "[encoded data removed]"
     },
     "metadata": {},
     "output_type": "display_data"
    }
   ],
   "execution_count": 28
  },
  {
   "metadata": {
    "ExecuteTime": {
     "end_time": "2025-08-26T20:09:00.092700Z",
     "start_time": "2025-08-26T20:09:00.087789Z"
    }
   },
   "cell_type": "code",
   "source": [
    "# # # lets check on cross_validation\n",
    "cv_scores = cross_val_score(best_model, X, y, cv=cv, scoring='roc_auc', n_jobs=-1)\n",
    "print(f'Cross-validation ROC AUC scores: {cv_scores}')\n",
    "print(f'Mean CV ROC AUC: {cv_scores.mean():.4f} +/- {cv_scores.std():.4f}')"
   ],
   "id": "6db0a988fb620b3d",
   "outputs": [],
   "execution_count": 18
  },
  {
   "metadata": {
    "ExecuteTime": {
     "end_time": "2025-08-26T20:09:00.143200Z",
     "start_time": "2025-08-26T20:09:00.139348Z"
    }
   },
   "cell_type": "code",
   "source": [
    "# # # let's predict on test data\n",
    "predicted_test_df = test_df.drop(columns=['id', 'age'])\n",
    "predicted_test_df['y'] = best_model.predict_proba(predicted_test_df)[:, 1]"
   ],
   "id": "f842ee5a0344dba6",
   "outputs": [],
   "execution_count": 19
  },
  {
   "metadata": {
    "ExecuteTime": {
     "end_time": "2025-08-26T20:09:00.196390Z",
     "start_time": "2025-08-26T20:09:00.191002Z"
    }
   },
   "cell_type": "code",
   "source": [
    "# # let's create a submission file\n",
    "submission = predicted_test_df[['id', 'y']]\n",
    "submission.to_csv(submission_path, index=False)"
   ],
   "id": "8c230d5a73d18dcd",
   "outputs": [],
   "execution_count": 20
  }
 ],
 "metadata": {
  "kernelspec": {
   "display_name": "Python 3",
   "language": "python",
   "name": "python3"
  },
  "language_info": {
   "codemirror_mode": {
    "name": "ipython",
    "version": 2
   },
   "file_extension": ".py",
   "mimetype": "text/x-python",
   "name": "python",
   "nbconvert_exporter": "python",
   "pygments_lexer": "ipython2",
   "version": "2.7.6"
  }
 },
 "nbformat": 4,
 "nbformat_minor": 5
}

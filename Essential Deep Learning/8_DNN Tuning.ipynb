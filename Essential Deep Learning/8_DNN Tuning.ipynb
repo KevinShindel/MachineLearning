{
 "cells": [
  {
   "metadata": {},
   "cell_type": "markdown",
   "source": "# DNN tuning techniques",
   "id": "bf377e3565cdc77f"
  },
  {
   "metadata": {},
   "cell_type": "code",
   "outputs": [],
   "execution_count": null,
   "source": [
    "# Importing the libraries\n",
    "from tensorflow.keras import models as k_models\n",
    "from tensorflow.keras.layers import Dense, Input\n",
    "from tensorflow.keras.wrappers.scikit_learn import KerasClassifier\n",
    "import keras_tuner as kt\n",
    "from tensorflow import keras\n",
    "from tensorflow.keras import layers\n",
    "from sklearn.model_selection import train_test_split\n",
    "from sklearn.model_selection import GridSearchCV"
   ],
   "id": "6f6cdb1a39d07926"
  },
  {
   "metadata": {},
   "cell_type": "code",
   "outputs": [],
   "execution_count": null,
   "source": [
    "# Load the dataset (Iris from sklearn)\n",
    "from sklearn.datasets import load_iris\n",
    "iris = load_iris()\n",
    "X = iris.data\n",
    "y = iris.target"
   ],
   "id": "a1585f66a5f94b3f"
  },
  {
   "metadata": {},
   "cell_type": "code",
   "outputs": [],
   "execution_count": null,
   "source": [
    "# Split the dataset\n",
    "X_train, X_test, y_train, y_test = train_test_split(X, y, test_size=0.2, random_state=42)"
   ],
   "id": "d5cca2927e121c2c"
  },
  {
   "metadata": {},
   "cell_type": "code",
   "outputs": [],
   "execution_count": null,
   "source": [
    "# define the constants \n",
    "feature_dim = X_train.shape[1]\n",
    "target_dim = 1"
   ],
   "id": "f76bb44cffabd3cf"
  },
  {
   "metadata": {},
   "cell_type": "code",
   "outputs": [],
   "execution_count": null,
   "source": [
    "# Tune DNN Using GridSearchCV\n",
    "\n",
    "param_grid = {\n",
    "    'batch_size': [10, 20, 40],\n",
    "    'epochs': [10, 50, 100],\n",
    "    'optimizer': ['SGD', 'Adam'],\n",
    "    'init': ['uniform', 'normal'],\n",
    "    'units': [32, 64, 128],\n",
    "}\n",
    "\n",
    "def create_model(optimizer='adam', init='uniform'):\n",
    "    _model = k_models.Sequential([\n",
    "        Input(shape=(feature_dim,)),\n",
    "        Dense(12, kernel_initializer=init, activation='relu'),\n",
    "        Dense(8, kernel_initializer=init, activation='relu'),\n",
    "        Dense(target_dim, kernel_initializer=init, activation='sigmoid')\n",
    "    ])\n",
    "    _model.compile(loss='binary_crossentropy',\n",
    "                  optimizer=optimizer,\n",
    "                  metrics=['accuracy'])\n",
    "    \n",
    "    return _model\n",
    "\n",
    "model = KerasClassifier(build_fn=create_model, verbose=0)\n",
    "\n",
    "# Perform Grid Search:  \n",
    "grid = GridSearchCV(estimator=model, param_grid=param_grid, n_jobs=-1, cv=3)\n",
    "grid_result = grid.fit(X_train, y_train)\n",
    "\n",
    "# best model\n",
    "best_model = grid_result.best_estimator_.model\n",
    "best_params = grid_result.best_params_\n",
    "\n",
    "# Summarize the Results:\n",
    "print(f\"Best: {grid_result.best_score_} using {grid_result.best_params_}\")\n",
    "means = grid_result.cv_results_['mean_test_score']\n",
    "stds = grid_result.cv_results_['std_test_score']\n",
    "params = grid_result.cv_results_['params']\n",
    "for mean, std, param in zip(means, stds, params):\n",
    "    print(f\"{mean} ({std}) with: {param}\")"
   ],
   "id": "154d2f840034cff1"
  },
  {
   "metadata": {},
   "cell_type": "code",
   "outputs": [],
   "execution_count": null,
   "source": [
    "# Tune DNN Using keras-tuner\n",
    "\n",
    "def build_model(hp: kt.HyperParameters):\n",
    "    _model = keras.Sequential([\n",
    "        Input(shape=(feature_dim,)),\n",
    "        layers.Dense(units=hp.Int('units_1', min_value=32, max_value=512, step=32), activation='relu'),\n",
    "        layers.Dense(units=hp.Int('units_2', min_value=32, max_value=512, step=32), activation='relu'),\n",
    "        Dense(target_dim, activation='sigmoid')\n",
    "    ])\n",
    "    \n",
    "    # Tune the learning rate\n",
    "    _model.compile(\n",
    "        optimizer=keras.optimizers.Adam(\n",
    "            hp.Choice('learning_rate', [1e-2, 1e-3, 1e-4])),\n",
    "        loss='binary_crossentropy',\n",
    "        metrics=['accuracy'])\n",
    "    \n",
    "# Run the Hyperparameter Search:  \n",
    "tuner = kt.RandomSearch(\n",
    "    build_model,\n",
    "    objective='val_accuracy',\n",
    "    max_trials=5,\n",
    "    executions_per_trial=3,\n",
    "    directory='my_dir',\n",
    "    project_name='intro_to_kt')\n",
    "\n",
    "tuner.search(X_train, y_train, epochs=10, validation_data=(X_test, y_test))\n",
    "\n",
    "# Get the optimal hyperparameters\n",
    "best_hps = tuner.get_best_hyperparameters(num_trials=1)[0]\n",
    "\n",
    "print(f\"\"\"\n",
    "The hyperparameter search is complete. The optimal number of units in the first densely-connected\n",
    "layer is {best_hps.get('units_0')} and the optimal learning rate for the optimizer\n",
    "is {best_hps.get('learning_rate')}.\n",
    "\"\"\")"
   ],
   "id": "f0b24c484f87153a"
  }
 ],
 "metadata": {
  "kernelspec": {
   "display_name": "Python 3",
   "language": "python",
   "name": "python3"
  },
  "language_info": {
   "codemirror_mode": {
    "name": "ipython",
    "version": 2
   },
   "file_extension": ".py",
   "mimetype": "text/x-python",
   "name": "python",
   "nbconvert_exporter": "python",
   "pygments_lexer": "ipython2",
   "version": "2.7.6"
  }
 },
 "nbformat": 4,
 "nbformat_minor": 5
}

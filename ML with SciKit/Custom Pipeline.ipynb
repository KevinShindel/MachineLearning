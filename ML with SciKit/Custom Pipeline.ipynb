{
 "cells": [
  {
   "cell_type": "code",
   "id": "initial_id",
   "metadata": {
    "collapsed": true
   },
   "source": [
    "# Implement CustomTransformer\n",
    "import pandas as pd\n",
    "from sklearn.base import BaseEstimator, TransformerMixin\n",
    "from sklearn.model_selection import train_test_split\n",
    "import numpy as np\n",
    "from sklearn.compose import ColumnTransformer\n",
    "from sklearn.neighbors import KNeighborsClassifier\n",
    "from sklearn.pipeline import make_pipeline\n",
    "from sklearn.preprocessing import Normalizer"
   ],
   "outputs": [],
   "execution_count": null
  },
  {
   "metadata": {},
   "cell_type": "code",
   "source": [
    "# load data \n",
    "train = pd.read_csv('../Kaggle/Challenges/data/titanic_train.csv') # training data\n",
    "test = pd.read_csv('../Kaggle/Challenges/data/titanic_test.csv') # test data"
   ],
   "id": "4a91ce120344088",
   "outputs": [],
   "execution_count": null
  },
  {
   "metadata": {},
   "cell_type": "code",
   "source": [
    "X = train.drop('Survived', axis=1)\n",
    "y = train['Survived']"
   ],
   "id": "8a1bc8a9ac8fc359",
   "outputs": [],
   "execution_count": null
  },
  {
   "metadata": {},
   "cell_type": "code",
   "source": [
    "X_train, X_valid, y_train, y_valid = \\\n",
    "    train_test_split(X, y, random_state=42, train_size=0.75)"
   ],
   "id": "7728df5cadad667e",
   "outputs": [],
   "execution_count": null
  },
  {
   "metadata": {},
   "cell_type": "code",
   "source": [
    "class OutlierCleaner(BaseEstimator, TransformerMixin):\n",
    "    \n",
    "    def fit(self, X: pd.DataFrame, y=None):\n",
    "        return self\n",
    "    \n",
    "    @staticmethod\n",
    "    def get_max_min(s: pd.Series) -> ():\n",
    "        \"\"\" Get the maximum and minimum values of the data \"\"\"\n",
    "        q1 = s.quantile(0.25)\n",
    "        q3 = s.quantile(0.75)\n",
    "        iqr = q3 - q1\n",
    "        maximum = q3 + 1.5 * iqr\n",
    "        minimum = q1 - 1.5 * iqr\n",
    "        return maximum, minimum\n",
    "    \n",
    "    def transform(self, X: pd.DataFrame, y=None) -> pd.DataFrame:\n",
    "        \"\"\" Remove outliers from the data \n",
    "        clip the outliers in the range (25, 75) quantile -or+ 1.5 IQR\n",
    "        arr = [1, 2, 3, 4, 5, 6, 7, 8, 9, 10]\n",
    "        q1 = 2.75\n",
    "        q3 = 7.25\n",
    "        iqr = 4.5\n",
    "        clipped_arr = np.clip(arr, q1 - 1.5 * iqr, q3 + 1.5 * iqr)\n",
    "        output_arr = [2.75, 2.75, 3, 4, 5, 6, 7, 7, 7, 7]\n",
    "        \"\"\"\n",
    "        for col in X.select_dtypes(include='number').columns:\n",
    "            maximum, minimum = self.get_max_min(X[col])\n",
    "            df[col] = np.clip(df[col], minimum, maximum)\n",
    "        return df   "
   ],
   "id": "be371b01821f1d7",
   "outputs": [],
   "execution_count": null
  },
  {
   "metadata": {},
   "cell_type": "code",
   "source": [
    "class FeatureTransformer(BaseEstimator, TransformerMixin):\n",
    "\n",
    "    @staticmethod\n",
    "    def split_ticket(ticket: str) -> pd.Series:\n",
    "        \"\"\" Split Ticket with Destination and Ticket number \"\"\"\n",
    "        result = ['U', np.nan] # Default values\n",
    "        if ' ' in ticket: \n",
    "            # sometimes we have 2 spaces, we need split only by second space\n",
    "            if ticket.count(' ') > 1: # if there are more than 1 space (PC R 17757)\n",
    "                result = ticket.rsplit(' ', 1)\n",
    "            else:\n",
    "                result = ticket.split(' ') # split by space (PC 17757)\n",
    "        if ticket.isnumeric(): # if ticket is only numbers (12345)\n",
    "            result = ['U', ticket]\n",
    "        if ticket.isalpha(): # if ticket is only letters (LINE)\n",
    "            result = [ticket, np.nan]\n",
    "            \n",
    "        result[0] = result[0][0] # get first letter of Destination\n",
    "\n",
    "        return pd.Series(result)\n",
    "\n",
    "\n",
    "    def fit(self, X, y=None):\n",
    "        return self\n",
    "    \n",
    "    def transform(self, X,  y=None):\n",
    "        \"\"\" Custom Feature transformation \"\"\"\n",
    "        # Split Ticket with Destination and Ticket number\n",
    "        X[['Destination', 'TicketNumber']] = X['Ticket'].apply(self.split_ticket)\n",
    "        # Transform Destination into categorical\n",
    "        X['Destination'] = X['Destination'].astype('category').cat.codes\n",
    "        # Transform Cabin into Boolean\n",
    "        X['Cabin'] = X['Cabin'].notna()\n",
    "        # Cut Family Size into groups\n",
    "        family_group = ['Alone', 'Small', 'Middle', 'Big']\n",
    "        X['FamilySize'] = pd.cut(X['SibSp'] + X['Parch'] + 1, # Calculate Family Size\n",
    "                                         [0, 1, 4, 7, 11], # Define Family Size Groups\n",
    "                                         labels=family_group) # Assign Family Size Groups\n",
    "\n",
    "        X['FamilySize'] = X['FamilySize'].astype('category').cat.codes\n",
    "\n",
    "        return X\n"
   ],
   "id": "1ac657234aa62804",
   "outputs": [],
   "execution_count": null
  },
  {
   "metadata": {},
   "cell_type": "code",
   "source": [
    "\n",
    "norm_columns = ['Age', 'Fare']\n",
    "\n",
    "col_transformer = ColumnTransformer(transformers=\n",
    "    [\n",
    "        ('normalizer', Normalizer(), norm_columns),\n",
    "        ('outlier_cleaner', OutlierCleaner(), ['Age', 'Fare'])\n",
    "        ('pass', 'passthrough', ['Pclass', 'SibSp']) # TODO: check how this works\n",
    "    ],\n",
    "    remainder='drop', n_jobs=-1\n",
    ")"
   ],
   "id": "7a666f2c2bbab077",
   "outputs": [],
   "execution_count": null
  },
  {
   "metadata": {},
   "cell_type": "code",
   "source": [
    "pipeline = make_pipeline(col_transformer,\n",
    "                         FeatureTransformer(),\n",
    "                         KNeighborsClassifier() \n",
    "                         )\n",
    "\n",
    "X_train = pipeline.fit_transform(X_train)\n",
    "\n",
    "df = pd.DataFrame(X_train)"
   ],
   "id": "1f635b566d42d122",
   "outputs": [],
   "execution_count": null
  },
  {
   "metadata": {},
   "cell_type": "code",
   "source": [
    "class FeatureScaler(BaseEstimator, TransformerMixin):\n",
    "    \n",
    "    def fit(self, df, *args, **kwargs):\n",
    "        df = pd.get_dummies(df)\n",
    "        self.columns = df.columns\n",
    "        self.scaler = MinMaxScaler()\n",
    "        self.scaler.fit(df)\n",
    "        return self\n",
    "    \n",
    "    def transform(self, df):\n",
    "        df = pd.get_dummies(df)\n",
    "        df = df.reindex(columns=self.columns, fill_value=0)\n",
    "        df_scaled = self.scaler.transform(df)\n",
    "        df = pd.DataFrame(df_scaled, columns=self.columns)\n",
    "        return df\n",
    "    \n",
    "    def inverse_transform(self, df):\n",
    "        df_scaled = self.scaler.inverse_transform(df)\n",
    "        df = pd.DataFrame(df_scaled, columns=self.columns)\n",
    "        return df\n",
    "    "
   ],
   "id": "1bb97abeef1a180b",
   "outputs": [],
   "execution_count": null
  }
 ],
 "metadata": {
  "kernelspec": {
   "display_name": "Python 3",
   "language": "python",
   "name": "python3"
  },
  "language_info": {
   "codemirror_mode": {
    "name": "ipython",
    "version": 2
   },
   "file_extension": ".py",
   "mimetype": "text/x-python",
   "name": "python",
   "nbconvert_exporter": "python",
   "pygments_lexer": "ipython2",
   "version": "2.7.6"
  }
 },
 "nbformat": 4,
 "nbformat_minor": 5
}

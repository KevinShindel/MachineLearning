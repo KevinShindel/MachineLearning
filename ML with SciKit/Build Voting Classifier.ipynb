{
 "cells": [
  {
   "cell_type": "code",
   "id": "initial_id",
   "metadata": {
    "collapsed": true
   },
   "source": [
    "from sklearn.ensemble import VotingClassifier\n",
    "from sklearn.datasets import make_classification\n",
    "from sklearn.model_selection import train_test_split, cross_val_score, GridSearchCV\n",
    "from sklearn.naive_bayes import GaussianNB\n",
    "from sklearn.linear_model import LogisticRegression\n",
    "from sklearn.ensemble import RandomForestClassifier\n",
    "import numpy as np\n",
    "from sklearn.metrics import accuracy_score"
   ],
   "outputs": [],
   "execution_count": null
  },
  {
   "metadata": {},
   "cell_type": "code",
   "source": [
    "# create a dataset\n",
    "X, y = make_classification(n_samples=2000,\n",
    "                           n_features=10,\n",
    "                           n_informative=8,\n",
    "                           n_redundant=2, random_state=42)"
   ],
   "id": "fa89ff7461b844",
   "outputs": [],
   "execution_count": null
  },
  {
   "metadata": {},
   "cell_type": "code",
   "source": [
    "# split the dataset\n",
    "X_train, X_test, y_train, y_test = train_test_split(X, y, test_size=0.3, random_state=42)"
   ],
   "id": "f4d6951eaf101605",
   "outputs": [],
   "execution_count": null
  },
  {
   "metadata": {},
   "cell_type": "code",
   "source": [
    "gnb = GaussianNB()\n",
    "lr = LogisticRegression()\n",
    "rfc = RandomForestClassifier()"
   ],
   "id": "a28c4311c089abec",
   "outputs": [],
   "execution_count": null
  },
  {
   "metadata": {},
   "cell_type": "code",
   "source": [
    "estimators = [gnb, lr, rfc]\n",
    "for estimator in estimators:\n",
    "    print(\"Training the\", estimator)\n",
    "    estimator.fit(X_train, y_train)"
   ],
   "id": "2c96959e2ba2bd4a",
   "outputs": [],
   "execution_count": null
  },
  {
   "metadata": {},
   "cell_type": "code",
   "source": "[estimator.score(X_test, y_test) for estimator in estimators]",
   "id": "957ae7017924ffa3",
   "outputs": [],
   "execution_count": null
  },
  {
   "metadata": {},
   "cell_type": "code",
   "source": [
    "# create a voting classifier\n",
    "estimators=[('gnb', gnb), ('lr', lr), ('rfc', rfc)]\n",
    "voting_clf = VotingClassifier(estimators=estimators, voting='hard')\n",
    "voting_clf.fit(X_train, y_train)\n",
    "cross_voting_score = cross_val_score(voting_clf, X_train, y_train, cv=5).mean()\n",
    "print(f'Voting Classifier Cross Validation Score: {cross_voting_score}')"
   ],
   "id": "b30ed028a9097c9e",
   "outputs": [],
   "execution_count": null
  },
  {
   "metadata": {},
   "cell_type": "code",
   "source": [
    "# tuning\n",
    "param_grid = {\n",
    "    'voting': ['hard', 'soft'],\n",
    "    'weights': [[1, 1, 1], [2, 1, 1], [1, 2, 1], [1, 1, 2]]\n",
    "}\n",
    "\n",
    "\n",
    "\n",
    "grid_search = GridSearchCV(estimator=voting_clf,\n",
    "                           param_grid=param_grid,\n",
    "                           cv=5,\n",
    "                           n_jobs=-1,\n",
    "                           verbose=0,\n",
    "                           scoring='accuracy',\n",
    "                           return_train_score=False)\n",
    "\n",
    "grid_search.fit(X_train, y_train)\n",
    "\n",
    "best_params = grid_search.best_params_\n",
    "best_model = grid_search.best_estimator_\n",
    "best_score = grid_search.best_score_\n",
    "\n",
    "print(f'Best Parameters: {best_params}')\n",
    "print(f'Best Model: {best_model}')\n",
    "print(f'Best Score: {best_score}')"
   ],
   "id": "45bd961ca5d9d45",
   "outputs": [],
   "execution_count": null
  },
  {
   "metadata": {},
   "cell_type": "code",
   "source": [
    "# remove poor performing model LogisticRegression\n",
    "voting_clf.set_params(lr=None)\n",
    "del voting_clf.estimators_[1]\n",
    "del voting_clf.estimators[1]\n",
    "voting_clf.estimators_"
   ],
   "id": "14551fe0800df9fc",
   "outputs": [],
   "execution_count": null
  },
  {
   "metadata": {},
   "cell_type": "code",
   "source": "voting_clf.estimators",
   "id": "2d59c52865183662",
   "outputs": [],
   "execution_count": null
  },
  {
   "metadata": {},
   "cell_type": "code",
   "source": [
    "# tuning\n",
    "param_grid = {\n",
    "    'voting': ['hard', 'soft'],\n",
    "    'weights': [[1, 1], [2, 1], [1, 2]]\n",
    "}\n",
    "\n",
    "grid_search = GridSearchCV(estimator=voting_clf,\n",
    "                           param_grid=param_grid,\n",
    "                           cv=5,\n",
    "                           n_jobs=-1,\n",
    "                           verbose=0,\n",
    "                           scoring='accuracy',\n",
    "                           return_train_score=False)\n",
    "\n",
    "grid_search.fit(X_train, y_train)\n",
    "\n",
    "best_params = grid_search.best_params_\n",
    "best_model = grid_search.best_estimator_\n",
    "best_score = grid_search.best_score_\n",
    "\n",
    "print(f'Best Parameters: {best_params}')\n",
    "print(f'Best Model: {best_model}')\n",
    "print(f'Best Score: {best_score}')"
   ],
   "id": "64e9ad13a2df1e1b",
   "outputs": [],
   "execution_count": null
  },
  {
   "metadata": {},
   "cell_type": "markdown",
   "source": [
    "- Best score improved after removing LogisticRegression ->  **0.87** ( it's greater than  0.841 provided by RandomForestClassifier)\n",
    "- Average score of all models [0.75, 0.7, 0.842] = **0.765**\n",
    "- Average score of best models [0.75, 0.842] = **0.7958**\n",
    "- So % of accuracy improving is (0.7958 - 0.765) / 0.765 * 100 = **4.04%** It's a good improvement!"
   ],
   "id": "e03af26e29ec1a3c"
  }
 ],
 "metadata": {
  "kernelspec": {
   "display_name": "Python 3",
   "language": "python",
   "name": "python3"
  },
  "language_info": {
   "codemirror_mode": {
    "name": "ipython",
    "version": 2
   },
   "file_extension": ".py",
   "mimetype": "text/x-python",
   "name": "python",
   "nbconvert_exporter": "python",
   "pygments_lexer": "ipython2",
   "version": "2.7.6"
  }
 },
 "nbformat": 4,
 "nbformat_minor": 5
}

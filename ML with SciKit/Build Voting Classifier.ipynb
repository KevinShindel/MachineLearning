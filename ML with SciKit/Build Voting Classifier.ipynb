{
 "cells": [
  {
   "cell_type": "code",
   "id": "initial_id",
   "metadata": {
    "collapsed": true,
    "ExecuteTime": {
     "end_time": "2024-10-10T22:20:27.891888Z",
     "start_time": "2024-10-10T22:20:27.886105Z"
    }
   },
   "source": [
    "# import libraries\n",
    "import pandas as pd\n",
    "from sklearn.ensemble import VotingClassifier\n",
    "from sklearn.datasets import make_classification\n",
    "from sklearn.model_selection import train_test_split\n",
    "from sklearn.naive_bayes import GaussianNB\n",
    "from sklearn.model_selection import cross_val_score\n",
    "from sklearn.linear_model import LogisticRegression\n",
    "from sklearn.ensemble import RandomForestClassifier"
   ],
   "outputs": [],
   "execution_count": 12
  },
  {
   "metadata": {
    "ExecuteTime": {
     "end_time": "2024-10-10T22:20:27.904528Z",
     "start_time": "2024-10-10T22:20:27.894950Z"
    }
   },
   "cell_type": "code",
   "source": [
    "# create a dataset\n",
    "X, y = make_classification(n_samples=2000,\n",
    "                           n_features=10,\n",
    "                           n_informative=8,\n",
    "                           n_redundant=2, random_state=42)"
   ],
   "id": "fa89ff7461b844",
   "outputs": [],
   "execution_count": 13
  },
  {
   "metadata": {
    "ExecuteTime": {
     "end_time": "2024-10-10T22:20:27.914383Z",
     "start_time": "2024-10-10T22:20:27.907067Z"
    }
   },
   "cell_type": "code",
   "source": [
    "# split the dataset\n",
    "X_train, X_test, y_train, y_test = train_test_split(X, y, test_size=0.3, random_state=42)"
   ],
   "id": "f4d6951eaf101605",
   "outputs": [],
   "execution_count": 14
  },
  {
   "metadata": {
    "ExecuteTime": {
     "end_time": "2024-10-10T22:20:27.941947Z",
     "start_time": "2024-10-10T22:20:27.916801Z"
    }
   },
   "cell_type": "code",
   "source": [
    "gnb = GaussianNB()\n",
    "\n",
    "gnb.fit(X_train, y_train)\n",
    "\n",
    "cross_gnb_score = cross_val_score(gnb, X_train, y_train, cv=5).mean()\n",
    "\n",
    "print(f'GaussianNB Cross Validation Score: {cross_gnb_score}')"
   ],
   "id": "a28c4311c089abec",
   "outputs": [
    {
     "name": "stdout",
     "output_type": "stream",
     "text": [
      "GaussianNB Cross Validation Score: 0.7492857142857143\n"
     ]
    }
   ],
   "execution_count": 15
  },
  {
   "metadata": {
    "ExecuteTime": {
     "end_time": "2024-10-10T22:20:28.017040Z",
     "start_time": "2024-10-10T22:20:27.943467Z"
    }
   },
   "cell_type": "code",
   "source": [
    "lr = LogisticRegression()\n",
    "\n",
    "lr.fit(X_train, y_train)\n",
    "\n",
    "cross_lr_score = cross_val_score(lr, X_train, y_train, cv=5).mean()\n",
    "\n",
    "print(f'Logistic Regression Cross Validation Score: {cross_lr_score}')"
   ],
   "id": "2c96959e2ba2bd4a",
   "outputs": [
    {
     "name": "stdout",
     "output_type": "stream",
     "text": [
      "Logistic Regression Cross Validation Score: 0.7257142857142858\n"
     ]
    }
   ],
   "execution_count": 16
  },
  {
   "metadata": {
    "ExecuteTime": {
     "end_time": "2024-10-10T22:20:31.345328Z",
     "start_time": "2024-10-10T22:20:28.018049Z"
    }
   },
   "cell_type": "code",
   "source": [
    "rfc = RandomForestClassifier()\n",
    "\n",
    "rfc.fit(X_train, y_train)\n",
    "\n",
    "cross_rfc_score = cross_val_score(rfc, X_train, y_train, cv=5).mean()\n",
    "\n",
    "print(f'Random Forest Cross Validation Score: {cross_rfc_score}')"
   ],
   "id": "957ae7017924ffa3",
   "outputs": [
    {
     "name": "stdout",
     "output_type": "stream",
     "text": [
      "Random Forest Cross Validation Score: 0.875\n"
     ]
    }
   ],
   "execution_count": 17
  },
  {
   "metadata": {
    "ExecuteTime": {
     "end_time": "2024-10-10T22:20:34.318110Z",
     "start_time": "2024-10-10T22:20:31.347336Z"
    }
   },
   "cell_type": "code",
   "source": [
    "# create a voting classifier\n",
    "voting_clf = VotingClassifier(estimators=[('gnb', gnb), ('lr', lr), ('rfc', rfc)], voting='hard')\n",
    "\n",
    "voting_clf.fit(X_train, y_train)\n",
    "\n",
    "cross_voting_score = cross_val_score(voting_clf, X_train, y_train, cv=5).mean()\n",
    "\n",
    "print(f'Voting Classifier Cross Validation Score: {cross_voting_score}')"
   ],
   "id": "b30ed028a9097c9e",
   "outputs": [
    {
     "name": "stdout",
     "output_type": "stream",
     "text": [
      "Voting Classifier Cross Validation Score: 0.8164285714285715\n"
     ]
    }
   ],
   "execution_count": 18
  },
  {
   "metadata": {
    "ExecuteTime": {
     "end_time": "2024-10-10T22:20:45.464844Z",
     "start_time": "2024-10-10T22:20:34.320118Z"
    }
   },
   "cell_type": "code",
   "source": [
    "# tuning \n",
    "\n",
    "param_grid = {\n",
    "    'voting': ['hard', 'soft'],\n",
    "    'weights': [[1, 1, 1], [2, 1, 1], [1, 2, 1], [1, 1, 2]]\n",
    "}\n",
    "\n",
    "from sklearn.model_selection import GridSearchCV\n",
    "\n",
    "grid_search = GridSearchCV(estimator=voting_clf, param_grid=param_grid, cv=5, n_jobs=-1, verbose=1, scoring='accuracy')\n",
    "\n",
    "grid_search.fit(X_train, y_train)\n",
    "\n",
    "best_params = grid_search.best_params_\n",
    "best_model = grid_search.best_estimator_\n",
    "best_score = grid_search.best_score_\n",
    "\n",
    "print(f'Best Parameters: {best_params}')\n",
    "print(f'Best Model: {best_model}')\n",
    "print(f'Best Score: {best_score}')"
   ],
   "id": "45bd961ca5d9d45",
   "outputs": [
    {
     "name": "stdout",
     "output_type": "stream",
     "text": [
      "Fitting 5 folds for each of 8 candidates, totalling 40 fits\n",
      "Best Parameters: {'voting': 'hard', 'weights': [1, 1, 2]}\n",
      "Best Model: VotingClassifier(estimators=[('gnb', GaussianNB()),\n",
      "                             ('lr', LogisticRegression()),\n",
      "                             ('rfc', RandomForestClassifier())],\n",
      "                 weights=[1, 1, 2])\n",
      "Best Score: 0.837857142857143\n"
     ]
    }
   ],
   "execution_count": 19
  }
 ],
 "metadata": {
  "kernelspec": {
   "display_name": "Python 3",
   "language": "python",
   "name": "python3"
  },
  "language_info": {
   "codemirror_mode": {
    "name": "ipython",
    "version": 2
   },
   "file_extension": ".py",
   "mimetype": "text/x-python",
   "name": "python",
   "nbconvert_exporter": "python",
   "pygments_lexer": "ipython2",
   "version": "2.7.6"
  }
 },
 "nbformat": 4,
 "nbformat_minor": 5
}

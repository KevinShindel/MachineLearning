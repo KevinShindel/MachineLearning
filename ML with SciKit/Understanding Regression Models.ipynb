{
 "cells": [
  {
   "cell_type": "code",
   "id": "initial_id",
   "metadata": {
    "collapsed": true,
    "ExecuteTime": {
     "end_time": "2025-09-10T16:44:05.591773Z",
     "start_time": "2025-09-10T16:44:04.276468Z"
    }
   },
   "source": [
    "from sklearn.linear_model import LinearRegression, Ridge, Lasso, ElasticNet\n",
    "from sklearn.tree import DecisionTreeRegressor\n",
    "from sklearn.ensemble import RandomForestRegressor, GradientBoostingRegressor\n",
    "from sklearn.svm import SVR, LinearSVR\n",
    "from sklearn.model_selection import train_test_split, cross_val_score, RandomizedSearchCV\n",
    "from sklearn.datasets import fetch_california_housing\n",
    "from sklearn.metrics import mean_squared_error\n",
    "from sklearn.preprocessing import StandardScaler\n",
    "import numpy as np\n",
    "import pandas as pd"
   ],
   "outputs": [],
   "execution_count": 1
  },
  {
   "metadata": {},
   "cell_type": "markdown",
   "source": [
    "| Model                     | DataSet | Time  | RMSE   | Regression | Scaling | Cross Score |\n",
    "|---------------------------|---------|-------|--------|------------|---------|-------------|\n",
    "| LinearRegression          | 20640   | 18ms  | 0.7455 | Y          | No      | 0.7204      |\n",
    "| Ridge                     | 20640   | 17ms  | 0.7455 | Y          | No      | 0.7204      |\n",
    "| Lasso                     | 20640   | 45ms  | 0.9685 | Y          | No      | 0.9740      |\n",
    "| ElasticNet                | 20640   | 25ms  | 0.8723 | Y          | No      | 0.8751      |\n",
    "| LogisticRegression        | 20640   | N/A   | N/A    | N          | No      | N/A         |\n",
    "| DecisionTreeRegressor     | 20640   | 355ms | 0.7037 | Y          | No      | 0.7303      |\n",
    "| RandomForestRegressor     | 20640   | 24s   | 0.5053 | Y          | No      | 0.5060      |\n",
    "| GradientBoostingRegressor | 20640   | 5s    | 0.5222 | Y          | No      | 0.5313      |\n",
    "| SVR                       | 20640   | 26s   | 0.9615 | Y          | Yes     | 0.5965      |\n",
    "| SVR (Tuned)               | 20640   | 26s   | 0.9615 | Y          | Yes     | 0.5634      |\n",
    "| LinearSVR                 | 20640   | 1s    | 0.95   | Y          | No      | 1.54        |"
   ],
   "id": "4213c90a96232fac"
  },
  {
   "metadata": {},
   "cell_type": "markdown",
   "source": [
    "SMV\n",
    "kernels: # TODO: update kernel list\n",
    "- linear - better for\n",
    "- poly - better for\n",
    "- rbf - better for\n",
    "params: # TODO: add desciption and possible values\n",
    "- C [0.01 - 1000] min - soft margin, more - hard margin, for kernels:\n",
    "- loss hinge, for kernels:\n",
    "- dual true, false , for kernels:\n",
    "- gamma [ , for kernels:\n",
    "- epsilon , for kernels:\n",
    "- degree , for kernels:"
   ],
   "id": "da96303623997279"
  },
  {
   "metadata": {
    "ExecuteTime": {
     "end_time": "2025-09-10T16:44:06.379628Z",
     "start_time": "2025-09-10T16:44:06.356738Z"
    }
   },
   "cell_type": "code",
   "source": [
    "housing_data = fetch_california_housing()\n",
    "X = pd.DataFrame(housing_data.data, columns=housing_data.feature_names)\n",
    "y = pd.Series(housing_data.target, name='MedHouseVal')"
   ],
   "id": "12497a58afb86be2",
   "outputs": [],
   "execution_count": 2
  },
  {
   "metadata": {
    "ExecuteTime": {
     "end_time": "2025-09-10T16:44:09.679703Z",
     "start_time": "2025-09-10T16:44:09.666757Z"
    }
   },
   "cell_type": "code",
   "source": "X_train, X_test, y_train, y_test = train_test_split(X, y, test_size=0.2, random_state=42, shuffle=True)",
   "id": "8e6056b31c8aa606",
   "outputs": [],
   "execution_count": 3
  },
  {
   "metadata": {
    "ExecuteTime": {
     "end_time": "2025-09-10T16:44:09.744986Z",
     "start_time": "2025-09-10T16:44:09.724061Z"
    }
   },
   "cell_type": "code",
   "source": [
    "scaler = StandardScaler()\n",
    "X_train_scaled = pd.DataFrame(scaler.fit_transform(X_train), columns=X_train.columns, index=X_train.index)\n",
    "X_test_scaled = pd.DataFrame(scaler.fit_transform(X_test), columns=X_test.columns, index=X_test.index)"
   ],
   "id": "9c0df4c6a8841175",
   "outputs": [],
   "execution_count": 4
  },
  {
   "metadata": {
    "ExecuteTime": {
     "end_time": "2025-09-10T17:17:06.704937Z",
     "start_time": "2025-09-10T17:17:06.695372Z"
    }
   },
   "cell_type": "code",
   "source": [
    "def get_stats(model, X_test, y_test, X_train, y_train):\n",
    "    y_pred = model.predict(X_test)\n",
    "    rmse =  np.sqrt(mean_squared_error(y_test, y_pred))\n",
    "    cross_score = np.sqrt(-cross_val_score(model,\n",
    "                                           X_train,\n",
    "                                           y_train,\n",
    "                                           scoring=\"neg_mean_squared_error\",\n",
    "                                           cv=3))\n",
    "    y_train_pred = model.predict(X_train)\n",
    "    train_rmse = np.sqrt(mean_squared_error(y_train, y_train_pred))\n",
    "    print('Cross RMSE mean:', cross_score.mean())\n",
    "    print(\"Test RMSE:\", rmse)\n",
    "    print(\"Train RMSE:\", train_rmse)"
   ],
   "id": "c6fac7836fe01e97",
   "outputs": [],
   "execution_count": 10
  },
  {
   "metadata": {
    "ExecuteTime": {
     "end_time": "2025-09-10T17:17:07.805338Z",
     "start_time": "2025-09-10T17:17:07.764701Z"
    }
   },
   "cell_type": "code",
   "source": [
    "lin_rg_model = LinearRegression()\n",
    "lin_rg_model.fit(X_train, y_train)\n",
    "get_stats(lin_rg_model, X_test, y_test, X_train, y_train)"
   ],
   "id": "e8f256e7806e8f64",
   "outputs": [
    {
     "name": "stdout",
     "output_type": "stream",
     "text": [
      "Cross RMSE mean: 0.7209854547933086\n",
      "Test RMSE: 0.7455813830127768\n",
      "Train RMSE: 0.7196757085831575\n"
     ]
    }
   ],
   "execution_count": 11
  },
  {
   "metadata": {
    "ExecuteTime": {
     "end_time": "2025-09-10T17:17:20.736372Z",
     "start_time": "2025-09-10T17:17:20.704066Z"
    }
   },
   "cell_type": "code",
   "source": [
    "ridge_reg_model = Ridge(random_state=42)\n",
    "ridge_reg_model.fit(X_train, y_train)\n",
    "get_stats(ridge_reg_model, X_test, y_test, X_train, y_train)"
   ],
   "id": "e40c3c7ff1c97c5",
   "outputs": [
    {
     "name": "stdout",
     "output_type": "stream",
     "text": [
      "Cross RMSE mean: 0.720986044355974\n",
      "Test RMSE: 0.7455222779992703\n",
      "Train RMSE: 0.7196757706930822\n"
     ]
    }
   ],
   "execution_count": 12
  },
  {
   "metadata": {
    "ExecuteTime": {
     "end_time": "2025-09-10T17:17:42.782887Z",
     "start_time": "2025-09-10T17:17:42.473289Z"
    }
   },
   "cell_type": "code",
   "source": [
    "lasso_reg_model = Lasso(random_state=42)\n",
    "lasso_reg_model.fit(X_train, y_train)\n",
    "get_stats(lasso_reg_model, X_test, y_test, X_train, y_train)"
   ],
   "id": "3c28856799890faa",
   "outputs": [
    {
     "name": "stdout",
     "output_type": "stream",
     "text": [
      "Cross RMSE mean: 0.9740735107052373\n",
      "Test RMSE: 0.9685214254184276\n",
      "Train RMSE: 0.9739446869489576\n"
     ]
    }
   ],
   "execution_count": 13
  },
  {
   "metadata": {
    "ExecuteTime": {
     "end_time": "2025-09-10T17:18:13.474264Z",
     "start_time": "2025-09-10T17:18:13.411149Z"
    }
   },
   "cell_type": "code",
   "source": [
    "elasticnet_reg_model = ElasticNet(random_state=42)\n",
    "elasticnet_reg_model.fit(X_train, y_train)\n",
    "get_stats(elasticnet_reg_model, X_test, y_test, X_train, y_train)"
   ],
   "id": "e95b35774ed4e7e",
   "outputs": [
    {
     "name": "stdout",
     "output_type": "stream",
     "text": [
      "Cross RMSE mean: 0.8751908303022821\n",
      "Test RMSE: 0.8743887238506185\n",
      "Train RMSE: 0.8752184193646253\n"
     ]
    }
   ],
   "execution_count": 14
  },
  {
   "metadata": {
    "ExecuteTime": {
     "end_time": "2025-09-10T17:18:26.907945Z",
     "start_time": "2025-09-10T17:18:25.863313Z"
    }
   },
   "cell_type": "code",
   "source": [
    "tree_reg = DecisionTreeRegressor(random_state=42)\n",
    "tree_reg.fit(X_train, y_train)\n",
    "get_stats(tree_reg, X_test, y_test, X_train, y_train) # Model in underfitted"
   ],
   "id": "246aff688f763d8e",
   "outputs": [
    {
     "name": "stdout",
     "output_type": "stream",
     "text": [
      "Cross RMSE mean: 0.7407730901033215\n",
      "Test RMSE: 0.7037294974840077\n",
      "Train RMSE: 3.218325866275131e-16\n"
     ]
    }
   ],
   "execution_count": 15
  },
  {
   "metadata": {
    "ExecuteTime": {
     "end_time": "2025-09-10T17:19:15.642240Z",
     "start_time": "2025-09-10T17:18:58.217033Z"
    }
   },
   "cell_type": "code",
   "source": [
    "grad_regressor = GradientBoostingRegressor(random_state=42)\n",
    "grad_regressor.fit(X_train_scaled, y_train)\n",
    "get_stats(grad_regressor, X_test, y_test, X_train, y_train)"
   ],
   "id": "f912af76a915f701",
   "outputs": [
    {
     "name": "stdout",
     "output_type": "stream",
     "text": [
      "Cross RMSE mean: 0.5332110983615022\n",
      "Test RMSE: 2.269329396732592\n",
      "Train RMSE: 2.259087160522356\n"
     ]
    }
   ],
   "execution_count": 16
  },
  {
   "metadata": {
    "ExecuteTime": {
     "end_time": "2025-09-10T17:20:41.774299Z",
     "start_time": "2025-09-10T17:19:33.275298Z"
    }
   },
   "cell_type": "code",
   "source": [
    "ran_forest_reg = RandomForestRegressor(n_estimators=100, random_state=42)\n",
    "ran_forest_reg.fit(X_train, y_train)\n",
    "get_stats(ran_forest_reg, X_test, y_test, X_train, y_train) # model overfitted"
   ],
   "id": "b1e87921094403e2",
   "outputs": [
    {
     "name": "stdout",
     "output_type": "stream",
     "text": [
      "Cross RMSE mean: 0.5165147304574792\n",
      "Test RMSE: 0.5053399773665033\n",
      "Train RMSE: 0.18795619089802199\n"
     ]
    }
   ],
   "execution_count": 17
  },
  {
   "metadata": {
    "ExecuteTime": {
     "end_time": "2025-09-10T17:21:40.877317Z",
     "start_time": "2025-09-10T17:20:47.093200Z"
    }
   },
   "cell_type": "code",
   "source": [
    "svr_reg = SVR()\n",
    "svr_reg.fit(X_train_scaled, y_train)\n",
    "get_stats(svr_reg, X_test_scaled, y_test, X_train_scaled, y_train) # model overfitted"
   ],
   "id": "77c06520815b11d0",
   "outputs": [
    {
     "name": "stdout",
     "output_type": "stream",
     "text": [
      "Cross RMSE mean: 0.5965186232335512\n",
      "Test RMSE: 0.9615568224843896\n",
      "Train RMSE: 0.5797686954586869\n"
     ]
    }
   ],
   "execution_count": 18
  },
  {
   "metadata": {
    "ExecuteTime": {
     "end_time": "2025-09-10T17:23:07.617928Z",
     "start_time": "2025-09-10T17:23:04.634125Z"
    }
   },
   "cell_type": "code",
   "source": [
    "lin_svr_model = LinearSVR()\n",
    "lin_svr_model.fit(X_train_scaled, y_train)\n",
    "get_stats(lin_svr_model, X_test_scaled, y_test, X_train_scaled, y_train)"
   ],
   "id": "409c3898ef8bcd55",
   "outputs": [
    {
     "name": "stderr",
     "output_type": "stream",
     "text": [
      "/home/username/Projects/MachineLearning/.venv/lib/python3.12/site-packages/sklearn/svm/_base.py:1250: ConvergenceWarning: Liblinear failed to converge, increase the number of iterations.\n",
      "  warnings.warn(\n",
      "/home/username/Projects/MachineLearning/.venv/lib/python3.12/site-packages/sklearn/svm/_base.py:1250: ConvergenceWarning: Liblinear failed to converge, increase the number of iterations.\n",
      "  warnings.warn(\n",
      "/home/username/Projects/MachineLearning/.venv/lib/python3.12/site-packages/sklearn/svm/_base.py:1250: ConvergenceWarning: Liblinear failed to converge, increase the number of iterations.\n",
      "  warnings.warn(\n"
     ]
    },
    {
     "name": "stdout",
     "output_type": "stream",
     "text": [
      "Cross RMSE mean: 1.5396731691786576\n",
      "Test RMSE: 0.9529981620728445\n",
      "Train RMSE: 0.979818839656626\n"
     ]
    },
    {
     "name": "stderr",
     "output_type": "stream",
     "text": [
      "/home/username/Projects/MachineLearning/.venv/lib/python3.12/site-packages/sklearn/svm/_base.py:1250: ConvergenceWarning: Liblinear failed to converge, increase the number of iterations.\n",
      "  warnings.warn(\n"
     ]
    }
   ],
   "execution_count": 19
  },
  {
   "metadata": {
    "ExecuteTime": {
     "end_time": "2025-09-10T17:24:23.304717Z",
     "start_time": "2025-09-10T17:23:13.443572Z"
    }
   },
   "cell_type": "code",
   "source": [
    "# Try use linear kernel for SVR and C=1.0, epsilon=0.1\n",
    "svr_reg = SVR(kernel='linear', C=1.0, epsilon=0.1)\n",
    "svr_reg.fit(X_train_scaled, y_train)\n",
    "get_stats(svr_reg, X_test_scaled, y_test, X_train_scaled, y_train)"
   ],
   "id": "337b70d5e933bb84",
   "outputs": [
    {
     "name": "stdout",
     "output_type": "stream",
     "text": [
      "Cross RMSE mean: 1.5460802606467177\n",
      "Test RMSE: 0.9218275619580523\n",
      "Train RMSE: 0.9475397693037826\n"
     ]
    }
   ],
   "execution_count": 20
  },
  {
   "metadata": {
    "ExecuteTime": {
     "end_time": "2025-09-10T17:25:16.884485Z",
     "start_time": "2025-09-10T17:24:23.382490Z"
    }
   },
   "cell_type": "code",
   "source": [
    "# Try use linear kernel for SVR and C=1.0, epsilon=0.1\n",
    "svr_reg = SVR(kernel='rbf', C=0.5, epsilon=0.1)\n",
    "svr_reg.fit(X_train_scaled, y_train)\n",
    "get_stats(svr_reg, X_test_scaled, y_test, X_train_scaled, y_train) # model overfitted"
   ],
   "id": "295402701001129b",
   "outputs": [
    {
     "name": "stdout",
     "output_type": "stream",
     "text": [
      "Cross RMSE mean: 0.6084152771342692\n",
      "Test RMSE: 0.887449829709035\n",
      "Train RMSE: 0.5938231114429178\n"
     ]
    }
   ],
   "execution_count": 21
  },
  {
   "metadata": {
    "ExecuteTime": {
     "end_time": "2025-09-10T16:47:40.670567Z",
     "start_time": "2025-09-10T16:44:14.612659Z"
    }
   },
   "cell_type": "code",
   "source": [
    "estimator = SVR(kernel='rbf')\n",
    "param_grid = {\n",
    "    'C': [1, 25, 50],\n",
    "    'epsilon': [0.26, 0.265]\n",
    "}\n",
    "search = RandomizedSearchCV(estimator,\n",
    "                            param_grid,\n",
    "                            n_iter=5,\n",
    "                            scoring='neg_mean_squared_error',\n",
    "                            cv=3,\n",
    "                            random_state=42,\n",
    "                            verbose=0,\n",
    "                            return_train_score=False)\n",
    "\n",
    "search.fit(X_train_scaled, y_train)\n",
    "print(\"Best parameters found: \", search.best_params_)\n",
    "print(\"Best cross-validation score: \", np.sqrt(-search.best_score_))"
   ],
   "id": "a749eac8b71df3bf",
   "outputs": [
    {
     "name": "stdout",
     "output_type": "stream",
     "text": [
      "Best parameters found:  {'epsilon': 0.26, 'C': 25}\n",
      "Best cross-validation score:  0.5634554213786135\n"
     ]
    }
   ],
   "execution_count": 5
  },
  {
   "metadata": {
    "ExecuteTime": {
     "end_time": "2025-09-10T17:07:50.540395Z",
     "start_time": "2025-09-10T17:07:50.534968Z"
    }
   },
   "cell_type": "code",
   "source": "best_model = search.best_estimator_",
   "id": "350bf6b37ca59d3b",
   "outputs": [],
   "execution_count": 7
  },
  {
   "metadata": {
    "ExecuteTime": {
     "end_time": "2025-09-10T17:07:53.409182Z",
     "start_time": "2025-09-10T17:07:51.488869Z"
    }
   },
   "cell_type": "code",
   "source": [
    "y_pred_svr = best_model.predict(X_test_scaled)\n",
    "svr_mse = mean_squared_error(y_test, y_pred_svr)\n",
    "svr_rmse = np.sqrt(svr_mse)\n",
    "print(f'RMSE: {svr_rmse}')"
   ],
   "id": "3c558ddcd1afb6e3",
   "outputs": [
    {
     "name": "stdout",
     "output_type": "stream",
     "text": [
      "RMSE: 1.5566573465989348\n"
     ]
    }
   ],
   "execution_count": 8
  },
  {
   "metadata": {
    "ExecuteTime": {
     "end_time": "2025-09-10T17:08:38.330934Z",
     "start_time": "2025-09-10T17:08:30.692747Z"
    }
   },
   "cell_type": "code",
   "source": [
    "# model if overfitted\n",
    "y_pred_svr = best_model.predict(X_train_scaled)\n",
    "svr_mse = mean_squared_error(y_train, y_pred_svr)\n",
    "svr_rmse = np.sqrt(svr_mse)\n",
    "print(f'RMSE: {svr_rmse}')"
   ],
   "id": "c25c6cbe62e508e8",
   "outputs": [
    {
     "name": "stdout",
     "output_type": "stream",
     "text": [
      "RMSE: 0.5282284610961608\n"
     ]
    }
   ],
   "execution_count": 9
  },
  {
   "metadata": {},
   "cell_type": "code",
   "outputs": [],
   "execution_count": null,
   "source": "# TODO: Predict MNIST training set using SVM",
   "id": "a2dbe0b918d0c21e"
  },
  {
   "metadata": {},
   "cell_type": "code",
   "outputs": [],
   "execution_count": null,
   "source": "# TODO: Predict California Housing training set using SVM",
   "id": "d1e760e9d96bdb40"
  }
 ],
 "metadata": {
  "kernelspec": {
   "display_name": "Python 3",
   "language": "python",
   "name": "python3"
  },
  "language_info": {
   "codemirror_mode": {
    "name": "ipython",
    "version": 2
   },
   "file_extension": ".py",
   "mimetype": "text/x-python",
   "name": "python",
   "nbconvert_exporter": "python",
   "pygments_lexer": "ipython2",
   "version": "2.7.6"
  }
 },
 "nbformat": 4,
 "nbformat_minor": 5
}

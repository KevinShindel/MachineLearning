{
 "cells": [
  {
   "cell_type": "code",
   "id": "initial_id",
   "metadata": {
    "collapsed": true,
    "ExecuteTime": {
     "end_time": "2025-09-13T12:32:39.334796Z",
     "start_time": "2025-09-13T12:32:39.323439Z"
    }
   },
   "source": [
    "from sklearn.naive_bayes import GaussianNB\n",
    "from utils import split_500_hits, show_report\n",
    "from sklearn.linear_model import LogisticRegression\n",
    "from sklearn.ensemble import RandomForestClassifier\n",
    "from sklearn.metrics import roc_auc_score\n",
    "from sklearn.metrics import f1_score"
   ],
   "outputs": [],
   "execution_count": 37
  },
  {
   "metadata": {},
   "cell_type": "markdown",
   "source": [
    "| Model                      | DataSet | Time  | F1 Score | Scaling | Cross Score (Train/Test) | ROC AUC | Overfit | Underfit | Comment                          |\n",
    "|:---------------------------|:-------:|:-----:|:--------:|:-------:|:------------------------:|---------|:-------:|:--------:|:---------------------------------|\n",
    "| GaussianNB                 |   500   | 261ms |   0.83   |         |      0.7684/0.8365       | 0.7903  |         |    ✅     | Add features.                    |\n",
    "| LogisticRegression         |   500   | 298ms |   0.83   |         |      0.7622/0.7356       | 0.8065  |         |    ✅     | Add features.                    |\n",
    "| RandomForestClassifier     |   500   | 398ms |   0.90   |         |      0.8341/0.8365       | 0.8871  |    ✅    |          | Regulation required.             |\n",
    "| SVC                        |   500   | 198ms |   0.90   |    ✅    |      0.8123/0.8670       | 0.8710  |         |    ✅     | Great model, but underfitting    |\n",
    "| DecisionTreeClassifier     |   500   | 185ms |   0.81   |         |      0.7636/0.7634       | 0.7903  |    ✅    |          | Balanced model, but need improve |\n",
    "| KNeighborsClassifier       |   500   | 156ms |   0.86   |    ✅    |      0.7581/0.8634       | 0.8145  |         |    ✅     | Add features.                    |\n",
    "| ExtraTreesClassifier       |   500   | 314ms |   0.88   |         |      0.8179/0.8568       | 0.8548  |    ✅    |          | Regulation required.             |\n",
    "| GradientBoostingClassifier |   500   | 91ms  |   0.87   |         |      0.8122/0.8065       | 0.8725  |    ✅    |          | Regulation required.             |"
   ],
   "id": "e7472b35be88f97f"
  },
  {
   "metadata": {
    "ExecuteTime": {
     "end_time": "2025-09-13T12:32:39.455992Z",
     "start_time": "2025-09-13T12:32:39.432997Z"
    }
   },
   "cell_type": "code",
   "source": "X_train, X_test, y_train, y_test = split_500_hits()",
   "id": "d45ec951e34f06ae",
   "outputs": [],
   "execution_count": 39
  },
  {
   "metadata": {
    "ExecuteTime": {
     "end_time": "2025-09-13T12:32:40.384410Z",
     "start_time": "2025-09-13T12:32:39.501574Z"
    }
   },
   "cell_type": "code",
   "source": [
    "gb_model = GaussianNB()\n",
    "gb_model.fit(X_train, y_train)\n",
    "y_gb_predict = gb_model.predict(X_test)\n",
    "\n",
    "show_report(y_test, y_gb_predict)\n",
    "roc_auc = roc_auc_score(y_test, y_gb_predict)\n",
    "print(f'Validation ROC AUC: {roc_auc:.4f}')\n",
    "f1_test = f1_score(y_test, y_gb_predict)\n",
    "f1_train = f1_score(y_train, gb_model.predict(X_train))\n",
    "print(f'F1 Train: {f1_train:.4f}, F1 Test: {f1_test:.4f}')"
   ],
   "id": "ad7e411d94c069d",
   "outputs": [
    {
     "name": "stdout",
     "output_type": "stream",
     "text": [
      "              precision    recall  f1-score   support\n",
      "\n",
      "           0       0.90      0.85      0.88        66\n",
      "           1       0.68      0.78      0.72        27\n",
      "\n",
      "    accuracy                           0.83        93\n",
      "   macro avg       0.79      0.81      0.80        93\n",
      "weighted avg       0.84      0.83      0.83        93\n",
      "\n",
      "Accuracy:  0.8279569892473119\n"
     ]
    },
    {
     "data": {
      "text/plain": [
       "<Figure size 640x480 with 2 Axes>"
      ],
      "image/png": "[encoded data removed]"
     },
     "metadata": {},
     "output_type": "display_data",
     "jetTransient": {
      "display_id": null
     }
    },
    {
     "name": "stdout",
     "output_type": "stream",
     "text": [
      "Confusion Matrix: \n",
      " [[56 10]\n",
      " [ 6 21]]\n",
      "Validation ROC AUC: 0.7903\n"
     ]
    },
    {
     "ename": "ValueError",
     "evalue": "Target is multiclass but average='binary'. Please choose another average setting, one of [None, 'micro', 'macro', 'weighted'].",
     "output_type": "error",
     "traceback": [
      "\u001B[31m---------------------------------------------------------------------------\u001B[39m",
      "\u001B[31mValueError\u001B[39m                                Traceback (most recent call last)",
      "\u001B[36mCell\u001B[39m\u001B[36m \u001B[39m\u001B[32mIn[40]\u001B[39m\u001B[32m, line 9\u001B[39m\n\u001B[32m      7\u001B[39m \u001B[38;5;28mprint\u001B[39m(\u001B[33mf\u001B[39m\u001B[33m'\u001B[39m\u001B[33mValidation ROC AUC: \u001B[39m\u001B[38;5;132;01m{\u001B[39;00mroc_auc\u001B[38;5;132;01m:\u001B[39;00m\u001B[33m.4f\u001B[39m\u001B[38;5;132;01m}\u001B[39;00m\u001B[33m'\u001B[39m)\n\u001B[32m      8\u001B[39m f1_test = f1_score(y_test, y_gb_predict)\n\u001B[32m----> \u001B[39m\u001B[32m9\u001B[39m f1_train = \u001B[43mf1_score\u001B[49m\u001B[43m(\u001B[49m\u001B[43my_train\u001B[49m\u001B[43m,\u001B[49m\u001B[43m \u001B[49m\u001B[43mgb_model\u001B[49m\u001B[43m.\u001B[49m\u001B[43mpredict\u001B[49m\u001B[43m(\u001B[49m\u001B[43mX_train\u001B[49m\u001B[43m)\u001B[49m\u001B[43m)\u001B[49m\n\u001B[32m     10\u001B[39m \u001B[38;5;28mprint\u001B[39m(\u001B[33mf\u001B[39m\u001B[33m'\u001B[39m\u001B[33mF1 Train: \u001B[39m\u001B[38;5;132;01m{\u001B[39;00mf1_train\u001B[38;5;132;01m:\u001B[39;00m\u001B[33m.4f\u001B[39m\u001B[38;5;132;01m}\u001B[39;00m\u001B[33m, F1 Test: \u001B[39m\u001B[38;5;132;01m{\u001B[39;00mf1_test\u001B[38;5;132;01m:\u001B[39;00m\u001B[33m.4f\u001B[39m\u001B[38;5;132;01m}\u001B[39;00m\u001B[33m'\u001B[39m)\n",
      "\u001B[36mFile \u001B[39m\u001B[32m~/Projects/MachineLearning/.venv/lib/python3.12/site-packages/sklearn/utils/_param_validation.py:218\u001B[39m, in \u001B[36mvalidate_params.<locals>.decorator.<locals>.wrapper\u001B[39m\u001B[34m(*args, **kwargs)\u001B[39m\n\u001B[32m    212\u001B[39m \u001B[38;5;28;01mtry\u001B[39;00m:\n\u001B[32m    213\u001B[39m     \u001B[38;5;28;01mwith\u001B[39;00m config_context(\n\u001B[32m    214\u001B[39m         skip_parameter_validation=(\n\u001B[32m    215\u001B[39m             prefer_skip_nested_validation \u001B[38;5;129;01mor\u001B[39;00m global_skip_validation\n\u001B[32m    216\u001B[39m         )\n\u001B[32m    217\u001B[39m     ):\n\u001B[32m--> \u001B[39m\u001B[32m218\u001B[39m         \u001B[38;5;28;01mreturn\u001B[39;00m \u001B[43mfunc\u001B[49m\u001B[43m(\u001B[49m\u001B[43m*\u001B[49m\u001B[43margs\u001B[49m\u001B[43m,\u001B[49m\u001B[43m \u001B[49m\u001B[43m*\u001B[49m\u001B[43m*\u001B[49m\u001B[43mkwargs\u001B[49m\u001B[43m)\u001B[49m\n\u001B[32m    219\u001B[39m \u001B[38;5;28;01mexcept\u001B[39;00m InvalidParameterError \u001B[38;5;28;01mas\u001B[39;00m e:\n\u001B[32m    220\u001B[39m     \u001B[38;5;66;03m# When the function is just a wrapper around an estimator, we allow\u001B[39;00m\n\u001B[32m    221\u001B[39m     \u001B[38;5;66;03m# the function to delegate validation to the estimator, but we replace\u001B[39;00m\n\u001B[32m    222\u001B[39m     \u001B[38;5;66;03m# the name of the estimator by the name of the function in the error\u001B[39;00m\n\u001B[32m    223\u001B[39m     \u001B[38;5;66;03m# message to avoid confusion.\u001B[39;00m\n\u001B[32m    224\u001B[39m     msg = re.sub(\n\u001B[32m    225\u001B[39m         \u001B[33mr\u001B[39m\u001B[33m\"\u001B[39m\u001B[33mparameter of \u001B[39m\u001B[33m\\\u001B[39m\u001B[33mw+ must be\u001B[39m\u001B[33m\"\u001B[39m,\n\u001B[32m    226\u001B[39m         \u001B[33mf\u001B[39m\u001B[33m\"\u001B[39m\u001B[33mparameter of \u001B[39m\u001B[38;5;132;01m{\u001B[39;00mfunc.\u001B[34m__qualname__\u001B[39m\u001B[38;5;132;01m}\u001B[39;00m\u001B[33m must be\u001B[39m\u001B[33m\"\u001B[39m,\n\u001B[32m    227\u001B[39m         \u001B[38;5;28mstr\u001B[39m(e),\n\u001B[32m    228\u001B[39m     )\n",
      "\u001B[36mFile \u001B[39m\u001B[32m~/Projects/MachineLearning/.venv/lib/python3.12/site-packages/sklearn/metrics/_classification.py:1465\u001B[39m, in \u001B[36mf1_score\u001B[39m\u001B[34m(y_true, y_pred, labels, pos_label, average, sample_weight, zero_division)\u001B[39m\n\u001B[32m   1285\u001B[39m \u001B[38;5;129m@validate_params\u001B[39m(\n\u001B[32m   1286\u001B[39m     {\n\u001B[32m   1287\u001B[39m         \u001B[33m\"\u001B[39m\u001B[33my_true\u001B[39m\u001B[33m\"\u001B[39m: [\u001B[33m\"\u001B[39m\u001B[33marray-like\u001B[39m\u001B[33m\"\u001B[39m, \u001B[33m\"\u001B[39m\u001B[33msparse matrix\u001B[39m\u001B[33m\"\u001B[39m],\n\u001B[32m   (...)\u001B[39m\u001B[32m   1312\u001B[39m     zero_division=\u001B[33m\"\u001B[39m\u001B[33mwarn\u001B[39m\u001B[33m\"\u001B[39m,\n\u001B[32m   1313\u001B[39m ):\n\u001B[32m   1314\u001B[39m \u001B[38;5;250m    \u001B[39m\u001B[33;03m\"\"\"Compute the F1 score, also known as balanced F-score or F-measure.\u001B[39;00m\n\u001B[32m   1315\u001B[39m \n\u001B[32m   1316\u001B[39m \u001B[33;03m    The F1 score can be interpreted as a harmonic mean of the precision and\u001B[39;00m\n\u001B[32m   (...)\u001B[39m\u001B[32m   1463\u001B[39m \u001B[33;03m    array([0.66666667, 1.        , 0.66666667])\u001B[39;00m\n\u001B[32m   1464\u001B[39m \u001B[33;03m    \"\"\"\u001B[39;00m\n\u001B[32m-> \u001B[39m\u001B[32m1465\u001B[39m     \u001B[38;5;28;01mreturn\u001B[39;00m \u001B[43mfbeta_score\u001B[49m\u001B[43m(\u001B[49m\n\u001B[32m   1466\u001B[39m \u001B[43m        \u001B[49m\u001B[43my_true\u001B[49m\u001B[43m,\u001B[49m\n\u001B[32m   1467\u001B[39m \u001B[43m        \u001B[49m\u001B[43my_pred\u001B[49m\u001B[43m,\u001B[49m\n\u001B[32m   1468\u001B[39m \u001B[43m        \u001B[49m\u001B[43mbeta\u001B[49m\u001B[43m=\u001B[49m\u001B[32;43m1\u001B[39;49m\u001B[43m,\u001B[49m\n\u001B[32m   1469\u001B[39m \u001B[43m        \u001B[49m\u001B[43mlabels\u001B[49m\u001B[43m=\u001B[49m\u001B[43mlabels\u001B[49m\u001B[43m,\u001B[49m\n\u001B[32m   1470\u001B[39m \u001B[43m        \u001B[49m\u001B[43mpos_label\u001B[49m\u001B[43m=\u001B[49m\u001B[43mpos_label\u001B[49m\u001B[43m,\u001B[49m\n\u001B[32m   1471\u001B[39m \u001B[43m        \u001B[49m\u001B[43maverage\u001B[49m\u001B[43m=\u001B[49m\u001B[43maverage\u001B[49m\u001B[43m,\u001B[49m\n\u001B[32m   1472\u001B[39m \u001B[43m        \u001B[49m\u001B[43msample_weight\u001B[49m\u001B[43m=\u001B[49m\u001B[43msample_weight\u001B[49m\u001B[43m,\u001B[49m\n\u001B[32m   1473\u001B[39m \u001B[43m        \u001B[49m\u001B[43mzero_division\u001B[49m\u001B[43m=\u001B[49m\u001B[43mzero_division\u001B[49m\u001B[43m,\u001B[49m\n\u001B[32m   1474\u001B[39m \u001B[43m    \u001B[49m\u001B[43m)\u001B[49m\n",
      "\u001B[36mFile \u001B[39m\u001B[32m~/Projects/MachineLearning/.venv/lib/python3.12/site-packages/sklearn/utils/_param_validation.py:191\u001B[39m, in \u001B[36mvalidate_params.<locals>.decorator.<locals>.wrapper\u001B[39m\u001B[34m(*args, **kwargs)\u001B[39m\n\u001B[32m    189\u001B[39m global_skip_validation = get_config()[\u001B[33m\"\u001B[39m\u001B[33mskip_parameter_validation\u001B[39m\u001B[33m\"\u001B[39m]\n\u001B[32m    190\u001B[39m \u001B[38;5;28;01mif\u001B[39;00m global_skip_validation:\n\u001B[32m--> \u001B[39m\u001B[32m191\u001B[39m     \u001B[38;5;28;01mreturn\u001B[39;00m \u001B[43mfunc\u001B[49m\u001B[43m(\u001B[49m\u001B[43m*\u001B[49m\u001B[43margs\u001B[49m\u001B[43m,\u001B[49m\u001B[43m \u001B[49m\u001B[43m*\u001B[49m\u001B[43m*\u001B[49m\u001B[43mkwargs\u001B[49m\u001B[43m)\u001B[49m\n\u001B[32m    193\u001B[39m func_sig = signature(func)\n\u001B[32m    195\u001B[39m \u001B[38;5;66;03m# Map *args/**kwargs to the function signature\u001B[39;00m\n",
      "\u001B[36mFile \u001B[39m\u001B[32m~/Projects/MachineLearning/.venv/lib/python3.12/site-packages/sklearn/metrics/_classification.py:1683\u001B[39m, in \u001B[36mfbeta_score\u001B[39m\u001B[34m(y_true, y_pred, beta, labels, pos_label, average, sample_weight, zero_division)\u001B[39m\n\u001B[32m   1477\u001B[39m \u001B[38;5;129m@validate_params\u001B[39m(\n\u001B[32m   1478\u001B[39m     {\n\u001B[32m   1479\u001B[39m         \u001B[33m\"\u001B[39m\u001B[33my_true\u001B[39m\u001B[33m\"\u001B[39m: [\u001B[33m\"\u001B[39m\u001B[33marray-like\u001B[39m\u001B[33m\"\u001B[39m, \u001B[33m\"\u001B[39m\u001B[33msparse matrix\u001B[39m\u001B[33m\"\u001B[39m],\n\u001B[32m   (...)\u001B[39m\u001B[32m   1506\u001B[39m     zero_division=\u001B[33m\"\u001B[39m\u001B[33mwarn\u001B[39m\u001B[33m\"\u001B[39m,\n\u001B[32m   1507\u001B[39m ):\n\u001B[32m   1508\u001B[39m \u001B[38;5;250m    \u001B[39m\u001B[33;03m\"\"\"Compute the F-beta score.\u001B[39;00m\n\u001B[32m   1509\u001B[39m \n\u001B[32m   1510\u001B[39m \u001B[33;03m    The F-beta score is the weighted harmonic mean of precision and recall,\u001B[39;00m\n\u001B[32m   (...)\u001B[39m\u001B[32m   1680\u001B[39m \u001B[33;03m    ... )\u001B[39;00m\n\u001B[32m   1681\u001B[39m \u001B[33;03m    \"\"\"\u001B[39;00m\n\u001B[32m-> \u001B[39m\u001B[32m1683\u001B[39m     _, _, f, _ = \u001B[43mprecision_recall_fscore_support\u001B[49m\u001B[43m(\u001B[49m\n\u001B[32m   1684\u001B[39m \u001B[43m        \u001B[49m\u001B[43my_true\u001B[49m\u001B[43m,\u001B[49m\n\u001B[32m   1685\u001B[39m \u001B[43m        \u001B[49m\u001B[43my_pred\u001B[49m\u001B[43m,\u001B[49m\n\u001B[32m   1686\u001B[39m \u001B[43m        \u001B[49m\u001B[43mbeta\u001B[49m\u001B[43m=\u001B[49m\u001B[43mbeta\u001B[49m\u001B[43m,\u001B[49m\n\u001B[32m   1687\u001B[39m \u001B[43m        \u001B[49m\u001B[43mlabels\u001B[49m\u001B[43m=\u001B[49m\u001B[43mlabels\u001B[49m\u001B[43m,\u001B[49m\n\u001B[32m   1688\u001B[39m \u001B[43m        \u001B[49m\u001B[43mpos_label\u001B[49m\u001B[43m=\u001B[49m\u001B[43mpos_label\u001B[49m\u001B[43m,\u001B[49m\n\u001B[32m   1689\u001B[39m \u001B[43m        \u001B[49m\u001B[43maverage\u001B[49m\u001B[43m=\u001B[49m\u001B[43maverage\u001B[49m\u001B[43m,\u001B[49m\n\u001B[32m   1690\u001B[39m \u001B[43m        \u001B[49m\u001B[43mwarn_for\u001B[49m\u001B[43m=\u001B[49m\u001B[43m(\u001B[49m\u001B[33;43m\"\u001B[39;49m\u001B[33;43mf-score\u001B[39;49m\u001B[33;43m\"\u001B[39;49m\u001B[43m,\u001B[49m\u001B[43m)\u001B[49m\u001B[43m,\u001B[49m\n\u001B[32m   1691\u001B[39m \u001B[43m        \u001B[49m\u001B[43msample_weight\u001B[49m\u001B[43m=\u001B[49m\u001B[43msample_weight\u001B[49m\u001B[43m,\u001B[49m\n\u001B[32m   1692\u001B[39m \u001B[43m        \u001B[49m\u001B[43mzero_division\u001B[49m\u001B[43m=\u001B[49m\u001B[43mzero_division\u001B[49m\u001B[43m,\u001B[49m\n\u001B[32m   1693\u001B[39m \u001B[43m    \u001B[49m\u001B[43m)\u001B[49m\n\u001B[32m   1694\u001B[39m     \u001B[38;5;28;01mreturn\u001B[39;00m f\n",
      "\u001B[36mFile \u001B[39m\u001B[32m~/Projects/MachineLearning/.venv/lib/python3.12/site-packages/sklearn/utils/_param_validation.py:191\u001B[39m, in \u001B[36mvalidate_params.<locals>.decorator.<locals>.wrapper\u001B[39m\u001B[34m(*args, **kwargs)\u001B[39m\n\u001B[32m    189\u001B[39m global_skip_validation = get_config()[\u001B[33m\"\u001B[39m\u001B[33mskip_parameter_validation\u001B[39m\u001B[33m\"\u001B[39m]\n\u001B[32m    190\u001B[39m \u001B[38;5;28;01mif\u001B[39;00m global_skip_validation:\n\u001B[32m--> \u001B[39m\u001B[32m191\u001B[39m     \u001B[38;5;28;01mreturn\u001B[39;00m \u001B[43mfunc\u001B[49m\u001B[43m(\u001B[49m\u001B[43m*\u001B[49m\u001B[43margs\u001B[49m\u001B[43m,\u001B[49m\u001B[43m \u001B[49m\u001B[43m*\u001B[49m\u001B[43m*\u001B[49m\u001B[43mkwargs\u001B[49m\u001B[43m)\u001B[49m\n\u001B[32m    193\u001B[39m func_sig = signature(func)\n\u001B[32m    195\u001B[39m \u001B[38;5;66;03m# Map *args/**kwargs to the function signature\u001B[39;00m\n",
      "\u001B[36mFile \u001B[39m\u001B[32m~/Projects/MachineLearning/.venv/lib/python3.12/site-packages/sklearn/metrics/_classification.py:1996\u001B[39m, in \u001B[36mprecision_recall_fscore_support\u001B[39m\u001B[34m(y_true, y_pred, beta, labels, pos_label, average, warn_for, sample_weight, zero_division)\u001B[39m\n\u001B[32m   1827\u001B[39m \u001B[38;5;250m\u001B[39m\u001B[33;03m\"\"\"Compute precision, recall, F-measure and support for each class.\u001B[39;00m\n\u001B[32m   1828\u001B[39m \n\u001B[32m   1829\u001B[39m \u001B[33;03mThe precision is the ratio ``tp / (tp + fp)`` where ``tp`` is the number of\u001B[39;00m\n\u001B[32m   (...)\u001B[39m\u001B[32m   1993\u001B[39m \u001B[33;03m array([2, 2, 2]))\u001B[39;00m\n\u001B[32m   1994\u001B[39m \u001B[33;03m\"\"\"\u001B[39;00m\n\u001B[32m   1995\u001B[39m _check_zero_division(zero_division)\n\u001B[32m-> \u001B[39m\u001B[32m1996\u001B[39m labels = \u001B[43m_check_set_wise_labels\u001B[49m\u001B[43m(\u001B[49m\u001B[43my_true\u001B[49m\u001B[43m,\u001B[49m\u001B[43m \u001B[49m\u001B[43my_pred\u001B[49m\u001B[43m,\u001B[49m\u001B[43m \u001B[49m\u001B[43maverage\u001B[49m\u001B[43m,\u001B[49m\u001B[43m \u001B[49m\u001B[43mlabels\u001B[49m\u001B[43m,\u001B[49m\u001B[43m \u001B[49m\u001B[43mpos_label\u001B[49m\u001B[43m)\u001B[49m\n\u001B[32m   1998\u001B[39m \u001B[38;5;66;03m# Calculate tp_sum, pred_sum, true_sum ###\u001B[39;00m\n\u001B[32m   1999\u001B[39m samplewise = average == \u001B[33m\"\u001B[39m\u001B[33msamples\u001B[39m\u001B[33m\"\u001B[39m\n",
      "\u001B[36mFile \u001B[39m\u001B[32m~/Projects/MachineLearning/.venv/lib/python3.12/site-packages/sklearn/metrics/_classification.py:1779\u001B[39m, in \u001B[36m_check_set_wise_labels\u001B[39m\u001B[34m(y_true, y_pred, average, labels, pos_label)\u001B[39m\n\u001B[32m   1777\u001B[39m         \u001B[38;5;28;01mif\u001B[39;00m y_type == \u001B[33m\"\u001B[39m\u001B[33mmulticlass\u001B[39m\u001B[33m\"\u001B[39m:\n\u001B[32m   1778\u001B[39m             average_options.remove(\u001B[33m\"\u001B[39m\u001B[33msamples\u001B[39m\u001B[33m\"\u001B[39m)\n\u001B[32m-> \u001B[39m\u001B[32m1779\u001B[39m         \u001B[38;5;28;01mraise\u001B[39;00m \u001B[38;5;167;01mValueError\u001B[39;00m(\n\u001B[32m   1780\u001B[39m             \u001B[33m\"\u001B[39m\u001B[33mTarget is \u001B[39m\u001B[38;5;132;01m%s\u001B[39;00m\u001B[33m but average=\u001B[39m\u001B[33m'\u001B[39m\u001B[33mbinary\u001B[39m\u001B[33m'\u001B[39m\u001B[33m. Please \u001B[39m\u001B[33m\"\u001B[39m\n\u001B[32m   1781\u001B[39m             \u001B[33m\"\u001B[39m\u001B[33mchoose another average setting, one of \u001B[39m\u001B[38;5;132;01m%r\u001B[39;00m\u001B[33m.\u001B[39m\u001B[33m\"\u001B[39m % (y_type, average_options)\n\u001B[32m   1782\u001B[39m         )\n\u001B[32m   1783\u001B[39m \u001B[38;5;28;01melif\u001B[39;00m pos_label \u001B[38;5;129;01mnot\u001B[39;00m \u001B[38;5;129;01min\u001B[39;00m (\u001B[38;5;28;01mNone\u001B[39;00m, \u001B[32m1\u001B[39m):\n\u001B[32m   1784\u001B[39m     warnings.warn(\n\u001B[32m   1785\u001B[39m         \u001B[33m\"\u001B[39m\u001B[33mNote that pos_label (set to \u001B[39m\u001B[38;5;132;01m%r\u001B[39;00m\u001B[33m) is ignored when \u001B[39m\u001B[33m\"\u001B[39m\n\u001B[32m   1786\u001B[39m         \u001B[33m\"\u001B[39m\u001B[33maverage != \u001B[39m\u001B[33m'\u001B[39m\u001B[33mbinary\u001B[39m\u001B[33m'\u001B[39m\u001B[33m (got \u001B[39m\u001B[38;5;132;01m%r\u001B[39;00m\u001B[33m). You may use \u001B[39m\u001B[33m\"\u001B[39m\n\u001B[32m   (...)\u001B[39m\u001B[32m   1789\u001B[39m         \u001B[38;5;167;01mUserWarning\u001B[39;00m,\n\u001B[32m   1790\u001B[39m     )\n",
      "\u001B[31mValueError\u001B[39m: Target is multiclass but average='binary'. Please choose another average setting, one of [None, 'micro', 'macro', 'weighted']."
     ]
    }
   ],
   "execution_count": 40
  },
  {
   "metadata": {},
   "cell_type": "code",
   "source": [
    "lr_model = LogisticRegression(max_iter=200)\n",
    "lr_model.fit(X_train, y_train)\n",
    "y_lr_pred = lr_model.predict(X_test)\n",
    "show_report(y_test, y_lr_pred)\n",
    "roc_auc = roc_auc_score(y_test, y_lr_pred)\n",
    "print(f'Validation ROC AUC: {roc_auc:.4f}')\n",
    "f1_test = f1_score(y_test, y_lr_pred)\n",
    "f1_train = f1_score(y_train, lr_model.predict(X_train))\n",
    "print(f'F1 Train: {f1_train:.4f}, F1 Test: {f1_test:.4f}')"
   ],
   "id": "35c54f1337d81345",
   "outputs": [],
   "execution_count": null
  },
  {
   "metadata": {},
   "cell_type": "code",
   "source": [
    "rf_clf = RandomForestClassifier()\n",
    "rf_clf.fit(X_train, y_train)\n",
    "y_rf_pred = rf_clf.predict(X_test)\n",
    "show_report(y_test, y_rf_pred)\n",
    "roc_auc = roc_auc_score(y_test, y_rf_pred)\n",
    "print(f'Validation ROC AUC: {roc_auc:.4f}')\n",
    "f1_test = f1_score(y_test, y_rf_pred)\n",
    "f1_train = f1_score(y_train, rf_clf.predict(X_train))\n",
    "print(f'F1 Train: {f1_train:.4f}, F1 Test: {f1_test:.4f}')"
   ],
   "id": "adf33748c7212533",
   "outputs": [],
   "execution_count": null
  }
 ],
 "metadata": {
  "kernelspec": {
   "display_name": "Python 3",
   "language": "python",
   "name": "python3"
  },
  "language_info": {
   "codemirror_mode": {
    "name": "ipython",
    "version": 2
   },
   "file_extension": ".py",
   "mimetype": "text/x-python",
   "name": "python",
   "nbconvert_exporter": "python",
   "pygments_lexer": "ipython2",
   "version": "2.7.6"
  }
 },
 "nbformat": 4,
 "nbformat_minor": 5
}

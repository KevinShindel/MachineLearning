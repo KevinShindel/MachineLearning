{
 "cells": [
  {
   "metadata": {},
   "cell_type": "markdown",
   "source": "# Hyperparameter Tuning",
   "id": "e57e52c6b6bdc442"
  },
  {
   "metadata": {
    "ExecuteTime": {
     "end_time": "2024-10-07T15:28:40.034811Z",
     "start_time": "2024-10-07T15:28:40.031062Z"
    }
   },
   "cell_type": "code",
   "source": [
    "import pandas as pd\n",
    "import numpy as np\n",
    "import matplotlib.pyplot as plt\n",
    "import seaborn as sns\n",
    "from sklearn.model_selection import train_test_split\n",
    "from sklearn.ensemble import RandomForestClassifier\n",
    "from sklearn.model_selection import GridSearchCV, RandomizedSearchCV\n",
    "import joblib\n",
    "import os"
   ],
   "id": "63f6b2f08b17c377",
   "outputs": [],
   "execution_count": 14
  },
  {
   "metadata": {
    "ExecuteTime": {
     "end_time": "2024-10-07T15:28:40.081915Z",
     "start_time": "2024-10-07T15:28:40.073483Z"
    }
   },
   "cell_type": "code",
   "source": [
    "# Load the data\n",
    "\n",
    "mean1 = 55\n",
    "std_dev = 10\n",
    "num_samples = 500\n",
    "\n",
    "column1_numbers = np.random.normal(mean1, std_dev, num_samples)\n",
    "column1_numbers = np.clip(column1_numbers, 30, 120)\n",
    "column1_numbers = np.round(column1_numbers).astype(int)\n",
    "\n",
    "mean2 = 18\n",
    "std_dev2 = 3\n",
    "\n",
    "column2_numbers = np.random.normal(mean2, std_dev2, num_samples)\n",
    "column2_numbers = np.clip(column2_numbers, 12, 26)\n",
    "column2_numbers = np.round(column2_numbers).astype(int)\n",
    "\n",
    "column3_numbers = np.random.randint(2, size=num_samples)\n",
    "column3_numbers[column1_numbers > mean1] = 1\n",
    "\n",
    "data = {\n",
    "    'MilesPerWeek': column1_numbers,\n",
    "    'FarthestRun': column2_numbers,\n",
    "    'Qualified': column3_numbers\n",
    "}\n",
    "\n",
    "df = pd.DataFrame(data)\n",
    "print(df.head())"
   ],
   "id": "3170ddbcdacda252",
   "outputs": [
    {
     "name": "stdout",
     "output_type": "stream",
     "text": [
      "   MilesPerWeek  FarthestRun  Qualified\n",
      "0            44           18          0\n",
      "1            65           22          1\n",
      "2            54           20          0\n",
      "3            73           24          1\n",
      "4            61           20          1\n"
     ]
    }
   ],
   "execution_count": 15
  },
  {
   "metadata": {
    "ExecuteTime": {
     "end_time": "2024-10-07T15:28:40.089925Z",
     "start_time": "2024-10-07T15:28:40.083973Z"
    }
   },
   "cell_type": "code",
   "source": [
    "# Split the data\n",
    "X = df.drop('Qualified', axis=1)\n",
    "y = df['Qualified']\n",
    "\n",
    "X_train, X_test, y_train, y_test = train_test_split(X, y, test_size=0.2, random_state=42)"
   ],
   "id": "2752e28d5151dde8",
   "outputs": [],
   "execution_count": 16
  },
  {
   "metadata": {},
   "cell_type": "markdown",
   "source": [
    "# GridSearchCV vs RandomizedSearchCV\n",
    "\n",
    "GridSearchCV and RandomizedSearchCV are both methods used for hyperparameter tuning in machine learning models, but they differ in how they search the hyperparameter space.  \n",
    "> GridSearchCV\n",
    "> - Exhaustive Search: GridSearchCV performs an exhaustive search over a specified parameter grid. It tries every combination of the provided hyperparameter values.\n",
    "> - Time-Consuming: Because it evaluates all possible combinations, it can be very time-consuming, especially with a large number of hyperparameters and values.\n",
    "> - Deterministic: The results are deterministic, meaning that running GridSearchCV multiple times with the same data and parameters will yield the same results.\n",
    "\n",
    "> RandomizedSearchCV\n",
    "> - Random Search: RandomizedSearchCV samples a fixed number of hyperparameter combinations from a specified distribution. It does not try all possible combinations.\n",
    "> - Faster: It is generally faster than GridSearchCV because it evaluates only a subset of the possible combinations.\n",
    "> - Stochastic: The results can vary between runs because it samples hyperparameter combinations randomly."
   ],
   "id": "15dbcd48a26b2e0"
  },
  {
   "metadata": {
    "ExecuteTime": {
     "end_time": "2024-10-07T15:29:27.973369Z",
     "start_time": "2024-10-07T15:28:40.091882Z"
    }
   },
   "cell_type": "code",
   "source": [
    "# create a model\n",
    "MODEL_NAME = 'models/best_model.pkl'\n",
    "model = None\n",
    "\n",
    "if os.path.exists(MODEL_NAME):\n",
    "    model = joblib.load(MODEL_NAME)\n",
    "\n",
    "if not model:\n",
    "    rf = RandomForestClassifier()\n",
    "    # see documentation of RandomForestClassifier for more options https://scikit-learn.org/stable/modules/generated/sklearn.ensemble.RandomForestClassifier.html\n",
    "    param_grid = [{ \n",
    "        'n_estimators': [500, 1000, 1500],\n",
    "        # 'criterion': ['gini', 'entropy'],\n",
    "        'min_samples_split': [5, 10, 15],\n",
    "        'min_samples_leaf': [1, 2, 4],\n",
    "        # 'max_depth': [10, 20, 30]\n",
    "    }]\n",
    "    \n",
    "    gs = GridSearchCV(estimator=rf,\n",
    "                      param_grid=param_grid,\n",
    "                      cv=5,\n",
    "                      n_jobs=-1,\n",
    "                      scoring='accuracy',\n",
    "                      verbose=1)\n",
    "    gs.fit(X_train, y_train)\n",
    "    \n",
    "    params = gs.best_params_\n",
    "    print('Best params: ', params)\n",
    "    best_score = gs.best_score_\n",
    "    print('Best score: ', best_score)\n",
    "    best_model = gs.best_estimator_\n",
    "    if not os.path.exists(MODEL_NAME):\n",
    "        os.makedirs('models', exist_ok=True)\n",
    "    joblib.dump(best_model, MODEL_NAME)"
   ],
   "id": "297394539abb258e",
   "outputs": [
    {
     "name": "stdout",
     "output_type": "stream",
     "text": [
      "Fitting 5 folds for each of 27 candidates, totalling 135 fits\n",
      "Best params:  {'min_samples_leaf': 4, 'min_samples_split': 10, 'n_estimators': 1000}\n",
      "Best score:  0.7300000000000001\n"
     ]
    }
   ],
   "execution_count": 17
  },
  {
   "metadata": {
    "ExecuteTime": {
     "end_time": "2024-10-07T15:34:14.445419Z",
     "start_time": "2024-10-07T15:33:50.645787Z"
    }
   },
   "cell_type": "code",
   "source": [
    "random_param_grid = [{ \n",
    "    'n_estimators': [500, 1000, 1500],\n",
    "    'criterion': ['gini', 'entropy'],\n",
    "    'min_samples_split': [5, 10, 15],\n",
    "    'min_samples_leaf': [1, 2, 4],\n",
    "    'max_depth': [10, 20, 30]\n",
    "}]\n",
    "\n",
    "rf = RandomForestClassifier()\n",
    "\n",
    "rs = RandomizedSearchCV(estimator=rf, \n",
    "                        param_distributions=random_param_grid, \n",
    "                        cv=5, # 5-fold cross validation\n",
    "                        n_iter=10, # try 10 random parameter settings\n",
    "                        n_jobs=-1,\n",
    "                        scoring='accuracy',\n",
    "                        verbose=1)\n",
    "\n",
    "rs.fit(X_train, y_train)\n",
    "\n",
    "params = rs.best_params_\n",
    "print('Best params: ', params)\n",
    "best_score = rs.best_score_\n",
    "print('Best score: ', best_score)\n",
    "best_model = rs.best_estimator_\n",
    "if not os.path.exists(MODEL_NAME):\n",
    "    os.makedirs('models', exist_ok=True)\n",
    "joblib.dump(best_model, MODEL_NAME)"
   ],
   "id": "2cf75c26ff15bd78",
   "outputs": [
    {
     "name": "stdout",
     "output_type": "stream",
     "text": [
      "Fitting 5 folds for each of 10 candidates, totalling 50 fits\n",
      "Best params:  {'n_estimators': 1000, 'min_samples_split': 15, 'min_samples_leaf': 4, 'max_depth': 20, 'criterion': 'gini'}\n",
      "Best score:  0.7275\n"
     ]
    }
   ],
   "execution_count": 20
  }
 ],
 "metadata": {
  "kernelspec": {
   "display_name": "Python 3",
   "language": "python",
   "name": "python3"
  },
  "language_info": {
   "codemirror_mode": {
    "name": "ipython",
    "version": 2
   },
   "file_extension": ".py",
   "mimetype": "text/x-python",
   "name": "python",
   "nbconvert_exporter": "python",
   "pygments_lexer": "ipython2",
   "version": "2.7.6"
  }
 },
 "nbformat": 4,
 "nbformat_minor": 5
}

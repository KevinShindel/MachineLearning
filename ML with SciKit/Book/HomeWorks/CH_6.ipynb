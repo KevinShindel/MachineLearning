{
 "cells": [
  {
   "metadata": {},
   "cell_type": "code",
   "outputs": [],
   "execution_count": null,
   "source": [
    "# TODO:  Task 7.\n",
    "# TODO: 1. Use make_moons ( n_samples = 10000, noise= 0.4 ) as dataset\n",
    "# TODO: 2. Split the dataset into training and test sets with test_size=0.2 and random_state=42\n",
    "# TODO: 3. Use GridSearch with DecisionTreeClassifier ( hint tune max_leaf_nodes )\n",
    "# TODO: 4. Train the model on full dataset ( you must reach 85-87 % accuracy )\n",
    "\n"
   ],
   "id": "cb7aeddbb9a3704e"
  },
  {
   "metadata": {},
   "cell_type": "code",
   "outputs": [],
   "execution_count": null,
   "source": "",
   "id": "38fd46e5183c4df"
  }
 ],
 "metadata": {
  "kernelspec": {
   "display_name": "Python 3",
   "language": "python",
   "name": "python3"
  },
  "language_info": {
   "codemirror_mode": {
    "name": "ipython",
    "version": 2
   },
   "file_extension": ".py",
   "mimetype": "text/x-python",
   "name": "python",
   "nbconvert_exporter": "python",
   "pygments_lexer": "ipython2",
   "version": "2.7.6"
  }
 },
 "nbformat": 4,
 "nbformat_minor": 5
}

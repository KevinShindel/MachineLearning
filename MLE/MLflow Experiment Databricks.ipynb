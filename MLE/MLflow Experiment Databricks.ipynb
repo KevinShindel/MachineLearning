{
 "cells": [
  {
   "cell_type": "code",
   "execution_count": 0,
   "metadata": {
    "application/vnd.databricks.v1+cell": {
     "cellMetadata": {
      "byteLimit": 2048000,
      "rowLimit": 10000
     },
     "inputWidgets": {},
     "nuid": "928f12dc-cb1c-4e31-93ca-f6614f91498e",
     "showTitle": false,
     "tableResultSettingsMap": {},
     "title": ""
    }
   },
   "outputs": [],
   "source": [
    "import mlflow\n",
    "from sklearn.datasets import load_iris\n",
    "from sklearn.ensemble import RandomForestRegressor\n",
    "from sklearn.metrics import mean_squared_error\n",
    "from sklearn.model_selection import train_test_split, RandomizedSearchCV\n",
    "import numpy as np"
   ]
  },
  {
   "cell_type": "code",
   "execution_count": 0,
   "metadata": {
    "application/vnd.databricks.v1+cell": {
     "cellMetadata": {
      "byteLimit": 2048000,
      "rowLimit": 10000
     },
     "inputWidgets": {},
     "nuid": "67e4cdc6-f368-4f51-8a31-d7330ad3a6ad",
     "showTitle": false,
     "tableResultSettingsMap": {},
     "title": ""
    }
   },
   "outputs": [],
   "source": [
    "mlflow.set_registry_uri(\"databricks-uc\")"
   ]
  },
  {
   "cell_type": "code",
   "execution_count": 0,
   "metadata": {
    "application/vnd.databricks.v1+cell": {
     "cellMetadata": {
      "byteLimit": 2048000,
      "rowLimit": 10000
     },
     "inputWidgets": {},
     "nuid": "959dbdb1-4e51-4096-8480-880e7810de29",
     "showTitle": false,
     "tableResultSettingsMap": {},
     "title": ""
    }
   },
   "outputs": [],
   "source": [
    "EXPERIMENT_NAME = \"random-forest-best-models\"\n",
    "RF_PARAMS = ['max_depth', 'n_estimators', 'min_samples_split', 'min_samples_leaf', 'random_state']\n",
    "mlflow.sklearn.autolog()"
   ]
  },
  {
   "cell_type": "code",
   "execution_count": 0,
   "metadata": {
    "application/vnd.databricks.v1+cell": {
     "cellMetadata": {
      "byteLimit": 2048000,
      "rowLimit": 10000
     },
     "inputWidgets": {},
     "nuid": "dc2c5d99-692a-4dd7-ad8d-a450074c4297",
     "showTitle": false,
     "tableResultSettingsMap": {},
     "title": ""
    }
   },
   "outputs": [
    {
     "output_type": "stream",
     "name": "stdout",
     "output_type": "stream",
     "text": [
      "[+] Data loaded\n[+] Training model\nFitting 5 folds for each of 5 candidates, totalling 25 fits\n"
     ]
    },
    {
     "output_type": "stream",
     "name": "stderr",
     "output_type": "stream",
     "text": [
      "2025/05/23 07:24:58 WARNING mlflow.utils.autologging_utils: MLflow autologging encountered a warning: \"/databricks/python/lib/python3.11/site-packages/_distutils_hack/__init__.py:31: UserWarning: Setuptools is replacing distutils. Support for replacing an already imported distutils is deprecated. In the future, this condition will fail. Register concerns at https://github.com/pypa/setuptools/issues/new?template=distutils-deprecation.yml\"\n2025/05/23 07:25:02 INFO mlflow.sklearn.utils: Logging the 5 best runs, no runs will be omitted.\n2025/05/23 07:25:08 WARNING mlflow.models.model: Model logged without a signature. Signatures will be required for upcoming model registry features as they validate model inputs and denote the expected schema of model outputs. Please visit https://www.mlflow.org/docs/2.11.4/models.html#set-signature-on-logged-model for instructions on setting a model signature on your logged model.\n"
     ]
    },
    {
     "output_type": "stream",
     "name": "stdout",
     "output_type": "stream",
     "text": [
      "[+] Model trained\n"
     ]
    }
   ],
   "source": [
    "# lets use Iris Data\n",
    "data = load_iris()\n",
    "X = data.data\n",
    "y = data.target\n",
    "print('[+] Data loaded')\n",
    "\n",
    "X_train, X_temp, y_train, y_temp = train_test_split(X, y, train_size=0.6) # Split train data 60%\n",
    "X_test, X_validation, y_test, y_validation = train_test_split(X_temp, y_temp, train_size=0.5) # Split train and test data to 20% and 20% of original dataset\n",
    "\n",
    "# Define the parameter space\n",
    "param_distributions = {\n",
    "    'n_estimators': [int(x) for x in np.linspace(start=100, stop=1000, num=10)],\n",
    "    'max_depth': [int(x) for x in np.linspace(10, 100, num=10)] + [None],\n",
    "    'min_samples_split': [2, 5, 10],\n",
    "    'min_samples_leaf': [1, 2, 4],\n",
    "    'random_state': [42]\n",
    "}\n",
    "print('[+] Training model')\n",
    "base_model = RandomForestRegressor()\n",
    "\n",
    "random_search = RandomizedSearchCV(\n",
    "    estimator=base_model,\n",
    "    param_distributions=param_distributions,\n",
    "    n_iter=5,\n",
    "    cv=5,\n",
    "    verbose=2,\n",
    "    random_state=42,\n",
    "    n_jobs=-1\n",
    ")\n",
    "\n",
    "with mlflow.start_run(run_name=\"random_search_optimization\"):\n",
    "    # Fit the random search\n",
    "    random_search.fit(X_train, y_train)\n",
    "\n",
    "    # Log the best parameters\n",
    "    mlflow.log_params(random_search.best_params_)\n",
    "\n",
    "    # Get predictions and log metrics for best model\n",
    "    val_predictions = random_search.predict(X_validation)\n",
    "    test_predictions = random_search.predict(X_test)\n",
    "\n",
    "    # Log validation and test metrics\n",
    "    val_rmse = mean_squared_error(y_validation, val_predictions, squared=False)\n",
    "    test_rmse = mean_squared_error(y_test, test_predictions, squared=False)\n",
    "\n",
    "    mlflow.log_metric(\"validation_rmse\", val_rmse)\n",
    "    mlflow.log_metric(\"test_rmse\", test_rmse)\n",
    "\n",
    "    # Log best score from CV\n",
    "    mlflow.log_metric(\"best_cv_score\", random_search.best_score_)\n",
    "\n",
    "    # Log the best model\n",
    "    mlflow.sklearn.log_model(random_search.best_estimator_, \"best_model\")\n",
    "\n",
    "    print('[+] Model trained')"
   ]
  }
 ],
 "metadata": {
  "application/vnd.databricks.v1+notebook": {
   "computePreferences": null,
   "dashboards": [],
   "environmentMetadata": {
    "base_environment": "",
    "environment_version": "2"
   },
   "inputWidgetPreferences": null,
   "language": "python",
   "notebookMetadata": {
    "pythonIndentUnit": 4
   },
   "notebookName": "MLflow Experiment",
   "widgets": {}
  },
  "language_info": {
   "name": "python"
  }
 },
 "nbformat": 4,
 "nbformat_minor": 0
}
{
 "cells": [
  {
   "metadata": {},
   "cell_type": "markdown",
   "source": [
    "Q1. Install MLflow\n",
    "Q: What's the version that you have?\n",
    "\n",
    "A: 2.22.0"
   ],
   "id": "2dec1cf0bd971dbb"
  },
  {
   "metadata": {
    "ExecuteTime": {
     "end_time": "2025-05-06T11:28:02.148704Z",
     "start_time": "2025-05-06T11:27:53.152999Z"
    }
   },
   "cell_type": "code",
   "source": "%pip install mlflow hyperopt",
   "id": "ff84942de9cfc05b",
   "outputs": [
    {
     "name": "stdout",
     "output_type": "stream",
     "text": [
      "Requirement already satisfied: mlflow in c:\\users\\tymur_hilfatullin\\projects\\generative-ai-with-llms\\.venv\\lib\\site-packages (2.22.0)\n",
      "Collecting hyperopt\n",
      "  Downloading hyperopt-0.2.7-py2.py3-none-any.whl.metadata (1.7 kB)\n",
      "Requirement already satisfied: mlflow-skinny==2.22.0 in c:\\users\\tymur_hilfatullin\\projects\\generative-ai-with-llms\\.venv\\lib\\site-packages (from mlflow) (2.22.0)\n",
      "Requirement already satisfied: Flask<4 in c:\\users\\tymur_hilfatullin\\projects\\generative-ai-with-llms\\.venv\\lib\\site-packages (from mlflow) (3.1.0)\n",
      "Requirement already satisfied: Jinja2<4,>=3.0 in c:\\users\\tymur_hilfatullin\\projects\\generative-ai-with-llms\\.venv\\lib\\site-packages (from mlflow) (3.1.6)\n",
      "Requirement already satisfied: alembic!=1.10.0,<2 in c:\\users\\tymur_hilfatullin\\projects\\generative-ai-with-llms\\.venv\\lib\\site-packages (from mlflow) (1.15.2)\n",
      "Requirement already satisfied: docker<8,>=4.0.0 in c:\\users\\tymur_hilfatullin\\projects\\generative-ai-with-llms\\.venv\\lib\\site-packages (from mlflow) (7.1.0)\n",
      "Requirement already satisfied: graphene<4 in c:\\users\\tymur_hilfatullin\\projects\\generative-ai-with-llms\\.venv\\lib\\site-packages (from mlflow) (3.4.3)\n",
      "Requirement already satisfied: markdown<4,>=3.3 in c:\\users\\tymur_hilfatullin\\projects\\generative-ai-with-llms\\.venv\\lib\\site-packages (from mlflow) (3.8)\n",
      "Requirement already satisfied: matplotlib<4 in c:\\users\\tymur_hilfatullin\\projects\\generative-ai-with-llms\\.venv\\lib\\site-packages (from mlflow) (3.10.1)\n",
      "Requirement already satisfied: numpy<3 in c:\\users\\tymur_hilfatullin\\projects\\generative-ai-with-llms\\.venv\\lib\\site-packages (from mlflow) (2.2.5)\n",
      "Requirement already satisfied: pandas<3 in c:\\users\\tymur_hilfatullin\\projects\\generative-ai-with-llms\\.venv\\lib\\site-packages (from mlflow) (2.2.3)\n",
      "Requirement already satisfied: pyarrow<20,>=4.0.0 in c:\\users\\tymur_hilfatullin\\projects\\generative-ai-with-llms\\.venv\\lib\\site-packages (from mlflow) (19.0.1)\n",
      "Requirement already satisfied: scikit-learn<2 in c:\\users\\tymur_hilfatullin\\projects\\generative-ai-with-llms\\.venv\\lib\\site-packages (from mlflow) (1.6.1)\n",
      "Requirement already satisfied: scipy<2 in c:\\users\\tymur_hilfatullin\\projects\\generative-ai-with-llms\\.venv\\lib\\site-packages (from mlflow) (1.15.2)\n",
      "Requirement already satisfied: sqlalchemy<3,>=1.4.0 in c:\\users\\tymur_hilfatullin\\projects\\generative-ai-with-llms\\.venv\\lib\\site-packages (from mlflow) (2.0.40)\n",
      "Requirement already satisfied: waitress<4 in c:\\users\\tymur_hilfatullin\\projects\\generative-ai-with-llms\\.venv\\lib\\site-packages (from mlflow) (3.0.2)\n",
      "Requirement already satisfied: cachetools<6,>=5.0.0 in c:\\users\\tymur_hilfatullin\\projects\\generative-ai-with-llms\\.venv\\lib\\site-packages (from mlflow-skinny==2.22.0->mlflow) (5.5.2)\n",
      "Requirement already satisfied: click<9,>=7.0 in c:\\users\\tymur_hilfatullin\\projects\\generative-ai-with-llms\\.venv\\lib\\site-packages (from mlflow-skinny==2.22.0->mlflow) (8.1.8)\n",
      "Requirement already satisfied: cloudpickle<4 in c:\\users\\tymur_hilfatullin\\projects\\generative-ai-with-llms\\.venv\\lib\\site-packages (from mlflow-skinny==2.22.0->mlflow) (3.1.1)\n",
      "Requirement already satisfied: databricks-sdk<1,>=0.20.0 in c:\\users\\tymur_hilfatullin\\projects\\generative-ai-with-llms\\.venv\\lib\\site-packages (from mlflow-skinny==2.22.0->mlflow) (0.52.0)\n",
      "Requirement already satisfied: fastapi<1 in c:\\users\\tymur_hilfatullin\\projects\\generative-ai-with-llms\\.venv\\lib\\site-packages (from mlflow-skinny==2.22.0->mlflow) (0.115.12)\n",
      "Requirement already satisfied: gitpython<4,>=3.1.9 in c:\\users\\tymur_hilfatullin\\projects\\generative-ai-with-llms\\.venv\\lib\\site-packages (from mlflow-skinny==2.22.0->mlflow) (3.1.44)\n",
      "Requirement already satisfied: importlib_metadata!=4.7.0,<9,>=3.7.0 in c:\\users\\tymur_hilfatullin\\projects\\generative-ai-with-llms\\.venv\\lib\\site-packages (from mlflow-skinny==2.22.0->mlflow) (8.6.1)\n",
      "Requirement already satisfied: opentelemetry-api<3,>=1.9.0 in c:\\users\\tymur_hilfatullin\\projects\\generative-ai-with-llms\\.venv\\lib\\site-packages (from mlflow-skinny==2.22.0->mlflow) (1.32.1)\n",
      "Requirement already satisfied: opentelemetry-sdk<3,>=1.9.0 in c:\\users\\tymur_hilfatullin\\projects\\generative-ai-with-llms\\.venv\\lib\\site-packages (from mlflow-skinny==2.22.0->mlflow) (1.32.1)\n",
      "Requirement already satisfied: packaging<25 in c:\\users\\tymur_hilfatullin\\projects\\generative-ai-with-llms\\.venv\\lib\\site-packages (from mlflow-skinny==2.22.0->mlflow) (24.2)\n",
      "Requirement already satisfied: protobuf<7,>=3.12.0 in c:\\users\\tymur_hilfatullin\\projects\\generative-ai-with-llms\\.venv\\lib\\site-packages (from mlflow-skinny==2.22.0->mlflow) (6.30.2)\n",
      "Requirement already satisfied: pydantic<3,>=1.10.8 in c:\\users\\tymur_hilfatullin\\projects\\generative-ai-with-llms\\.venv\\lib\\site-packages (from mlflow-skinny==2.22.0->mlflow) (2.11.4)\n",
      "Requirement already satisfied: pyyaml<7,>=5.1 in c:\\users\\tymur_hilfatullin\\projects\\generative-ai-with-llms\\.venv\\lib\\site-packages (from mlflow-skinny==2.22.0->mlflow) (6.0.2)\n",
      "Requirement already satisfied: requests<3,>=2.17.3 in c:\\users\\tymur_hilfatullin\\projects\\generative-ai-with-llms\\.venv\\lib\\site-packages (from mlflow-skinny==2.22.0->mlflow) (2.32.3)\n",
      "Requirement already satisfied: sqlparse<1,>=0.4.0 in c:\\users\\tymur_hilfatullin\\projects\\generative-ai-with-llms\\.venv\\lib\\site-packages (from mlflow-skinny==2.22.0->mlflow) (0.5.3)\n",
      "Requirement already satisfied: typing-extensions<5,>=4.0.0 in c:\\users\\tymur_hilfatullin\\projects\\generative-ai-with-llms\\.venv\\lib\\site-packages (from mlflow-skinny==2.22.0->mlflow) (4.13.2)\n",
      "Requirement already satisfied: uvicorn<1 in c:\\users\\tymur_hilfatullin\\projects\\generative-ai-with-llms\\.venv\\lib\\site-packages (from mlflow-skinny==2.22.0->mlflow) (0.34.2)\n",
      "Requirement already satisfied: six in c:\\users\\tymur_hilfatullin\\projects\\generative-ai-with-llms\\.venv\\lib\\site-packages (from hyperopt) (1.17.0)\n",
      "Collecting networkx>=2.2 (from hyperopt)\n",
      "  Downloading networkx-3.4.2-py3-none-any.whl.metadata (6.3 kB)\n",
      "Collecting future (from hyperopt)\n",
      "  Downloading future-1.0.0-py3-none-any.whl.metadata (4.0 kB)\n",
      "Collecting tqdm (from hyperopt)\n",
      "  Using cached tqdm-4.67.1-py3-none-any.whl.metadata (57 kB)\n",
      "Collecting py4j (from hyperopt)\n",
      "  Downloading py4j-0.10.9.9-py2.py3-none-any.whl.metadata (1.3 kB)\n",
      "Requirement already satisfied: Mako in c:\\users\\tymur_hilfatullin\\projects\\generative-ai-with-llms\\.venv\\lib\\site-packages (from alembic!=1.10.0,<2->mlflow) (1.3.10)\n",
      "Requirement already satisfied: pywin32>=304 in c:\\users\\tymur_hilfatullin\\projects\\generative-ai-with-llms\\.venv\\lib\\site-packages (from docker<8,>=4.0.0->mlflow) (310)\n",
      "Requirement already satisfied: urllib3>=1.26.0 in c:\\users\\tymur_hilfatullin\\projects\\generative-ai-with-llms\\.venv\\lib\\site-packages (from docker<8,>=4.0.0->mlflow) (2.4.0)\n",
      "Requirement already satisfied: Werkzeug>=3.1 in c:\\users\\tymur_hilfatullin\\projects\\generative-ai-with-llms\\.venv\\lib\\site-packages (from Flask<4->mlflow) (3.1.3)\n",
      "Requirement already satisfied: itsdangerous>=2.2 in c:\\users\\tymur_hilfatullin\\projects\\generative-ai-with-llms\\.venv\\lib\\site-packages (from Flask<4->mlflow) (2.2.0)\n",
      "Requirement already satisfied: blinker>=1.9 in c:\\users\\tymur_hilfatullin\\projects\\generative-ai-with-llms\\.venv\\lib\\site-packages (from Flask<4->mlflow) (1.9.0)\n",
      "Requirement already satisfied: graphql-core<3.3,>=3.1 in c:\\users\\tymur_hilfatullin\\projects\\generative-ai-with-llms\\.venv\\lib\\site-packages (from graphene<4->mlflow) (3.2.6)\n",
      "Requirement already satisfied: graphql-relay<3.3,>=3.1 in c:\\users\\tymur_hilfatullin\\projects\\generative-ai-with-llms\\.venv\\lib\\site-packages (from graphene<4->mlflow) (3.2.0)\n",
      "Requirement already satisfied: python-dateutil<3,>=2.7.0 in c:\\users\\tymur_hilfatullin\\projects\\generative-ai-with-llms\\.venv\\lib\\site-packages (from graphene<4->mlflow) (2.9.0.post0)\n",
      "Requirement already satisfied: MarkupSafe>=2.0 in c:\\users\\tymur_hilfatullin\\projects\\generative-ai-with-llms\\.venv\\lib\\site-packages (from Jinja2<4,>=3.0->mlflow) (3.0.2)\n",
      "Requirement already satisfied: contourpy>=1.0.1 in c:\\users\\tymur_hilfatullin\\projects\\generative-ai-with-llms\\.venv\\lib\\site-packages (from matplotlib<4->mlflow) (1.3.2)\n",
      "Requirement already satisfied: cycler>=0.10 in c:\\users\\tymur_hilfatullin\\projects\\generative-ai-with-llms\\.venv\\lib\\site-packages (from matplotlib<4->mlflow) (0.12.1)\n",
      "Requirement already satisfied: fonttools>=4.22.0 in c:\\users\\tymur_hilfatullin\\projects\\generative-ai-with-llms\\.venv\\lib\\site-packages (from matplotlib<4->mlflow) (4.57.0)\n",
      "Requirement already satisfied: kiwisolver>=1.3.1 in c:\\users\\tymur_hilfatullin\\projects\\generative-ai-with-llms\\.venv\\lib\\site-packages (from matplotlib<4->mlflow) (1.4.8)\n",
      "Requirement already satisfied: pillow>=8 in c:\\users\\tymur_hilfatullin\\projects\\generative-ai-with-llms\\.venv\\lib\\site-packages (from matplotlib<4->mlflow) (11.2.1)\n",
      "Requirement already satisfied: pyparsing>=2.3.1 in c:\\users\\tymur_hilfatullin\\projects\\generative-ai-with-llms\\.venv\\lib\\site-packages (from matplotlib<4->mlflow) (3.2.3)\n",
      "Requirement already satisfied: pytz>=2020.1 in c:\\users\\tymur_hilfatullin\\projects\\generative-ai-with-llms\\.venv\\lib\\site-packages (from pandas<3->mlflow) (2025.2)\n",
      "Requirement already satisfied: tzdata>=2022.7 in c:\\users\\tymur_hilfatullin\\projects\\generative-ai-with-llms\\.venv\\lib\\site-packages (from pandas<3->mlflow) (2025.2)\n",
      "Requirement already satisfied: joblib>=1.2.0 in c:\\users\\tymur_hilfatullin\\projects\\generative-ai-with-llms\\.venv\\lib\\site-packages (from scikit-learn<2->mlflow) (1.5.0)\n",
      "Requirement already satisfied: threadpoolctl>=3.1.0 in c:\\users\\tymur_hilfatullin\\projects\\generative-ai-with-llms\\.venv\\lib\\site-packages (from scikit-learn<2->mlflow) (3.6.0)\n",
      "Requirement already satisfied: greenlet>=1 in c:\\users\\tymur_hilfatullin\\projects\\generative-ai-with-llms\\.venv\\lib\\site-packages (from sqlalchemy<3,>=1.4.0->mlflow) (3.2.1)\n",
      "Requirement already satisfied: colorama in c:\\users\\tymur_hilfatullin\\projects\\generative-ai-with-llms\\.venv\\lib\\site-packages (from tqdm->hyperopt) (0.4.6)\n",
      "Requirement already satisfied: google-auth~=2.0 in c:\\users\\tymur_hilfatullin\\projects\\generative-ai-with-llms\\.venv\\lib\\site-packages (from databricks-sdk<1,>=0.20.0->mlflow-skinny==2.22.0->mlflow) (2.40.0)\n",
      "Requirement already satisfied: starlette<0.47.0,>=0.40.0 in c:\\users\\tymur_hilfatullin\\projects\\generative-ai-with-llms\\.venv\\lib\\site-packages (from fastapi<1->mlflow-skinny==2.22.0->mlflow) (0.46.2)\n",
      "Requirement already satisfied: gitdb<5,>=4.0.1 in c:\\users\\tymur_hilfatullin\\projects\\generative-ai-with-llms\\.venv\\lib\\site-packages (from gitpython<4,>=3.1.9->mlflow-skinny==2.22.0->mlflow) (4.0.12)\n",
      "Requirement already satisfied: zipp>=3.20 in c:\\users\\tymur_hilfatullin\\projects\\generative-ai-with-llms\\.venv\\lib\\site-packages (from importlib_metadata!=4.7.0,<9,>=3.7.0->mlflow-skinny==2.22.0->mlflow) (3.21.0)\n",
      "Requirement already satisfied: deprecated>=1.2.6 in c:\\users\\tymur_hilfatullin\\projects\\generative-ai-with-llms\\.venv\\lib\\site-packages (from opentelemetry-api<3,>=1.9.0->mlflow-skinny==2.22.0->mlflow) (1.2.18)\n",
      "Requirement already satisfied: opentelemetry-semantic-conventions==0.53b1 in c:\\users\\tymur_hilfatullin\\projects\\generative-ai-with-llms\\.venv\\lib\\site-packages (from opentelemetry-sdk<3,>=1.9.0->mlflow-skinny==2.22.0->mlflow) (0.53b1)\n",
      "Requirement already satisfied: annotated-types>=0.6.0 in c:\\users\\tymur_hilfatullin\\projects\\generative-ai-with-llms\\.venv\\lib\\site-packages (from pydantic<3,>=1.10.8->mlflow-skinny==2.22.0->mlflow) (0.7.0)\n",
      "Requirement already satisfied: pydantic-core==2.33.2 in c:\\users\\tymur_hilfatullin\\projects\\generative-ai-with-llms\\.venv\\lib\\site-packages (from pydantic<3,>=1.10.8->mlflow-skinny==2.22.0->mlflow) (2.33.2)\n",
      "Requirement already satisfied: typing-inspection>=0.4.0 in c:\\users\\tymur_hilfatullin\\projects\\generative-ai-with-llms\\.venv\\lib\\site-packages (from pydantic<3,>=1.10.8->mlflow-skinny==2.22.0->mlflow) (0.4.0)\n",
      "Requirement already satisfied: charset-normalizer<4,>=2 in c:\\users\\tymur_hilfatullin\\projects\\generative-ai-with-llms\\.venv\\lib\\site-packages (from requests<3,>=2.17.3->mlflow-skinny==2.22.0->mlflow) (3.4.2)\n",
      "Requirement already satisfied: idna<4,>=2.5 in c:\\users\\tymur_hilfatullin\\projects\\generative-ai-with-llms\\.venv\\lib\\site-packages (from requests<3,>=2.17.3->mlflow-skinny==2.22.0->mlflow) (3.10)\n",
      "Requirement already satisfied: certifi>=2017.4.17 in c:\\users\\tymur_hilfatullin\\projects\\generative-ai-with-llms\\.venv\\lib\\site-packages (from requests<3,>=2.17.3->mlflow-skinny==2.22.0->mlflow) (2025.4.26)\n",
      "Requirement already satisfied: h11>=0.8 in c:\\users\\tymur_hilfatullin\\projects\\generative-ai-with-llms\\.venv\\lib\\site-packages (from uvicorn<1->mlflow-skinny==2.22.0->mlflow) (0.16.0)\n",
      "Requirement already satisfied: wrapt<2,>=1.10 in c:\\users\\tymur_hilfatullin\\projects\\generative-ai-with-llms\\.venv\\lib\\site-packages (from deprecated>=1.2.6->opentelemetry-api<3,>=1.9.0->mlflow-skinny==2.22.0->mlflow) (1.17.2)\n",
      "Requirement already satisfied: smmap<6,>=3.0.1 in c:\\users\\tymur_hilfatullin\\projects\\generative-ai-with-llms\\.venv\\lib\\site-packages (from gitdb<5,>=4.0.1->gitpython<4,>=3.1.9->mlflow-skinny==2.22.0->mlflow) (5.0.2)\n",
      "Requirement already satisfied: pyasn1-modules>=0.2.1 in c:\\users\\tymur_hilfatullin\\projects\\generative-ai-with-llms\\.venv\\lib\\site-packages (from google-auth~=2.0->databricks-sdk<1,>=0.20.0->mlflow-skinny==2.22.0->mlflow) (0.4.2)\n",
      "Requirement already satisfied: rsa<5,>=3.1.4 in c:\\users\\tymur_hilfatullin\\projects\\generative-ai-with-llms\\.venv\\lib\\site-packages (from google-auth~=2.0->databricks-sdk<1,>=0.20.0->mlflow-skinny==2.22.0->mlflow) (4.9.1)\n",
      "Requirement already satisfied: anyio<5,>=3.6.2 in c:\\users\\tymur_hilfatullin\\projects\\generative-ai-with-llms\\.venv\\lib\\site-packages (from starlette<0.47.0,>=0.40.0->fastapi<1->mlflow-skinny==2.22.0->mlflow) (4.9.0)\n",
      "Requirement already satisfied: sniffio>=1.1 in c:\\users\\tymur_hilfatullin\\projects\\generative-ai-with-llms\\.venv\\lib\\site-packages (from anyio<5,>=3.6.2->starlette<0.47.0,>=0.40.0->fastapi<1->mlflow-skinny==2.22.0->mlflow) (1.3.1)\n",
      "Requirement already satisfied: pyasn1<0.7.0,>=0.6.1 in c:\\users\\tymur_hilfatullin\\projects\\generative-ai-with-llms\\.venv\\lib\\site-packages (from pyasn1-modules>=0.2.1->google-auth~=2.0->databricks-sdk<1,>=0.20.0->mlflow-skinny==2.22.0->mlflow) (0.6.1)\n",
      "Downloading hyperopt-0.2.7-py2.py3-none-any.whl (1.6 MB)\n",
      "   ---------------------------------------- 0.0/1.6 MB ? eta -:--:--\n",
      "   ---------------------------------------  1.6/1.6 MB 13.9 MB/s eta 0:00:01\n",
      "   ---------------------------------------- 1.6/1.6 MB 10.6 MB/s eta 0:00:00\n",
      "Downloading networkx-3.4.2-py3-none-any.whl (1.7 MB)\n",
      "   ---------------------------------------- 0.0/1.7 MB ? eta -:--:--\n",
      "   ---------------------------------------- 1.7/1.7 MB 10.4 MB/s eta 0:00:00\n",
      "Downloading future-1.0.0-py3-none-any.whl (491 kB)\n",
      "Downloading py4j-0.10.9.9-py2.py3-none-any.whl (203 kB)\n",
      "Using cached tqdm-4.67.1-py3-none-any.whl (78 kB)\n",
      "Installing collected packages: py4j, tqdm, networkx, future, hyperopt\n",
      "Successfully installed future-1.0.0 hyperopt-0.2.7 networkx-3.4.2 py4j-0.10.9.9 tqdm-4.67.1\n",
      "Note: you may need to restart the kernel to use updated packages.\n"
     ]
    },
    {
     "name": "stderr",
     "output_type": "stream",
     "text": [
      "\n",
      "[notice] A new release of pip is available: 25.0.1 -> 25.1.1\n",
      "[notice] To update, run: python.exe -m pip install --upgrade pip\n"
     ]
    }
   ],
   "execution_count": 18
  },
  {
   "metadata": {},
   "cell_type": "code",
   "outputs": [],
   "execution_count": null,
   "source": [
    "import mlflow\n",
    "print(mlflow.__version__)"
   ],
   "id": "c1523680ba49a2a9"
  },
  {
   "metadata": {},
   "cell_type": "markdown",
   "source": [
    "Q2. Download and preprocess the data\n",
    "\n",
    "Download the data for January, February and March 2023 in parquet format from here.\n",
    "Your task is to download the datasets and then execute this command:\n",
    "```python\n",
    "python preprocess_data.py --raw_data_path <TAXI_DATA_FOLDER> --dest_path ./output\n",
    "```\n",
    "\n",
    "Q: How many files were saved to OUTPUT_FOLDER?\n",
    "\n",
    "A: 4"
   ],
   "id": "1c80178db3f98207"
  },
  {
   "metadata": {
    "ExecuteTime": {
     "end_time": "2025-05-06T10:36:11.155735Z",
     "start_time": "2025-05-06T10:36:09.970306Z"
    }
   },
   "cell_type": "code",
   "source": "%run preprocess_data.py --raw_data_path taxi_data_folder --dest_path ./output",
   "id": "e31b5c29cf7f9e0d",
   "outputs": [],
   "execution_count": 9
  },
  {
   "metadata": {
    "ExecuteTime": {
     "end_time": "2025-05-06T10:37:24.397733Z",
     "start_time": "2025-05-06T10:37:24.388824Z"
    }
   },
   "cell_type": "code",
   "source": [
    "import os\n",
    "\n",
    "os.listdir('output')"
   ],
   "id": "3acd6456932ce928",
   "outputs": [
    {
     "data": {
      "text/plain": [
       "['dv.pkl', 'test.pkl', 'train.pkl', 'val.pkl']"
      ]
     },
     "execution_count": 10,
     "metadata": {},
     "output_type": "execute_result"
    }
   ],
   "execution_count": 10
  },
  {
   "metadata": {},
   "cell_type": "markdown",
   "source": [
    "Q3. Train a model with autolog\n",
    "\n",
    "Q: What is the value of the min_samples_split parameter ?\n",
    "\n",
    "A: 2"
   ],
   "id": "3487200cf73f3c20"
  },
  {
   "metadata": {
    "ExecuteTime": {
     "end_time": "2025-05-06T11:04:00.973844Z",
     "start_time": "2025-05-06T11:03:38.814027Z"
    }
   },
   "cell_type": "code",
   "source": [
    "import os\n",
    "import pickle\n",
    "import mlflow\n",
    "from sklearn.ensemble import RandomForestRegressor\n",
    "from sklearn.metrics import mean_squared_error\n",
    "\n",
    "def load_pickle(filename):\n",
    "    with open(filename, 'rb') as f:\n",
    "        return pickle.load(f)\n",
    "\n",
    "# Enable MLflow autologging for scikit-learn\n",
    "mlflow.sklearn.autolog()\n",
    "\n",
    "# Specify the path to your data files\n",
    "current_dir = os.path.dirname(os.path.abspath(os.curdir))\n",
    "output_dir = os.path.join(current_dir, 'homework', 'output')\n",
    "train_path = os.path.join(output_dir, 'train.pkl')\n",
    "val_path = os.path.join(output_dir, 'val.pkl')\n",
    "\n",
    "# Load the data\n",
    "X_train, y_train = load_pickle(train_path)\n",
    "X_val, y_val = load_pickle(val_path)\n",
    "\n",
    "# Train the model with MLflow tracking\n",
    "with mlflow.start_run():\n",
    "    rf = RandomForestRegressor(max_depth=10, random_state=0)\n",
    "    rf.fit(X_train, y_train)\n",
    "\n",
    "    # Make predictions\n",
    "    y_pred = rf.predict(X_val)\n",
    "\n",
    "    # Calculate RMSE\n",
    "    rmse = mean_squared_error(y_val, y_pred)\n",
    "    print(f'RMSE: {rmse}')"
   ],
   "id": "a01df3a51f83fc3f",
   "outputs": [
    {
     "name": "stdout",
     "output_type": "stream",
     "text": [
      "RMSE: 29.497522626996197\n"
     ]
    }
   ],
   "execution_count": 14
  },
  {
   "metadata": {
    "ExecuteTime": {
     "end_time": "2025-05-06T11:05:26.389131Z",
     "start_time": "2025-05-06T11:05:26.384974Z"
    }
   },
   "cell_type": "code",
   "source": "print(f\"min_samples_split value: {rf.min_samples_split}\")",
   "id": "70733035b4b0c162",
   "outputs": [
    {
     "name": "stdout",
     "output_type": "stream",
     "text": [
      "min_samples_split value: 2\n"
     ]
    }
   ],
   "execution_count": 15
  },
  {
   "metadata": {},
   "cell_type": "markdown",
   "source": [
    "Q4. Launch the tracking server locally\n",
    "Now we want to manage the entire lifecycle of our ML model. In this step, you'll need to launch a tracking server. This way we will also have access to the model registry.\n",
    "\n",
    "Your task is to:\n",
    "\n",
    "launch the tracking server on your local machine,\n",
    "select a SQLite db for the backend store and a folder called artifacts for the artifacts store.\n",
    "You should keep the tracking server running to work on the next two exercises that use the server.\n",
    "\n",
    "Q: In addition to backend-store-uri, what else do you need to pass to properly configure the server?\n",
    "\n",
    "A: - `default-artifact-root`\n"
   ],
   "id": "8c30b4a452f6dc91"
  },
  {
   "metadata": {},
   "cell_type": "markdown",
   "source": [
    "mlflow server \\\n",
    "    --backend-store-uri sqlite:///mlflow.db \\\n",
    "    --default-artifact-root ./artifacts \\\n",
    "    --host 0.0.0.0 \\\n",
    "    --port 5000"
   ],
   "id": "f8da3424b2ab2ba8"
  },
  {
   "metadata": {},
   "cell_type": "markdown",
   "source": [
    "Q5. Tune model hyperparameters\n",
    "Now let's try to reduce the validation error by tuning the hyperparameters of the RandomForestRegressor using hyperopt.\n",
    "\n",
    "We have prepared the script hpo.py for this exercise.\n",
    "\n",
    "Your task is to modify the script hpo.py and make sure that the validation RMSE is logged to the tracking server for each run of the hyperparameter optimization (you will need to add a few lines of code to the objective function) and run the script without passing any parameters.\n",
    "\n",
    "After that, open UI and explore the runs from the experiment called random-forest-hyperopt to answer the question below.\n",
    "\n",
    "Note: Don't use autologging for this exercise.\n",
    "\n",
    "The idea is to just log the information that you need to answer the question below, including:\n",
    "\n",
    "the list of hyperparameters that are passed to the objective function during the optimization,\n",
    "the RMSE obtained on the validation set (February 2023 data).\n",
    "\n",
    "Q: What's the best validation RMSE that you got?\n",
    "\n",
    "A: 28.258"
   ],
   "id": "b76060311953b45d"
  },
  {
   "metadata": {},
   "cell_type": "code",
   "source": "%run hpo_modified.py",
   "id": "843b22e17d9dd13f",
   "outputs": [],
   "execution_count": null
  },
  {
   "metadata": {},
   "cell_type": "markdown",
   "source": [
    "Q6. Promote the best model to the model registry\n",
    "The results from the hyperparameter optimization are quite good. So, we can assume that we are ready to test some of these models in production. In this exercise, you'll promote the best model to the model registry. We have prepared a script called register_model.py, which will check the results from the previous step and select the top 5 runs. After that, it will calculate the RMSE of those models on the test set (March 2023 data) and save the results to a new experiment called random-forest-best-models.\n",
    "\n",
    "Your task is to update the script register_model.py so that it selects the model with the lowest RMSE on the test set and registers it to the model registry.\n",
    "\n",
    "Tip 1: you can use the method search_runs from the MlflowClient to get the model with the lowest RMSE,\n",
    "\n",
    "Tip 2: to register the model you can use the method mlflow.register_model and you will need to pass the right model_uri in the form of a string that looks like this: \"runs:/<RUN_ID>/model\", and the name of the model (make sure to choose a good one!).\n",
    "\n",
    "Q: What is the test RMSE of the best model?\n",
    "\n",
    "A: 30.7931798953214"
   ],
   "id": "3132d754dafc0005"
  },
  {
   "metadata": {
    "ExecuteTime": {
     "end_time": "2025-05-06T13:03:16.542942Z",
     "start_time": "2025-05-06T13:03:14.232062Z"
    }
   },
   "cell_type": "code",
   "source": "%run register_model_modified.py",
   "id": "281cd64afc805b16",
   "outputs": [
    {
     "name": "stderr",
     "output_type": "stream",
     "text": [
      "2025/05/06 15:03:14 INFO mlflow.tracking.fluent: Experiment with name 'random-forest-best-models' does not exist. Creating a new experiment.\n",
      "Downloading artifacts: 100%|██████████| 5/5 [00:00<00:00, 16.66it/s]\n"
     ]
    },
    {
     "name": "stdout",
     "output_type": "stream",
     "text": [
      "🏃 View run abrasive-pug-191 at: http://127.0.0.1:5000/#/experiments/901281849889807915/runs/4a2fedfa92764dbfb40a5c47382550cd\n",
      "🧪 View experiment at: http://127.0.0.1:5000/#/experiments/901281849889807915\n"
     ]
    },
    {
     "name": "stderr",
     "output_type": "stream",
     "text": [
      "Downloading artifacts: 100%|██████████| 5/5 [00:00<00:00, 21.29it/s]\n"
     ]
    },
    {
     "name": "stdout",
     "output_type": "stream",
     "text": [
      "🏃 View run nosy-deer-873 at: http://127.0.0.1:5000/#/experiments/901281849889807915/runs/f16bad68d93f4deaa4de930a27155319\n",
      "🧪 View experiment at: http://127.0.0.1:5000/#/experiments/901281849889807915\n"
     ]
    },
    {
     "name": "stderr",
     "output_type": "stream",
     "text": [
      "Downloading artifacts: 100%|██████████| 5/5 [00:00<00:00, 34.52it/s]\n"
     ]
    },
    {
     "name": "stdout",
     "output_type": "stream",
     "text": [
      "🏃 View run useful-penguin-307 at: http://127.0.0.1:5000/#/experiments/901281849889807915/runs/b49a911b1b0041e4af36ce1387868777\n",
      "🧪 View experiment at: http://127.0.0.1:5000/#/experiments/901281849889807915\n"
     ]
    },
    {
     "name": "stderr",
     "output_type": "stream",
     "text": [
      "Downloading artifacts: 100%|██████████| 5/5 [00:00<00:00, 23.77it/s]\n"
     ]
    },
    {
     "name": "stdout",
     "output_type": "stream",
     "text": [
      "🏃 View run dazzling-mink-49 at: http://127.0.0.1:5000/#/experiments/901281849889807915/runs/0f31f1a404524760af28acdae8196124\n",
      "🧪 View experiment at: http://127.0.0.1:5000/#/experiments/901281849889807915\n"
     ]
    },
    {
     "name": "stderr",
     "output_type": "stream",
     "text": [
      "Downloading artifacts: 100%|██████████| 5/5 [00:00<00:00, 41.53it/s]\n",
      "Successfully registered model 'nyc-taxi-random-forest-regressor'.\n",
      "2025/05/06 15:03:16 INFO mlflow.store.model_registry.abstract_store: Waiting up to 300 seconds for model version to finish creation. Model name: nyc-taxi-random-forest-regressor, version 1\n"
     ]
    },
    {
     "name": "stdout",
     "output_type": "stream",
     "text": [
      "🏃 View run serious-bee-310 at: http://127.0.0.1:5000/#/experiments/901281849889807915/runs/19e271dea736483f9acd2400fd948ddd\n",
      "🧪 View experiment at: http://127.0.0.1:5000/#/experiments/901281849889807915\n",
      "Registered model with run_id: 0836093038934cae81734d5355112439\n",
      "Best test RMSE: 30.7931798953214\n"
     ]
    },
    {
     "name": "stderr",
     "output_type": "stream",
     "text": [
      "Created version '1' of model 'nyc-taxi-random-forest-regressor'.\n"
     ]
    }
   ],
   "execution_count": 30
  }
 ],
 "metadata": {
  "kernelspec": {
   "display_name": "Python 3",
   "language": "python",
   "name": "python3"
  },
  "language_info": {
   "codemirror_mode": {
    "name": "ipython",
    "version": 2
   },
   "file_extension": ".py",
   "mimetype": "text/x-python",
   "name": "python",
   "nbconvert_exporter": "python",
   "pygments_lexer": "ipython2",
   "version": "2.7.6"
  }
 },
 "nbformat": 4,
 "nbformat_minor": 5
}

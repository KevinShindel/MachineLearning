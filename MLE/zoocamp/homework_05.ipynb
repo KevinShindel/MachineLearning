{
 "cells": [
  {
   "metadata": {},
   "cell_type": "raw",
   "source": [
    "Q1. Prepare the dataset\n",
    "Start with baseline_model_nyc_taxi_data.ipynb.\n",
    " Download the March 2024 Green Taxi data.\n",
    "  We will use this data to simulate a production usage of a taxi trip duration prediction service.\n",
    "\n",
    "Q: What is the shape of the downloaded data? How many rows are there?\n",
    "\n",
    "A: 57457"
   ],
   "id": "68682944bc9aff40"
  },
  {
   "metadata": {
    "ExecuteTime": {
     "end_time": "2025-05-09T15:15:28.291757Z",
     "start_time": "2025-05-09T15:15:28.283884Z"
    }
   },
   "cell_type": "code",
   "source": "import pandas as pd",
   "id": "3599d5b24402857a",
   "outputs": [],
   "execution_count": 22
  },
  {
   "metadata": {
    "ExecuteTime": {
     "end_time": "2025-05-09T15:15:28.730468Z",
     "start_time": "2025-05-09T15:15:28.319256Z"
    }
   },
   "cell_type": "code",
   "source": [
    "# March 2024 Green Taxi data\n",
    "url = 'https://d37ci6vzurychx.cloudfront.net/trip-data/green_tripdata_2024-03.parquet'\n",
    "df = pd.read_parquet(url)"
   ],
   "id": "e5ea0c7a7edd74cd",
   "outputs": [],
   "execution_count": 23
  },
  {
   "metadata": {
    "ExecuteTime": {
     "end_time": "2025-05-09T15:15:28.752903Z",
     "start_time": "2025-05-09T15:15:28.747509Z"
    }
   },
   "cell_type": "code",
   "source": "len(df)",
   "id": "bf74800dc72accff",
   "outputs": [
    {
     "data": {
      "text/plain": [
       "57457"
      ]
     },
     "execution_count": 24,
     "metadata": {},
     "output_type": "execute_result"
    }
   ],
   "execution_count": 24
  },
  {
   "metadata": {},
   "cell_type": "markdown",
   "source": [
    "Q2. Metric\n",
    "Let's expand the number of data quality metrics we’d like to monitor!\n",
    "Please add one metric of your choice and a quantile value for the \"fare_amount\" column (quantile=0.5).\n",
    "\n",
    "Hint: explore evidently metric ColumnQuantileMetric (from evidently.metrics import ColumnQuantileMetric)\n",
    "\n",
    "Q: What metric did you choose?\n",
    "\n",
    "A: df.quantile"
   ],
   "id": "9c4c4d35f9cb2ca0"
  },
  {
   "metadata": {
    "ExecuteTime": {
     "end_time": "2025-05-09T15:15:28.798709Z",
     "start_time": "2025-05-09T15:15:28.784056Z"
    }
   },
   "cell_type": "code",
   "source": [
    "quantile_50 = df['fare_amount'].quantile(0.5)\n",
    "quantile_50"
   ],
   "id": "7fa48c8ad1dbda67",
   "outputs": [
    {
     "data": {
      "text/plain": [
       "np.float64(13.5)"
      ]
     },
     "execution_count": 25,
     "metadata": {},
     "output_type": "execute_result"
    }
   ],
   "execution_count": 25
  },
  {
   "metadata": {},
   "cell_type": "markdown",
   "source": [
    "Q3. Monitoring\n",
    "Let’s start monitoring. Run expanded monitoring for a new batch of data (March 2024).\n",
    "\n",
    "Q: What is the maximum value of metric quantile = 0.5 on the \"fare_amount\" column during March 2024 (calculated daily)?\n",
    "\n",
    "A: 13.5"
   ],
   "id": "a472d0e30d0ebb6b"
  },
  {
   "metadata": {},
   "cell_type": "markdown",
   "source": [
    "Q4. Dashboard\n",
    "Finally, let’s add panels with new added metrics to the dashboard. After we customize the dashboard let's save a dashboard config, so that we can access it later. Hint: click on “Save dashboard” to access JSON configuration of the dashboard. This configuration should be saved locally.\n",
    "\n",
    "Q: Where to place a dashboard config file?\n",
    "\n",
    "A: (05-monitoring/config)"
   ],
   "id": "a1bbe8083b2b8938"
  }
 ],
 "metadata": {
  "kernelspec": {
   "display_name": "Python 3",
   "language": "python",
   "name": "python3"
  },
  "language_info": {
   "codemirror_mode": {
    "name": "ipython",
    "version": 2
   },
   "file_extension": ".py",
   "mimetype": "text/x-python",
   "name": "python",
   "nbconvert_exporter": "python",
   "pygments_lexer": "ipython2",
   "version": "2.7.6"
  }
 },
 "nbformat": 4,
 "nbformat_minor": 5
}

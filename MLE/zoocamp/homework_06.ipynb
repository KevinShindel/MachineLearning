{
 "cells": [
  {
   "metadata": {},
   "cell_type": "markdown",
   "source": [
    "Q2. Installing pytest\n",
    "\n",
    "Next, create a folder tests and create two files. One will be the file with tests. We can name it test_batch.py.\n",
    "\n",
    "Q: What should be the other file?\n",
    "\n",
    "A: 1. `__init__.py` - empty file to make imports possible"
   ],
   "id": "f74573af275b80d7"
  },
  {
   "metadata": {},
   "cell_type": "markdown",
   "source": [
    "Q3. Writing first unit test\n",
    "Now let's cover our code with unit tests.\n",
    "\n",
    "Q: How many rows should be there in the expected dataframe?\n",
    "\n",
    "A: 4"
   ],
   "id": "584507e0956d1513"
  },
  {
   "metadata": {},
   "cell_type": "markdown",
   "source": [
    "Q4. Mocking S3 with Localstack\n",
    "\n",
    "Q: In both cases we should adjust commands for localstack. What option do we need to use for such purposes?\n",
    "\n",
    "A: --endpoint-url\n"
   ],
   "id": "5756e317eeb820bb"
  },
  {
   "metadata": {},
   "cell_type": "markdown",
   "source": [
    "Q5. Creating test data\n",
    "Q: What's the size of the file?\n",
    "\n",
    "A: 3620"
   ],
   "id": "5097ed6cf5ec1c94"
  },
  {
   "metadata": {},
   "cell_type": "markdown",
   "source": [
    "Q6. Finish the integration test\n",
    "We can read from our localstack s3, but we also need to write to it.\n",
    "\n",
    "Q: What's the sum of predicted durations for the test dataframe?\n",
    "\n",
    "A: 13.08"
   ],
   "id": "fe19e77a1bfad232"
  }
 ],
 "metadata": {
  "kernelspec": {
   "display_name": "Python 3",
   "language": "python",
   "name": "python3"
  },
  "language_info": {
   "codemirror_mode": {
    "name": "ipython",
    "version": 2
   },
   "file_extension": ".py",
   "mimetype": "text/x-python",
   "name": "python",
   "nbconvert_exporter": "python",
   "pygments_lexer": "ipython2",
   "version": "2.7.6"
  }
 },
 "nbformat": 4,
 "nbformat_minor": 5
}

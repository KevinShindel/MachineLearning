{
 "cells": [
  {
   "metadata": {},
   "cell_type": "markdown",
   "source": [
    "Question 1. Run Mage\n",
    "\n",
    "A: 0.9.70"
   ],
   "id": "120f92a50719c38f"
  },
  {
   "metadata": {},
   "cell_type": "markdown",
   "source": [
    "Question 2. Creating a project\n",
    "Now let's create a new project. We can call it \"homework_03\", for example.\n",
    "\n",
    "Q: How many lines are in the created metadata.yaml file?\n",
    "\n",
    "A: 55"
   ],
   "id": "10a996764b6f16da"
  },
  {
   "metadata": {},
   "cell_type": "markdown",
   "source": [
    "Question 3. Creating a pipeline\n",
    "Q: Let's create an ingestion code block. In this block, we will read the March 2023 Yellow taxi trips data. How many records did we load?\n",
    "\n",
    "A: 3403766"
   ],
   "id": "c56d80e0a2853bad"
  },
  {
   "metadata": {},
   "cell_type": "markdown",
   "source": [
    "Question 4. Data preparation\n",
    "Q: What's the size of the result?\n",
    "\n",
    "A : 3316216"
   ],
   "id": "c9b4e0f0e06484e2"
  },
  {
   "metadata": {},
   "cell_type": "markdown",
   "source": [
    "Question 5. Train a model\n",
    "\n",
    "Q: What's the intercept of the model?\n",
    "\n",
    "A: 24.77"
   ],
   "id": "fbfe24a881840397"
  },
  {
   "metadata": {},
   "cell_type": "markdown",
   "source": [
    "Question 6. Register the model\n",
    "\n",
    "Q: Find the logged model, and find MLModel file. What's the size of the model? (model_size_bytes field)\n",
    "\n",
    "A: 4534"
   ],
   "id": "8603c26f28d7b80"
  }
 ],
 "metadata": {
  "kernelspec": {
   "display_name": "Python 3",
   "language": "python",
   "name": "python3"
  },
  "language_info": {
   "codemirror_mode": {
    "name": "ipython",
    "version": 2
   },
   "file_extension": ".py",
   "mimetype": "text/x-python",
   "name": "python",
   "nbconvert_exporter": "python",
   "pygments_lexer": "ipython2",
   "version": "2.7.6"
  }
 },
 "nbformat": 4,
 "nbformat_minor": 5
}

{
 "cells": [
  {
   "metadata": {},
   "cell_type": "markdown",
   "source": [
    "# Deploying Azure Container Apps using GitHub Actions\n",
    "This guide provides step-by-step instructions for deploying Azure Container Apps using GitHub Actions."
   ],
   "id": "466071912689d210"
  },
  {
   "metadata": {},
   "cell_type": "markdown",
   "source": [
    "## Prerequisites\n",
    "Before starting, ensure you have:\n",
    "- An Azure account with an active subscription\n",
    "- GitHub account\n",
    "- Azure Container Registry (ACR)\n",
    "- Azure Container Apps environment\n",
    "- Required Azure permissions\n",
    "- Docker installed locally\n",
    "- Azure CLI installed"
   ],
   "id": "b3242390c5860611"
  },
  {
   "metadata": {},
   "cell_type": "markdown",
   "source": [
    "## Step 1: Local Development and Testing\n",
    "First, let's test our application locally using Docker:\n",
    "\n",
    "1. Build the Docker image:\n",
    "```bash\n",
    "# Build the image\n",
    "docker build -t myapp:latest .\n",
    "\n",
    "# Verify the image was created\n",
    "docker images | grep myapp\n",
    "```"
   ],
   "id": "cb87811b3c4a722d"
  },
  {
   "metadata": {},
   "cell_type": "markdown",
   "source": [
    "\n",
    "2. Run the container locally:\n",
    "\n",
    "```\n",
    "docker run -p 8000:8000 myapp:latest\n",
    "```"
   ],
   "id": "631ef151cdc9f5b6"
  },
  {
   "metadata": {},
   "cell_type": "markdown",
   "source": [
    "\n",
    "3. Test the container:\n",
    "```bash\n",
    "# Test the application\n",
    "curl http://localhost:8000\n",
    "\n",
    "# Stop the container when done\n",
    "docker stop myapp-container\n",
    "docker rm myapp-container\n",
    "```"
   ],
   "id": "f4a584362f20a58d"
  },
  {
   "metadata": {},
   "cell_type": "markdown",
   "source": [
    "\n",
    "\n",
    "```md\n",
    "## Step 2: Azure Setup and Configuration\n",
    "Let's set up our Azure resources. Here are the commands with examples:\n",
    "\n",
    "```bash\n",
    "# Login to Azure\n",
    "az login\n",
    "\n",
    "# Create resource group\n",
    "az group create --name myapp-rg --location eastus\n",
    "\n",
    "# Create ACR\n",
    "az acr create --resource-group myapp-rg --name myappcr --sku Basic\n",
    "\n",
    "# Enable admin account\n",
    "az acr update -n myappcr --admin-enabled true\n",
    "\n",
    "# Get ACR credentials\n",
    "az acr credential show --name myappcr\n",
    "```\n",
    "```\n",
    "\n",
    "```md\n",
    "## Step 3: GitHub Repository Setup\n",
    "\n",
    "1. Initialize git and push code:\n",
    "```bash\n",
    "git init\n",
    "git add .\n",
    "git commit -m \"Initial commit\"\n",
    "git remote add origin https://github.com/yourusername/your-repo.git\n",
    "git push -u origin main\n",
    "```\n",
    "\n",
    "2. Required GitHub secrets:\n",
    "- AZURE_CREDENTIALS\n",
    "- REGISTRY_LOGIN_SERVER\n",
    "- REGISTRY_USERNAME\n",
    "- REGISTRY_PASSWORD\n",
    "```"
   ],
   "id": "7d0fd3918c348e3"
  }
 ],
 "metadata": {
  "kernelspec": {
   "display_name": "Python 3",
   "language": "python",
   "name": "python3"
  },
  "language_info": {
   "codemirror_mode": {
    "name": "ipython",
    "version": 2
   },
   "file_extension": ".py",
   "mimetype": "text/x-python",
   "name": "python",
   "nbconvert_exporter": "python",
   "pygments_lexer": "ipython2",
   "version": "2.7.6"
  }
 },
 "nbformat": 4,
 "nbformat_minor": 5
}

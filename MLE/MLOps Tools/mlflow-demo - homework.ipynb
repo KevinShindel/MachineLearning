{
 "cells": [
  {
   "metadata": {},
   "cell_type": "markdown",
   "source": [
    "```shell\n",
    "mlflow server --backend-store-uri sqlite:///mlflow.db --default-artifact-root ./mlruns --host 127.0.0.1:5000\n",
    "```"
   ],
   "id": "2c7ad00f62b8df74"
  },
  {
   "metadata": {},
   "cell_type": "markdown",
   "source": [
    "```shell\n",
    "python ./serve/log_model.py\n",
    "```"
   ],
   "id": "5edbffd7b125e27c"
  },
  {
   "metadata": {},
   "cell_type": "markdown",
   "source": [
    "```shell\n",
    "mlflow models serve -m serve/mlruns/0/07fa09e0181041369971fdcfc0f94676/artifacts/model -p 5001 --no-conda\n",
    "```"
   ],
   "id": "d48a81e62276b184"
  },
  {
   "metadata": {},
   "cell_type": "markdown",
   "source": [
    "```shell\n",
    "curl -X POST -H \"Content-Type: application/json\" -d \"{\\\"inputs\\\": [\\\"Today is a perfect day to practice automation skills\\\"]}\" http://127.0.0.1:5001/invocations\n",
    "```\n",
    "\n",
    "```json\n",
    "{\"predictions\": \"Text 0 Heute ist ein perfekter Tag, um Automatisierung zu praktizieren\"}\n",
    "```\n"
   ],
   "id": "fa414e0d376235e"
  },
  {
   "metadata": {},
   "cell_type": "markdown",
   "source": "",
   "id": "ca141d36b68b828"
  }
 ],
 "metadata": {
  "kernelspec": {
   "display_name": "Python 3",
   "language": "python",
   "name": "python3"
  },
  "language_info": {
   "codemirror_mode": {
    "name": "ipython",
    "version": 2
   },
   "file_extension": ".py",
   "mimetype": "text/x-python",
   "name": "python",
   "nbconvert_exporter": "python",
   "pygments_lexer": "ipython2",
   "version": "2.7.6"
  }
 },
 "nbformat": 4,
 "nbformat_minor": 5
}

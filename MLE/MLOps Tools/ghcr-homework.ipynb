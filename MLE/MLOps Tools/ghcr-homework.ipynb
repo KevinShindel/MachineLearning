{
 "cells": [
  {
   "metadata": {},
   "cell_type": "markdown",
   "source": [
    "Content of *requirements.txt*\n",
    "```text\n",
    "transformers==4.20.1\n",
    "tensorflow==2.9.1\n",
    "fastapi==0.78.0\n",
    "uvicorn[standard]\n",
    "```"
   ],
   "id": "18be4f12399cd97f"
  },
  {
   "metadata": {},
   "cell_type": "markdown",
   "source": [
    "Content of Dockerfile\n",
    "\n",
    "```dockerfile\n",
    "FROM python:3.8\n",
    "\n",
    "COPY ./requirements.txt /webapp/requirements.txt\n",
    "\n",
    "WORKDIR /webapp\n",
    "\n",
    "RUN pip install -r requirements.txt\n",
    "\n",
    "COPY webapp/* /webapp\n",
    "\n",
    "ENTRYPOINT [ \"uvicorn\" ]\n",
    "\n",
    "CMD [ \"--host\", \"0.0.0.0\", \"main:app\" ]\n",
    "```"
   ],
   "id": "b351edf267b7fc14"
  },
  {
   "metadata": {},
   "cell_type": "markdown",
   "source": [
    "Build docker image\n",
    "\n",
    "```shell\n",
    "docker build -t local-fastapi .\n",
    "```"
   ],
   "id": "2c1825b47fe6cd26"
  },
  {
   "metadata": {},
   "cell_type": "markdown",
   "source": [
    "Run docker image\n",
    "```shell\n",
    "docker run -p 8000:8000 local-fastapi\n",
    "```"
   ],
   "id": "757a89108a52c78c"
  },
  {
   "metadata": {},
   "cell_type": "markdown",
   "source": [
    "Try API:\n",
    "\n",
    "```shell\n",
    "curl -X 'POST' '127.0.0.1/generate' -H 'accept: application/json' -H 'Content-Type: application/json' -d '{\"text\": \"container technology is very\"}'\n",
    "```\n",
    "\n",
    "Response:\n",
    "```text\n",
    "{\n",
    "\"generated_text\" : \"container technology is very hard to explain ith some terms. It's hard to describe because so much energy to do any of that stuff without completely breaking\n",
    " down\"\n",
    "}\n",
    "```"
   ],
   "id": "9201df03e2882936"
  },
  {
   "metadata": {},
   "cell_type": "markdown",
   "source": [
    "Set-Up GitHub workflow\n",
    "\n",
    "![Workflow](https://i.postimg.cc/4yVLWsvC/github-1.png)\n",
    "![Workflow2](https://i.postimg.cc/9FB10xJB/Screenshot-2025-05-16-094244.png)\n",
    "![Workflow3](https://i.postimg.cc/nhRkYX8j/Screenshot-2025-05-16-094157.png)"
   ],
   "id": "d689af0d07aee7c9"
  },
  {
   "metadata": {},
   "cell_type": "markdown",
   "source": "",
   "id": "66a953678bb2bd66"
  }
 ],
 "metadata": {
  "kernelspec": {
   "display_name": "Python 3",
   "language": "python",
   "name": "python3"
  },
  "language_info": {
   "codemirror_mode": {
    "name": "ipython",
    "version": 2
   },
   "file_extension": ".py",
   "mimetype": "text/x-python",
   "name": "python",
   "nbconvert_exporter": "python",
   "pygments_lexer": "ipython2",
   "version": "2.7.6"
  }
 },
 "nbformat": 4,
 "nbformat_minor": 5
}

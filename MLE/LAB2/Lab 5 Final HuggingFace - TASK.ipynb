{
 "cells": [
  {
   "metadata": {},
   "cell_type": "markdown",
   "source": "# Lab: Hugging Face and Gradio Web Applications Reflections",
   "id": "ff033fbf11ddcbaa"
  },
  {
   "metadata": {},
   "cell_type": "markdown",
   "source": [
    "## Task A Reflection\n",
    "Why does a web framework like Gradio help build machine learning solutions faster?\n",
    "\n",
    "Gradio helps build ML solutions faster because:\n",
    "1. It provides a rapid prototyping environment with minimal code\n",
    "2. Creates interactive web interfaces automatically\n",
    "3. Handles input/output processing without additional coding\n",
    "4. Supports multiple input/output types (text, images, audio, etc.)\n",
    "5. Easy integration with ML models\n",
    "6. No front-end development knowledge required\n",
    "7. Instant deployment capabilities"
   ],
   "id": "98a29c6cd8aa12b4"
  },
  {
   "metadata": {},
   "cell_type": "markdown",
   "source": [
    "## Task B Reflection\n",
    "How does the prediction change when you type more or less of the document?\n",
    "\n",
    "The summarization model's predictions can vary based on input length:\n",
    "1. With shorter texts: The summary tends to be more concise and may miss some details\n",
    "2. With longer texts: The model captures more key points but might focus on the most prominent themes\n",
    "3. Very long texts might get truncated due to model's maximum input length limitations\n",
    "4. The quality of summarization generally improves with more context, up to a certain"
   ],
   "id": "95aeccfa4e0556f9"
  },
  {
   "metadata": {},
   "cell_type": "code",
   "outputs": [],
   "execution_count": null,
   "source": [
    "# Example of running the calculator app\n",
    "from mylib.calculator import add\n",
    "\n",
    "result = add(5, 3)\n",
    "print(f\"Testing calculator: 5 + 3 = {result}\")"
   ],
   "id": "7c0e86bd32f402ae"
  },
  {
   "metadata": {},
   "cell_type": "markdown",
   "source": [
    "## Task C & D Notes\n",
    "- Task C involves running load_model.py to understand customization of summarization applications\n",
    "- Task D requires building a CLI tool using click framework"
   ],
   "id": "9ff4d1265fcc33a"
  },
  {
   "metadata": {},
   "cell_type": "code",
   "outputs": [],
   "execution_count": null,
   "source": [
    "import click\n",
    "\n",
    "@click.command()\n",
    "@click.argument('text')\n",
    "def summarize(text):\n",
    "    \"\"\"Summarize the given text.\"\"\"\n",
    "    print(f\"Would summarize: {text[:50]}...\")\n",
    "\n",
    "if __name__ == '__main__':\n",
    "    summarize()"
   ],
   "id": "f094e958ebd2bc16"
  }
 ],
 "metadata": {
  "kernelspec": {
   "display_name": "Python 3",
   "language": "python",
   "name": "python3"
  },
  "language_info": {
   "codemirror_mode": {
    "name": "ipython",
    "version": 2
   },
   "file_extension": ".py",
   "mimetype": "text/x-python",
   "name": "python",
   "nbconvert_exporter": "python",
   "pygments_lexer": "ipython2",
   "version": "2.7.6"
  }
 },
 "nbformat": 4,
 "nbformat_minor": 5
}
